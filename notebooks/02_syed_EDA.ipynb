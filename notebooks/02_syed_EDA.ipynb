{
 "cells": [
  {
   "cell_type": "markdown",
   "id": "7217f641",
   "metadata": {},
   "source": [
    "## EDA and Data preprocessing"
   ]
  },
  {
   "cell_type": "code",
   "execution_count": 2,
   "id": "901eb921",
   "metadata": {},
   "outputs": [],
   "source": [
    "# importing required libraries\n",
    "import pandas as pd\n",
    "import numpy as np\n",
    "import matplotlib.pyplot as plt\n",
    "import seaborn as sns"
   ]
  },
  {
   "cell_type": "code",
   "execution_count": 3,
   "id": "f7db2246",
   "metadata": {},
   "outputs": [],
   "source": [
    "#this is the path to the dataset in local system\n",
    "path = \"/Users/syedfaquaruddinquadri/Documents/Applied ML and DM/Final Project/archive\""
   ]
  },
  {
   "cell_type": "markdown",
   "id": "f54a7fdc",
   "metadata": {},
   "source": [
    "###  Exploring Business data"
   ]
  },
  {
   "cell_type": "code",
   "execution_count": 4,
   "id": "9fde4518",
   "metadata": {},
   "outputs": [],
   "source": [
    "#converting business csv into dataframe\n",
    "df = pd.read_csv(path+\"/business_data.csv\")"
   ]
  },
  {
   "cell_type": "code",
   "execution_count": 5,
   "id": "c75ef8cb",
   "metadata": {},
   "outputs": [
    {
     "data": {
      "text/html": [
       "<div>\n",
       "<style scoped>\n",
       "    .dataframe tbody tr th:only-of-type {\n",
       "        vertical-align: middle;\n",
       "    }\n",
       "\n",
       "    .dataframe tbody tr th {\n",
       "        vertical-align: top;\n",
       "    }\n",
       "\n",
       "    .dataframe thead th {\n",
       "        text-align: right;\n",
       "    }\n",
       "</style>\n",
       "<table border=\"1\" class=\"dataframe\">\n",
       "  <thead>\n",
       "    <tr style=\"text-align: right;\">\n",
       "      <th></th>\n",
       "      <th>business_id</th>\n",
       "      <th>name</th>\n",
       "      <th>address</th>\n",
       "      <th>city</th>\n",
       "      <th>state</th>\n",
       "      <th>postal_code</th>\n",
       "      <th>latitude</th>\n",
       "      <th>longitude</th>\n",
       "      <th>stars</th>\n",
       "      <th>review_count</th>\n",
       "      <th>is_open</th>\n",
       "      <th>attributes</th>\n",
       "      <th>categories</th>\n",
       "      <th>hours</th>\n",
       "    </tr>\n",
       "  </thead>\n",
       "  <tbody>\n",
       "    <tr>\n",
       "      <th>0</th>\n",
       "      <td>Pns2l4eNsfO8kk83dixA6A</td>\n",
       "      <td>Abby Rappoport, LAC, CMQ</td>\n",
       "      <td>1616 Chapala St, Ste 2</td>\n",
       "      <td>Santa Barbara</td>\n",
       "      <td>CA</td>\n",
       "      <td>93101</td>\n",
       "      <td>34.426679</td>\n",
       "      <td>-119.711197</td>\n",
       "      <td>5.0</td>\n",
       "      <td>7</td>\n",
       "      <td>0</td>\n",
       "      <td>{'ByAppointmentOnly': 'True'}</td>\n",
       "      <td>Doctors, Traditional Chinese Medicine, Naturop...</td>\n",
       "      <td>NaN</td>\n",
       "    </tr>\n",
       "    <tr>\n",
       "      <th>1</th>\n",
       "      <td>mpf3x-BjTdTEA3yCZrAYPw</td>\n",
       "      <td>The UPS Store</td>\n",
       "      <td>87 Grasso Plaza Shopping Center</td>\n",
       "      <td>Affton</td>\n",
       "      <td>MO</td>\n",
       "      <td>63123</td>\n",
       "      <td>38.551126</td>\n",
       "      <td>-90.335695</td>\n",
       "      <td>3.0</td>\n",
       "      <td>15</td>\n",
       "      <td>1</td>\n",
       "      <td>{'BusinessAcceptsCreditCards': 'True'}</td>\n",
       "      <td>Shipping Centers, Local Services, Notaries, Ma...</td>\n",
       "      <td>{'Monday': '0:0-0:0', 'Tuesday': '8:0-18:30', ...</td>\n",
       "    </tr>\n",
       "    <tr>\n",
       "      <th>2</th>\n",
       "      <td>tUFrWirKiKi_TAnsVWINQQ</td>\n",
       "      <td>Target</td>\n",
       "      <td>5255 E Broadway Blvd</td>\n",
       "      <td>Tucson</td>\n",
       "      <td>AZ</td>\n",
       "      <td>85711</td>\n",
       "      <td>32.223236</td>\n",
       "      <td>-110.880452</td>\n",
       "      <td>3.5</td>\n",
       "      <td>22</td>\n",
       "      <td>0</td>\n",
       "      <td>{'BikeParking': 'True', 'BusinessAcceptsCredit...</td>\n",
       "      <td>Department Stores, Shopping, Fashion, Home &amp; G...</td>\n",
       "      <td>{'Monday': '8:0-22:0', 'Tuesday': '8:0-22:0', ...</td>\n",
       "    </tr>\n",
       "    <tr>\n",
       "      <th>3</th>\n",
       "      <td>MTSW4McQd7CbVtyjqoe9mw</td>\n",
       "      <td>St Honore Pastries</td>\n",
       "      <td>935 Race St</td>\n",
       "      <td>Philadelphia</td>\n",
       "      <td>PA</td>\n",
       "      <td>19107</td>\n",
       "      <td>39.955505</td>\n",
       "      <td>-75.155564</td>\n",
       "      <td>4.0</td>\n",
       "      <td>80</td>\n",
       "      <td>1</td>\n",
       "      <td>{'RestaurantsDelivery': 'False', 'OutdoorSeati...</td>\n",
       "      <td>Restaurants, Food, Bubble Tea, Coffee &amp; Tea, B...</td>\n",
       "      <td>{'Monday': '7:0-20:0', 'Tuesday': '7:0-20:0', ...</td>\n",
       "    </tr>\n",
       "    <tr>\n",
       "      <th>4</th>\n",
       "      <td>mWMc6_wTdE0EUBKIGXDVfA</td>\n",
       "      <td>Perkiomen Valley Brewery</td>\n",
       "      <td>101 Walnut St</td>\n",
       "      <td>Green Lane</td>\n",
       "      <td>PA</td>\n",
       "      <td>18054</td>\n",
       "      <td>40.338183</td>\n",
       "      <td>-75.471659</td>\n",
       "      <td>4.5</td>\n",
       "      <td>13</td>\n",
       "      <td>1</td>\n",
       "      <td>{'BusinessAcceptsCreditCards': 'True', 'Wheelc...</td>\n",
       "      <td>Brewpubs, Breweries, Food</td>\n",
       "      <td>{'Wednesday': '14:0-22:0', 'Thursday': '16:0-2...</td>\n",
       "    </tr>\n",
       "  </tbody>\n",
       "</table>\n",
       "</div>"
      ],
      "text/plain": [
       "              business_id                      name  \\\n",
       "0  Pns2l4eNsfO8kk83dixA6A  Abby Rappoport, LAC, CMQ   \n",
       "1  mpf3x-BjTdTEA3yCZrAYPw             The UPS Store   \n",
       "2  tUFrWirKiKi_TAnsVWINQQ                    Target   \n",
       "3  MTSW4McQd7CbVtyjqoe9mw        St Honore Pastries   \n",
       "4  mWMc6_wTdE0EUBKIGXDVfA  Perkiomen Valley Brewery   \n",
       "\n",
       "                           address           city state postal_code  \\\n",
       "0           1616 Chapala St, Ste 2  Santa Barbara    CA       93101   \n",
       "1  87 Grasso Plaza Shopping Center         Affton    MO       63123   \n",
       "2             5255 E Broadway Blvd         Tucson    AZ       85711   \n",
       "3                      935 Race St   Philadelphia    PA       19107   \n",
       "4                    101 Walnut St     Green Lane    PA       18054   \n",
       "\n",
       "    latitude   longitude  stars  review_count  is_open  \\\n",
       "0  34.426679 -119.711197    5.0             7        0   \n",
       "1  38.551126  -90.335695    3.0            15        1   \n",
       "2  32.223236 -110.880452    3.5            22        0   \n",
       "3  39.955505  -75.155564    4.0            80        1   \n",
       "4  40.338183  -75.471659    4.5            13        1   \n",
       "\n",
       "                                          attributes  \\\n",
       "0                      {'ByAppointmentOnly': 'True'}   \n",
       "1             {'BusinessAcceptsCreditCards': 'True'}   \n",
       "2  {'BikeParking': 'True', 'BusinessAcceptsCredit...   \n",
       "3  {'RestaurantsDelivery': 'False', 'OutdoorSeati...   \n",
       "4  {'BusinessAcceptsCreditCards': 'True', 'Wheelc...   \n",
       "\n",
       "                                          categories  \\\n",
       "0  Doctors, Traditional Chinese Medicine, Naturop...   \n",
       "1  Shipping Centers, Local Services, Notaries, Ma...   \n",
       "2  Department Stores, Shopping, Fashion, Home & G...   \n",
       "3  Restaurants, Food, Bubble Tea, Coffee & Tea, B...   \n",
       "4                          Brewpubs, Breweries, Food   \n",
       "\n",
       "                                               hours  \n",
       "0                                                NaN  \n",
       "1  {'Monday': '0:0-0:0', 'Tuesday': '8:0-18:30', ...  \n",
       "2  {'Monday': '8:0-22:0', 'Tuesday': '8:0-22:0', ...  \n",
       "3  {'Monday': '7:0-20:0', 'Tuesday': '7:0-20:0', ...  \n",
       "4  {'Wednesday': '14:0-22:0', 'Thursday': '16:0-2...  "
      ]
     },
     "execution_count": 5,
     "metadata": {},
     "output_type": "execute_result"
    }
   ],
   "source": [
    "df.head()"
   ]
  },
  {
   "cell_type": "code",
   "execution_count": 6,
   "id": "69d4ceeb",
   "metadata": {},
   "outputs": [
    {
     "data": {
      "text/plain": [
       "(150346, 14)"
      ]
     },
     "execution_count": 6,
     "metadata": {},
     "output_type": "execute_result"
    }
   ],
   "source": [
    "df.shape"
   ]
  },
  {
   "cell_type": "code",
   "execution_count": 7,
   "id": "f4b82363",
   "metadata": {},
   "outputs": [
    {
     "data": {
      "text/html": [
       "<div>\n",
       "<style scoped>\n",
       "    .dataframe tbody tr th:only-of-type {\n",
       "        vertical-align: middle;\n",
       "    }\n",
       "\n",
       "    .dataframe tbody tr th {\n",
       "        vertical-align: top;\n",
       "    }\n",
       "\n",
       "    .dataframe thead th {\n",
       "        text-align: right;\n",
       "    }\n",
       "</style>\n",
       "<table border=\"1\" class=\"dataframe\">\n",
       "  <thead>\n",
       "    <tr style=\"text-align: right;\">\n",
       "      <th></th>\n",
       "      <th>latitude</th>\n",
       "      <th>longitude</th>\n",
       "      <th>stars</th>\n",
       "      <th>review_count</th>\n",
       "      <th>is_open</th>\n",
       "    </tr>\n",
       "  </thead>\n",
       "  <tbody>\n",
       "    <tr>\n",
       "      <th>count</th>\n",
       "      <td>150346.000000</td>\n",
       "      <td>150346.000000</td>\n",
       "      <td>150346.000000</td>\n",
       "      <td>150346.000000</td>\n",
       "      <td>150346.00000</td>\n",
       "    </tr>\n",
       "    <tr>\n",
       "      <th>mean</th>\n",
       "      <td>36.671150</td>\n",
       "      <td>-89.357339</td>\n",
       "      <td>3.596724</td>\n",
       "      <td>44.866561</td>\n",
       "      <td>0.79615</td>\n",
       "    </tr>\n",
       "    <tr>\n",
       "      <th>std</th>\n",
       "      <td>5.872759</td>\n",
       "      <td>14.918502</td>\n",
       "      <td>0.974421</td>\n",
       "      <td>121.120136</td>\n",
       "      <td>0.40286</td>\n",
       "    </tr>\n",
       "    <tr>\n",
       "      <th>min</th>\n",
       "      <td>27.555127</td>\n",
       "      <td>-120.095137</td>\n",
       "      <td>1.000000</td>\n",
       "      <td>5.000000</td>\n",
       "      <td>0.00000</td>\n",
       "    </tr>\n",
       "    <tr>\n",
       "      <th>25%</th>\n",
       "      <td>32.187293</td>\n",
       "      <td>-90.357810</td>\n",
       "      <td>3.000000</td>\n",
       "      <td>8.000000</td>\n",
       "      <td>1.00000</td>\n",
       "    </tr>\n",
       "    <tr>\n",
       "      <th>50%</th>\n",
       "      <td>38.777413</td>\n",
       "      <td>-86.121179</td>\n",
       "      <td>3.500000</td>\n",
       "      <td>15.000000</td>\n",
       "      <td>1.00000</td>\n",
       "    </tr>\n",
       "    <tr>\n",
       "      <th>75%</th>\n",
       "      <td>39.954036</td>\n",
       "      <td>-75.421542</td>\n",
       "      <td>4.500000</td>\n",
       "      <td>37.000000</td>\n",
       "      <td>1.00000</td>\n",
       "    </tr>\n",
       "    <tr>\n",
       "      <th>max</th>\n",
       "      <td>53.679197</td>\n",
       "      <td>-73.200457</td>\n",
       "      <td>5.000000</td>\n",
       "      <td>7568.000000</td>\n",
       "      <td>1.00000</td>\n",
       "    </tr>\n",
       "  </tbody>\n",
       "</table>\n",
       "</div>"
      ],
      "text/plain": [
       "            latitude      longitude          stars   review_count  \\\n",
       "count  150346.000000  150346.000000  150346.000000  150346.000000   \n",
       "mean       36.671150     -89.357339       3.596724      44.866561   \n",
       "std         5.872759      14.918502       0.974421     121.120136   \n",
       "min        27.555127    -120.095137       1.000000       5.000000   \n",
       "25%        32.187293     -90.357810       3.000000       8.000000   \n",
       "50%        38.777413     -86.121179       3.500000      15.000000   \n",
       "75%        39.954036     -75.421542       4.500000      37.000000   \n",
       "max        53.679197     -73.200457       5.000000    7568.000000   \n",
       "\n",
       "            is_open  \n",
       "count  150346.00000  \n",
       "mean        0.79615  \n",
       "std         0.40286  \n",
       "min         0.00000  \n",
       "25%         1.00000  \n",
       "50%         1.00000  \n",
       "75%         1.00000  \n",
       "max         1.00000  "
      ]
     },
     "execution_count": 7,
     "metadata": {},
     "output_type": "execute_result"
    }
   ],
   "source": [
    "df.describe()"
   ]
  },
  {
   "cell_type": "code",
   "execution_count": 8,
   "id": "6e020b62",
   "metadata": {},
   "outputs": [
    {
     "name": "stdout",
     "output_type": "stream",
     "text": [
      "<class 'pandas.core.frame.DataFrame'>\n",
      "RangeIndex: 150346 entries, 0 to 150345\n",
      "Data columns (total 14 columns):\n",
      " #   Column        Non-Null Count   Dtype  \n",
      "---  ------        --------------   -----  \n",
      " 0   business_id   150346 non-null  object \n",
      " 1   name          150346 non-null  object \n",
      " 2   address       145219 non-null  object \n",
      " 3   city          150346 non-null  object \n",
      " 4   state         150346 non-null  object \n",
      " 5   postal_code   150273 non-null  object \n",
      " 6   latitude      150346 non-null  float64\n",
      " 7   longitude     150346 non-null  float64\n",
      " 8   stars         150346 non-null  float64\n",
      " 9   review_count  150346 non-null  int64  \n",
      " 10  is_open       150346 non-null  int64  \n",
      " 11  attributes    136602 non-null  object \n",
      " 12  categories    150243 non-null  object \n",
      " 13  hours         127123 non-null  object \n",
      "dtypes: float64(3), int64(2), object(9)\n",
      "memory usage: 16.1+ MB\n"
     ]
    }
   ],
   "source": [
    "df.info()"
   ]
  },
  {
   "cell_type": "markdown",
   "id": "5db92827",
   "metadata": {},
   "source": [
    "Note: Categories have some null values we need to remove that"
   ]
  },
  {
   "cell_type": "code",
   "execution_count": 9,
   "id": "9bd4f7aa",
   "metadata": {},
   "outputs": [],
   "source": [
    "# finding out the unique business\n",
    "lst = df.categories.unique()\n"
   ]
  },
  {
   "cell_type": "markdown",
   "id": "aa1d27a6",
   "metadata": {},
   "source": [
    "Note: We only need restaurants for this project so we gonna fill the na values and fiter out the restaurants from the dataset"
   ]
  },
  {
   "cell_type": "code",
   "execution_count": 18,
   "id": "5f88e60f",
   "metadata": {},
   "outputs": [],
   "source": [
    "# subsetting only the restaurants from whole dataset and filling the na values by \"-\"\n",
    "rest_business = df[df.categories.fillna('NaN').str.lower().str.contains('restaurant')]"
   ]
  },
  {
   "cell_type": "code",
   "execution_count": 19,
   "id": "8ef4a3e4",
   "metadata": {},
   "outputs": [
    {
     "data": {
      "text/html": [
       "<div>\n",
       "<style scoped>\n",
       "    .dataframe tbody tr th:only-of-type {\n",
       "        vertical-align: middle;\n",
       "    }\n",
       "\n",
       "    .dataframe tbody tr th {\n",
       "        vertical-align: top;\n",
       "    }\n",
       "\n",
       "    .dataframe thead th {\n",
       "        text-align: right;\n",
       "    }\n",
       "</style>\n",
       "<table border=\"1\" class=\"dataframe\">\n",
       "  <thead>\n",
       "    <tr style=\"text-align: right;\">\n",
       "      <th></th>\n",
       "      <th>business_id</th>\n",
       "      <th>name</th>\n",
       "      <th>address</th>\n",
       "      <th>city</th>\n",
       "      <th>state</th>\n",
       "      <th>postal_code</th>\n",
       "      <th>latitude</th>\n",
       "      <th>longitude</th>\n",
       "      <th>stars</th>\n",
       "      <th>review_count</th>\n",
       "      <th>is_open</th>\n",
       "      <th>attributes</th>\n",
       "      <th>categories</th>\n",
       "      <th>hours</th>\n",
       "    </tr>\n",
       "  </thead>\n",
       "  <tbody>\n",
       "    <tr>\n",
       "      <th>3</th>\n",
       "      <td>MTSW4McQd7CbVtyjqoe9mw</td>\n",
       "      <td>St Honore Pastries</td>\n",
       "      <td>935 Race St</td>\n",
       "      <td>Philadelphia</td>\n",
       "      <td>PA</td>\n",
       "      <td>19107</td>\n",
       "      <td>39.955505</td>\n",
       "      <td>-75.155564</td>\n",
       "      <td>4.0</td>\n",
       "      <td>80</td>\n",
       "      <td>1</td>\n",
       "      <td>{'RestaurantsDelivery': 'False', 'OutdoorSeati...</td>\n",
       "      <td>Restaurants, Food, Bubble Tea, Coffee &amp; Tea, B...</td>\n",
       "      <td>{'Monday': '7:0-20:0', 'Tuesday': '7:0-20:0', ...</td>\n",
       "    </tr>\n",
       "    <tr>\n",
       "      <th>5</th>\n",
       "      <td>CF33F8-E6oudUQ46HnavjQ</td>\n",
       "      <td>Sonic Drive-In</td>\n",
       "      <td>615 S Main St</td>\n",
       "      <td>Ashland City</td>\n",
       "      <td>TN</td>\n",
       "      <td>37015</td>\n",
       "      <td>36.269593</td>\n",
       "      <td>-87.058943</td>\n",
       "      <td>2.0</td>\n",
       "      <td>6</td>\n",
       "      <td>1</td>\n",
       "      <td>{'BusinessParking': 'None', 'BusinessAcceptsCr...</td>\n",
       "      <td>Burgers, Fast Food, Sandwiches, Food, Ice Crea...</td>\n",
       "      <td>{'Monday': '0:0-0:0', 'Tuesday': '6:0-22:0', '...</td>\n",
       "    </tr>\n",
       "    <tr>\n",
       "      <th>8</th>\n",
       "      <td>k0hlBqXX-Bt0vf1op7Jr1w</td>\n",
       "      <td>Tsevi's Pub And Grill</td>\n",
       "      <td>8025 Mackenzie Rd</td>\n",
       "      <td>Affton</td>\n",
       "      <td>MO</td>\n",
       "      <td>63123</td>\n",
       "      <td>38.565165</td>\n",
       "      <td>-90.321087</td>\n",
       "      <td>3.0</td>\n",
       "      <td>19</td>\n",
       "      <td>0</td>\n",
       "      <td>{'Caters': 'True', 'Alcohol': \"u'full_bar'\", '...</td>\n",
       "      <td>Pubs, Restaurants, Italian, Bars, American (Tr...</td>\n",
       "      <td>NaN</td>\n",
       "    </tr>\n",
       "    <tr>\n",
       "      <th>9</th>\n",
       "      <td>bBDDEgkFA1Otx9Lfe7BZUQ</td>\n",
       "      <td>Sonic Drive-In</td>\n",
       "      <td>2312 Dickerson Pike</td>\n",
       "      <td>Nashville</td>\n",
       "      <td>TN</td>\n",
       "      <td>37207</td>\n",
       "      <td>36.208102</td>\n",
       "      <td>-86.768170</td>\n",
       "      <td>1.5</td>\n",
       "      <td>10</td>\n",
       "      <td>1</td>\n",
       "      <td>{'RestaurantsAttire': \"'casual'\", 'Restaurants...</td>\n",
       "      <td>Ice Cream &amp; Frozen Yogurt, Fast Food, Burgers,...</td>\n",
       "      <td>{'Monday': '0:0-0:0', 'Tuesday': '6:0-21:0', '...</td>\n",
       "    </tr>\n",
       "    <tr>\n",
       "      <th>11</th>\n",
       "      <td>eEOYSgkmpB90uNA7lDOMRA</td>\n",
       "      <td>Vietnamese Food Truck</td>\n",
       "      <td>NaN</td>\n",
       "      <td>Tampa Bay</td>\n",
       "      <td>FL</td>\n",
       "      <td>33602</td>\n",
       "      <td>27.955269</td>\n",
       "      <td>-82.456320</td>\n",
       "      <td>4.0</td>\n",
       "      <td>10</td>\n",
       "      <td>1</td>\n",
       "      <td>{'Alcohol': \"'none'\", 'OutdoorSeating': 'None'...</td>\n",
       "      <td>Vietnamese, Food, Restaurants, Food Trucks</td>\n",
       "      <td>{'Monday': '11:0-14:0', 'Tuesday': '11:0-14:0'...</td>\n",
       "    </tr>\n",
       "  </tbody>\n",
       "</table>\n",
       "</div>"
      ],
      "text/plain": [
       "               business_id                   name              address  \\\n",
       "3   MTSW4McQd7CbVtyjqoe9mw     St Honore Pastries          935 Race St   \n",
       "5   CF33F8-E6oudUQ46HnavjQ         Sonic Drive-In        615 S Main St   \n",
       "8   k0hlBqXX-Bt0vf1op7Jr1w  Tsevi's Pub And Grill    8025 Mackenzie Rd   \n",
       "9   bBDDEgkFA1Otx9Lfe7BZUQ         Sonic Drive-In  2312 Dickerson Pike   \n",
       "11  eEOYSgkmpB90uNA7lDOMRA  Vietnamese Food Truck                  NaN   \n",
       "\n",
       "            city state postal_code   latitude  longitude  stars  review_count  \\\n",
       "3   Philadelphia    PA       19107  39.955505 -75.155564    4.0            80   \n",
       "5   Ashland City    TN       37015  36.269593 -87.058943    2.0             6   \n",
       "8         Affton    MO       63123  38.565165 -90.321087    3.0            19   \n",
       "9      Nashville    TN       37207  36.208102 -86.768170    1.5            10   \n",
       "11     Tampa Bay    FL       33602  27.955269 -82.456320    4.0            10   \n",
       "\n",
       "    is_open                                         attributes  \\\n",
       "3         1  {'RestaurantsDelivery': 'False', 'OutdoorSeati...   \n",
       "5         1  {'BusinessParking': 'None', 'BusinessAcceptsCr...   \n",
       "8         0  {'Caters': 'True', 'Alcohol': \"u'full_bar'\", '...   \n",
       "9         1  {'RestaurantsAttire': \"'casual'\", 'Restaurants...   \n",
       "11        1  {'Alcohol': \"'none'\", 'OutdoorSeating': 'None'...   \n",
       "\n",
       "                                           categories  \\\n",
       "3   Restaurants, Food, Bubble Tea, Coffee & Tea, B...   \n",
       "5   Burgers, Fast Food, Sandwiches, Food, Ice Crea...   \n",
       "8   Pubs, Restaurants, Italian, Bars, American (Tr...   \n",
       "9   Ice Cream & Frozen Yogurt, Fast Food, Burgers,...   \n",
       "11         Vietnamese, Food, Restaurants, Food Trucks   \n",
       "\n",
       "                                                hours  \n",
       "3   {'Monday': '7:0-20:0', 'Tuesday': '7:0-20:0', ...  \n",
       "5   {'Monday': '0:0-0:0', 'Tuesday': '6:0-22:0', '...  \n",
       "8                                                 NaN  \n",
       "9   {'Monday': '0:0-0:0', 'Tuesday': '6:0-21:0', '...  \n",
       "11  {'Monday': '11:0-14:0', 'Tuesday': '11:0-14:0'...  "
      ]
     },
     "execution_count": 19,
     "metadata": {},
     "output_type": "execute_result"
    }
   ],
   "source": [
    "rest_business.head()"
   ]
  },
  {
   "cell_type": "code",
   "execution_count": 20,
   "id": "f1984be5",
   "metadata": {},
   "outputs": [
    {
     "data": {
      "text/plain": [
       "(52286, 14)"
      ]
     },
     "execution_count": 20,
     "metadata": {},
     "output_type": "execute_result"
    }
   ],
   "source": [
    "rest_business.shape"
   ]
  },
  {
   "cell_type": "markdown",
   "id": "2b1d32be",
   "metadata": {},
   "source": [
    "Note: The rows reduced from 150346 to 52286. This contains only the business (restaurants)"
   ]
  },
  {
   "cell_type": "code",
   "execution_count": 13,
   "id": "78fa7d96",
   "metadata": {},
   "outputs": [
    {
     "data": {
      "text/plain": [
       "business_id        0\n",
       "name               0\n",
       "address          443\n",
       "city               0\n",
       "state              0\n",
       "postal_code       21\n",
       "latitude           0\n",
       "longitude          0\n",
       "stars              0\n",
       "review_count       0\n",
       "is_open            0\n",
       "attributes       566\n",
       "categories         0\n",
       "hours           7279\n",
       "dtype: int64"
      ]
     },
     "execution_count": 13,
     "metadata": {},
     "output_type": "execute_result"
    }
   ],
   "source": [
    "rest_business.isnull().sum()"
   ]
  },
  {
   "cell_type": "markdown",
   "id": "3a44c9ab",
   "metadata": {},
   "source": [
    "There are some null values in the address, postal_code, attributes, hours. I dont think this are very concerning to our analysis for this project, if its gonna effect our analysis we gonna deal with it later."
   ]
  },
  {
   "cell_type": "code",
   "execution_count": 14,
   "id": "46db1156",
   "metadata": {},
   "outputs": [
    {
     "data": {
      "text/plain": [
       "1    35004\n",
       "0    17282\n",
       "Name: is_open, dtype: int64"
      ]
     },
     "execution_count": 14,
     "metadata": {},
     "output_type": "execute_result"
    }
   ],
   "source": [
    "#checking the number of restaurants are open\n",
    "rest_business.is_open.value_counts()"
   ]
  },
  {
   "cell_type": "code",
   "execution_count": null,
   "id": "b267d19e",
   "metadata": {},
   "outputs": [],
   "source": [
    "# checking the unique categories\n",
    "business_cat = "
   ]
  },
  {
   "cell_type": "code",
   "execution_count": 15,
   "id": "0bb086ea",
   "metadata": {},
   "outputs": [
    {
     "data": {
      "text/plain": [
       "Philadelphia      5854\n",
       "Tampa             2961\n",
       "Indianapolis      2862\n",
       "Nashville         2503\n",
       "Tucson            2470\n",
       "                  ... \n",
       "Woolwich Twp.        1\n",
       "Quinton              1\n",
       "Philadephia          1\n",
       "tucson               1\n",
       "UPPER MORELAND       1\n",
       "Name: city, Length: 920, dtype: int64"
      ]
     },
     "execution_count": 15,
     "metadata": {},
     "output_type": "execute_result"
    }
   ],
   "source": [
    "#cities with most restaurants\n",
    "rest_business.city.value_counts()"
   ]
  },
  {
   "cell_type": "code",
   "execution_count": 16,
   "id": "9d6cb0ab",
   "metadata": {},
   "outputs": [
    {
     "data": {
      "text/plain": [
       "920"
      ]
     },
     "execution_count": 16,
     "metadata": {},
     "output_type": "execute_result"
    }
   ],
   "source": [
    "#checking the number of cities\n",
    "len(rest_business.city.value_counts())"
   ]
  },
  {
   "cell_type": "markdown",
   "id": "d666b67b",
   "metadata": {},
   "source": [
    "Note: From this we can say that philadelphia has most number of restaurants and the number of cities in the dataset are 920. however the number of cities is not correct as there are some misspled words like \"Philadelphia\" and \"Philadephia\" which i think is the same city. We need to find a way to correct that.\n"
   ]
  },
  {
   "cell_type": "code",
   "execution_count": 52,
   "id": "86450990",
   "metadata": {},
   "outputs": [
    {
     "data": {
      "image/png": "[encoded data removed]",
      "text/plain": [
       "<Figure size 576x360 with 1 Axes>"
      ]
     },
     "metadata": {
      "needs_background": "light"
     },
     "output_type": "display_data"
    }
   ],
   "source": [
    "# Visualizing star rating\n",
    "\n",
    "plt.figure(figsize=(8,5))\n",
    "ax = sns.countplot(x = 'stars', data = rest_business)\n",
    "plt.title('star rating')\n",
    "plt.ylabel('number of business')\n",
    "plt.xlabel('star rating')\n",
    "\n",
    "for i in ax.patches:\n",
    "        width, height = i.get_width(), i.get_height()\n",
    "        x, y = i.get_xy() \n",
    "        ax.text(x+width-.4, \n",
    "                y+height,\n",
    "                '{:.0f}'.format(height),\n",
    "                weight='bold',\n",
    "                horizontalalignment='center') \n",
    "                \n"
   ]
  },
  {
   "cell_type": "markdown",
   "id": "2a6288db",
   "metadata": {},
   "source": [
    "In the last group meeting we decided to focus on a specific city rather than all the cities in the dataset to build a recommendation system on. analyzing which city to focus"
   ]
  },
  {
   "cell_type": "code",
   "execution_count": 75,
   "id": "8939f39f",
   "metadata": {},
   "outputs": [
    {
     "data": {
      "text/plain": [
       "Index(['PA', 'FL', 'TN', 'MO', 'IN', 'LA', 'NJ', 'AZ', 'AB', 'NV', 'ID', 'CA',\n",
       "       'IL', 'DE', 'NC', 'CO', 'HI', 'MT', 'XMS'],\n",
       "      dtype='object')"
      ]
     },
     "execution_count": 75,
     "metadata": {},
     "output_type": "execute_result"
    }
   ],
   "source": [
    "rest_business.state.value_counts().index\n",
    "\n",
    "# we gonna take top 15 states as the other states are negligible"
   ]
  },
  {
   "cell_type": "code",
   "execution_count": 80,
   "id": "8bec85ee",
   "metadata": {},
   "outputs": [
    {
     "name": "stderr",
     "output_type": "stream",
     "text": [
      "/Users/syedfaquaruddinquadri/opt/anaconda3/lib/python3.9/site-packages/seaborn/_decorators.py:36: FutureWarning: Pass the following variables as keyword args: x, y. From version 0.12, the only valid positional argument will be `data`, and passing other arguments without an explicit keyword will result in an error or misinterpretation.\n",
      "  warnings.warn(\n"
     ]
    },
    {
     "data": {
      "image/png": "[encoded data removed]",
      "text/plain": [
       "<Figure size 720x360 with 1 Axes>"
      ]
     },
     "metadata": {
      "needs_background": "light"
     },
     "output_type": "display_data"
    }
   ],
   "source": [
    "plt.figure(figsize=(10,5))\n",
    "\n",
    "x = rest_business.state.value_counts().index[:15]\n",
    "y = rest_business.state.value_counts().values[:15]\n",
    "\n",
    "ax = sns.barplot(x, y)\n",
    "ax.set_ylabel('Count')\n",
    "ax.set_xlabel('States')\n",
    "ax.set_title('Number of Businesses by State')\n",
    "\n",
    "for i in ax.patches:\n",
    "        width, height = i.get_width(), i.get_height()\n",
    "        x, y = i.get_xy() \n",
    "        ax.text(x+width-.4, \n",
    "                y+height+2,\n",
    "                '{:.0f}'.format(height),\n",
    "                weight='bold',\n",
    "                horizontalalignment='center',\n",
    "               size='small') \n"
   ]
  },
  {
   "cell_type": "markdown",
   "id": "f0b4fced",
   "metadata": {},
   "source": [
    "As we can see that PA state has most number of restaurants now lets see which city in PA has most restaurants"
   ]
  },
  {
   "cell_type": "code",
   "execution_count": 86,
   "id": "f629b8b1",
   "metadata": {},
   "outputs": [],
   "source": [
    "rest_business_PA = rest_business[rest_business['state'] == 'PA']"
   ]
  },
  {
   "cell_type": "code",
   "execution_count": 88,
   "id": "8934795d",
   "metadata": {},
   "outputs": [
    {
     "data": {
      "text/html": [
       "<div>\n",
       "<style scoped>\n",
       "    .dataframe tbody tr th:only-of-type {\n",
       "        vertical-align: middle;\n",
       "    }\n",
       "\n",
       "    .dataframe tbody tr th {\n",
       "        vertical-align: top;\n",
       "    }\n",
       "\n",
       "    .dataframe thead th {\n",
       "        text-align: right;\n",
       "    }\n",
       "</style>\n",
       "<table border=\"1\" class=\"dataframe\">\n",
       "  <thead>\n",
       "    <tr style=\"text-align: right;\">\n",
       "      <th></th>\n",
       "      <th>business_id</th>\n",
       "      <th>name</th>\n",
       "      <th>address</th>\n",
       "      <th>city</th>\n",
       "      <th>state</th>\n",
       "      <th>postal_code</th>\n",
       "      <th>latitude</th>\n",
       "      <th>longitude</th>\n",
       "      <th>stars</th>\n",
       "      <th>review_count</th>\n",
       "      <th>is_open</th>\n",
       "      <th>attributes</th>\n",
       "      <th>categories</th>\n",
       "      <th>hours</th>\n",
       "    </tr>\n",
       "  </thead>\n",
       "  <tbody>\n",
       "    <tr>\n",
       "      <th>8193</th>\n",
       "      <td>MnCs5pIA0BF3FN7T6wTNyg</td>\n",
       "      <td>O blue café</td>\n",
       "      <td>400 Fairmount Ave</td>\n",
       "      <td>Philadelphia</td>\n",
       "      <td>PA</td>\n",
       "      <td>19123</td>\n",
       "      <td>39.962573</td>\n",
       "      <td>-75.144756</td>\n",
       "      <td>5.0</td>\n",
       "      <td>11</td>\n",
       "      <td>0</td>\n",
       "      <td>{'BusinessParking': \"{'garage': False, 'street...</td>\n",
       "      <td>Restaurants, Cafes</td>\n",
       "      <td>{'Monday': '7:0-17:0', 'Tuesday': '7:0-17:0', ...</td>\n",
       "    </tr>\n",
       "    <tr>\n",
       "      <th>26141</th>\n",
       "      <td>RIKQTbjFnvHkE78L7aVyCA</td>\n",
       "      <td>Pizza Palace</td>\n",
       "      <td>602 W Lancaster Ave</td>\n",
       "      <td>Bryn Mawr</td>\n",
       "      <td>PA</td>\n",
       "      <td>19010</td>\n",
       "      <td>40.018045</td>\n",
       "      <td>-75.311421</td>\n",
       "      <td>3.5</td>\n",
       "      <td>9</td>\n",
       "      <td>0</td>\n",
       "      <td>{'RestaurantsAttire': \"u'casual'\", 'Restaurant...</td>\n",
       "      <td>Pizza, Restaurants</td>\n",
       "      <td>NaN</td>\n",
       "    </tr>\n",
       "    <tr>\n",
       "      <th>52802</th>\n",
       "      <td>4eZ-elvoXx4m65uoz7ymzQ</td>\n",
       "      <td>Nina's Waffles &amp; Ice Cream</td>\n",
       "      <td>110 S Main St</td>\n",
       "      <td>New Hope</td>\n",
       "      <td>PA</td>\n",
       "      <td>18938</td>\n",
       "      <td>40.360884</td>\n",
       "      <td>-74.949898</td>\n",
       "      <td>4.5</td>\n",
       "      <td>149</td>\n",
       "      <td>1</td>\n",
       "      <td>{'WiFi': \"u'no'\", 'BusinessParking': \"{'garage...</td>\n",
       "      <td>Waffles, Food Trucks, Food, Restaurants, Desse...</td>\n",
       "      <td>{'Monday': '0:0-0:0', 'Tuesday': '12:0-21:0', ...</td>\n",
       "    </tr>\n",
       "    <tr>\n",
       "      <th>105882</th>\n",
       "      <td>g2bYK-Z3foqSnCiOPYtdsA</td>\n",
       "      <td>Wawa</td>\n",
       "      <td>870 Second Street Pike</td>\n",
       "      <td>Richboro</td>\n",
       "      <td>PA</td>\n",
       "      <td>18954</td>\n",
       "      <td>40.210828</td>\n",
       "      <td>-75.012079</td>\n",
       "      <td>2.5</td>\n",
       "      <td>9</td>\n",
       "      <td>1</td>\n",
       "      <td>{'BusinessParking': \"{'garage': False, 'street...</td>\n",
       "      <td>Gas Stations, Food, Automotive, Restaurants, C...</td>\n",
       "      <td>{'Monday': '0:0-0:0', 'Tuesday': '0:0-0:0', 'W...</td>\n",
       "    </tr>\n",
       "    <tr>\n",
       "      <th>5874</th>\n",
       "      <td>F1hbIYD1lNzbprtckd7bVg</td>\n",
       "      <td>Venuto's Old World Pizza</td>\n",
       "      <td>6024 Ridge Ave</td>\n",
       "      <td>Philadelphia</td>\n",
       "      <td>PA</td>\n",
       "      <td>19128</td>\n",
       "      <td>40.032207</td>\n",
       "      <td>-75.214255</td>\n",
       "      <td>3.0</td>\n",
       "      <td>5</td>\n",
       "      <td>0</td>\n",
       "      <td>{'GoodForKids': 'True', 'RestaurantsTakeOut': ...</td>\n",
       "      <td>Pizza, Restaurants, Italian</td>\n",
       "      <td>NaN</td>\n",
       "    </tr>\n",
       "  </tbody>\n",
       "</table>\n",
       "</div>"
      ],
      "text/plain": [
       "                   business_id                        name  \\\n",
       "8193    MnCs5pIA0BF3FN7T6wTNyg                 O blue café   \n",
       "26141   RIKQTbjFnvHkE78L7aVyCA                Pizza Palace   \n",
       "52802   4eZ-elvoXx4m65uoz7ymzQ  Nina's Waffles & Ice Cream   \n",
       "105882  g2bYK-Z3foqSnCiOPYtdsA                        Wawa   \n",
       "5874    F1hbIYD1lNzbprtckd7bVg    Venuto's Old World Pizza   \n",
       "\n",
       "                       address          city state postal_code   latitude  \\\n",
       "8193         400 Fairmount Ave  Philadelphia    PA       19123  39.962573   \n",
       "26141      602 W Lancaster Ave     Bryn Mawr    PA       19010  40.018045   \n",
       "52802            110 S Main St      New Hope    PA       18938  40.360884   \n",
       "105882  870 Second Street Pike      Richboro    PA       18954  40.210828   \n",
       "5874            6024 Ridge Ave  Philadelphia    PA       19128  40.032207   \n",
       "\n",
       "        longitude  stars  review_count  is_open  \\\n",
       "8193   -75.144756    5.0            11        0   \n",
       "26141  -75.311421    3.5             9        0   \n",
       "52802  -74.949898    4.5           149        1   \n",
       "105882 -75.012079    2.5             9        1   \n",
       "5874   -75.214255    3.0             5        0   \n",
       "\n",
       "                                               attributes  \\\n",
       "8193    {'BusinessParking': \"{'garage': False, 'street...   \n",
       "26141   {'RestaurantsAttire': \"u'casual'\", 'Restaurant...   \n",
       "52802   {'WiFi': \"u'no'\", 'BusinessParking': \"{'garage...   \n",
       "105882  {'BusinessParking': \"{'garage': False, 'street...   \n",
       "5874    {'GoodForKids': 'True', 'RestaurantsTakeOut': ...   \n",
       "\n",
       "                                               categories  \\\n",
       "8193                                   Restaurants, Cafes   \n",
       "26141                                  Pizza, Restaurants   \n",
       "52802   Waffles, Food Trucks, Food, Restaurants, Desse...   \n",
       "105882  Gas Stations, Food, Automotive, Restaurants, C...   \n",
       "5874                          Pizza, Restaurants, Italian   \n",
       "\n",
       "                                                    hours  \n",
       "8193    {'Monday': '7:0-17:0', 'Tuesday': '7:0-17:0', ...  \n",
       "26141                                                 NaN  \n",
       "52802   {'Monday': '0:0-0:0', 'Tuesday': '12:0-21:0', ...  \n",
       "105882  {'Monday': '0:0-0:0', 'Tuesday': '0:0-0:0', 'W...  \n",
       "5874                                                  NaN  "
      ]
     },
     "execution_count": 88,
     "metadata": {},
     "output_type": "execute_result"
    }
   ],
   "source": [
    "rest_business_PA.sample(5)"
   ]
  },
  {
   "cell_type": "code",
   "execution_count": 90,
   "id": "cf2c3e99",
   "metadata": {},
   "outputs": [
    {
     "name": "stderr",
     "output_type": "stream",
     "text": [
      "/Users/syedfaquaruddinquadri/opt/anaconda3/lib/python3.9/site-packages/seaborn/_decorators.py:36: FutureWarning: Pass the following variables as keyword args: x, y. From version 0.12, the only valid positional argument will be `data`, and passing other arguments without an explicit keyword will result in an error or misinterpretation.\n",
      "  warnings.warn(\n"
     ]
    },
    {
     "data": {
      "image/png": "[encoded data removed]",
      "text/plain": [
       "<Figure size 720x360 with 1 Axes>"
      ]
     },
     "metadata": {
      "needs_background": "light"
     },
     "output_type": "display_data"
    }
   ],
   "source": [
    "plt.figure(figsize=(10,5))\n",
    "\n",
    "x = rest_business_PA.city.value_counts().index[:15]\n",
    "y = rest_business_PA.city.value_counts().values[:15]\n",
    "\n",
    "ax = sns.barplot(x, y)\n",
    "ax.set_ylabel('Count')\n",
    "ax.set_xlabel('cities')\n",
    "ax.set_title('Number of Businesses by cities in PA')\n",
    "plt.xticks(rotation=45, ha='right')\n",
    "\n",
    "for i in ax.patches:\n",
    "        width, height = i.get_width(), i.get_height()\n",
    "        x, y = i.get_xy() \n",
    "        ax.text(x+width-.4, \n",
    "                y+height+2,\n",
    "                '{:.0f}'.format(height),\n",
    "                weight='bold',\n",
    "                horizontalalignment='center',\n",
    "               size='small') "
   ]
  },
  {
   "cell_type": "markdown",
   "id": "8fd410a5",
   "metadata": {},
   "source": [
    "Philadelphia has the most number of restaurants lets also check for the florida state as this has the 2nd most restaurants"
   ]
  },
  {
   "cell_type": "code",
   "execution_count": 92,
   "id": "fd90807d",
   "metadata": {},
   "outputs": [],
   "source": [
    "rest_business_FL = rest_business[rest_business['state'] == 'FL']"
   ]
  },
  {
   "cell_type": "code",
   "execution_count": 93,
   "id": "922dc2d8",
   "metadata": {},
   "outputs": [
    {
     "name": "stderr",
     "output_type": "stream",
     "text": [
      "/Users/syedfaquaruddinquadri/opt/anaconda3/lib/python3.9/site-packages/seaborn/_decorators.py:36: FutureWarning: Pass the following variables as keyword args: x, y. From version 0.12, the only valid positional argument will be `data`, and passing other arguments without an explicit keyword will result in an error or misinterpretation.\n",
      "  warnings.warn(\n"
     ]
    },
    {
     "data": {
      "image/png": "[encoded data removed]",
      "text/plain": [
       "<Figure size 720x360 with 1 Axes>"
      ]
     },
     "metadata": {
      "needs_background": "light"
     },
     "output_type": "display_data"
    }
   ],
   "source": [
    "plt.figure(figsize=(10,5))\n",
    "\n",
    "x = rest_business_FL.city.value_counts().index[:15]\n",
    "y = rest_business_FL.city.value_counts().values[:15]\n",
    "\n",
    "ax = sns.barplot(x, y)\n",
    "ax.set_ylabel('Count')\n",
    "ax.set_xlabel('cities')\n",
    "ax.set_title('Number of Businesses by cities in FL')\n",
    "plt.xticks(rotation=45, ha='right')\n",
    "\n",
    "for i in ax.patches:\n",
    "        width, height = i.get_width(), i.get_height()\n",
    "        x, y = i.get_xy() \n",
    "        ax.text(x+width-.4, \n",
    "                y+height+2,\n",
    "                '{:.0f}'.format(height),\n",
    "                weight='bold',\n",
    "                horizontalalignment='center',\n",
    "               size='small') "
   ]
  },
  {
   "cell_type": "code",
   "execution_count": 94,
   "id": "6a5f8583",
   "metadata": {},
   "outputs": [
    {
     "name": "stderr",
     "output_type": "stream",
     "text": [
      "/Users/syedfaquaruddinquadri/opt/anaconda3/lib/python3.9/site-packages/seaborn/_decorators.py:36: FutureWarning: Pass the following variables as keyword args: x, y. From version 0.12, the only valid positional argument will be `data`, and passing other arguments without an explicit keyword will result in an error or misinterpretation.\n",
      "  warnings.warn(\n"
     ]
    },
    {
     "data": {
      "image/png": "[encoded data removed]",
      "text/plain": [
       "<Figure size 720x360 with 1 Axes>"
      ]
     },
     "metadata": {
      "needs_background": "light"
     },
     "output_type": "display_data"
    }
   ],
   "source": [
    "plt.figure(figsize=(10,5))\n",
    "\n",
    "x = rest_business.city.value_counts().index[:15]\n",
    "y = rest_business.city.value_counts().values[:15]\n",
    "\n",
    "ax = sns.barplot(x, y)\n",
    "ax.set_ylabel('Count')\n",
    "ax.set_xlabel('cities')\n",
    "ax.set_title('Number of Businesses by cities')\n",
    "plt.xticks(rotation=45, ha='right')\n",
    "\n",
    "for i in ax.patches:\n",
    "        width, height = i.get_width(), i.get_height()\n",
    "        x, y = i.get_xy() \n",
    "        ax.text(x+width-.4, \n",
    "                y+height+2,\n",
    "                '{:.0f}'.format(height),\n",
    "                weight='bold',\n",
    "                horizontalalignment='center',\n",
    "               size='small') "
   ]
  },
  {
   "cell_type": "markdown",
   "id": "c1a7d9c3",
   "metadata": {},
   "source": [
    "### Exploring User data"
   ]
  },
  {
   "cell_type": "code",
   "execution_count": 101,
   "id": "1f3ea6c2",
   "metadata": {},
   "outputs": [],
   "source": [
    "df1 = pd.read_csv(path+\"/user_data.csv\")"
   ]
  },
  {
   "cell_type": "code",
   "execution_count": 102,
   "id": "5df895d2",
   "metadata": {},
   "outputs": [
    {
     "data": {
      "text/html": [
       "<div>\n",
       "<style scoped>\n",
       "    .dataframe tbody tr th:only-of-type {\n",
       "        vertical-align: middle;\n",
       "    }\n",
       "\n",
       "    .dataframe tbody tr th {\n",
       "        vertical-align: top;\n",
       "    }\n",
       "\n",
       "    .dataframe thead th {\n",
       "        text-align: right;\n",
       "    }\n",
       "</style>\n",
       "<table border=\"1\" class=\"dataframe\">\n",
       "  <thead>\n",
       "    <tr style=\"text-align: right;\">\n",
       "      <th></th>\n",
       "      <th>review_id</th>\n",
       "      <th>user_id</th>\n",
       "      <th>business_id</th>\n",
       "      <th>stars</th>\n",
       "      <th>useful</th>\n",
       "      <th>funny</th>\n",
       "      <th>cool</th>\n",
       "      <th>text</th>\n",
       "      <th>date</th>\n",
       "    </tr>\n",
       "  </thead>\n",
       "  <tbody>\n",
       "    <tr>\n",
       "      <th>0</th>\n",
       "      <td>w2YtDNW6ebYx43foyvpYxw</td>\n",
       "      <td>00SWKuMcScsA5hZ7tzvm1w</td>\n",
       "      <td>2Y-cy25mig7WM955KOcqMQ</td>\n",
       "      <td>2</td>\n",
       "      <td>0</td>\n",
       "      <td>0</td>\n",
       "      <td>0</td>\n",
       "      <td>I just went in today for a regular gel on both...</td>\n",
       "      <td>2021-05-28 23:16:56</td>\n",
       "    </tr>\n",
       "    <tr>\n",
       "      <th>1</th>\n",
       "      <td>bRMOsHgqngHzyUND_Sr-dw</td>\n",
       "      <td>v8pkGYudWGGiSDfF1dyTWg</td>\n",
       "      <td>kD03gNnQrHarCz97s1BNDQ</td>\n",
       "      <td>5</td>\n",
       "      <td>0</td>\n",
       "      <td>0</td>\n",
       "      <td>0</td>\n",
       "      <td>Excellent casual dining in a boisterous and li...</td>\n",
       "      <td>2021-10-17 14:52:46</td>\n",
       "    </tr>\n",
       "    <tr>\n",
       "      <th>2</th>\n",
       "      <td>iqKvsxnMNxp4HqUUACDGvg</td>\n",
       "      <td>P3IkXK8yza4jzx04n08ZsA</td>\n",
       "      <td>jhckIMBzOldxgS66DrV8zA</td>\n",
       "      <td>2</td>\n",
       "      <td>0</td>\n",
       "      <td>0</td>\n",
       "      <td>0</td>\n",
       "      <td>TLDR; the food was fantastic, our waiter was k...</td>\n",
       "      <td>2017-04-08 19:30:13</td>\n",
       "    </tr>\n",
       "    <tr>\n",
       "      <th>3</th>\n",
       "      <td>-G41sH2iStHbU1b2mpudEQ</td>\n",
       "      <td>CxkmHx-96t9jmLJLUvSDqQ</td>\n",
       "      <td>YwrL69clJBmO9-HgA7dfUA</td>\n",
       "      <td>3</td>\n",
       "      <td>2</td>\n",
       "      <td>0</td>\n",
       "      <td>0</td>\n",
       "      <td>My wife and I stopped in for dinner while the ...</td>\n",
       "      <td>2018-09-20 22:00:08</td>\n",
       "    </tr>\n",
       "    <tr>\n",
       "      <th>4</th>\n",
       "      <td>KLkCCUEPDFSYCt4fk1wIHA</td>\n",
       "      <td>04LPjOC5z5Zgel8CAhm9xA</td>\n",
       "      <td>-1K1J_D9eT2dR6BNvQ2Tnw</td>\n",
       "      <td>1</td>\n",
       "      <td>1</td>\n",
       "      <td>0</td>\n",
       "      <td>0</td>\n",
       "      <td>Didn't even bother getting my car washed here ...</td>\n",
       "      <td>2017-07-07 20:29:50</td>\n",
       "    </tr>\n",
       "  </tbody>\n",
       "</table>\n",
       "</div>"
      ],
      "text/plain": [
       "                review_id                 user_id             business_id  \\\n",
       "0  w2YtDNW6ebYx43foyvpYxw  00SWKuMcScsA5hZ7tzvm1w  2Y-cy25mig7WM955KOcqMQ   \n",
       "1  bRMOsHgqngHzyUND_Sr-dw  v8pkGYudWGGiSDfF1dyTWg  kD03gNnQrHarCz97s1BNDQ   \n",
       "2  iqKvsxnMNxp4HqUUACDGvg  P3IkXK8yza4jzx04n08ZsA  jhckIMBzOldxgS66DrV8zA   \n",
       "3  -G41sH2iStHbU1b2mpudEQ  CxkmHx-96t9jmLJLUvSDqQ  YwrL69clJBmO9-HgA7dfUA   \n",
       "4  KLkCCUEPDFSYCt4fk1wIHA  04LPjOC5z5Zgel8CAhm9xA  -1K1J_D9eT2dR6BNvQ2Tnw   \n",
       "\n",
       "   stars  useful  funny  cool  \\\n",
       "0      2       0      0     0   \n",
       "1      5       0      0     0   \n",
       "2      2       0      0     0   \n",
       "3      3       2      0     0   \n",
       "4      1       1      0     0   \n",
       "\n",
       "                                                text                 date  \n",
       "0  I just went in today for a regular gel on both...  2021-05-28 23:16:56  \n",
       "1  Excellent casual dining in a boisterous and li...  2021-10-17 14:52:46  \n",
       "2  TLDR; the food was fantastic, our waiter was k...  2017-04-08 19:30:13  \n",
       "3  My wife and I stopped in for dinner while the ...  2018-09-20 22:00:08  \n",
       "4  Didn't even bother getting my car washed here ...  2017-07-07 20:29:50  "
      ]
     },
     "execution_count": 102,
     "metadata": {},
     "output_type": "execute_result"
    }
   ],
   "source": [
    "df1.head()"
   ]
  },
  {
   "cell_type": "markdown",
   "id": "cb47699a",
   "metadata": {},
   "source": [
    "We dont need useful, funny, cool features for this project so we gonna drop this features"
   ]
  },
  {
   "cell_type": "code",
   "execution_count": 103,
   "id": "d09b1e6c",
   "metadata": {},
   "outputs": [],
   "source": [
    "users_df = df1.drop(['useful', 'funny', 'cool'], axis = 1)"
   ]
  },
  {
   "cell_type": "code",
   "execution_count": 104,
   "id": "d1a4176c",
   "metadata": {},
   "outputs": [
    {
     "data": {
      "text/html": [
       "<div>\n",
       "<style scoped>\n",
       "    .dataframe tbody tr th:only-of-type {\n",
       "        vertical-align: middle;\n",
       "    }\n",
       "\n",
       "    .dataframe tbody tr th {\n",
       "        vertical-align: top;\n",
       "    }\n",
       "\n",
       "    .dataframe thead th {\n",
       "        text-align: right;\n",
       "    }\n",
       "</style>\n",
       "<table border=\"1\" class=\"dataframe\">\n",
       "  <thead>\n",
       "    <tr style=\"text-align: right;\">\n",
       "      <th></th>\n",
       "      <th>review_id</th>\n",
       "      <th>user_id</th>\n",
       "      <th>business_id</th>\n",
       "      <th>stars</th>\n",
       "      <th>text</th>\n",
       "      <th>date</th>\n",
       "    </tr>\n",
       "  </thead>\n",
       "  <tbody>\n",
       "    <tr>\n",
       "      <th>0</th>\n",
       "      <td>w2YtDNW6ebYx43foyvpYxw</td>\n",
       "      <td>00SWKuMcScsA5hZ7tzvm1w</td>\n",
       "      <td>2Y-cy25mig7WM955KOcqMQ</td>\n",
       "      <td>2</td>\n",
       "      <td>I just went in today for a regular gel on both...</td>\n",
       "      <td>2021-05-28 23:16:56</td>\n",
       "    </tr>\n",
       "    <tr>\n",
       "      <th>1</th>\n",
       "      <td>bRMOsHgqngHzyUND_Sr-dw</td>\n",
       "      <td>v8pkGYudWGGiSDfF1dyTWg</td>\n",
       "      <td>kD03gNnQrHarCz97s1BNDQ</td>\n",
       "      <td>5</td>\n",
       "      <td>Excellent casual dining in a boisterous and li...</td>\n",
       "      <td>2021-10-17 14:52:46</td>\n",
       "    </tr>\n",
       "    <tr>\n",
       "      <th>2</th>\n",
       "      <td>iqKvsxnMNxp4HqUUACDGvg</td>\n",
       "      <td>P3IkXK8yza4jzx04n08ZsA</td>\n",
       "      <td>jhckIMBzOldxgS66DrV8zA</td>\n",
       "      <td>2</td>\n",
       "      <td>TLDR; the food was fantastic, our waiter was k...</td>\n",
       "      <td>2017-04-08 19:30:13</td>\n",
       "    </tr>\n",
       "    <tr>\n",
       "      <th>3</th>\n",
       "      <td>-G41sH2iStHbU1b2mpudEQ</td>\n",
       "      <td>CxkmHx-96t9jmLJLUvSDqQ</td>\n",
       "      <td>YwrL69clJBmO9-HgA7dfUA</td>\n",
       "      <td>3</td>\n",
       "      <td>My wife and I stopped in for dinner while the ...</td>\n",
       "      <td>2018-09-20 22:00:08</td>\n",
       "    </tr>\n",
       "    <tr>\n",
       "      <th>4</th>\n",
       "      <td>KLkCCUEPDFSYCt4fk1wIHA</td>\n",
       "      <td>04LPjOC5z5Zgel8CAhm9xA</td>\n",
       "      <td>-1K1J_D9eT2dR6BNvQ2Tnw</td>\n",
       "      <td>1</td>\n",
       "      <td>Didn't even bother getting my car washed here ...</td>\n",
       "      <td>2017-07-07 20:29:50</td>\n",
       "    </tr>\n",
       "  </tbody>\n",
       "</table>\n",
       "</div>"
      ],
      "text/plain": [
       "                review_id                 user_id             business_id  \\\n",
       "0  w2YtDNW6ebYx43foyvpYxw  00SWKuMcScsA5hZ7tzvm1w  2Y-cy25mig7WM955KOcqMQ   \n",
       "1  bRMOsHgqngHzyUND_Sr-dw  v8pkGYudWGGiSDfF1dyTWg  kD03gNnQrHarCz97s1BNDQ   \n",
       "2  iqKvsxnMNxp4HqUUACDGvg  P3IkXK8yza4jzx04n08ZsA  jhckIMBzOldxgS66DrV8zA   \n",
       "3  -G41sH2iStHbU1b2mpudEQ  CxkmHx-96t9jmLJLUvSDqQ  YwrL69clJBmO9-HgA7dfUA   \n",
       "4  KLkCCUEPDFSYCt4fk1wIHA  04LPjOC5z5Zgel8CAhm9xA  -1K1J_D9eT2dR6BNvQ2Tnw   \n",
       "\n",
       "   stars                                               text  \\\n",
       "0      2  I just went in today for a regular gel on both...   \n",
       "1      5  Excellent casual dining in a boisterous and li...   \n",
       "2      2  TLDR; the food was fantastic, our waiter was k...   \n",
       "3      3  My wife and I stopped in for dinner while the ...   \n",
       "4      1  Didn't even bother getting my car washed here ...   \n",
       "\n",
       "                  date  \n",
       "0  2021-05-28 23:16:56  \n",
       "1  2021-10-17 14:52:46  \n",
       "2  2017-04-08 19:30:13  \n",
       "3  2018-09-20 22:00:08  \n",
       "4  2017-07-07 20:29:50  "
      ]
     },
     "execution_count": 104,
     "metadata": {},
     "output_type": "execute_result"
    }
   ],
   "source": [
    "users_df.head()"
   ]
  },
  {
   "cell_type": "code",
   "execution_count": 107,
   "id": "0118206e",
   "metadata": {},
   "outputs": [
    {
     "data": {
      "text/plain": [
       "\"I just went in today for a regular gel on both toes and finger nails. Both toes and nails were done by two different women. Nail tech who did my toes did a great job. On the other hand, the tech who did my finger nails did not push back my cuticles or trim them as they should. She also kept using the same dip of gel coat for three nails which was lame as hell to me. And when the lady who did my toes came to take a look at them, the tech who did my finger nails walked my with an attitude written all over her face. I tipped well today. I'm just going to leave it at that.... thanks to the one who did my toes tho. You were awesome.\""
      ]
     },
     "execution_count": 107,
     "metadata": {},
     "output_type": "execute_result"
    }
   ],
   "source": [
    "users_df.text[0]"
   ]
  },
  {
   "cell_type": "markdown",
   "id": "e7730be8",
   "metadata": {},
   "source": [
    "this user data contains all the users on the yelp data set we only need for the restaurants"
   ]
  },
  {
   "cell_type": "code",
   "execution_count": 108,
   "id": "25075ea6",
   "metadata": {},
   "outputs": [
    {
     "data": {
      "text/plain": [
       "(1611200, 6)"
      ]
     },
     "execution_count": 108,
     "metadata": {},
     "output_type": "execute_result"
    }
   ],
   "source": [
    "users_df.shape"
   ]
  },
  {
   "cell_type": "code",
   "execution_count": 125,
   "id": "a76f278d",
   "metadata": {},
   "outputs": [],
   "source": [
    "rest_users_df = pd.merge(rest_business, users_df, on = 'business_id')"
   ]
  },
  {
   "cell_type": "code",
   "execution_count": 126,
   "id": "eb87a943",
   "metadata": {},
   "outputs": [
    {
     "data": {
      "text/plain": [
       "(975800, 32)"
      ]
     },
     "execution_count": 126,
     "metadata": {},
     "output_type": "execute_result"
    }
   ],
   "source": [
    "rest_users_df.shape"
   ]
  },
  {
   "cell_type": "code",
   "execution_count": 127,
   "id": "ee321189",
   "metadata": {},
   "outputs": [
    {
     "data": {
      "text/plain": [
       "'Stupid expensive. Cute inside and outside. Very small. Server was friendly, but service was slow. Food was okay. The menu on the website is not the menu at the place. Totally disappointed. Cannot imagine returning after seeing those prices.'"
      ]
     },
     "execution_count": 127,
     "metadata": {},
     "output_type": "execute_result"
    }
   ],
   "source": [
    "# checking the random review of the user to validate that this only contains about restaurants \n",
    "rest_users_df.text[100]"
   ]
  },
  {
   "cell_type": "markdown",
   "id": "889edeb7",
   "metadata": {},
   "source": [
    "### Exploring review data"
   ]
  },
  {
   "cell_type": "code",
   "execution_count": 128,
   "id": "6a12db29",
   "metadata": {},
   "outputs": [],
   "source": [
    "# converting reviews csv file\n",
    "df2 = pd.read_csv(path+'/reviews_data.csv')"
   ]
  },
  {
   "cell_type": "code",
   "execution_count": 129,
   "id": "4dbdb4cf",
   "metadata": {},
   "outputs": [
    {
     "data": {
      "text/html": [
       "<div>\n",
       "<style scoped>\n",
       "    .dataframe tbody tr th:only-of-type {\n",
       "        vertical-align: middle;\n",
       "    }\n",
       "\n",
       "    .dataframe tbody tr th {\n",
       "        vertical-align: top;\n",
       "    }\n",
       "\n",
       "    .dataframe thead th {\n",
       "        text-align: right;\n",
       "    }\n",
       "</style>\n",
       "<table border=\"1\" class=\"dataframe\">\n",
       "  <thead>\n",
       "    <tr style=\"text-align: right;\">\n",
       "      <th></th>\n",
       "      <th>review_id</th>\n",
       "      <th>user_id</th>\n",
       "      <th>business_id</th>\n",
       "      <th>stars</th>\n",
       "      <th>useful</th>\n",
       "      <th>funny</th>\n",
       "      <th>cool</th>\n",
       "      <th>text</th>\n",
       "      <th>date</th>\n",
       "    </tr>\n",
       "  </thead>\n",
       "  <tbody>\n",
       "    <tr>\n",
       "      <th>0</th>\n",
       "      <td>KU_O5udG6zpxOg-VcAEodg</td>\n",
       "      <td>mh_-eMZ6K5RLWhZyISBhwA</td>\n",
       "      <td>XQfwVwDr-v0ZS3_CbbE5Xw</td>\n",
       "      <td>3.0</td>\n",
       "      <td>0.0</td>\n",
       "      <td>0.0</td>\n",
       "      <td>0.0</td>\n",
       "      <td>If you decide to eat here, just be aware it is...</td>\n",
       "      <td>2018-07-07 22:09:11</td>\n",
       "    </tr>\n",
       "    <tr>\n",
       "      <th>1</th>\n",
       "      <td>BiTunyQ73aT9WBnpR9DZGw</td>\n",
       "      <td>OyoGAe7OKpv6SyGZT5g77Q</td>\n",
       "      <td>7ATYjTIgM3jUlt4UM3IypQ</td>\n",
       "      <td>5.0</td>\n",
       "      <td>1.0</td>\n",
       "      <td>0.0</td>\n",
       "      <td>1.0</td>\n",
       "      <td>I've taken a lot of spin classes over the year...</td>\n",
       "      <td>2012-01-03 15:28:18</td>\n",
       "    </tr>\n",
       "    <tr>\n",
       "      <th>2</th>\n",
       "      <td>saUsX_uimxRlCVr67Z4Jig</td>\n",
       "      <td>8g_iMtfSiwikVnbP2etR0A</td>\n",
       "      <td>YjUWPpI6HXG530lwP-fb2A</td>\n",
       "      <td>3.0</td>\n",
       "      <td>0.0</td>\n",
       "      <td>0.0</td>\n",
       "      <td>0.0</td>\n",
       "      <td>Family diner. Had the buffet. Eclectic assortm...</td>\n",
       "      <td>2014-02-05 20:30:30</td>\n",
       "    </tr>\n",
       "    <tr>\n",
       "      <th>3</th>\n",
       "      <td>AqPFMleE6RsU23_auESxiA</td>\n",
       "      <td>_7bHUi9Uuf5__HHc_Q8guQ</td>\n",
       "      <td>kxX2SOes4o-D3ZQBkiMRfA</td>\n",
       "      <td>5.0</td>\n",
       "      <td>1.0</td>\n",
       "      <td>0.0</td>\n",
       "      <td>1.0</td>\n",
       "      <td>Wow!  Yummy, different,  delicious.   Our favo...</td>\n",
       "      <td>2015-01-04 00:01:03</td>\n",
       "    </tr>\n",
       "    <tr>\n",
       "      <th>4</th>\n",
       "      <td>Sx8TMOWLNuJBWer-0pcmoA</td>\n",
       "      <td>bcjbaE6dDog4jkNY91ncLQ</td>\n",
       "      <td>e4Vwtrqf-wpJfwesgvdgxQ</td>\n",
       "      <td>4.0</td>\n",
       "      <td>1.0</td>\n",
       "      <td>0.0</td>\n",
       "      <td>1.0</td>\n",
       "      <td>Cute interior and owner (?) gave us tour of up...</td>\n",
       "      <td>2017-01-14 20:54:15</td>\n",
       "    </tr>\n",
       "  </tbody>\n",
       "</table>\n",
       "</div>"
      ],
      "text/plain": [
       "                review_id                 user_id             business_id  \\\n",
       "0  KU_O5udG6zpxOg-VcAEodg  mh_-eMZ6K5RLWhZyISBhwA  XQfwVwDr-v0ZS3_CbbE5Xw   \n",
       "1  BiTunyQ73aT9WBnpR9DZGw  OyoGAe7OKpv6SyGZT5g77Q  7ATYjTIgM3jUlt4UM3IypQ   \n",
       "2  saUsX_uimxRlCVr67Z4Jig  8g_iMtfSiwikVnbP2etR0A  YjUWPpI6HXG530lwP-fb2A   \n",
       "3  AqPFMleE6RsU23_auESxiA  _7bHUi9Uuf5__HHc_Q8guQ  kxX2SOes4o-D3ZQBkiMRfA   \n",
       "4  Sx8TMOWLNuJBWer-0pcmoA  bcjbaE6dDog4jkNY91ncLQ  e4Vwtrqf-wpJfwesgvdgxQ   \n",
       "\n",
       "   stars  useful  funny  cool  \\\n",
       "0    3.0     0.0    0.0   0.0   \n",
       "1    5.0     1.0    0.0   1.0   \n",
       "2    3.0     0.0    0.0   0.0   \n",
       "3    5.0     1.0    0.0   1.0   \n",
       "4    4.0     1.0    0.0   1.0   \n",
       "\n",
       "                                                text                 date  \n",
       "0  If you decide to eat here, just be aware it is...  2018-07-07 22:09:11  \n",
       "1  I've taken a lot of spin classes over the year...  2012-01-03 15:28:18  \n",
       "2  Family diner. Had the buffet. Eclectic assortm...  2014-02-05 20:30:30  \n",
       "3  Wow!  Yummy, different,  delicious.   Our favo...  2015-01-04 00:01:03  \n",
       "4  Cute interior and owner (?) gave us tour of up...  2017-01-14 20:54:15  "
      ]
     },
     "execution_count": 129,
     "metadata": {},
     "output_type": "execute_result"
    }
   ],
   "source": [
    "#peeking into the datset\n",
    "df2.head()"
   ]
  },
  {
   "cell_type": "code",
   "execution_count": 130,
   "id": "c753ab68",
   "metadata": {},
   "outputs": [
    {
     "name": "stdout",
     "output_type": "stream",
     "text": [
      "<class 'pandas.core.frame.DataFrame'>\n",
      "RangeIndex: 6990282 entries, 0 to 6990281\n",
      "Data columns (total 9 columns):\n",
      " #   Column       Dtype  \n",
      "---  ------       -----  \n",
      " 0   review_id    object \n",
      " 1   user_id      object \n",
      " 2   business_id  object \n",
      " 3   stars        float64\n",
      " 4   useful       float64\n",
      " 5   funny        float64\n",
      " 6   cool         float64\n",
      " 7   text         object \n",
      " 8   date         object \n",
      "dtypes: float64(4), object(5)\n",
      "memory usage: 480.0+ MB\n"
     ]
    }
   ],
   "source": [
    "df2.info()"
   ]
  },
  {
   "cell_type": "code",
   "execution_count": 131,
   "id": "99fc5652",
   "metadata": {},
   "outputs": [
    {
     "data": {
      "text/plain": [
       "(6990282, 9)"
      ]
     },
     "execution_count": 131,
     "metadata": {},
     "output_type": "execute_result"
    }
   ],
   "source": [
    "df2.shape"
   ]
  },
  {
   "cell_type": "code",
   "execution_count": 132,
   "id": "cdf142bb",
   "metadata": {},
   "outputs": [
    {
     "data": {
      "text/html": [
       "<div>\n",
       "<style scoped>\n",
       "    .dataframe tbody tr th:only-of-type {\n",
       "        vertical-align: middle;\n",
       "    }\n",
       "\n",
       "    .dataframe tbody tr th {\n",
       "        vertical-align: top;\n",
       "    }\n",
       "\n",
       "    .dataframe thead th {\n",
       "        text-align: right;\n",
       "    }\n",
       "</style>\n",
       "<table border=\"1\" class=\"dataframe\">\n",
       "  <thead>\n",
       "    <tr style=\"text-align: right;\">\n",
       "      <th></th>\n",
       "      <th>stars</th>\n",
       "      <th>useful</th>\n",
       "      <th>funny</th>\n",
       "      <th>cool</th>\n",
       "    </tr>\n",
       "  </thead>\n",
       "  <tbody>\n",
       "    <tr>\n",
       "      <th>count</th>\n",
       "      <td>6.990280e+06</td>\n",
       "      <td>6.990280e+06</td>\n",
       "      <td>6.990280e+06</td>\n",
       "      <td>6.990280e+06</td>\n",
       "    </tr>\n",
       "    <tr>\n",
       "      <th>mean</th>\n",
       "      <td>3.748584e+00</td>\n",
       "      <td>1.184609e+00</td>\n",
       "      <td>3.265596e-01</td>\n",
       "      <td>4.986175e-01</td>\n",
       "    </tr>\n",
       "    <tr>\n",
       "      <th>std</th>\n",
       "      <td>1.478705e+00</td>\n",
       "      <td>3.253767e+00</td>\n",
       "      <td>1.688729e+00</td>\n",
       "      <td>2.172460e+00</td>\n",
       "    </tr>\n",
       "    <tr>\n",
       "      <th>min</th>\n",
       "      <td>1.000000e+00</td>\n",
       "      <td>-1.000000e+00</td>\n",
       "      <td>-1.000000e+00</td>\n",
       "      <td>-1.000000e+00</td>\n",
       "    </tr>\n",
       "    <tr>\n",
       "      <th>25%</th>\n",
       "      <td>3.000000e+00</td>\n",
       "      <td>0.000000e+00</td>\n",
       "      <td>0.000000e+00</td>\n",
       "      <td>0.000000e+00</td>\n",
       "    </tr>\n",
       "    <tr>\n",
       "      <th>50%</th>\n",
       "      <td>4.000000e+00</td>\n",
       "      <td>0.000000e+00</td>\n",
       "      <td>0.000000e+00</td>\n",
       "      <td>0.000000e+00</td>\n",
       "    </tr>\n",
       "    <tr>\n",
       "      <th>75%</th>\n",
       "      <td>5.000000e+00</td>\n",
       "      <td>1.000000e+00</td>\n",
       "      <td>0.000000e+00</td>\n",
       "      <td>0.000000e+00</td>\n",
       "    </tr>\n",
       "    <tr>\n",
       "      <th>max</th>\n",
       "      <td>5.000000e+00</td>\n",
       "      <td>1.182000e+03</td>\n",
       "      <td>7.920000e+02</td>\n",
       "      <td>4.040000e+02</td>\n",
       "    </tr>\n",
       "  </tbody>\n",
       "</table>\n",
       "</div>"
      ],
      "text/plain": [
       "              stars        useful         funny          cool\n",
       "count  6.990280e+06  6.990280e+06  6.990280e+06  6.990280e+06\n",
       "mean   3.748584e+00  1.184609e+00  3.265596e-01  4.986175e-01\n",
       "std    1.478705e+00  3.253767e+00  1.688729e+00  2.172460e+00\n",
       "min    1.000000e+00 -1.000000e+00 -1.000000e+00 -1.000000e+00\n",
       "25%    3.000000e+00  0.000000e+00  0.000000e+00  0.000000e+00\n",
       "50%    4.000000e+00  0.000000e+00  0.000000e+00  0.000000e+00\n",
       "75%    5.000000e+00  1.000000e+00  0.000000e+00  0.000000e+00\n",
       "max    5.000000e+00  1.182000e+03  7.920000e+02  4.040000e+02"
      ]
     },
     "execution_count": 132,
     "metadata": {},
     "output_type": "execute_result"
    }
   ],
   "source": [
    "df2.describe()"
   ]
  },
  {
   "cell_type": "markdown",
   "id": "763f67c2",
   "metadata": {},
   "source": [
    "We dont need useful, funny, cool features in the dataset so I am dropping this features "
   ]
  },
  {
   "cell_type": "code",
   "execution_count": null,
   "id": "fb92594a",
   "metadata": {},
   "outputs": [],
   "source": []
  },
  {
   "cell_type": "code",
   "execution_count": null,
   "id": "3b65ae0f",
   "metadata": {},
   "outputs": [],
   "source": []
  },
  {
   "cell_type": "code",
   "execution_count": null,
   "id": "8884f250",
   "metadata": {},
   "outputs": [],
   "source": []
  },
  {
   "cell_type": "code",
   "execution_count": null,
   "id": "da50fd39",
   "metadata": {},
   "outputs": [],
   "source": []
  },
  {
   "cell_type": "code",
   "execution_count": null,
   "id": "2e821f51",
   "metadata": {},
   "outputs": [],
   "source": []
  },
  {
   "cell_type": "code",
   "execution_count": null,
   "id": "5eff5c99",
   "metadata": {},
   "outputs": [],
   "source": []
  },
  {
   "cell_type": "code",
   "execution_count": null,
   "id": "8564ef89",
   "metadata": {},
   "outputs": [],
   "source": []
  },
  {
   "cell_type": "code",
   "execution_count": null,
   "id": "5138502a",
   "metadata": {},
   "outputs": [],
   "source": []
  }
 ],
 "metadata": {
  "kernelspec": {
   "display_name": "Python 3 (ipykernel)",
   "language": "python",
   "name": "python3"
  },
  "language_info": {
   "codemirror_mode": {
    "name": "ipython",
    "version": 3
   },
   "file_extension": ".py",
   "mimetype": "text/x-python",
   "name": "python",
   "nbconvert_exporter": "python",
   "pygments_lexer": "ipython3",
   "version": "3.9.12"
  }
 },
 "nbformat": 4,
 "nbformat_minor": 5
}
