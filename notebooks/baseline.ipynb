{
 "cells": [
  {
   "cell_type": "code",
   "execution_count": 24,
   "id": "ec045385",
   "metadata": {},
   "outputs": [],
   "source": [
    "import numpy as np\n",
    "import pandas as pd\n",
    "import matplotlib.pyplot as plt\n",
    "import seaborn as sns \n",
    "from scipy.sparse.linalg import svds\n",
    "from scipy.spatial.distance import cosine \n",
    "from sklearn.metrics.pairwise import cosine_similarity\n",
    "from sklearn.metrics import mean_squared_error\n",
    "from sklearn.metrics import mean_absolute_error\n",
    "from sklearn.model_selection import train_test_split"
   ]
  },
  {
   "cell_type": "code",
   "execution_count": 25,
   "id": "7832f052",
   "metadata": {},
   "outputs": [],
   "source": [
    "path = '/Users/syedfaquaruddinquadri/Documents/Applied ML and DM/Final Project/machine-learning-dse-i210-final-project-yelprestaurantrecommender/data/processed'\n",
    "business = pd.read_csv(path + '/business.csv')\n",
    "restaurants = business[business.categories.fillna('-').str.lower().str.contains('restaurant')]"
   ]
  },
  {
   "cell_type": "code",
   "execution_count": 26,
   "id": "cff37b25",
   "metadata": {},
   "outputs": [
    {
     "data": {
      "text/html": [
       "<div>\n",
       "<style scoped>\n",
       "    .dataframe tbody tr th:only-of-type {\n",
       "        vertical-align: middle;\n",
       "    }\n",
       "\n",
       "    .dataframe tbody tr th {\n",
       "        vertical-align: top;\n",
       "    }\n",
       "\n",
       "    .dataframe thead th {\n",
       "        text-align: right;\n",
       "    }\n",
       "</style>\n",
       "<table border=\"1\" class=\"dataframe\">\n",
       "  <thead>\n",
       "    <tr style=\"text-align: right;\">\n",
       "      <th></th>\n",
       "      <th>Unnamed: 0</th>\n",
       "      <th>address</th>\n",
       "      <th>attributes</th>\n",
       "      <th>business_id</th>\n",
       "      <th>categories</th>\n",
       "      <th>city</th>\n",
       "      <th>hours</th>\n",
       "      <th>is_open</th>\n",
       "      <th>latitude</th>\n",
       "      <th>longitude</th>\n",
       "      <th>name</th>\n",
       "      <th>postal_code</th>\n",
       "      <th>review_count</th>\n",
       "      <th>stars</th>\n",
       "      <th>state</th>\n",
       "    </tr>\n",
       "  </thead>\n",
       "  <tbody>\n",
       "    <tr>\n",
       "      <th>0</th>\n",
       "      <td>0</td>\n",
       "      <td>712 Adams St</td>\n",
       "      <td>Row(AcceptsInsurance=None, AgesAllowed=None, A...</td>\n",
       "      <td>M0XSSHqrASOnhgbWDJIpQA</td>\n",
       "      <td>Vape Shops, Tobacco Shops, Personal Shopping, ...</td>\n",
       "      <td>New Orleans</td>\n",
       "      <td>Row(Friday='10:0-19:0', Monday='10:0-19:0', Sa...</td>\n",
       "      <td>1</td>\n",
       "      <td>29.941468</td>\n",
       "      <td>-90.129953</td>\n",
       "      <td>Herb Import Co</td>\n",
       "      <td>70118.0</td>\n",
       "      <td>5</td>\n",
       "      <td>4.0</td>\n",
       "      <td>LA</td>\n",
       "    </tr>\n",
       "    <tr>\n",
       "      <th>1</th>\n",
       "      <td>1</td>\n",
       "      <td>100 Iberville St</td>\n",
       "      <td>Row(AcceptsInsurance=None, AgesAllowed=None, A...</td>\n",
       "      <td>w_AMNoI1iG9eay7ncmc67w</td>\n",
       "      <td>Event Planning &amp; Services, Hotels, Hotels &amp; Tr...</td>\n",
       "      <td>New Orleans</td>\n",
       "      <td>NaN</td>\n",
       "      <td>1</td>\n",
       "      <td>29.951359</td>\n",
       "      <td>-90.064672</td>\n",
       "      <td>River 127</td>\n",
       "      <td>70130.0</td>\n",
       "      <td>12</td>\n",
       "      <td>3.0</td>\n",
       "      <td>LA</td>\n",
       "    </tr>\n",
       "    <tr>\n",
       "      <th>2</th>\n",
       "      <td>2</td>\n",
       "      <td>723 St Peter St</td>\n",
       "      <td>Row(AcceptsInsurance=None, AgesAllowed=None, A...</td>\n",
       "      <td>uczmbBk5O3tYhGue13dCDg</td>\n",
       "      <td>Hotels &amp; Travel, Tours, Local Flavor</td>\n",
       "      <td>New Orleans</td>\n",
       "      <td>Row(Friday='10:0-20:0', Monday='0:0-0:0', Satu...</td>\n",
       "      <td>1</td>\n",
       "      <td>29.958431</td>\n",
       "      <td>-90.065173</td>\n",
       "      <td>New Orleans Spirit Tours</td>\n",
       "      <td>70130.0</td>\n",
       "      <td>38</td>\n",
       "      <td>4.0</td>\n",
       "      <td>LA</td>\n",
       "    </tr>\n",
       "    <tr>\n",
       "      <th>3</th>\n",
       "      <td>3</td>\n",
       "      <td>1001 Poydras St</td>\n",
       "      <td>Row(AcceptsInsurance=None, AgesAllowed=None, A...</td>\n",
       "      <td>YNjyv0gfOr2g8lbmUpTnKg</td>\n",
       "      <td>Nightlife, Pubs, Event Planning &amp; Services, Wi...</td>\n",
       "      <td>New Orleans</td>\n",
       "      <td>Row(Friday='11:0-23:0', Monday='0:0-0:0', Satu...</td>\n",
       "      <td>1</td>\n",
       "      <td>29.950647</td>\n",
       "      <td>-90.074427</td>\n",
       "      <td>Copper Vine</td>\n",
       "      <td>70112.0</td>\n",
       "      <td>350</td>\n",
       "      <td>4.5</td>\n",
       "      <td>LA</td>\n",
       "    </tr>\n",
       "    <tr>\n",
       "      <th>4</th>\n",
       "      <td>4</td>\n",
       "      <td>600 Decatur St</td>\n",
       "      <td>Row(AcceptsInsurance=None, AgesAllowed=None, A...</td>\n",
       "      <td>J_ksUDPpzPwfTGtI4zTRnQ</td>\n",
       "      <td>Event Planning &amp; Services, Caterers, Party &amp; E...</td>\n",
       "      <td>New Orleans</td>\n",
       "      <td>Row(Friday='9:0-16:0', Monday='9:0-16:0', Satu...</td>\n",
       "      <td>1</td>\n",
       "      <td>29.955925</td>\n",
       "      <td>-90.062962</td>\n",
       "      <td>Riverview Room</td>\n",
       "      <td>70130.0</td>\n",
       "      <td>7</td>\n",
       "      <td>4.5</td>\n",
       "      <td>LA</td>\n",
       "    </tr>\n",
       "  </tbody>\n",
       "</table>\n",
       "</div>"
      ],
      "text/plain": [
       "   Unnamed: 0           address  \\\n",
       "0           0      712 Adams St   \n",
       "1           1  100 Iberville St   \n",
       "2           2   723 St Peter St   \n",
       "3           3   1001 Poydras St   \n",
       "4           4    600 Decatur St   \n",
       "\n",
       "                                          attributes             business_id  \\\n",
       "0  Row(AcceptsInsurance=None, AgesAllowed=None, A...  M0XSSHqrASOnhgbWDJIpQA   \n",
       "1  Row(AcceptsInsurance=None, AgesAllowed=None, A...  w_AMNoI1iG9eay7ncmc67w   \n",
       "2  Row(AcceptsInsurance=None, AgesAllowed=None, A...  uczmbBk5O3tYhGue13dCDg   \n",
       "3  Row(AcceptsInsurance=None, AgesAllowed=None, A...  YNjyv0gfOr2g8lbmUpTnKg   \n",
       "4  Row(AcceptsInsurance=None, AgesAllowed=None, A...  J_ksUDPpzPwfTGtI4zTRnQ   \n",
       "\n",
       "                                          categories         city  \\\n",
       "0  Vape Shops, Tobacco Shops, Personal Shopping, ...  New Orleans   \n",
       "1  Event Planning & Services, Hotels, Hotels & Tr...  New Orleans   \n",
       "2               Hotels & Travel, Tours, Local Flavor  New Orleans   \n",
       "3  Nightlife, Pubs, Event Planning & Services, Wi...  New Orleans   \n",
       "4  Event Planning & Services, Caterers, Party & E...  New Orleans   \n",
       "\n",
       "                                               hours  is_open   latitude  \\\n",
       "0  Row(Friday='10:0-19:0', Monday='10:0-19:0', Sa...        1  29.941468   \n",
       "1                                                NaN        1  29.951359   \n",
       "2  Row(Friday='10:0-20:0', Monday='0:0-0:0', Satu...        1  29.958431   \n",
       "3  Row(Friday='11:0-23:0', Monday='0:0-0:0', Satu...        1  29.950647   \n",
       "4  Row(Friday='9:0-16:0', Monday='9:0-16:0', Satu...        1  29.955925   \n",
       "\n",
       "   longitude                      name  postal_code  review_count  stars state  \n",
       "0 -90.129953            Herb Import Co      70118.0             5    4.0    LA  \n",
       "1 -90.064672                 River 127      70130.0            12    3.0    LA  \n",
       "2 -90.065173  New Orleans Spirit Tours      70130.0            38    4.0    LA  \n",
       "3 -90.074427               Copper Vine      70112.0           350    4.5    LA  \n",
       "4 -90.062962            Riverview Room      70130.0             7    4.5    LA  "
      ]
     },
     "execution_count": 26,
     "metadata": {},
     "output_type": "execute_result"
    }
   ],
   "source": [
    "business.head()"
   ]
  },
  {
   "cell_type": "code",
   "execution_count": 27,
   "id": "63c48c41",
   "metadata": {},
   "outputs": [
    {
     "data": {
      "text/plain": [
       "Index(['Unnamed: 0', 'address', 'attributes', 'business_id', 'categories',\n",
       "       'city', 'hours', 'is_open', 'latitude', 'longitude', 'name',\n",
       "       'postal_code', 'review_count', 'stars', 'state'],\n",
       "      dtype='object')"
      ]
     },
     "execution_count": 27,
     "metadata": {},
     "output_type": "execute_result"
    }
   ],
   "source": [
    "restaurants.columns"
   ]
  },
  {
   "cell_type": "code",
   "execution_count": 28,
   "id": "609a7bf3",
   "metadata": {},
   "outputs": [],
   "source": [
    "restaurants = restaurants.drop(['Unnamed: 0','address', 'state', 'postal_code',\n",
    "       'latitude', 'longitude', 'is_open', 'attributes', 'hours'], axis = 1)\n"
   ]
  },
  {
   "cell_type": "code",
   "execution_count": 29,
   "id": "cb9033e1",
   "metadata": {},
   "outputs": [
    {
     "data": {
      "text/plain": [
       "(2262, 6)"
      ]
     },
     "execution_count": 29,
     "metadata": {},
     "output_type": "execute_result"
    }
   ],
   "source": [
    "restaurants.shape\n"
   ]
  },
  {
   "cell_type": "code",
   "execution_count": 30,
   "id": "ab4ec3a2",
   "metadata": {},
   "outputs": [],
   "source": [
    "path1 = '/Users/syedfaquaruddinquadri/Documents/Applied ML and DM/Final Project'"
   ]
  },
  {
   "cell_type": "code",
   "execution_count": 31,
   "id": "9ff3d2e4",
   "metadata": {},
   "outputs": [
    {
     "name": "stderr",
     "output_type": "stream",
     "text": [
      "/var/folders/6y/65h__9y57mg1xqznxbt3fvtr0000gn/T/ipykernel_41095/1096967167.py:1: DtypeWarning: Columns (0,1,2,3,5,7,9) have mixed types. Specify dtype option on import or set low_memory=False.\n",
      "  reviews = pd.read_csv(path1  + '/reviews.csv')\n"
     ]
    }
   ],
   "source": [
    "reviews = pd.read_csv(path1  + '/reviews.csv')\n"
   ]
  },
  {
   "cell_type": "code",
   "execution_count": 32,
   "id": "0e019b4e",
   "metadata": {},
   "outputs": [
    {
     "data": {
      "text/plain": [
       "(1095800, 10)"
      ]
     },
     "execution_count": 32,
     "metadata": {},
     "output_type": "execute_result"
    }
   ],
   "source": [
    "reviews.shape"
   ]
  },
  {
   "cell_type": "code",
   "execution_count": 33,
   "id": "f9c3e7fb",
   "metadata": {},
   "outputs": [
    {
     "data": {
      "text/plain": [
       "Index(['Unnamed: 0', 'business_id', 'cool', 'date', 'funny', 'review_id',\n",
       "       'stars', 'text', 'useful', 'user_id'],\n",
       "      dtype='object')"
      ]
     },
     "execution_count": 33,
     "metadata": {},
     "output_type": "execute_result"
    }
   ],
   "source": [
    "reviews.columns"
   ]
  },
  {
   "cell_type": "code",
   "execution_count": 35,
   "id": "dc73b9fb",
   "metadata": {},
   "outputs": [],
   "source": [
    "reviews.drop('Unnamed: 0', axis =1, inplace = True)\n",
    "reviews = reviews.drop(['useful', 'funny','cool','date'], axis = 1)"
   ]
  },
  {
   "cell_type": "code",
   "execution_count": 36,
   "id": "bac1f1d7",
   "metadata": {},
   "outputs": [
    {
     "data": {
      "text/plain": [
       "(1095800, 5)"
      ]
     },
     "execution_count": 36,
     "metadata": {},
     "output_type": "execute_result"
    }
   ],
   "source": [
    "reviews.shape"
   ]
  },
  {
   "cell_type": "code",
   "execution_count": 70,
   "id": "7c3b1040",
   "metadata": {},
   "outputs": [],
   "source": [
    "nola = pd.merge(reviews, restaurants, on='business_id')"
   ]
  },
  {
   "cell_type": "code",
   "execution_count": 71,
   "id": "1bb6debd",
   "metadata": {},
   "outputs": [
    {
     "data": {
      "text/plain": [
       "(536257, 10)"
      ]
     },
     "execution_count": 71,
     "metadata": {},
     "output_type": "execute_result"
    }
   ],
   "source": [
    "nola.shape"
   ]
  },
  {
   "cell_type": "code",
   "execution_count": 72,
   "id": "f9a7cbd6",
   "metadata": {},
   "outputs": [
    {
     "data": {
      "text/plain": [
       "Index(['business_id', 'review_id', 'stars_x', 'text', 'user_id', 'categories',\n",
       "       'city', 'name', 'review_count', 'stars_y'],\n",
       "      dtype='object')"
      ]
     },
     "execution_count": 72,
     "metadata": {},
     "output_type": "execute_result"
    }
   ],
   "source": [
    "nola.columns"
   ]
  },
  {
   "cell_type": "code",
   "execution_count": 73,
   "id": "94af1651",
   "metadata": {},
   "outputs": [],
   "source": [
    "nola = nola.drop_duplicates(['user_id', 'business_id', 'stars_y'], keep='first')"
   ]
  },
  {
   "cell_type": "code",
   "execution_count": 74,
   "id": "31dd3032",
   "metadata": {},
   "outputs": [
    {
     "data": {
      "text/plain": [
       "(466149, 10)"
      ]
     },
     "execution_count": 74,
     "metadata": {},
     "output_type": "execute_result"
    }
   ],
   "source": [
    "nola.shape"
   ]
  },
  {
   "cell_type": "code",
   "execution_count": 75,
   "id": "ed7dba29",
   "metadata": {},
   "outputs": [],
   "source": [
    "user_counts = nola['user_id'].value_counts().to_dict()\n",
    "user_list = []"
   ]
  },
  {
   "cell_type": "code",
   "execution_count": null,
   "id": "b3f88045",
   "metadata": {},
   "outputs": [],
   "source": []
  },
  {
   "cell_type": "code",
   "execution_count": 78,
   "id": "08a83556",
   "metadata": {},
   "outputs": [
    {
     "data": {
      "text/plain": [
       "201869"
      ]
     },
     "execution_count": 78,
     "metadata": {},
     "output_type": "execute_result"
    }
   ],
   "source": [
    "len(user_counts)"
   ]
  },
  {
   "cell_type": "code",
   "execution_count": 79,
   "id": "f32b31a7",
   "metadata": {},
   "outputs": [
    {
     "data": {
      "text/plain": [
       "[175,\n",
       " 178,\n",
       " 178,\n",
       " 180,\n",
       " 186,\n",
       " 188,\n",
       " 191,\n",
       " 195,\n",
       " 200,\n",
       " 219,\n",
       " 220,\n",
       " 223,\n",
       " 230,\n",
       " 236,\n",
       " 239,\n",
       " 441,\n",
       " 523,\n",
       " 525,\n",
       " 600,\n",
       " 662]"
      ]
     },
     "execution_count": 79,
     "metadata": {},
     "output_type": "execute_result"
    }
   ],
   "source": [
    "sorted(user_counts.values())[-20:]"
   ]
  },
  {
   "cell_type": "code",
   "execution_count": 80,
   "id": "40147caa",
   "metadata": {},
   "outputs": [],
   "source": [
    "for key in user_counts.keys(): \n",
    "    if user_counts[key] >= 50: \n",
    "        user_list.append(key)"
   ]
  },
  {
   "cell_type": "code",
   "execution_count": 81,
   "id": "8e3c2341",
   "metadata": {},
   "outputs": [
    {
     "name": "stdout",
     "output_type": "stream",
     "text": [
      "Data shape after filtering by users:  (28808, 10)\n"
     ]
    }
   ],
   "source": [
    "filtered_nola = nola[nola['user_id'].isin(user_list)]\n",
    "print('Data shape after filtering by users: ', filtered_nola.shape)"
   ]
  },
  {
   "cell_type": "code",
   "execution_count": 82,
   "id": "e4fc8eae",
   "metadata": {},
   "outputs": [
    {
     "name": "stdout",
     "output_type": "stream",
     "text": [
      "Unique users:  310\n"
     ]
    }
   ],
   "source": [
    "print('Unique users: ', len(filtered_nola['user_id'].unique()))"
   ]
  },
  {
   "cell_type": "code",
   "execution_count": null,
   "id": "1093353b",
   "metadata": {},
   "outputs": [],
   "source": []
  }
 ],
 "metadata": {
  "kernelspec": {
   "display_name": "Python 3 (ipykernel)",
   "language": "python",
   "name": "python3"
  },
  "language_info": {
   "codemirror_mode": {
    "name": "ipython",
    "version": 3
   },
   "file_extension": ".py",
   "mimetype": "text/x-python",
   "name": "python",
   "nbconvert_exporter": "python",
   "pygments_lexer": "ipython3",
   "version": "3.9.12"
  }
 },
 "nbformat": 4,
 "nbformat_minor": 5
}
