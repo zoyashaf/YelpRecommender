{
 "cells": [
  {
   "cell_type": "code",
   "execution_count": 3,
   "id": "be727816",
   "metadata": {},
   "outputs": [],
   "source": [
    "import pandas as pd\n",
    "import numpy as np\n",
    "import matplotlib.pyplot as plt\n",
    "%matplotlib inline\n",
    "import warnings\n",
    "warnings.filterwarnings('ignore')"
   ]
  },
  {
   "cell_type": "code",
   "execution_count": 6,
   "id": "adef97e9",
   "metadata": {},
   "outputs": [
    {
     "data": {
      "text/html": [
       "<div>\n",
       "<style scoped>\n",
       "    .dataframe tbody tr th:only-of-type {\n",
       "        vertical-align: middle;\n",
       "    }\n",
       "\n",
       "    .dataframe tbody tr th {\n",
       "        vertical-align: top;\n",
       "    }\n",
       "\n",
       "    .dataframe thead th {\n",
       "        text-align: right;\n",
       "    }\n",
       "</style>\n",
       "<table border=\"1\" class=\"dataframe\">\n",
       "  <thead>\n",
       "    <tr style=\"text-align: right;\">\n",
       "      <th></th>\n",
       "      <th>business_id</th>\n",
       "      <th>cool</th>\n",
       "      <th>date</th>\n",
       "      <th>funny</th>\n",
       "      <th>review_id</th>\n",
       "      <th>stars</th>\n",
       "      <th>text</th>\n",
       "      <th>useful</th>\n",
       "      <th>user_id</th>\n",
       "    </tr>\n",
       "  </thead>\n",
       "  <tbody>\n",
       "    <tr>\n",
       "      <th>0</th>\n",
       "      <td>e4Vwtrqf-wpJfwesgvdgxQ</td>\n",
       "      <td>1</td>\n",
       "      <td>2017-01-14 20:54:15</td>\n",
       "      <td>0.0</td>\n",
       "      <td>Sx8TMOWLNuJBWer-0pcmoA</td>\n",
       "      <td>4.0</td>\n",
       "      <td>Cute interior and owner (?) gave us tour of up...</td>\n",
       "      <td>1.0</td>\n",
       "      <td>bcjbaE6dDog4jkNY91ncLQ</td>\n",
       "    </tr>\n",
       "    <tr>\n",
       "      <th>1</th>\n",
       "      <td>gmjsEdUsKpj9Xxu6pdjH0g</td>\n",
       "      <td>0</td>\n",
       "      <td>2015-01-03 23:21:18</td>\n",
       "      <td>2.0</td>\n",
       "      <td>6AxgBCNX_PNTOxmbRSwcKQ</td>\n",
       "      <td>5.0</td>\n",
       "      <td>Loved this tour! I grabbed a groupon and the p...</td>\n",
       "      <td>0.0</td>\n",
       "      <td>r3zeYsv1XFBRA4dJpL78cw</td>\n",
       "    </tr>\n",
       "    <tr>\n",
       "      <th>2</th>\n",
       "      <td>S2Ho8yLxhKAa26pBAm6rxA</td>\n",
       "      <td>0</td>\n",
       "      <td>2016-11-22 00:22:53</td>\n",
       "      <td>0.0</td>\n",
       "      <td>z0osLHDvXvzfm57D4DmD2Q</td>\n",
       "      <td>3.0</td>\n",
       "      <td>Service was crappy, and food was mediocre.  I ...</td>\n",
       "      <td>0.0</td>\n",
       "      <td>xVKE_HJ2pwUtTdLbL3pnCg</td>\n",
       "    </tr>\n",
       "    <tr>\n",
       "      <th>3</th>\n",
       "      <td>W4ZEKkva9HpAdZG88juwyQ</td>\n",
       "      <td>0</td>\n",
       "      <td>2013-12-29 02:37:42</td>\n",
       "      <td>0.0</td>\n",
       "      <td>jC-fGfx-YLqxVBcyTAd4Pw</td>\n",
       "      <td>3.0</td>\n",
       "      <td>In a word... \"OVERRATED!\".  The food took fore...</td>\n",
       "      <td>0.0</td>\n",
       "      <td>EBa-0-6AKoy6jziNexDJtg</td>\n",
       "    </tr>\n",
       "    <tr>\n",
       "      <th>4</th>\n",
       "      <td>j8JOZvfeHEfUWq3gEz6ABQ</td>\n",
       "      <td>0</td>\n",
       "      <td>2014-06-11 14:55:14</td>\n",
       "      <td>3.0</td>\n",
       "      <td>Ki90-hauSIfW_7sBuBBqfA</td>\n",
       "      <td>2.0</td>\n",
       "      <td>NEVER AGAIN. This is a so called restaurant th...</td>\n",
       "      <td>2.0</td>\n",
       "      <td>Z2cOL3n9V8NoguJ-uU_Nvw</td>\n",
       "    </tr>\n",
       "  </tbody>\n",
       "</table>\n",
       "</div>"
      ],
      "text/plain": [
       "              business_id cool                 date  funny  \\\n",
       "0  e4Vwtrqf-wpJfwesgvdgxQ    1  2017-01-14 20:54:15    0.0   \n",
       "1  gmjsEdUsKpj9Xxu6pdjH0g    0  2015-01-03 23:21:18    2.0   \n",
       "2  S2Ho8yLxhKAa26pBAm6rxA    0  2016-11-22 00:22:53    0.0   \n",
       "3  W4ZEKkva9HpAdZG88juwyQ    0  2013-12-29 02:37:42    0.0   \n",
       "4  j8JOZvfeHEfUWq3gEz6ABQ    0  2014-06-11 14:55:14    3.0   \n",
       "\n",
       "                review_id  stars  \\\n",
       "0  Sx8TMOWLNuJBWer-0pcmoA    4.0   \n",
       "1  6AxgBCNX_PNTOxmbRSwcKQ    5.0   \n",
       "2  z0osLHDvXvzfm57D4DmD2Q    3.0   \n",
       "3  jC-fGfx-YLqxVBcyTAd4Pw    3.0   \n",
       "4  Ki90-hauSIfW_7sBuBBqfA    2.0   \n",
       "\n",
       "                                                text  useful  \\\n",
       "0  Cute interior and owner (?) gave us tour of up...     1.0   \n",
       "1  Loved this tour! I grabbed a groupon and the p...     0.0   \n",
       "2  Service was crappy, and food was mediocre.  I ...     0.0   \n",
       "3  In a word... \"OVERRATED!\".  The food took fore...     0.0   \n",
       "4  NEVER AGAIN. This is a so called restaurant th...     2.0   \n",
       "\n",
       "                  user_id  \n",
       "0  bcjbaE6dDog4jkNY91ncLQ  \n",
       "1  r3zeYsv1XFBRA4dJpL78cw  \n",
       "2  xVKE_HJ2pwUtTdLbL3pnCg  \n",
       "3  EBa-0-6AKoy6jziNexDJtg  \n",
       "4  Z2cOL3n9V8NoguJ-uU_Nvw  "
      ]
     },
     "execution_count": 6,
     "metadata": {},
     "output_type": "execute_result"
    }
   ],
   "source": [
    "#reading the csv from previous directory\n",
    "pd.read_csv('../data/processed/reviews.csv',index_col=[0]).head()"
   ]
  },
  {
   "cell_type": "code",
   "execution_count": 7,
   "id": "a3aeb961",
   "metadata": {},
   "outputs": [],
   "source": [
    "# Importing the reviews dataset\n",
    "reviews_dataset = pd.read_csv('../data/processed/reviews.csv',index_col=[0])"
   ]
  },
  {
   "cell_type": "code",
   "execution_count": 9,
   "id": "f2fc6102",
   "metadata": {},
   "outputs": [],
   "source": [
    "# Creating X and Y for the classifier. X is the review text and Y is the rating\n",
    "X = reviews_dataset['text']\n",
    "y = reviews_dataset['stars']"
   ]
  },
  {
   "cell_type": "code",
   "execution_count": 11,
   "id": "b1a077c6",
   "metadata": {},
   "outputs": [
    {
     "data": {
      "text/plain": [
       "(1095800,)"
      ]
     },
     "execution_count": 11,
     "metadata": {},
     "output_type": "execute_result"
    }
   ],
   "source": [
    "X.shape"
   ]
  },
  {
   "cell_type": "code",
   "execution_count": null,
   "id": "b489ae5b",
   "metadata": {},
   "outputs": [],
   "source": []
  },
  {
   "cell_type": "markdown",
   "id": "32dda5f2",
   "metadata": {},
   "source": [
    "the text data has a lot of punctuations.. let's try and filter that out\n"
   ]
  },
  {
   "cell_type": "code",
   "execution_count": 13,
   "id": "6c2967cd",
   "metadata": {},
   "outputs": [
    {
     "data": {
      "text/plain": [
       "\"Cute interior and owner (?) gave us tour of upcoming patio/rooftop area which will be great on beautiful days like today. Cheese curds were very good and very filling. Really like that sandwiches come w salad, esp after eating too many curds! Had the onion, gruyere, tomato sandwich. Wasn't too much cheese which I liked. Needed something else...pepper jelly maybe. Would like to see more menu options added such as salads w fun cheeses. Lots of beer and wine as well as limited cocktails. Next time I will try one of the draft wines.\""
      ]
     },
     "execution_count": 13,
     "metadata": {},
     "output_type": "execute_result"
    }
   ],
   "source": [
    "X[0]"
   ]
  },
  {
   "cell_type": "code",
   "execution_count": 14,
   "id": "7a22f839",
   "metadata": {},
   "outputs": [
    {
     "data": {
      "text/plain": [
       "'!\"#$%&\\'()*+,-./:;<=>?@[\\\\]^_`{|}~'"
      ]
     },
     "execution_count": 14,
     "metadata": {},
     "output_type": "execute_result"
    }
   ],
   "source": [
    "import string\n",
    "string.punctuation"
   ]
  },
  {
   "cell_type": "code",
   "execution_count": 27,
   "id": "1cf29372",
   "metadata": {},
   "outputs": [],
   "source": [
    "chars = [x for x in X[0] if x not in string.punctuation]\n",
    "without_punctuations = ''.join(chars)"
   ]
  },
  {
   "cell_type": "markdown",
   "id": "bd8b0d4c",
   "metadata": {},
   "source": [
    "now let's remove stopwords using the nltk library"
   ]
  },
  {
   "cell_type": "code",
   "execution_count": 25,
   "id": "09fe4d26",
   "metadata": {},
   "outputs": [],
   "source": [
    "import nltk\n",
    "from nltk.corpus import stopwords"
   ]
  },
  {
   "cell_type": "code",
   "execution_count": 33,
   "id": "7ba47f31",
   "metadata": {},
   "outputs": [
    {
     "data": {
      "text/plain": [
       "['Cute',\n",
       " 'interior',\n",
       " 'owner',\n",
       " 'gave',\n",
       " 'us',\n",
       " 'tour',\n",
       " 'upcoming',\n",
       " 'patiorooftop',\n",
       " 'area',\n",
       " 'great',\n",
       " 'beautiful',\n",
       " 'days',\n",
       " 'like',\n",
       " 'today',\n",
       " 'Cheese',\n",
       " 'curds',\n",
       " 'good',\n",
       " 'filling',\n",
       " 'Really',\n",
       " 'like',\n",
       " 'sandwiches',\n",
       " 'come',\n",
       " 'w',\n",
       " 'salad',\n",
       " 'esp',\n",
       " 'eating',\n",
       " 'many',\n",
       " 'curds',\n",
       " 'Had',\n",
       " 'onion',\n",
       " 'gruyere',\n",
       " 'tomato',\n",
       " 'sandwich',\n",
       " 'Wasnt',\n",
       " 'much',\n",
       " 'cheese',\n",
       " 'I',\n",
       " 'liked',\n",
       " 'Needed',\n",
       " 'something',\n",
       " 'elsepepper',\n",
       " 'jelly',\n",
       " 'maybe',\n",
       " 'Would',\n",
       " 'like',\n",
       " 'see',\n",
       " 'menu',\n",
       " 'options',\n",
       " 'added',\n",
       " 'salads',\n",
       " 'w',\n",
       " 'fun',\n",
       " 'cheeses',\n",
       " 'Lots',\n",
       " 'beer',\n",
       " 'wine',\n",
       " 'well',\n",
       " 'limited',\n",
       " 'cocktails',\n",
       " 'Next',\n",
       " 'time',\n",
       " 'I',\n",
       " 'try',\n",
       " 'one',\n",
       " 'draft',\n",
       " 'wines']"
      ]
     },
     "execution_count": 33,
     "metadata": {},
     "output_type": "execute_result"
    }
   ],
   "source": [
    "[word for word in without_punctuations.split() if word not in stopwords.words('english')]"
   ]
  },
  {
   "cell_type": "code",
   "execution_count": 31,
   "id": "d6332859",
   "metadata": {},
   "outputs": [
    {
     "name": "stderr",
     "output_type": "stream",
     "text": [
      "[nltk_data] Downloading package stopwords to\n",
      "[nltk_data]     /Users/rahool/nltk_data...\n",
      "[nltk_data]   Unzipping corpora/stopwords.zip.\n"
     ]
    },
    {
     "data": {
      "text/plain": [
       "True"
      ]
     },
     "execution_count": 31,
     "metadata": {},
     "output_type": "execute_result"
    }
   ],
   "source": [
    "nltk.download('stopwords')"
   ]
  },
  {
   "cell_type": "code",
   "execution_count": 34,
   "id": "6b261afb",
   "metadata": {},
   "outputs": [
    {
     "data": {
      "text/plain": [
       "['Cute',\n",
       " 'interior',\n",
       " 'owner',\n",
       " 'gave',\n",
       " 'us',\n",
       " 'tour',\n",
       " 'upcoming',\n",
       " 'patiorooftop',\n",
       " 'area',\n",
       " 'great',\n",
       " 'beautiful',\n",
       " 'days',\n",
       " 'like',\n",
       " 'today',\n",
       " 'Cheese',\n",
       " 'curds',\n",
       " 'good',\n",
       " 'filling',\n",
       " 'Really',\n",
       " 'like',\n",
       " 'sandwiches',\n",
       " 'come',\n",
       " 'w',\n",
       " 'salad',\n",
       " 'esp',\n",
       " 'eating',\n",
       " 'many',\n",
       " 'curds',\n",
       " 'onion',\n",
       " 'gruyere',\n",
       " 'tomato',\n",
       " 'sandwich',\n",
       " 'Wasnt',\n",
       " 'much',\n",
       " 'cheese',\n",
       " 'liked',\n",
       " 'Needed',\n",
       " 'something',\n",
       " 'elsepepper',\n",
       " 'jelly',\n",
       " 'maybe',\n",
       " 'Would',\n",
       " 'like',\n",
       " 'see',\n",
       " 'menu',\n",
       " 'options',\n",
       " 'added',\n",
       " 'salads',\n",
       " 'w',\n",
       " 'fun',\n",
       " 'cheeses',\n",
       " 'Lots',\n",
       " 'beer',\n",
       " 'wine',\n",
       " 'well',\n",
       " 'limited',\n",
       " 'cocktails',\n",
       " 'Next',\n",
       " 'time',\n",
       " 'try',\n",
       " 'one',\n",
       " 'draft',\n",
       " 'wines']"
      ]
     },
     "execution_count": 34,
     "metadata": {},
     "output_type": "execute_result"
    }
   ],
   "source": [
    "# there are some stopwords in capital letters..\n",
    "[word for word in without_punctuations.split() if word.lower() not in stopwords.words('english')]"
   ]
  },
  {
   "cell_type": "markdown",
   "id": "67d6c569",
   "metadata": {},
   "source": [
    "we got it for a single text.. let's convert the preprocessing steps into a function to be applied on all the rows of the data"
   ]
  },
  {
   "cell_type": "code",
   "execution_count": 37,
   "id": "8c7a6a5d",
   "metadata": {},
   "outputs": [],
   "source": [
    "def text_preprocessing(text):\n",
    "    chars = [x for x in text if x not in string.punctuation]\n",
    "    without_punctuations = ''.join(chars)\n",
    "    removed_stopwords = [word for word in without_punctuations.split() if word.lower() not in stopwords.words('english')]\n",
    "    processed_text = \" \".join(removed_stopwords)\n",
    "    return processed_text"
   ]
  },
  {
   "cell_type": "code",
   "execution_count": 38,
   "id": "d6b80971",
   "metadata": {},
   "outputs": [
    {
     "data": {
      "text/plain": [
       "\"Cute interior and owner (?) gave us tour of upcoming patio/rooftop area which will be great on beautiful days like today. Cheese curds were very good and very filling. Really like that sandwiches come w salad, esp after eating too many curds! Had the onion, gruyere, tomato sandwich. Wasn't too much cheese which I liked. Needed something else...pepper jelly maybe. Would like to see more menu options added such as salads w fun cheeses. Lots of beer and wine as well as limited cocktails. Next time I will try one of the draft wines.\""
      ]
     },
     "execution_count": 38,
     "metadata": {},
     "output_type": "execute_result"
    }
   ],
   "source": [
    "X[0]"
   ]
  },
  {
   "cell_type": "code",
   "execution_count": 39,
   "id": "820c5e1f",
   "metadata": {},
   "outputs": [
    {
     "data": {
      "text/plain": [
       "'Cute interior owner gave us tour upcoming patiorooftop area great beautiful days like today Cheese curds good filling Really like sandwiches come w salad esp eating many curds onion gruyere tomato sandwich Wasnt much cheese liked Needed something elsepepper jelly maybe Would like see menu options added salads w fun cheeses Lots beer wine well limited cocktails Next time try one draft wines'"
      ]
     },
     "execution_count": 39,
     "metadata": {},
     "output_type": "execute_result"
    }
   ],
   "source": [
    "text_preprocessing(X[0])"
   ]
  },
  {
   "cell_type": "code",
   "execution_count": 44,
   "id": "5293237b",
   "metadata": {},
   "outputs": [
    {
     "name": "stdout",
     "output_type": "stream",
     "text": [
      "CPU times: user 24.7 s, sys: 3.95 s, total: 28.6 s\n",
      "Wall time: 28.8 s\n"
     ]
    }
   ],
   "source": [
    "%%time\n",
    "\n",
    "X_try = X[:5000].apply(text_preprocessing)"
   ]
  },
  {
   "cell_type": "markdown",
   "id": "c312271f",
   "metadata": {},
   "source": [
    "there are almost 1M data points here that's why we are applying it only on top 50,000 datapoints only and every 5000 takes around 30secs, so we will use only 50,000 so on an average it will take 300sec."
   ]
  },
  {
   "cell_type": "markdown",
   "id": "b1094ff9",
   "metadata": {},
   "source": [
    "Instead of applying it on all the texts.. let's use this as an analyser in count vectorizer..\n",
    "this will help in using the words as vectors and create bag of words to apply naive bayes"
   ]
  },
  {
   "cell_type": "code",
   "execution_count": 46,
   "id": "35a10f42",
   "metadata": {},
   "outputs": [],
   "source": [
    "def text_preprocessing_updated(text):\n",
    "    chars = [x for x in text if x not in string.punctuation]\n",
    "    without_punctuations = ''.join(chars)\n",
    "    removed_stopwords = [word for word in without_punctuations.split() if word.lower() not in stopwords.words('english')]\n",
    "#     processed_text = \" \".join(removed_stopwords)\n",
    "    # Instead of joining lets return it as a list of words.\n",
    "    return removed_stopwords"
   ]
  },
  {
   "cell_type": "markdown",
   "id": "55f956ea",
   "metadata": {},
   "source": [
    "let's work on a sample of data only i.e. 50,000 texts"
   ]
  },
  {
   "cell_type": "code",
   "execution_count": 47,
   "id": "66d62290",
   "metadata": {},
   "outputs": [],
   "source": [
    "X_to_use = X[:50000]"
   ]
  },
  {
   "cell_type": "code",
   "execution_count": 48,
   "id": "518ba528",
   "metadata": {},
   "outputs": [
    {
     "name": "stdout",
     "output_type": "stream",
     "text": [
      "CPU times: user 8min 19s, sys: 1min 20s, total: 9min 40s\n",
      "Wall time: 9min 47s\n"
     ]
    }
   ],
   "source": [
    "%%time\n",
    "# Expected 5min\n",
    "\n",
    "from sklearn.feature_extraction.text import CountVectorizer\n",
    "vector = CountVectorizer(analyzer=text_preprocessing_updated).fit(X_to_use)\n",
    "X_vectors = vector.transform(X_to_use)"
   ]
  },
  {
   "cell_type": "code",
   "execution_count": 54,
   "id": "c0fd6307",
   "metadata": {},
   "outputs": [
    {
     "data": {
      "text/plain": [
       "(50000, 74384)"
      ]
     },
     "execution_count": 54,
     "metadata": {},
     "output_type": "execute_result"
    }
   ],
   "source": [
    "X_vectors.shape"
   ]
  },
  {
   "cell_type": "code",
   "execution_count": 56,
   "id": "4addf1b9",
   "metadata": {},
   "outputs": [],
   "source": [
    "y_to_use = y[:50000]"
   ]
  },
  {
   "cell_type": "code",
   "execution_count": 58,
   "id": "69777c0c",
   "metadata": {},
   "outputs": [
    {
     "data": {
      "text/plain": [
       "(50000,)"
      ]
     },
     "execution_count": 58,
     "metadata": {},
     "output_type": "execute_result"
    }
   ],
   "source": [
    "y_to_use.shape"
   ]
  },
  {
   "cell_type": "code",
   "execution_count": 59,
   "id": "75a2d158",
   "metadata": {},
   "outputs": [],
   "source": [
    "# Spitting data into training, testing and validation set\n",
    "from sklearn.model_selection import train_test_split\n",
    "X_Train, X_test, y_Train, y_test = train_test_split(X_vectors, y_to_use, test_size=0.20, random_state=35, shuffle =False)\n",
    "X_train, X_validation , y_train, y_validation = train_test_split(X_Train,y_Train, test_size = 0.1,random_state = 35, shuffle = False)"
   ]
  },
  {
   "cell_type": "code",
   "execution_count": 61,
   "id": "4ed7b661",
   "metadata": {},
   "outputs": [
    {
     "name": "stdout",
     "output_type": "stream",
     "text": [
      "Shape of X_train : (36000, 74384)\n",
      "Shape of X_test : (10000, 74384)\n",
      "Shape of y_train : (36000,)\n",
      "Shape of y_test : (10000,)\n",
      "Shape of X_validation : (4000, 74384)\n",
      "Shape of y_validation : (4000,)\n"
     ]
    }
   ],
   "source": [
    "print(\"Shape of X_train :\" ,X_train.shape)\n",
    "print(\"Shape of X_test :\" ,X_test.shape)\n",
    "print(\"Shape of y_train :\" ,y_train.shape)\n",
    "print(\"Shape of y_test :\" ,y_test.shape)\n",
    "print(\"Shape of X_validation :\" ,X_validation.shape)\n",
    "print(\"Shape of y_validation :\" ,y_validation.shape)"
   ]
  },
  {
   "cell_type": "code",
   "execution_count": 62,
   "id": "a1c31949",
   "metadata": {},
   "outputs": [
    {
     "data": {
      "text/plain": [
       "MultinomialNB()"
      ]
     },
     "execution_count": 62,
     "metadata": {},
     "output_type": "execute_result"
    }
   ],
   "source": [
    "# Multinomial Naive Bayes modle and fit it to our training set\n",
    "from sklearn.naive_bayes import MultinomialNB\n",
    "classifier = MultinomialNB()\n",
    "classifier.fit(X_train, y_train)"
   ]
  },
  {
   "cell_type": "code",
   "execution_count": 67,
   "id": "d463b4af",
   "metadata": {},
   "outputs": [
    {
     "name": "stdout",
     "output_type": "stream",
     "text": [
      "Actual Ratings(Stars):\n",
      " 36000    5.0\n",
      "36001    5.0\n",
      "36002    5.0\n",
      "36003    3.0\n",
      "36004    5.0\n",
      "36005    5.0\n",
      "36006    2.0\n",
      "36007    5.0\n",
      "36008    4.0\n",
      "36009    4.0\n",
      "36010    4.0\n",
      "36011    1.0\n",
      "36012    5.0\n",
      "36013    4.0\n",
      "36014    5.0\n",
      "Name: stars, dtype: float64\n",
      "Predicted Ratings:  [5. 5. 5. 4. 4. 5. 1. 4. 4. 4. 4. 1. 5. 5. 5.]\n"
     ]
    }
   ],
   "source": [
    "#Let's test our model on the validation data\n",
    "\n",
    "preds = classifier.predict(X_validation)\n",
    "print(\"Actual Ratings(Stars):\\n\",y_validation[:15])\n",
    "print(\"Predicted Ratings: \",preds[:15])"
   ]
  },
  {
   "cell_type": "markdown",
   "id": "ceaa441e",
   "metadata": {},
   "source": [
    "## Evaluation Metrics"
   ]
  },
  {
   "cell_type": "code",
   "execution_count": 69,
   "id": "4442e285",
   "metadata": {},
   "outputs": [
    {
     "data": {
      "text/plain": [
       "0.64475"
      ]
     },
     "execution_count": 69,
     "metadata": {},
     "output_type": "execute_result"
    }
   ],
   "source": [
    "from sklearn.metrics import accuracy_score\n",
    "accuracy_score(y_validation, preds)"
   ]
  },
  {
   "cell_type": "markdown",
   "id": "6498f29a",
   "metadata": {},
   "source": [
    "Our accuracy of the model is 64%"
   ]
  },
  {
   "cell_type": "code",
   "execution_count": 73,
   "id": "fbcce9af",
   "metadata": {},
   "outputs": [
    {
     "name": "stdout",
     "output_type": "stream",
     "text": [
      "[[ 303   22   34   41   22]\n",
      " [  65   14   68   91   19]\n",
      " [  34    3   67  213   70]\n",
      " [  14    2   26  441  422]\n",
      " [  18    2    7  248 1754]]\n"
     ]
    }
   ],
   "source": [
    "# Classification Report of the model\n",
    "from sklearn.metrics import confusion_matrix, classification_report\n",
    "print(confusion_matrix(y_validation, preds))"
   ]
  },
  {
   "cell_type": "code",
   "execution_count": 76,
   "id": "1207528c",
   "metadata": {},
   "outputs": [
    {
     "name": "stdout",
     "output_type": "stream",
     "text": [
      "              precision    recall  f1-score   support\n",
      "\n",
      "         1.0       0.70      0.72      0.71       422\n",
      "         2.0       0.33      0.05      0.09       257\n",
      "         3.0       0.33      0.17      0.23       387\n",
      "         4.0       0.43      0.49      0.45       905\n",
      "         5.0       0.77      0.86      0.81      2029\n",
      "\n",
      "    accuracy                           0.64      4000\n",
      "   macro avg       0.51      0.46      0.46      4000\n",
      "weighted avg       0.61      0.64      0.62      4000\n",
      "\n"
     ]
    }
   ],
   "source": [
    "print(classification_report(y_validation, preds))"
   ]
  },
  {
   "cell_type": "code",
   "execution_count": 72,
   "id": "22ebfda9",
   "metadata": {},
   "outputs": [],
   "source": [
    "# Our model is very unlikely to predict the intermediate star ratings"
   ]
  },
  {
   "cell_type": "code",
   "execution_count": 78,
   "id": "1232ec10",
   "metadata": {},
   "outputs": [
    {
     "data": {
      "text/plain": [
       "<sklearn.metrics._plot.confusion_matrix.ConfusionMatrixDisplay at 0x7f827938bd90>"
      ]
     },
     "execution_count": 78,
     "metadata": {},
     "output_type": "execute_result"
    },
    {
     "data": {
      "image/png": "[encoded data removed]",
      "text/plain": [
       "<Figure size 432x288 with 2 Axes>"
      ]
     },
     "metadata": {
      "needs_background": "light"
     },
     "output_type": "display_data"
    }
   ],
   "source": [
    "from sklearn.metrics import plot_confusion_matrix\n",
    "plot_confusion_matrix(classifier,X_validation,y_validation)"
   ]
  },
  {
   "cell_type": "code",
   "execution_count": 93,
   "id": "2298584d",
   "metadata": {},
   "outputs": [
    {
     "data": {
      "text/html": [
       "<style type=\"text/css\">\n",
       "#T_ee0b4_row0_col0 {\n",
       "  width: 10em;\n",
       "  background: linear-gradient(90deg, #d65f5f 100.0%, transparent 100.0%);\n",
       "}\n",
       "#T_ee0b4_row1_col0 {\n",
       "  width: 10em;\n",
       "  background: linear-gradient(90deg, #d65f5f 54.3%, transparent 54.3%);\n",
       "}\n",
       "#T_ee0b4_row2_col0 {\n",
       "  width: 10em;\n",
       "  background: linear-gradient(90deg, #d65f5f 22.4%, transparent 22.4%);\n",
       "}\n",
       "#T_ee0b4_row3_col0 {\n",
       "  width: 10em;\n",
       "  background: linear-gradient(90deg, #d65f5f 16.6%, transparent 16.6%);\n",
       "}\n",
       "#T_ee0b4_row4_col0 {\n",
       "  width: 10em;\n",
       "  background: linear-gradient(90deg, #d65f5f 13.6%, transparent 13.6%);\n",
       "}\n",
       "</style>\n",
       "<table id=\"T_ee0b4\">\n",
       "  <thead>\n",
       "    <tr>\n",
       "      <th class=\"blank level0\" >&nbsp;</th>\n",
       "      <th id=\"T_ee0b4_level0_col0\" class=\"col_heading level0 col0\" >stars</th>\n",
       "    </tr>\n",
       "  </thead>\n",
       "  <tbody>\n",
       "    <tr>\n",
       "      <th id=\"T_ee0b4_level0_row0\" class=\"row_heading level0 row0\" >5.000000</th>\n",
       "      <td id=\"T_ee0b4_row0_col0\" class=\"data row0 col0\" >17394</td>\n",
       "    </tr>\n",
       "    <tr>\n",
       "      <th id=\"T_ee0b4_level0_row1\" class=\"row_heading level0 row1\" >4.000000</th>\n",
       "      <td id=\"T_ee0b4_row1_col0\" class=\"data row1 col0\" >9445</td>\n",
       "    </tr>\n",
       "    <tr>\n",
       "      <th id=\"T_ee0b4_level0_row2\" class=\"row_heading level0 row2\" >3.000000</th>\n",
       "      <td id=\"T_ee0b4_row2_col0\" class=\"data row2 col0\" >3899</td>\n",
       "    </tr>\n",
       "    <tr>\n",
       "      <th id=\"T_ee0b4_level0_row3\" class=\"row_heading level0 row3\" >1.000000</th>\n",
       "      <td id=\"T_ee0b4_row3_col0\" class=\"data row3 col0\" >2890</td>\n",
       "    </tr>\n",
       "    <tr>\n",
       "      <th id=\"T_ee0b4_level0_row4\" class=\"row_heading level0 row4\" >2.000000</th>\n",
       "      <td id=\"T_ee0b4_row4_col0\" class=\"data row4 col0\" >2372</td>\n",
       "    </tr>\n",
       "  </tbody>\n",
       "</table>\n"
      ],
      "text/plain": [
       "<pandas.io.formats.style.Styler at 0x7f82bf7034c0>"
      ]
     },
     "execution_count": 93,
     "metadata": {},
     "output_type": "execute_result"
    }
   ],
   "source": [
    "y_train.value_counts().to_frame().style.bar()"
   ]
  },
  {
   "cell_type": "markdown",
   "id": "78944222",
   "metadata": {},
   "source": [
    "# Linear Support Vector Machine"
   ]
  },
  {
   "cell_type": "code",
   "execution_count": null,
   "id": "ed752ce2",
   "metadata": {},
   "outputs": [],
   "source": []
  },
  {
   "cell_type": "code",
   "execution_count": null,
   "id": "615862c8",
   "metadata": {},
   "outputs": [],
   "source": []
  },
  {
   "cell_type": "code",
   "execution_count": null,
   "id": "b7682a57",
   "metadata": {},
   "outputs": [],
   "source": []
  },
  {
   "cell_type": "code",
   "execution_count": null,
   "id": "9de49d8a",
   "metadata": {},
   "outputs": [],
   "source": []
  },
  {
   "cell_type": "code",
   "execution_count": null,
   "id": "e179c081",
   "metadata": {},
   "outputs": [],
   "source": []
  },
  {
   "cell_type": "code",
   "execution_count": null,
   "id": "7588d987",
   "metadata": {},
   "outputs": [],
   "source": []
  },
  {
   "cell_type": "code",
   "execution_count": null,
   "id": "2d1e1e1f",
   "metadata": {},
   "outputs": [],
   "source": []
  },
  {
   "cell_type": "code",
   "execution_count": null,
   "id": "5dcd4067",
   "metadata": {},
   "outputs": [],
   "source": []
  },
  {
   "cell_type": "code",
   "execution_count": null,
   "id": "1a9ac049",
   "metadata": {},
   "outputs": [],
   "source": []
  },
  {
   "cell_type": "code",
   "execution_count": null,
   "id": "e6122aff",
   "metadata": {},
   "outputs": [],
   "source": []
  },
  {
   "cell_type": "code",
   "execution_count": null,
   "id": "bd937ec1",
   "metadata": {},
   "outputs": [],
   "source": []
  },
  {
   "cell_type": "code",
   "execution_count": null,
   "id": "48082ac0",
   "metadata": {},
   "outputs": [],
   "source": []
  }
 ],
 "metadata": {
  "kernelspec": {
   "display_name": "Python 3 (ipykernel)",
   "language": "python",
   "name": "python3"
  },
  "language_info": {
   "codemirror_mode": {
    "name": "ipython",
    "version": 3
   },
   "file_extension": ".py",
   "mimetype": "text/x-python",
   "name": "python",
   "nbconvert_exporter": "python",
   "pygments_lexer": "ipython3",
   "version": "3.10.9"
  }
 },
 "nbformat": 4,
 "nbformat_minor": 5
}
