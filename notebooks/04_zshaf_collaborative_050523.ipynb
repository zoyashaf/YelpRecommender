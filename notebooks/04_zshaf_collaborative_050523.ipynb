{
 "cells": [
  {
   "cell_type": "code",
   "execution_count": 2,
   "metadata": {},
   "outputs": [],
   "source": [
    "import numpy as np\n",
    "import pandas as pd\n",
    "import matplotlib.pyplot as plt\n",
    "import seaborn as sns \n",
    "from scipy.sparse.linalg import svds\n",
    "from scipy.spatial.distance import cosine \n",
    "from sklearn.metrics.pairwise import cosine_similarity\n",
    "from sklearn.metrics import mean_squared_error\n",
    "from sklearn.metrics import mean_absolute_error\n",
    "from sklearn.model_selection import train_test_split\n"
   ]
  },
  {
   "attachments": {},
   "cell_type": "markdown",
   "metadata": {},
   "source": [
    "# Collaborative Filter "
   ]
  },
  {
   "attachments": {},
   "cell_type": "markdown",
   "metadata": {},
   "source": [
    "## Data cleaning based on previous work\n",
    "For the collaborative filter, I combined the business and reviews dataframe, subsetting restaurants in New Orleans, dropped irrelevant columns and filtered out users who have more than 100 reviews. Furthur data cleaning would involve getting rid of the restaurants tagged as automotive / bed and breakfast as I did for my baseline. We should also get rid of the \"haters\" that Analee found. "
   ]
  },
  {
   "cell_type": "code",
   "execution_count": 3,
   "metadata": {},
   "outputs": [
    {
     "data": {
      "text/plain": [
       "(52286, 6)"
      ]
     },
     "execution_count": 3,
     "metadata": {},
     "output_type": "execute_result"
    }
   ],
   "source": [
    "path = '/Users/shafz/OneDrive/Documents/machine-learning-dse-i210-final-project-yelprestaurantrecommender/data/raw/'\n",
    "business = pd.read_csv(path+'raw_business.csv')\n",
    "restaurants = business[business.categories.fillna('-').str.lower().str.contains('restaurant')]\n",
    "\n",
    "restaurants.columns = ['business_id', 'name', 'address', 'city', 'state', 'postal_code',\n",
    "       'latitude', 'longitude', 'biz_stars', 'biz_review_count', 'is_open',\n",
    "       'attributes', 'categories', 'hours']\n",
    "\n",
    "restaurants = restaurants.drop(['address', 'state', 'postal_code',\n",
    "       'latitude', 'longitude', 'is_open', 'attributes', 'hours'], axis = 1)\n",
    "\n",
    "restaurants.shape"
   ]
  },
  {
   "cell_type": "code",
   "execution_count": 4,
   "metadata": {},
   "outputs": [
    {
     "data": {
      "text/plain": [
       "(51934, 6)"
      ]
     },
     "execution_count": 4,
     "metadata": {},
     "output_type": "execute_result"
    }
   ],
   "source": [
    "# removing irrelevant categories\n",
    "lst = ['Automotive','Bed & Breakfast']  # categories we want to exclude \n",
    "rstr = '|'.join(lst)\n",
    "idx_to_remove = restaurants[restaurants.categories.fillna('-').str.contains(rstr)].index\n",
    "restaurants.drop(idx_to_remove, axis = 0, inplace=True)\n",
    "\n",
    "restaurants.shape"
   ]
  },
  {
   "cell_type": "code",
   "execution_count": 5,
   "metadata": {},
   "outputs": [],
   "source": [
    "reviews = pd.read_csv(path  + 'raw_reviews.csv')"
   ]
  },
  {
   "cell_type": "code",
   "execution_count": 6,
   "metadata": {},
   "outputs": [],
   "source": [
    "reviews.drop('Unnamed: 0', axis =1, inplace = True)\n",
    "reviews = reviews.drop(['useful', 'funny','cool','date'], axis = 1)"
   ]
  },
  {
   "cell_type": "code",
   "execution_count": 7,
   "metadata": {},
   "outputs": [],
   "source": [
    "# merging business and reviews data together, filtering out the restaurants in New Orleans, and dropping duplicates\n",
    "merged_df = pd.merge(reviews, restaurants, on='business_id')\n",
    "nola = merged_df.loc[merged_df['city']=='New Orleans']\n",
    "nola = nola.drop_duplicates(['user_id', 'business_id', 'stars'], keep='first')"
   ]
  },
  {
   "cell_type": "code",
   "execution_count": 8,
   "metadata": {},
   "outputs": [
    {
     "name": "stdout",
     "output_type": "stream",
     "text": [
      "Data shape after filtering by users:  (30925, 10)\n",
      "Data shape after also filtering by restaurants:  (19539, 10)\n",
      "Unique users:  327\n",
      "Unqiue businesses:  436\n"
     ]
    }
   ],
   "source": [
    "## I'm going to focus my analysis on users that have at least 50 reviews and restaurants that have at least 50 reviews \n",
    "user_counts = nola['user_id'].value_counts().to_dict()\n",
    "user_list = []\n",
    "\n",
    "for key in user_counts.keys(): \n",
    "    if user_counts[key] >= 50: \n",
    "        user_list.append(key)\n",
    "\n",
    "filtered_nola = nola[nola['user_id'].isin(user_list)]\n",
    "print('Data shape after filtering by users: ', filtered_nola.shape)\n",
    "\n",
    "biz_counts = filtered_nola['business_id'].value_counts().to_dict()\n",
    "biz_list = []\n",
    "\n",
    "for key in biz_counts.keys(): \n",
    "    if biz_counts[key] >= 25: \n",
    "        biz_list.append(key)\n",
    "\n",
    "filtered_nola = filtered_nola[filtered_nola['business_id'].isin(biz_list)]\n",
    "print('Data shape after also filtering by restaurants: ', filtered_nola.shape)\n",
    "print('Unique users: ', len(filtered_nola['user_id'].unique()))\n",
    "print('Unqiue businesses: ', len(filtered_nola['business_id'].unique()))"
   ]
  },
  {
   "attachments": {},
   "cell_type": "markdown",
   "metadata": {},
   "source": [
    "* Well.... after exclusing restaurants with less than 100 reviews, we are left with only 161 rows which is trash. I'm going to try filtering by restaurants with more than 25 restaurants and see what happens. \n",
    "* Okay, now we are at 3741 rows for 115 different restaurants ... not bad. What if I relax my constaint on the users from 100 to 50? \n",
    "* We have 19539 rows for 436 different businesses and 327 businesses. We have ended up with more data than if we filtered by users with more than 100 reviews so I am not sure if this helped in reducing the sparsity at all but we shall see"
   ]
  },
  {
   "cell_type": "code",
   "execution_count": 9,
   "metadata": {},
   "outputs": [],
   "source": [
    "user_data = pd.read_csv(path + 'raw_users.csv')\n",
    "user_stars = user_data[['user_id', 'average_stars']]"
   ]
  },
  {
   "cell_type": "code",
   "execution_count": 10,
   "metadata": {},
   "outputs": [
    {
     "data": {
      "text/plain": [
       "4    7613\n",
       "5    6173\n",
       "3    3805\n",
       "2    1432\n",
       "1     516\n",
       "Name: stars, dtype: int64"
      ]
     },
     "execution_count": 10,
     "metadata": {},
     "output_type": "execute_result"
    }
   ],
   "source": [
    "filtered_nola = pd.merge(filtered_nola, user_stars, on='user_id')\n",
    "filtered_nola['stars'].value_counts()"
   ]
  },
  {
   "cell_type": "code",
   "execution_count": 11,
   "metadata": {},
   "outputs": [],
   "source": [
    "## create a dictionary which maps business id to restaurant name\n",
    "biz_dict = {}\n",
    "for row in filtered_nola.itertuples():\n",
    "    biz_dict[row.business_id] = row.name"
   ]
  },
  {
   "attachments": {},
   "cell_type": "markdown",
   "metadata": {},
   "source": [
    "## Data Preparation\n",
    "\n",
    "We are going to create a hold out set for evaluation "
   ]
  },
  {
   "cell_type": "code",
   "execution_count": 12,
   "metadata": {},
   "outputs": [
    {
     "name": "stdout",
     "output_type": "stream",
     "text": [
      "Train set len:  15826\n",
      "Test set len:  1954\n",
      "Val set len:  1759\n"
     ]
    }
   ],
   "source": [
    "train, test = train_test_split(filtered_nola, test_size =.10, random_state=42, shuffle=True)\n",
    "train, val = train_test_split(train, test_size =.10, random_state=42, shuffle = True)\n",
    "\n",
    "print('Train set len: ', len(train))\n",
    "print('Test set len: ', len(test))\n",
    "print('Val set len: ', len(val))"
   ]
  },
  {
   "attachments": {},
   "cell_type": "markdown",
   "metadata": {},
   "source": [
    "Just going to do a sanity check to make sure all businesses and all users are represented in each split"
   ]
  },
  {
   "cell_type": "code",
   "execution_count": 13,
   "metadata": {},
   "outputs": [
    {
     "name": "stdout",
     "output_type": "stream",
     "text": [
      "# of Biz in Original set:  436\n",
      "# of Biz in Train set:  436\n",
      "# of Biz in Test set:  420\n",
      "# of Biz in Val set:  419\n",
      "# of Users in Original set:  327\n",
      "# of Users in Train set:  327\n",
      "# of Users in Test set:  320\n",
      "# of Users in Val set:  324\n"
     ]
    }
   ],
   "source": [
    "print('# of Biz in Original set: ', len(filtered_nola['business_id'].unique()))\n",
    "print('# of Biz in Train set: ', len(train['business_id'].unique()))\n",
    "print('# of Biz in Test set: ', len(test['business_id'].unique()))\n",
    "print('# of Biz in Val set: ', len(val['business_id'].unique()))\n",
    "\n",
    "print('# of Users in Original set: ', len(filtered_nola['user_id'].unique()))\n",
    "print('# of Users in Train set: ', len(train['user_id'].unique()))\n",
    "print('# of Users in Test set: ', len(test['user_id'].unique()))\n",
    "print('# of Users in Val set: ', len(val['user_id'].unique()))"
   ]
  },
  {
   "attachments": {},
   "cell_type": "markdown",
   "metadata": {},
   "source": [
    "Ideally, we want reviews for all the businesses in the train split. We also want all users in the train split. My reasoning behind this is that if we only see the business in the test or validation split, then we will not be able to make predictions for the user rating for that business based on the train set as we won't know what similar users rated that restaurant. Similarly, if we only see some users in the test or validation split, how can we calculate similar users for them? "
   ]
  },
  {
   "attachments": {},
   "cell_type": "markdown",
   "metadata": {},
   "source": [
    "## Some Simple Baselines \n",
    "\n",
    "Just for comparisons sake, we are going to see what our root mean squared error (RMSE) and mean absolute error (MAE) come out to if we just predict the average business rating / average user rating every single time. Even though I can do this on the entire dataframe in one go since we are not training anything and theres no threat of information leakage in any way, I am still going to apply it to each split individually so we can compare easily later on"
   ]
  },
  {
   "cell_type": "code",
   "execution_count": 14,
   "metadata": {},
   "outputs": [],
   "source": [
    "def predictAvgBiz(df, user = False):\n",
    "\n",
    "    gt_stars = df['stars'].to_numpy()\n",
    "\n",
    "    if user: \n",
    "        pred = df['average_stars'].to_numpy()\n",
    "    else: \n",
    "        pred = df['biz_stars'].to_numpy()\n",
    "\n",
    "    return (mean_squared_error(gt_stars, pred, squared=False), mean_absolute_error(gt_stars, pred))"
   ]
  },
  {
   "cell_type": "code",
   "execution_count": 15,
   "metadata": {},
   "outputs": [
    {
     "name": "stdout",
     "output_type": "stream",
     "text": [
      "Train rmse:  0.99\n",
      "Train mae:  0.75\n",
      "-------------------------------------\n",
      "Val rmse:  1.0\n",
      "Val mae:  0.76\n",
      "-------------------------------------\n",
      "Test rmse:  0.98\n",
      "Test mae:  0.75\n"
     ]
    }
   ],
   "source": [
    "### Predicting average business rating as user rating \n",
    "\n",
    "## evaluating train set \n",
    "train_rmse, train_mae = predictAvgBiz(train, user = False)\n",
    "print('Train rmse: ', round(train_rmse, 2))\n",
    "print('Train mae: ', round(train_mae, 2))\n",
    "print('-------------------------------------')\n",
    "## evaluating validation set \n",
    "val_rmse, val_mae = predictAvgBiz(val, user = False)\n",
    "print('Val rmse: ', round(val_rmse, 2))\n",
    "print('Val mae: ', round(val_mae, 2))\n",
    "print('-------------------------------------')\n",
    "## evaluating test set \n",
    "test_rmse, test_mae = predictAvgBiz(test, user = False)\n",
    "print('Test rmse: ', round(test_rmse, 2))\n",
    "print('Test mae: ', round(test_mae, 2))\n"
   ]
  },
  {
   "cell_type": "code",
   "execution_count": 16,
   "metadata": {},
   "outputs": [
    {
     "name": "stdout",
     "output_type": "stream",
     "text": [
      "Train rmse:  0.94\n",
      "Train mae:  0.73\n",
      "-------------------------------------\n",
      "Val rmse:  0.98\n",
      "Val mae:  0.75\n",
      "-------------------------------------\n",
      "Test rmse:  0.94\n",
      "Test mae:  0.73\n"
     ]
    }
   ],
   "source": [
    "### Predicting average user rating as user rating \n",
    "\n",
    "## evaluating train set \n",
    "train_rmse, train_mae = predictAvgBiz(train, user = True)\n",
    "print('Train rmse: ', round(train_rmse, 2))\n",
    "print('Train mae: ', round(train_mae, 2))\n",
    "print('-------------------------------------')\n",
    "## evaluating validation set \n",
    "val_rmse, val_mae = predictAvgBiz(val, user = True)\n",
    "print('Val rmse: ', round(val_rmse, 2))\n",
    "print('Val mae: ', round(val_mae, 2))\n",
    "print('-------------------------------------')\n",
    "## evaluating test set \n",
    "test_rmse, test_mae = predictAvgBiz(test, user = True)\n",
    "print('Test rmse: ', round(test_rmse, 2))\n",
    "print('Test mae: ', round(test_mae, 2))"
   ]
  },
  {
   "attachments": {},
   "cell_type": "markdown",
   "metadata": {},
   "source": [
    "## Building the Filter\n",
    "For the collaborative filer, I \n",
    "\n",
    "* Created a pivot table where the rows are the users and the columns are the different restaurants. The value in each cell is the user rating for that restaurant.\n",
    "* Calculated the sparsity \n",
    "* Normalized the data and set all NaNs to 0.\n",
    "* Filled in the missing values using singular value decomposition (SVD) \n",
    "* Found most similar users using cosine similarity \n",
    "* Did some brief analysis on the results of the cosine similarity \n",
    "* Built a collaborative filter by combining the normalization, SVD reconstruction, and cosine similarity calculation\n",
    "    * The collaborative filter finds the top five most similar users to a given user, calculates the average rating of restaurants that the similar users have visited but the user of interest has not and then recommends the top 5 restaurants with the highest ratings.\n",
    "* Evaluaed performance using MSE and MAE\n",
    "* Determined the optimal value of k based on the MSE and MAE "
   ]
  },
  {
   "attachments": {},
   "cell_type": "markdown",
   "metadata": {},
   "source": [
    "### Preparing Data"
   ]
  },
  {
   "cell_type": "code",
   "execution_count": 17,
   "metadata": {},
   "outputs": [],
   "source": [
    "def calcSparsity(df):\n",
    "    number_of_empty = df.isnull().values.sum()\n",
    "    total_number = df.size\n",
    "    sparsity = number_of_empty/total_number\n",
    "    print('Sparsity of train set: {}'.format(round(sparsity,3)))\n",
    "\n",
    "def makePivot(df):\n",
    "    user_ratings = df[['user_id', 'business_id', 'stars']]\n",
    "    user_ratings_pivot = user_ratings.pivot_table(index='user_id', columns='business_id', values='stars', aggfunc='mean')\n",
    "    return user_ratings_pivot"
   ]
  },
  {
   "cell_type": "code",
   "execution_count": 18,
   "metadata": {},
   "outputs": [
    {
     "name": "stdout",
     "output_type": "stream",
     "text": [
      "Sparsity of train set: 0.894\n"
     ]
    }
   ],
   "source": [
    "# creating pivot table with users as the row and restaurants as the columns\n",
    "train_pivot = makePivot(train)\n",
    "train_pivot.head()\n",
    "\n",
    "## calculating sparsity \n",
    "calcSparsity(train_pivot)"
   ]
  },
  {
   "attachments": {},
   "cell_type": "markdown",
   "metadata": {},
   "source": [
    "### Filling in Missing Values with SVD"
   ]
  },
  {
   "cell_type": "code",
   "execution_count": 19,
   "metadata": {},
   "outputs": [],
   "source": [
    "def compute_filled_matrix(pivot_df, k_val):\n",
    "    \"\"\"\n",
    "    Takes in the number of latent vectors and outputs \n",
    "    a reconstructed/filled pivot table \n",
    "    \"\"\"\n",
    "    # Normalize pivot table \n",
    "    avg_ratings = pivot_df.mean(axis=1)\n",
    "    user_ratings_centered = pivot_df.sub(avg_ratings, axis=0)\n",
    "    user_ratings_centered = user_ratings_centered.fillna(0)\n",
    "    user_ratings_centered.head()\n",
    "\n",
    "    # Calculate SVD and use it to reconstruct the pivot table \n",
    "    U, sigma, Vt = svds(user_ratings_centered.to_numpy(), k = k_val, maxiter=1000, tol=0)\n",
    "    sigma = np.diag(sigma)\n",
    "    recalculated_ratings = np.dot(np.dot(U, sigma), Vt)\n",
    "    recalculated_ratings = recalculated_ratings + avg_ratings.values.reshape(-1, 1)\n",
    "\n",
    "    # Create a dataframe from the SVD recalculation \n",
    "    user_ratings_filled = pd.DataFrame(recalculated_ratings,\n",
    "                                    index=pivot_df.index,\n",
    "                                    columns=pivot_df.columns)\n",
    "\n",
    "    return user_ratings_filled"
   ]
  },
  {
   "cell_type": "code",
   "execution_count": 20,
   "metadata": {},
   "outputs": [
    {
     "data": {
      "text/html": [
       "<div>\n",
       "<style scoped>\n",
       "    .dataframe tbody tr th:only-of-type {\n",
       "        vertical-align: middle;\n",
       "    }\n",
       "\n",
       "    .dataframe tbody tr th {\n",
       "        vertical-align: top;\n",
       "    }\n",
       "\n",
       "    .dataframe thead th {\n",
       "        text-align: right;\n",
       "    }\n",
       "</style>\n",
       "<table border=\"1\" class=\"dataframe\">\n",
       "  <thead>\n",
       "    <tr style=\"text-align: right;\">\n",
       "      <th>business_id</th>\n",
       "      <th>-If0ps0QhOLCYVWQWs9RYg</th>\n",
       "      <th>-Tskf8WK17rb3ZfeFuRSWA</th>\n",
       "      <th>-VlBFlHwX-Pt6Xyzs9roGw</th>\n",
       "      <th>-fJPJP7iOd1ukDNqTSINIg</th>\n",
       "      <th>-psZLTe6IJTQUB-bZF7Zyg</th>\n",
       "      <th>06NHXjVHiGKNpZ2XeajVkA</th>\n",
       "      <th>0DdmKihJ90qKP5TAM3c2yQ</th>\n",
       "      <th>0KTwW1eC1YAjR-zDr8w4jA</th>\n",
       "      <th>0UJqTczta018RoktahC0jw</th>\n",
       "      <th>0ZeGH15LV98FuijA1XrWoA</th>\n",
       "      <th>...</th>\n",
       "      <th>yTJ2Ir6CMBzThLK5dmACvQ</th>\n",
       "      <th>yY3kq6_2m1FyY9MgaiHgoQ</th>\n",
       "      <th>ydmJoaK1PMlwLvMnbFXf1w</th>\n",
       "      <th>yf8a1DOlqoqlKHuLSKEfxg</th>\n",
       "      <th>yz0KWVamNhqiZGz7XTClzg</th>\n",
       "      <th>z0MXYel0okwMqLjgMkKD2A</th>\n",
       "      <th>zSqTndm5Alq9dW1PyzbdTA</th>\n",
       "      <th>zWfzgYe2nT9mHYm_vl1Ukw</th>\n",
       "      <th>zYyVEC0IF86xSHF3GFmvkg</th>\n",
       "      <th>zgpx6YqA7KeY9-3xbNEn3A</th>\n",
       "    </tr>\n",
       "    <tr>\n",
       "      <th>user_id</th>\n",
       "      <th></th>\n",
       "      <th></th>\n",
       "      <th></th>\n",
       "      <th></th>\n",
       "      <th></th>\n",
       "      <th></th>\n",
       "      <th></th>\n",
       "      <th></th>\n",
       "      <th></th>\n",
       "      <th></th>\n",
       "      <th></th>\n",
       "      <th></th>\n",
       "      <th></th>\n",
       "      <th></th>\n",
       "      <th></th>\n",
       "      <th></th>\n",
       "      <th></th>\n",
       "      <th></th>\n",
       "      <th></th>\n",
       "      <th></th>\n",
       "      <th></th>\n",
       "    </tr>\n",
       "  </thead>\n",
       "  <tbody>\n",
       "    <tr>\n",
       "      <th>-MRD72DXnVgjkM1AVFp7Nw</th>\n",
       "      <td>4.269776</td>\n",
       "      <td>4.539303</td>\n",
       "      <td>4.732025</td>\n",
       "      <td>4.152918</td>\n",
       "      <td>4.334207</td>\n",
       "      <td>4.530663</td>\n",
       "      <td>4.172755</td>\n",
       "      <td>4.202659</td>\n",
       "      <td>4.324333</td>\n",
       "      <td>4.129416</td>\n",
       "      <td>...</td>\n",
       "      <td>4.400794</td>\n",
       "      <td>4.187840</td>\n",
       "      <td>4.358658</td>\n",
       "      <td>4.576502</td>\n",
       "      <td>4.243549</td>\n",
       "      <td>4.253722</td>\n",
       "      <td>4.163117</td>\n",
       "      <td>4.272403</td>\n",
       "      <td>4.494391</td>\n",
       "      <td>2.895509</td>\n",
       "    </tr>\n",
       "    <tr>\n",
       "      <th>-SO_K8oLVH_9J23z2MtjGg</th>\n",
       "      <td>4.180020</td>\n",
       "      <td>4.363508</td>\n",
       "      <td>4.193494</td>\n",
       "      <td>4.396548</td>\n",
       "      <td>4.273439</td>\n",
       "      <td>4.249244</td>\n",
       "      <td>4.285399</td>\n",
       "      <td>4.269183</td>\n",
       "      <td>4.161129</td>\n",
       "      <td>4.175003</td>\n",
       "      <td>...</td>\n",
       "      <td>4.220517</td>\n",
       "      <td>4.314955</td>\n",
       "      <td>4.240888</td>\n",
       "      <td>4.047477</td>\n",
       "      <td>4.120437</td>\n",
       "      <td>4.473919</td>\n",
       "      <td>4.128756</td>\n",
       "      <td>3.893937</td>\n",
       "      <td>4.315949</td>\n",
       "      <td>4.268831</td>\n",
       "    </tr>\n",
       "    <tr>\n",
       "      <th>-Tg5YTEMbnYw3fQN99xKCQ</th>\n",
       "      <td>4.156352</td>\n",
       "      <td>4.160207</td>\n",
       "      <td>4.668192</td>\n",
       "      <td>4.270015</td>\n",
       "      <td>4.061256</td>\n",
       "      <td>4.178244</td>\n",
       "      <td>3.921790</td>\n",
       "      <td>4.148372</td>\n",
       "      <td>4.162931</td>\n",
       "      <td>4.247788</td>\n",
       "      <td>...</td>\n",
       "      <td>3.989793</td>\n",
       "      <td>4.073365</td>\n",
       "      <td>4.238189</td>\n",
       "      <td>4.236308</td>\n",
       "      <td>4.194891</td>\n",
       "      <td>4.328534</td>\n",
       "      <td>4.128994</td>\n",
       "      <td>4.408878</td>\n",
       "      <td>4.266174</td>\n",
       "      <td>4.027022</td>\n",
       "    </tr>\n",
       "    <tr>\n",
       "      <th>-V7frksbFjKQYVhrPnnlPw</th>\n",
       "      <td>3.913918</td>\n",
       "      <td>4.142510</td>\n",
       "      <td>4.625055</td>\n",
       "      <td>4.004805</td>\n",
       "      <td>4.175161</td>\n",
       "      <td>3.798052</td>\n",
       "      <td>4.151327</td>\n",
       "      <td>4.205051</td>\n",
       "      <td>4.101943</td>\n",
       "      <td>4.167470</td>\n",
       "      <td>...</td>\n",
       "      <td>3.943946</td>\n",
       "      <td>3.786857</td>\n",
       "      <td>4.081757</td>\n",
       "      <td>3.795563</td>\n",
       "      <td>3.879693</td>\n",
       "      <td>3.842452</td>\n",
       "      <td>3.669026</td>\n",
       "      <td>3.051177</td>\n",
       "      <td>4.214065</td>\n",
       "      <td>3.927767</td>\n",
       "    </tr>\n",
       "    <tr>\n",
       "      <th>-_Y8Mal7S750TsB6yMMDHA</th>\n",
       "      <td>4.124702</td>\n",
       "      <td>4.044610</td>\n",
       "      <td>4.064767</td>\n",
       "      <td>4.185289</td>\n",
       "      <td>4.045163</td>\n",
       "      <td>3.971815</td>\n",
       "      <td>3.877983</td>\n",
       "      <td>3.765346</td>\n",
       "      <td>3.832849</td>\n",
       "      <td>4.031527</td>\n",
       "      <td>...</td>\n",
       "      <td>3.870958</td>\n",
       "      <td>3.880856</td>\n",
       "      <td>3.985365</td>\n",
       "      <td>3.905356</td>\n",
       "      <td>3.951873</td>\n",
       "      <td>4.161423</td>\n",
       "      <td>3.964080</td>\n",
       "      <td>3.999848</td>\n",
       "      <td>4.087911</td>\n",
       "      <td>3.922546</td>\n",
       "    </tr>\n",
       "  </tbody>\n",
       "</table>\n",
       "<p>5 rows × 436 columns</p>\n",
       "</div>"
      ],
      "text/plain": [
       "business_id             -If0ps0QhOLCYVWQWs9RYg  -Tskf8WK17rb3ZfeFuRSWA  \\\n",
       "user_id                                                                  \n",
       "-MRD72DXnVgjkM1AVFp7Nw                4.269776                4.539303   \n",
       "-SO_K8oLVH_9J23z2MtjGg                4.180020                4.363508   \n",
       "-Tg5YTEMbnYw3fQN99xKCQ                4.156352                4.160207   \n",
       "-V7frksbFjKQYVhrPnnlPw                3.913918                4.142510   \n",
       "-_Y8Mal7S750TsB6yMMDHA                4.124702                4.044610   \n",
       "\n",
       "business_id             -VlBFlHwX-Pt6Xyzs9roGw  -fJPJP7iOd1ukDNqTSINIg  \\\n",
       "user_id                                                                  \n",
       "-MRD72DXnVgjkM1AVFp7Nw                4.732025                4.152918   \n",
       "-SO_K8oLVH_9J23z2MtjGg                4.193494                4.396548   \n",
       "-Tg5YTEMbnYw3fQN99xKCQ                4.668192                4.270015   \n",
       "-V7frksbFjKQYVhrPnnlPw                4.625055                4.004805   \n",
       "-_Y8Mal7S750TsB6yMMDHA                4.064767                4.185289   \n",
       "\n",
       "business_id             -psZLTe6IJTQUB-bZF7Zyg  06NHXjVHiGKNpZ2XeajVkA  \\\n",
       "user_id                                                                  \n",
       "-MRD72DXnVgjkM1AVFp7Nw                4.334207                4.530663   \n",
       "-SO_K8oLVH_9J23z2MtjGg                4.273439                4.249244   \n",
       "-Tg5YTEMbnYw3fQN99xKCQ                4.061256                4.178244   \n",
       "-V7frksbFjKQYVhrPnnlPw                4.175161                3.798052   \n",
       "-_Y8Mal7S750TsB6yMMDHA                4.045163                3.971815   \n",
       "\n",
       "business_id             0DdmKihJ90qKP5TAM3c2yQ  0KTwW1eC1YAjR-zDr8w4jA  \\\n",
       "user_id                                                                  \n",
       "-MRD72DXnVgjkM1AVFp7Nw                4.172755                4.202659   \n",
       "-SO_K8oLVH_9J23z2MtjGg                4.285399                4.269183   \n",
       "-Tg5YTEMbnYw3fQN99xKCQ                3.921790                4.148372   \n",
       "-V7frksbFjKQYVhrPnnlPw                4.151327                4.205051   \n",
       "-_Y8Mal7S750TsB6yMMDHA                3.877983                3.765346   \n",
       "\n",
       "business_id             0UJqTczta018RoktahC0jw  0ZeGH15LV98FuijA1XrWoA  ...  \\\n",
       "user_id                                                                 ...   \n",
       "-MRD72DXnVgjkM1AVFp7Nw                4.324333                4.129416  ...   \n",
       "-SO_K8oLVH_9J23z2MtjGg                4.161129                4.175003  ...   \n",
       "-Tg5YTEMbnYw3fQN99xKCQ                4.162931                4.247788  ...   \n",
       "-V7frksbFjKQYVhrPnnlPw                4.101943                4.167470  ...   \n",
       "-_Y8Mal7S750TsB6yMMDHA                3.832849                4.031527  ...   \n",
       "\n",
       "business_id             yTJ2Ir6CMBzThLK5dmACvQ  yY3kq6_2m1FyY9MgaiHgoQ  \\\n",
       "user_id                                                                  \n",
       "-MRD72DXnVgjkM1AVFp7Nw                4.400794                4.187840   \n",
       "-SO_K8oLVH_9J23z2MtjGg                4.220517                4.314955   \n",
       "-Tg5YTEMbnYw3fQN99xKCQ                3.989793                4.073365   \n",
       "-V7frksbFjKQYVhrPnnlPw                3.943946                3.786857   \n",
       "-_Y8Mal7S750TsB6yMMDHA                3.870958                3.880856   \n",
       "\n",
       "business_id             ydmJoaK1PMlwLvMnbFXf1w  yf8a1DOlqoqlKHuLSKEfxg  \\\n",
       "user_id                                                                  \n",
       "-MRD72DXnVgjkM1AVFp7Nw                4.358658                4.576502   \n",
       "-SO_K8oLVH_9J23z2MtjGg                4.240888                4.047477   \n",
       "-Tg5YTEMbnYw3fQN99xKCQ                4.238189                4.236308   \n",
       "-V7frksbFjKQYVhrPnnlPw                4.081757                3.795563   \n",
       "-_Y8Mal7S750TsB6yMMDHA                3.985365                3.905356   \n",
       "\n",
       "business_id             yz0KWVamNhqiZGz7XTClzg  z0MXYel0okwMqLjgMkKD2A  \\\n",
       "user_id                                                                  \n",
       "-MRD72DXnVgjkM1AVFp7Nw                4.243549                4.253722   \n",
       "-SO_K8oLVH_9J23z2MtjGg                4.120437                4.473919   \n",
       "-Tg5YTEMbnYw3fQN99xKCQ                4.194891                4.328534   \n",
       "-V7frksbFjKQYVhrPnnlPw                3.879693                3.842452   \n",
       "-_Y8Mal7S750TsB6yMMDHA                3.951873                4.161423   \n",
       "\n",
       "business_id             zSqTndm5Alq9dW1PyzbdTA  zWfzgYe2nT9mHYm_vl1Ukw  \\\n",
       "user_id                                                                  \n",
       "-MRD72DXnVgjkM1AVFp7Nw                4.163117                4.272403   \n",
       "-SO_K8oLVH_9J23z2MtjGg                4.128756                3.893937   \n",
       "-Tg5YTEMbnYw3fQN99xKCQ                4.128994                4.408878   \n",
       "-V7frksbFjKQYVhrPnnlPw                3.669026                3.051177   \n",
       "-_Y8Mal7S750TsB6yMMDHA                3.964080                3.999848   \n",
       "\n",
       "business_id             zYyVEC0IF86xSHF3GFmvkg  zgpx6YqA7KeY9-3xbNEn3A  \n",
       "user_id                                                                 \n",
       "-MRD72DXnVgjkM1AVFp7Nw                4.494391                2.895509  \n",
       "-SO_K8oLVH_9J23z2MtjGg                4.315949                4.268831  \n",
       "-Tg5YTEMbnYw3fQN99xKCQ                4.266174                4.027022  \n",
       "-V7frksbFjKQYVhrPnnlPw                4.214065                3.927767  \n",
       "-_Y8Mal7S750TsB6yMMDHA                4.087911                3.922546  \n",
       "\n",
       "[5 rows x 436 columns]"
      ]
     },
     "execution_count": 20,
     "metadata": {},
     "output_type": "execute_result"
    }
   ],
   "source": [
    "user_ratings_filled_10 = compute_filled_matrix(train_pivot, 85)\n",
    "user_ratings_filled_10.head()"
   ]
  },
  {
   "attachments": {},
   "cell_type": "markdown",
   "metadata": {},
   "source": [
    "What type of performance do we get if we just use the reconstructed matrix for predictions?"
   ]
  },
  {
   "cell_type": "code",
   "execution_count": 137,
   "metadata": {},
   "outputs": [],
   "source": [
    "def evalTrain(train_pivot, kval):\n",
    "\n",
    "    train_gt = train_pivot.iloc[:50, :100].values\n",
    "    train_copy = train_pivot.copy()\n",
    "    train_copy.iloc[:50, :100] = np.nan\n",
    "    train_filled = compute_filled_matrix(train_copy, kval)\n",
    "    mask = ~np.isnan(train_gt)\n",
    "    preds = train_filled.iloc[:50, :100].values[mask]\n",
    "    gt = train_gt[mask]\n",
    "\n",
    "    return (train_filled, mean_squared_error(gt, preds), mean_absolute_error(gt, preds))\n",
    "\n",
    "def evalVal(val_pivot, train_filled):\n",
    "\n",
    "    train_val_overlap = train_filled[list(val_pivot.columns)]\n",
    "    all_preds = []\n",
    "    all_gt = []\n",
    "\n",
    "    for user in val_pivot.index.values: \n",
    "        gt = val_pivot.loc[val_pivot.index==user].values\n",
    "        preds = train_val_overlap.loc[train_val_overlap.index==user]\n",
    "\n",
    "        mask = ~np.isnan(gt)\n",
    "        preds = preds.values[mask]\n",
    "        gt = gt[mask]\n",
    "\n",
    "        all_preds.append(preds)\n",
    "        all_gt.append(gt)\n",
    "\n",
    "    preds = np.concatenate(all_preds)\n",
    "    gt = np.concatenate(all_gt)\n",
    "\n",
    "    return (mean_squared_error(gt, preds), mean_absolute_error(gt, preds))\n",
    "\n"
   ]
  },
  {
   "cell_type": "code",
   "execution_count": 141,
   "metadata": {},
   "outputs": [
    {
     "ename": "ValueError",
     "evalue": "Input contains NaN.",
     "output_type": "error",
     "traceback": [
      "\u001b[1;31m---------------------------------------------------------------------------\u001b[0m",
      "\u001b[1;31mValueError\u001b[0m                                Traceback (most recent call last)",
      "\u001b[1;32m<ipython-input-141-819ead5e4180>\u001b[0m in \u001b[0;36m<module>\u001b[1;34m\u001b[0m\n\u001b[0;32m      9\u001b[0m \u001b[0mgt\u001b[0m \u001b[1;33m=\u001b[0m \u001b[0mtrain_gt\u001b[0m\u001b[1;33m[\u001b[0m\u001b[0mmask\u001b[0m\u001b[1;33m]\u001b[0m\u001b[1;33m\u001b[0m\u001b[1;33m\u001b[0m\u001b[0m\n\u001b[0;32m     10\u001b[0m \u001b[1;33m\u001b[0m\u001b[0m\n\u001b[1;32m---> 11\u001b[1;33m \u001b[0mprint\u001b[0m\u001b[1;33m(\u001b[0m\u001b[1;34m'RMSE: '\u001b[0m\u001b[1;33m,\u001b[0m \u001b[0mmean_squared_error\u001b[0m\u001b[1;33m(\u001b[0m\u001b[0mgt\u001b[0m\u001b[1;33m,\u001b[0m \u001b[0mpreds\u001b[0m\u001b[1;33m)\u001b[0m\u001b[1;33m)\u001b[0m\u001b[1;33m\u001b[0m\u001b[1;33m\u001b[0m\u001b[0m\n\u001b[0m\u001b[0;32m     12\u001b[0m \u001b[0mprint\u001b[0m\u001b[1;33m(\u001b[0m\u001b[1;34m'MAE: '\u001b[0m\u001b[1;33m,\u001b[0m \u001b[0mmean_absolute_error\u001b[0m\u001b[1;33m(\u001b[0m\u001b[0mgt\u001b[0m\u001b[1;33m,\u001b[0m \u001b[0mpreds\u001b[0m\u001b[1;33m)\u001b[0m\u001b[1;33m)\u001b[0m\u001b[1;33m\u001b[0m\u001b[1;33m\u001b[0m\u001b[0m\n",
      "\u001b[1;32mc:\\Users\\shafz\\anaconda3\\envs\\practice\\lib\\site-packages\\sklearn\\metrics\\_regression.py\u001b[0m in \u001b[0;36mmean_squared_error\u001b[1;34m(y_true, y_pred, sample_weight, multioutput, squared)\u001b[0m\n\u001b[0;32m    440\u001b[0m     \u001b[1;36m0.825\u001b[0m\u001b[1;33m...\u001b[0m\u001b[1;33m\u001b[0m\u001b[1;33m\u001b[0m\u001b[0m\n\u001b[0;32m    441\u001b[0m     \"\"\"\n\u001b[1;32m--> 442\u001b[1;33m     y_type, y_true, y_pred, multioutput = _check_reg_targets(\n\u001b[0m\u001b[0;32m    443\u001b[0m         \u001b[0my_true\u001b[0m\u001b[1;33m,\u001b[0m \u001b[0my_pred\u001b[0m\u001b[1;33m,\u001b[0m \u001b[0mmultioutput\u001b[0m\u001b[1;33m\u001b[0m\u001b[1;33m\u001b[0m\u001b[0m\n\u001b[0;32m    444\u001b[0m     )\n",
      "\u001b[1;32mc:\\Users\\shafz\\anaconda3\\envs\\practice\\lib\\site-packages\\sklearn\\metrics\\_regression.py\u001b[0m in \u001b[0;36m_check_reg_targets\u001b[1;34m(y_true, y_pred, multioutput, dtype)\u001b[0m\n\u001b[0;32m    100\u001b[0m     \u001b[0mcheck_consistent_length\u001b[0m\u001b[1;33m(\u001b[0m\u001b[0my_true\u001b[0m\u001b[1;33m,\u001b[0m \u001b[0my_pred\u001b[0m\u001b[1;33m)\u001b[0m\u001b[1;33m\u001b[0m\u001b[1;33m\u001b[0m\u001b[0m\n\u001b[0;32m    101\u001b[0m     \u001b[0my_true\u001b[0m \u001b[1;33m=\u001b[0m \u001b[0mcheck_array\u001b[0m\u001b[1;33m(\u001b[0m\u001b[0my_true\u001b[0m\u001b[1;33m,\u001b[0m \u001b[0mensure_2d\u001b[0m\u001b[1;33m=\u001b[0m\u001b[1;32mFalse\u001b[0m\u001b[1;33m,\u001b[0m \u001b[0mdtype\u001b[0m\u001b[1;33m=\u001b[0m\u001b[0mdtype\u001b[0m\u001b[1;33m)\u001b[0m\u001b[1;33m\u001b[0m\u001b[1;33m\u001b[0m\u001b[0m\n\u001b[1;32m--> 102\u001b[1;33m     \u001b[0my_pred\u001b[0m \u001b[1;33m=\u001b[0m \u001b[0mcheck_array\u001b[0m\u001b[1;33m(\u001b[0m\u001b[0my_pred\u001b[0m\u001b[1;33m,\u001b[0m \u001b[0mensure_2d\u001b[0m\u001b[1;33m=\u001b[0m\u001b[1;32mFalse\u001b[0m\u001b[1;33m,\u001b[0m \u001b[0mdtype\u001b[0m\u001b[1;33m=\u001b[0m\u001b[0mdtype\u001b[0m\u001b[1;33m)\u001b[0m\u001b[1;33m\u001b[0m\u001b[1;33m\u001b[0m\u001b[0m\n\u001b[0m\u001b[0;32m    103\u001b[0m \u001b[1;33m\u001b[0m\u001b[0m\n\u001b[0;32m    104\u001b[0m     \u001b[1;32mif\u001b[0m \u001b[0my_true\u001b[0m\u001b[1;33m.\u001b[0m\u001b[0mndim\u001b[0m \u001b[1;33m==\u001b[0m \u001b[1;36m1\u001b[0m\u001b[1;33m:\u001b[0m\u001b[1;33m\u001b[0m\u001b[1;33m\u001b[0m\u001b[0m\n",
      "\u001b[1;32mc:\\Users\\shafz\\anaconda3\\envs\\practice\\lib\\site-packages\\sklearn\\utils\\validation.py\u001b[0m in \u001b[0;36mcheck_array\u001b[1;34m(array, accept_sparse, accept_large_sparse, dtype, order, copy, force_all_finite, ensure_2d, allow_nd, ensure_min_samples, ensure_min_features, estimator, input_name)\u001b[0m\n\u001b[0;32m    919\u001b[0m \u001b[1;33m\u001b[0m\u001b[0m\n\u001b[0;32m    920\u001b[0m         \u001b[1;32mif\u001b[0m \u001b[0mforce_all_finite\u001b[0m\u001b[1;33m:\u001b[0m\u001b[1;33m\u001b[0m\u001b[1;33m\u001b[0m\u001b[0m\n\u001b[1;32m--> 921\u001b[1;33m             _assert_all_finite(\n\u001b[0m\u001b[0;32m    922\u001b[0m                 \u001b[0marray\u001b[0m\u001b[1;33m,\u001b[0m\u001b[1;33m\u001b[0m\u001b[1;33m\u001b[0m\u001b[0m\n\u001b[0;32m    923\u001b[0m                 \u001b[0minput_name\u001b[0m\u001b[1;33m=\u001b[0m\u001b[0minput_name\u001b[0m\u001b[1;33m,\u001b[0m\u001b[1;33m\u001b[0m\u001b[1;33m\u001b[0m\u001b[0m\n",
      "\u001b[1;32mc:\\Users\\shafz\\anaconda3\\envs\\practice\\lib\\site-packages\\sklearn\\utils\\validation.py\u001b[0m in \u001b[0;36m_assert_all_finite\u001b[1;34m(X, allow_nan, msg_dtype, estimator_name, input_name)\u001b[0m\n\u001b[0;32m    159\u001b[0m                 \u001b[1;34m\"#estimators-that-handle-nan-values\"\u001b[0m\u001b[1;33m\u001b[0m\u001b[1;33m\u001b[0m\u001b[0m\n\u001b[0;32m    160\u001b[0m             )\n\u001b[1;32m--> 161\u001b[1;33m         \u001b[1;32mraise\u001b[0m \u001b[0mValueError\u001b[0m\u001b[1;33m(\u001b[0m\u001b[0mmsg_err\u001b[0m\u001b[1;33m)\u001b[0m\u001b[1;33m\u001b[0m\u001b[1;33m\u001b[0m\u001b[0m\n\u001b[0m\u001b[0;32m    162\u001b[0m \u001b[1;33m\u001b[0m\u001b[0m\n\u001b[0;32m    163\u001b[0m \u001b[1;33m\u001b[0m\u001b[0m\n",
      "\u001b[1;31mValueError\u001b[0m: Input contains NaN."
     ]
    }
   ],
   "source": [
    "## \n",
    "train_pivot = makePivot(val)\n",
    "train_gt = train_pivot.iloc[:50, :100].values\n",
    "train_copy = train_pivot.copy()\n",
    "train_copy.iloc[:50, :100] = np.nan\n",
    "train_filled = compute_filled_matrix(train_copy, 85)\n",
    "mask = ~np.isnan(train_gt)\n",
    "preds = train_filled.iloc[:50, :100].values[mask]\n",
    "gt = train_gt[mask]\n",
    "\n",
    "print('RMSE: ', mean_squared_error(gt, preds))\n",
    "print('MAE: ', mean_absolute_error(gt, preds))"
   ]
  },
  {
   "cell_type": "code",
   "execution_count": 154,
   "metadata": {},
   "outputs": [
    {
     "data": {
      "text/html": [
       "<div>\n",
       "<style scoped>\n",
       "    .dataframe tbody tr th:only-of-type {\n",
       "        vertical-align: middle;\n",
       "    }\n",
       "\n",
       "    .dataframe tbody tr th {\n",
       "        vertical-align: top;\n",
       "    }\n",
       "\n",
       "    .dataframe thead th {\n",
       "        text-align: right;\n",
       "    }\n",
       "</style>\n",
       "<table border=\"1\" class=\"dataframe\">\n",
       "  <thead>\n",
       "    <tr style=\"text-align: right;\">\n",
       "      <th></th>\n",
       "      <th>review_id</th>\n",
       "      <th>user_id</th>\n",
       "      <th>business_id</th>\n",
       "      <th>stars</th>\n",
       "      <th>text</th>\n",
       "      <th>name</th>\n",
       "      <th>city</th>\n",
       "      <th>biz_stars</th>\n",
       "      <th>biz_review_count</th>\n",
       "      <th>categories</th>\n",
       "      <th>average_stars</th>\n",
       "    </tr>\n",
       "  </thead>\n",
       "  <tbody>\n",
       "    <tr>\n",
       "      <th>7728</th>\n",
       "      <td>b1tgHM1MiOZBeX79aNGsnA</td>\n",
       "      <td>98Ed-IF0cLGSK-vtCesjOQ</td>\n",
       "      <td>jLerIZFpe25jOUf722qzBA</td>\n",
       "      <td>5</td>\n",
       "      <td>Just hit up Il Posto the other night after not...</td>\n",
       "      <td>Il Posto Italian Cafe</td>\n",
       "      <td>New Orleans</td>\n",
       "      <td>4.0</td>\n",
       "      <td>120</td>\n",
       "      <td>Coffee &amp; Tea, Food, Restaurants, Italian</td>\n",
       "      <td>3.62</td>\n",
       "    </tr>\n",
       "    <tr>\n",
       "      <th>7729</th>\n",
       "      <td>ATxlcyxG5RI0inw5CZaN_Q</td>\n",
       "      <td>98Ed-IF0cLGSK-vtCesjOQ</td>\n",
       "      <td>I0I2mkCOPTYVSLpc8A8VVw</td>\n",
       "      <td>3</td>\n",
       "      <td>Very yummy, a bit loud, and not the best servi...</td>\n",
       "      <td>Compère Lapin</td>\n",
       "      <td>New Orleans</td>\n",
       "      <td>4.5</td>\n",
       "      <td>804</td>\n",
       "      <td>Personal Chefs, Event Planning &amp; Services, Res...</td>\n",
       "      <td>3.62</td>\n",
       "    </tr>\n",
       "    <tr>\n",
       "      <th>7730</th>\n",
       "      <td>-QwvmpencPcrhEVaXfZmDg</td>\n",
       "      <td>98Ed-IF0cLGSK-vtCesjOQ</td>\n",
       "      <td>wtwDcp79klLOLaIjCFHQCA</td>\n",
       "      <td>4</td>\n",
       "      <td>Very, very, very good. Just not perfect. Yummy...</td>\n",
       "      <td>Saffron nola</td>\n",
       "      <td>New Orleans</td>\n",
       "      <td>4.5</td>\n",
       "      <td>297</td>\n",
       "      <td>American (New), Bars, Cocktail Bars, Indian, A...</td>\n",
       "      <td>3.62</td>\n",
       "    </tr>\n",
       "    <tr>\n",
       "      <th>7731</th>\n",
       "      <td>T6l1MDzYxz4bxiBnyfAjnQ</td>\n",
       "      <td>98Ed-IF0cLGSK-vtCesjOQ</td>\n",
       "      <td>MqFQqNhMRaizyVRwsea6EA</td>\n",
       "      <td>4</td>\n",
       "      <td>Bratz Y'all is killin' it. I've been few times...</td>\n",
       "      <td>Bratz Y'all!</td>\n",
       "      <td>New Orleans</td>\n",
       "      <td>4.5</td>\n",
       "      <td>176</td>\n",
       "      <td>German, Restaurants, Bakeries, Beer Gardens, F...</td>\n",
       "      <td>3.62</td>\n",
       "    </tr>\n",
       "    <tr>\n",
       "      <th>7732</th>\n",
       "      <td>2m8uzZk2Z4nC3HUD5ETsqQ</td>\n",
       "      <td>98Ed-IF0cLGSK-vtCesjOQ</td>\n",
       "      <td>UnQriKTiNsYnyPE3Rt8lTQ</td>\n",
       "      <td>3</td>\n",
       "      <td>My expectations were high as I'd heard lots of...</td>\n",
       "      <td>Tableau</td>\n",
       "      <td>New Orleans</td>\n",
       "      <td>4.0</td>\n",
       "      <td>1087</td>\n",
       "      <td>Cajun/Creole, Wine Bars, Bars, Nightlife, Food...</td>\n",
       "      <td>3.62</td>\n",
       "    </tr>\n",
       "    <tr>\n",
       "      <th>7733</th>\n",
       "      <td>S3I2LQeUKte1Kkn-VElHcA</td>\n",
       "      <td>98Ed-IF0cLGSK-vtCesjOQ</td>\n",
       "      <td>9--QS5ChKDYf4POHKujoiw</td>\n",
       "      <td>3</td>\n",
       "      <td>We checked out ugly dog for some brunch Sunday...</td>\n",
       "      <td>Ugly Dog Saloon &amp; BBQ</td>\n",
       "      <td>New Orleans</td>\n",
       "      <td>3.5</td>\n",
       "      <td>336</td>\n",
       "      <td>Bars, Barbeque, Nightlife, American (Tradition...</td>\n",
       "      <td>3.62</td>\n",
       "    </tr>\n",
       "    <tr>\n",
       "      <th>7734</th>\n",
       "      <td>2U93O5__eMTHEDj_nzmQzQ</td>\n",
       "      <td>98Ed-IF0cLGSK-vtCesjOQ</td>\n",
       "      <td>2r3-fBAvSsljWrDLXkiHiw</td>\n",
       "      <td>4</td>\n",
       "      <td>I dig it. I've never had poke...this was my fi...</td>\n",
       "      <td>LemonShark Poke</td>\n",
       "      <td>New Orleans</td>\n",
       "      <td>4.5</td>\n",
       "      <td>113</td>\n",
       "      <td>Restaurants, Food, Hawaiian, Vegan, Sushi Bars...</td>\n",
       "      <td>3.62</td>\n",
       "    </tr>\n",
       "    <tr>\n",
       "      <th>7735</th>\n",
       "      <td>vVlbvscoG85YxgsP-nzEzA</td>\n",
       "      <td>98Ed-IF0cLGSK-vtCesjOQ</td>\n",
       "      <td>_393npnr0Dw1aGKy83x_0A</td>\n",
       "      <td>4</td>\n",
       "      <td>Super impressed. The only reason my rating is ...</td>\n",
       "      <td>Paladar 511</td>\n",
       "      <td>New Orleans</td>\n",
       "      <td>4.5</td>\n",
       "      <td>507</td>\n",
       "      <td>Restaurants, Pizza, American (New), Breakfast ...</td>\n",
       "      <td>3.62</td>\n",
       "    </tr>\n",
       "    <tr>\n",
       "      <th>7736</th>\n",
       "      <td>05ZPdjkXvAlia6tcgjVETA</td>\n",
       "      <td>98Ed-IF0cLGSK-vtCesjOQ</td>\n",
       "      <td>RPEMUwN_CDRRToQ_7hxsvA</td>\n",
       "      <td>5</td>\n",
       "      <td>Just revisited the other evening (my first tim...</td>\n",
       "      <td>Borgne</td>\n",
       "      <td>New Orleans</td>\n",
       "      <td>4.0</td>\n",
       "      <td>554</td>\n",
       "      <td>Southern, Restaurants, Seafood, American (New)</td>\n",
       "      <td>3.62</td>\n",
       "    </tr>\n",
       "    <tr>\n",
       "      <th>7737</th>\n",
       "      <td>_5ewGkkHCzJjSOr-1tH4ng</td>\n",
       "      <td>98Ed-IF0cLGSK-vtCesjOQ</td>\n",
       "      <td>UGefDZNmnBztS0eoXWtHyQ</td>\n",
       "      <td>4</td>\n",
       "      <td>One of my favorites in the neighborhood! With ...</td>\n",
       "      <td>The Joint</td>\n",
       "      <td>New Orleans</td>\n",
       "      <td>4.5</td>\n",
       "      <td>1335</td>\n",
       "      <td>Southern, Nightlife, Sandwiches, Barbeque, Res...</td>\n",
       "      <td>3.62</td>\n",
       "    </tr>\n",
       "    <tr>\n",
       "      <th>7738</th>\n",
       "      <td>so1ZBHYdXuWK5j1yO_PbNA</td>\n",
       "      <td>98Ed-IF0cLGSK-vtCesjOQ</td>\n",
       "      <td>8jXmNMrGJ2acUG1R-D5e6w</td>\n",
       "      <td>4</td>\n",
       "      <td>Standard hot dog fare; I LOVE hot dogs...so in...</td>\n",
       "      <td>Dat Dog</td>\n",
       "      <td>New Orleans</td>\n",
       "      <td>4.0</td>\n",
       "      <td>543</td>\n",
       "      <td>Food, American (Traditional), Hot Dogs, Cajun/...</td>\n",
       "      <td>3.62</td>\n",
       "    </tr>\n",
       "    <tr>\n",
       "      <th>7739</th>\n",
       "      <td>jxd--OdPsklpbqDDpO0WxQ</td>\n",
       "      <td>98Ed-IF0cLGSK-vtCesjOQ</td>\n",
       "      <td>uKXw5zfNtNw_eJW2arHLFw</td>\n",
       "      <td>5</td>\n",
       "      <td>I just adore N7. After returning from a trip t...</td>\n",
       "      <td>N 7</td>\n",
       "      <td>New Orleans</td>\n",
       "      <td>4.0</td>\n",
       "      <td>206</td>\n",
       "      <td>French, Japanese, Tapas/Small Plates, Restaura...</td>\n",
       "      <td>3.62</td>\n",
       "    </tr>\n",
       "    <tr>\n",
       "      <th>7740</th>\n",
       "      <td>lg3y7K6TxEixMabpZp82zg</td>\n",
       "      <td>98Ed-IF0cLGSK-vtCesjOQ</td>\n",
       "      <td>d9OTctJEITa5DmAvWpKfoA</td>\n",
       "      <td>4</td>\n",
       "      <td>Wowzah! This place has come a long way! I firs...</td>\n",
       "      <td>Arabella Casa Di Pasta</td>\n",
       "      <td>New Orleans</td>\n",
       "      <td>4.5</td>\n",
       "      <td>228</td>\n",
       "      <td>Gluten-Free, Vegetarian, Italian, Restaurants</td>\n",
       "      <td>3.62</td>\n",
       "    </tr>\n",
       "    <tr>\n",
       "      <th>7741</th>\n",
       "      <td>O0njhTiJq4356WzT_UaP8Q</td>\n",
       "      <td>98Ed-IF0cLGSK-vtCesjOQ</td>\n",
       "      <td>24f-qQokEN2UvBNHMWLm3A</td>\n",
       "      <td>4</td>\n",
       "      <td>Antione's is an old New Orleans fave, and whil...</td>\n",
       "      <td>Antoine's Restaurant</td>\n",
       "      <td>New Orleans</td>\n",
       "      <td>3.5</td>\n",
       "      <td>1460</td>\n",
       "      <td>Event Planning &amp; Services, Restaurants, French...</td>\n",
       "      <td>3.62</td>\n",
       "    </tr>\n",
       "    <tr>\n",
       "      <th>7742</th>\n",
       "      <td>e9ooxVOjA27AcAxRDM0upQ</td>\n",
       "      <td>98Ed-IF0cLGSK-vtCesjOQ</td>\n",
       "      <td>0KTwW1eC1YAjR-zDr8w4jA</td>\n",
       "      <td>3</td>\n",
       "      <td>It's your standard chain, but the beer is chea...</td>\n",
       "      <td>New Orleans Hamburger &amp; Seafood Co</td>\n",
       "      <td>New Orleans</td>\n",
       "      <td>3.5</td>\n",
       "      <td>233</td>\n",
       "      <td>Restaurants, American (Traditional), Seafood, ...</td>\n",
       "      <td>3.62</td>\n",
       "    </tr>\n",
       "    <tr>\n",
       "      <th>7743</th>\n",
       "      <td>hAtTM9NA_c6pc7e_ydrFgQ</td>\n",
       "      <td>98Ed-IF0cLGSK-vtCesjOQ</td>\n",
       "      <td>xoG-zabIUFngEhic1PEajA</td>\n",
       "      <td>5</td>\n",
       "      <td>Soooo, I'd been waiting for years to try this ...</td>\n",
       "      <td>Upperline</td>\n",
       "      <td>New Orleans</td>\n",
       "      <td>4.5</td>\n",
       "      <td>390</td>\n",
       "      <td>Restaurants, Cajun/Creole, Seafood, Southern, ...</td>\n",
       "      <td>3.62</td>\n",
       "    </tr>\n",
       "    <tr>\n",
       "      <th>7744</th>\n",
       "      <td>XIhfDstEEspJ4eQRw9Ujww</td>\n",
       "      <td>98Ed-IF0cLGSK-vtCesjOQ</td>\n",
       "      <td>c3gwn7_ukRwGGIghHLi-UA</td>\n",
       "      <td>4</td>\n",
       "      <td>Yay brunch! I'm diggin' this place. Super cute...</td>\n",
       "      <td>Toast</td>\n",
       "      <td>New Orleans</td>\n",
       "      <td>4.5</td>\n",
       "      <td>554</td>\n",
       "      <td>Breakfast &amp; Brunch, Restaurants</td>\n",
       "      <td>3.62</td>\n",
       "    </tr>\n",
       "    <tr>\n",
       "      <th>7745</th>\n",
       "      <td>8Y98eCz1bSJ4CQOFzEIg5g</td>\n",
       "      <td>98Ed-IF0cLGSK-vtCesjOQ</td>\n",
       "      <td>aLsbsBbaJzYw3chcdQlCIw</td>\n",
       "      <td>2</td>\n",
       "      <td>Sooooo there's a lot of hype about this place....</td>\n",
       "      <td>Central City BBQ</td>\n",
       "      <td>New Orleans</td>\n",
       "      <td>4.0</td>\n",
       "      <td>378</td>\n",
       "      <td>Caterers, Pubs, Barbeque, Event Planning &amp; Ser...</td>\n",
       "      <td>3.62</td>\n",
       "    </tr>\n",
       "    <tr>\n",
       "      <th>7746</th>\n",
       "      <td>Uqqm01Jye58GcVAME6jhrQ</td>\n",
       "      <td>98Ed-IF0cLGSK-vtCesjOQ</td>\n",
       "      <td>vNUEotvnUX--fUfGWhivGQ</td>\n",
       "      <td>1</td>\n",
       "      <td>Didn't even get to eat, cuz this girl said the...</td>\n",
       "      <td>Bevi Seafood</td>\n",
       "      <td>New Orleans</td>\n",
       "      <td>4.0</td>\n",
       "      <td>340</td>\n",
       "      <td>Salad, Seafood, Food, Specialty Food, Sandwich...</td>\n",
       "      <td>3.62</td>\n",
       "    </tr>\n",
       "    <tr>\n",
       "      <th>7747</th>\n",
       "      <td>jJo2flyrBDR2xnpck-0flA</td>\n",
       "      <td>98Ed-IF0cLGSK-vtCesjOQ</td>\n",
       "      <td>Fs4T7lKpXVtD5Pz7jWSJeg</td>\n",
       "      <td>4</td>\n",
       "      <td>Just lovely. I had eaten here a while ago and ...</td>\n",
       "      <td>Coquette</td>\n",
       "      <td>New Orleans</td>\n",
       "      <td>4.5</td>\n",
       "      <td>784</td>\n",
       "      <td>Restaurants, French, American (New)</td>\n",
       "      <td>3.62</td>\n",
       "    </tr>\n",
       "    <tr>\n",
       "      <th>7748</th>\n",
       "      <td>b-XjmNESCP6pNdJwJAW9rg</td>\n",
       "      <td>98Ed-IF0cLGSK-vtCesjOQ</td>\n",
       "      <td>ObZu0-S1VAqAuCbAF5AFvw</td>\n",
       "      <td>3</td>\n",
       "      <td>After loving their Gentilly location, I have t...</td>\n",
       "      <td>The Munch Factory</td>\n",
       "      <td>New Orleans</td>\n",
       "      <td>4.0</td>\n",
       "      <td>360</td>\n",
       "      <td>Restaurants, Cajun/Creole, Food, American (New)</td>\n",
       "      <td>3.62</td>\n",
       "    </tr>\n",
       "    <tr>\n",
       "      <th>7749</th>\n",
       "      <td>pzVGWELD-vNaDutDmHds9g</td>\n",
       "      <td>98Ed-IF0cLGSK-vtCesjOQ</td>\n",
       "      <td>UbFkHiEt9S-0mUL3RQ5Ghg</td>\n",
       "      <td>3</td>\n",
       "      <td>I like it; I don't love. The sandwiches are GR...</td>\n",
       "      <td>Turkey and the Wolf</td>\n",
       "      <td>New Orleans</td>\n",
       "      <td>4.5</td>\n",
       "      <td>652</td>\n",
       "      <td>Bars, Food, Cocktail Bars, Restaurants, Desser...</td>\n",
       "      <td>3.62</td>\n",
       "    </tr>\n",
       "    <tr>\n",
       "      <th>7750</th>\n",
       "      <td>U2tP_nCCYKbT9HlkqGUQSg</td>\n",
       "      <td>98Ed-IF0cLGSK-vtCesjOQ</td>\n",
       "      <td>2DTkzhmMpv5fIPKheePClA</td>\n",
       "      <td>3</td>\n",
       "      <td>While this little place has the best pita, tab...</td>\n",
       "      <td>Shaya</td>\n",
       "      <td>New Orleans</td>\n",
       "      <td>4.5</td>\n",
       "      <td>1433</td>\n",
       "      <td>Mediterranean, Middle Eastern, Restaurants, De...</td>\n",
       "      <td>3.62</td>\n",
       "    </tr>\n",
       "    <tr>\n",
       "      <th>7751</th>\n",
       "      <td>Blr4LReImNW5BZFlBDqoAw</td>\n",
       "      <td>98Ed-IF0cLGSK-vtCesjOQ</td>\n",
       "      <td>_LgI5387qAmMuS8i6h69cg</td>\n",
       "      <td>3</td>\n",
       "      <td>Tried Meril for the first time last night...af...</td>\n",
       "      <td>Meril</td>\n",
       "      <td>New Orleans</td>\n",
       "      <td>4.0</td>\n",
       "      <td>900</td>\n",
       "      <td>Restaurants, American (New)</td>\n",
       "      <td>3.62</td>\n",
       "    </tr>\n",
       "    <tr>\n",
       "      <th>7752</th>\n",
       "      <td>fE4knowUMNTRgWt9EEKgRA</td>\n",
       "      <td>98Ed-IF0cLGSK-vtCesjOQ</td>\n",
       "      <td>ndVzILWR-DJXpfOlHm556A</td>\n",
       "      <td>5</td>\n",
       "      <td>If you want a REAL cheesesteak, this is your p...</td>\n",
       "      <td>Liberty Cheesesteaks</td>\n",
       "      <td>New Orleans</td>\n",
       "      <td>3.5</td>\n",
       "      <td>284</td>\n",
       "      <td>Cheesesteaks, Cheese Shops, Restaurants, Food,...</td>\n",
       "      <td>3.62</td>\n",
       "    </tr>\n",
       "    <tr>\n",
       "      <th>7753</th>\n",
       "      <td>kzPjZp9GkrqyYq7HhFyrrA</td>\n",
       "      <td>98Ed-IF0cLGSK-vtCesjOQ</td>\n",
       "      <td>OPW8NuOC_9FVFXsaHOO5JA</td>\n",
       "      <td>4</td>\n",
       "      <td>Pleasantly surprised! I've never been a huge d...</td>\n",
       "      <td>District Donuts Sliders &amp; Brew Lakeview</td>\n",
       "      <td>New Orleans</td>\n",
       "      <td>4.0</td>\n",
       "      <td>196</td>\n",
       "      <td>Restaurants, Donuts, Breakfast &amp; Brunch, Coffe...</td>\n",
       "      <td>3.62</td>\n",
       "    </tr>\n",
       "    <tr>\n",
       "      <th>7754</th>\n",
       "      <td>kpe-CEbBKWv9RQV2yho_Sg</td>\n",
       "      <td>98Ed-IF0cLGSK-vtCesjOQ</td>\n",
       "      <td>HEf0QXnhxrcIWxRfAbQ2iA</td>\n",
       "      <td>3</td>\n",
       "      <td>So...don't get me wrong...Saba is great. But! ...</td>\n",
       "      <td>Saba</td>\n",
       "      <td>New Orleans</td>\n",
       "      <td>4.5</td>\n",
       "      <td>345</td>\n",
       "      <td>Mediterranean, Restaurants, Middle Eastern</td>\n",
       "      <td>3.62</td>\n",
       "    </tr>\n",
       "    <tr>\n",
       "      <th>7755</th>\n",
       "      <td>gsg80NOn_mkks3qmfAB8yw</td>\n",
       "      <td>98Ed-IF0cLGSK-vtCesjOQ</td>\n",
       "      <td>3aCIpZgIeDwB1uQBAaPbKQ</td>\n",
       "      <td>4</td>\n",
       "      <td>Excellent coffee, calming vibe, and friendly s...</td>\n",
       "      <td>French Truck Coffee</td>\n",
       "      <td>New Orleans</td>\n",
       "      <td>4.5</td>\n",
       "      <td>246</td>\n",
       "      <td>Food, Cafes, Restaurants, Coffee &amp; Tea</td>\n",
       "      <td>3.62</td>\n",
       "    </tr>\n",
       "    <tr>\n",
       "      <th>7756</th>\n",
       "      <td>o8_1fGfBB7AXuQhBRVnnxA</td>\n",
       "      <td>98Ed-IF0cLGSK-vtCesjOQ</td>\n",
       "      <td>EmJF-xSIOaEEOWcK8UOBqg</td>\n",
       "      <td>4</td>\n",
       "      <td>I dig it. Have been for lunch a few times and ...</td>\n",
       "      <td>Fharmacy Nola</td>\n",
       "      <td>New Orleans</td>\n",
       "      <td>4.5</td>\n",
       "      <td>463</td>\n",
       "      <td>Restaurants, American (Traditional), Nightlife...</td>\n",
       "      <td>3.62</td>\n",
       "    </tr>\n",
       "    <tr>\n",
       "      <th>7757</th>\n",
       "      <td>3eNGSviMsucNK-ca_9UFmQ</td>\n",
       "      <td>98Ed-IF0cLGSK-vtCesjOQ</td>\n",
       "      <td>A0DYN5wxygYnX_sL3HygvA</td>\n",
       "      <td>3</td>\n",
       "      <td>Soooooo, I know they are new...but they've got...</td>\n",
       "      <td>Gris-Gris</td>\n",
       "      <td>New Orleans</td>\n",
       "      <td>4.5</td>\n",
       "      <td>491</td>\n",
       "      <td>Southern, Comfort Food, Restaurants, Cajun/Cre...</td>\n",
       "      <td>3.62</td>\n",
       "    </tr>\n",
       "  </tbody>\n",
       "</table>\n",
       "</div>"
      ],
      "text/plain": [
       "                   review_id                 user_id             business_id  \\\n",
       "7728  b1tgHM1MiOZBeX79aNGsnA  98Ed-IF0cLGSK-vtCesjOQ  jLerIZFpe25jOUf722qzBA   \n",
       "7729  ATxlcyxG5RI0inw5CZaN_Q  98Ed-IF0cLGSK-vtCesjOQ  I0I2mkCOPTYVSLpc8A8VVw   \n",
       "7730  -QwvmpencPcrhEVaXfZmDg  98Ed-IF0cLGSK-vtCesjOQ  wtwDcp79klLOLaIjCFHQCA   \n",
       "7731  T6l1MDzYxz4bxiBnyfAjnQ  98Ed-IF0cLGSK-vtCesjOQ  MqFQqNhMRaizyVRwsea6EA   \n",
       "7732  2m8uzZk2Z4nC3HUD5ETsqQ  98Ed-IF0cLGSK-vtCesjOQ  UnQriKTiNsYnyPE3Rt8lTQ   \n",
       "7733  S3I2LQeUKte1Kkn-VElHcA  98Ed-IF0cLGSK-vtCesjOQ  9--QS5ChKDYf4POHKujoiw   \n",
       "7734  2U93O5__eMTHEDj_nzmQzQ  98Ed-IF0cLGSK-vtCesjOQ  2r3-fBAvSsljWrDLXkiHiw   \n",
       "7735  vVlbvscoG85YxgsP-nzEzA  98Ed-IF0cLGSK-vtCesjOQ  _393npnr0Dw1aGKy83x_0A   \n",
       "7736  05ZPdjkXvAlia6tcgjVETA  98Ed-IF0cLGSK-vtCesjOQ  RPEMUwN_CDRRToQ_7hxsvA   \n",
       "7737  _5ewGkkHCzJjSOr-1tH4ng  98Ed-IF0cLGSK-vtCesjOQ  UGefDZNmnBztS0eoXWtHyQ   \n",
       "7738  so1ZBHYdXuWK5j1yO_PbNA  98Ed-IF0cLGSK-vtCesjOQ  8jXmNMrGJ2acUG1R-D5e6w   \n",
       "7739  jxd--OdPsklpbqDDpO0WxQ  98Ed-IF0cLGSK-vtCesjOQ  uKXw5zfNtNw_eJW2arHLFw   \n",
       "7740  lg3y7K6TxEixMabpZp82zg  98Ed-IF0cLGSK-vtCesjOQ  d9OTctJEITa5DmAvWpKfoA   \n",
       "7741  O0njhTiJq4356WzT_UaP8Q  98Ed-IF0cLGSK-vtCesjOQ  24f-qQokEN2UvBNHMWLm3A   \n",
       "7742  e9ooxVOjA27AcAxRDM0upQ  98Ed-IF0cLGSK-vtCesjOQ  0KTwW1eC1YAjR-zDr8w4jA   \n",
       "7743  hAtTM9NA_c6pc7e_ydrFgQ  98Ed-IF0cLGSK-vtCesjOQ  xoG-zabIUFngEhic1PEajA   \n",
       "7744  XIhfDstEEspJ4eQRw9Ujww  98Ed-IF0cLGSK-vtCesjOQ  c3gwn7_ukRwGGIghHLi-UA   \n",
       "7745  8Y98eCz1bSJ4CQOFzEIg5g  98Ed-IF0cLGSK-vtCesjOQ  aLsbsBbaJzYw3chcdQlCIw   \n",
       "7746  Uqqm01Jye58GcVAME6jhrQ  98Ed-IF0cLGSK-vtCesjOQ  vNUEotvnUX--fUfGWhivGQ   \n",
       "7747  jJo2flyrBDR2xnpck-0flA  98Ed-IF0cLGSK-vtCesjOQ  Fs4T7lKpXVtD5Pz7jWSJeg   \n",
       "7748  b-XjmNESCP6pNdJwJAW9rg  98Ed-IF0cLGSK-vtCesjOQ  ObZu0-S1VAqAuCbAF5AFvw   \n",
       "7749  pzVGWELD-vNaDutDmHds9g  98Ed-IF0cLGSK-vtCesjOQ  UbFkHiEt9S-0mUL3RQ5Ghg   \n",
       "7750  U2tP_nCCYKbT9HlkqGUQSg  98Ed-IF0cLGSK-vtCesjOQ  2DTkzhmMpv5fIPKheePClA   \n",
       "7751  Blr4LReImNW5BZFlBDqoAw  98Ed-IF0cLGSK-vtCesjOQ  _LgI5387qAmMuS8i6h69cg   \n",
       "7752  fE4knowUMNTRgWt9EEKgRA  98Ed-IF0cLGSK-vtCesjOQ  ndVzILWR-DJXpfOlHm556A   \n",
       "7753  kzPjZp9GkrqyYq7HhFyrrA  98Ed-IF0cLGSK-vtCesjOQ  OPW8NuOC_9FVFXsaHOO5JA   \n",
       "7754  kpe-CEbBKWv9RQV2yho_Sg  98Ed-IF0cLGSK-vtCesjOQ  HEf0QXnhxrcIWxRfAbQ2iA   \n",
       "7755  gsg80NOn_mkks3qmfAB8yw  98Ed-IF0cLGSK-vtCesjOQ  3aCIpZgIeDwB1uQBAaPbKQ   \n",
       "7756  o8_1fGfBB7AXuQhBRVnnxA  98Ed-IF0cLGSK-vtCesjOQ  EmJF-xSIOaEEOWcK8UOBqg   \n",
       "7757  3eNGSviMsucNK-ca_9UFmQ  98Ed-IF0cLGSK-vtCesjOQ  A0DYN5wxygYnX_sL3HygvA   \n",
       "\n",
       "      stars                                               text  \\\n",
       "7728      5  Just hit up Il Posto the other night after not...   \n",
       "7729      3  Very yummy, a bit loud, and not the best servi...   \n",
       "7730      4  Very, very, very good. Just not perfect. Yummy...   \n",
       "7731      4  Bratz Y'all is killin' it. I've been few times...   \n",
       "7732      3  My expectations were high as I'd heard lots of...   \n",
       "7733      3  We checked out ugly dog for some brunch Sunday...   \n",
       "7734      4  I dig it. I've never had poke...this was my fi...   \n",
       "7735      4  Super impressed. The only reason my rating is ...   \n",
       "7736      5  Just revisited the other evening (my first tim...   \n",
       "7737      4  One of my favorites in the neighborhood! With ...   \n",
       "7738      4  Standard hot dog fare; I LOVE hot dogs...so in...   \n",
       "7739      5  I just adore N7. After returning from a trip t...   \n",
       "7740      4  Wowzah! This place has come a long way! I firs...   \n",
       "7741      4  Antione's is an old New Orleans fave, and whil...   \n",
       "7742      3  It's your standard chain, but the beer is chea...   \n",
       "7743      5  Soooo, I'd been waiting for years to try this ...   \n",
       "7744      4  Yay brunch! I'm diggin' this place. Super cute...   \n",
       "7745      2  Sooooo there's a lot of hype about this place....   \n",
       "7746      1  Didn't even get to eat, cuz this girl said the...   \n",
       "7747      4  Just lovely. I had eaten here a while ago and ...   \n",
       "7748      3  After loving their Gentilly location, I have t...   \n",
       "7749      3  I like it; I don't love. The sandwiches are GR...   \n",
       "7750      3  While this little place has the best pita, tab...   \n",
       "7751      3  Tried Meril for the first time last night...af...   \n",
       "7752      5  If you want a REAL cheesesteak, this is your p...   \n",
       "7753      4  Pleasantly surprised! I've never been a huge d...   \n",
       "7754      3  So...don't get me wrong...Saba is great. But! ...   \n",
       "7755      4  Excellent coffee, calming vibe, and friendly s...   \n",
       "7756      4  I dig it. Have been for lunch a few times and ...   \n",
       "7757      3  Soooooo, I know they are new...but they've got...   \n",
       "\n",
       "                                         name         city  biz_stars  \\\n",
       "7728                    Il Posto Italian Cafe  New Orleans        4.0   \n",
       "7729                            Compère Lapin  New Orleans        4.5   \n",
       "7730                             Saffron nola  New Orleans        4.5   \n",
       "7731                             Bratz Y'all!  New Orleans        4.5   \n",
       "7732                                  Tableau  New Orleans        4.0   \n",
       "7733                    Ugly Dog Saloon & BBQ  New Orleans        3.5   \n",
       "7734                          LemonShark Poke  New Orleans        4.5   \n",
       "7735                              Paladar 511  New Orleans        4.5   \n",
       "7736                                   Borgne  New Orleans        4.0   \n",
       "7737                                The Joint  New Orleans        4.5   \n",
       "7738                                  Dat Dog  New Orleans        4.0   \n",
       "7739                                      N 7  New Orleans        4.0   \n",
       "7740                   Arabella Casa Di Pasta  New Orleans        4.5   \n",
       "7741                     Antoine's Restaurant  New Orleans        3.5   \n",
       "7742       New Orleans Hamburger & Seafood Co  New Orleans        3.5   \n",
       "7743                                Upperline  New Orleans        4.5   \n",
       "7744                                    Toast  New Orleans        4.5   \n",
       "7745                         Central City BBQ  New Orleans        4.0   \n",
       "7746                             Bevi Seafood  New Orleans        4.0   \n",
       "7747                                 Coquette  New Orleans        4.5   \n",
       "7748                        The Munch Factory  New Orleans        4.0   \n",
       "7749                      Turkey and the Wolf  New Orleans        4.5   \n",
       "7750                                    Shaya  New Orleans        4.5   \n",
       "7751                                    Meril  New Orleans        4.0   \n",
       "7752                     Liberty Cheesesteaks  New Orleans        3.5   \n",
       "7753  District Donuts Sliders & Brew Lakeview  New Orleans        4.0   \n",
       "7754                                     Saba  New Orleans        4.5   \n",
       "7755                      French Truck Coffee  New Orleans        4.5   \n",
       "7756                            Fharmacy Nola  New Orleans        4.5   \n",
       "7757                                Gris-Gris  New Orleans        4.5   \n",
       "\n",
       "      biz_review_count                                         categories  \\\n",
       "7728               120           Coffee & Tea, Food, Restaurants, Italian   \n",
       "7729               804  Personal Chefs, Event Planning & Services, Res...   \n",
       "7730               297  American (New), Bars, Cocktail Bars, Indian, A...   \n",
       "7731               176  German, Restaurants, Bakeries, Beer Gardens, F...   \n",
       "7732              1087  Cajun/Creole, Wine Bars, Bars, Nightlife, Food...   \n",
       "7733               336  Bars, Barbeque, Nightlife, American (Tradition...   \n",
       "7734               113  Restaurants, Food, Hawaiian, Vegan, Sushi Bars...   \n",
       "7735               507  Restaurants, Pizza, American (New), Breakfast ...   \n",
       "7736               554     Southern, Restaurants, Seafood, American (New)   \n",
       "7737              1335  Southern, Nightlife, Sandwiches, Barbeque, Res...   \n",
       "7738               543  Food, American (Traditional), Hot Dogs, Cajun/...   \n",
       "7739               206  French, Japanese, Tapas/Small Plates, Restaura...   \n",
       "7740               228      Gluten-Free, Vegetarian, Italian, Restaurants   \n",
       "7741              1460  Event Planning & Services, Restaurants, French...   \n",
       "7742               233  Restaurants, American (Traditional), Seafood, ...   \n",
       "7743               390  Restaurants, Cajun/Creole, Seafood, Southern, ...   \n",
       "7744               554                    Breakfast & Brunch, Restaurants   \n",
       "7745               378  Caterers, Pubs, Barbeque, Event Planning & Ser...   \n",
       "7746               340  Salad, Seafood, Food, Specialty Food, Sandwich...   \n",
       "7747               784                Restaurants, French, American (New)   \n",
       "7748               360    Restaurants, Cajun/Creole, Food, American (New)   \n",
       "7749               652  Bars, Food, Cocktail Bars, Restaurants, Desser...   \n",
       "7750              1433  Mediterranean, Middle Eastern, Restaurants, De...   \n",
       "7751               900                        Restaurants, American (New)   \n",
       "7752               284  Cheesesteaks, Cheese Shops, Restaurants, Food,...   \n",
       "7753               196  Restaurants, Donuts, Breakfast & Brunch, Coffe...   \n",
       "7754               345         Mediterranean, Restaurants, Middle Eastern   \n",
       "7755               246             Food, Cafes, Restaurants, Coffee & Tea   \n",
       "7756               463  Restaurants, American (Traditional), Nightlife...   \n",
       "7757               491  Southern, Comfort Food, Restaurants, Cajun/Cre...   \n",
       "\n",
       "      average_stars  \n",
       "7728           3.62  \n",
       "7729           3.62  \n",
       "7730           3.62  \n",
       "7731           3.62  \n",
       "7732           3.62  \n",
       "7733           3.62  \n",
       "7734           3.62  \n",
       "7735           3.62  \n",
       "7736           3.62  \n",
       "7737           3.62  \n",
       "7738           3.62  \n",
       "7739           3.62  \n",
       "7740           3.62  \n",
       "7741           3.62  \n",
       "7742           3.62  \n",
       "7743           3.62  \n",
       "7744           3.62  \n",
       "7745           3.62  \n",
       "7746           3.62  \n",
       "7747           3.62  \n",
       "7748           3.62  \n",
       "7749           3.62  \n",
       "7750           3.62  \n",
       "7751           3.62  \n",
       "7752           3.62  \n",
       "7753           3.62  \n",
       "7754           3.62  \n",
       "7755           3.62  \n",
       "7756           3.62  \n",
       "7757           3.62  "
      ]
     },
     "execution_count": 154,
     "metadata": {},
     "output_type": "execute_result"
    }
   ],
   "source": [
    "filtered_nola.loc[filtered_nola['user_id'] == '98Ed-IF0cLGSK-vtCesjOQ']"
   ]
  },
  {
   "cell_type": "code",
   "execution_count": 135,
   "metadata": {},
   "outputs": [
    {
     "name": "stdout",
     "output_type": "stream",
     "text": [
      "RMSE:  1.0399563017260438\n",
      "MAE:  0.7845539064470068\n"
     ]
    }
   ],
   "source": [
    "val_pivot = makePivot(val)\n",
    "train_val_overlap = train_filled[list(val_pivot.columns)]\n",
    "\n",
    "all_preds = []\n",
    "all_gt = []\n",
    "\n",
    "for user in val_pivot.index.values: \n",
    "    gt = val_pivot.loc[val_pivot.index==user].values\n",
    "    preds = train_val_overlap.loc[train_val_overlap.index==user]\n",
    "\n",
    "    mask = ~np.isnan(gt)\n",
    "    preds = preds.values[mask]\n",
    "    gt = gt[mask]\n",
    "\n",
    "    all_preds.append(preds)\n",
    "    all_gt.append(gt)\n",
    "\n",
    "preds = np.concatenate(all_preds)\n",
    "gt = np.concatenate(all_gt)\n",
    "\n",
    "print('RMSE: ', mean_squared_error(gt, preds))\n",
    "print('MAE: ', mean_absolute_error(gt, preds))"
   ]
  },
  {
   "cell_type": "code",
   "execution_count": 138,
   "metadata": {},
   "outputs": [
    {
     "data": {
      "text/plain": [
       "Text(0.5, 0, 'K value')"
      ]
     },
     "execution_count": 138,
     "metadata": {},
     "output_type": "execute_result"
    },
    {
     "data": {
      "image/png": "[encoded data removed]",
      "text/plain": [
       "<Figure size 432x288 with 1 Axes>"
      ]
     },
     "metadata": {
      "needs_background": "light"
     },
     "output_type": "display_data"
    }
   ],
   "source": [
    "k_array = [3, 5, 10, 15, 20, 25, 30, 35, 40, 45, 50, 55, 60, 65, 70, 75, 80, 85]\n",
    "val_pivot = makePivot(val)\n",
    "\n",
    "train_rmse_list, train_mae_list = [], []\n",
    "val_rmse_list, val_mae_list = [], []\n",
    "\n",
    "for k in k_array:\n",
    "    \n",
    "    train_filled, train_rmse, train_mae = evalTrain(train_pivot, k)\n",
    "    val_rmse, val_mae = evalVal(val_pivot, train_filled)\n",
    "\n",
    "    train_rmse_list.append(train_rmse)\n",
    "    train_mae_list.append(train_mae)\n",
    "\n",
    "    val_rmse_list.append(val_rmse)\n",
    "    val_mae_list.append(val_mae)\n",
    "\n",
    "plt.plot(k_array, train_rmse_list, label = 'Train')\n",
    "plt.plot(k_array, val_rmse_list, label = 'Val')\n",
    "plt.legend()\n",
    "plt.title('RMSE vs. K')\n",
    "plt.ylabel('Error')\n",
    "plt.xlabel('K value')"
   ]
  },
  {
   "cell_type": "code",
   "execution_count": 139,
   "metadata": {},
   "outputs": [
    {
     "data": {
      "text/plain": [
       "Text(0.5, 0, 'K value')"
      ]
     },
     "execution_count": 139,
     "metadata": {},
     "output_type": "execute_result"
    },
    {
     "data": {
      "image/png": "[encoded data removed]",
      "text/plain": [
       "<Figure size 432x288 with 1 Axes>"
      ]
     },
     "metadata": {
      "needs_background": "light"
     },
     "output_type": "display_data"
    }
   ],
   "source": [
    "plt.plot(k_array, train_mae_list, label = 'Train')\n",
    "plt.plot(k_array, val_mae_list, label = 'Val')\n",
    "plt.legend()\n",
    "plt.title('MAE vs. K')\n",
    "plt.ylabel('Error')\n",
    "plt.xlabel('K value')"
   ]
  },
  {
   "cell_type": "code",
   "execution_count": 86,
   "metadata": {},
   "outputs": [
    {
     "name": "stdout",
     "output_type": "stream",
     "text": [
      "-------------- Train ---------------\n",
      "RMSE:  1.0407823407631073e-15\n",
      "MAE:  7.053170055251964e-16\n",
      "-------------- Val ---------------\n",
      "RMSE:  1.0020195548272304\n",
      "MAE:  0.7697720292369132\n"
     ]
    }
   ],
   "source": [
    "## train\n",
    "train_pivot = makePivot(train)\n",
    "train_filled = compute_filled_matrix(train_pivot, 85)\n",
    "mask = train_pivot.notna()\n",
    "preds = train_filled.values[mask]\n",
    "gt = train_pivot.values[mask]\n",
    "\n",
    "print('-------------- Train ---------------')\n",
    "print('RMSE: ', mean_squared_error(gt, preds, squared=False))\n",
    "print('MAE: ', mean_absolute_error(gt, preds))\n",
    "\n",
    "val_pivot = makePivot(val)\n",
    "mask = val_pivot.notna()\n",
    "preds = train_filled.values[mask]\n",
    "gt = val_pivot.values[mask]\n",
    "print('-------------- Val ---------------')\n",
    "print('RMSE: ', mean_squared_error(gt, preds, squared=False))\n",
    "print('MAE: ', mean_absolute_error(gt, preds))"
   ]
  },
  {
   "attachments": {},
   "cell_type": "markdown",
   "metadata": {},
   "source": [
    "An improvement over the baselines on the train set but the rmse on our validation set is actually higher and the MAE is basically the same \n",
    "Lets try incorporating similar users"
   ]
  },
  {
   "attachments": {},
   "cell_type": "markdown",
   "metadata": {},
   "source": [
    "### Finding Similarities"
   ]
  },
  {
   "cell_type": "code",
   "execution_count": 87,
   "metadata": {},
   "outputs": [],
   "source": [
    "def find_sim_users(filled_df, user):\n",
    "    \"\"\"\n",
    "    Takes in the SVD array and the user of interest for whom we want\n",
    "    to make recommendations \n",
    "    \"\"\"\n",
    "    # Normalize the reconstructed matrix \n",
    "    avg_ratings = filled_df.mean(axis=1)\n",
    "    user_ratings_centered = filled_df.sub(avg_ratings, axis=0)\n",
    "    similarities = cosine_similarity(user_ratings_centered)\n",
    "    cosine_similarity_df = pd.DataFrame(similarities, index=user_ratings_centered.index, columns=user_ratings_centered.index)\n",
    "    #cosine_similarity_df.head()\n",
    "\n",
    "    # find the most similar users and return a sorted series \n",
    "    cosine_similarity_series = cosine_similarity_df.loc[user]\n",
    "    ordered_similarities = cosine_similarity_series.sort_values(ascending=False)\n",
    "    #print(ordered_similarities)\n",
    "\n",
    "    return ordered_similarities"
   ]
  },
  {
   "attachments": {},
   "cell_type": "markdown",
   "metadata": {},
   "source": [
    "## Analyzing similarity results"
   ]
  },
  {
   "attachments": {},
   "cell_type": "markdown",
   "metadata": {},
   "source": [
    "I want to explore what the similar users look like before constructing a collaborative filter. I am just going to be looking at who similar the users are based on their actual ratings and which restaurants they have overlapped. Much more analysis can be done such as the categories of the restaurants that overlap but I am just going to do a basic analysis for now."
   ]
  },
  {
   "cell_type": "code",
   "execution_count": null,
   "metadata": {},
   "outputs": [],
   "source": [
    "user_of_interest = filtered_nola.loc[filtered_nola['user_id']=='-V7frksbFjKQYVhrPnnlPw']\n",
    "user_highest_sim = filtered_nola.loc[filtered_nola['user_id']=='Il5rEF1q73uT-kzGoXIy_w']\n",
    "overlap = user_of_interest[user_of_interest['business_id'].isin(user_highest_sim['business_id'])]\n",
    "\n",
    "print('Mean rating for user of interst: ', np.mean(user_of_interest['stars']))\n",
    "print('Number of restaurants in common: ', len(overlap))\n",
    "print('Average star rating for restaurants in common for uoi: ', np.mean(overlap['stars']))\n",
    "\n",
    "#overlap.head()"
   ]
  },
  {
   "cell_type": "code",
   "execution_count": null,
   "metadata": {},
   "outputs": [],
   "source": [
    "user_highest_sim = filtered_nola.loc[filtered_nola['user_id']=='Il5rEF1q73uT-kzGoXIy_w']\n",
    "overlap_user2 = user_highest_sim[user_highest_sim['business_id'].isin(user_of_interest['business_id'])]\n",
    "\n",
    "print('Mean rating for user with highest similarity: ', np.mean(user_highest_sim['stars']))\n",
    "print('Average star rating for restaurants in common for user 2: ', np.mean(overlap_user2['stars']))\n",
    "\n",
    "#overlap_user2.head()"
   ]
  },
  {
   "attachments": {},
   "cell_type": "markdown",
   "metadata": {},
   "source": [
    "Although the users have 33 restaurants in common, their average rating is not very close to eachother as we would want (although they are pretty close). Perhaps a different value of K would solve this. Lets try to find which K recreates original matrix the best"
   ]
  },
  {
   "cell_type": "code",
   "execution_count": null,
   "metadata": {},
   "outputs": [],
   "source": [
    "def calc_svd_for_k(k_array):\n",
    "    \"\"\"\n",
    "    Iterates through values of K and calculates the distance between the reconstructed\n",
    "    values computed through SVD and the original ground truth values\n",
    "    \"\"\"\n",
    "    rmse_vals = []\n",
    "\n",
    "    for val in k_array: \n",
    "        \n",
    "        user_ratings_filled = compute_filled_matrix(val)\n",
    "\n",
    "        predicted_ratings = user_ratings_filled.values\n",
    "        gt_ratings = user_ratings_pivot.values\n",
    "        mask = ~np.isnan(gt_ratings)\n",
    "        rmse_vals.append(mean_squared_error(gt_ratings[mask],\n",
    "                            predicted_ratings[mask],\n",
    "                            squared=False))\n",
    "        \n",
    "    return rmse_vals\n",
    "\n",
    "k_array = [3, 5, 10, 15, 20, 25, 30, 35, 40, 45, 50, 55, 60, 65, 70, 75, 80, 85]\n",
    "rmse_vals = calc_svd_for_k(k_array)\n",
    "\n",
    "plt.plot(k_array, rmse_vals)\n",
    "plt.title('RMSE vs. K')\n",
    "plt.xlabel('Value of K')\n",
    "plt.ylabel('RMSE')"
   ]
  },
  {
   "attachments": {},
   "cell_type": "markdown",
   "metadata": {},
   "source": [
    "It seems the lowest error is given by 85 latent vectors. This is to be expected as the entire matrix has a dimension of 87 and we are compressing the information only by 2 dimensions. In retrospect, I should have found the RMSE between the predicted restaurant rating and the ground truth restarant rating for different values of k instead of computing the reconstruction error. Anyways, Lets see if using 85 latent features leads to a more accurate similarity measurement"
   ]
  },
  {
   "cell_type": "code",
   "execution_count": null,
   "metadata": {},
   "outputs": [],
   "source": [
    "user_ratings_filled_85 = compute_filled_matrix(85)\n",
    "ordered_85 = find_sim_users(user_ratings_filled_85, '-V7frksbFjKQYVhrPnnlPw')\n",
    "print(ordered_85)"
   ]
  },
  {
   "attachments": {},
   "cell_type": "markdown",
   "metadata": {},
   "source": [
    "...these correlations are much smaller than when using k = 10. This doesn't seem very promising, maybe the data is not compressed enough to find similarities even though the reconstruction error is the smallest. Lets look a little deeper into this"
   ]
  },
  {
   "cell_type": "code",
   "execution_count": null,
   "metadata": {},
   "outputs": [],
   "source": [
    "user_of_interest = filtered_nola.loc[filtered_nola['user_id']=='-V7frksbFjKQYVhrPnnlPw']\n",
    "user_highest_sim = filtered_nola.loc[filtered_nola['user_id']=='2BCqTs3dpcqAS6OOkaqYVA']\n",
    "overlap = user_of_interest[user_of_interest['business_id'].isin(user_highest_sim['business_id'])]\n",
    "\n",
    "print('Mean rating for user of interst: ', np.mean(user_of_interest['stars']))\n",
    "print('Number of restaurants in common: ', len(overlap))\n",
    "print('Average star rating for restaurants in common for uoi: ', np.mean(overlap['stars']))\n",
    "\n",
    "#overlap.head(6)"
   ]
  },
  {
   "cell_type": "code",
   "execution_count": null,
   "metadata": {},
   "outputs": [],
   "source": [
    "user_highest_sim = filtered_nola.loc[filtered_nola['user_id']=='2BCqTs3dpcqAS6OOkaqYVA']\n",
    "overlap_user2 = user_highest_sim[user_highest_sim['business_id'].isin(user_of_interest['business_id'])]\n",
    "\n",
    "print('Mean rating for user with highest similarity: ', np.mean(user_highest_sim['stars']))\n",
    "print('Average star rating for restaurants in common for user 2: ', np.mean(overlap_user2['stars']))\n",
    "\n",
    "#overlap_user2.head()"
   ]
  },
  {
   "attachments": {},
   "cell_type": "markdown",
   "metadata": {},
   "source": [
    "With a higher K, the similarity score is much lower, these users have less restaurants in common and their ratings are more differen compared to the user ranked as very similar with k = 10. Just out of curiousity, lets explore k = 35 since 35 is approximately halfway to 85 and also k = 3. Ideally, we would want stronger correlations to indicate stronger overlap."
   ]
  },
  {
   "cell_type": "code",
   "execution_count": null,
   "metadata": {},
   "outputs": [],
   "source": [
    "user_ratings_filled_35 = compute_filled_matrix(35)\n",
    "ordered_35 = find_sim_users(user_ratings_filled_35, '-V7frksbFjKQYVhrPnnlPw')\n",
    "print(ordered_35)"
   ]
  },
  {
   "attachments": {},
   "cell_type": "markdown",
   "metadata": {},
   "source": [
    "The most common user remained the same but has higher correlation values, indicating that perhaps with 85 vectors, the space is not compressed enough to find strong similarities. It is interesting to note that users in other places, such as the second and third most similar have changed. "
   ]
  },
  {
   "attachments": {},
   "cell_type": "markdown",
   "metadata": {},
   "source": [
    "Now lets look at k = 3"
   ]
  },
  {
   "cell_type": "code",
   "execution_count": null,
   "metadata": {},
   "outputs": [],
   "source": [
    "user_ratings_filled_3 = compute_filled_matrix(3)\n",
    "ordered_3 = find_sim_users(user_ratings_filled_3, '-V7frksbFjKQYVhrPnnlPw')\n",
    "#print(ordered_3)"
   ]
  },
  {
   "cell_type": "code",
   "execution_count": null,
   "metadata": {},
   "outputs": [],
   "source": [
    "user_of_interest = filtered_nola.loc[filtered_nola['user_id']=='-V7frksbFjKQYVhrPnnlPw']\n",
    "user_highest_sim = filtered_nola.loc[filtered_nola['user_id']=='h3ScdzD0VSUTQj492nIBLg']\n",
    "overlap = user_of_interest[user_of_interest['business_id'].isin(user_highest_sim['business_id'])]\n",
    "\n",
    "print('Mean rating for user of interst: ', np.mean(user_of_interest['stars']))\n",
    "print('Number of restaurants in common: ', len(overlap))\n",
    "print('Average star rating for restaurants in common for uoi: ', np.mean(overlap['stars']))\n",
    "\n",
    "#overlap.head(6)"
   ]
  },
  {
   "cell_type": "code",
   "execution_count": null,
   "metadata": {},
   "outputs": [],
   "source": [
    "user_highest_sim = filtered_nola.loc[filtered_nola['user_id']=='h3ScdzD0VSUTQj492nIBLg']\n",
    "overlap_user2 = user_highest_sim[user_highest_sim['business_id'].isin(user_of_interest['business_id'])]\n",
    "\n",
    "print('Mean rating for user with highest similarity: ', np.mean(user_highest_sim['stars']))\n",
    "print('Average star rating for restaurants in common for user 2: ', np.mean(overlap_user2['stars']))\n",
    "\n",
    "#overlap_user2.head()"
   ]
  },
  {
   "attachments": {},
   "cell_type": "markdown",
   "metadata": {},
   "source": [
    "With k = 3, the users have the furthest average ratings for restaurants they have in common even though their mean rating for all the restaurants is very similar. I think having a closer average rating for restaurants in common is more meaningful than having a closer rating overall so lets stick to k = 85 for our filter."
   ]
  },
  {
   "attachments": {},
   "cell_type": "markdown",
   "metadata": {},
   "source": [
    "## Constructing the Recommender\n",
    "\n",
    "For the final recommender, I am going to find the top 5 most similar users to user X, then find the overlap between those similar users and recommend the restaurant with the highest rating among all 5 users. Im going to try this for k = 3 based on analysis above and evaluate on the train and validation sets. I am a bit confused about how to use the validation hold out set to make predictions as we would want to use the values in the train set to find similar users and make predictions for the validation set but lets start of easy and just evaluate on the train set. "
   ]
  },
  {
   "cell_type": "code",
   "execution_count": null,
   "metadata": {},
   "outputs": [],
   "source": [
    "train_pivot.head()"
   ]
  },
  {
   "cell_type": "code",
   "execution_count": 88,
   "metadata": {},
   "outputs": [
    {
     "data": {
      "text/plain": [
       "user_id\n",
       "-MRD72DXnVgjkM1AVFp7Nw    1.000000\n",
       "0KvykeSkliujA79xITYLxw    0.338051\n",
       "U6CknC8K0NTsXn_yLPV6tQ    0.268810\n",
       "PiCDHUEBFFy8o3rKgWFDpw    0.245080\n",
       "qMvJ_4Po6dYk-GX9pclRKg    0.199176\n",
       "                            ...   \n",
       "6lmqSrwSrhTcjNwTEiQZPg   -0.115701\n",
       "vScaSrM91Z43ypSR9VfKGg   -0.124495\n",
       "QGMX1H6WQTp-o8Qq3uO3dQ   -0.143505\n",
       "KKpMFHF3-PFKTZP0ZPexfQ   -0.194943\n",
       "iAJ15W0T6n1KMrSkGju3MQ   -0.238399\n",
       "Name: -MRD72DXnVgjkM1AVFp7Nw, Length: 327, dtype: float64"
      ]
     },
     "execution_count": 88,
     "metadata": {},
     "output_type": "execute_result"
    }
   ],
   "source": [
    "user_of_interest = '-MRD72DXnVgjkM1AVFp7Nw'\n",
    "ordered = find_sim_users(train_filled, user_of_interest)\n",
    "ordered"
   ]
  },
  {
   "cell_type": "code",
   "execution_count": 89,
   "metadata": {},
   "outputs": [
    {
     "name": "stdout",
     "output_type": "stream",
     "text": [
      "0.5977230043348607\n",
      "0.35727278991109196\n"
     ]
    }
   ],
   "source": [
    "top5 = ordered[:4].index.to_list()\n",
    "weights = ordered[:4].values\n",
    "\n",
    "sim_users = train_filled.loc[train_filled.index.isin(top5)]\n",
    "avg_ratings = pd.DataFrame(sim_users.mean(axis=0)).T\n",
    "\n",
    "user_of_interest = train_pivot.loc[train_pivot.index=='-MRD72DXnVgjkM1AVFp7Nw']\n",
    "\n",
    "mask =user_of_interest.notna()\n",
    "preds = avg_ratings.values[mask]\n",
    "gt = user_of_interest.values[mask]\n",
    "\n",
    "print(mean_squared_error(gt, preds, squared=False))\n",
    "print(mean_squared_error(gt, preds))"
   ]
  },
  {
   "attachments": {},
   "cell_type": "markdown",
   "metadata": {},
   "source": [
    "### Defining functions to build a pipeline "
   ]
  },
  {
   "cell_type": "code",
   "execution_count": 90,
   "metadata": {},
   "outputs": [],
   "source": [
    "### functions for making the recommendation and then the entire pipeline from pivot table generation to recommendation \n",
    "def evaluateRecommendation(filled_df, split_df, user= None): \n",
    "    #find similar users in train set \n",
    "    ordered = find_sim_users(filled_df, user)\n",
    "    #print(ordered[:3])\n",
    "    # find top 5 most similar users \n",
    "    top_5 = ordered[:4].index\n",
    "    weights = ordered[:4].values\n",
    "    \n",
    "    sim_users = filled_df.loc[filled_df.index.isin(top_5)]\n",
    "    avg_ratings = pd.DataFrame(sim_users.mean(axis=0)).T\n",
    "\n",
    "    user_of_interest = split_df.loc[split_df.index==user]\n",
    "    mask =user_of_interest.notna()\n",
    "    preds = avg_ratings.values[mask]\n",
    "    gt = user_of_interest.values[mask]\n",
    "\n",
    "    # print(gt)\n",
    "    # print(preds)\n",
    "\n",
    "\n",
    "    # print('gt: ', gt)\n",
    "    # Since we are going to recommend the top 5 restaurants, we are only evaluating on the top 5 in the sorted ratings \n",
    "    rmse = mean_squared_error(gt, preds, squared=False)\n",
    "    mae = mean_absolute_error(gt, preds)\n",
    "    #print('Predictions: ', prediction)\n",
    "    #print('Ground truth: ', gt)\n",
    "\n",
    "    return rmse, mae"
   ]
  },
  {
   "attachments": {},
   "cell_type": "markdown",
   "metadata": {},
   "source": [
    "### Validating the recommendation algorithm on the train set \n"
   ]
  },
  {
   "cell_type": "code",
   "execution_count": 91,
   "metadata": {},
   "outputs": [
    {
     "name": "stdout",
     "output_type": "stream",
     "text": [
      "RMSE:  0.5193288016896416\n",
      "MAE:  0.3794060566419678\n"
     ]
    }
   ],
   "source": [
    "train_filled = compute_filled_matrix(train_pivot, 85)\n",
    "rmse, mae = evaluateRecommendation(train_filled, train_pivot, user= '-V7frksbFjKQYVhrPnnlPw')\n",
    "print('RMSE: ', rmse)\n",
    "print('MAE: ', mae)"
   ]
  },
  {
   "cell_type": "code",
   "execution_count": 92,
   "metadata": {},
   "outputs": [
    {
     "name": "stdout",
     "output_type": "stream",
     "text": [
      "Average mean squared error:  0.68\n",
      "Average mean absolute error:  0.56\n"
     ]
    }
   ],
   "source": [
    "## entire pipeline\n",
    "mse = []\n",
    "mae = []\n",
    "\n",
    "users_of_interest = train['user_id'].unique()\n",
    "for user in users_of_interest:\n",
    "\n",
    "    user_rmse, user_mae = evaluateRecommendation(train_filled, train_pivot, user)\n",
    "\n",
    "    mse.append(user_rmse)\n",
    "    mae.append(user_mae)\n",
    "\n",
    "print('Average mean squared error: ', np.round(np.mean(mse),2))\n",
    "print('Average mean absolute error: ', np.round(np.mean(mae),2))"
   ]
  },
  {
   "attachments": {},
   "cell_type": "markdown",
   "metadata": {},
   "source": [
    "We beat the baseline on both metrics! Now, lets try the validation set. Essentially, to evaluate the validation set we want to \n",
    "\n",
    "1. Find which users in the train set are similar to the users in the validation set as the validation is the \"new user\" information that we want to make predictions for \n",
    "2. Use the ratings of users in the train set to predict the rating in the validation set\n",
    "3. Compare the gt in the validation set to the prediction made my similar users in the train set \n",
    "\n",
    "I don't think it makes sense to use the validation set to make predictions for the validation set as then in that case, that would have been the same as keeping the validation set and the train set together in the first place. We want to see if we can preict ratings of restaurants we haven't seen before for users we have seen before. I'm going to need to change the functions above slightly so instead of making one ginormous function I will just define slightly modified functions called evaluateRecommendation"
   ]
  },
  {
   "attachments": {},
   "cell_type": "markdown",
   "metadata": {},
   "source": [
    "### Evaluating recommendation engine on validation set"
   ]
  },
  {
   "cell_type": "code",
   "execution_count": 93,
   "metadata": {},
   "outputs": [
    {
     "name": "stdout",
     "output_type": "stream",
     "text": [
      "RMSE:  0.6603628740286661\n",
      "MAE:  0.45491256481776865\n"
     ]
    }
   ],
   "source": [
    "rmse, mae = evaluateRecommendation(train_filled, val_pivot, user = '-V7frksbFjKQYVhrPnnlPw')\n",
    "print('RMSE: ', rmse)\n",
    "print('MAE: ', mae)"
   ]
  },
  {
   "cell_type": "code",
   "execution_count": 94,
   "metadata": {},
   "outputs": [
    {
     "name": "stdout",
     "output_type": "stream",
     "text": [
      "Average mean squared error:  0.98\n",
      "Average mean absolute error:  0.8\n"
     ]
    }
   ],
   "source": [
    "## entire pipeline\n",
    "mse = []\n",
    "mae = []\n",
    "\n",
    "users_of_interest = val['user_id'].unique()\n",
    "for user in users_of_interest:\n",
    "\n",
    "    user_rmse, user_mae = evaluateRecommendation(train_filled, val_pivot, user)\n",
    "\n",
    "    mse.append(user_rmse)\n",
    "    mae.append(user_mae)\n",
    "\n",
    "print('Average mean squared error: ', np.round(np.mean(mse),2))\n",
    "print('Average mean absolute error: ', np.round(np.mean(mae),2))\n"
   ]
  },
  {
   "attachments": {},
   "cell_type": "markdown",
   "metadata": {},
   "source": [
    "Now lets try to find the most optimal value of k based on the predictions and see if it matches our earlier analysis"
   ]
  },
  {
   "cell_type": "code",
   "execution_count": null,
   "metadata": {},
   "outputs": [],
   "source": [
    "avg_mse = []\n",
    "avg_mae = []\n",
    "k_array = [3, 5, 10, 15, 20, 25, 30, 35, 40, 45, 50, 55, 60, 65, 70, 75, 80, 85, 86]\n",
    "for k in k_array:\n",
    "\n",
    "    train_filled = computeFilledMatrix(k)\n",
    "    rmse = []\n",
    "    mae = []\n",
    "\n",
    "    for user in users_of_interest:\n",
    "       \n",
    "        user_rmse, user_mae = evaluateRecommendation(train_filled, val_pivot, user)\n",
    "        rmse.append(user_rmse)\n",
    "        mae.append(user_mae)\n",
    "\n",
    "    avg_mse.append(np.round(np.mean(rmse),2))\n",
    "    avg_mae.append(np.round(np.mean(mae),2))\n",
    "\n",
    "plt.plot(k_array, avg_mse, label = 'Avg MSE')\n",
    "plt.plot(k_array, avg_mae, label = 'Avg MAE')\n",
    "plt.legend()\n",
    "plt.title('Average Error vs. K')\n",
    "plt.ylabel('Average Error')\n",
    "plt.xlabel('K value')"
   ]
  },
  {
   "cell_type": "code",
   "execution_count": null,
   "metadata": {},
   "outputs": [],
   "source": [
    "print(min(avg_mse))\n",
    "print(min(avg_mae))"
   ]
  },
  {
   "attachments": {},
   "cell_type": "markdown",
   "metadata": {},
   "source": [
    "## Final Recommender System"
   ]
  },
  {
   "cell_type": "code",
   "execution_count": null,
   "metadata": {},
   "outputs": [],
   "source": [
    "### functions for making the recommendation \n",
    "def makeRecommendation(ordered, split_df, user): \n",
    "\n",
    "    top_10 = ordered[1:6].index\n",
    "    user_of_interest = split_df.loc[split_df['user_id']==user]\n",
    "    rest_ratings_dict = {}\n",
    "    rest_counts_dict = {}\n",
    "\n",
    "    for user in top_10: \n",
    "        #print(user)\n",
    "        user_highest_sim = split_df.loc[split_df['user_id']==user]\n",
    "        new_rests = user_highest_sim[~user_highest_sim['business_id'].isin(user_of_interest['business_id'])]\n",
    "        for business in new_rests['business_id'].unique():\n",
    "            if business in rest_ratings_dict.keys(): \n",
    "                # print(business)\n",
    "                rest_ratings_dict[business] += new_rests['stars'].loc[new_rests['business_id']==business].mean()\n",
    "                rest_counts_dict[business] += 1\n",
    "            else: \n",
    "                rest_ratings_dict[business] = new_rests['stars'].loc[new_rests['business_id']==business].mean()\n",
    "                rest_counts_dict[business] = 1\n",
    "\n",
    "    for k,v in list(rest_counts_dict.items()):\n",
    "        if v == 1:\n",
    "            del rest_counts_dict[k]\n",
    "            del rest_ratings_dict[k]\n",
    "\n",
    "    averaged_ratings = {k: rest_ratings_dict[k]/rest_counts_dict[k] for k in rest_counts_dict.keys() & rest_ratings_dict}\n",
    "    top5_ratings = dict(sorted(averaged_ratings.items(), key=lambda item: item[1], reverse = True))\n",
    "\n",
    "    print('Based on users with similar interests, we recommend the following restaurants for you:')\n",
    "    for i, biz in enumerate(top5_ratings.keys()):\n",
    "        if i < 6: \n",
    "            print('Recommendation {}: {}'.format(i, biz_dict[biz]))\n",
    "        else: \n",
    "            break\n"
   ]
  }
 ],
 "metadata": {
  "kernelspec": {
   "display_name": "practice",
   "language": "python",
   "name": "python3"
  },
  "language_info": {
   "codemirror_mode": {
    "name": "ipython",
    "version": 3
   },
   "file_extension": ".py",
   "mimetype": "text/x-python",
   "name": "python",
   "nbconvert_exporter": "python",
   "pygments_lexer": "ipython3",
   "version": "3.8.12"
  },
  "orig_nbformat": 4
 },
 "nbformat": 4,
 "nbformat_minor": 2
}
