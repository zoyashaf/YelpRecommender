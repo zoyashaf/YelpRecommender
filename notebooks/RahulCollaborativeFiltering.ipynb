{
 "cells": [
  {
   "cell_type": "code",
   "execution_count": 1,
   "id": "10fa87eb",
   "metadata": {},
   "outputs": [],
   "source": [
    "# IMPORT libraries\n",
    "import pandas as pd\n",
    "import numpy as np\n",
    "\n",
    "import warnings\n",
    "warnings.filterwarnings('ignore')\n",
    "\n",
    "import matplotlib.pyplot as plt\n",
    "%matplotlib inline"
   ]
  },
  {
   "cell_type": "code",
   "execution_count": 16,
   "id": "0644ea5f",
   "metadata": {},
   "outputs": [],
   "source": [
    "user = pd.read_csv('../data/processed/part-00000-46d48d05-1d5c-4096-a243-308a7216e2ff-c000.csv')\n",
    "reviews = pd.read_csv(\"../data/processed/reviews.csv\",index_col=[0])"
   ]
  },
  {
   "cell_type": "code",
   "execution_count": 3,
   "id": "68b86b1e",
   "metadata": {},
   "outputs": [
    {
     "data": {
      "text/plain": [
       "Index(['average_stars', 'compliment_cool', 'compliment_cute',\n",
       "       'compliment_funny', 'compliment_hot', 'compliment_list',\n",
       "       'compliment_more', 'compliment_note', 'compliment_photos',\n",
       "       'compliment_plain', 'compliment_profile', 'compliment_writer', 'cool',\n",
       "       'elite', 'fans', 'friends', 'funny', 'name', 'review_count', 'useful',\n",
       "       'user_id', 'yelping_since'],\n",
       "      dtype='object')"
      ]
     },
     "execution_count": 3,
     "metadata": {},
     "output_type": "execute_result"
    }
   ],
   "source": [
    "user.columns"
   ]
  },
  {
   "cell_type": "code",
   "execution_count": 4,
   "id": "be0d4d14",
   "metadata": {},
   "outputs": [
    {
     "name": "stdout",
     "output_type": "stream",
     "text": [
      "Businesses in the review dataset:  6219\n"
     ]
    }
   ],
   "source": [
    "print(\"Businesses in the review dataset: \", reviews.business_id.nunique())"
   ]
  },
  {
   "cell_type": "code",
   "execution_count": 23,
   "id": "93fac5b1",
   "metadata": {},
   "outputs": [],
   "source": [
    "business = pd.read_csv(\"../data/processed/business.csv\")"
   ]
  },
  {
   "cell_type": "code",
   "execution_count": 6,
   "id": "7da6796d",
   "metadata": {},
   "outputs": [
    {
     "data": {
      "text/plain": [
       "6217"
      ]
     },
     "execution_count": 6,
     "metadata": {},
     "output_type": "execute_result"
    }
   ],
   "source": [
    "len(business)"
   ]
  },
  {
   "cell_type": "markdown",
   "id": "76694cf9",
   "metadata": {},
   "source": [
    "There are total of 6217 businessees in New Orleans"
   ]
  },
  {
   "cell_type": "code",
   "execution_count": 7,
   "id": "b12b45d5",
   "metadata": {},
   "outputs": [
    {
     "data": {
      "text/plain": [
       "1095800"
      ]
     },
     "execution_count": 7,
     "metadata": {},
     "output_type": "execute_result"
    }
   ],
   "source": [
    "len(reviews)"
   ]
  },
  {
   "cell_type": "code",
   "execution_count": 8,
   "id": "2dec5d34",
   "metadata": {},
   "outputs": [
    {
     "name": "stdout",
     "output_type": "stream",
     "text": [
      "<class 'pandas.core.frame.DataFrame'>\n",
      "Int64Index: 6217 entries, 0 to 6216\n",
      "Data columns (total 14 columns):\n",
      " #   Column        Non-Null Count  Dtype  \n",
      "---  ------        --------------  -----  \n",
      " 0   address       5954 non-null   object \n",
      " 1   attributes    5722 non-null   object \n",
      " 2   business_id   6217 non-null   object \n",
      " 3   categories    6216 non-null   object \n",
      " 4   city          6217 non-null   object \n",
      " 5   hours         5059 non-null   object \n",
      " 6   is_open       6217 non-null   int64  \n",
      " 7   latitude      6217 non-null   float64\n",
      " 8   longitude     6217 non-null   float64\n",
      " 9   name          6217 non-null   object \n",
      " 10  postal_code   6212 non-null   float64\n",
      " 11  review_count  6217 non-null   int64  \n",
      " 12  stars         6217 non-null   float64\n",
      " 13  state         6217 non-null   object \n",
      "dtypes: float64(4), int64(2), object(8)\n",
      "memory usage: 728.6+ KB\n"
     ]
    }
   ],
   "source": [
    "business.info()"
   ]
  },
  {
   "cell_type": "code",
   "execution_count": 17,
   "id": "e9575ec1",
   "metadata": {},
   "outputs": [
    {
     "data": {
      "text/plain": [
       "{'0', '6', nan}"
      ]
     },
     "execution_count": 17,
     "metadata": {},
     "output_type": "execute_result"
    }
   ],
   "source": [
    "set(reviews.business_id.unique()) - set(business.business_id)"
   ]
  },
  {
   "cell_type": "code",
   "execution_count": 18,
   "id": "0f28ad28",
   "metadata": {},
   "outputs": [],
   "source": [
    "reviews = reviews[reviews.business_id.str.len() != 22]"
   ]
  },
  {
   "cell_type": "markdown",
   "id": "f2fad02b",
   "metadata": {},
   "source": [
    "Removing unwanted values from reviews dataset"
   ]
  },
  {
   "cell_type": "code",
   "execution_count": 26,
   "id": "14b6e042",
   "metadata": {},
   "outputs": [
    {
     "name": "stdout",
     "output_type": "stream",
     "text": [
      "<class 'pandas.core.frame.DataFrame'>\n",
      "Index: 393218 entries,   to  I recommend not to go here and if your hotel offers the coupon tell them not to promote this restaurant they are cheaters and are a disgrace to cajun/creole cuisine.\n",
      "Data columns (total 9 columns):\n",
      " #   Column       Non-Null Count  Dtype  \n",
      "---  ------       --------------  -----  \n",
      " 0   business_id  2 non-null      object \n",
      " 1   cool         2 non-null      object \n",
      " 2   date         0 non-null      object \n",
      " 3   funny        0 non-null      float64\n",
      " 4   review_id    0 non-null      object \n",
      " 5   stars        0 non-null      float64\n",
      " 6   text         0 non-null      object \n",
      " 7   useful       0 non-null      float64\n",
      " 8   user_id      0 non-null      object \n",
      "dtypes: float64(3), object(6)\n",
      "memory usage: 38.1+ MB\n"
     ]
    }
   ],
   "source": [
    "# doublecheck that there is only one review for each user_id, business_id combinations before pivoting to user x restaurant matrix\n",
    "reviews.info()"
   ]
  },
  {
   "cell_type": "code",
   "execution_count": null,
   "id": "68fd2453",
   "metadata": {},
   "outputs": [],
   "source": []
  },
  {
   "cell_type": "code",
   "execution_count": null,
   "id": "116b3a88",
   "metadata": {},
   "outputs": [],
   "source": []
  },
  {
   "cell_type": "code",
   "execution_count": null,
   "id": "b9c3a6b7",
   "metadata": {},
   "outputs": [],
   "source": []
  },
  {
   "cell_type": "code",
   "execution_count": null,
   "id": "99dac668",
   "metadata": {},
   "outputs": [],
   "source": []
  },
  {
   "cell_type": "code",
   "execution_count": null,
   "id": "65ef490c",
   "metadata": {},
   "outputs": [],
   "source": []
  },
  {
   "cell_type": "code",
   "execution_count": null,
   "id": "3db385c8",
   "metadata": {},
   "outputs": [],
   "source": []
  }
 ],
 "metadata": {
  "kernelspec": {
   "display_name": "Python 3 (ipykernel)",
   "language": "python",
   "name": "python3"
  },
  "language_info": {
   "codemirror_mode": {
    "name": "ipython",
    "version": 3
   },
   "file_extension": ".py",
   "mimetype": "text/x-python",
   "name": "python",
   "nbconvert_exporter": "python",
   "pygments_lexer": "ipython3",
   "version": "3.9.12"
  }
 },
 "nbformat": 4,
 "nbformat_minor": 5
}
