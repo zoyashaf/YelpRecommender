{
 "cells": [
  {
   "cell_type": "code",
   "execution_count": 1,
   "metadata": {},
   "outputs": [],
   "source": [
    "import warnings\n",
    "warnings.simplefilter(action='ignore', category=FutureWarning)"
   ]
  },
  {
   "cell_type": "code",
   "execution_count": 66,
   "metadata": {},
   "outputs": [],
   "source": [
    "import numpy as np\n",
    "import pandas as pd\n",
    "import matplotlib.pyplot as plt\n",
    "import seaborn as sns \n",
    "from scipy.sparse.linalg import svds\n",
    "from sklearn.metrics.pairwise import cosine_similarity\n",
    "from sklearn.metrics.pairwise import pairwise_distances\n",
    "from sklearn.metrics import mean_squared_error\n",
    "from sklearn.metrics import mean_absolute_error\n",
    "\n",
    "from sklearn.feature_extraction.text import CountVectorizer, TfidfVectorizer\n",
    "from sklearn.neighbors import NearestNeighbors\n",
    "from sklearn.decomposition import LatentDirichletAllocation, TruncatedSVD\n",
    "import gensim\n",
    "from gensim import models\n",
    "from pprint import pprint\n",
    "from gensim.models import CoherenceModel\n",
    "from gensim.models.doc2vec import Doc2Vec, TaggedDocument\n",
    "from nltk.tokenize import word_tokenize\n",
    "from sklearn.manifold import TSNE"
   ]
  },
  {
   "cell_type": "code",
   "execution_count": 144,
   "metadata": {},
   "outputs": [],
   "source": [
    "sns.color_palette('icefire')\n",
    "sns.set_palette('icefire')\n"
   ]
  },
  {
   "attachments": {},
   "cell_type": "markdown",
   "metadata": {},
   "source": [
    "# Recommender # 2"
   ]
  },
  {
   "attachments": {},
   "cell_type": "markdown",
   "metadata": {},
   "source": [
    "## Data cleaning based on previous work\n",
    "For the collaborative filter, I combined the business and reviews dataframe, subsetting restaurants in New Orleans, dropped irrelevant columns and filtered out users who have more than 50 reviews and businesses which  have more than 50 reviews."
   ]
  },
  {
   "cell_type": "code",
   "execution_count": 3,
   "metadata": {},
   "outputs": [
    {
     "data": {
      "text/plain": [
       "(52286, 6)"
      ]
     },
     "execution_count": 3,
     "metadata": {},
     "output_type": "execute_result"
    }
   ],
   "source": [
    "path = '/Users/shafz/OneDrive/Documents/machine-learning-dse-i210-final-project-yelprestaurantrecommender/data/raw/'\n",
    "business = pd.read_csv(path+'raw_business.csv')\n",
    "restaurants = business[business.categories.fillna('-').str.lower().str.contains('restaurant')]\n",
    "\n",
    "restaurants.columns = ['business_id', 'name', 'address', 'city', 'state', 'postal_code',\n",
    "       'latitude', 'longitude', 'biz_stars', 'biz_review_count', 'is_open',\n",
    "       'attributes', 'categories', 'hours']\n",
    "\n",
    "restaurants = restaurants.drop(['address', 'state', 'postal_code',\n",
    "       'latitude', 'longitude', 'is_open', 'attributes', 'hours'], axis = 1)\n",
    "\n",
    "restaurants.shape"
   ]
  },
  {
   "cell_type": "code",
   "execution_count": 4,
   "metadata": {},
   "outputs": [
    {
     "data": {
      "text/plain": [
       "(51934, 6)"
      ]
     },
     "execution_count": 4,
     "metadata": {},
     "output_type": "execute_result"
    }
   ],
   "source": [
    "# removing irrelevant categories\n",
    "lst = ['Automotive','Bed & Breakfast']  # categories we want to exclude \n",
    "rstr = '|'.join(lst)\n",
    "idx_to_remove = restaurants[restaurants.categories.fillna('-').str.contains(rstr)].index\n",
    "restaurants.drop(idx_to_remove, axis = 0, inplace=True)\n",
    "\n",
    "restaurants.shape"
   ]
  },
  {
   "cell_type": "code",
   "execution_count": null,
   "metadata": {},
   "outputs": [],
   "source": []
  },
  {
   "cell_type": "code",
   "execution_count": 5,
   "metadata": {},
   "outputs": [],
   "source": [
    "reviews = pd.read_csv(path  + 'raw_reviews.csv')"
   ]
  },
  {
   "cell_type": "code",
   "execution_count": 6,
   "metadata": {},
   "outputs": [],
   "source": [
    "reviews.drop('Unnamed: 0', axis =1, inplace = True)\n",
    "reviews = reviews.drop(['useful', 'funny','cool','date'], axis = 1)"
   ]
  },
  {
   "cell_type": "code",
   "execution_count": 7,
   "metadata": {},
   "outputs": [],
   "source": [
    "# merging business and reviews data together, filtering out the restaurants in New Orleans, and dropping duplicates\n",
    "merged_df = pd.merge(reviews, restaurants, on='business_id')\n",
    "nola = merged_df.loc[merged_df['city']=='New Orleans']\n",
    "nola = nola.drop_duplicates(['user_id', 'business_id', 'stars'], keep='first')"
   ]
  },
  {
   "cell_type": "code",
   "execution_count": 8,
   "metadata": {},
   "outputs": [
    {
     "name": "stdout",
     "output_type": "stream",
     "text": [
      "Data shape after filtering by users:  (30925, 10)\n",
      "Data shape after also filtering by restaurants:  (19539, 10)\n",
      "Unique users:  327\n",
      "Unqiue businesses:  436\n"
     ]
    }
   ],
   "source": [
    "## I'm going to focus my analysis on users that have at least 50 reviews and restaurants that have at least 50 reviews \n",
    "user_counts = nola['user_id'].value_counts().to_dict()\n",
    "user_list = []\n",
    "\n",
    "for key in user_counts.keys(): \n",
    "    if user_counts[key] >= 50: \n",
    "        user_list.append(key)\n",
    "\n",
    "filtered_nola = nola[nola['user_id'].isin(user_list)]\n",
    "print('Data shape after filtering by users: ', filtered_nola.shape)\n",
    "\n",
    "biz_counts = filtered_nola['business_id'].value_counts().to_dict()\n",
    "biz_list = []\n",
    "\n",
    "for key in biz_counts.keys(): \n",
    "    if biz_counts[key] >= 25: \n",
    "        biz_list.append(key)\n",
    "\n",
    "filtered_nola = filtered_nola[filtered_nola['business_id'].isin(biz_list)]\n",
    "print('Data shape after also filtering by restaurants: ', filtered_nola.shape)\n",
    "print('Unique users: ', len(filtered_nola['user_id'].unique()))\n",
    "print('Unqiue businesses: ', len(filtered_nola['business_id'].unique()))"
   ]
  },
  {
   "cell_type": "code",
   "execution_count": 9,
   "metadata": {},
   "outputs": [],
   "source": [
    "user_data = pd.read_csv(path + 'raw_users.csv')\n",
    "user_stars = user_data[['user_id', 'average_stars']]"
   ]
  },
  {
   "cell_type": "code",
   "execution_count": 10,
   "metadata": {},
   "outputs": [
    {
     "data": {
      "text/plain": [
       "4    7613\n",
       "5    6173\n",
       "3    3805\n",
       "2    1432\n",
       "1     516\n",
       "Name: stars, dtype: int64"
      ]
     },
     "execution_count": 10,
     "metadata": {},
     "output_type": "execute_result"
    }
   ],
   "source": [
    "filtered_nola = pd.merge(filtered_nola, user_stars, on='user_id')\n",
    "filtered_nola['stars'].value_counts()"
   ]
  },
  {
   "cell_type": "code",
   "execution_count": 11,
   "metadata": {},
   "outputs": [],
   "source": [
    "## create a dictionary which maps business id to restaurant name\n",
    "biz_dict = {}\n",
    "biz_avg_ratings = {}\n",
    "user_avg_ratings = {}\n",
    "\n",
    "for row in filtered_nola.itertuples():\n",
    "    biz_dict[row.business_id] = row.name\n",
    "    biz_avg_ratings[row.business_id] = row.biz_stars\n",
    "    user_avg_ratings[row.user_id] = row.average_stars"
   ]
  },
  {
   "attachments": {},
   "cell_type": "markdown",
   "metadata": {},
   "source": [
    "## Data Preparation"
   ]
  },
  {
   "attachments": {},
   "cell_type": "markdown",
   "metadata": {},
   "source": [
    "I had previously tried to do a train test split using sklearn's train_test_split function but that was a HUGE mess so we are going to do something completely different now"
   ]
  },
  {
   "cell_type": "code",
   "execution_count": 12,
   "metadata": {},
   "outputs": [],
   "source": [
    "def calcSparsity(df):\n",
    "    number_of_empty = df.isnull().values.sum()\n",
    "    total_number = df.size\n",
    "    sparsity = number_of_empty/total_number\n",
    "    print('Sparsity: {}'.format(round(sparsity,3)))\n",
    "\n",
    "def makePivot(df):\n",
    "    user_ratings = df[['user_id', 'business_id', 'stars']]\n",
    "    user_ratings_pivot = user_ratings.pivot_table(index='user_id', columns='business_id', values='stars', aggfunc='mean')\n",
    "    return user_ratings_pivot"
   ]
  },
  {
   "cell_type": "code",
   "execution_count": 13,
   "metadata": {},
   "outputs": [
    {
     "name": "stdout",
     "output_type": "stream",
     "text": [
      "Sparsity: 0.87\n"
     ]
    },
    {
     "data": {
      "text/html": [
       "<div>\n",
       "<style scoped>\n",
       "    .dataframe tbody tr th:only-of-type {\n",
       "        vertical-align: middle;\n",
       "    }\n",
       "\n",
       "    .dataframe tbody tr th {\n",
       "        vertical-align: top;\n",
       "    }\n",
       "\n",
       "    .dataframe thead th {\n",
       "        text-align: right;\n",
       "    }\n",
       "</style>\n",
       "<table border=\"1\" class=\"dataframe\">\n",
       "  <thead>\n",
       "    <tr style=\"text-align: right;\">\n",
       "      <th>business_id</th>\n",
       "      <th>-If0ps0QhOLCYVWQWs9RYg</th>\n",
       "      <th>-Tskf8WK17rb3ZfeFuRSWA</th>\n",
       "      <th>-VlBFlHwX-Pt6Xyzs9roGw</th>\n",
       "      <th>-fJPJP7iOd1ukDNqTSINIg</th>\n",
       "      <th>-psZLTe6IJTQUB-bZF7Zyg</th>\n",
       "      <th>06NHXjVHiGKNpZ2XeajVkA</th>\n",
       "      <th>0DdmKihJ90qKP5TAM3c2yQ</th>\n",
       "      <th>0KTwW1eC1YAjR-zDr8w4jA</th>\n",
       "      <th>0UJqTczta018RoktahC0jw</th>\n",
       "      <th>0ZeGH15LV98FuijA1XrWoA</th>\n",
       "      <th>...</th>\n",
       "      <th>yTJ2Ir6CMBzThLK5dmACvQ</th>\n",
       "      <th>yY3kq6_2m1FyY9MgaiHgoQ</th>\n",
       "      <th>ydmJoaK1PMlwLvMnbFXf1w</th>\n",
       "      <th>yf8a1DOlqoqlKHuLSKEfxg</th>\n",
       "      <th>yz0KWVamNhqiZGz7XTClzg</th>\n",
       "      <th>z0MXYel0okwMqLjgMkKD2A</th>\n",
       "      <th>zSqTndm5Alq9dW1PyzbdTA</th>\n",
       "      <th>zWfzgYe2nT9mHYm_vl1Ukw</th>\n",
       "      <th>zYyVEC0IF86xSHF3GFmvkg</th>\n",
       "      <th>zgpx6YqA7KeY9-3xbNEn3A</th>\n",
       "    </tr>\n",
       "    <tr>\n",
       "      <th>user_id</th>\n",
       "      <th></th>\n",
       "      <th></th>\n",
       "      <th></th>\n",
       "      <th></th>\n",
       "      <th></th>\n",
       "      <th></th>\n",
       "      <th></th>\n",
       "      <th></th>\n",
       "      <th></th>\n",
       "      <th></th>\n",
       "      <th></th>\n",
       "      <th></th>\n",
       "      <th></th>\n",
       "      <th></th>\n",
       "      <th></th>\n",
       "      <th></th>\n",
       "      <th></th>\n",
       "      <th></th>\n",
       "      <th></th>\n",
       "      <th></th>\n",
       "      <th></th>\n",
       "    </tr>\n",
       "  </thead>\n",
       "  <tbody>\n",
       "    <tr>\n",
       "      <th>-MRD72DXnVgjkM1AVFp7Nw</th>\n",
       "      <td>NaN</td>\n",
       "      <td>NaN</td>\n",
       "      <td>5.0</td>\n",
       "      <td>4.0</td>\n",
       "      <td>NaN</td>\n",
       "      <td>NaN</td>\n",
       "      <td>NaN</td>\n",
       "      <td>NaN</td>\n",
       "      <td>NaN</td>\n",
       "      <td>NaN</td>\n",
       "      <td>...</td>\n",
       "      <td>5.0</td>\n",
       "      <td>NaN</td>\n",
       "      <td>NaN</td>\n",
       "      <td>NaN</td>\n",
       "      <td>NaN</td>\n",
       "      <td>NaN</td>\n",
       "      <td>NaN</td>\n",
       "      <td>NaN</td>\n",
       "      <td>NaN</td>\n",
       "      <td>1.0</td>\n",
       "    </tr>\n",
       "    <tr>\n",
       "      <th>-SO_K8oLVH_9J23z2MtjGg</th>\n",
       "      <td>NaN</td>\n",
       "      <td>NaN</td>\n",
       "      <td>NaN</td>\n",
       "      <td>NaN</td>\n",
       "      <td>NaN</td>\n",
       "      <td>NaN</td>\n",
       "      <td>NaN</td>\n",
       "      <td>NaN</td>\n",
       "      <td>NaN</td>\n",
       "      <td>NaN</td>\n",
       "      <td>...</td>\n",
       "      <td>NaN</td>\n",
       "      <td>NaN</td>\n",
       "      <td>NaN</td>\n",
       "      <td>NaN</td>\n",
       "      <td>4.0</td>\n",
       "      <td>5.0</td>\n",
       "      <td>NaN</td>\n",
       "      <td>5.0</td>\n",
       "      <td>NaN</td>\n",
       "      <td>NaN</td>\n",
       "    </tr>\n",
       "    <tr>\n",
       "      <th>-Tg5YTEMbnYw3fQN99xKCQ</th>\n",
       "      <td>NaN</td>\n",
       "      <td>NaN</td>\n",
       "      <td>5.0</td>\n",
       "      <td>NaN</td>\n",
       "      <td>NaN</td>\n",
       "      <td>NaN</td>\n",
       "      <td>NaN</td>\n",
       "      <td>NaN</td>\n",
       "      <td>NaN</td>\n",
       "      <td>NaN</td>\n",
       "      <td>...</td>\n",
       "      <td>NaN</td>\n",
       "      <td>NaN</td>\n",
       "      <td>NaN</td>\n",
       "      <td>NaN</td>\n",
       "      <td>NaN</td>\n",
       "      <td>NaN</td>\n",
       "      <td>NaN</td>\n",
       "      <td>NaN</td>\n",
       "      <td>NaN</td>\n",
       "      <td>NaN</td>\n",
       "    </tr>\n",
       "    <tr>\n",
       "      <th>-V7frksbFjKQYVhrPnnlPw</th>\n",
       "      <td>4.0</td>\n",
       "      <td>4.0</td>\n",
       "      <td>5.0</td>\n",
       "      <td>NaN</td>\n",
       "      <td>NaN</td>\n",
       "      <td>4.0</td>\n",
       "      <td>NaN</td>\n",
       "      <td>NaN</td>\n",
       "      <td>NaN</td>\n",
       "      <td>NaN</td>\n",
       "      <td>...</td>\n",
       "      <td>NaN</td>\n",
       "      <td>NaN</td>\n",
       "      <td>NaN</td>\n",
       "      <td>NaN</td>\n",
       "      <td>NaN</td>\n",
       "      <td>4.0</td>\n",
       "      <td>3.0</td>\n",
       "      <td>3.0</td>\n",
       "      <td>4.0</td>\n",
       "      <td>NaN</td>\n",
       "    </tr>\n",
       "    <tr>\n",
       "      <th>-_Y8Mal7S750TsB6yMMDHA</th>\n",
       "      <td>NaN</td>\n",
       "      <td>NaN</td>\n",
       "      <td>NaN</td>\n",
       "      <td>NaN</td>\n",
       "      <td>NaN</td>\n",
       "      <td>NaN</td>\n",
       "      <td>NaN</td>\n",
       "      <td>NaN</td>\n",
       "      <td>NaN</td>\n",
       "      <td>NaN</td>\n",
       "      <td>...</td>\n",
       "      <td>NaN</td>\n",
       "      <td>NaN</td>\n",
       "      <td>NaN</td>\n",
       "      <td>NaN</td>\n",
       "      <td>NaN</td>\n",
       "      <td>NaN</td>\n",
       "      <td>NaN</td>\n",
       "      <td>NaN</td>\n",
       "      <td>NaN</td>\n",
       "      <td>NaN</td>\n",
       "    </tr>\n",
       "  </tbody>\n",
       "</table>\n",
       "<p>5 rows × 436 columns</p>\n",
       "</div>"
      ],
      "text/plain": [
       "business_id             -If0ps0QhOLCYVWQWs9RYg  -Tskf8WK17rb3ZfeFuRSWA  \\\n",
       "user_id                                                                  \n",
       "-MRD72DXnVgjkM1AVFp7Nw                     NaN                     NaN   \n",
       "-SO_K8oLVH_9J23z2MtjGg                     NaN                     NaN   \n",
       "-Tg5YTEMbnYw3fQN99xKCQ                     NaN                     NaN   \n",
       "-V7frksbFjKQYVhrPnnlPw                     4.0                     4.0   \n",
       "-_Y8Mal7S750TsB6yMMDHA                     NaN                     NaN   \n",
       "\n",
       "business_id             -VlBFlHwX-Pt6Xyzs9roGw  -fJPJP7iOd1ukDNqTSINIg  \\\n",
       "user_id                                                                  \n",
       "-MRD72DXnVgjkM1AVFp7Nw                     5.0                     4.0   \n",
       "-SO_K8oLVH_9J23z2MtjGg                     NaN                     NaN   \n",
       "-Tg5YTEMbnYw3fQN99xKCQ                     5.0                     NaN   \n",
       "-V7frksbFjKQYVhrPnnlPw                     5.0                     NaN   \n",
       "-_Y8Mal7S750TsB6yMMDHA                     NaN                     NaN   \n",
       "\n",
       "business_id             -psZLTe6IJTQUB-bZF7Zyg  06NHXjVHiGKNpZ2XeajVkA  \\\n",
       "user_id                                                                  \n",
       "-MRD72DXnVgjkM1AVFp7Nw                     NaN                     NaN   \n",
       "-SO_K8oLVH_9J23z2MtjGg                     NaN                     NaN   \n",
       "-Tg5YTEMbnYw3fQN99xKCQ                     NaN                     NaN   \n",
       "-V7frksbFjKQYVhrPnnlPw                     NaN                     4.0   \n",
       "-_Y8Mal7S750TsB6yMMDHA                     NaN                     NaN   \n",
       "\n",
       "business_id             0DdmKihJ90qKP5TAM3c2yQ  0KTwW1eC1YAjR-zDr8w4jA  \\\n",
       "user_id                                                                  \n",
       "-MRD72DXnVgjkM1AVFp7Nw                     NaN                     NaN   \n",
       "-SO_K8oLVH_9J23z2MtjGg                     NaN                     NaN   \n",
       "-Tg5YTEMbnYw3fQN99xKCQ                     NaN                     NaN   \n",
       "-V7frksbFjKQYVhrPnnlPw                     NaN                     NaN   \n",
       "-_Y8Mal7S750TsB6yMMDHA                     NaN                     NaN   \n",
       "\n",
       "business_id             0UJqTczta018RoktahC0jw  0ZeGH15LV98FuijA1XrWoA  ...  \\\n",
       "user_id                                                                 ...   \n",
       "-MRD72DXnVgjkM1AVFp7Nw                     NaN                     NaN  ...   \n",
       "-SO_K8oLVH_9J23z2MtjGg                     NaN                     NaN  ...   \n",
       "-Tg5YTEMbnYw3fQN99xKCQ                     NaN                     NaN  ...   \n",
       "-V7frksbFjKQYVhrPnnlPw                     NaN                     NaN  ...   \n",
       "-_Y8Mal7S750TsB6yMMDHA                     NaN                     NaN  ...   \n",
       "\n",
       "business_id             yTJ2Ir6CMBzThLK5dmACvQ  yY3kq6_2m1FyY9MgaiHgoQ  \\\n",
       "user_id                                                                  \n",
       "-MRD72DXnVgjkM1AVFp7Nw                     5.0                     NaN   \n",
       "-SO_K8oLVH_9J23z2MtjGg                     NaN                     NaN   \n",
       "-Tg5YTEMbnYw3fQN99xKCQ                     NaN                     NaN   \n",
       "-V7frksbFjKQYVhrPnnlPw                     NaN                     NaN   \n",
       "-_Y8Mal7S750TsB6yMMDHA                     NaN                     NaN   \n",
       "\n",
       "business_id             ydmJoaK1PMlwLvMnbFXf1w  yf8a1DOlqoqlKHuLSKEfxg  \\\n",
       "user_id                                                                  \n",
       "-MRD72DXnVgjkM1AVFp7Nw                     NaN                     NaN   \n",
       "-SO_K8oLVH_9J23z2MtjGg                     NaN                     NaN   \n",
       "-Tg5YTEMbnYw3fQN99xKCQ                     NaN                     NaN   \n",
       "-V7frksbFjKQYVhrPnnlPw                     NaN                     NaN   \n",
       "-_Y8Mal7S750TsB6yMMDHA                     NaN                     NaN   \n",
       "\n",
       "business_id             yz0KWVamNhqiZGz7XTClzg  z0MXYel0okwMqLjgMkKD2A  \\\n",
       "user_id                                                                  \n",
       "-MRD72DXnVgjkM1AVFp7Nw                     NaN                     NaN   \n",
       "-SO_K8oLVH_9J23z2MtjGg                     4.0                     5.0   \n",
       "-Tg5YTEMbnYw3fQN99xKCQ                     NaN                     NaN   \n",
       "-V7frksbFjKQYVhrPnnlPw                     NaN                     4.0   \n",
       "-_Y8Mal7S750TsB6yMMDHA                     NaN                     NaN   \n",
       "\n",
       "business_id             zSqTndm5Alq9dW1PyzbdTA  zWfzgYe2nT9mHYm_vl1Ukw  \\\n",
       "user_id                                                                  \n",
       "-MRD72DXnVgjkM1AVFp7Nw                     NaN                     NaN   \n",
       "-SO_K8oLVH_9J23z2MtjGg                     NaN                     5.0   \n",
       "-Tg5YTEMbnYw3fQN99xKCQ                     NaN                     NaN   \n",
       "-V7frksbFjKQYVhrPnnlPw                     3.0                     3.0   \n",
       "-_Y8Mal7S750TsB6yMMDHA                     NaN                     NaN   \n",
       "\n",
       "business_id             zYyVEC0IF86xSHF3GFmvkg  zgpx6YqA7KeY9-3xbNEn3A  \n",
       "user_id                                                                 \n",
       "-MRD72DXnVgjkM1AVFp7Nw                     NaN                     1.0  \n",
       "-SO_K8oLVH_9J23z2MtjGg                     NaN                     NaN  \n",
       "-Tg5YTEMbnYw3fQN99xKCQ                     NaN                     NaN  \n",
       "-V7frksbFjKQYVhrPnnlPw                     4.0                     NaN  \n",
       "-_Y8Mal7S750TsB6yMMDHA                     NaN                     NaN  \n",
       "\n",
       "[5 rows x 436 columns]"
      ]
     },
     "execution_count": 13,
     "metadata": {},
     "output_type": "execute_result"
    }
   ],
   "source": [
    "nola_pivot = makePivot(filtered_nola)\n",
    "calcSparsity(nola_pivot)\n",
    "nola_pivot.head()"
   ]
  },
  {
   "cell_type": "code",
   "execution_count": 14,
   "metadata": {},
   "outputs": [
    {
     "name": "stdout",
     "output_type": "stream",
     "text": [
      "Sparsity: 0.883\n"
     ]
    }
   ],
   "source": [
    "train = nola_pivot.iloc[:50, :100]\n",
    "val = nola_pivot.iloc[110:140, 150:200]\n",
    "test = nola_pivot.iloc[230:300, 300:400]\n",
    "\n",
    "nola_copy = nola_pivot.copy()\n",
    "nola_copy.iloc[:50, :100] = np.nan\n",
    "nola_copy.iloc[110:140, 150:200] = np.nan\n",
    "nola_copy.iloc[230:300, 300:400] = np.nan\n",
    "\n",
    "calcSparsity(nola_copy)"
   ]
  },
  {
   "cell_type": "code",
   "execution_count": 62,
   "metadata": {},
   "outputs": [
    {
     "name": "stdout",
     "output_type": "stream",
     "text": [
      "train shape:  (50, 100)\n",
      "val shape:  (30, 50)\n",
      "test shape:  (80, 100)\n"
     ]
    }
   ],
   "source": [
    "print('train shape: ', train.shape)\n",
    "print('val shape: ', val.shape)\n",
    "print('test shape: ', test.shape)"
   ]
  },
  {
   "attachments": {},
   "cell_type": "markdown",
   "metadata": {},
   "source": [
    "## Some Simple Baselines \n",
    "\n",
    "Just for comparisons sake, we are going to see what our root mean squared error (RMSE) and mean absolute error (MAE) come out to if we just predict the average business rating / average user rating every single time. Even though I can do this on the entire dataframe in one go since we are not training anything and theres no threat of information leakage in any way, I am still going to apply it to each split individually so we can compare easily later on"
   ]
  },
  {
   "cell_type": "code",
   "execution_count": 99,
   "metadata": {},
   "outputs": [],
   "source": [
    "def predictAvgBiz(df, user = False):\n",
    "    ## input = pivot table of users and businesses \n",
    "    pred_df = pd.DataFrame(columns=list(df.columns), index=df.index)\n",
    "\n",
    "    if user: \n",
    "        for user in pred_df.index: \n",
    "           pred_df.loc[pred_df.index==user] = user_avg_ratings[user]\n",
    "    else: \n",
    "        for col in pred_df.columns: \n",
    "           pred_df[col] = biz_avg_ratings[col]\n",
    "\n",
    "    mask = ~np.isnan(df)\n",
    "    gt_stars = df.values[mask]\n",
    "    pred = pred_df.values[mask]\n",
    "\n",
    "    return (mean_squared_error(gt_stars, pred, squared=False), mean_absolute_error(gt_stars, pred))"
   ]
  },
  {
   "cell_type": "code",
   "execution_count": 71,
   "metadata": {},
   "outputs": [
    {
     "name": "stdout",
     "output_type": "stream",
     "text": [
      "Train rmse:  0.918\n",
      "Train mae:  0.698\n",
      "-------------------------------------\n",
      "Val rmse:  0.924\n",
      "Val mae:  0.74\n",
      "-------------------------------------\n",
      "Test rmse:  0.985\n",
      "Test mae:  0.774\n"
     ]
    }
   ],
   "source": [
    "### Predicting average business rating as user rating \n",
    "## evaluating train set \n",
    "train_rmse, train_mae = predictAvgBiz(train, user = False)\n",
    "print('Train rmse: ', round(train_rmse, 3))\n",
    "print('Train mae: ', round(train_mae, 3))\n",
    "print('-------------------------------------')\n",
    "## evaluating validation set \n",
    "val_rmse, val_mae = predictAvgBiz(val, user = False)\n",
    "print('Val rmse: ', round(val_rmse, 3))\n",
    "print('Val mae: ', round(val_mae, 3))\n",
    "print('-------------------------------------')\n",
    "## evaluating test set \n",
    "test_rmse, test_mae = predictAvgBiz(test, user = False)\n",
    "print('Test rmse: ', round(test_rmse, 3))\n",
    "print('Test mae: ', round(test_mae, 3))"
   ]
  },
  {
   "cell_type": "code",
   "execution_count": 72,
   "metadata": {},
   "outputs": [
    {
     "name": "stdout",
     "output_type": "stream",
     "text": [
      "Train rmse:  0.849\n",
      "Train mae:  0.649\n",
      "-------------------------------------\n",
      "Val rmse:  0.847\n",
      "Val mae:  0.693\n",
      "-------------------------------------\n",
      "Test rmse:  0.938\n",
      "Test mae:  0.72\n"
     ]
    }
   ],
   "source": [
    "### Predicting average user rating as user rating \n",
    "## evaluating train set \n",
    "train_rmse, train_mae = predictAvgBiz(train, user = True)\n",
    "print('Train rmse: ', round(train_rmse, 3))\n",
    "print('Train mae: ', round(train_mae, 3))\n",
    "print('-------------------------------------')\n",
    "## evaluating validation set \n",
    "val_rmse, val_mae = predictAvgBiz(val, user = True)\n",
    "print('Val rmse: ', round(val_rmse, 3))\n",
    "print('Val mae: ', round(val_mae, 3))\n",
    "print('-------------------------------------')\n",
    "## evaluating test set \n",
    "test_rmse, test_mae = predictAvgBiz(test, user = True)\n",
    "print('Test rmse: ', round(test_rmse, 3))\n",
    "print('Test mae: ', round(test_mae, 3))"
   ]
  },
  {
   "attachments": {},
   "cell_type": "markdown",
   "metadata": {},
   "source": [
    "## Building the Filter\n",
    "For the collaborative filer, I \n",
    "\n",
    "* Created a pivot table where the rows are the users and the columns are the different restaurants. The value in each cell is the user rating for that restaurant.\n",
    "* Calculated the sparsity \n",
    "* Normalized the data and set all NaNs to 0.\n",
    "* Filled in the missing values using singular value decomposition (SVD) \n",
    "* Found most similar users using cosine similarity \n",
    "* Did some brief analysis on the results of the cosine similarity \n",
    "* Built a collaborative filter by combining the normalization, SVD reconstruction, and cosine similarity calculation\n",
    "    * The collaborative filter finds the top five most similar users to a given user, calculates the average rating of restaurants that the similar users have visited but the user of interest has not and then recommends the top 5 restaurants with the highest ratings.\n",
    "* Evaluaed performance using MSE and MAE\n",
    "* Determined the optimal value of k based on the MSE and MAE "
   ]
  },
  {
   "attachments": {},
   "cell_type": "markdown",
   "metadata": {},
   "source": [
    "### Filling in Missing Values with SVD"
   ]
  },
  {
   "cell_type": "code",
   "execution_count": 72,
   "metadata": {},
   "outputs": [],
   "source": [
    "def compute_filled_matrix(pivot_df, k_val):\n",
    "    \"\"\"\n",
    "    Takes in the number of latent vectors and outputs \n",
    "    a reconstructed/filled pivot table \n",
    "    \"\"\"\n",
    "    # Normalize pivot table \n",
    "    avg_ratings = pivot_df.mean(axis=1)\n",
    "    user_ratings_centered = pivot_df.sub(avg_ratings, axis=0)\n",
    "    user_ratings_centered = user_ratings_centered.fillna(0)\n",
    "\n",
    "    # Calculate SVD and use it to reconstruct the pivot table \n",
    "    U, sigma, Vt = svds(user_ratings_centered.to_numpy(), k = k_val, tol=0)\n",
    "    sigma = np.diag(sigma)\n",
    "    # print(U.shape)\n",
    "    # print(Vt.shape)\n",
    "    recalculated_ratings = np.dot(np.dot(U, sigma), Vt)\n",
    "    recalculated_ratings = recalculated_ratings + avg_ratings.values.reshape(-1, 1)\n",
    "\n",
    "    # Create a dataframe from the SVD recalculation \n",
    "    user_ratings_filled = pd.DataFrame(recalculated_ratings,\n",
    "                                    index=pivot_df.index,\n",
    "                                    columns=pivot_df.columns)\n",
    "\n",
    "    return user_ratings_filled, U "
   ]
  },
  {
   "attachments": {},
   "cell_type": "markdown",
   "metadata": {},
   "source": [
    "What type of performance do we get if we just use the reconstructed matrix for predictions?"
   ]
  },
  {
   "cell_type": "code",
   "execution_count": 70,
   "metadata": {},
   "outputs": [
    {
     "name": "stdout",
     "output_type": "stream",
     "text": [
      "(327, 85)\n",
      "(85, 436)\n"
     ]
    },
    {
     "data": {
      "text/html": [
       "<div>\n",
       "<style scoped>\n",
       "    .dataframe tbody tr th:only-of-type {\n",
       "        vertical-align: middle;\n",
       "    }\n",
       "\n",
       "    .dataframe tbody tr th {\n",
       "        vertical-align: top;\n",
       "    }\n",
       "\n",
       "    .dataframe thead th {\n",
       "        text-align: right;\n",
       "    }\n",
       "</style>\n",
       "<table border=\"1\" class=\"dataframe\">\n",
       "  <thead>\n",
       "    <tr style=\"text-align: right;\">\n",
       "      <th>business_id</th>\n",
       "      <th>-If0ps0QhOLCYVWQWs9RYg</th>\n",
       "      <th>-Tskf8WK17rb3ZfeFuRSWA</th>\n",
       "      <th>-VlBFlHwX-Pt6Xyzs9roGw</th>\n",
       "      <th>-fJPJP7iOd1ukDNqTSINIg</th>\n",
       "      <th>-psZLTe6IJTQUB-bZF7Zyg</th>\n",
       "      <th>06NHXjVHiGKNpZ2XeajVkA</th>\n",
       "      <th>0DdmKihJ90qKP5TAM3c2yQ</th>\n",
       "      <th>0KTwW1eC1YAjR-zDr8w4jA</th>\n",
       "      <th>0UJqTczta018RoktahC0jw</th>\n",
       "      <th>0ZeGH15LV98FuijA1XrWoA</th>\n",
       "      <th>...</th>\n",
       "      <th>yTJ2Ir6CMBzThLK5dmACvQ</th>\n",
       "      <th>yY3kq6_2m1FyY9MgaiHgoQ</th>\n",
       "      <th>ydmJoaK1PMlwLvMnbFXf1w</th>\n",
       "      <th>yf8a1DOlqoqlKHuLSKEfxg</th>\n",
       "      <th>yz0KWVamNhqiZGz7XTClzg</th>\n",
       "      <th>z0MXYel0okwMqLjgMkKD2A</th>\n",
       "      <th>zSqTndm5Alq9dW1PyzbdTA</th>\n",
       "      <th>zWfzgYe2nT9mHYm_vl1Ukw</th>\n",
       "      <th>zYyVEC0IF86xSHF3GFmvkg</th>\n",
       "      <th>zgpx6YqA7KeY9-3xbNEn3A</th>\n",
       "    </tr>\n",
       "    <tr>\n",
       "      <th>user_id</th>\n",
       "      <th></th>\n",
       "      <th></th>\n",
       "      <th></th>\n",
       "      <th></th>\n",
       "      <th></th>\n",
       "      <th></th>\n",
       "      <th></th>\n",
       "      <th></th>\n",
       "      <th></th>\n",
       "      <th></th>\n",
       "      <th></th>\n",
       "      <th></th>\n",
       "      <th></th>\n",
       "      <th></th>\n",
       "      <th></th>\n",
       "      <th></th>\n",
       "      <th></th>\n",
       "      <th></th>\n",
       "      <th></th>\n",
       "      <th></th>\n",
       "      <th></th>\n",
       "    </tr>\n",
       "  </thead>\n",
       "  <tbody>\n",
       "    <tr>\n",
       "      <th>-MRD72DXnVgjkM1AVFp7Nw</th>\n",
       "      <td>4.288587</td>\n",
       "      <td>4.392630</td>\n",
       "      <td>4.162512</td>\n",
       "      <td>4.460925</td>\n",
       "      <td>4.468919</td>\n",
       "      <td>4.718762</td>\n",
       "      <td>4.426146</td>\n",
       "      <td>4.291790</td>\n",
       "      <td>4.751686</td>\n",
       "      <td>4.347350</td>\n",
       "      <td>...</td>\n",
       "      <td>4.478544</td>\n",
       "      <td>4.427244</td>\n",
       "      <td>4.318361</td>\n",
       "      <td>4.435611</td>\n",
       "      <td>4.453784</td>\n",
       "      <td>4.322794</td>\n",
       "      <td>4.310596</td>\n",
       "      <td>4.458841</td>\n",
       "      <td>4.663181</td>\n",
       "      <td>2.681210</td>\n",
       "    </tr>\n",
       "    <tr>\n",
       "      <th>-SO_K8oLVH_9J23z2MtjGg</th>\n",
       "      <td>4.116740</td>\n",
       "      <td>4.243840</td>\n",
       "      <td>4.260225</td>\n",
       "      <td>4.262626</td>\n",
       "      <td>4.315148</td>\n",
       "      <td>4.389642</td>\n",
       "      <td>4.239886</td>\n",
       "      <td>4.323938</td>\n",
       "      <td>4.123147</td>\n",
       "      <td>4.220708</td>\n",
       "      <td>...</td>\n",
       "      <td>4.297029</td>\n",
       "      <td>4.163622</td>\n",
       "      <td>4.146641</td>\n",
       "      <td>3.953925</td>\n",
       "      <td>3.900555</td>\n",
       "      <td>4.268007</td>\n",
       "      <td>4.096896</td>\n",
       "      <td>4.566306</td>\n",
       "      <td>4.195188</td>\n",
       "      <td>4.101599</td>\n",
       "    </tr>\n",
       "    <tr>\n",
       "      <th>-Tg5YTEMbnYw3fQN99xKCQ</th>\n",
       "      <td>3.767896</td>\n",
       "      <td>3.703646</td>\n",
       "      <td>3.612517</td>\n",
       "      <td>3.709250</td>\n",
       "      <td>3.777411</td>\n",
       "      <td>3.882855</td>\n",
       "      <td>3.598773</td>\n",
       "      <td>3.728560</td>\n",
       "      <td>3.682023</td>\n",
       "      <td>3.820787</td>\n",
       "      <td>...</td>\n",
       "      <td>3.794049</td>\n",
       "      <td>3.755723</td>\n",
       "      <td>3.783191</td>\n",
       "      <td>3.737777</td>\n",
       "      <td>3.726855</td>\n",
       "      <td>3.760155</td>\n",
       "      <td>3.558651</td>\n",
       "      <td>4.159780</td>\n",
       "      <td>3.574843</td>\n",
       "      <td>3.895961</td>\n",
       "    </tr>\n",
       "    <tr>\n",
       "      <th>-V7frksbFjKQYVhrPnnlPw</th>\n",
       "      <td>3.983353</td>\n",
       "      <td>3.937664</td>\n",
       "      <td>4.523312</td>\n",
       "      <td>3.714092</td>\n",
       "      <td>4.116047</td>\n",
       "      <td>4.118573</td>\n",
       "      <td>3.823823</td>\n",
       "      <td>4.168109</td>\n",
       "      <td>4.136671</td>\n",
       "      <td>4.039252</td>\n",
       "      <td>...</td>\n",
       "      <td>4.036839</td>\n",
       "      <td>3.887558</td>\n",
       "      <td>4.242337</td>\n",
       "      <td>3.807491</td>\n",
       "      <td>4.282793</td>\n",
       "      <td>3.765423</td>\n",
       "      <td>3.462858</td>\n",
       "      <td>3.106863</td>\n",
       "      <td>4.218349</td>\n",
       "      <td>3.964477</td>\n",
       "    </tr>\n",
       "    <tr>\n",
       "      <th>-_Y8Mal7S750TsB6yMMDHA</th>\n",
       "      <td>4.008548</td>\n",
       "      <td>3.816012</td>\n",
       "      <td>3.680216</td>\n",
       "      <td>3.879074</td>\n",
       "      <td>3.951134</td>\n",
       "      <td>3.935686</td>\n",
       "      <td>3.958683</td>\n",
       "      <td>3.687579</td>\n",
       "      <td>3.772666</td>\n",
       "      <td>3.858461</td>\n",
       "      <td>...</td>\n",
       "      <td>3.737603</td>\n",
       "      <td>3.744715</td>\n",
       "      <td>3.961055</td>\n",
       "      <td>3.821617</td>\n",
       "      <td>3.839211</td>\n",
       "      <td>3.805730</td>\n",
       "      <td>3.728714</td>\n",
       "      <td>3.864874</td>\n",
       "      <td>3.975997</td>\n",
       "      <td>3.911456</td>\n",
       "    </tr>\n",
       "  </tbody>\n",
       "</table>\n",
       "<p>5 rows × 436 columns</p>\n",
       "</div>"
      ],
      "text/plain": [
       "business_id             -If0ps0QhOLCYVWQWs9RYg  -Tskf8WK17rb3ZfeFuRSWA  \\\n",
       "user_id                                                                  \n",
       "-MRD72DXnVgjkM1AVFp7Nw                4.288587                4.392630   \n",
       "-SO_K8oLVH_9J23z2MtjGg                4.116740                4.243840   \n",
       "-Tg5YTEMbnYw3fQN99xKCQ                3.767896                3.703646   \n",
       "-V7frksbFjKQYVhrPnnlPw                3.983353                3.937664   \n",
       "-_Y8Mal7S750TsB6yMMDHA                4.008548                3.816012   \n",
       "\n",
       "business_id             -VlBFlHwX-Pt6Xyzs9roGw  -fJPJP7iOd1ukDNqTSINIg  \\\n",
       "user_id                                                                  \n",
       "-MRD72DXnVgjkM1AVFp7Nw                4.162512                4.460925   \n",
       "-SO_K8oLVH_9J23z2MtjGg                4.260225                4.262626   \n",
       "-Tg5YTEMbnYw3fQN99xKCQ                3.612517                3.709250   \n",
       "-V7frksbFjKQYVhrPnnlPw                4.523312                3.714092   \n",
       "-_Y8Mal7S750TsB6yMMDHA                3.680216                3.879074   \n",
       "\n",
       "business_id             -psZLTe6IJTQUB-bZF7Zyg  06NHXjVHiGKNpZ2XeajVkA  \\\n",
       "user_id                                                                  \n",
       "-MRD72DXnVgjkM1AVFp7Nw                4.468919                4.718762   \n",
       "-SO_K8oLVH_9J23z2MtjGg                4.315148                4.389642   \n",
       "-Tg5YTEMbnYw3fQN99xKCQ                3.777411                3.882855   \n",
       "-V7frksbFjKQYVhrPnnlPw                4.116047                4.118573   \n",
       "-_Y8Mal7S750TsB6yMMDHA                3.951134                3.935686   \n",
       "\n",
       "business_id             0DdmKihJ90qKP5TAM3c2yQ  0KTwW1eC1YAjR-zDr8w4jA  \\\n",
       "user_id                                                                  \n",
       "-MRD72DXnVgjkM1AVFp7Nw                4.426146                4.291790   \n",
       "-SO_K8oLVH_9J23z2MtjGg                4.239886                4.323938   \n",
       "-Tg5YTEMbnYw3fQN99xKCQ                3.598773                3.728560   \n",
       "-V7frksbFjKQYVhrPnnlPw                3.823823                4.168109   \n",
       "-_Y8Mal7S750TsB6yMMDHA                3.958683                3.687579   \n",
       "\n",
       "business_id             0UJqTczta018RoktahC0jw  0ZeGH15LV98FuijA1XrWoA  ...  \\\n",
       "user_id                                                                 ...   \n",
       "-MRD72DXnVgjkM1AVFp7Nw                4.751686                4.347350  ...   \n",
       "-SO_K8oLVH_9J23z2MtjGg                4.123147                4.220708  ...   \n",
       "-Tg5YTEMbnYw3fQN99xKCQ                3.682023                3.820787  ...   \n",
       "-V7frksbFjKQYVhrPnnlPw                4.136671                4.039252  ...   \n",
       "-_Y8Mal7S750TsB6yMMDHA                3.772666                3.858461  ...   \n",
       "\n",
       "business_id             yTJ2Ir6CMBzThLK5dmACvQ  yY3kq6_2m1FyY9MgaiHgoQ  \\\n",
       "user_id                                                                  \n",
       "-MRD72DXnVgjkM1AVFp7Nw                4.478544                4.427244   \n",
       "-SO_K8oLVH_9J23z2MtjGg                4.297029                4.163622   \n",
       "-Tg5YTEMbnYw3fQN99xKCQ                3.794049                3.755723   \n",
       "-V7frksbFjKQYVhrPnnlPw                4.036839                3.887558   \n",
       "-_Y8Mal7S750TsB6yMMDHA                3.737603                3.744715   \n",
       "\n",
       "business_id             ydmJoaK1PMlwLvMnbFXf1w  yf8a1DOlqoqlKHuLSKEfxg  \\\n",
       "user_id                                                                  \n",
       "-MRD72DXnVgjkM1AVFp7Nw                4.318361                4.435611   \n",
       "-SO_K8oLVH_9J23z2MtjGg                4.146641                3.953925   \n",
       "-Tg5YTEMbnYw3fQN99xKCQ                3.783191                3.737777   \n",
       "-V7frksbFjKQYVhrPnnlPw                4.242337                3.807491   \n",
       "-_Y8Mal7S750TsB6yMMDHA                3.961055                3.821617   \n",
       "\n",
       "business_id             yz0KWVamNhqiZGz7XTClzg  z0MXYel0okwMqLjgMkKD2A  \\\n",
       "user_id                                                                  \n",
       "-MRD72DXnVgjkM1AVFp7Nw                4.453784                4.322794   \n",
       "-SO_K8oLVH_9J23z2MtjGg                3.900555                4.268007   \n",
       "-Tg5YTEMbnYw3fQN99xKCQ                3.726855                3.760155   \n",
       "-V7frksbFjKQYVhrPnnlPw                4.282793                3.765423   \n",
       "-_Y8Mal7S750TsB6yMMDHA                3.839211                3.805730   \n",
       "\n",
       "business_id             zSqTndm5Alq9dW1PyzbdTA  zWfzgYe2nT9mHYm_vl1Ukw  \\\n",
       "user_id                                                                  \n",
       "-MRD72DXnVgjkM1AVFp7Nw                4.310596                4.458841   \n",
       "-SO_K8oLVH_9J23z2MtjGg                4.096896                4.566306   \n",
       "-Tg5YTEMbnYw3fQN99xKCQ                3.558651                4.159780   \n",
       "-V7frksbFjKQYVhrPnnlPw                3.462858                3.106863   \n",
       "-_Y8Mal7S750TsB6yMMDHA                3.728714                3.864874   \n",
       "\n",
       "business_id             zYyVEC0IF86xSHF3GFmvkg  zgpx6YqA7KeY9-3xbNEn3A  \n",
       "user_id                                                                 \n",
       "-MRD72DXnVgjkM1AVFp7Nw                4.663181                2.681210  \n",
       "-SO_K8oLVH_9J23z2MtjGg                4.195188                4.101599  \n",
       "-Tg5YTEMbnYw3fQN99xKCQ                3.574843                3.895961  \n",
       "-V7frksbFjKQYVhrPnnlPw                4.218349                3.964477  \n",
       "-_Y8Mal7S750TsB6yMMDHA                3.975997                3.911456  \n",
       "\n",
       "[5 rows x 436 columns]"
      ]
     },
     "execution_count": 70,
     "metadata": {},
     "output_type": "execute_result"
    }
   ],
   "source": [
    "nola_filled = compute_filled_matrix(nola_copy, 85)\n",
    "nola_filled.head()"
   ]
  },
  {
   "cell_type": "code",
   "execution_count": 17,
   "metadata": {},
   "outputs": [],
   "source": [
    "def eval(df, filled_df = nola_filled, split='train'):\n",
    "\n",
    "    mask = ~np.isnan(df)\n",
    "    gt = df.values[mask]\n",
    "\n",
    "    if split=='train':\n",
    "        preds = filled_df.iloc[:50, :100].values[mask]\n",
    "    elif split =='val':\n",
    "        preds = filled_df.iloc[110:140, 150:200].values[mask]\n",
    "    else:\n",
    "        preds = filled_df.iloc[230:300, 300:400].values[mask]\n",
    "    \n",
    "    return (mean_squared_error(gt, preds, squared=False), mean_absolute_error(gt, preds))"
   ]
  },
  {
   "cell_type": "code",
   "execution_count": 18,
   "metadata": {},
   "outputs": [
    {
     "name": "stdout",
     "output_type": "stream",
     "text": [
      "-------------- Train -------------------\n",
      "RMSE:  0.864\n",
      "MAE:  0.657\n",
      "-------------- Val -------------------\n",
      "RMSE:  0.843\n",
      "MAE:  0.687\n"
     ]
    }
   ],
   "source": [
    "### train \n",
    "train_rmse, train_mae = eval(train)\n",
    "print('-------------- Train -------------------')\n",
    "print('RMSE: ', round(train_rmse,3))\n",
    "print('MAE: ', round(train_mae,3))\n",
    "\n",
    "### val\n",
    "val_rmse, val_mae = eval(val, split='val')\n",
    "print('-------------- Val -------------------')\n",
    "print('RMSE: ', round(val_rmse,3))\n",
    "print('MAE: ', round(val_mae, 3))"
   ]
  },
  {
   "attachments": {},
   "cell_type": "markdown",
   "metadata": {},
   "source": [
    "We beat the average business baseline!!  In terms of the avg user baseline, our RMSE and MAE is approximately the same. Lets optimize for value of k."
   ]
  },
  {
   "cell_type": "code",
   "execution_count": 23,
   "metadata": {},
   "outputs": [
    {
     "data": {
      "text/plain": [
       "Text(0.5, 0, 'K value')"
      ]
     },
     "execution_count": 23,
     "metadata": {},
     "output_type": "execute_result"
    },
    {
     "data": {
      "image/png": "[encoded data removed]",
      "text/plain": [
       "<Figure size 432x288 with 1 Axes>"
      ]
     },
     "metadata": {
      "needs_background": "light"
     },
     "output_type": "display_data"
    }
   ],
   "source": [
    "k_array = [3, 5, 10, 15, 20, 25, 30, 35, 40, 45, 50, 55, 60, 65, 70, 75, 80, 85]\n",
    "\n",
    "train_rmse_list, train_mae_list = [], []\n",
    "val_rmse_list, val_mae_list = [], []\n",
    "\n",
    "for k in k_array:\n",
    "    \n",
    "    filled = compute_filled_matrix(nola_copy, k)\n",
    "    train_rmse, train_mae = eval(train, filled_df = filled)\n",
    "    val_rmse, val_mae = eval(val, filled_df = filled, split='val')\n",
    "\n",
    "    train_rmse_list.append(train_rmse)\n",
    "    train_mae_list.append(train_mae)\n",
    "    val_rmse_list.append(val_rmse)\n",
    "    val_mae_list.append(val_mae)\n",
    "\n",
    "plt.plot(k_array, train_rmse_list, label = 'Train RMSE')\n",
    "plt.plot(k_array, val_rmse_list, '--', label = 'Val RMSE')\n",
    "plt.plot(k_array, train_mae_list, label = 'Train MAE')\n",
    "plt.plot(k_array, val_mae_list, '--', label = 'Val MAE')\n",
    "plt.legend(loc = 1)\n",
    "plt.title('Error vs. K')\n",
    "plt.ylabel('Error')\n",
    "plt.xlabel('K value')"
   ]
  },
  {
   "cell_type": "code",
   "execution_count": 24,
   "metadata": {},
   "outputs": [
    {
     "name": "stdout",
     "output_type": "stream",
     "text": [
      "Minimum RMSE on val: 0.8186895529566119, index: 8 \n",
      "Minimum MAE on val: 0.6564737891115646, index: 8 \n",
      "K at minimum index:  40\n"
     ]
    }
   ],
   "source": [
    "print('Minimum RMSE on val: {}, index: {} '.format(min(val_rmse_list), val_rmse_list.index(min(val_rmse_list))))\n",
    "print('Minimum MAE on val: {}, index: {} '.format(min(val_mae_list), val_mae_list.index(min(val_mae_list))))\n",
    "print('K at minimum index: ', k_array[val_rmse_list.index(min(val_rmse_list))])"
   ]
  },
  {
   "attachments": {},
   "cell_type": "markdown",
   "metadata": {},
   "source": [
    "We beat both baselines!!! Lets evaluate on the test set"
   ]
  },
  {
   "cell_type": "code",
   "execution_count": 74,
   "metadata": {},
   "outputs": [
    {
     "name": "stdout",
     "output_type": "stream",
     "text": [
      "-------------- Test -------------------\n",
      "RMSE:  0.9479354556552101\n",
      "MAE:  0.7202274761180895\n"
     ]
    }
   ],
   "source": [
    "### test \n",
    "filled_nola = compute_filled_matrix(nola_copy, 45)\n",
    "test_rmse, test_mae = eval(test, filled_df = filled_nola, split='test')\n",
    "print('-------------- Test -------------------')\n",
    "print('RMSE: ', test_rmse)\n",
    "print('MAE: ', test_mae)"
   ]
  },
  {
   "attachments": {},
   "cell_type": "markdown",
   "metadata": {},
   "source": [
    "We beat the average business rating baseline but get basically the same results as the average user rating baseline which is not good. What happens if we try to include ratings from similar users"
   ]
  },
  {
   "attachments": {},
   "cell_type": "markdown",
   "metadata": {},
   "source": [
    "### Finding Similarities"
   ]
  },
  {
   "cell_type": "code",
   "execution_count": 19,
   "metadata": {},
   "outputs": [],
   "source": [
    "def find_sim_users(filled_df, user, cats = False):\n",
    "    \"\"\"\n",
    "    Takes in the SVD array and the user of interest for whom we want\n",
    "    to make recommendations \n",
    "    \"\"\"\n",
    "    # Normalize the reconstructed matrix \n",
    "    avg_ratings = filled_df.mean(axis=1)\n",
    "    user_ratings_centered = filled_df.sub(avg_ratings, axis=0)\n",
    "    if cats: \n",
    "        user_ratings_centered = user_ratings_centered.fillna(0)\n",
    "    similarities = cosine_similarity(user_ratings_centered)\n",
    "    cosine_similarity_df = pd.DataFrame(similarities, index=user_ratings_centered.index, columns=user_ratings_centered.index)\n",
    "    #cosine_similarity_df.head()\n",
    "\n",
    "    # find the most similar users and return a sorted series \n",
    "    cosine_similarity_series = cosine_similarity_df.loc[user]\n",
    "    ordered_similarities = cosine_similarity_series.sort_values(ascending=False)\n",
    "    #print(ordered_similarities)\n",
    "\n",
    "    return ordered_similarities"
   ]
  },
  {
   "cell_type": "code",
   "execution_count": 20,
   "metadata": {},
   "outputs": [
    {
     "ename": "NameError",
     "evalue": "name 'filled_nola' is not defined",
     "output_type": "error",
     "traceback": [
      "\u001b[1;31m---------------------------------------------------------------------------\u001b[0m",
      "\u001b[1;31mNameError\u001b[0m                                 Traceback (most recent call last)",
      "\u001b[1;32m<ipython-input-20-72abaaeda162>\u001b[0m in \u001b[0;36m<module>\u001b[1;34m\u001b[0m\n\u001b[0;32m      1\u001b[0m \u001b[0muser_of_interest\u001b[0m \u001b[1;33m=\u001b[0m \u001b[1;34m'NWUQCWiY0w97l2mcWq9GAQ'\u001b[0m\u001b[1;33m\u001b[0m\u001b[1;33m\u001b[0m\u001b[0m\n\u001b[1;32m----> 2\u001b[1;33m \u001b[0mordered\u001b[0m \u001b[1;33m=\u001b[0m \u001b[0mfind_sim_users\u001b[0m\u001b[1;33m(\u001b[0m\u001b[0mfilled_nola\u001b[0m\u001b[1;33m,\u001b[0m \u001b[0muser_of_interest\u001b[0m\u001b[1;33m)\u001b[0m\u001b[1;33m\u001b[0m\u001b[1;33m\u001b[0m\u001b[0m\n\u001b[0m\u001b[0;32m      3\u001b[0m \u001b[0mordered\u001b[0m\u001b[1;33m\u001b[0m\u001b[1;33m\u001b[0m\u001b[0m\n",
      "\u001b[1;31mNameError\u001b[0m: name 'filled_nola' is not defined"
     ]
    }
   ],
   "source": [
    "user_of_interest = 'NWUQCWiY0w97l2mcWq9GAQ'\n",
    "ordered = find_sim_users(filled_nola, user_of_interest)\n",
    "ordered"
   ]
  },
  {
   "cell_type": "code",
   "execution_count": 28,
   "metadata": {},
   "outputs": [
    {
     "name": "stdout",
     "output_type": "stream",
     "text": [
      "0.8484869468300535\n",
      "0.719930098940986\n"
     ]
    }
   ],
   "source": [
    "top5 = ordered[:4].index.to_list()\n",
    "weights = ordered[:4].values\n",
    "\n",
    "sim_users = filled_nola[val.columns]\n",
    "sim_users = sim_users.loc[sim_users.index.isin(top5)]\n",
    "avg_ratings = pd.DataFrame(sim_users.mean(axis=0)).T\n",
    "user_of_interest = val.loc[val.index=='NWUQCWiY0w97l2mcWq9GAQ']\n",
    "\n",
    "mask = user_of_interest.notna()\n",
    "preds = avg_ratings.values[mask]\n",
    "gt = user_of_interest.values[mask]\n",
    "\n",
    "print(mean_squared_error(gt, preds, squared=False))\n",
    "print(mean_squared_error(gt, preds))"
   ]
  },
  {
   "cell_type": "code",
   "execution_count": 21,
   "metadata": {},
   "outputs": [],
   "source": [
    "def evaluateRecommendation(filled_df, split_df, user= None, cats = False, cat_df = None, avg_user = 5): \n",
    "\n",
    "    if cats: \n",
    "        ordered = find_sim_users(cat_df, user, cats)\n",
    "    else: \n",
    "        ordered = find_sim_users(filled_df, user)\n",
    "    top5 = ordered[:avg_user].index.to_list()\n",
    "\n",
    "    sim_users = filled_df[split_df.columns]\n",
    "    sim_users = sim_users.loc[sim_users.index.isin(top5)]\n",
    "    avg_ratings = pd.DataFrame(sim_users.mean(axis=0)).T\n",
    "    user_of_interest = split_df.loc[split_df.index==user]\n",
    "\n",
    "    mask = user_of_interest.notna()\n",
    "    preds = avg_ratings.values[mask]\n",
    "    gt = user_of_interest.values[mask]\n",
    "\n",
    "    rmse = mean_squared_error(gt, preds, squared=False)\n",
    "    mae = mean_absolute_error(gt, preds)\n",
    "\n",
    "    return rmse, mae"
   ]
  },
  {
   "cell_type": "code",
   "execution_count": 30,
   "metadata": {},
   "outputs": [
    {
     "name": "stdout",
     "output_type": "stream",
     "text": [
      "Average mean squared error:  0.81795\n",
      "Average mean absolute error:  0.70695\n"
     ]
    }
   ],
   "source": [
    "## entire pipeline\n",
    "mse = []\n",
    "mae = []\n",
    "users_of_interest = val.index.values\n",
    "for user in users_of_interest:\n",
    "    user_rmse, user_mae = evaluateRecommendation(filled_nola, val, user)\n",
    "    mse.append(user_rmse)\n",
    "    mae.append(user_mae)\n",
    "\n",
    "print('Average mean squared error: ', np.round(np.mean(mse),5))\n",
    "print('Average mean absolute error: ', np.round(np.mean(mae),5))"
   ]
  },
  {
   "cell_type": "code",
   "execution_count": 31,
   "metadata": {},
   "outputs": [
    {
     "data": {
      "text/plain": [
       "Text(0.5, 0, 'K value')"
      ]
     },
     "execution_count": 31,
     "metadata": {},
     "output_type": "execute_result"
    },
    {
     "data": {
      "image/png": "[encoded data removed]",
      "text/plain": [
       "<Figure size 432x288 with 1 Axes>"
      ]
     },
     "metadata": {
      "needs_background": "light"
     },
     "output_type": "display_data"
    }
   ],
   "source": [
    "k_array = np.arange(2, 327)\n",
    "train_rmse_list, train_mae_list = [], []\n",
    "val_rmse_list, val_mae_list = [], []\n",
    "\n",
    "for k in k_array:\n",
    "    \n",
    "    filled = compute_filled_matrix(nola_copy, k)\n",
    "    rmse = []\n",
    "    mae = []\n",
    "    users_of_interest = val.index.values\n",
    "    for user in users_of_interest:\n",
    "        user_rmse, user_mae = evaluateRecommendation(filled, val, user)\n",
    "        rmse.append(user_rmse)\n",
    "        mae.append(user_mae)\n",
    "\n",
    "    val_rmse_list.append(np.mean(rmse))\n",
    "    val_mae_list.append(np.mean(mae))\n",
    "\n",
    "#plt.plot(k_array, train_rmse_list, label = 'Train RMSE')\n",
    "plt.plot(k_array, val_rmse_list, '--', label = 'Val RMSE')\n",
    "#plt.plot(k_array, train_mae_list, label = 'Train MAE')\n",
    "plt.plot(k_array, val_mae_list, '--', label = 'Val MAE')\n",
    "plt.legend(loc = 1)\n",
    "plt.title('Error vs. K')\n",
    "plt.ylabel('Error')\n",
    "plt.xlabel('K value')"
   ]
  },
  {
   "cell_type": "code",
   "execution_count": 32,
   "metadata": {},
   "outputs": [
    {
     "name": "stdout",
     "output_type": "stream",
     "text": [
      "Minimum RMSE on val: 0.7854853722911358, index: 49 \n",
      "Minimum MAE on val: 0.6707116525144872, index: 162 \n",
      "K at minimum index:  51\n"
     ]
    }
   ],
   "source": [
    "print('Minimum RMSE on val: {}, index: {} '.format(min(val_rmse_list), val_rmse_list.index(min(val_rmse_list))))\n",
    "print('Minimum MAE on val: {}, index: {} '.format(min(val_mae_list), val_mae_list.index(min(val_mae_list))))\n",
    "print('K at minimum index: ', k_array[val_rmse_list.index(min(val_rmse_list))])"
   ]
  },
  {
   "attachments": {},
   "cell_type": "markdown",
   "metadata": {},
   "source": [
    "We beat the average user baseline!!!!!!!!!\n",
    "Lets see if changing the number of users we are averaging helps improve performance furthur "
   ]
  },
  {
   "cell_type": "code",
   "execution_count": 33,
   "metadata": {},
   "outputs": [
    {
     "data": {
      "text/plain": [
       "Text(0.5, 0, 'K value')"
      ]
     },
     "execution_count": 33,
     "metadata": {},
     "output_type": "execute_result"
    },
    {
     "data": {
      "image/png": "[encoded data removed]",
      "text/plain": [
       "<Figure size 432x288 with 1 Axes>"
      ]
     },
     "metadata": {
      "needs_background": "light"
     },
     "output_type": "display_data"
    }
   ],
   "source": [
    "number_users = np.arange(2,11)\n",
    "train_rmse_list, train_mae_list = [], []\n",
    "val_rmse_list, val_mae_list = [], []\n",
    "\n",
    "for numb in number_users:\n",
    "    \n",
    "    filled = compute_filled_matrix(nola_copy, 31)\n",
    "    rmse = []\n",
    "    mae = []\n",
    "    users_of_interest = val.index.values\n",
    "    for user in users_of_interest:\n",
    "        user_rmse, user_mae = evaluateRecommendation(filled, val, user, avg_user = numb)\n",
    "        rmse.append(user_rmse)\n",
    "        mae.append(user_mae)\n",
    "\n",
    "    val_rmse_list.append(np.mean(rmse))\n",
    "    val_mae_list.append(np.mean(mae))\n",
    "\n",
    "#plt.plot(k_array, train_rmse_list, label = 'Train RMSE')\n",
    "plt.plot(number_users, val_rmse_list, '--', label = 'Val RMSE')\n",
    "#plt.plot(k_array, train_mae_list, label = 'Train MAE')\n",
    "plt.plot(number_users, val_mae_list, '--', label = 'Val MAE')\n",
    "plt.legend(loc = 1)\n",
    "plt.title('Error vs. K')\n",
    "plt.ylabel('Error')\n",
    "plt.xlabel('K value')"
   ]
  },
  {
   "cell_type": "code",
   "execution_count": 34,
   "metadata": {},
   "outputs": [
    {
     "name": "stdout",
     "output_type": "stream",
     "text": [
      "Minimum RMSE on val: 0.7943327974667898, index: 0 \n",
      "Minimum MAE on val: 0.6715527663667894, index: 0 \n",
      "K at minimum index:  2\n"
     ]
    }
   ],
   "source": [
    "print('Minimum RMSE on val: {}, index: {} '.format(min(val_rmse_list), val_rmse_list.index(min(val_rmse_list))))\n",
    "print('Minimum MAE on val: {}, index: {} '.format(min(val_mae_list), val_mae_list.index(min(val_mae_list))))\n",
    "print('K at minimum index: ', number_users[val_rmse_list.index(min(val_rmse_list))])"
   ]
  },
  {
   "attachments": {},
   "cell_type": "markdown",
   "metadata": {},
   "source": [
    "Im not sure if this is because we found k = 31 gives the lowest error earlier with number_users = 5 or if this is actually the case. Do I want to try doing every possible combination or some subset of?"
   ]
  },
  {
   "attachments": {},
   "cell_type": "markdown",
   "metadata": {},
   "source": [
    "## Lets try grouping the categories together "
   ]
  },
  {
   "cell_type": "code",
   "execution_count": 17,
   "metadata": {},
   "outputs": [],
   "source": [
    "def combineCols(names, col_list, df): \n",
    "    for name, cols in zip(names, col_list):\n",
    "        # create a new column with the maximum value between the selected columns using a lambda function\n",
    "        new_col = df[cols].apply(lambda row: max(row), axis=1)\n",
    "\n",
    "        # drop the selected column\n",
    "        df = df.drop(cols, axis=1)\n",
    "        # add new column\n",
    "        df[name] = new_col\n",
    "    \n",
    "    return df"
   ]
  },
  {
   "cell_type": "code",
   "execution_count": 18,
   "metadata": {},
   "outputs": [
    {
     "data": {
      "text/html": [
       "<div>\n",
       "<style scoped>\n",
       "    .dataframe tbody tr th:only-of-type {\n",
       "        vertical-align: middle;\n",
       "    }\n",
       "\n",
       "    .dataframe tbody tr th {\n",
       "        vertical-align: top;\n",
       "    }\n",
       "\n",
       "    .dataframe thead th {\n",
       "        text-align: right;\n",
       "    }\n",
       "</style>\n",
       "<table border=\"1\" class=\"dataframe\">\n",
       "  <thead>\n",
       "    <tr style=\"text-align: right;\">\n",
       "      <th></th>\n",
       "      <th>Active Life</th>\n",
       "      <th>American (New)</th>\n",
       "      <th>American (Traditional)</th>\n",
       "      <th>Arcades</th>\n",
       "      <th>Art Galleries</th>\n",
       "      <th>Arts &amp; Entertainment</th>\n",
       "      <th>Asian Fusion</th>\n",
       "      <th>Auction Houses</th>\n",
       "      <th>Bagels</th>\n",
       "      <th>Bakeries</th>\n",
       "      <th>...</th>\n",
       "      <th>Sushi Bars</th>\n",
       "      <th>Tacos</th>\n",
       "      <th>Tapas/Small Plates</th>\n",
       "      <th>Tex-Mex</th>\n",
       "      <th>Thai</th>\n",
       "      <th>Vegan</th>\n",
       "      <th>Vegetarian</th>\n",
       "      <th>Venues &amp; Event Spaces</th>\n",
       "      <th>Vietnamese</th>\n",
       "      <th>Wine Bars</th>\n",
       "    </tr>\n",
       "  </thead>\n",
       "  <tbody>\n",
       "    <tr>\n",
       "      <th>0</th>\n",
       "      <td>0</td>\n",
       "      <td>0</td>\n",
       "      <td>0</td>\n",
       "      <td>0</td>\n",
       "      <td>0</td>\n",
       "      <td>0</td>\n",
       "      <td>0</td>\n",
       "      <td>0</td>\n",
       "      <td>0</td>\n",
       "      <td>0</td>\n",
       "      <td>...</td>\n",
       "      <td>0</td>\n",
       "      <td>0</td>\n",
       "      <td>0</td>\n",
       "      <td>0</td>\n",
       "      <td>0</td>\n",
       "      <td>0</td>\n",
       "      <td>0</td>\n",
       "      <td>0</td>\n",
       "      <td>0</td>\n",
       "      <td>0</td>\n",
       "    </tr>\n",
       "    <tr>\n",
       "      <th>1</th>\n",
       "      <td>0</td>\n",
       "      <td>0</td>\n",
       "      <td>0</td>\n",
       "      <td>0</td>\n",
       "      <td>0</td>\n",
       "      <td>0</td>\n",
       "      <td>0</td>\n",
       "      <td>0</td>\n",
       "      <td>0</td>\n",
       "      <td>0</td>\n",
       "      <td>...</td>\n",
       "      <td>0</td>\n",
       "      <td>0</td>\n",
       "      <td>0</td>\n",
       "      <td>0</td>\n",
       "      <td>0</td>\n",
       "      <td>0</td>\n",
       "      <td>0</td>\n",
       "      <td>0</td>\n",
       "      <td>1</td>\n",
       "      <td>0</td>\n",
       "    </tr>\n",
       "    <tr>\n",
       "      <th>2</th>\n",
       "      <td>0</td>\n",
       "      <td>1</td>\n",
       "      <td>0</td>\n",
       "      <td>0</td>\n",
       "      <td>0</td>\n",
       "      <td>0</td>\n",
       "      <td>0</td>\n",
       "      <td>0</td>\n",
       "      <td>0</td>\n",
       "      <td>0</td>\n",
       "      <td>...</td>\n",
       "      <td>0</td>\n",
       "      <td>0</td>\n",
       "      <td>0</td>\n",
       "      <td>0</td>\n",
       "      <td>0</td>\n",
       "      <td>0</td>\n",
       "      <td>0</td>\n",
       "      <td>0</td>\n",
       "      <td>0</td>\n",
       "      <td>0</td>\n",
       "    </tr>\n",
       "    <tr>\n",
       "      <th>3</th>\n",
       "      <td>0</td>\n",
       "      <td>1</td>\n",
       "      <td>0</td>\n",
       "      <td>0</td>\n",
       "      <td>0</td>\n",
       "      <td>0</td>\n",
       "      <td>0</td>\n",
       "      <td>0</td>\n",
       "      <td>0</td>\n",
       "      <td>0</td>\n",
       "      <td>...</td>\n",
       "      <td>0</td>\n",
       "      <td>0</td>\n",
       "      <td>0</td>\n",
       "      <td>0</td>\n",
       "      <td>0</td>\n",
       "      <td>0</td>\n",
       "      <td>0</td>\n",
       "      <td>0</td>\n",
       "      <td>0</td>\n",
       "      <td>0</td>\n",
       "    </tr>\n",
       "    <tr>\n",
       "      <th>4</th>\n",
       "      <td>0</td>\n",
       "      <td>0</td>\n",
       "      <td>0</td>\n",
       "      <td>0</td>\n",
       "      <td>0</td>\n",
       "      <td>0</td>\n",
       "      <td>0</td>\n",
       "      <td>0</td>\n",
       "      <td>0</td>\n",
       "      <td>0</td>\n",
       "      <td>...</td>\n",
       "      <td>0</td>\n",
       "      <td>0</td>\n",
       "      <td>0</td>\n",
       "      <td>0</td>\n",
       "      <td>0</td>\n",
       "      <td>0</td>\n",
       "      <td>0</td>\n",
       "      <td>0</td>\n",
       "      <td>0</td>\n",
       "      <td>0</td>\n",
       "    </tr>\n",
       "  </tbody>\n",
       "</table>\n",
       "<p>5 rows × 232 columns</p>\n",
       "</div>"
      ],
      "text/plain": [
       "    Active Life   American (New)   American (Traditional)   Arcades  \\\n",
       "0             0                0                        0         0   \n",
       "1             0                0                        0         0   \n",
       "2             0                1                        0         0   \n",
       "3             0                1                        0         0   \n",
       "4             0                0                        0         0   \n",
       "\n",
       "    Art Galleries   Arts & Entertainment   Asian Fusion   Auction Houses  \\\n",
       "0               0                      0              0                0   \n",
       "1               0                      0              0                0   \n",
       "2               0                      0              0                0   \n",
       "3               0                      0              0                0   \n",
       "4               0                      0              0                0   \n",
       "\n",
       "    Bagels   Bakeries  ...  Sushi Bars  Tacos  Tapas/Small Plates  Tex-Mex  \\\n",
       "0        0          0  ...           0      0                   0        0   \n",
       "1        0          0  ...           0      0                   0        0   \n",
       "2        0          0  ...           0      0                   0        0   \n",
       "3        0          0  ...           0      0                   0        0   \n",
       "4        0          0  ...           0      0                   0        0   \n",
       "\n",
       "   Thai  Vegan  Vegetarian  Venues & Event Spaces  Vietnamese  Wine Bars  \n",
       "0     0      0           0                      0           0          0  \n",
       "1     0      0           0                      0           1          0  \n",
       "2     0      0           0                      0           0          0  \n",
       "3     0      0           0                      0           0          0  \n",
       "4     0      0           0                      0           0          0  \n",
       "\n",
       "[5 rows x 232 columns]"
      ]
     },
     "execution_count": 18,
     "metadata": {},
     "output_type": "execute_result"
    }
   ],
   "source": [
    "dummies = filtered_nola['categories'].str.get_dummies(sep=',')\n",
    "dummies.head()"
   ]
  },
  {
   "cell_type": "code",
   "execution_count": 19,
   "metadata": {},
   "outputs": [],
   "source": [
    "## merging columns that have the same title but strings formatted differently \n",
    "## e.g. 'Active Life' vs ' Active Life' \n",
    "\n",
    "dummy_counts = dummies.sum().to_dict()\n",
    "for key in dummy_counts.keys():\n",
    "\n",
    "    key = key.strip()\n",
    "    cols = dummies.filter(like=key).columns.tolist()\n",
    "    #print(cols)\n",
    "\n",
    "    if len(cols) > 1: \n",
    "        # create a new column with the maximum value between the selected columns using a lambda function\n",
    "        new_col = dummies[cols].apply(lambda row: max(row), axis=1)\n",
    "        #print(examp_df)\n",
    "        # drop the selected columns\n",
    "        dummies = dummies.drop(cols, axis=1)\n",
    "\n",
    "        # add new column\n",
    "        dummies[key] = new_col\n",
    "\n",
    "columns = [col.strip() for col in dummies.columns]\n",
    "dummies.columns = columns\n"
   ]
  },
  {
   "cell_type": "code",
   "execution_count": 20,
   "metadata": {},
   "outputs": [],
   "source": [
    "random_categories = ['Arcades',\n",
    " 'Art Galleries',\n",
    " 'Bowling',\n",
    " 'Community Service/Non-Profit',\n",
    " 'Convenience Stores',\n",
    " 'Country Clubs',\n",
    " 'Fitness & Instruction',\n",
    " 'Fruits & Veggies',\n",
    " 'Gyms',\n",
    " 'Karaoke',\n",
    " 'Local Services',\n",
    " 'Mass Media',\n",
    " 'Music Venues',\n",
    " 'Musicians',\n",
    " 'Party & Event Planning',\n",
    " 'Photographers',\n",
    " 'Tobacco Shops',\n",
    " 'Tours',\n",
    " 'Personal Chefs',\n",
    " 'Active Life',\n",
    " 'Arts & Entertainment',\n",
    " 'Caterers',\n",
    " 'Event Planning & Services',\n",
    " 'Food',\n",
    " 'Grocery',\n",
    " 'Hotels',\n",
    " 'Jazz & Blues',\n",
    " 'Local Flavor',\n",
    " 'Restaurants',\n",
    " 'Shopping',\n",
    " 'Venues & Event Spaces']\n",
    "\n",
    "dummies_filtered = dummies.drop(random_categories, axis = 1) # left with 179 columns \n",
    "to_drop = [ 'Argentine', 'Laotian','Pasta Shops','Kebab','Pakistani','Colombian','Halal','Falafel', 'Chicken Shop']\n",
    "dummies_filtered = dummies_filtered.drop(to_drop, axis = 1)\n"
   ]
  },
  {
   "cell_type": "code",
   "execution_count": 21,
   "metadata": {},
   "outputs": [],
   "source": [
    "categories_to_combine = [['Distilleries', 'Wine & Spirits', 'Wine Tasting Room', 'Bars', 'Beer', 'Breweries', 'Wineries', 'Nightlife', 'Lounges', 'Pubs'],\n",
    "                            ['Auction Houses', 'Farmers Market'], ['Coffee & Tea', 'Coffee Roasteries', 'Cafes'], ['Waffles', 'Bagels', 'Breakfast & Brunch'],\n",
    "                            ['Ice Cream & Frozen Yogurt', 'Gelato'],\n",
    "                            ['Peruvian', 'Caribbean', 'Cuban',\"Brazilian\", 'Mexican', 'Tacos', 'Tapas/Small Plates', 'Latin American'], \n",
    "                            ['Meat Shops', 'Butcher'], ['Poke','Hawaiian'], \n",
    "                            ['Greek', 'Mediterranean', 'Middle Eastern'],\n",
    "                            [\"Korean\", \"Taiwanese\", \"Teppanyaki\", \"Noodles\", \"Ramen\", \"Chinese\", \"Dim Sum\", \"Japanese\", \"Asian Fusion\"],\n",
    "                            ['Vegan', 'Vegetarian'], ['Filipino', \"Vietnamese\", \"Thai\"],\n",
    "                            [\"German\", 'Brasseries', \"French\", \"Italian\", \"Irish\", \"Spanish\", 'Modern European'],\n",
    "                            [\"Burgers\", \"Hot Dogs\", 'Fish & Chips',\"Pizza\", 'Chicken Wings'],\n",
    "                            ['Chocolatiers & Shops', 'Donuts', 'Desserts', 'Bakeries','Macarons', 'Patisserie/Cake Shop', 'Bakeries', 'Cupcakes', 'Creperies'],\n",
    "                            ['American (New)', 'American (Traditional)', 'Barbeque', 'Cheesesteaks', 'Southern', 'Steakhouses']]\n",
    "\n",
    "titles = ['Alcohol','Markets','Coffee_and_Tea', 'Breakfast', \n",
    "          'Frozen_Desserts', 'Latin American', 'Butcher', 'Hawaiian/Poke', 'Mediterranean',\n",
    "          'East Asian', 'Vegan/Vegetarian', 'Southeast Asian', 'European', 'Fast Food', 'Desserts', 'American']\n",
    "\n",
    "dummies_filtered = combineCols(titles, categories_to_combine, dummies_filtered)\n"
   ]
  },
  {
   "cell_type": "code",
   "execution_count": 22,
   "metadata": {},
   "outputs": [
    {
     "data": {
      "text/plain": [
       "Delis             Cheese Shops        0.382088\n",
       "Southeast Asian   Bubble Tea          0.380631\n",
       "Kosher            Mediterranean       0.353763\n",
       "Cajun/Creole      Seafood             0.329464\n",
       "Frozen_Desserts   Coffee_and_Tea      0.307275\n",
       "Delis             Sandwiches          0.292775\n",
       "Gastropubs        Bubble Tea          0.290678\n",
       "Coffee_and_Tea    Desserts            0.286429\n",
       "                  Breakfast           0.271451\n",
       "Frozen_Desserts   Desserts            0.265229\n",
       "Gluten-Free       Vegan/Vegetarian    0.250027\n",
       "Southeast Asian   East Asian          0.245747\n",
       "Soup              Salad               0.234683\n",
       "Latin American    Tex-Mex             0.231026\n",
       "Alcohol           American            0.226356\n",
       "Sandwiches        Cheese Shops        0.217998\n",
       "Hawaiian/Poke     Gluten-Free         0.207501\n",
       "Kosher            Desserts            0.198766\n",
       "Salad             Sandwiches          0.190894\n",
       "Alcohol           Gastropubs          0.189844\n",
       "Breakfast         Diners              0.177684\n",
       "Cajun/Creole      American            0.168585\n",
       "Salad             Markets             0.158214\n",
       "Sandwiches        Butcher             0.156770\n",
       "Ethiopian         Vegan/Vegetarian    0.156256\n",
       "East Asian        Bubble Tea          0.153736\n",
       "Vegan/Vegetarian  Mediterranean       0.150434\n",
       "Gluten-Free       Tex-Mex             0.150296\n",
       "Diners            Fast Food           0.143555\n",
       "Seafood           Markets             0.142215\n",
       "Breakfast         Desserts            0.135007\n",
       "Salad             Gluten-Free         0.131625\n",
       "                  Delis               0.125277\n",
       "Sandwiches        Wraps               0.118457\n",
       "Seafood           American            0.116971\n",
       "Ethiopian         Coffee_and_Tea      0.116525\n",
       "Vegan/Vegetarian  Coffee_and_Tea      0.114308\n",
       "American          Diners              0.114133\n",
       "Gluten-Free       Mediterranean       0.113521\n",
       "Hawaiian/Poke     Gastropubs          0.112091\n",
       "Cajun/Creole      European            0.108796\n",
       "Sandwiches        Desserts            0.106957\n",
       "Gastropubs        American            0.105599\n",
       "Alcohol           Bubble Tea          0.102460\n",
       "Breakfast         Wraps               0.101512\n",
       "Latin American    Street Vendors      0.100312\n",
       "Cajun/Creole      Buffets             0.096629\n",
       "American          Breakfast           0.094858\n",
       "Indian            East Asian          0.094408\n",
       "dtype: float64"
      ]
     },
     "execution_count": 22,
     "metadata": {},
     "output_type": "execute_result"
    }
   ],
   "source": [
    "dummies_filtered.corr().unstack().sort_values(ascending=False).drop_duplicates()[1:50]"
   ]
  },
  {
   "cell_type": "code",
   "execution_count": 25,
   "metadata": {},
   "outputs": [
    {
     "data": {
      "text/html": [
       "<div>\n",
       "<style scoped>\n",
       "    .dataframe tbody tr th:only-of-type {\n",
       "        vertical-align: middle;\n",
       "    }\n",
       "\n",
       "    .dataframe tbody tr th {\n",
       "        vertical-align: top;\n",
       "    }\n",
       "\n",
       "    .dataframe thead th {\n",
       "        text-align: right;\n",
       "    }\n",
       "</style>\n",
       "<table border=\"1\" class=\"dataframe\">\n",
       "  <thead>\n",
       "    <tr style=\"text-align: right;\">\n",
       "      <th></th>\n",
       "      <th>review_id</th>\n",
       "      <th>user_id</th>\n",
       "      <th>business_id</th>\n",
       "      <th>stars</th>\n",
       "      <th>Bubble Tea</th>\n",
       "      <th>Buffets</th>\n",
       "      <th>Cheese Shops</th>\n",
       "      <th>Ethiopian</th>\n",
       "      <th>Indian</th>\n",
       "      <th>Kosher</th>\n",
       "      <th>...</th>\n",
       "      <th>Butcher</th>\n",
       "      <th>Hawaiian/Poke</th>\n",
       "      <th>Mediterranean</th>\n",
       "      <th>East Asian</th>\n",
       "      <th>Vegan/Vegetarian</th>\n",
       "      <th>Southeast Asian</th>\n",
       "      <th>European</th>\n",
       "      <th>Fast Food</th>\n",
       "      <th>Desserts</th>\n",
       "      <th>American</th>\n",
       "    </tr>\n",
       "  </thead>\n",
       "  <tbody>\n",
       "    <tr>\n",
       "      <th>0</th>\n",
       "      <td>lDoxqlDKb4H7zpI_zJ01aA</td>\n",
       "      <td>Ye-9S8f2dt41UBfy4lXffA</td>\n",
       "      <td>W4ZEKkva9HpAdZG88juwyQ</td>\n",
       "      <td>2</td>\n",
       "      <td>0</td>\n",
       "      <td>0</td>\n",
       "      <td>0</td>\n",
       "      <td>0</td>\n",
       "      <td>0</td>\n",
       "      <td>0</td>\n",
       "      <td>...</td>\n",
       "      <td>0</td>\n",
       "      <td>0</td>\n",
       "      <td>0</td>\n",
       "      <td>0</td>\n",
       "      <td>0</td>\n",
       "      <td>0</td>\n",
       "      <td>0</td>\n",
       "      <td>0</td>\n",
       "      <td>0</td>\n",
       "      <td>1</td>\n",
       "    </tr>\n",
       "    <tr>\n",
       "      <th>1</th>\n",
       "      <td>uNnqb1qJxUDS4qrM_mZxtA</td>\n",
       "      <td>Ye-9S8f2dt41UBfy4lXffA</td>\n",
       "      <td>PzhPMkaNYiKDTHoTG0r8rw</td>\n",
       "      <td>5</td>\n",
       "      <td>0</td>\n",
       "      <td>0</td>\n",
       "      <td>0</td>\n",
       "      <td>0</td>\n",
       "      <td>0</td>\n",
       "      <td>0</td>\n",
       "      <td>...</td>\n",
       "      <td>0</td>\n",
       "      <td>0</td>\n",
       "      <td>0</td>\n",
       "      <td>0</td>\n",
       "      <td>0</td>\n",
       "      <td>1</td>\n",
       "      <td>0</td>\n",
       "      <td>0</td>\n",
       "      <td>0</td>\n",
       "      <td>0</td>\n",
       "    </tr>\n",
       "    <tr>\n",
       "      <th>2</th>\n",
       "      <td>cA-WwCC7OFF6CreyTC_l2w</td>\n",
       "      <td>Ye-9S8f2dt41UBfy4lXffA</td>\n",
       "      <td>GBTPC53ZrG1ZBY3DT8Mbcw</td>\n",
       "      <td>5</td>\n",
       "      <td>0</td>\n",
       "      <td>0</td>\n",
       "      <td>0</td>\n",
       "      <td>0</td>\n",
       "      <td>0</td>\n",
       "      <td>0</td>\n",
       "      <td>...</td>\n",
       "      <td>0</td>\n",
       "      <td>0</td>\n",
       "      <td>0</td>\n",
       "      <td>0</td>\n",
       "      <td>0</td>\n",
       "      <td>0</td>\n",
       "      <td>1</td>\n",
       "      <td>0</td>\n",
       "      <td>0</td>\n",
       "      <td>1</td>\n",
       "    </tr>\n",
       "    <tr>\n",
       "      <th>3</th>\n",
       "      <td>lJpQrjnwqe9U3epf09FjcQ</td>\n",
       "      <td>Ye-9S8f2dt41UBfy4lXffA</td>\n",
       "      <td>GBTPC53ZrG1ZBY3DT8Mbcw</td>\n",
       "      <td>2</td>\n",
       "      <td>0</td>\n",
       "      <td>0</td>\n",
       "      <td>0</td>\n",
       "      <td>0</td>\n",
       "      <td>0</td>\n",
       "      <td>0</td>\n",
       "      <td>...</td>\n",
       "      <td>0</td>\n",
       "      <td>0</td>\n",
       "      <td>0</td>\n",
       "      <td>0</td>\n",
       "      <td>0</td>\n",
       "      <td>0</td>\n",
       "      <td>1</td>\n",
       "      <td>0</td>\n",
       "      <td>0</td>\n",
       "      <td>1</td>\n",
       "    </tr>\n",
       "    <tr>\n",
       "      <th>4</th>\n",
       "      <td>F1Q-Jh0r42iJ5OFy5QKMBA</td>\n",
       "      <td>Ye-9S8f2dt41UBfy4lXffA</td>\n",
       "      <td>OINbC0rpDVJ5bfxt3LO9fw</td>\n",
       "      <td>5</td>\n",
       "      <td>0</td>\n",
       "      <td>0</td>\n",
       "      <td>0</td>\n",
       "      <td>0</td>\n",
       "      <td>0</td>\n",
       "      <td>0</td>\n",
       "      <td>...</td>\n",
       "      <td>0</td>\n",
       "      <td>0</td>\n",
       "      <td>0</td>\n",
       "      <td>0</td>\n",
       "      <td>0</td>\n",
       "      <td>0</td>\n",
       "      <td>0</td>\n",
       "      <td>0</td>\n",
       "      <td>0</td>\n",
       "      <td>0</td>\n",
       "    </tr>\n",
       "  </tbody>\n",
       "</table>\n",
       "<p>5 rows × 39 columns</p>\n",
       "</div>"
      ],
      "text/plain": [
       "                review_id                 user_id             business_id  \\\n",
       "0  lDoxqlDKb4H7zpI_zJ01aA  Ye-9S8f2dt41UBfy4lXffA  W4ZEKkva9HpAdZG88juwyQ   \n",
       "1  uNnqb1qJxUDS4qrM_mZxtA  Ye-9S8f2dt41UBfy4lXffA  PzhPMkaNYiKDTHoTG0r8rw   \n",
       "2  cA-WwCC7OFF6CreyTC_l2w  Ye-9S8f2dt41UBfy4lXffA  GBTPC53ZrG1ZBY3DT8Mbcw   \n",
       "3  lJpQrjnwqe9U3epf09FjcQ  Ye-9S8f2dt41UBfy4lXffA  GBTPC53ZrG1ZBY3DT8Mbcw   \n",
       "4  F1Q-Jh0r42iJ5OFy5QKMBA  Ye-9S8f2dt41UBfy4lXffA  OINbC0rpDVJ5bfxt3LO9fw   \n",
       "\n",
       "   stars  Bubble Tea  Buffets  Cheese Shops  Ethiopian  Indian  Kosher  ...  \\\n",
       "0      2           0        0             0          0       0       0  ...   \n",
       "1      5           0        0             0          0       0       0  ...   \n",
       "2      5           0        0             0          0       0       0  ...   \n",
       "3      2           0        0             0          0       0       0  ...   \n",
       "4      5           0        0             0          0       0       0  ...   \n",
       "\n",
       "   Butcher  Hawaiian/Poke  Mediterranean  East Asian  Vegan/Vegetarian  \\\n",
       "0        0              0              0           0                 0   \n",
       "1        0              0              0           0                 0   \n",
       "2        0              0              0           0                 0   \n",
       "3        0              0              0           0                 0   \n",
       "4        0              0              0           0                 0   \n",
       "\n",
       "   Southeast Asian  European  Fast Food  Desserts  American  \n",
       "0                0         0          0         0         1  \n",
       "1                1         0          0         0         0  \n",
       "2                0         1          0         0         1  \n",
       "3                0         1          0         0         1  \n",
       "4                0         0          0         0         0  \n",
       "\n",
       "[5 rows x 39 columns]"
      ]
     },
     "execution_count": 25,
     "metadata": {},
     "output_type": "execute_result"
    }
   ],
   "source": [
    "nola_final = pd.concat([filtered_nola, dummies_filtered], axis = 1)\n",
    "nola_final = nola_final.drop(['categories'], axis = 1)\n",
    "user_categories = nola_final.drop(['text', 'name', 'city',\n",
    "       'biz_stars', 'biz_review_count', 'average_stars'], axis = 1)\n",
    "user_categories.head()"
   ]
  },
  {
   "cell_type": "code",
   "execution_count": 26,
   "metadata": {},
   "outputs": [],
   "source": [
    "cols = ['Bubble Tea', 'Buffets',\n",
    "       'Cheese Shops', 'Ethiopian', 'Indian', 'Kosher', 'Street Vendors',\n",
    "       'Wraps', 'Festivals', 'Cajun/Creole', 'Delis', 'Diners', 'Gastropubs',\n",
    "       'Gluten-Free', 'Salad', 'Sandwiches', 'Seafood', 'Soup', 'Tex-Mex',\n",
    "       'Alcohol', 'Markets', 'Coffee_and_Tea', 'Breakfast', 'Frozen_Desserts',\n",
    "       'Latin American', 'Butcher', 'Hawaiian/Poke', 'Mediterranean',\n",
    "       'East Asian', 'Vegan/Vegetarian', 'Southeast Asian', 'European',\n",
    "       'Fast Food', 'Desserts', 'American']\n",
    "\n",
    "user_cats_mapped = user_categories.copy() \n",
    "\n",
    "for col in cols: \n",
    "    user_cats_mapped[col] = np.where(user_categories[col] == 1, user_categories['stars'], np.nan)"
   ]
  },
  {
   "cell_type": "code",
   "execution_count": 174,
   "metadata": {},
   "outputs": [
    {
     "data": {
      "text/html": [
       "<div>\n",
       "<style scoped>\n",
       "    .dataframe tbody tr th:only-of-type {\n",
       "        vertical-align: middle;\n",
       "    }\n",
       "\n",
       "    .dataframe tbody tr th {\n",
       "        vertical-align: top;\n",
       "    }\n",
       "\n",
       "    .dataframe thead th {\n",
       "        text-align: right;\n",
       "    }\n",
       "</style>\n",
       "<table border=\"1\" class=\"dataframe\">\n",
       "  <thead>\n",
       "    <tr style=\"text-align: right;\">\n",
       "      <th></th>\n",
       "      <th>Unnamed: 0</th>\n",
       "      <th>review_id</th>\n",
       "      <th>user_id</th>\n",
       "      <th>business_id</th>\n",
       "      <th>stars</th>\n",
       "      <th>useful</th>\n",
       "      <th>funny</th>\n",
       "      <th>cool</th>\n",
       "      <th>date</th>\n",
       "      <th>Bubble Tea</th>\n",
       "      <th>...</th>\n",
       "      <th>Butcher</th>\n",
       "      <th>Hawaiian/Poke</th>\n",
       "      <th>Mediterranean</th>\n",
       "      <th>East Asian</th>\n",
       "      <th>Vegan/Vegetarian</th>\n",
       "      <th>Southeast Asian</th>\n",
       "      <th>European</th>\n",
       "      <th>Fast Food</th>\n",
       "      <th>Desserts</th>\n",
       "      <th>American</th>\n",
       "    </tr>\n",
       "  </thead>\n",
       "  <tbody>\n",
       "    <tr>\n",
       "      <th>0</th>\n",
       "      <td>18463</td>\n",
       "      <td>lDoxqlDKb4H7zpI_zJ01aA</td>\n",
       "      <td>Ye-9S8f2dt41UBfy4lXffA</td>\n",
       "      <td>W4ZEKkva9HpAdZG88juwyQ</td>\n",
       "      <td>2</td>\n",
       "      <td>3</td>\n",
       "      <td>0</td>\n",
       "      <td>0</td>\n",
       "      <td>2010-11-23 01:48:27</td>\n",
       "      <td>NaN</td>\n",
       "      <td>...</td>\n",
       "      <td>NaN</td>\n",
       "      <td>NaN</td>\n",
       "      <td>NaN</td>\n",
       "      <td>NaN</td>\n",
       "      <td>NaN</td>\n",
       "      <td>NaN</td>\n",
       "      <td>NaN</td>\n",
       "      <td>NaN</td>\n",
       "      <td>NaN</td>\n",
       "      <td>2.0</td>\n",
       "    </tr>\n",
       "    <tr>\n",
       "      <th>1</th>\n",
       "      <td>709449</td>\n",
       "      <td>uNnqb1qJxUDS4qrM_mZxtA</td>\n",
       "      <td>Ye-9S8f2dt41UBfy4lXffA</td>\n",
       "      <td>PzhPMkaNYiKDTHoTG0r8rw</td>\n",
       "      <td>5</td>\n",
       "      <td>1</td>\n",
       "      <td>0</td>\n",
       "      <td>0</td>\n",
       "      <td>2020-02-03 22:28:20</td>\n",
       "      <td>NaN</td>\n",
       "      <td>...</td>\n",
       "      <td>NaN</td>\n",
       "      <td>NaN</td>\n",
       "      <td>NaN</td>\n",
       "      <td>NaN</td>\n",
       "      <td>NaN</td>\n",
       "      <td>5.0</td>\n",
       "      <td>NaN</td>\n",
       "      <td>NaN</td>\n",
       "      <td>NaN</td>\n",
       "      <td>NaN</td>\n",
       "    </tr>\n",
       "    <tr>\n",
       "      <th>2</th>\n",
       "      <td>456571</td>\n",
       "      <td>cA-WwCC7OFF6CreyTC_l2w</td>\n",
       "      <td>Ye-9S8f2dt41UBfy4lXffA</td>\n",
       "      <td>GBTPC53ZrG1ZBY3DT8Mbcw</td>\n",
       "      <td>5</td>\n",
       "      <td>1</td>\n",
       "      <td>1</td>\n",
       "      <td>1</td>\n",
       "      <td>2014-09-14 12:27:34</td>\n",
       "      <td>NaN</td>\n",
       "      <td>...</td>\n",
       "      <td>NaN</td>\n",
       "      <td>NaN</td>\n",
       "      <td>NaN</td>\n",
       "      <td>NaN</td>\n",
       "      <td>NaN</td>\n",
       "      <td>NaN</td>\n",
       "      <td>5.0</td>\n",
       "      <td>NaN</td>\n",
       "      <td>NaN</td>\n",
       "      <td>5.0</td>\n",
       "    </tr>\n",
       "    <tr>\n",
       "      <th>3</th>\n",
       "      <td>657377</td>\n",
       "      <td>lJpQrjnwqe9U3epf09FjcQ</td>\n",
       "      <td>Ye-9S8f2dt41UBfy4lXffA</td>\n",
       "      <td>GBTPC53ZrG1ZBY3DT8Mbcw</td>\n",
       "      <td>2</td>\n",
       "      <td>2</td>\n",
       "      <td>2</td>\n",
       "      <td>1</td>\n",
       "      <td>2021-07-25 19:41:43</td>\n",
       "      <td>NaN</td>\n",
       "      <td>...</td>\n",
       "      <td>NaN</td>\n",
       "      <td>NaN</td>\n",
       "      <td>NaN</td>\n",
       "      <td>NaN</td>\n",
       "      <td>NaN</td>\n",
       "      <td>NaN</td>\n",
       "      <td>2.0</td>\n",
       "      <td>NaN</td>\n",
       "      <td>NaN</td>\n",
       "      <td>2.0</td>\n",
       "    </tr>\n",
       "    <tr>\n",
       "      <th>4</th>\n",
       "      <td>204444</td>\n",
       "      <td>F1Q-Jh0r42iJ5OFy5QKMBA</td>\n",
       "      <td>Ye-9S8f2dt41UBfy4lXffA</td>\n",
       "      <td>OINbC0rpDVJ5bfxt3LO9fw</td>\n",
       "      <td>5</td>\n",
       "      <td>2</td>\n",
       "      <td>3</td>\n",
       "      <td>1</td>\n",
       "      <td>2011-02-08 04:03:04</td>\n",
       "      <td>NaN</td>\n",
       "      <td>...</td>\n",
       "      <td>NaN</td>\n",
       "      <td>NaN</td>\n",
       "      <td>NaN</td>\n",
       "      <td>NaN</td>\n",
       "      <td>NaN</td>\n",
       "      <td>NaN</td>\n",
       "      <td>NaN</td>\n",
       "      <td>NaN</td>\n",
       "      <td>NaN</td>\n",
       "      <td>NaN</td>\n",
       "    </tr>\n",
       "  </tbody>\n",
       "</table>\n",
       "<p>5 rows × 44 columns</p>\n",
       "</div>"
      ],
      "text/plain": [
       "   Unnamed: 0               review_id                 user_id  \\\n",
       "0       18463  lDoxqlDKb4H7zpI_zJ01aA  Ye-9S8f2dt41UBfy4lXffA   \n",
       "1      709449  uNnqb1qJxUDS4qrM_mZxtA  Ye-9S8f2dt41UBfy4lXffA   \n",
       "2      456571  cA-WwCC7OFF6CreyTC_l2w  Ye-9S8f2dt41UBfy4lXffA   \n",
       "3      657377  lJpQrjnwqe9U3epf09FjcQ  Ye-9S8f2dt41UBfy4lXffA   \n",
       "4      204444  F1Q-Jh0r42iJ5OFy5QKMBA  Ye-9S8f2dt41UBfy4lXffA   \n",
       "\n",
       "              business_id  stars  useful  funny  cool                 date  \\\n",
       "0  W4ZEKkva9HpAdZG88juwyQ      2       3      0     0  2010-11-23 01:48:27   \n",
       "1  PzhPMkaNYiKDTHoTG0r8rw      5       1      0     0  2020-02-03 22:28:20   \n",
       "2  GBTPC53ZrG1ZBY3DT8Mbcw      5       1      1     1  2014-09-14 12:27:34   \n",
       "3  GBTPC53ZrG1ZBY3DT8Mbcw      2       2      2     1  2021-07-25 19:41:43   \n",
       "4  OINbC0rpDVJ5bfxt3LO9fw      5       2      3     1  2011-02-08 04:03:04   \n",
       "\n",
       "   Bubble Tea  ...  Butcher  Hawaiian/Poke  Mediterranean  East Asian  \\\n",
       "0         NaN  ...      NaN            NaN            NaN         NaN   \n",
       "1         NaN  ...      NaN            NaN            NaN         NaN   \n",
       "2         NaN  ...      NaN            NaN            NaN         NaN   \n",
       "3         NaN  ...      NaN            NaN            NaN         NaN   \n",
       "4         NaN  ...      NaN            NaN            NaN         NaN   \n",
       "\n",
       "   Vegan/Vegetarian  Southeast Asian  European  Fast Food  Desserts  American  \n",
       "0               NaN              NaN       NaN        NaN       NaN       2.0  \n",
       "1               NaN              5.0       NaN        NaN       NaN       NaN  \n",
       "2               NaN              NaN       5.0        NaN       NaN       5.0  \n",
       "3               NaN              NaN       2.0        NaN       NaN       2.0  \n",
       "4               NaN              NaN       NaN        NaN       NaN       NaN  \n",
       "\n",
       "[5 rows x 44 columns]"
      ]
     },
     "execution_count": 174,
     "metadata": {},
     "output_type": "execute_result"
    }
   ],
   "source": [
    "user_cats_mapped.head()"
   ]
  },
  {
   "attachments": {},
   "cell_type": "markdown",
   "metadata": {},
   "source": [
    "## Finding Similarities based on Categories"
   ]
  },
  {
   "cell_type": "code",
   "execution_count": 27,
   "metadata": {},
   "outputs": [
    {
     "data": {
      "text/html": [
       "<div>\n",
       "<style scoped>\n",
       "    .dataframe tbody tr th:only-of-type {\n",
       "        vertical-align: middle;\n",
       "    }\n",
       "\n",
       "    .dataframe tbody tr th {\n",
       "        vertical-align: top;\n",
       "    }\n",
       "\n",
       "    .dataframe thead th {\n",
       "        text-align: right;\n",
       "    }\n",
       "</style>\n",
       "<table border=\"1\" class=\"dataframe\">\n",
       "  <thead>\n",
       "    <tr style=\"text-align: right;\">\n",
       "      <th></th>\n",
       "      <th>Bubble Tea</th>\n",
       "      <th>Buffets</th>\n",
       "      <th>Cheese Shops</th>\n",
       "      <th>Ethiopian</th>\n",
       "      <th>Indian</th>\n",
       "      <th>Kosher</th>\n",
       "      <th>Street Vendors</th>\n",
       "      <th>Wraps</th>\n",
       "      <th>Festivals</th>\n",
       "      <th>Cajun/Creole</th>\n",
       "      <th>...</th>\n",
       "      <th>Butcher</th>\n",
       "      <th>Hawaiian/Poke</th>\n",
       "      <th>Mediterranean</th>\n",
       "      <th>East Asian</th>\n",
       "      <th>Vegan/Vegetarian</th>\n",
       "      <th>Southeast Asian</th>\n",
       "      <th>European</th>\n",
       "      <th>Fast Food</th>\n",
       "      <th>Desserts</th>\n",
       "      <th>American</th>\n",
       "    </tr>\n",
       "    <tr>\n",
       "      <th>user_id</th>\n",
       "      <th></th>\n",
       "      <th></th>\n",
       "      <th></th>\n",
       "      <th></th>\n",
       "      <th></th>\n",
       "      <th></th>\n",
       "      <th></th>\n",
       "      <th></th>\n",
       "      <th></th>\n",
       "      <th></th>\n",
       "      <th></th>\n",
       "      <th></th>\n",
       "      <th></th>\n",
       "      <th></th>\n",
       "      <th></th>\n",
       "      <th></th>\n",
       "      <th></th>\n",
       "      <th></th>\n",
       "      <th></th>\n",
       "      <th></th>\n",
       "      <th></th>\n",
       "    </tr>\n",
       "  </thead>\n",
       "  <tbody>\n",
       "    <tr>\n",
       "      <th>-MRD72DXnVgjkM1AVFp7Nw</th>\n",
       "      <td>NaN</td>\n",
       "      <td>5.0</td>\n",
       "      <td>NaN</td>\n",
       "      <td>NaN</td>\n",
       "      <td>NaN</td>\n",
       "      <td>NaN</td>\n",
       "      <td>NaN</td>\n",
       "      <td>NaN</td>\n",
       "      <td>NaN</td>\n",
       "      <td>5.000000</td>\n",
       "      <td>...</td>\n",
       "      <td>NaN</td>\n",
       "      <td>NaN</td>\n",
       "      <td>4.500000</td>\n",
       "      <td>3.333333</td>\n",
       "      <td>4.750000</td>\n",
       "      <td>4.666667</td>\n",
       "      <td>5.000000</td>\n",
       "      <td>4.000000</td>\n",
       "      <td>4.000000</td>\n",
       "      <td>4.500000</td>\n",
       "    </tr>\n",
       "    <tr>\n",
       "      <th>-SO_K8oLVH_9J23z2MtjGg</th>\n",
       "      <td>5.0</td>\n",
       "      <td>NaN</td>\n",
       "      <td>NaN</td>\n",
       "      <td>NaN</td>\n",
       "      <td>5.0</td>\n",
       "      <td>NaN</td>\n",
       "      <td>NaN</td>\n",
       "      <td>NaN</td>\n",
       "      <td>NaN</td>\n",
       "      <td>3.428571</td>\n",
       "      <td>...</td>\n",
       "      <td>NaN</td>\n",
       "      <td>5.0</td>\n",
       "      <td>5.000000</td>\n",
       "      <td>4.285714</td>\n",
       "      <td>4.500000</td>\n",
       "      <td>4.666667</td>\n",
       "      <td>4.000000</td>\n",
       "      <td>4.125000</td>\n",
       "      <td>4.000000</td>\n",
       "      <td>4.315789</td>\n",
       "    </tr>\n",
       "    <tr>\n",
       "      <th>-Tg5YTEMbnYw3fQN99xKCQ</th>\n",
       "      <td>NaN</td>\n",
       "      <td>4.0</td>\n",
       "      <td>NaN</td>\n",
       "      <td>NaN</td>\n",
       "      <td>NaN</td>\n",
       "      <td>NaN</td>\n",
       "      <td>NaN</td>\n",
       "      <td>NaN</td>\n",
       "      <td>NaN</td>\n",
       "      <td>3.545455</td>\n",
       "      <td>...</td>\n",
       "      <td>NaN</td>\n",
       "      <td>NaN</td>\n",
       "      <td>NaN</td>\n",
       "      <td>5.000000</td>\n",
       "      <td>5.000000</td>\n",
       "      <td>NaN</td>\n",
       "      <td>4.500000</td>\n",
       "      <td>5.000000</td>\n",
       "      <td>NaN</td>\n",
       "      <td>3.615385</td>\n",
       "    </tr>\n",
       "    <tr>\n",
       "      <th>-V7frksbFjKQYVhrPnnlPw</th>\n",
       "      <td>3.0</td>\n",
       "      <td>NaN</td>\n",
       "      <td>NaN</td>\n",
       "      <td>NaN</td>\n",
       "      <td>4.0</td>\n",
       "      <td>NaN</td>\n",
       "      <td>NaN</td>\n",
       "      <td>NaN</td>\n",
       "      <td>5.0</td>\n",
       "      <td>4.347826</td>\n",
       "      <td>...</td>\n",
       "      <td>4.0</td>\n",
       "      <td>NaN</td>\n",
       "      <td>4.600000</td>\n",
       "      <td>3.500000</td>\n",
       "      <td>4.111111</td>\n",
       "      <td>4.000000</td>\n",
       "      <td>4.692308</td>\n",
       "      <td>4.217391</td>\n",
       "      <td>4.000000</td>\n",
       "      <td>4.120000</td>\n",
       "    </tr>\n",
       "    <tr>\n",
       "      <th>-_Y8Mal7S750TsB6yMMDHA</th>\n",
       "      <td>NaN</td>\n",
       "      <td>NaN</td>\n",
       "      <td>NaN</td>\n",
       "      <td>NaN</td>\n",
       "      <td>NaN</td>\n",
       "      <td>NaN</td>\n",
       "      <td>NaN</td>\n",
       "      <td>NaN</td>\n",
       "      <td>NaN</td>\n",
       "      <td>3.384615</td>\n",
       "      <td>...</td>\n",
       "      <td>NaN</td>\n",
       "      <td>NaN</td>\n",
       "      <td>NaN</td>\n",
       "      <td>3.600000</td>\n",
       "      <td>5.000000</td>\n",
       "      <td>4.750000</td>\n",
       "      <td>4.000000</td>\n",
       "      <td>4.200000</td>\n",
       "      <td>3.000000</td>\n",
       "      <td>3.750000</td>\n",
       "    </tr>\n",
       "    <tr>\n",
       "      <th>...</th>\n",
       "      <td>...</td>\n",
       "      <td>...</td>\n",
       "      <td>...</td>\n",
       "      <td>...</td>\n",
       "      <td>...</td>\n",
       "      <td>...</td>\n",
       "      <td>...</td>\n",
       "      <td>...</td>\n",
       "      <td>...</td>\n",
       "      <td>...</td>\n",
       "      <td>...</td>\n",
       "      <td>...</td>\n",
       "      <td>...</td>\n",
       "      <td>...</td>\n",
       "      <td>...</td>\n",
       "      <td>...</td>\n",
       "      <td>...</td>\n",
       "      <td>...</td>\n",
       "      <td>...</td>\n",
       "      <td>...</td>\n",
       "      <td>...</td>\n",
       "    </tr>\n",
       "    <tr>\n",
       "      <th>yhwFVf8RwRfnuCK1vShjsg</th>\n",
       "      <td>NaN</td>\n",
       "      <td>NaN</td>\n",
       "      <td>4.0</td>\n",
       "      <td>NaN</td>\n",
       "      <td>NaN</td>\n",
       "      <td>NaN</td>\n",
       "      <td>NaN</td>\n",
       "      <td>NaN</td>\n",
       "      <td>NaN</td>\n",
       "      <td>4.500000</td>\n",
       "      <td>...</td>\n",
       "      <td>NaN</td>\n",
       "      <td>4.0</td>\n",
       "      <td>4.666667</td>\n",
       "      <td>4.000000</td>\n",
       "      <td>4.333333</td>\n",
       "      <td>4.333333</td>\n",
       "      <td>4.000000</td>\n",
       "      <td>4.000000</td>\n",
       "      <td>4.250000</td>\n",
       "      <td>3.888889</td>\n",
       "    </tr>\n",
       "    <tr>\n",
       "      <th>yon21mgAit4FGUZVWs_yfw</th>\n",
       "      <td>NaN</td>\n",
       "      <td>NaN</td>\n",
       "      <td>4.0</td>\n",
       "      <td>3.0</td>\n",
       "      <td>2.0</td>\n",
       "      <td>4.0</td>\n",
       "      <td>NaN</td>\n",
       "      <td>NaN</td>\n",
       "      <td>NaN</td>\n",
       "      <td>3.500000</td>\n",
       "      <td>...</td>\n",
       "      <td>NaN</td>\n",
       "      <td>NaN</td>\n",
       "      <td>3.333333</td>\n",
       "      <td>2.666667</td>\n",
       "      <td>3.500000</td>\n",
       "      <td>3.500000</td>\n",
       "      <td>3.538462</td>\n",
       "      <td>3.470588</td>\n",
       "      <td>3.846154</td>\n",
       "      <td>3.366667</td>\n",
       "    </tr>\n",
       "    <tr>\n",
       "      <th>zEemSTjoTpIKr_ZToYWQXQ</th>\n",
       "      <td>NaN</td>\n",
       "      <td>NaN</td>\n",
       "      <td>NaN</td>\n",
       "      <td>NaN</td>\n",
       "      <td>NaN</td>\n",
       "      <td>5.0</td>\n",
       "      <td>NaN</td>\n",
       "      <td>NaN</td>\n",
       "      <td>NaN</td>\n",
       "      <td>4.333333</td>\n",
       "      <td>...</td>\n",
       "      <td>5.0</td>\n",
       "      <td>NaN</td>\n",
       "      <td>5.000000</td>\n",
       "      <td>4.000000</td>\n",
       "      <td>5.000000</td>\n",
       "      <td>4.000000</td>\n",
       "      <td>4.250000</td>\n",
       "      <td>3.250000</td>\n",
       "      <td>4.500000</td>\n",
       "      <td>4.000000</td>\n",
       "    </tr>\n",
       "    <tr>\n",
       "      <th>zLWaI3RP0IFCwMAERFRR0Q</th>\n",
       "      <td>NaN</td>\n",
       "      <td>5.0</td>\n",
       "      <td>NaN</td>\n",
       "      <td>NaN</td>\n",
       "      <td>NaN</td>\n",
       "      <td>NaN</td>\n",
       "      <td>NaN</td>\n",
       "      <td>NaN</td>\n",
       "      <td>NaN</td>\n",
       "      <td>4.714286</td>\n",
       "      <td>...</td>\n",
       "      <td>NaN</td>\n",
       "      <td>NaN</td>\n",
       "      <td>5.000000</td>\n",
       "      <td>5.000000</td>\n",
       "      <td>4.666667</td>\n",
       "      <td>NaN</td>\n",
       "      <td>5.000000</td>\n",
       "      <td>5.000000</td>\n",
       "      <td>4.750000</td>\n",
       "      <td>4.700000</td>\n",
       "    </tr>\n",
       "    <tr>\n",
       "      <th>zaC3L_qy28bMLIvnoMng8Q</th>\n",
       "      <td>NaN</td>\n",
       "      <td>NaN</td>\n",
       "      <td>NaN</td>\n",
       "      <td>NaN</td>\n",
       "      <td>NaN</td>\n",
       "      <td>NaN</td>\n",
       "      <td>NaN</td>\n",
       "      <td>NaN</td>\n",
       "      <td>NaN</td>\n",
       "      <td>3.300000</td>\n",
       "      <td>...</td>\n",
       "      <td>NaN</td>\n",
       "      <td>NaN</td>\n",
       "      <td>3.000000</td>\n",
       "      <td>3.500000</td>\n",
       "      <td>3.285714</td>\n",
       "      <td>2.000000</td>\n",
       "      <td>3.285714</td>\n",
       "      <td>2.777778</td>\n",
       "      <td>3.285714</td>\n",
       "      <td>3.133333</td>\n",
       "    </tr>\n",
       "  </tbody>\n",
       "</table>\n",
       "<p>327 rows × 35 columns</p>\n",
       "</div>"
      ],
      "text/plain": [
       "                        Bubble Tea  Buffets  Cheese Shops  Ethiopian  Indian  \\\n",
       "user_id                                                                        \n",
       "-MRD72DXnVgjkM1AVFp7Nw         NaN      5.0           NaN        NaN     NaN   \n",
       "-SO_K8oLVH_9J23z2MtjGg         5.0      NaN           NaN        NaN     5.0   \n",
       "-Tg5YTEMbnYw3fQN99xKCQ         NaN      4.0           NaN        NaN     NaN   \n",
       "-V7frksbFjKQYVhrPnnlPw         3.0      NaN           NaN        NaN     4.0   \n",
       "-_Y8Mal7S750TsB6yMMDHA         NaN      NaN           NaN        NaN     NaN   \n",
       "...                            ...      ...           ...        ...     ...   \n",
       "yhwFVf8RwRfnuCK1vShjsg         NaN      NaN           4.0        NaN     NaN   \n",
       "yon21mgAit4FGUZVWs_yfw         NaN      NaN           4.0        3.0     2.0   \n",
       "zEemSTjoTpIKr_ZToYWQXQ         NaN      NaN           NaN        NaN     NaN   \n",
       "zLWaI3RP0IFCwMAERFRR0Q         NaN      5.0           NaN        NaN     NaN   \n",
       "zaC3L_qy28bMLIvnoMng8Q         NaN      NaN           NaN        NaN     NaN   \n",
       "\n",
       "                        Kosher  Street Vendors  Wraps  Festivals  \\\n",
       "user_id                                                            \n",
       "-MRD72DXnVgjkM1AVFp7Nw     NaN             NaN    NaN        NaN   \n",
       "-SO_K8oLVH_9J23z2MtjGg     NaN             NaN    NaN        NaN   \n",
       "-Tg5YTEMbnYw3fQN99xKCQ     NaN             NaN    NaN        NaN   \n",
       "-V7frksbFjKQYVhrPnnlPw     NaN             NaN    NaN        5.0   \n",
       "-_Y8Mal7S750TsB6yMMDHA     NaN             NaN    NaN        NaN   \n",
       "...                        ...             ...    ...        ...   \n",
       "yhwFVf8RwRfnuCK1vShjsg     NaN             NaN    NaN        NaN   \n",
       "yon21mgAit4FGUZVWs_yfw     4.0             NaN    NaN        NaN   \n",
       "zEemSTjoTpIKr_ZToYWQXQ     5.0             NaN    NaN        NaN   \n",
       "zLWaI3RP0IFCwMAERFRR0Q     NaN             NaN    NaN        NaN   \n",
       "zaC3L_qy28bMLIvnoMng8Q     NaN             NaN    NaN        NaN   \n",
       "\n",
       "                        Cajun/Creole  ...  Butcher  Hawaiian/Poke  \\\n",
       "user_id                               ...                           \n",
       "-MRD72DXnVgjkM1AVFp7Nw      5.000000  ...      NaN            NaN   \n",
       "-SO_K8oLVH_9J23z2MtjGg      3.428571  ...      NaN            5.0   \n",
       "-Tg5YTEMbnYw3fQN99xKCQ      3.545455  ...      NaN            NaN   \n",
       "-V7frksbFjKQYVhrPnnlPw      4.347826  ...      4.0            NaN   \n",
       "-_Y8Mal7S750TsB6yMMDHA      3.384615  ...      NaN            NaN   \n",
       "...                              ...  ...      ...            ...   \n",
       "yhwFVf8RwRfnuCK1vShjsg      4.500000  ...      NaN            4.0   \n",
       "yon21mgAit4FGUZVWs_yfw      3.500000  ...      NaN            NaN   \n",
       "zEemSTjoTpIKr_ZToYWQXQ      4.333333  ...      5.0            NaN   \n",
       "zLWaI3RP0IFCwMAERFRR0Q      4.714286  ...      NaN            NaN   \n",
       "zaC3L_qy28bMLIvnoMng8Q      3.300000  ...      NaN            NaN   \n",
       "\n",
       "                        Mediterranean  East Asian  Vegan/Vegetarian  \\\n",
       "user_id                                                               \n",
       "-MRD72DXnVgjkM1AVFp7Nw       4.500000    3.333333          4.750000   \n",
       "-SO_K8oLVH_9J23z2MtjGg       5.000000    4.285714          4.500000   \n",
       "-Tg5YTEMbnYw3fQN99xKCQ            NaN    5.000000          5.000000   \n",
       "-V7frksbFjKQYVhrPnnlPw       4.600000    3.500000          4.111111   \n",
       "-_Y8Mal7S750TsB6yMMDHA            NaN    3.600000          5.000000   \n",
       "...                               ...         ...               ...   \n",
       "yhwFVf8RwRfnuCK1vShjsg       4.666667    4.000000          4.333333   \n",
       "yon21mgAit4FGUZVWs_yfw       3.333333    2.666667          3.500000   \n",
       "zEemSTjoTpIKr_ZToYWQXQ       5.000000    4.000000          5.000000   \n",
       "zLWaI3RP0IFCwMAERFRR0Q       5.000000    5.000000          4.666667   \n",
       "zaC3L_qy28bMLIvnoMng8Q       3.000000    3.500000          3.285714   \n",
       "\n",
       "                        Southeast Asian  European  Fast Food  Desserts  \\\n",
       "user_id                                                                  \n",
       "-MRD72DXnVgjkM1AVFp7Nw         4.666667  5.000000   4.000000  4.000000   \n",
       "-SO_K8oLVH_9J23z2MtjGg         4.666667  4.000000   4.125000  4.000000   \n",
       "-Tg5YTEMbnYw3fQN99xKCQ              NaN  4.500000   5.000000       NaN   \n",
       "-V7frksbFjKQYVhrPnnlPw         4.000000  4.692308   4.217391  4.000000   \n",
       "-_Y8Mal7S750TsB6yMMDHA         4.750000  4.000000   4.200000  3.000000   \n",
       "...                                 ...       ...        ...       ...   \n",
       "yhwFVf8RwRfnuCK1vShjsg         4.333333  4.000000   4.000000  4.250000   \n",
       "yon21mgAit4FGUZVWs_yfw         3.500000  3.538462   3.470588  3.846154   \n",
       "zEemSTjoTpIKr_ZToYWQXQ         4.000000  4.250000   3.250000  4.500000   \n",
       "zLWaI3RP0IFCwMAERFRR0Q              NaN  5.000000   5.000000  4.750000   \n",
       "zaC3L_qy28bMLIvnoMng8Q         2.000000  3.285714   2.777778  3.285714   \n",
       "\n",
       "                        American  \n",
       "user_id                           \n",
       "-MRD72DXnVgjkM1AVFp7Nw  4.500000  \n",
       "-SO_K8oLVH_9J23z2MtjGg  4.315789  \n",
       "-Tg5YTEMbnYw3fQN99xKCQ  3.615385  \n",
       "-V7frksbFjKQYVhrPnnlPw  4.120000  \n",
       "-_Y8Mal7S750TsB6yMMDHA  3.750000  \n",
       "...                          ...  \n",
       "yhwFVf8RwRfnuCK1vShjsg  3.888889  \n",
       "yon21mgAit4FGUZVWs_yfw  3.366667  \n",
       "zEemSTjoTpIKr_ZToYWQXQ  4.000000  \n",
       "zLWaI3RP0IFCwMAERFRR0Q  4.700000  \n",
       "zaC3L_qy28bMLIvnoMng8Q  3.133333  \n",
       "\n",
       "[327 rows x 35 columns]"
      ]
     },
     "execution_count": 27,
     "metadata": {},
     "output_type": "execute_result"
    }
   ],
   "source": [
    "cats_mapped = user_cats_mapped.drop(['review_id', 'business_id', 'stars'], axis = 1)\n",
    "cats_mapped = cats_mapped.groupby('user_id').mean()\n",
    "#cats_mapped = cats_mapped.fillna(0)\n",
    "cats_mapped"
   ]
  },
  {
   "cell_type": "code",
   "execution_count": 31,
   "metadata": {},
   "outputs": [
    {
     "ename": "NameError",
     "evalue": "name 'val' is not defined",
     "output_type": "error",
     "traceback": [
      "\u001b[1;31m---------------------------------------------------------------------------\u001b[0m",
      "\u001b[1;31mNameError\u001b[0m                                 Traceback (most recent call last)",
      "\u001b[1;32m<ipython-input-31-9251155207bf>\u001b[0m in \u001b[0;36m<module>\u001b[1;34m\u001b[0m\n\u001b[0;32m      1\u001b[0m \u001b[1;31m## entire\u001b[0m\u001b[1;33m\u001b[0m\u001b[1;33m\u001b[0m\u001b[1;33m\u001b[0m\u001b[0m\n\u001b[1;32m----> 2\u001b[1;33m \u001b[0mval_pivot\u001b[0m \u001b[1;33m=\u001b[0m \u001b[0mmakePivot\u001b[0m\u001b[1;33m(\u001b[0m\u001b[0mval\u001b[0m\u001b[1;33m)\u001b[0m\u001b[1;33m\u001b[0m\u001b[1;33m\u001b[0m\u001b[0m\n\u001b[0m\u001b[0;32m      3\u001b[0m \u001b[0mmse\u001b[0m \u001b[1;33m=\u001b[0m \u001b[1;33m[\u001b[0m\u001b[1;33m]\u001b[0m\u001b[1;33m\u001b[0m\u001b[1;33m\u001b[0m\u001b[0m\n\u001b[0;32m      4\u001b[0m \u001b[0mmae\u001b[0m \u001b[1;33m=\u001b[0m \u001b[1;33m[\u001b[0m\u001b[1;33m]\u001b[0m\u001b[1;33m\u001b[0m\u001b[1;33m\u001b[0m\u001b[0m\n\u001b[0;32m      5\u001b[0m \u001b[0musers_of_interest\u001b[0m \u001b[1;33m=\u001b[0m \u001b[0mval_pivot\u001b[0m\u001b[1;33m.\u001b[0m\u001b[0mindex\u001b[0m\u001b[1;33m.\u001b[0m\u001b[0mvalues\u001b[0m\u001b[1;33m\u001b[0m\u001b[1;33m\u001b[0m\u001b[0m\n",
      "\u001b[1;31mNameError\u001b[0m: name 'val' is not defined"
     ]
    }
   ],
   "source": [
    "## entire \n",
    "val_pivot = makePivot(val)\n",
    "mse = []\n",
    "mae = []\n",
    "users_of_interest = val_pivot.index.values\n",
    "for user in users_of_interest:\n",
    "    user_rmse, user_mae = evaluateRecommendation(filled_nola, val_pivot, user, cats = True, cat_df=cats_mapped)\n",
    "    mse.append(user_rmse)\n",
    "    mae.append(user_mae)\n",
    "\n",
    "print('Average mean squared error: ', np.round(np.mean(mse),5))\n",
    "print('Average mean absolute error: ', np.round(np.mean(mae),5))"
   ]
  },
  {
   "cell_type": "code",
   "execution_count": 47,
   "metadata": {},
   "outputs": [
    {
     "data": {
      "text/plain": [
       "Text(0.5, 0, 'K value')"
      ]
     },
     "execution_count": 47,
     "metadata": {},
     "output_type": "execute_result"
    },
    {
     "data": {
      "image/png": "[encoded data removed]",
      "text/plain": [
       "<Figure size 432x288 with 1 Axes>"
      ]
     },
     "metadata": {
      "needs_background": "light"
     },
     "output_type": "display_data"
    }
   ],
   "source": [
    "k_array = np.arange(2,35)\n",
    "\n",
    "train_rmse_list, train_mae_list = [], []\n",
    "val_rmse_list, val_mae_list = [], []\n",
    "filled = compute_filled_matrix(nola_copy, 31)\n",
    "\n",
    "for k in k_array:\n",
    "        \n",
    "\n",
    "    cats_filled = compute_filled_matrix(cats_mapped, k)\n",
    "    rmse = []\n",
    "    mae = []\n",
    "    users_of_interest = val.index.values\n",
    "    for user in users_of_interest:\n",
    "        user_rmse, user_mae = evaluateRecommendation(filled, val, user, cats = True, cat_df=cats_filled)\n",
    "        rmse.append(user_rmse)\n",
    "        mae.append(user_mae)\n",
    "\n",
    "    val_rmse_list.append(np.mean(rmse))\n",
    "    val_mae_list.append(np.mean(mae))\n",
    "\n",
    "#plt.plot(k_array, train_rmse_list, label = 'Train RMSE')\n",
    "plt.plot(k_array, val_rmse_list, '--', label = 'Val RMSE')\n",
    "#plt.plot(k_array, train_mae_list, label = 'Train MAE')\n",
    "plt.plot(k_array, val_mae_list, '--', label = 'Val MAE')\n",
    "plt.legend(loc = 1)\n",
    "plt.title('Error vs. K')\n",
    "plt.ylabel('Error')\n",
    "plt.xlabel('K value')"
   ]
  },
  {
   "cell_type": "code",
   "execution_count": 48,
   "metadata": {},
   "outputs": [
    {
     "name": "stdout",
     "output_type": "stream",
     "text": [
      "Minimum RMSE on val: 0.8103859000640853, index: 26 \n",
      "Minimum MAE on val: 0.6952897663771483, index: 31 \n",
      "K at minimum index:  28\n"
     ]
    }
   ],
   "source": [
    "print('Minimum RMSE on val: {}, index: {} '.format(min(val_rmse_list), val_rmse_list.index(min(val_rmse_list))))\n",
    "print('Minimum MAE on val: {}, index: {} '.format(min(val_mae_list), val_mae_list.index(min(val_mae_list))))\n",
    "print('K at minimum index: ', k_array[val_rmse_list.index(min(val_rmse_list))])\n"
   ]
  },
  {
   "attachments": {},
   "cell_type": "markdown",
   "metadata": {},
   "source": [
    "## Lets try Jaccard"
   ]
  },
  {
   "cell_type": "code",
   "execution_count": 49,
   "metadata": {},
   "outputs": [],
   "source": [
    "cols = ['Bubble Tea', 'Buffets',\n",
    "       'Cheese Shops', 'Ethiopian', 'Indian', 'Kosher', 'Street Vendors',\n",
    "       'Wraps', 'Festivals', 'Cajun/Creole', 'Delis', 'Diners', 'Gastropubs',\n",
    "       'Gluten-Free', 'Salad', 'Sandwiches', 'Seafood', 'Soup', 'Tex-Mex',\n",
    "       'Alcohol', 'Markets', 'Coffee_and_Tea', 'Breakfast', 'Frozen_Desserts',\n",
    "       'Latin American', 'Butcher', 'Hawaiian/Poke', 'Mediterranean',\n",
    "       'East Asian', 'Vegan/Vegetarian', 'Southeast Asian', 'European',\n",
    "       'Fast Food', 'Desserts', 'American']\n",
    "\n",
    "user_cats_binary = cats_mapped.copy() \n",
    "\n",
    "for col in cols: \n",
    "    user_cats_binary[col] = np.where(user_cats_binary[col] > 0, True, False)"
   ]
  },
  {
   "cell_type": "code",
   "execution_count": 16,
   "metadata": {},
   "outputs": [],
   "source": [
    "def find_jaccard_users(binary, user):\n",
    "    \"\"\"\n",
    "    Takes in the SVD array and the user of interest for whom we want\n",
    "    to make recommendations \n",
    "    \"\"\"\n",
    "    similarities_jaccard = 1 - pairwise_distances(binary.to_numpy(), metric='jaccard')\n",
    "    jaccard_similarity_df = pd.DataFrame(similarities_jaccard, index=binary.index, columns=binary.index)\n",
    "    jaccard_similarity_series = jaccard_similarity_df.loc[user]\n",
    "    ordered_similarities = jaccard_similarity_series.sort_values(ascending=False)\n",
    "\n",
    "    return ordered_similarities"
   ]
  },
  {
   "cell_type": "code",
   "execution_count": 51,
   "metadata": {},
   "outputs": [],
   "source": [
    "def evaluateJRecommendation(filled_df, jaccard, split_df, user= None): \n",
    "\n",
    "    ordered = find_jaccard_users(jaccard, user)\n",
    "    top5 = ordered[:2].index.to_list()\n",
    "\n",
    "    sim_users = filled_df[split_df.columns]\n",
    "    sim_users = sim_users.loc[sim_users.index.isin(top5)]\n",
    "    avg_ratings = pd.DataFrame(sim_users.mean(axis=0)).T\n",
    "    user_of_interest = split_df.loc[split_df.index==user]\n",
    "\n",
    "    mask = user_of_interest.notna()\n",
    "    preds = avg_ratings.values[mask]\n",
    "    gt = user_of_interest.values[mask]\n",
    "\n",
    "    rmse = mean_squared_error(gt, preds, squared=False)\n",
    "    mae = mean_absolute_error(gt, preds)\n",
    "\n",
    "    return rmse, mae"
   ]
  },
  {
   "cell_type": "code",
   "execution_count": 52,
   "metadata": {},
   "outputs": [
    {
     "name": "stdout",
     "output_type": "stream",
     "text": [
      "Average mean squared error:  0.8173\n",
      "Average mean absolute error:  0.69738\n"
     ]
    }
   ],
   "source": [
    "filled = compute_filled_matrix(nola_copy, 31)\n",
    "mse = []\n",
    "mae = []\n",
    "users_of_interest = val.index.values\n",
    "for user in users_of_interest:\n",
    "    user_rmse, user_mae = evaluateJRecommendation(filled, user_cats_binary, val, user)\n",
    "    mse.append(user_rmse)\n",
    "    mae.append(user_mae)\n",
    "print('Average mean squared error: ', np.round(np.mean(mse),5))\n",
    "print('Average mean absolute error: ', np.round(np.mean(mae),5))"
   ]
  },
  {
   "attachments": {},
   "cell_type": "markdown",
   "metadata": {},
   "source": [
    "Using Jaccard Similarity instead did not help. Lets try both the jaccard similarity and the cosine similarity together because why not"
   ]
  },
  {
   "cell_type": "code",
   "execution_count": 155,
   "metadata": {},
   "outputs": [],
   "source": [
    "def evaluateJCRecommendation(filled_df, jaccard, split_df, user): \n",
    "\n",
    "    ordered_cosine = find_sim_users(filled_df, user)\n",
    "    ordered_jaccard = find_jaccard_users(jaccard, user)\n",
    "    top2 = ordered_jaccard[1:3].index.to_list()\n",
    "    top5 = ordered_cosine[:5].index.to_list()\n",
    "    top = top2 + top5 \n",
    "\n",
    "    sim_users = filled_df[split_df.columns]\n",
    "    sim_users = sim_users.loc[sim_users.index.isin(top)]\n",
    "    avg_ratings = pd.DataFrame(sim_users.mean(axis=0)).T\n",
    "    user_of_interest = split_df.loc[split_df.index==user]\n",
    "\n",
    "    mask = user_of_interest.notna()\n",
    "    preds = avg_ratings.values[mask]\n",
    "    gt = user_of_interest.values[mask]\n",
    "\n",
    "    rmse = mean_squared_error(gt, preds, squared=False)\n",
    "    mae = mean_absolute_error(gt, preds)\n",
    "\n",
    "    return rmse, mae"
   ]
  },
  {
   "cell_type": "code",
   "execution_count": 54,
   "metadata": {},
   "outputs": [
    {
     "name": "stdout",
     "output_type": "stream",
     "text": [
      "Average mean squared error:  0.8198\n",
      "Average mean absolute error:  0.6935\n"
     ]
    }
   ],
   "source": [
    "filled = compute_filled_matrix(nola_copy, 31)\n",
    "mse = []\n",
    "mae = []\n",
    "users_of_interest = val.index.values\n",
    "for user in users_of_interest:\n",
    "    user_rmse, user_mae = evaluateJCRecommendation(filled, user_cats_binary, val, user)\n",
    "    mse.append(user_rmse)\n",
    "    mae.append(user_mae)\n",
    "print('Average mean squared error: ', np.round(np.mean(mse),5))\n",
    "print('Average mean absolute error: ', np.round(np.mean(mae),5))"
   ]
  },
  {
   "attachments": {},
   "cell_type": "markdown",
   "metadata": {},
   "source": [
    "## Test Set"
   ]
  },
  {
   "cell_type": "code",
   "execution_count": 75,
   "metadata": {},
   "outputs": [
    {
     "name": "stdout",
     "output_type": "stream",
     "text": [
      "Average mean squared error:  0.97025\n",
      "Average mean absolute error:  0.79528\n"
     ]
    }
   ],
   "source": [
    "filled = compute_filled_matrix(nola_copy, 31)\n",
    "rmse = []\n",
    "mae = []\n",
    "users_of_interest = test.index.values\n",
    "for user_id in users_of_interest:\n",
    "    user_rmse, user_mae = evaluateJCRecommendation(filled, user_cats_binary, test, user_id)\n",
    "    rmse.append(user_rmse)\n",
    "    mae.append(user_mae)\n",
    "\n",
    "print('Average mean squared error: ', np.round(np.mean(rmse),5))\n",
    "print('Average mean absolute error: ', np.round(np.mean(mae),5))"
   ]
  },
  {
   "cell_type": "code",
   "execution_count": 77,
   "metadata": {},
   "outputs": [
    {
     "name": "stdout",
     "output_type": "stream",
     "text": [
      "Average mean squared error:  0.96752\n",
      "Average mean absolute error:  0.79363\n"
     ]
    }
   ],
   "source": [
    "filled = compute_filled_matrix(nola_copy, 31)\n",
    "rmse = []\n",
    "mae = []\n",
    "users_of_interest = test.index.values\n",
    "for user_id in users_of_interest:\n",
    "    user_rmse, user_mae = evaluateRecommendation(filled, test, user_id)\n",
    "    rmse.append(user_rmse)\n",
    "    mae.append(user_mae)\n",
    "\n",
    "print('Average mean squared error: ', np.round(np.mean(rmse),5))\n",
    "print('Average mean absolute error: ', np.round(np.mean(mae),5))"
   ]
  },
  {
   "cell_type": "code",
   "execution_count": 76,
   "metadata": {},
   "outputs": [
    {
     "name": "stdout",
     "output_type": "stream",
     "text": [
      "Average mean squared error:  0.96485\n",
      "Average mean absolute error:  0.79088\n"
     ]
    }
   ],
   "source": [
    "filled = compute_filled_matrix(nola_copy, 31)\n",
    "mse = []\n",
    "mae = []\n",
    "users_of_interest = test.index.values\n",
    "for user in users_of_interest:\n",
    "    user_rmse, user_mae = evaluateJRecommendation(filled, user_cats_binary, test, user)\n",
    "    mse.append(user_rmse)\n",
    "    mae.append(user_mae)\n",
    "print('Average mean squared error: ', np.round(np.mean(mse),5))\n",
    "print('Average mean absolute error: ', np.round(np.mean(mae),5))"
   ]
  },
  {
   "attachments": {},
   "cell_type": "markdown",
   "metadata": {},
   "source": [
    "# Recommender # 3\n",
    "\n",
    "Recommender #2 was able to beat the average business rating baseline but was not able to beat average user rating baseline. I am going to try splitting my data the same was Rahul split his data in the content based filtered and reapply some of the methods from above"
   ]
  },
  {
   "attachments": {},
   "cell_type": "markdown",
   "metadata": {},
   "source": [
    "## Preparing Data\n",
    "\n",
    "Train test split"
   ]
  },
  {
   "cell_type": "code",
   "execution_count": 23,
   "metadata": {},
   "outputs": [
    {
     "data": {
      "text/html": [
       "<div>\n",
       "<style scoped>\n",
       "    .dataframe tbody tr th:only-of-type {\n",
       "        vertical-align: middle;\n",
       "    }\n",
       "\n",
       "    .dataframe tbody tr th {\n",
       "        vertical-align: top;\n",
       "    }\n",
       "\n",
       "    .dataframe thead th {\n",
       "        text-align: right;\n",
       "    }\n",
       "</style>\n",
       "<table border=\"1\" class=\"dataframe\">\n",
       "  <thead>\n",
       "    <tr style=\"text-align: right;\">\n",
       "      <th></th>\n",
       "      <th>review_id</th>\n",
       "      <th>user_id</th>\n",
       "      <th>business_id</th>\n",
       "      <th>stars</th>\n",
       "      <th>text</th>\n",
       "      <th>name</th>\n",
       "      <th>city</th>\n",
       "      <th>biz_stars</th>\n",
       "      <th>biz_review_count</th>\n",
       "      <th>categories</th>\n",
       "      <th>average_stars</th>\n",
       "    </tr>\n",
       "  </thead>\n",
       "  <tbody>\n",
       "    <tr>\n",
       "      <th>0</th>\n",
       "      <td>lDoxqlDKb4H7zpI_zJ01aA</td>\n",
       "      <td>Ye-9S8f2dt41UBfy4lXffA</td>\n",
       "      <td>W4ZEKkva9HpAdZG88juwyQ</td>\n",
       "      <td>2</td>\n",
       "      <td>The French bread is crusty an warm but... Ice ...</td>\n",
       "      <td>Mr. B's Bistro</td>\n",
       "      <td>New Orleans</td>\n",
       "      <td>4.0</td>\n",
       "      <td>2064</td>\n",
       "      <td>Bars, Breakfast &amp; Brunch, Restaurants, Barbequ...</td>\n",
       "      <td>3.98</td>\n",
       "    </tr>\n",
       "  </tbody>\n",
       "</table>\n",
       "</div>"
      ],
      "text/plain": [
       "                review_id                 user_id             business_id  \\\n",
       "0  lDoxqlDKb4H7zpI_zJ01aA  Ye-9S8f2dt41UBfy4lXffA  W4ZEKkva9HpAdZG88juwyQ   \n",
       "\n",
       "   stars                                               text            name  \\\n",
       "0      2  The French bread is crusty an warm but... Ice ...  Mr. B's Bistro   \n",
       "\n",
       "          city  biz_stars  biz_review_count  \\\n",
       "0  New Orleans        4.0              2064   \n",
       "\n",
       "                                          categories  average_stars  \n",
       "0  Bars, Breakfast & Brunch, Restaurants, Barbequ...           3.98  "
      ]
     },
     "execution_count": 23,
     "metadata": {},
     "output_type": "execute_result"
    }
   ],
   "source": [
    "filtered_nola.head(1)"
   ]
  },
  {
   "cell_type": "code",
   "execution_count": 24,
   "metadata": {},
   "outputs": [],
   "source": [
    "np.random.seed(42)\n",
    "idx = np.array(filtered_nola.index)\n",
    "np.random.shuffle(idx)"
   ]
  },
  {
   "cell_type": "code",
   "execution_count": 25,
   "metadata": {},
   "outputs": [],
   "source": [
    "train = filtered_nola.loc[idx[:int(0.55*len(idx))]]\n",
    "val = filtered_nola.loc[int(0.60*len(idx)):int(0.75*len(idx))]\n",
    "test = filtered_nola.loc[idx[int(0.75*len(idx)):]]"
   ]
  },
  {
   "cell_type": "code",
   "execution_count": 26,
   "metadata": {},
   "outputs": [
    {
     "data": {
      "text/plain": [
       "0"
      ]
     },
     "execution_count": 26,
     "metadata": {},
     "output_type": "execute_result"
    }
   ],
   "source": [
    "val_only_userid = val[~val.user_id.isin(train.user_id.unique())]\n",
    "len(val_only_userid) # no unique users in the test set "
   ]
  },
  {
   "cell_type": "code",
   "execution_count": 27,
   "metadata": {},
   "outputs": [
    {
     "data": {
      "text/plain": [
       "0"
      ]
     },
     "execution_count": 27,
     "metadata": {},
     "output_type": "execute_result"
    }
   ],
   "source": [
    "test_only_userid = test[~test.user_id.isin(train.user_id.unique())]\n",
    "len(test_only_userid) # no unique users in the test set "
   ]
  },
  {
   "cell_type": "code",
   "execution_count": 232,
   "metadata": {},
   "outputs": [],
   "source": [
    "all_pivot = makePivot(filtered_nola)"
   ]
  },
  {
   "cell_type": "code",
   "execution_count": 28,
   "metadata": {},
   "outputs": [
    {
     "name": "stdout",
     "output_type": "stream",
     "text": [
      "327\n",
      "53\n",
      "327\n",
      "-----------------------------\n",
      "436\n",
      "431\n",
      "436\n"
     ]
    }
   ],
   "source": [
    "print(len(train['user_id'].unique()))\n",
    "print(len(val['user_id'].unique()))\n",
    "print(len(test['user_id'].unique()))\n",
    "print('-----------------------------')\n",
    "print(len(train['business_id'].unique()))\n",
    "print(len(val['business_id'].unique()))\n",
    "print(len(test['business_id'].unique()))"
   ]
  },
  {
   "cell_type": "code",
   "execution_count": 29,
   "metadata": {},
   "outputs": [
    {
     "name": "stdout",
     "output_type": "stream",
     "text": [
      "0.5788934978182406\n",
      "0.15794860744491732\n",
      "0.2631578947368421\n"
     ]
    }
   ],
   "source": [
    "print(len(train)/(len(train)+len(val)+len(test)))\n",
    "print(len(val)/(len(train)+len(val)+len(test)))\n",
    "print(len(test)/(len(train)+len(val)+len(test)))"
   ]
  },
  {
   "attachments": {},
   "cell_type": "markdown",
   "metadata": {},
   "source": [
    "We have a train test split with 58% of the data in the train set, 16% in the validation set and 26% of the data in the test set "
   ]
  },
  {
   "attachments": {},
   "cell_type": "markdown",
   "metadata": {},
   "source": [
    "## Baseline"
   ]
  },
  {
   "cell_type": "code",
   "execution_count": 30,
   "metadata": {},
   "outputs": [],
   "source": [
    "def calcAvgRatings(df, user = True):\n",
    "    preds = []\n",
    "\n",
    "    if user: \n",
    "        for user in df.user_id: \n",
    "            preds.append(user_avg_ratings[user])\n",
    "    else: \n",
    "        for biz in df.business_id: \n",
    "            preds.append(biz_avg_ratings[biz])\n",
    "\n",
    "    gt = df.stars\n",
    "\n",
    "    rmse = mean_squared_error(gt, preds, squared=False)\n",
    "    mae = mean_squared_error(gt, preds)\n",
    "\n",
    "    return rmse, mae"
   ]
  },
  {
   "cell_type": "code",
   "execution_count": 31,
   "metadata": {},
   "outputs": [
    {
     "name": "stdout",
     "output_type": "stream",
     "text": [
      "-------- Train -----------\n",
      "RMSE train:  0.9498730066852789\n",
      "MAE train:  0.9022587288293319\n",
      "-------- Val -----------\n",
      "RMSE val:  0.9667448651941543\n",
      "MAE val:  0.9345956343792634\n",
      "-------- Test -----------\n",
      "RMSE train:  0.9346470551535841\n",
      "MAE train:  0.873565117707267\n"
     ]
    }
   ],
   "source": [
    "train_rmse, train_mae = calcAvgRatings(train)\n",
    "val_rmse, val_mae = calcAvgRatings(val)\n",
    "test_rmse, test_mae = calcAvgRatings(test)\n",
    "print('-------- Train -----------')\n",
    "print('RMSE train: ', train_rmse)\n",
    "print('MAE train: ', train_mae)\n",
    "print('-------- Val -----------')\n",
    "print('RMSE val: ', val_rmse)\n",
    "print('MAE val: ', val_mae)\n",
    "print('-------- Test -----------')\n",
    "print('RMSE train: ', test_rmse)\n",
    "print('MAE train: ', test_mae)"
   ]
  },
  {
   "cell_type": "code",
   "execution_count": 32,
   "metadata": {},
   "outputs": [
    {
     "name": "stdout",
     "output_type": "stream",
     "text": [
      "-------- Train -----------\n",
      "RMSE train:  0.9869684110105931\n",
      "MAE train:  0.9741066443327749\n",
      "-------- Val -----------\n",
      "RMSE val:  0.9753528063537881\n",
      "MAE val:  0.9513130968622101\n",
      "-------- Test -----------\n",
      "RMSE train:  0.9814815530077858\n",
      "MAE train:  0.9633060388945752\n"
     ]
    }
   ],
   "source": [
    "train_rmse, train_mae = calcAvgRatings(train, user = False)\n",
    "val_rmse, val_mae = calcAvgRatings(val, user = False)\n",
    "test_rmse, test_mae = calcAvgRatings(test, user = False)\n",
    "print('-------- Train -----------')\n",
    "print('RMSE train: ', train_rmse)\n",
    "print('MAE train: ', train_mae)\n",
    "print('-------- Val -----------')\n",
    "print('RMSE val: ', val_rmse)\n",
    "print('MAE val: ', val_mae)\n",
    "print('-------- Test -----------')\n",
    "print('RMSE train: ', test_rmse)\n",
    "print('MAE train: ', test_mae)"
   ]
  },
  {
   "attachments": {},
   "cell_type": "markdown",
   "metadata": {},
   "source": [
    "## Recommender "
   ]
  },
  {
   "cell_type": "code",
   "execution_count": 191,
   "metadata": {},
   "outputs": [],
   "source": [
    "## using SVD to make predictions \n",
    "train_pivot = makePivot(train)\n",
    "train_filled, U = compute_filled_matrix(train_pivot, k_val=50)"
   ]
  },
  {
   "cell_type": "code",
   "execution_count": 89,
   "metadata": {},
   "outputs": [],
   "source": [
    "def eval(df, filled):\n",
    "    df_pivot = makePivot(df)\n",
    "    rmse, mae = [], []\n",
    "    overlap = filled.columns[filled.columns.isin(df_pivot.columns)]\n",
    "    filled_df_overlap = filled[overlap.values]\n",
    "\n",
    "    for user in df_pivot.index:\n",
    "        gt_row = df_pivot.loc[df_pivot.index==user]\n",
    "        mask = df_pivot.loc[df_pivot.index==user].isna()\n",
    "        gt = gt_row.values[~mask]\n",
    "        \n",
    "        pred_row = filled_df_overlap.loc[filled_df_overlap.index == user]\n",
    "        preds = pred_row.values[~mask]\n",
    "\n",
    "        rmse.append(mean_squared_error(gt, preds, squared=False))\n",
    "        mae.append(mean_squared_error(gt, preds))\n",
    "    \n",
    "    return (np.mean(rmse), np.mean(mae))\n"
   ]
  },
  {
   "cell_type": "code",
   "execution_count": 192,
   "metadata": {},
   "outputs": [
    {
     "name": "stdout",
     "output_type": "stream",
     "text": [
      "0.783816934009739\n",
      "0.6404189186865243\n"
     ]
    }
   ],
   "source": [
    "# what accuracy do we get with just SVD? \n",
    "val_pivot = makePivot(val)\n",
    "rmse, mae = [], []\n",
    "overlap = train_filled.columns[train_filled.columns.isin(val_pivot.columns)].values\n",
    "train_val_overlap = train_filled[overlap]\n",
    "\n",
    "for user in val_pivot.index:\n",
    "    gt_row = val_pivot.loc[val_pivot.index==user]\n",
    "    mask = val_pivot.loc[val_pivot.index==user].isna()\n",
    "    gt = gt_row.values[~mask]\n",
    "    \n",
    "    pred_row = train_val_overlap.loc[train_val_overlap.index == user]\n",
    "    preds = pred_row.values[~mask]\n",
    "\n",
    "    rmse.append(mean_squared_error(gt, preds, squared=False))\n",
    "    mae.append(mean_squared_error(gt, preds))\n",
    "\n",
    "print(np.mean(rmse))\n",
    "print(np.mean(mae))\n"
   ]
  },
  {
   "cell_type": "code",
   "execution_count": 93,
   "metadata": {},
   "outputs": [
    {
     "data": {
      "text/plain": [
       "Text(0.5, 0, 'K value')"
      ]
     },
     "execution_count": 93,
     "metadata": {},
     "output_type": "execute_result"
    },
    {
     "data": {
      "image/png": "[encoded data removed]",
      "text/plain": [
       "<Figure size 432x288 with 1 Axes>"
      ]
     },
     "metadata": {
      "needs_background": "light"
     },
     "output_type": "display_data"
    }
   ],
   "source": [
    "k_array = np.arange(2, 327)\n",
    "val_rmse_list, val_mae_list = [], []\n",
    "\n",
    "for k in k_array:\n",
    "    \n",
    "    filled, _ = compute_filled_matrix(train_pivot, k)\n",
    "    val_rmse, val_mae = eval(val, filled)\n",
    "\n",
    "    val_rmse_list.append(val_rmse)\n",
    "    val_mae_list.append(val_mae)\n",
    "\n",
    "plt.plot(k_array, val_rmse_list, label = 'Val RMSE')\n",
    "plt.plot(k_array, val_mae_list, '--', label = 'Val MAE')\n",
    "plt.legend(loc = 1)\n",
    "plt.title('Error vs. K')\n",
    "plt.ylabel('Error')\n",
    "plt.xlabel('K value')"
   ]
  },
  {
   "cell_type": "code",
   "execution_count": 193,
   "metadata": {},
   "outputs": [
    {
     "name": "stdout",
     "output_type": "stream",
     "text": [
      "0.783816934009739\n",
      "0.6404189186865243\n"
     ]
    }
   ],
   "source": [
    "## all users \n",
    "filled_200, _ = compute_filled_matrix(train_pivot, 50)\n",
    "val_rmse, val_mae = eval(val, filled_200)\n",
    "print(np.mean(val_rmse))\n",
    "print(np.mean(val_mae))"
   ]
  },
  {
   "attachments": {},
   "cell_type": "markdown",
   "metadata": {},
   "source": [
    "We beat both baselines!! I want to explicitly include information from other users as well. Lets go back to our approach to average the most similar users"
   ]
  },
  {
   "cell_type": "code",
   "execution_count": 209,
   "metadata": {},
   "outputs": [],
   "source": [
    "def evaluateCosRecommendation(filled_df, split_df, user= '5tXRxr4T24Awl7vjyCvIcQ', avg_user = 2): \n",
    "    \n",
    "    ordered = find_sim_users(filled_df, user)\n",
    "    top5 = ordered[:avg_user].index.to_list()\n",
    "    sim_users = filled_df[split_df.columns]\n",
    "    sim_users = sim_users.loc[sim_users.index.isin(top5)]\n",
    "    avg_ratings = pd.DataFrame(sim_users.mean(axis=0)).T\n",
    "    user_of_interest = split_df.loc[split_df.index==user]\n",
    "\n",
    "    mask = user_of_interest.notna()\n",
    "    preds = avg_ratings.values[mask]\n",
    "    gt = user_of_interest.values[mask]\n",
    "\n",
    "    rmse = mean_squared_error(gt, preds, squared=False)\n",
    "    mae = mean_absolute_error(gt, preds)\n",
    "\n",
    "    return rmse, mae\n",
    "\n",
    "def evaluateRecommendation(filled_df, U_df, split_df, user= '5tXRxr4T24Awl7vjyCvIcQ', avg_user = 2): \n",
    "    \n",
    "    ordered = find_sim_users(U_df, user)\n",
    "    top5 = ordered[:avg_user].index.to_list()\n",
    "    #print(top5)\n",
    "    sim_users = filled_df[split_df.columns]\n",
    "    sim_users = sim_users.loc[sim_users.index.isin(top5)]\n",
    "    avg_ratings = pd.DataFrame(sim_users.mean(axis=0)).T\n",
    "    user_of_interest = split_df.loc[split_df.index==user]\n",
    "\n",
    "    mask = user_of_interest.notna()\n",
    "    preds = avg_ratings.values[mask]\n",
    "    gt = user_of_interest.values[mask]\n",
    "\n",
    "    rmse = mean_squared_error(gt, preds, squared=False)\n",
    "    mae = mean_absolute_error(gt, preds)\n",
    "\n",
    "    return rmse, mae\n",
    "\n",
    "def find_sim_users(filled_df, user):\n",
    "    \"\"\"\n",
    "    Takes in the SVD array and the user of interest for whom we want\n",
    "    to make recommendations \n",
    "    \"\"\"\n",
    "    # Normalize the reconstructed matrix \n",
    "    avg_ratings = filled_df.mean(axis=1)\n",
    "    user_ratings_centered = filled_df.sub(avg_ratings, axis=0)\n",
    "    similarities = cosine_similarity(user_ratings_centered)\n",
    "    cosine_similarity_df = pd.DataFrame(similarities, index=user_ratings_centered.index, columns=user_ratings_centered.index)\n",
    "    #cosine_similarity_df.head()\n",
    "\n",
    "    # find the most similar users and return a sorted series \n",
    "    cosine_similarity_series = cosine_similarity_df.loc[user]\n",
    "    ordered_similarities = cosine_similarity_series.sort_values(ascending=False)\n",
    "    #print(ordered_similarities)\n",
    "\n",
    "    return ordered_similarities"
   ]
  },
  {
   "cell_type": "code",
   "execution_count": 195,
   "metadata": {},
   "outputs": [
    {
     "name": "stdout",
     "output_type": "stream",
     "text": [
      "0.5245323537500373\n",
      "0.39544345176054296\n"
     ]
    }
   ],
   "source": [
    "# for a single user \n",
    "filled_200, U = compute_filled_matrix(train_pivot, k_val=50)\n",
    "U = pd.DataFrame(U, index=train_pivot.index)\n",
    "val_rec_rmse, val_rec_mae = evaluateRecommendation(filled_200, U, val_pivot)\n",
    "print(val_rec_rmse)\n",
    "print(val_rec_mae)"
   ]
  },
  {
   "cell_type": "code",
   "execution_count": 196,
   "metadata": {},
   "outputs": [
    {
     "name": "stdout",
     "output_type": "stream",
     "text": [
      "Average mean squared error:  0.85655\n",
      "Average mean absolute error:  0.67309\n"
     ]
    }
   ],
   "source": [
    "rmse = []\n",
    "mae = []\n",
    "users_of_interest = val_pivot.index.values\n",
    "for user_id in users_of_interest:\n",
    "    user_rmse, user_mae = evaluateRecommendation(filled_200, U, val_pivot, user_id)\n",
    "    rmse.append(user_rmse)\n",
    "    mae.append(user_mae)\n",
    "\n",
    "print('Average mean squared error: ', np.round(np.mean(rmse),5))\n",
    "print('Average mean absolute error: ', np.round(np.mean(mae),5))"
   ]
  },
  {
   "cell_type": "code",
   "execution_count": 98,
   "metadata": {},
   "outputs": [
    {
     "data": {
      "text/plain": [
       "Text(0.5, 0, 'K value')"
      ]
     },
     "execution_count": 98,
     "metadata": {},
     "output_type": "execute_result"
    },
    {
     "data": {
      "image/png": "[encoded data removed]",
      "text/plain": [
       "<Figure size 432x288 with 1 Axes>"
      ]
     },
     "metadata": {
      "needs_background": "light"
     },
     "output_type": "display_data"
    }
   ],
   "source": [
    "k_array = np.arange(2, 327)\n",
    "val_rmse_list, val_mae_list = [], []\n",
    "\n",
    "for k in k_array:\n",
    "    \n",
    "    filled, U = compute_filled_matrix(train_pivot, k)\n",
    "    U = pd.DataFrame(U, index=train_pivot.index)\n",
    "    rmse = []\n",
    "    mae = []\n",
    "    users_of_interest = val_pivot.index.values\n",
    "    for user in users_of_interest:\n",
    "        user_rmse, user_mae = evaluateRecommendation(filled, U, val_pivot, user)\n",
    "        rmse.append(user_rmse)\n",
    "        mae.append(user_mae)\n",
    "\n",
    "    val_rmse_list.append(np.mean(rmse))\n",
    "    val_mae_list.append(np.mean(mae))\n",
    "\n",
    "#plt.plot(k_array, train_rmse_list, label = 'Train RMSE')\n",
    "plt.plot(k_array, val_rmse_list, label = 'Val RMSE')\n",
    "#plt.plot(k_array, train_mae_list, label = 'Train MAE')\n",
    "plt.plot(k_array, val_mae_list, label = 'Val MAE')\n",
    "plt.legend(loc = 1)\n",
    "plt.title('Error vs. K')\n",
    "plt.ylabel('Error')\n",
    "plt.xlabel('K value')"
   ]
  },
  {
   "cell_type": "code",
   "execution_count": 99,
   "metadata": {},
   "outputs": [
    {
     "name": "stdout",
     "output_type": "stream",
     "text": [
      "Minimum RMSE on val: 0.7569774462765068, index: 228 \n",
      "Minimum MAE on val: 0.568329974606354, index: 224 \n",
      "K at minimum rmse index:  230\n",
      "K at minimum mae index:  226\n"
     ]
    }
   ],
   "source": [
    "print('Minimum RMSE on val: {}, index: {} '.format(min(val_rmse_list), val_rmse_list.index(min(val_rmse_list))))\n",
    "print('Minimum MAE on val: {}, index: {} '.format(min(val_mae_list), val_mae_list.index(min(val_mae_list))))\n",
    "print('K at minimum rmse index: ', k_array[val_rmse_list.index(min(val_rmse_list))])\n",
    "print('K at minimum mae index: ', k_array[val_mae_list.index(min(val_mae_list))])"
   ]
  },
  {
   "cell_type": "code",
   "execution_count": 198,
   "metadata": {},
   "outputs": [
    {
     "data": {
      "text/plain": [
       "Text(0.5, 0, 'K value')"
      ]
     },
     "execution_count": 198,
     "metadata": {},
     "output_type": "execute_result"
    },
    {
     "data": {
      "image/png": "[encoded data removed]",
      "text/plain": [
       "<Figure size 432x288 with 1 Axes>"
      ]
     },
     "metadata": {
      "needs_background": "light"
     },
     "output_type": "display_data"
    }
   ],
   "source": [
    "numb_users = np.arange(1, 11)\n",
    "val_rmse_list, val_mae_list = [], []\n",
    "filled, U = compute_filled_matrix(train_pivot, 50)\n",
    "U = pd.DataFrame(U, index=train_pivot.index)\n",
    "\n",
    "for i in numb_users:\n",
    "    \n",
    "    rmse = []\n",
    "    mae = []\n",
    "    users_of_interest = val_pivot.index.values\n",
    "    for user in users_of_interest:\n",
    "        user_rmse, user_mae = evaluateRecommendation(filled, U, val_pivot, user, avg_user= i)\n",
    "        rmse.append(user_rmse)\n",
    "        mae.append(user_mae)\n",
    "\n",
    "    val_rmse_list.append(np.mean(rmse))\n",
    "    val_mae_list.append(np.mean(mae))\n",
    "\n",
    "\n",
    "plt.plot(numb_users, val_rmse_list, label = 'Val RMSE')\n",
    "plt.plot(numb_users, val_mae_list, label = 'Val MAE')\n",
    "plt.legend(loc = 1)\n",
    "plt.title('Error vs. K')\n",
    "plt.ylabel('Error')\n",
    "plt.xlabel('K value')"
   ]
  },
  {
   "cell_type": "code",
   "execution_count": 102,
   "metadata": {},
   "outputs": [
    {
     "name": "stdout",
     "output_type": "stream",
     "text": [
      "Minimum RMSE on val: 0.6435933813437641, index: 0 \n",
      "Minimum MAE on val: 0.3683432815908142, index: 0 \n",
      "K at minimum rmse index:  1\n",
      "K at minimum mae index:  1\n"
     ]
    }
   ],
   "source": [
    "print('Minimum RMSE on val: {}, index: {} '.format(min(val_rmse_list), val_rmse_list.index(min(val_rmse_list))))\n",
    "print('Minimum MAE on val: {}, index: {} '.format(min(val_mae_list), val_mae_list.index(min(val_mae_list))))\n",
    "print('K at minimum rmse index: ', numb_users[val_rmse_list.index(min(val_rmse_list))])\n",
    "print('K at minimum mae index: ', numb_users[val_mae_list.index(min(val_mae_list))])"
   ]
  },
  {
   "attachments": {},
   "cell_type": "markdown",
   "metadata": {},
   "source": [
    "Using the SVD calculations gave us better results on the validation set than using similar users but let us evaluate both methonds on the test set"
   ]
  },
  {
   "attachments": {},
   "cell_type": "markdown",
   "metadata": {},
   "source": [
    "## Evaluating on Test"
   ]
  },
  {
   "cell_type": "code",
   "execution_count": 199,
   "metadata": {},
   "outputs": [
    {
     "name": "stdout",
     "output_type": "stream",
     "text": [
      "Average mean squared error:  0.91781\n",
      "Average mean absolute error:  0.93803\n"
     ]
    }
   ],
   "source": [
    "## using just SVD\n",
    "filled_200, _ = compute_filled_matrix(train_pivot, 50)\n",
    "test_rmse, test_mae = eval(test,filled_200)\n",
    "\n",
    "print('Average mean squared error: ', np.round(test_rmse,5))\n",
    "print('Average mean absolute error: ', np.round(test_mae,5))"
   ]
  },
  {
   "cell_type": "code",
   "execution_count": 200,
   "metadata": {},
   "outputs": [
    {
     "name": "stdout",
     "output_type": "stream",
     "text": [
      "Average mean squared error:  0.94189\n",
      "Average mean absolute error:  0.76648\n"
     ]
    }
   ],
   "source": [
    "filled_277, U = compute_filled_matrix(train_pivot, 50)\n",
    "U = pd.DataFrame(U, index=train_pivot.index)\n",
    "test_pivot = makePivot(test)\n",
    "rmse = []\n",
    "mae = []\n",
    "users_of_interest = test_pivot.index.values\n",
    "for user_id in users_of_interest:\n",
    "    user_rmse, user_mae = evaluateRecommendation(filled_277, U, test_pivot, user_id, avg_user=2)\n",
    "    rmse.append(user_rmse)\n",
    "    mae.append(user_mae)\n",
    "\n",
    "print('Average mean squared error: ', np.round(np.mean(rmse),5))\n",
    "print('Average mean absolute error: ', np.round(np.mean(mae),5))"
   ]
  },
  {
   "cell_type": "code",
   "execution_count": 205,
   "metadata": {},
   "outputs": [
    {
     "name": "stdout",
     "output_type": "stream",
     "text": [
      "Average mean squared error:  0.94085\n",
      "Average mean absolute error:  0.76397\n"
     ]
    }
   ],
   "source": [
    "filled_277, U = compute_filled_matrix(train_pivot, 50)\n",
    "U = pd.DataFrame(U, index=train_pivot.index)\n",
    "test_pivot = makePivot(test)\n",
    "rmse = []\n",
    "mae = []\n",
    "users_of_interest = test_pivot.index.values\n",
    "for user_id in users_of_interest:\n",
    "    user_rmse, user_mae = evaluateCosRecommendation(filled_277, test_pivot, user_id, avg_user=3)\n",
    "    rmse.append(user_rmse)\n",
    "    mae.append(user_mae)\n",
    "\n",
    "print('Average mean squared error: ', np.round(np.mean(rmse),5))\n",
    "print('Average mean absolute error: ', np.round(np.mean(mae),5))"
   ]
  },
  {
   "attachments": {},
   "cell_type": "markdown",
   "metadata": {},
   "source": [
    "Making recommendations based on similar users works better on the test set but we are only able to beat one baseline. Lets try a different way of finding similar users and see if that can improve perforance."
   ]
  },
  {
   "attachments": {},
   "cell_type": "markdown",
   "metadata": {},
   "source": [
    "## Incorporating Text Reviews"
   ]
  },
  {
   "attachments": {},
   "cell_type": "markdown",
   "metadata": {},
   "source": [
    "We have to first clean up the text data"
   ]
  },
  {
   "cell_type": "code",
   "execution_count": 55,
   "metadata": {},
   "outputs": [],
   "source": [
    "import re  # For preprocessing\n",
    "import spacy  # For preprocessing\n",
    "import unidecode\n"
   ]
  },
  {
   "cell_type": "code",
   "execution_count": 101,
   "metadata": {},
   "outputs": [
    {
     "data": {
      "text/html": [
       "<div>\n",
       "<style scoped>\n",
       "    .dataframe tbody tr th:only-of-type {\n",
       "        vertical-align: middle;\n",
       "    }\n",
       "\n",
       "    .dataframe tbody tr th {\n",
       "        vertical-align: top;\n",
       "    }\n",
       "\n",
       "    .dataframe thead th {\n",
       "        text-align: right;\n",
       "    }\n",
       "</style>\n",
       "<table border=\"1\" class=\"dataframe\">\n",
       "  <thead>\n",
       "    <tr style=\"text-align: right;\">\n",
       "      <th></th>\n",
       "      <th>review_id</th>\n",
       "      <th>user_id</th>\n",
       "      <th>business_id</th>\n",
       "      <th>stars</th>\n",
       "      <th>text</th>\n",
       "      <th>name</th>\n",
       "      <th>city</th>\n",
       "      <th>biz_stars</th>\n",
       "      <th>biz_review_count</th>\n",
       "      <th>categories</th>\n",
       "      <th>average_stars</th>\n",
       "    </tr>\n",
       "  </thead>\n",
       "  <tbody>\n",
       "    <tr>\n",
       "      <th>0</th>\n",
       "      <td>lDoxqlDKb4H7zpI_zJ01aA</td>\n",
       "      <td>Ye-9S8f2dt41UBfy4lXffA</td>\n",
       "      <td>W4ZEKkva9HpAdZG88juwyQ</td>\n",
       "      <td>2</td>\n",
       "      <td>The French bread is crusty an warm but... Ice ...</td>\n",
       "      <td>Mr. B's Bistro</td>\n",
       "      <td>New Orleans</td>\n",
       "      <td>4.0</td>\n",
       "      <td>2064</td>\n",
       "      <td>Bars, Breakfast &amp; Brunch, Restaurants, Barbequ...</td>\n",
       "      <td>3.98</td>\n",
       "    </tr>\n",
       "    <tr>\n",
       "      <th>1</th>\n",
       "      <td>uNnqb1qJxUDS4qrM_mZxtA</td>\n",
       "      <td>Ye-9S8f2dt41UBfy4lXffA</td>\n",
       "      <td>PzhPMkaNYiKDTHoTG0r8rw</td>\n",
       "      <td>5</td>\n",
       "      <td>Do I love this place? Pho sure! Phó Cam Ly is ...</td>\n",
       "      <td>Pho Cam Ly</td>\n",
       "      <td>New Orleans</td>\n",
       "      <td>4.5</td>\n",
       "      <td>178</td>\n",
       "      <td>Vietnamese, Restaurants</td>\n",
       "      <td>3.98</td>\n",
       "    </tr>\n",
       "    <tr>\n",
       "      <th>2</th>\n",
       "      <td>cA-WwCC7OFF6CreyTC_l2w</td>\n",
       "      <td>Ye-9S8f2dt41UBfy4lXffA</td>\n",
       "      <td>GBTPC53ZrG1ZBY3DT8Mbcw</td>\n",
       "      <td>5</td>\n",
       "      <td>We had the coffee, grillade &amp; grits ($15) and ...</td>\n",
       "      <td>Luke</td>\n",
       "      <td>New Orleans</td>\n",
       "      <td>4.0</td>\n",
       "      <td>4554</td>\n",
       "      <td>German, Restaurants, Seafood, Cocktail Bars, F...</td>\n",
       "      <td>3.98</td>\n",
       "    </tr>\n",
       "    <tr>\n",
       "      <th>3</th>\n",
       "      <td>lJpQrjnwqe9U3epf09FjcQ</td>\n",
       "      <td>Ye-9S8f2dt41UBfy4lXffA</td>\n",
       "      <td>GBTPC53ZrG1ZBY3DT8Mbcw</td>\n",
       "      <td>2</td>\n",
       "      <td>Lüke Restaurant is consistent with their food:...</td>\n",
       "      <td>Luke</td>\n",
       "      <td>New Orleans</td>\n",
       "      <td>4.0</td>\n",
       "      <td>4554</td>\n",
       "      <td>German, Restaurants, Seafood, Cocktail Bars, F...</td>\n",
       "      <td>3.98</td>\n",
       "    </tr>\n",
       "    <tr>\n",
       "      <th>4</th>\n",
       "      <td>F1Q-Jh0r42iJ5OFy5QKMBA</td>\n",
       "      <td>Ye-9S8f2dt41UBfy4lXffA</td>\n",
       "      <td>OINbC0rpDVJ5bfxt3LO9fw</td>\n",
       "      <td>5</td>\n",
       "      <td>If you go during buffet time and get anything ...</td>\n",
       "      <td>Li'l Dizzy's Cafe</td>\n",
       "      <td>New Orleans</td>\n",
       "      <td>4.5</td>\n",
       "      <td>651</td>\n",
       "      <td>Restaurants, Cajun/Creole</td>\n",
       "      <td>3.98</td>\n",
       "    </tr>\n",
       "  </tbody>\n",
       "</table>\n",
       "</div>"
      ],
      "text/plain": [
       "                review_id                 user_id             business_id  \\\n",
       "0  lDoxqlDKb4H7zpI_zJ01aA  Ye-9S8f2dt41UBfy4lXffA  W4ZEKkva9HpAdZG88juwyQ   \n",
       "1  uNnqb1qJxUDS4qrM_mZxtA  Ye-9S8f2dt41UBfy4lXffA  PzhPMkaNYiKDTHoTG0r8rw   \n",
       "2  cA-WwCC7OFF6CreyTC_l2w  Ye-9S8f2dt41UBfy4lXffA  GBTPC53ZrG1ZBY3DT8Mbcw   \n",
       "3  lJpQrjnwqe9U3epf09FjcQ  Ye-9S8f2dt41UBfy4lXffA  GBTPC53ZrG1ZBY3DT8Mbcw   \n",
       "4  F1Q-Jh0r42iJ5OFy5QKMBA  Ye-9S8f2dt41UBfy4lXffA  OINbC0rpDVJ5bfxt3LO9fw   \n",
       "\n",
       "   stars                                               text  \\\n",
       "0      2  The French bread is crusty an warm but... Ice ...   \n",
       "1      5  Do I love this place? Pho sure! Phó Cam Ly is ...   \n",
       "2      5  We had the coffee, grillade & grits ($15) and ...   \n",
       "3      2  Lüke Restaurant is consistent with their food:...   \n",
       "4      5  If you go during buffet time and get anything ...   \n",
       "\n",
       "                name         city  biz_stars  biz_review_count  \\\n",
       "0     Mr. B's Bistro  New Orleans        4.0              2064   \n",
       "1         Pho Cam Ly  New Orleans        4.5               178   \n",
       "2               Luke  New Orleans        4.0              4554   \n",
       "3               Luke  New Orleans        4.0              4554   \n",
       "4  Li'l Dizzy's Cafe  New Orleans        4.5               651   \n",
       "\n",
       "                                          categories  average_stars  \n",
       "0  Bars, Breakfast & Brunch, Restaurants, Barbequ...           3.98  \n",
       "1                            Vietnamese, Restaurants           3.98  \n",
       "2  German, Restaurants, Seafood, Cocktail Bars, F...           3.98  \n",
       "3  German, Restaurants, Seafood, Cocktail Bars, F...           3.98  \n",
       "4                          Restaurants, Cajun/Creole           3.98  "
      ]
     },
     "execution_count": 101,
     "metadata": {},
     "output_type": "execute_result"
    }
   ],
   "source": [
    "filtered_nola.head()"
   ]
  },
  {
   "attachments": {},
   "cell_type": "markdown",
   "metadata": {},
   "source": [
    "### Data Cleaning"
   ]
  },
  {
   "cell_type": "code",
   "execution_count": 111,
   "metadata": {},
   "outputs": [
    {
     "name": "stdout",
     "output_type": "stream",
     "text": [
      "Review 1:\n",
      " Saba is a family favorite. We've been here many times. The star of the show has always been the hummus and pita bread. I especially love the blue crab hummus. The entrees are great and we often order a few to share. Last time I went, we got a few of their nonalcoholic drinks and they were so refreshing in the sun. The service is always stellar. This time we went, my partner had a hurt leg and they were great and accommodating. \n",
      "\n",
      "They have covered outdoor seating.\n",
      "Review 2:\n",
      " I always recommend French Truck to folks. It is a solid place with good coffee and food and a great atmosphere, what more could you want. Their outdoor seating is fantastic and the best on a beautiful day. The service is always great and fast. \n",
      "\n",
      "They are also very good about social distancing.\n",
      "Review 3:\n",
      " I loved my experience here!! The service was great and fast. The tacos were sooo good and well priced (my friends even ordered seconds). The fun drinks we got (unfortunately I can't remember the names) were delicious on a warm day! \n",
      "\n",
      "I love the seating area. It is a patio type area with lots of picnic benches and pretty plants. The atmosphere was on point for a weekend lunch. \n",
      "\n",
      "I will definitely be coming here again and bringing all my friends!\n",
      "Review 4:\n",
      " We sat inside and it was a nice, intimate setting. We liked the atmosphere, and the staff was great. The food was a little underwhelming. We had the Kush Kush, biscuits and gravy, chicken sandwich and pork shoulder Benedict. The food wasn't bad by all means, but didn't excite us. We did enjoy the Kush Kush and felt like that was something we haven't seen or had before. Worth trying and see for yourself!\n",
      "Review 5:\n",
      " I got take out from here recently and it was fantastic!! The Mac and cheese was oh so flavorful, not your basic Mac and cheese. The fried chicken was boneless and was a slab of deliciousness. There was flavor and good breading texture. The fries had ranch and candied bacon. Enough said. Super tasty and full of flavor place.\n"
     ]
    }
   ],
   "source": [
    "for index,text in enumerate(filtered_nola['text'][-5:]):\n",
    "  print('Review %d:\\n'%(index+1),text)\n"
   ]
  },
  {
   "cell_type": "code",
   "execution_count": 103,
   "metadata": {},
   "outputs": [],
   "source": [
    "## Expanding Contractions \n",
    "contractions_dict = { \"ain't\": \"are not\",\"'s\":\" is\",\"aren't\": \"are not\",\n",
    "                     \"can't\": \"cannot\",\"can't've\": \"cannot have\",\n",
    "                     \"'cause\": \"because\",\"could've\": \"could have\",\"couldn't\": \"could not\",\n",
    "                     \"couldn't've\": \"could not have\", \"didn't\": \"did not\",\"doesn't\": \"does not\",\n",
    "                     \"don't\": \"do not\",\"hadn't\": \"had not\",\"hadn't've\": \"had not have\",\n",
    "                     \"hasn't\": \"has not\",\"haven't\": \"have not\",\"he'd\": \"he would\",\n",
    "                     \"he'd've\": \"he would have\",\"he'll\": \"he will\", \"he'll've\": \"he will have\",\n",
    "                     \"how'd\": \"how did\",\"how'd'y\": \"how do you\",\"how'll\": \"how will\",\n",
    "                     \"I'd\": \"I would\", \"I'd've\": \"I would have\",\"I'll\": \"I will\",\n",
    "                     \"I'll've\": \"I will have\",\"I'm\": \"I am\",\"I've\": \"I have\", \"isn't\": \"is not\",\n",
    "                     \"it'd\": \"it would\",\"it'd've\": \"it would have\",\"it'll\": \"it will\",\n",
    "                     \"it'll've\": \"it will have\", \"let's\": \"let us\",\"ma'am\": \"madam\",\n",
    "                     \"mayn't\": \"may not\",\"might've\": \"might have\",\"mightn't\": \"might not\", \n",
    "                     \"mightn't've\": \"might not have\",\"must've\": \"must have\",\"mustn't\": \"must not\",\n",
    "                     \"mustn't've\": \"must not have\", \"needn't\": \"need not\",\n",
    "                     \"needn't've\": \"need not have\",\"o'clock\": \"of the clock\",\"oughtn't\": \"ought not\",\n",
    "                     \"oughtn't've\": \"ought not have\",\"shan't\": \"shall not\",\"sha'n't\": \"shall not\",\n",
    "                     \"shan't've\": \"shall not have\",\"she'd\": \"she would\",\"she'd've\": \"she would have\",\n",
    "                     \"she'll\": \"she will\", \"she'll've\": \"she will have\",\"should've\": \"should have\",\n",
    "                     \"shouldn't\": \"should not\", \"shouldn't've\": \"should not have\",\"so've\": \"so have\",\n",
    "                     \"that'd\": \"that would\",\"that'd've\": \"that would have\", \"there'd\": \"there would\",\n",
    "                     \"there'd've\": \"there would have\", \"they'd\": \"they would\",\n",
    "                     \"they'd've\": \"they would have\",\"they'll\": \"they will\",\n",
    "                     \"they'll've\": \"they will have\", \"they're\": \"they are\",\"they've\": \"they have\",\n",
    "                     \"to've\": \"to have\",\"wasn't\": \"was not\",\"we'd\": \"we would\",\n",
    "                     \"we'd've\": \"we would have\",\"we'll\": \"we will\",\"we'll've\": \"we will have\",\n",
    "                     \"we're\": \"we are\",\"we've\": \"we have\", \"weren't\": \"were not\",\"what'll\": \"what will\",\n",
    "                     \"what'll've\": \"what will have\",\"what're\": \"what are\", \"what've\": \"what have\",\n",
    "                     \"when've\": \"when have\",\"where'd\": \"where did\", \"where've\": \"where have\",\n",
    "                     \"who'll\": \"who will\",\"who'll've\": \"who will have\",\"who've\": \"who have\",\n",
    "                     \"why've\": \"why have\",\"will've\": \"will have\",\"won't\": \"will not\",\n",
    "                     \"won't've\": \"will not have\", \"would've\": \"would have\",\"wouldn't\": \"would not\",\n",
    "                     \"wouldn't've\": \"would not have\",\"y'all\": \"you all\", \"y'all'd\": \"you all would\",\n",
    "                     \"y'all'd've\": \"you all would have\",\"y'all're\": \"you all are\",\n",
    "                     \"y'all've\": \"you all have\", \"you'd\": \"you would\",\"you'd've\": \"you would have\",\n",
    "                     \"you'll\": \"you will\",\"you'll've\": \"you will have\", \"you're\": \"you are\",\n",
    "                     \"you've\": \"you have\"}\n",
    "\n",
    "contractions_re=re.compile('(%s)' % '|'.join(contractions_dict.keys()))\n",
    "\n",
    "\n",
    "def expand_contractions(text,contractions_dict=contractions_dict):\n",
    "  def replace(match):\n",
    "    return contractions_dict[match.group(0)]\n",
    "  return contractions_re.sub(replace, text)"
   ]
  },
  {
   "cell_type": "code",
   "execution_count": 104,
   "metadata": {},
   "outputs": [],
   "source": [
    "# expanding contractions \n",
    "filtered_nola['cleaned'] = filtered_nola['text'].apply(lambda x:expand_contractions(x))"
   ]
  },
  {
   "cell_type": "code",
   "execution_count": 106,
   "metadata": {},
   "outputs": [],
   "source": [
    "## Making all words lowercase, removing punctuation, URLs, and white spaces \n",
    "filtered_nola['cleaned'] = filtered_nola['cleaned'].apply(lambda x: re.sub(r'https?://\\S+|www\\.\\S+', ' ', x))\n",
    "filtered_nola['cleaned'] = filtered_nola['cleaned'].str.lower().apply(lambda x: re.sub(r\"[\\d\\n\\-\\./]+\", ' ', x))\n",
    "filtered_nola['cleaned'] = filtered_nola['cleaned'].apply(lambda x: re.sub(r'[^\\w\\s]', '', x))"
   ]
  },
  {
   "cell_type": "code",
   "execution_count": 125,
   "metadata": {},
   "outputs": [],
   "source": [
    "filtered_nola['cleaned'] = filtered_nola['cleaned'].replace(' ', np.nan)\n",
    "filtered_nola['cleaned'] = filtered_nola['cleaned'].apply(lambda x: unidecode.unidecode(x))\n",
    "filtered_nola['cleaned'] = filtered_nola['cleaned'].apply(lambda x: re.sub(' +',' ',x))"
   ]
  },
  {
   "cell_type": "code",
   "execution_count": 121,
   "metadata": {},
   "outputs": [
    {
     "data": {
      "text/plain": [
       "review_id           0\n",
       "user_id             0\n",
       "business_id         0\n",
       "stars               0\n",
       "text                0\n",
       "name                0\n",
       "city                0\n",
       "biz_stars           0\n",
       "biz_review_count    0\n",
       "categories          0\n",
       "average_stars       0\n",
       "cleaned             0\n",
       "lemmatized          0\n",
       "dtype: int64"
      ]
     },
     "execution_count": 121,
     "metadata": {},
     "output_type": "execute_result"
    }
   ],
   "source": [
    "filtered_nola.isna().sum()"
   ]
  },
  {
   "cell_type": "code",
   "execution_count": 127,
   "metadata": {},
   "outputs": [
    {
     "name": "stdout",
     "output_type": "stream",
     "text": [
      "Review 1:\n",
      " saba is a family favorite weve been here many times the star of the show has always been the hummus and pita bread i especially love the blue crab hummus the entrees are great and we often order a few to share last time i went we got a few of their nonalcoholic drinks and they were so refreshing in the sun the service is always stellar this time we went my partner had a hurt leg and they were great and accommodating they have covered outdoor seating \n",
      "Review 2:\n",
      " i always recommend french truck to folks it is a solid place with good coffee and food and a great atmosphere what more could you want their outdoor seating is fantastic and the best on a beautiful day the service is always great and fast they are also very good about social distancing \n",
      "Review 3:\n",
      " i loved my experience here the service was great and fast the tacos were sooo good and well priced my friends even ordered seconds the fun drinks we got unfortunately i cannot remember the names were delicious on a warm day i love the seating area it is a patio type area with lots of picnic benches and pretty plants the atmosphere was on point for a weekend lunch i will definitely be coming here again and bringing all my friends\n",
      "Review 4:\n",
      " we sat inside and it was a nice intimate setting we liked the atmosphere and the staff was great the food was a little underwhelming we had the kush kush biscuits and gravy chicken sandwich and pork shoulder benedict the food was not bad by all means but did not excite us we did enjoy the kush kush and felt like that was something we have not seen or had before worth trying and see for yourself\n",
      "Review 5:\n",
      " i got take out from here recently and it was fantastic the mac and cheese was oh so flavorful not your basic mac and cheese the fried chicken was boneless and was a slab of deliciousness there was flavor and good breading texture the fries had ranch and candied bacon enough said super tasty and full of flavor place \n"
     ]
    }
   ],
   "source": [
    "for index,text in enumerate(filtered_nola['cleaned'][-5:]):\n",
    "  print('Review %d:\\n'%(index+1),text)\n"
   ]
  },
  {
   "attachments": {},
   "cell_type": "markdown",
   "metadata": {},
   "source": [
    "Data preprocessing"
   ]
  },
  {
   "cell_type": "code",
   "execution_count": 134,
   "metadata": {},
   "outputs": [],
   "source": [
    "nlp = spacy.load('en_core_web_sm', disable=['ner', 'parser'])\n",
    "nlp.Defaults.stop_words |= {'food', 'service', 'drinks', 'restaurant', 'come', 'place', 'get', 'go', 'just', 'come'}"
   ]
  },
  {
   "cell_type": "code",
   "execution_count": 135,
   "metadata": {},
   "outputs": [],
   "source": [
    "texts = filtered_nola['cleaned'].tolist()\n",
    "lemmatized_texts = []\n",
    "for doc in nlp.pipe(texts, batch_size=1000, n_process=4):\n",
    "    lemmatized_texts.append(' '.join([token.lemma_ for token in doc if (token.is_stop==False)]))"
   ]
  },
  {
   "cell_type": "code",
   "execution_count": 136,
   "metadata": {},
   "outputs": [],
   "source": [
    "filtered_nola['lemmatized'] = lemmatized_texts"
   ]
  },
  {
   "cell_type": "code",
   "execution_count": 137,
   "metadata": {},
   "outputs": [
    {
     "data": {
      "text/html": [
       "<div>\n",
       "<style scoped>\n",
       "    .dataframe tbody tr th:only-of-type {\n",
       "        vertical-align: middle;\n",
       "    }\n",
       "\n",
       "    .dataframe tbody tr th {\n",
       "        vertical-align: top;\n",
       "    }\n",
       "\n",
       "    .dataframe thead th {\n",
       "        text-align: right;\n",
       "    }\n",
       "</style>\n",
       "<table border=\"1\" class=\"dataframe\">\n",
       "  <thead>\n",
       "    <tr style=\"text-align: right;\">\n",
       "      <th></th>\n",
       "      <th>review_id</th>\n",
       "      <th>user_id</th>\n",
       "      <th>business_id</th>\n",
       "      <th>stars</th>\n",
       "      <th>text</th>\n",
       "      <th>name</th>\n",
       "      <th>city</th>\n",
       "      <th>biz_stars</th>\n",
       "      <th>biz_review_count</th>\n",
       "      <th>categories</th>\n",
       "      <th>average_stars</th>\n",
       "      <th>cleaned</th>\n",
       "      <th>lemmatized</th>\n",
       "    </tr>\n",
       "  </thead>\n",
       "  <tbody>\n",
       "    <tr>\n",
       "      <th>0</th>\n",
       "      <td>lDoxqlDKb4H7zpI_zJ01aA</td>\n",
       "      <td>Ye-9S8f2dt41UBfy4lXffA</td>\n",
       "      <td>W4ZEKkva9HpAdZG88juwyQ</td>\n",
       "      <td>2</td>\n",
       "      <td>The French bread is crusty an warm but... Ice ...</td>\n",
       "      <td>Mr. B's Bistro</td>\n",
       "      <td>New Orleans</td>\n",
       "      <td>4.0</td>\n",
       "      <td>2064</td>\n",
       "      <td>Bars, Breakfast &amp; Brunch, Restaurants, Barbequ...</td>\n",
       "      <td>3.98</td>\n",
       "      <td>the french bread is crusty an warm but ice col...</td>\n",
       "      <td>french bread crusty warm ice cold butter serio...</td>\n",
       "    </tr>\n",
       "    <tr>\n",
       "      <th>1</th>\n",
       "      <td>uNnqb1qJxUDS4qrM_mZxtA</td>\n",
       "      <td>Ye-9S8f2dt41UBfy4lXffA</td>\n",
       "      <td>PzhPMkaNYiKDTHoTG0r8rw</td>\n",
       "      <td>5</td>\n",
       "      <td>Do I love this place? Pho sure! Phó Cam Ly is ...</td>\n",
       "      <td>Pho Cam Ly</td>\n",
       "      <td>New Orleans</td>\n",
       "      <td>4.5</td>\n",
       "      <td>178</td>\n",
       "      <td>Vietnamese, Restaurants</td>\n",
       "      <td>3.98</td>\n",
       "      <td>do i love this place pho sure pho cam ly is a ...</td>\n",
       "      <td>love pho sure pho cam ly great vietnamese neig...</td>\n",
       "    </tr>\n",
       "    <tr>\n",
       "      <th>2</th>\n",
       "      <td>cA-WwCC7OFF6CreyTC_l2w</td>\n",
       "      <td>Ye-9S8f2dt41UBfy4lXffA</td>\n",
       "      <td>GBTPC53ZrG1ZBY3DT8Mbcw</td>\n",
       "      <td>5</td>\n",
       "      <td>We had the coffee, grillade &amp; grits ($15) and ...</td>\n",
       "      <td>Luke</td>\n",
       "      <td>New Orleans</td>\n",
       "      <td>4.0</td>\n",
       "      <td>4554</td>\n",
       "      <td>German, Restaurants, Seafood, Cocktail Bars, F...</td>\n",
       "      <td>3.98</td>\n",
       "      <td>we had the coffee grillade grits and shrimp gr...</td>\n",
       "      <td>coffee grillade grit shrimp grit plus add crab...</td>\n",
       "    </tr>\n",
       "    <tr>\n",
       "      <th>3</th>\n",
       "      <td>lJpQrjnwqe9U3epf09FjcQ</td>\n",
       "      <td>Ye-9S8f2dt41UBfy4lXffA</td>\n",
       "      <td>GBTPC53ZrG1ZBY3DT8Mbcw</td>\n",
       "      <td>2</td>\n",
       "      <td>Lüke Restaurant is consistent with their food:...</td>\n",
       "      <td>Luke</td>\n",
       "      <td>New Orleans</td>\n",
       "      <td>4.0</td>\n",
       "      <td>4554</td>\n",
       "      <td>German, Restaurants, Seafood, Cocktail Bars, F...</td>\n",
       "      <td>3.98</td>\n",
       "      <td>luke restaurant is consistent with their food ...</td>\n",
       "      <td>luke consistent fresh prepare request correct ...</td>\n",
       "    </tr>\n",
       "    <tr>\n",
       "      <th>4</th>\n",
       "      <td>F1Q-Jh0r42iJ5OFy5QKMBA</td>\n",
       "      <td>Ye-9S8f2dt41UBfy4lXffA</td>\n",
       "      <td>OINbC0rpDVJ5bfxt3LO9fw</td>\n",
       "      <td>5</td>\n",
       "      <td>If you go during buffet time and get anything ...</td>\n",
       "      <td>Li'l Dizzy's Cafe</td>\n",
       "      <td>New Orleans</td>\n",
       "      <td>4.5</td>\n",
       "      <td>651</td>\n",
       "      <td>Restaurants, Cajun/Creole</td>\n",
       "      <td>3.98</td>\n",
       "      <td>if you go during buffet time and get anything ...</td>\n",
       "      <td>buffet time buffet miss good opportunity true ...</td>\n",
       "    </tr>\n",
       "  </tbody>\n",
       "</table>\n",
       "</div>"
      ],
      "text/plain": [
       "                review_id                 user_id             business_id  \\\n",
       "0  lDoxqlDKb4H7zpI_zJ01aA  Ye-9S8f2dt41UBfy4lXffA  W4ZEKkva9HpAdZG88juwyQ   \n",
       "1  uNnqb1qJxUDS4qrM_mZxtA  Ye-9S8f2dt41UBfy4lXffA  PzhPMkaNYiKDTHoTG0r8rw   \n",
       "2  cA-WwCC7OFF6CreyTC_l2w  Ye-9S8f2dt41UBfy4lXffA  GBTPC53ZrG1ZBY3DT8Mbcw   \n",
       "3  lJpQrjnwqe9U3epf09FjcQ  Ye-9S8f2dt41UBfy4lXffA  GBTPC53ZrG1ZBY3DT8Mbcw   \n",
       "4  F1Q-Jh0r42iJ5OFy5QKMBA  Ye-9S8f2dt41UBfy4lXffA  OINbC0rpDVJ5bfxt3LO9fw   \n",
       "\n",
       "   stars                                               text  \\\n",
       "0      2  The French bread is crusty an warm but... Ice ...   \n",
       "1      5  Do I love this place? Pho sure! Phó Cam Ly is ...   \n",
       "2      5  We had the coffee, grillade & grits ($15) and ...   \n",
       "3      2  Lüke Restaurant is consistent with their food:...   \n",
       "4      5  If you go during buffet time and get anything ...   \n",
       "\n",
       "                name         city  biz_stars  biz_review_count  \\\n",
       "0     Mr. B's Bistro  New Orleans        4.0              2064   \n",
       "1         Pho Cam Ly  New Orleans        4.5               178   \n",
       "2               Luke  New Orleans        4.0              4554   \n",
       "3               Luke  New Orleans        4.0              4554   \n",
       "4  Li'l Dizzy's Cafe  New Orleans        4.5               651   \n",
       "\n",
       "                                          categories  average_stars  \\\n",
       "0  Bars, Breakfast & Brunch, Restaurants, Barbequ...           3.98   \n",
       "1                            Vietnamese, Restaurants           3.98   \n",
       "2  German, Restaurants, Seafood, Cocktail Bars, F...           3.98   \n",
       "3  German, Restaurants, Seafood, Cocktail Bars, F...           3.98   \n",
       "4                          Restaurants, Cajun/Creole           3.98   \n",
       "\n",
       "                                             cleaned  \\\n",
       "0  the french bread is crusty an warm but ice col...   \n",
       "1  do i love this place pho sure pho cam ly is a ...   \n",
       "2  we had the coffee grillade grits and shrimp gr...   \n",
       "3  luke restaurant is consistent with their food ...   \n",
       "4  if you go during buffet time and get anything ...   \n",
       "\n",
       "                                          lemmatized  \n",
       "0  french bread crusty warm ice cold butter serio...  \n",
       "1  love pho sure pho cam ly great vietnamese neig...  \n",
       "2  coffee grillade grit shrimp grit plus add crab...  \n",
       "3  luke consistent fresh prepare request correct ...  \n",
       "4  buffet time buffet miss good opportunity true ...  "
      ]
     },
     "execution_count": 137,
     "metadata": {},
     "output_type": "execute_result"
    }
   ],
   "source": [
    "filtered_nola.head()"
   ]
  },
  {
   "cell_type": "code",
   "execution_count": 147,
   "metadata": {},
   "outputs": [],
   "source": [
    "#filtered_nola.to_csv('./cleaned_revs.csv')"
   ]
  },
  {
   "cell_type": "code",
   "execution_count": 56,
   "metadata": {},
   "outputs": [],
   "source": [
    "lemma_reviews = pd.read_csv('cleaned_revs.csv')"
   ]
  },
  {
   "cell_type": "code",
   "execution_count": 57,
   "metadata": {},
   "outputs": [],
   "source": [
    "train_reviews = lemma_reviews.loc[lemma_reviews['review_id'].isin(train['review_id'])]"
   ]
  },
  {
   "attachments": {},
   "cell_type": "markdown",
   "metadata": {},
   "source": [
    "### Text PreProcessing "
   ]
  },
  {
   "cell_type": "code",
   "execution_count": 58,
   "metadata": {},
   "outputs": [
    {
     "data": {
      "text/html": [
       "<div>\n",
       "<style scoped>\n",
       "    .dataframe tbody tr th:only-of-type {\n",
       "        vertical-align: middle;\n",
       "    }\n",
       "\n",
       "    .dataframe tbody tr th {\n",
       "        vertical-align: top;\n",
       "    }\n",
       "\n",
       "    .dataframe thead th {\n",
       "        text-align: right;\n",
       "    }\n",
       "</style>\n",
       "<table border=\"1\" class=\"dataframe\">\n",
       "  <thead>\n",
       "    <tr style=\"text-align: right;\">\n",
       "      <th></th>\n",
       "      <th>user_id</th>\n",
       "      <th>lemmatized</th>\n",
       "    </tr>\n",
       "  </thead>\n",
       "  <tbody>\n",
       "    <tr>\n",
       "      <th>0</th>\n",
       "      <td>-MRD72DXnVgjkM1AVFp7Nw</td>\n",
       "      <td>seriously negative pho cam ly highly addictive...</td>\n",
       "    </tr>\n",
       "    <tr>\n",
       "      <th>1</th>\n",
       "      <td>-SO_K8oLVH_9J23z2MtjGg</td>\n",
       "      <td>short good tacos delicious top blend delicious...</td>\n",
       "    </tr>\n",
       "    <tr>\n",
       "      <th>2</th>\n",
       "      <td>-Tg5YTEMbnYw3fQN99xKCQ</td>\n",
       "      <td>breakfast ok need work grit need lot salt butt...</td>\n",
       "    </tr>\n",
       "    <tr>\n",
       "      <th>3</th>\n",
       "      <td>-V7frksbFjKQYVhrPnnlPw</td>\n",
       "      <td>come work lunch softshell crab blt come toast ...</td>\n",
       "    </tr>\n",
       "    <tr>\n",
       "      <th>4</th>\n",
       "      <td>-_Y8Mal7S750TsB6yMMDHA</td>\n",
       "      <td>get burger abd awesome fry delicious pretty qu...</td>\n",
       "    </tr>\n",
       "  </tbody>\n",
       "</table>\n",
       "</div>"
      ],
      "text/plain": [
       "                  user_id                                         lemmatized\n",
       "0  -MRD72DXnVgjkM1AVFp7Nw  seriously negative pho cam ly highly addictive...\n",
       "1  -SO_K8oLVH_9J23z2MtjGg  short good tacos delicious top blend delicious...\n",
       "2  -Tg5YTEMbnYw3fQN99xKCQ  breakfast ok need work grit need lot salt butt...\n",
       "3  -V7frksbFjKQYVhrPnnlPw  come work lunch softshell crab blt come toast ...\n",
       "4  -_Y8Mal7S750TsB6yMMDHA  get burger abd awesome fry delicious pretty qu..."
      ]
     },
     "execution_count": 58,
     "metadata": {},
     "output_type": "execute_result"
    }
   ],
   "source": [
    "# Aggregates all of the reviews for a single user\n",
    "df_grouped=lemma_reviews[['user_id','lemmatized']].astype(str).groupby(by='user_id')['lemmatized'].apply(' '.join).reset_index()\n",
    "df_grouped.head()"
   ]
  },
  {
   "cell_type": "code",
   "execution_count": 59,
   "metadata": {},
   "outputs": [],
   "source": [
    "def preprocess(text):\n",
    "    result = []\n",
    "    for token in gensim.utils.simple_preprocess(text):\n",
    "        if token not in gensim.parsing.preprocessing.STOPWORDS and len(token) > 3:\n",
    "            result.append(token)\n",
    "    return result\n",
    "\n",
    "\n",
    "tokenized_list = df_grouped['lemmatized'].apply(lambda x: preprocess(x))\n",
    "df_grouped['tokenized'] = tokenized_list\n",
    "dictionary = gensim.corpora.Dictionary(df_grouped['tokenized'])\n",
    "dictionary.filter_extremes(no_below=15, no_above=0.25, keep_n=100000)"
   ]
  },
  {
   "cell_type": "code",
   "execution_count": 113,
   "metadata": {},
   "outputs": [
    {
     "data": {
      "text/html": [
       "<div>\n",
       "<style scoped>\n",
       "    .dataframe tbody tr th:only-of-type {\n",
       "        vertical-align: middle;\n",
       "    }\n",
       "\n",
       "    .dataframe tbody tr th {\n",
       "        vertical-align: top;\n",
       "    }\n",
       "\n",
       "    .dataframe thead th {\n",
       "        text-align: right;\n",
       "    }\n",
       "</style>\n",
       "<table border=\"1\" class=\"dataframe\">\n",
       "  <thead>\n",
       "    <tr style=\"text-align: right;\">\n",
       "      <th></th>\n",
       "      <th>user_id</th>\n",
       "      <th>lemmatized</th>\n",
       "      <th>tokenized</th>\n",
       "    </tr>\n",
       "  </thead>\n",
       "  <tbody>\n",
       "    <tr>\n",
       "      <th>0</th>\n",
       "      <td>-MRD72DXnVgjkM1AVFp7Nw</td>\n",
       "      <td>seriously negative pho cam ly highly addictive...</td>\n",
       "      <td>[seriously, negative, highly, addictive, thai,...</td>\n",
       "    </tr>\n",
       "    <tr>\n",
       "      <th>1</th>\n",
       "      <td>-SO_K8oLVH_9J23z2MtjGg</td>\n",
       "      <td>short good tacos delicious top blend delicious...</td>\n",
       "      <td>[short, good, tacos, delicious, blend, delicio...</td>\n",
       "    </tr>\n",
       "    <tr>\n",
       "      <th>2</th>\n",
       "      <td>-Tg5YTEMbnYw3fQN99xKCQ</td>\n",
       "      <td>breakfast ok need work grit need lot salt butt...</td>\n",
       "      <td>[breakfast, need, work, grit, need, salt, butt...</td>\n",
       "    </tr>\n",
       "    <tr>\n",
       "      <th>3</th>\n",
       "      <td>-V7frksbFjKQYVhrPnnlPw</td>\n",
       "      <td>come work lunch softshell crab blt come toast ...</td>\n",
       "      <td>[come, work, lunch, softshell, crab, come, toa...</td>\n",
       "    </tr>\n",
       "    <tr>\n",
       "      <th>4</th>\n",
       "      <td>-_Y8Mal7S750TsB6yMMDHA</td>\n",
       "      <td>get burger abd awesome fry delicious pretty qu...</td>\n",
       "      <td>[burger, awesome, delicious, pretty, quick, oy...</td>\n",
       "    </tr>\n",
       "  </tbody>\n",
       "</table>\n",
       "</div>"
      ],
      "text/plain": [
       "                  user_id                                         lemmatized  \\\n",
       "0  -MRD72DXnVgjkM1AVFp7Nw  seriously negative pho cam ly highly addictive...   \n",
       "1  -SO_K8oLVH_9J23z2MtjGg  short good tacos delicious top blend delicious...   \n",
       "2  -Tg5YTEMbnYw3fQN99xKCQ  breakfast ok need work grit need lot salt butt...   \n",
       "3  -V7frksbFjKQYVhrPnnlPw  come work lunch softshell crab blt come toast ...   \n",
       "4  -_Y8Mal7S750TsB6yMMDHA  get burger abd awesome fry delicious pretty qu...   \n",
       "\n",
       "                                           tokenized  \n",
       "0  [seriously, negative, highly, addictive, thai,...  \n",
       "1  [short, good, tacos, delicious, blend, delicio...  \n",
       "2  [breakfast, need, work, grit, need, salt, butt...  \n",
       "3  [come, work, lunch, softshell, crab, come, toa...  \n",
       "4  [burger, awesome, delicious, pretty, quick, oy...  "
      ]
     },
     "execution_count": 113,
     "metadata": {},
     "output_type": "execute_result"
    }
   ],
   "source": [
    "df_grouped.head()"
   ]
  },
  {
   "cell_type": "code",
   "execution_count": 61,
   "metadata": {},
   "outputs": [
    {
     "name": "stdout",
     "output_type": "stream",
     "text": [
      "0 access\n",
      "1 accurate\n",
      "2 action\n",
      "3 addictive\n",
      "4 adorn\n",
      "5 ample\n",
      "6 anchovy\n",
      "7 angelo\n",
      "8 appetite\n",
      "9 appetize\n",
      "10 apricot\n"
     ]
    }
   ],
   "source": [
    "count = 0\n",
    "for k, v in dictionary.iteritems():\n",
    "    print(k, v)\n",
    "    count += 1\n",
    "    if count > 10:\n",
    "        break"
   ]
  },
  {
   "cell_type": "code",
   "execution_count": 114,
   "metadata": {},
   "outputs": [
    {
     "name": "stdout",
     "output_type": "stream",
     "text": [
      "Word 27 (\"boyfriend\") appears 1 time.\n",
      "Word 29 (\"brief\") appears 1 time.\n",
      "Word 31 (\"budget\") appears 1 time.\n",
      "Word 53 (\"confusing\") appears 1 time.\n",
      "Word 62 (\"dash\") appears 1 time.\n",
      "Word 78 (\"effort\") appears 2 time.\n",
      "Word 101 (\"gift\") appears 1 time.\n",
      "Word 123 (\"jean\") appears 1 time.\n",
      "Word 128 (\"kill\") appears 1 time.\n",
      "Word 138 (\"legit\") appears 2 time.\n"
     ]
    }
   ],
   "source": [
    "bow_corpus = [dictionary.doc2bow(doc) for doc in df_grouped['tokenized'].values]\n",
    "\n",
    "bow_doc_4310 = bow_corpus[10]\n",
    "\n",
    "for i in range(10):\n",
    "    print(\"Word {} (\\\"{}\\\") appears {} time.\".format(bow_doc_4310[i][0], \n",
    "                                               dictionary[bow_doc_4310[i][0]], bow_doc_4310[i][1]))"
   ]
  },
  {
   "cell_type": "code",
   "execution_count": 65,
   "metadata": {},
   "outputs": [],
   "source": [
    "tfidf = models.TfidfModel(bow_corpus)\n",
    "corpus_tfidf = tfidf[bow_corpus]"
   ]
  },
  {
   "attachments": {},
   "cell_type": "markdown",
   "metadata": {},
   "source": [
    "### LDA"
   ]
  },
  {
   "cell_type": "code",
   "execution_count": 116,
   "metadata": {},
   "outputs": [
    {
     "name": "stdout",
     "output_type": "stream",
     "text": [
      "Topic: 0 \n",
      "Words: 0.006*\"mondo\" + 0.003*\"complementary\" + 0.003*\"paprika\" + 0.002*\"alongside\" + 0.002*\"simon\" + 0.002*\"blossom\" + 0.002*\"treme\" + 0.002*\"popcorn\" + 0.002*\"dong\" + 0.001*\"tinga\"\n",
      "Topic: 1 \n",
      "Words: 0.004*\"greatness\" + 0.001*\"historical\" + 0.001*\"cotija\" + 0.001*\"francisco\" + 0.001*\"faced\" + 0.001*\"chick\" + 0.001*\"soooooo\" + 0.001*\"ultimate\" + 0.001*\"mais\" + 0.001*\"vintage\"\n",
      "Topic: 2 \n",
      "Words: 0.011*\"nole\" + 0.009*\"trenasse\" + 0.004*\"allergic\" + 0.003*\"copeland\" + 0.002*\"tokyo\" + 0.002*\"tsunami\" + 0.002*\"socialize\" + 0.001*\"explore\" + 0.001*\"boba\" + 0.001*\"lush\"\n",
      "Topic: 3 \n",
      "Words: 0.001*\"hana\" + 0.000*\"walnut\" + 0.000*\"girlfriend\" + 0.000*\"martin\" + 0.000*\"bark\" + 0.000*\"roommate\" + 0.000*\"charred\" + 0.000*\"nole\" + 0.000*\"kabob\" + 0.000*\"toup\"\n",
      "Topic: 4 \n",
      "Words: 0.003*\"casa\" + 0.002*\"security\" + 0.001*\"piss\" + 0.000*\"epic\" + 0.000*\"solo\" + 0.000*\"speciality\" + 0.000*\"bulldog\" + 0.000*\"channel\" + 0.000*\"zone\" + 0.000*\"barrel\"\n",
      "Topic: 5 \n",
      "Words: 0.004*\"campus\" + 0.001*\"delightfully\" + 0.000*\"randomly\" + 0.000*\"sarita\" + 0.000*\"jacket\" + 0.000*\"wolf\" + 0.000*\"study\" + 0.000*\"marry\" + 0.000*\"mais\" + 0.000*\"milkshake\"\n",
      "Topic: 6 \n",
      "Words: 0.001*\"beard\" + 0.001*\"spear\" + 0.000*\"fiance\" + 0.000*\"farm\" + 0.000*\"amelie\" + 0.000*\"mcclure\" + 0.000*\"column\" + 0.000*\"saltiness\" + 0.000*\"boyfriend\" + 0.000*\"foie\"\n",
      "Topic: 7 \n",
      "Words: 0.008*\"covid\" + 0.006*\"macaroni\" + 0.006*\"delight\" + 0.006*\"wise\" + 0.006*\"tequila\" + 0.006*\"select\" + 0.005*\"culinary\" + 0.005*\"hurricane\" + 0.005*\"gourmet\" + 0.005*\"carmo\"\n",
      "Topic: 8 \n",
      "Words: 0.001*\"tabasco\" + 0.000*\"capdeville\" + 0.000*\"neighboring\" + 0.000*\"greedy\" + 0.000*\"tracey\" + 0.000*\"oily\" + 0.000*\"hoshun\" + 0.000*\"salu\" + 0.000*\"saucy\" + 0.000*\"colleague\"\n",
      "Topic: 9 \n",
      "Words: 0.001*\"jeff\" + 0.001*\"nole\" + 0.001*\"complementary\" + 0.001*\"official\" + 0.001*\"lengthy\" + 0.001*\"method\" + 0.001*\"operation\" + 0.001*\"severely\" + 0.001*\"shall\" + 0.001*\"popper\"\n",
      "Topic: 10 \n",
      "Words: 0.007*\"saucy\" + 0.004*\"celebratory\" + 0.003*\"krewe\" + 0.003*\"heap\" + 0.003*\"measure\" + 0.003*\"ganoush\" + 0.003*\"jewish\" + 0.003*\"queue\" + 0.002*\"spiced\" + 0.002*\"remarkable\"\n",
      "Topic: 11 \n",
      "Words: 0.012*\"dude\" + 0.011*\"cooter\" + 0.009*\"tokyo\" + 0.009*\"heck\" + 0.009*\"panera\" + 0.009*\"force\" + 0.009*\"pretentious\" + 0.009*\"roommate\" + 0.009*\"award\" + 0.009*\"stranger\"\n",
      "Topic: 12 \n",
      "Words: 0.000*\"pastor\" + 0.000*\"baker\" + 0.000*\"peppery\" + 0.000*\"elevate\" + 0.000*\"rainy\" + 0.000*\"legit\" + 0.000*\"garlicky\" + 0.000*\"sensitive\" + 0.000*\"burrata\" + 0.000*\"intimidate\"\n",
      "Topic: 13 \n",
      "Words: 0.000*\"jung\" + 0.000*\"carnivore\" + 0.000*\"prob\" + 0.000*\"mahony\" + 0.000*\"dairy\" + 0.000*\"doll\" + 0.000*\"drago\" + 0.000*\"tattoo\" + 0.000*\"mondo\" + 0.000*\"happiness\"\n",
      "Topic: 14 \n",
      "Words: 0.003*\"poisoning\" + 0.003*\"starbuck\" + 0.002*\"pray\" + 0.002*\"incident\" + 0.000*\"cooter\" + 0.000*\"anyways\" + 0.000*\"saucy\" + 0.000*\"hair\" + 0.000*\"hefty\" + 0.000*\"mexico\"\n",
      "Topic: 15 \n",
      "Words: 0.005*\"annoyed\" + 0.003*\"acknowledge\" + 0.003*\"gracious\" + 0.002*\"plop\" + 0.002*\"ummm\" + 0.002*\"behavior\" + 0.002*\"honesty\" + 0.002*\"parsley\" + 0.001*\"flaw\" + 0.001*\"hurricane\"\n",
      "Topic: 16 \n",
      "Words: 0.001*\"fortune\" + 0.001*\"marble\" + 0.001*\"dairy\" + 0.001*\"pandemic\" + 0.001*\"daiquiris\" + 0.001*\"force\" + 0.001*\"acidity\" + 0.000*\"monsoon\" + 0.000*\"namese\" + 0.000*\"carrolton\"\n",
      "Topic: 17 \n",
      "Words: 0.000*\"shellfish\" + 0.000*\"allergic\" + 0.000*\"piss\" + 0.000*\"classical\" + 0.000*\"whim\" + 0.000*\"mule\" + 0.000*\"cheer\" + 0.000*\"toup\" + 0.000*\"mama\" + 0.000*\"latte\"\n",
      "Topic: 18 \n",
      "Words: 0.012*\"brioche\" + 0.010*\"raspberry\" + 0.009*\"baba\" + 0.009*\"devil\" + 0.009*\"pomegranate\" + 0.009*\"ridiculously\" + 0.009*\"vessel\" + 0.009*\"column\" + 0.008*\"tabasco\" + 0.008*\"renovation\"\n",
      "Topic: 19 \n",
      "Words: 0.001*\"lent\" + 0.000*\"fold\" + 0.000*\"messy\" + 0.000*\"terrific\" + 0.000*\"dairy\" + 0.000*\"poke\" + 0.000*\"abundance\" + 0.000*\"freezer\" + 0.000*\"boyfriend\" + 0.000*\"papaya\"\n",
      "Topic: 20 \n",
      "Words: 0.000*\"sardou\" + 0.000*\"tableau\" + 0.000*\"panera\" + 0.000*\"league\" + 0.000*\"vessel\" + 0.000*\"team\" + 0.000*\"hmmmm\" + 0.000*\"degas\" + 0.000*\"delighted\" + 0.000*\"angelo\"\n",
      "Topic: 21 \n",
      "Words: 0.000*\"greedy\" + 0.000*\"baco\" + 0.000*\"refresh\" + 0.000*\"charbroile\" + 0.000*\"bass\" + 0.000*\"virtually\" + 0.000*\"loyal\" + 0.000*\"everybody\" + 0.000*\"cobia\" + 0.000*\"isle\"\n",
      "Topic: 22 \n",
      "Words: 0.009*\"wife\" + 0.006*\"daughter\" + 0.005*\"arepa\" + 0.004*\"gnocchi\" + 0.004*\"brother\" + 0.004*\"pate\" + 0.004*\"guac\" + 0.004*\"charcuterie\" + 0.004*\"sooo\" + 0.004*\"prosciutto\"\n",
      "Topic: 23 \n",
      "Words: 0.005*\"significant\" + 0.003*\"hamachi\" + 0.001*\"discount\" + 0.000*\"partner\" + 0.000*\"banh\" + 0.000*\"midcity\" + 0.000*\"boyfriend\" + 0.000*\"masala\" + 0.000*\"broccoli\" + 0.000*\"ending\"\n",
      "Topic: 24 \n",
      "Words: 0.007*\"barbeque\" + 0.001*\"neyow\" + 0.001*\"lisa\" + 0.001*\"edamame\" + 0.001*\"leek\" + 0.000*\"guilt\" + 0.000*\"melon\" + 0.000*\"concrete\" + 0.000*\"generation\" + 0.000*\"relative\"\n",
      "Topic: 25 \n",
      "Words: 0.001*\"operate\" + 0.001*\"failure\" + 0.000*\"subsequent\" + 0.000*\"newly\" + 0.000*\"lake\" + 0.000*\"unhappy\" + 0.000*\"neat\" + 0.000*\"restroom\" + 0.000*\"scenery\" + 0.000*\"restore\"\n",
      "Topic: 26 \n",
      "Words: 0.001*\"margs\" + 0.001*\"subpar\" + 0.000*\"sprite\" + 0.000*\"nirvana\" + 0.000*\"cellar\" + 0.000*\"dairy\" + 0.000*\"gluten\" + 0.000*\"queen\" + 0.000*\"conveniently\" + 0.000*\"chiba\"\n",
      "Topic: 27 \n",
      "Words: 0.007*\"boyfriend\" + 0.003*\"terrific\" + 0.003*\"companion\" + 0.003*\"banh\" + 0.003*\"partner\" + 0.003*\"alright\" + 0.003*\"fave\" + 0.003*\"waitstaff\" + 0.003*\"trendy\" + 0.003*\"brennan\"\n",
      "Topic: 28 \n",
      "Words: 0.006*\"girlfriend\" + 0.005*\"poke\" + 0.005*\"surrey\" + 0.004*\"barbecue\" + 0.004*\"pricing\" + 0.004*\"chicago\" + 0.004*\"study\" + 0.004*\"ample\" + 0.004*\"prompt\" + 0.004*\"team\"\n",
      "Topic: 29 \n",
      "Words: 0.001*\"baco\" + 0.001*\"alon\" + 0.001*\"upper\" + 0.001*\"january\" + 0.001*\"muffuletta\" + 0.001*\"region\" + 0.001*\"popper\" + 0.001*\"statement\" + 0.001*\"grade\" + 0.000*\"decatur\"\n",
      "Topic: 30 \n",
      "Words: 0.000*\"covid\" + 0.000*\"kolache\" + 0.000*\"fiance\" + 0.000*\"barbeque\" + 0.000*\"tsunami\" + 0.000*\"mask\" + 0.000*\"relative\" + 0.000*\"wind\" + 0.000*\"hamachi\" + 0.000*\"houston\"\n",
      "Topic: 31 \n",
      "Words: 0.007*\"steakhouse\" + 0.006*\"soooo\" + 0.006*\"flatbread\" + 0.006*\"octopus\" + 0.006*\"social\" + 0.005*\"squid\" + 0.005*\"valet\" + 0.005*\"breast\" + 0.005*\"spaghetti\" + 0.005*\"draft\"\n",
      "Topic: 32 \n",
      "Words: 0.008*\"coolinary\" + 0.008*\"fiance\" + 0.007*\"coworker\" + 0.006*\"shaya\" + 0.006*\"bonus\" + 0.006*\"latte\" + 0.005*\"chargrille\" + 0.005*\"vermicelli\" + 0.005*\"drunken\" + 0.005*\"sazerac\"\n",
      "Topic: 33 \n",
      "Words: 0.001*\"yike\" + 0.001*\"rotate\" + 0.001*\"campus\" + 0.001*\"poisoning\" + 0.001*\"phuong\" + 0.000*\"dong\" + 0.000*\"inconsistent\" + 0.000*\"fave\" + 0.000*\"poke\" + 0.000*\"upperline\"\n",
      "Topic: 34 \n",
      "Words: 0.001*\"length\" + 0.001*\"carrolton\" + 0.001*\"calm\" + 0.001*\"artisan\" + 0.000*\"flaw\" + 0.000*\"popeye\" + 0.000*\"sufficient\" + 0.000*\"chase\" + 0.000*\"wife\" + 0.000*\"deanie\"\n",
      "Topic: 35 \n",
      "Words: 0.001*\"casita\" + 0.000*\"arepa\" + 0.000*\"heartbeat\" + 0.000*\"wife\" + 0.000*\"bombay\" + 0.000*\"carmo\" + 0.000*\"schnitzel\" + 0.000*\"eggroll\" + 0.000*\"macaroni\" + 0.000*\"genuine\"\n",
      "Topic: 36 \n",
      "Words: 0.014*\"boss\" + 0.013*\"tiramisu\" + 0.010*\"waitlist\" + 0.008*\"drag\" + 0.008*\"echo\" + 0.008*\"sanchez\" + 0.007*\"mission\" + 0.007*\"individual\" + 0.007*\"goose\" + 0.007*\"rico\"\n",
      "Topic: 37 \n",
      "Words: 0.001*\"accordingly\" + 0.001*\"stunning\" + 0.001*\"greedy\" + 0.001*\"elevate\" + 0.001*\"endless\" + 0.001*\"spiciness\" + 0.001*\"dancing\" + 0.001*\"sooooo\" + 0.000*\"corkage\" + 0.000*\"lush\"\n"
     ]
    }
   ],
   "source": [
    "lda_model = gensim.models.LdaMulticore(corpus_tfidf, num_topics=38, id2word=dictionary, passes=10, workers=4)\n",
    "\n",
    "for idx, topic in lda_model.print_topics(-1):\n",
    "    print('Topic: {} \\nWords: {}'.format(idx, topic))"
   ]
  },
  {
   "cell_type": "code",
   "execution_count": 175,
   "metadata": {},
   "outputs": [
    {
     "name": "stdout",
     "output_type": "stream",
     "text": [
      "Coherence Score:  0.3273501987999022\n"
     ]
    }
   ],
   "source": [
    "# Compute Coherence Score\n",
    "coherence_model_lda = CoherenceModel(model=lda_model, texts=df_grouped['tokenized'].values, dictionary=dictionary, coherence='c_v')\n",
    "coherence_lda = coherence_model_lda.get_coherence()\n",
    "print('Coherence Score: ', coherence_lda)"
   ]
  },
  {
   "cell_type": "code",
   "execution_count": 181,
   "metadata": {},
   "outputs": [],
   "source": [
    "def compute_coherence_values(corpus, dictionary, k, a=None, b=None):\n",
    "    \n",
    "    lda_model = gensim.models.LdaMulticore(corpus=corpus,\n",
    "                                           id2word=dictionary,\n",
    "                                           num_topics=k, \n",
    "                                           random_state=100,\n",
    "                                           chunksize=100,\n",
    "                                           passes=10)\n",
    "                                        #    alpha=a,\n",
    "                                        #    eta=b)\n",
    "    \n",
    "    coherence_model_lda = CoherenceModel(model=lda_model, texts=df_grouped['tokenized'].values, dictionary=dictionary, coherence='c_v')\n",
    "    \n",
    "    return coherence_model_lda.get_coherence()"
   ]
  },
  {
   "cell_type": "code",
   "execution_count": 186,
   "metadata": {},
   "outputs": [
    {
     "data": {
      "text/plain": [
       "[<matplotlib.lines.Line2D at 0x16d7e0c9400>]"
      ]
     },
     "execution_count": 186,
     "metadata": {},
     "output_type": "execute_result"
    },
    {
     "data": {
      "image/png": "[encoded data removed]",
      "text/plain": [
       "<Figure size 432x288 with 1 Axes>"
      ]
     },
     "metadata": {
      "needs_background": "light"
     },
     "output_type": "display_data"
    }
   ],
   "source": [
    "# Topics range\n",
    "min_topics = 5\n",
    "max_topics = 60\n",
    "step_size = 1\n",
    "topics_range = range(min_topics, max_topics, step_size)\n",
    "model_results = []\n",
    "\n",
    "for k in topics_range:\n",
    "    # get the coherence score for the given parameters\n",
    "    cv = compute_coherence_values(corpus=corpus_tfidf, dictionary=dictionary, k=k)\n",
    "    # Save the model results\n",
    "    model_results.append(cv)\n",
    "\n",
    "\n",
    "plt.plot(topics_range, model_results)"
   ]
  },
  {
   "cell_type": "code",
   "execution_count": 189,
   "metadata": {},
   "outputs": [
    {
     "name": "stdout",
     "output_type": "stream",
     "text": [
      "0.49025110933736676\n",
      "38\n"
     ]
    }
   ],
   "source": [
    "print(max(model_results))\n",
    "print(model_results.index(max(model_results)))"
   ]
  },
  {
   "cell_type": "code",
   "execution_count": 202,
   "metadata": {},
   "outputs": [
    {
     "name": "stdout",
     "output_type": "stream",
     "text": [
      "Topic: 0 \n",
      "Words: 0.013*\"mondo\" + 0.003*\"complementary\" + 0.003*\"paprika\" + 0.002*\"lech\" + 0.002*\"belong\" + 0.000*\"doberge\" + 0.000*\"nugget\" + 0.000*\"approach\" + 0.000*\"conveniently\" + 0.000*\"margs\"\n",
      "Topic: 1 \n",
      "Words: 0.009*\"decadent\" + 0.008*\"tail\" + 0.008*\"daiquiri\" + 0.008*\"shred\" + 0.008*\"marinara\" + 0.008*\"mushy\" + 0.008*\"serving\" + 0.008*\"margherita\" + 0.008*\"lech\" + 0.008*\"kill\"\n",
      "Topic: 2 \n",
      "Words: 0.015*\"roommate\" + 0.014*\"doberge\" + 0.013*\"focus\" + 0.012*\"conveniently\" + 0.012*\"garnish\" + 0.012*\"meril\" + 0.011*\"exciting\" + 0.011*\"array\" + 0.010*\"wagyu\" + 0.010*\"couch\"\n",
      "Topic: 3 \n",
      "Words: 0.000*\"sanitizer\" + 0.000*\"pisco\" + 0.000*\"margs\" + 0.000*\"marshmallow\" + 0.000*\"rouge\" + 0.000*\"mahoney\" + 0.000*\"camellia\" + 0.000*\"martinis\" + 0.000*\"solely\" + 0.000*\"allergic\"\n",
      "Topic: 4 \n",
      "Words: 0.005*\"boyfriend\" + 0.003*\"coolinary\" + 0.003*\"covid\" + 0.002*\"fiance\" + 0.002*\"partner\" + 0.002*\"terrific\" + 0.002*\"banh\" + 0.002*\"companion\" + 0.002*\"ribeye\" + 0.002*\"gnocchi\"\n",
      "Topic: 5 \n",
      "Words: 0.000*\"sardou\" + 0.000*\"covid\" + 0.000*\"mask\" + 0.000*\"control\" + 0.000*\"chilly\" + 0.000*\"gris\" + 0.000*\"martinis\" + 0.000*\"celebration\" + 0.000*\"gnocchi\" + 0.000*\"panera\"\n",
      "Topic: 6 \n",
      "Words: 0.000*\"groupon\" + 0.000*\"ralph\" + 0.000*\"gambit\" + 0.000*\"sober\" + 0.000*\"calzone\" + 0.000*\"heard\" + 0.000*\"tujague\" + 0.000*\"hesitant\" + 0.000*\"mondo\" + 0.000*\"cheery\"\n",
      "Topic: 7 \n",
      "Words: 0.000*\"corridor\" + 0.000*\"oxalis\" + 0.000*\"explode\" + 0.000*\"overpriced\" + 0.000*\"storm\" + 0.000*\"alright\" + 0.000*\"weekly\" + 0.000*\"nightmare\" + 0.000*\"walking\" + 0.000*\"microwave\"\n",
      "Topic: 8 \n",
      "Words: 0.000*\"acidic\" + 0.000*\"pompano\" + 0.000*\"region\" + 0.000*\"statement\" + 0.000*\"january\" + 0.000*\"naturally\" + 0.000*\"boca\" + 0.000*\"alon\" + 0.000*\"mass\" + 0.000*\"upper\"\n",
      "Topic: 9 \n",
      "Words: 0.000*\"thumb\" + 0.000*\"hanger\" + 0.000*\"socialize\" + 0.000*\"subpar\" + 0.000*\"gazpacho\" + 0.000*\"kobe\" + 0.000*\"contribute\" + 0.000*\"thrilled\" + 0.000*\"rightfully\" + 0.000*\"sweetheart\"\n",
      "Topic: 10 \n",
      "Words: 0.009*\"wife\" + 0.004*\"girlfriend\" + 0.004*\"hubby\" + 0.003*\"coworker\" + 0.003*\"alright\" + 0.003*\"anyways\" + 0.003*\"surrey\" + 0.003*\"trendy\" + 0.003*\"fajita\" + 0.003*\"korean\"\n",
      "Topic: 11 \n",
      "Words: 0.000*\"official\" + 0.000*\"severely\" + 0.000*\"sprite\" + 0.000*\"jacques\" + 0.000*\"singe\" + 0.000*\"freezer\" + 0.000*\"primarily\" + 0.000*\"admittedly\" + 0.000*\"meaning\" + 0.000*\"concrete\"\n",
      "Topic: 12 \n",
      "Words: 0.014*\"cider\" + 0.009*\"moscow\" + 0.008*\"chowder\" + 0.008*\"period\" + 0.007*\"asada\" + 0.007*\"scalibut\" + 0.007*\"meatery\" + 0.006*\"randomly\" + 0.006*\"mmmmm\" + 0.006*\"susan\"\n",
      "Topic: 13 \n",
      "Words: 0.000*\"plentiful\" + 0.000*\"pink\" + 0.000*\"garnish\" + 0.000*\"octopus\" + 0.000*\"romaine\" + 0.000*\"nanou\" + 0.000*\"sublime\" + 0.000*\"teach\" + 0.000*\"shallot\" + 0.000*\"kabob\"\n",
      "Topic: 14 \n",
      "Words: 0.000*\"roommate\" + 0.000*\"screw\" + 0.000*\"wise\" + 0.000*\"couch\" + 0.000*\"heartbeat\" + 0.000*\"dang\" + 0.000*\"wife\" + 0.000*\"bout\" + 0.000*\"bday\" + 0.000*\"everytime\"\n",
      "Topic: 15 \n",
      "Words: 0.000*\"sofia\" + 0.000*\"spritz\" + 0.000*\"scenery\" + 0.000*\"drag\" + 0.000*\"retro\" + 0.000*\"unfortunate\" + 0.000*\"bass\" + 0.000*\"corkage\" + 0.000*\"cider\" + 0.000*\"trivia\"\n",
      "Topic: 16 \n",
      "Words: 0.000*\"pythian\" + 0.000*\"pisco\" + 0.000*\"boca\" + 0.000*\"notably\" + 0.000*\"lastly\" + 0.000*\"injera\" + 0.000*\"lentil\" + 0.000*\"butternut\" + 0.000*\"rowdy\" + 0.000*\"spicer\"\n",
      "Topic: 17 \n",
      "Words: 0.000*\"yike\" + 0.000*\"fortune\" + 0.000*\"distancing\" + 0.000*\"conveniently\" + 0.000*\"auction\" + 0.000*\"charbroile\" + 0.000*\"couch\" + 0.000*\"slimy\" + 0.000*\"sheet\" + 0.000*\"salami\"\n",
      "Topic: 18 \n",
      "Words: 0.000*\"laurel\" + 0.000*\"speciality\" + 0.000*\"lite\" + 0.000*\"wife\" + 0.000*\"treasure\" + 0.000*\"fundido\" + 0.000*\"naan\" + 0.000*\"nightmare\" + 0.000*\"thee\" + 0.000*\"quantity\"\n",
      "Topic: 19 \n",
      "Words: 0.010*\"subpar\" + 0.003*\"sprite\" + 0.000*\"lech\" + 0.000*\"anticipate\" + 0.000*\"rudely\" + 0.000*\"flower\" + 0.000*\"roommate\" + 0.000*\"aaron\" + 0.000*\"pisco\" + 0.000*\"organize\"\n",
      "Topic: 20 \n",
      "Words: 0.009*\"signage\" + 0.000*\"bday\" + 0.000*\"direction\" + 0.000*\"cancel\" + 0.000*\"jewish\" + 0.000*\"mask\" + 0.000*\"jewel\" + 0.000*\"backyard\" + 0.000*\"boyfriend\" + 0.000*\"ward\"\n",
      "Topic: 21 \n",
      "Words: 0.000*\"partner\" + 0.000*\"awhile\" + 0.000*\"boyfriend\" + 0.000*\"coolinary\" + 0.000*\"harrah\" + 0.000*\"gluten\" + 0.000*\"nope\" + 0.000*\"wanna\" + 0.000*\"jesus\" + 0.000*\"jealous\"\n",
      "Topic: 22 \n",
      "Words: 0.016*\"hibachi\" + 0.014*\"restroom\" + 0.012*\"lebanon\" + 0.012*\"tiki\" + 0.011*\"carne\" + 0.011*\"crap\" + 0.011*\"boca\" + 0.010*\"initially\" + 0.009*\"unhappy\" + 0.009*\"patois\"\n",
      "Topic: 23 \n",
      "Words: 0.009*\"cuban\" + 0.009*\"charbroile\" + 0.008*\"delight\" + 0.008*\"squid\" + 0.008*\"handful\" + 0.007*\"dude\" + 0.007*\"quail\" + 0.007*\"pain\" + 0.007*\"sampler\" + 0.007*\"jumbo\"\n",
      "Topic: 24 \n",
      "Words: 0.000*\"boyfriend\" + 0.000*\"afterward\" + 0.000*\"bombay\" + 0.000*\"unfortunate\" + 0.000*\"inattentive\" + 0.000*\"patronize\" + 0.000*\"casa\" + 0.000*\"salami\" + 0.000*\"hover\" + 0.000*\"ravioli\"\n",
      "Topic: 25 \n",
      "Words: 0.000*\"bass\" + 0.000*\"refresh\" + 0.000*\"eggs\" + 0.000*\"parfait\" + 0.000*\"charbroile\" + 0.000*\"scalibut\" + 0.000*\"permit\" + 0.000*\"claw\" + 0.000*\"lousy\" + 0.000*\"shoe\"\n",
      "Topic: 26 \n",
      "Words: 0.006*\"david\" + 0.000*\"willie\" + 0.000*\"prize\" + 0.000*\"korea\" + 0.000*\"insert\" + 0.000*\"distancing\" + 0.000*\"mirror\" + 0.000*\"slab\" + 0.000*\"pine\" + 0.000*\"everytime\"\n",
      "Topic: 27 \n",
      "Words: 0.000*\"booty\" + 0.000*\"crackling\" + 0.000*\"pupusa\" + 0.000*\"reginelli\" + 0.000*\"meeting\" + 0.000*\"risotto\" + 0.000*\"arepas\" + 0.000*\"august\" + 0.000*\"page\" + 0.000*\"fudge\"\n",
      "Topic: 28 \n",
      "Words: 0.000*\"lame\" + 0.000*\"cough\" + 0.000*\"cider\" + 0.000*\"heard\" + 0.000*\"unimpressed\" + 0.000*\"availability\" + 0.000*\"distancing\" + 0.000*\"safety\" + 0.000*\"ugly\" + 0.000*\"clarify\"\n",
      "Topic: 29 \n",
      "Words: 0.000*\"restroom\" + 0.000*\"stall\" + 0.000*\"chock\" + 0.000*\"dedicated\" + 0.000*\"wife\" + 0.000*\"oxtail\" + 0.000*\"hanger\" + 0.000*\"clothing\" + 0.000*\"crawl\" + 0.000*\"covid\"\n",
      "Topic: 30 \n",
      "Words: 0.000*\"stink\" + 0.000*\"boca\" + 0.000*\"discount\" + 0.000*\"sorbet\" + 0.000*\"knot\" + 0.000*\"flawless\" + 0.000*\"represent\" + 0.000*\"asada\" + 0.000*\"margaritas\" + 0.000*\"gobble\"\n",
      "Topic: 31 \n",
      "Words: 0.000*\"roughly\" + 0.000*\"creation\" + 0.000*\"coolinary\" + 0.000*\"setup\" + 0.000*\"whim\" + 0.000*\"shellfish\" + 0.000*\"mule\" + 0.000*\"velvet\" + 0.000*\"josephine\" + 0.000*\"jesus\"\n",
      "Topic: 32 \n",
      "Words: 0.012*\"gentleman\" + 0.012*\"custard\" + 0.012*\"delicate\" + 0.011*\"drag\" + 0.011*\"naturally\" + 0.011*\"brownie\" + 0.010*\"succulent\" + 0.009*\"rainbow\" + 0.009*\"bustle\" + 0.009*\"passion\"\n",
      "Topic: 33 \n",
      "Words: 0.000*\"inhale\" + 0.000*\"soooooo\" + 0.000*\"silverware\" + 0.000*\"excuse\" + 0.000*\"title\" + 0.000*\"amelie\" + 0.000*\"smore\" + 0.000*\"upcharge\" + 0.000*\"drag\" + 0.000*\"coupon\"\n",
      "Topic: 34 \n",
      "Words: 0.007*\"daughter\" + 0.006*\"gluten\" + 0.006*\"arepa\" + 0.005*\"awhile\" + 0.005*\"guac\" + 0.005*\"latte\" + 0.005*\"pimento\" + 0.005*\"espresso\" + 0.005*\"lick\" + 0.004*\"risotto\"\n",
      "Topic: 35 \n",
      "Words: 0.004*\"strictly\" + 0.003*\"flawless\" + 0.002*\"complementary\" + 0.000*\"shoestring\" + 0.000*\"stall\" + 0.000*\"celebratory\" + 0.000*\"meter\" + 0.000*\"furniture\" + 0.000*\"flower\" + 0.000*\"lula\"\n",
      "Topic: 36 \n",
      "Words: 0.000*\"oreo\" + 0.000*\"chuck\" + 0.000*\"kitschy\" + 0.000*\"chaos\" + 0.000*\"anchovy\" + 0.000*\"slab\" + 0.000*\"bologna\" + 0.000*\"stink\" + 0.000*\"lula\" + 0.000*\"lakeview\"\n",
      "Topic: 37 \n",
      "Words: 0.000*\"instagram\" + 0.000*\"horchata\" + 0.000*\"hair\" + 0.000*\"trio\" + 0.000*\"poisoning\" + 0.000*\"unimpressed\" + 0.000*\"dijon\" + 0.000*\"absinthe\" + 0.000*\"fave\" + 0.000*\"haha\"\n"
     ]
    }
   ],
   "source": [
    "lda_model = gensim.models.LdaMulticore(corpus_tfidf, num_topics=38, id2word=dictionary, passes=100, workers=4)\n",
    "\n",
    "for idx, topic in lda_model.print_topics(-1):\n",
    "    print('Topic: {} \\nWords: {}'.format(idx, topic))"
   ]
  },
  {
   "attachments": {},
   "cell_type": "markdown",
   "metadata": {},
   "source": [
    "### Trying Other Methods to Incorporate Text"
   ]
  },
  {
   "cell_type": "code",
   "execution_count": 117,
   "metadata": {},
   "outputs": [
    {
     "data": {
      "text/html": [
       "<div>\n",
       "<style scoped>\n",
       "    .dataframe tbody tr th:only-of-type {\n",
       "        vertical-align: middle;\n",
       "    }\n",
       "\n",
       "    .dataframe tbody tr th {\n",
       "        vertical-align: top;\n",
       "    }\n",
       "\n",
       "    .dataframe thead th {\n",
       "        text-align: right;\n",
       "    }\n",
       "</style>\n",
       "<table border=\"1\" class=\"dataframe\">\n",
       "  <thead>\n",
       "    <tr style=\"text-align: right;\">\n",
       "      <th></th>\n",
       "      <th>user_id</th>\n",
       "      <th>lemmatized</th>\n",
       "      <th>tokenized</th>\n",
       "    </tr>\n",
       "  </thead>\n",
       "  <tbody>\n",
       "    <tr>\n",
       "      <th>0</th>\n",
       "      <td>-MRD72DXnVgjkM1AVFp7Nw</td>\n",
       "      <td>seriously negative pho cam ly highly addictive...</td>\n",
       "      <td>[seriously, negative, highly, addictive, thai,...</td>\n",
       "    </tr>\n",
       "    <tr>\n",
       "      <th>1</th>\n",
       "      <td>-SO_K8oLVH_9J23z2MtjGg</td>\n",
       "      <td>short good tacos delicious top blend delicious...</td>\n",
       "      <td>[short, good, tacos, delicious, blend, delicio...</td>\n",
       "    </tr>\n",
       "    <tr>\n",
       "      <th>2</th>\n",
       "      <td>-Tg5YTEMbnYw3fQN99xKCQ</td>\n",
       "      <td>breakfast ok need work grit need lot salt butt...</td>\n",
       "      <td>[breakfast, need, work, grit, need, salt, butt...</td>\n",
       "    </tr>\n",
       "  </tbody>\n",
       "</table>\n",
       "</div>"
      ],
      "text/plain": [
       "                  user_id                                         lemmatized  \\\n",
       "0  -MRD72DXnVgjkM1AVFp7Nw  seriously negative pho cam ly highly addictive...   \n",
       "1  -SO_K8oLVH_9J23z2MtjGg  short good tacos delicious top blend delicious...   \n",
       "2  -Tg5YTEMbnYw3fQN99xKCQ  breakfast ok need work grit need lot salt butt...   \n",
       "\n",
       "                                           tokenized  \n",
       "0  [seriously, negative, highly, addictive, thai,...  \n",
       "1  [short, good, tacos, delicious, blend, delicio...  \n",
       "2  [breakfast, need, work, grit, need, salt, butt...  "
      ]
     },
     "execution_count": 117,
     "metadata": {},
     "output_type": "execute_result"
    }
   ],
   "source": [
    "df_grouped.head(3)"
   ]
  },
  {
   "cell_type": "code",
   "execution_count": 118,
   "metadata": {},
   "outputs": [],
   "source": [
    "data = df_grouped['tokenized'].values\n",
    "tagged_data = [TaggedDocument(words=_d, tags=[str(i)]) for i, _d in enumerate(data)]"
   ]
  },
  {
   "cell_type": "code",
   "execution_count": 119,
   "metadata": {},
   "outputs": [],
   "source": [
    "max_epochs = 100\n",
    "vec_size = 20\n",
    "alpha = 0.025\n",
    "\n",
    "model = Doc2Vec(vector_size=vec_size,\n",
    "                alpha=alpha, \n",
    "                min_alpha=0.00025,\n",
    "                min_count=2,\n",
    "                dm =1, \n",
    "                dm_mean = 1,\n",
    "                workers = 4)\n",
    "  \n",
    "model.build_vocab(tagged_data)\n",
    "model.train(tagged_data, total_examples=model.corpus_count, epochs=model.epochs)"
   ]
  },
  {
   "cell_type": "code",
   "execution_count": 120,
   "metadata": {},
   "outputs": [
    {
     "data": {
      "text/plain": [
       "[('306', 0.8196471333503723),\n",
       " ('208', 0.8081722855567932),\n",
       " ('214', 0.7911342978477478),\n",
       " ('299', 0.7860674262046814),\n",
       " ('277', 0.7841057777404785),\n",
       " ('188', 0.7798364758491516),\n",
       " ('168', 0.7755629420280457),\n",
       " ('0', 0.7734951972961426),\n",
       " ('71', 0.7611597180366516),\n",
       " ('261', 0.759547770023346)]"
      ]
     },
     "execution_count": 120,
     "metadata": {},
     "output_type": "execute_result"
    }
   ],
   "source": [
    "model.dv.most_similar('278', topn=10)"
   ]
  },
  {
   "cell_type": "code",
   "execution_count": 121,
   "metadata": {},
   "outputs": [
    {
     "data": {
      "text/plain": [
       "'seriously negative pho cam ly highly addictive thai tea delectable spring roll tofu avocado perfect oversized steamed bun slider soothe chicken pho completely love menu selection outside seat free street parking directly price beat opinion actually eat lunch today get mixed emotion district donut slider brew good sure worth price donut ok try chocolate glaze meh cinnamon sugar good cheeseburger slider fry chicken slider blt slider good favorite far blt say low price district solid star rent high justify price charge slider donut goodness sake say money burn hole wallet em try atmosphere great staff notch go surrey cafe juice bar sunday brunch seat quickly expect m ideally want order different dining partner trade half double fun fab try spinach cheese melt focaccia avocado pesto sandwich chicken superb try curious menu item health conscious folk vegan option lovely juice ingredient choose unfortunately ginger sample juice day restock say quality piece art wall sale light ship gift town family friend treat enjoy stroll lgd hop streetcar pleasant experience surrey definition intimate venue great live music tiny bar comfortable vibe locate right canal street parking available band get little loud spot cool little outside area table rest eardrum hear music clearly door open meet guy lunch joint week later know want nacho appetizer get good chicken torta get good know worth price stellar bad kill drink special last p m f guess get find way drink deal workday hahaha good ole nola day weekday able partake maybe know evening concert go friend look good late night burger joint favorite burger nola great choice primo dead cow nice vibe decent music late hour night patron regular friendly staff amicable work diligently seemingly tasty option menu hook moment see july burger month independence burger standard beef burger pico de gallo white queso cheese blue tortilla chip know chip smash burger patty burger gargantuan friend cheeseburger huge patty easily meal person eat large meat sit decadent fabulous friend fry good enjoyable hang think hit look burger mid city area start hungry explore marigny night turn yelp app find gem review great decide try inside perfectly light nicely decorate pack luckily able sit bar enjoy musical selection sugarcube apparently people cook dance prepare smile order lamb sausage pizza fantastic flavorful mean taste flavor individual topping ingredient pizza talk taste sensation mmmmm lady order thing sit practical silence grub respective entree share grin point delicious nom price bad like great date sample menu wound have lunch red dog diner day ago love order corn crab fritter chicken salad salad typo chicken salad green salad farmhouse salad shrimp mountain valley sparkle water delicious superb environment cozy little outdoor seating want breakfast long find parking spot pretty dicey particular stretch magazine street hop theo meeting bite eat enjoy comfortable ambience friendly employess quirky accessory get lando calrissian marker order pizza yummy score high moi thing parking extremely limit keep enjoy luckily space free second time circle block go order soft pretzel stick honestly split order pizza serve ranch dress spicy mustard mustard serve request people appreciate good soft pretzel pass come pizza chicken pesto pizza feta flavorful pizza decent crust good far far bad kind standard yummy pizza overall definitely try especially pretzel stick like decent drink want glass beer wine sure serve honesty hard time find solid pizza joint nola luckily pizza domenica choice place count satisfy craving caesar salad hold anchovy strong start follow sinful garlic knot different type pizza fail disappoint love crust topping taste pretty fresh good deal enjoy eat seat bar face crew make fun experience witness loooooove seed shock discover review carnivore kind vegan cuisine leave feel like deprive try good feel salad little lacking consider price recommend pineapple ginger blast smoothie time artichoke cake tofu nugget chili fry raw pad thai nachos personal favorite quesadillas corn polenta beignet greasy yummy wait staff usually attentive decor pretty cool enjoy music play typically nice eclectic mix regularly star delicious attentive server spacious dining area ample parking open monday like experience tad expensive complain lot competition far away velvet cactus etc legit reasonable trek civic theatre carmo ideal option fill belly catch comedy cold friday night easy belly laugh belly growl anyhoo near gps feature yelp power walk bite exactly sure expect realize take chance pass rous know love curiosity officially peak glad rous home experience carmo fabulous carmo dimly light friday night trip people create relaxing vibe order creole avocado appetizer beautiful oh tasty come main course small esmeralda salad vegan cheese oh man absolutely thrilled flavor include ingredient regret eat dinner later night location great staff friendly attentive quick portion perfect price reasonable question maybe try highly laud rico look amazing run errand lunch break stumble velvet cactus decide lunch little chilly grab jacket get primo seat outside decor outdoor area invite enchant appreciate complimentary chip salsa velvet cactus offer thing juan fly burrito love chip greasy chicken pablo plenty meal absolutely delicious great decent price fun atmosphere great mid city location friendly decent price pepperoni freaking kolache namaste p review toast enjoy fabulous neighborhood breakfast spot time sample thing menu disappoint recently enjoy avocado toast bacon child size order aebleskiver nutella think ball pancake dip option mmmmm heaven prompt accurate friendly middle beautiful uptown neighborhood luurrve positive dining experience recently parking houston rare parking lot party greet enthusiastically friendly man seat promptly attend regularly overly accommodate excellently remember get eat past think steak dinner sandwich lunch sort thing recently rotisserie chicken caesar salad highly impressed cornbread crouton come salad person eat cornbread delectable salad finely cut green right parmesan caesar dress rotisserie chicken lovely apricot glaze intrigue mint cucumber bring light freshness tabbouleh wash perrier party rush evening light general ambience ideal seamless hungry frenchmen street wait adolfo grate nerve find dat dog serve burger dress fry like hot dog head enjoy cheddar bacon ranch fry fill price gauge bartender change channel stupid reality tv tolerable handle drunkest crew female baby boomer witness magnificent aplomb gold star establishment eat in delivery later singe praise chicken wing appetizer delish greek salad star good fresco salad ok pesto pasta favorite thing menu chicken pesto pizza ok honestly opt pesto pasta chicken chicken portobello stromboli pretty good mama rise lasagna ugh taste problem hit marcello st charles ave white linen night italian pleased price treat original lafayette establishment time town officially fan start friend red wine get drink guy table drink life remember blueberry good point serve complimentary bread olive oil course gobble yuuum go lasagna oh goodness perfect flavor impeccable temperature serve right right portion size good want haul julia street sneak streetcar beautifully marcello proud lafayette good affordable neighborhood light friendly feel visit late sunday morning little wait table choose sit bar friend get pollo ranchero delicious mish mash stuff legit corn tortilla unfortunately tortilla soak moisture get completely soggy making completely inedible rest dish scrumptious bit slow example find server time include try pay check engaging sweet pie entire time decoration precious thank good dining experience riccobono read review order get lamb turkey burger review signature company burger er company burger good burger sure worth price intrigue option run opinion change chocolate shake hand dream help wonder cost homage pulp fiction think worth dollar sweet potato waffle fry absolutely perfect little crispy outside soft inside greasy fabulous good ambience bad keep clean nice loyal patron mona lafayette close sad glad live city mona moreso excited say reserve star rating mona magazine location fabulous chicken shawarma m m game changer different chain dish pale comparison thank mona chicken shawarma juicy delicious dish actually love chain serve dry chicken shawarma entree far lebanese tea halloumi k angelic pan fry cheese chicken shawarma location tasty reasonably price ball lunchtime close work know place town pre katrina nola vibe vincent absolutely spot addition audubon park oak trees langenstein prytania theatre access streetcar favorite reason live uptown vincent default italian let face favorite city absence pretense huge formal wear corduroy cutoff jean absolutely welcome huge plus ambience claustrophobic table virtually skillful waitstaff navigate tight space attention deserve lighting pleasantly low make conducive date night love chatty get overwhelmingly loud local true neighborhood find regular area come get hug staff accommodate old school new orleans love great delicious complimentary soup bread butter sublime gelato option angelo brocato good lasagna etc etc etc total comfort notch reservation guy happily try fit jam pack house dote entire time sweet reasonable price menu item typically accommodate budget splurge definitely pay quality quantity love vincent change thing continue suggest towner authentic nola experience thank fill belly heart time find sweet little spot city eat delectable fry chicken find good spot let tell fry chicken nola eat time quality consistent delightful walk door greet picture barack obama have ball think fantastic nice roomy dining area light adorn artwork pretty stain glass piece staff work butt provide decent seat option order menu get buffet easily somewhat smell seating available lunch buffet trust good stuff menu buffet example red bean killer flavor mention green buffet day salad good nasty white lettuce good topping salad garbage plus enjoy complimentary bread soup order buffet mmmm chicken oh dear moist juicy perfect greasy bread entertaining watch everybody haul buffet line fresh batch chicken come everybody happy chatty line eat obvious feed certain camaraderie happen stranger bond good connection strong dooky chase spiritual experience dooky chase asap certainly worth finally manage ruby slipper cafe mid city early afternoon glad waistline decidedly know hard table delicious deliberation finally decide pancake taste like chicken st charles menu fry chicken breast serve buttermilk biscuit top poach egg finish pork tasso cream sauce cue belt break pressure thing legit love fried chicken crispy greasy manage ruby slipper totally nail taste bud aim know get wait come split enjoy refrigerated leftover later night time actually muster appetite eat say lot usually fan refrigerate fry chicken undoubtedly take friend family ruby slipper location town baru bistro tapas locate magazine overly travel free parking available outside seating available nice overhang protect diner rain indoor dining charming decent pretty great price relatively reasonable consider portion quality worth visit decent dining experience favorite street new orleans don knotts clever garlic knot pretty yummy topping half herb tarlek half uptown meatdown pizza good blow away deep dish crust ask thin crust instead reasonable price good bad suggest friend honestly tempt prioritize pizza joint town respect point friendly considerate wait staff treat like garbage reason hard empathize waitress clearly weather evident have order answer question option problem oh problem attitude subsequent spiral downward bring wrong waitress smile friendly mention get wrong thing tell waitress essentially order sandwich proceed eat bite despite want force eat bring hungry good fact horrible surprised horrible credit comp sandwich pay separate bacon bring thing get right boyfriend dissatisfied order waitress boisterous annoyingly loud customer table give apathetic look utter word come refill glass experience surreal la cart boyfriend death instead give plate incorporate want pay eat breakfast wind cost double expect pay surreal confusing experience deal day time walk honestly get cold shoulder feel like crash private party pay dime kind treatment especially consider mediocrity receive couple bad experience year f decent vietnamese mid city namese pleasant vibe good menu selection fan tofu spring roll peke duck banh bao vietnamese taco spice fry tofu price good good ambience good good vietnamese town pho cam ly hankering good old ba chi canteen dine instead ba chi canteen boast menu affordable option quick cozy atmosphere feel right home time have pay park pay eat frustrating location street free lot street park beautiful thing city wonder jaunt worth trip visit enjoy hot jasmine tea beverage order veggie gyoza nachos appetizer definitely good thing eat follow bacos creamy spicy chicken soft shell crab crispy spicy sate brisket superb second trust favorite interesting good choice gobble happily hesitation price tag impressively low get tip amazing server take good care truly love neighborhood eatery thank ba chi canteen keep happy time eat establishment find consistency refresh impressive decent bar overall quality welcome environment personable staff enjoy cape cod far concern jumbo lump crab cake appetizer decent necessarily bad honestly order order burger add mozzarella bacon sauteed onion sauteed mushroom absolute delight happily return burger nice difficult find decent burger new orleans legitimate good mexican ambience precious perfectly attentive helpful good deal free parking thank location o c haley huge fan queso tortilla chip highly greasy say love limeade horchata margaritas tacos steak alambre return brief item sound appetize menu opt crab melt glad perfectly prepare serve delicious sweet potato waffle fry dish completely satisfy try menu dash right today friday staff friendly accommodate weather divine sit outside proceed great kind quality breakfast surrey location know provide get miga hot mint tea friend get breakfast burrito coffee clean plate mug surprised awesome pleasant way usher week fall price reasonable good fast friendly clean location excellent catch joy saenger lot snack choose revisit half expect letdown valet view ambience menu selection like complimentary bread butter fantastic course lot great menu option settle half dozen char grill oyster chicken monica completely delightful dining partner enjoy meal serve pipe hot fresh perfectly season delicious long wait drink top long arrive despite pretty house think guy improve experience superior seafood go counter spot night little bit o drama main cook car hit park knock bacon cheeseburger park vent situation take trip outside observe situation settle boy blue leave end work hard give great burger bad poo yie pant be not go to fit brunch awesome get crazy pack brunch lot tasty choice settle french toast burrito special absolutely rock sock perfect blend sweet savory sweet mimosa order bad friend get egg sardou special nearly blow away dish sure leave plate time get check feel like price little high bywater cost prohibitive great people little feel neglect proud easy feat good stuff hear charlie steak house curious eat unexpectedly find drive decide stop let absence menu casual little strange go price give tell serve la carte settle french onion soup oz boneless ribeye mushroom bordelaise admit delicious regret order tell thrilled ribeye come table sizzle juice love fajita factor opinion waitstaff need available hand weeknight weekend rush server clearly overwhelmed flag waitress hate issue time sensitive action necessary let sure attentive think help deserve check definitely cheap definitely pay scenario regret dollar little awkward couple go eat time like experience overall friday evening party take sight beloved freret street look good dinner spot draw sport latin fusion sign good decision reason decor ceiling fan latin music lighting ambiance perfect dusk charming spacious size overly pack table liveliness overly loud perfection tell grab table promptly receive complimentary chip spicy queso start sweet employee great beginning plantain appetizer serve sour cream delicious fyi slice crunchy version half cut soft fry variety order cuban bowl shrimp bowl entree pleased flavor mention fact get quickly completely slam different individual take order check bring take care bill fresh yummy mention affordable want stress seriously good customer receive year employee friendly accommodate earth hard work easy industry work appreciate effort guy give wonderful experience doubt second repeat customer get try beautiful taco'"
      ]
     },
     "execution_count": 121,
     "metadata": {},
     "output_type": "execute_result"
    }
   ],
   "source": [
    "df_grouped['lemmatized'].iloc[0]"
   ]
  },
  {
   "cell_type": "code",
   "execution_count": 122,
   "metadata": {},
   "outputs": [
    {
     "data": {
      "text/plain": [
       "'come app wine not blow away decent favorite gorgonzola cheesecake second onion cheese tart crawfish crepe atmosphere new orlean nice bit creepy history supposedly haunt owner building seance lounge nd floor ghost say appear apparently pop early afternoon ask nicely set table day ghost wine bread fun visit app price bit dinner slider good good limoncello poppy seed donut cold brew iced coffee fun atmosphere friendly staff oh yeah brulee top cinnamon roll totally change way look cinnamon roll delicious pozole day tender pork plentiful mound hominy spicy broth serve add avocado lime dry spice herb jalapeno onion cabbage remind home proof solid minute silence friend slurp spicy goodness chilly day green sauce spicy chip hot salsa plentiful greet smile staff prompt courteous tamal get moist chicken flavorful masa bit mushy taste feed people substantial meal plus tip definitely menudo weekend update currently have pretty severe gastrointestinal upset definitely come love chip salsa great salsa taste like regular jarred salsa lunch burrito upsold steak regret entirely steak cube seasoning resort cover burrito salsa flavor rice dry clumpy underseasone bean soupy aaaand guess flavorless margarita taste like tequila strong little flavor tequila essentially taste excellent ruin agree shall tldr steak lunch burrito margarita confirm overpriced tourist trap beautiful stop drink view city park bartender lively courteous excellent pimm cup muggy new orleans day bit pricy turtle soup catfish smoky grit cake tasty toasty sunday morning bonus bottomless mimosas fun eat bring visit friend alligator cheesecake fry green tomato spoon bread delicious absolute favorite thing watermelon mojito regret dinner lunch twice time perfect bite december perfect bite pork belly dish cornbread collard green pecan craisin holiday single mouthful second time winter beet salad seasonal grapefruit arugula champaign vinaigrette good forgot healthy finally week ago artichoke dip cheese business artichoke toast holy moly honestly dream stuff zero idea cheese business exactly entail craveable garlicky gooey artichoky goodness mmmm lovely cbd recommend visit friend casually posh lunch hope quality decline light besh controversy kitchen staff great work probably favorite sushi city tower avocado appetizer unique satisfying bad sushi roll go date currently low carb diet thrilled pepper tuna sashimi snow crab naruto roll personally love seaweed salad shy away rainbow roll rice paper roll favorite continue give business house add bonus deliver favorite crawfish sit spicy meat overpower friendly staff clean cozy atmosphere glad open happy mid city fun date night celebratory dinner l relative town fan chef root isaac win season stop town get meat plate smorgasbord meaty goodness like pork rillette pickled jalapeno terrine raisin bacon fresh cracklins house flavor day sausage pickle veggie good turn people easily split salad happy great deal generous portion person get gulf fish shrimp crabby rice good complaint cucumber salad way salty definitely meat plate great job chef isaac get far competition institution reason go week disappoint go crab bisque go turtle soup choose rabbit pasta appetizer scrumptious main choose crab lasagna pleasantly surprised get sea bass single good piece fish year dessert divide limoncello cherry crepe bread pudde souffle despite rave review souffle think crepe edge good dessert overall fantastic experience excellent staff memorable commander stop coolinary event celebrate friend night louisiana upstairs time feel like ignore beginning meal joke plan start cocktail excellent go coolinary menu start georgia peach salad fresh fig goat cheese hard mess salad love salad exception order seafood courtbouillon wagyu fish shrimp cook perfectly tell clams excellent trade clam bite wagyu sauce bit thick expect tasty fact friend eager steal crostini dish soak wagyu short scrumptious sauce accompany ask talk sommeli insistence guess look like actually order bottle wine pssh course choose marcel lapierre morgon beaujolais go steak surprisingly fish end bread pudding souffle peach crumble ahem anejo shot server throw joke friend slightly inebriate wine cocktail jump ah thing friend love souffle dessert crumble peach little disappointed like fruit dessert fruity twa lovely night overall glad friend good sendoff thank commander tddr coolinary menu worth price spend wine cocktail tequila shot super expensive honest disappoint pizza order load spicy sauce pesto rim fresh mozzerella goat cheese favorite veggie include roasted minced garlic fresh basil flavor explosion pizza shockingly bland figure crust lovely crisp slice ask takeaway box care bad pizza unlimited topping great deal good expect certainly good deal pizza price raise think overall decent spectacular city great pizza joint jerk chicken know right order jerk chicken meal takeaway pleasantly surprised family puerto rico hold carribbean style food high standard receive huge portion takeaway container seasoned tender chicken piece heat spicy sauce rice pea flavorful good leftover jerk chicken sauce calalloo lovely surprise mix rice peas finish include fry sweet plantain favorite include tip definitely worth certainly hanker jerk chicken especially watch psych look forward try curry goat take friend crawfish boil believer sit deck overlook water lovely server enjoy teach friend suck head enjoy crabcake salad bad experience blue crab jinx final line blue crab review snuff visit order fresh hot oyster calamari happy hour menu calamari dry thing like sit heat lamp oyster delicious obviously oyster split shrimp boil pain shrimp way overcooked bland like flavor shock order shrimp grit recommendation host find shrimp way overcook grit lumpy oddly sweet new nola guest resort dip shrimp sauce hate seafood boil normally love come blue crab recommend people particular instance force apologize people bring live reputation give embarrassed taste nola get arrive hopefully bad day love poke love lemonshark forbidden rice black rice different texture lettuce mix base chunk ahi get large force eat sinewy bit salmon sauce delicious alllll additional topping wakame salad spicy ponzu new habanero sauce delighted bowl kick reasonably price healthy gosh darn beautiful lemon cucumber water free new mochi ice cream bar love tldr get to eat lemonshark poke arrive weekday afternoon quick lunch friend order pork belly sandwich bacon sandwich coleslaw brussel sprout order counter arrival find table bring water ready atmosphere trendy open windowe garage door outer wall indoor outdoor seating high stool plentiful bar range good stellar taste coleslaw friend happy sprout delicious colorful complaint oily spoil crispness sprout large pool oil leave bowl gobble bite sandwich arrive big pile bread butter pickle despise bb pickle happy pass delighted friend thrilled munch pork belly sandwich excited disappointing love pork belly like eat meal meal meal pork belly sandwich underseasoned slice thin lose main flavor come sauce cucumber belly bread vessel relay mouth turn good sandwich amazing deliver impressed white bread despite nicely toast luckily bacon sandwich belly bacon cure smoke pork belly pile high atop hefty sandwich bite smoky little sweet salty green add hint crunch unfortunately white bread toast perfection cherry sweet potato habanero hot sauce provide table add sandwich sing rave sandwich leave certainly return cochon butcher eat bacon sandwich maybe try different process cubano convinced need try cochon door possibly good meal city hand good fish say lot title belong commander squeeze hostess minute celebratory dinner glad decision place stereotypical special occasion atmosphere open invite like formal attire casual feel right home good parent visit new orleans discover pimm cup pimm napoleon house good definitely hit spot try grapefruit thyme gin drink bit heavy thyme pair appetizer app sample crab claw tell countless time miss crab claw peche cold flavorful chili oil onion strong overpower pair fresh tuna orange cilantro citrus gastrique raw bar tangy bright keep go main sample shrimp bisque basil sauce drizzle atop surprise creamy texture usually expect bisque taste like liquid grill shrimp continue eat begin like end ask server bread sop dreg hard time choose detectable sound small large plate decide fish split table order redfish basil salsa like pesto side brussel sprout bacon green bean fish perfection crispy delicious skin light flaky meat perfectly cook overpower pesto green bean addict smoky brussel sprout tangy heat different pair perfectly groan meal good dessert split key lime pie chantilly creme eat bite despite belly crust cruncy hard hint cinnamon filling creamy thick like tart custard chantilly creme initially like overkill wrong turn good pie amazing dessert leave peche stuff happy eager pass good experience tldr peche serve amazingly delectable fish dish veggie side devour bit sure leave room dessert excellent spicy bulgogi recommend garlic pork belly fabulous time spicy miso flavor pork belly delicious side bonus point good seaweed salad japanese wakame favorite thing surprise soju dangerous seafood pancake light seafood flavor fun engage waitstaff enjoy talk table mate overall fun outing crazy want pay cook note want bbq sit table people head case plan discussion favorite area inexpensive delicious falafel flavorful gyro meat cut thick shawarma delicious especially salad free delivery live close write necessarily general experience today go today mariza celebratory birthday dinner friend hear complimentary review peer atmosphere pleasant menu intriguing order cocktail appetizer main dessert obviously satisfied story server tell indifferent start particularly willing answer question menu visibly bother fact want order appetizer enjoy order main delicious meal bring check ask separate check say state charge multiple card tab okay worry sit add bill write list card charge bring person fill receipt accordingly fine right leave return table pointedly ask member party wrong tip friend ask mean aggressively tell tip go money tab bit relevant information friend bear accent speak fluent english certainly new state friend calmly state leave tip think fair scoff state clearly understand say obviously america like continue rant minute stalk register foot away proceed loudly rude expletive thing friend server hear table bit shock speak gm courteous polite appreciated rectify situation rest table tip generously think remove tip simply wish leave point know bad day honest ruin night ruin friend birthday blow leave feeling offended comment assumption friend base accent confront experience like currently work different kind industry hot water treat like leave bad taste mouth hate admit sure group quick return mariza despite delicious summary great star ruin dining experience rude server deal wish high rating want love huge lunch menu serve breakfast day tomatillo salsa good taste like tomato water cilantro al pastor taco sweet miss spice rice tad bland waitress kind attentive overall great experience like say wish high expectation latin admittedly high standard good granny chicken great side leave desire overall delicious fresh lemonade scrumptious bread pudding memorable meal honest go weekday lunch underwhelme day order margarita start guac oaxacan chapuline grasshopper know chapuline crunchy nutty guac simply bland end ask extra lime squeeze come dry plantain chip excellent vessel guac dip par margarita good hey board marg order taco try order carnita bland expect carnita appreciate smokiness chipoltle chicken favorite chicken piece get heavily bread fried catfish small piece jalapeno tartar sauce like tartar sauce look jalapeno spice albondogas taco probably favorite queso fresco pickled onion shame order decor inside pretty love mural wall vibe trendy guess want taco want spice heat napkin require hate go short list restaurant try city tldr amazing decor surprisingly bland south border delicious healthy esmeralda salad kind good good taste bud reasonable price carmo recommend cousin cali come nola year jazz f vegetarian scout meatless option visit tag favorite new orleans totally fun caribbean vibe lot ambient light yummy cocktail scrumptious wrong meat eater veggie fan alike love menu leave satisfied taste price entire menu friendly vegetarian omnivore yes vegan yum write great stop lundi gras pizza happy hour order drizzle pizza red onion mozz feta spinach bbq sriracha ask add bacon pay sit half price wine beer table mate marvel decor particularly tmnt style doormat pizza come look absolutely spectacular alas bacon tend person fussy pay extra real truth want bacon ask server offer remake pie goodness silly bring oven bacon guess pizza look good away bring bacon option like logical choice dig baconless slice fantastic crust thin crisp gooey spicy onion spinach plentiful know bacon well little know return basket bacon like basket holy moly shock excitement eye pick crispy piece sample slice bacon phenomenal waitress sweet bring free refill bar mistake happen time huge deal mcp staff go continue patronize long love ya mcp tldr famous chef say come mcp bring em bring em come friend town want quarter leave half sandwich end eat breakfast morning sit bag day fridge night delicious good muffaletta sandwich vegan feel good eat sneaky pickle girlfriend try meatless cheese plate wine forever stave fully vegan eye sp call want dinner know admittedly take totally miss turn end go bridge finally get glimpse robin egg blue exterior regular menu small rotate special board massive order pay pick table grab water silver seat area quaint small picnic table outside willing stand heat opt vegan mac cheese love mac cheese veggie despite friend call pea mac cheese abomination pickle plate start love pickle fun fact discover google search pickle true story opt tempeh reuben golden beet toast vegan cheese probably meat involve meal arrive amazingly fast pickle come array veggie jicama beet radish pepper beet toast absolutely scrumptious clue vegan cheese tasty mac cheese super satisfying leave meal finish hooray takeout box thoroughly abomination pea tomato mushroom pro tip sriracha vegan mac deliciousness think reuben little smoky taste friend short work pleased meal total include tip get meal complaint sneaky pickle make feel good go meatless great price add bonus guarantee help er regular definitely worth visit crawfish mac cheese crawfish mac cheese crawfish mac cheese crawfish mac cheese hint pho enormous reasonably price pork belly crispy veggie good pho friend get boba tea thrill happy meal surely order meatball stromboli delivery arrive home late crave meatball sub wawa need similar order place arrive unreasonable late time order lukewarm good arrival microwave assumedly crisp crust soft driver friendly strom decent big complaint lack seasoning expect italian cuisine cheesy crisp parmesan nice touch overall satisfied order fresco tldr meatball stromboli strong cheese game bit lack season pick order guarantee hot crisp crust honestly know review doubt favorite breakfast city bring visitor city family member price fantastic breakfast tend expensive portion ample mouth delicious big fan toast ratatouille ricotta sunny egg savory crepe ham tomato gruyere bacon onion cheese salad breakfast tuesday breakfast taco special early bird breakfast classic brekky coffee honestly thing enjoy bad server delightful coffee strong atmosphere invite hip wrong toast love breakfast tldr toast amazing want foodie secret regular place brunch omelet delicious stuff crawfish traditional sausage veggie admit pecan waffle weakness prefer savory breakfast say lot pretty talk split pecan waffle dessert great local solid breakfast gimmick crazy recipe solid breakfast falafel hand good taste drive minute dollar falafel sandwich happy hour tue thur try beet salad fresh lemonade promise regret ll walk bad garlic onion breath huge smile face like middle eastern fig change mind review brunch morning go atchafalaya duck hash probably good hash hash correct taste rich savory like potato fight friend sucker shrimp grit bad mean list place make worth bloody mary bar pick booze bring pre portion bar glass bar wild think mary blood red think apparently alien form choice liquid concoction green addition bacon hot sauce horseradish celery pickle veg sight tasty treat lie say handle mean want fun tldr mary bloody pretty way like diy bar worth try pizza city pizza delicious continue dog pizza slice constantly change delicious option vegan meatatarian alike recent visit get sample garlic sauteed mushroom pancetta pizza vegan stuff artichoke pizza make pizza hand toss crust come oven light crispy sauce little spicy oh flavorful cheeseless pizza sell topping solid base delicious lie admit little biased deep dish like quality slice pie ny style pizza nola pizza delicious say order lebna gyro meat salad lunch lebna smooth creamy plenty pita suppose prefer bit sumac disappointment salad meat sad meat crunchy flavorful dressing taste bit like sit bit long par place eat city tomato mealy look anemic par favorite great friendly staff taste avocado fry carnital knowledge taco bad great pork night bland carnita sauce heavy mayonnaise green sauce provide counter add delicious overall little disappointed think taco need seasoning flavor maybe type pickle veg pico de gallo fry good taco base review hopefully bad night take parent visit city disappoint week eat heavy creole cajun look different greet table warm spoonbread get different small plate try father satisfied vegetarian special day coconut curry lot root vegetable perfectly happy vietnamese pork belly appetizer rosewater glaze carrot mother seafood lover absolutely thrilled seafood hotpot rave entire meal rattatouille definitely recommend dante look nice meal bit way normal spot good friday brunch superb idea absolutely love atmosphere patois upscale feel feel like welcome guess classy casual order fresh squeeze mimosa sweetbread duck confit salad entree sweetbread nicely cook nice crisp outside grit possibly good accompany smokey crawfish sauce perfect offal salad delicious fennel walnut apple duck obviously star crust crunchy like duck chicharron bill bit pricey salad appetizer drink say know go lovely time friend recommend patois want upscale french meal lunch pop lunch menu order basil eggplant shrimp today ask hot spicy option menu start spring roll small cup type hot sour soup chicken tofu soup tasty spring roll hot crunchy entree serve white rice excellent basil flavor shrimp veggie cook onion underdone learn ask thai hot total plus tip bad work lunch quick tasty filing reasonably price currently arrive wakin bakin wait table problem busy get table fairly easily get order pack order coffee sit wait wait hour meal breakfast burrito breakfast bowl reason take long meantime watch countless uber order pass fact single table entire currently ask girl wave state come understand busy day reason snub person customer sake carry order definitely feel like know long eat go disappointed way today good worth ridiculous wait imagine probably go door mid city pizza slice amazing cocktail chic atmosphere go find cocktail suit preference right menu feel adventurous bartender suit craving outdoor seating area feel seclude right street inside seating intimate perfect date dressy drink friend truly worth stop get free night menu short simple appreciate atmosphere small expect elbow room good space get critical staff absolutely lovely answer question water glass star server hostess order spicy option geki kara raman add corn butter chili oil add broth delicious review broth high rating pork pot roast consistency break apart sort lose corn probably favorite sure butter add get half minute egg sadden love noodle little undercooked liking tad hard eat sort gummy nice thick overall enjoy meal continue search amazing raman new orleans second time cowbell time order base review split kale salad wing crawfish mac cheese time go harvest burger previously love burger high expectation veggie burger see mom make mean find dry particularly exciting time go fellow yelper review happy salad delicious particularly love candy pecans mac cheese creamy cheesy crawfish tail actually taste sell wing cook wing sauce bacon veggie jalapeno star sweet smokey tad spicy good wing salad jalapeno bacon piece mac cheese bring level bill end leftover bad dinner tldr star evening wing sauce ll st time leave think healthy filling meal have eat poke family hawaii pretty high expectation obviously good poke oahu deliciously satisfy style remind socal like eat fresh tasty walk work order regular scoop fish large scoop bowl brown white rice mezclun lettuce choose choice raw protein range tuna salmon spicy tuna octopus shrimp fresh time pick meat flavoring include ponzu sauce tamari cilantro cucumber topping add like seaweed salad favorite extra crab salad avocado extra mango radish pickle ginger edamame finish choice tobiko aka fish roe recommend wasabi aiolis crunchy element yummy leave want end star healthy fast meal consider work score free bowl fun trendy atmosphere amicable bartender decent drink price sure wait slow ramos gin fizz time nice frothy clesi sip love boil crawfish fancy cocktail time bit pricy like pay favorite spot sit deck eat fry calamari drinking coronarita try meat side consist brisket favorite rib favorite smoke chicken wing sausage favorite pulled pork smoke chicken side mac cheese favorite coleslaw potato salad bake bean cheese grit brussel sprout favorite favorite sauce jerk bbq carolina style house sauce serve slice white onion pickle white bread overall good agree good definitely great location extra point open late friday saturday fun sit counter talk fellow night owl continue party wind staff fun friendly server dennis cheerful late time fast good burger patty overcooked little burn bacon point onion ring fulfil greasy crave perfectly eatery late hunger fast curb great atmosphere disappoint duck hash chicken liver scrumptious return elizabeth weekend visit family lovely meal order candy pecan bacon thrilled soft egg perfectly poach hollandaise thick creamy chicken liver delicious family thrill prospect fried green tomato gizzard breakfast good brunch stop app sit bar excellent time talk head bartender recommend spicy serve pony excellent rose ale nosh pork belly brussel probably good pork belly year crunchy sprout butternut squash puree nofwe entree crawfish dumpling spicy creamy corn chewy dumpling perfect beverage open kitchen relaxed upscale atmosphere perfect date nice meal reasonable price pleased definitely maybe wagyu shortrib duck squid ink crab pasta tldr upscale affordable eat oak street innovative tasty crawfish massive spicy boil side phenomenally flavor like expect onion ring good andouille stir fry good ask meal cheesy crab dip crab eat fork scrumptious boil shrimp flavor overcooked like staff great fun cook kitchen sit finally pineapple bread pudding slice fry serve caramelized pineapple good bread pudding louisiana yum'"
      ]
     },
     "execution_count": 122,
     "metadata": {},
     "output_type": "execute_result"
    }
   ],
   "source": [
    "df_grouped['lemmatized'].iloc[278]"
   ]
  },
  {
   "cell_type": "code",
   "execution_count": 130,
   "metadata": {},
   "outputs": [
    {
     "data": {
      "text/plain": [
       "<matplotlib.collections.PathCollection at 0x2335670ee20>"
      ]
     },
     "execution_count": 130,
     "metadata": {},
     "output_type": "execute_result"
    },
    {
     "data": {
      "image/png": "[encoded data removed]",
      "text/plain": [
       "<Figure size 432x288 with 1 Axes>"
      ]
     },
     "metadata": {
      "needs_background": "light"
     },
     "output_type": "display_data"
    }
   ],
   "source": [
    "# doc_tags is just a list of every unique document tag/beer_id\n",
    "doc_tags = list(model.dv.index_to_key)# get the vector for each doc_tag\n",
    "X = model[doc_tags]# Fit and transform a t-SNE object with the vector data for dimensionality reduction\n",
    "tsne = TSNE(n_components=2, perplexity=2, n_iter = 2000, metric='cosine', random_state=42)\n",
    "X_tsne = tsne.fit_transform(X)\n",
    "df = pd.DataFrame(X_tsne, index=doc_tags, columns=['x', 'y'])# create a scatterplot of the resulting 2-dimensional data\n",
    "plt.scatter(df['x'], df['y'])"
   ]
  },
  {
   "attachments": {},
   "cell_type": "markdown",
   "metadata": {},
   "source": [
    "## Lets try using the similar users we found here back in our RecSys"
   ]
  },
  {
   "cell_type": "code",
   "execution_count": 124,
   "metadata": {},
   "outputs": [],
   "source": [
    "sim_users_dict = {}\n",
    "for row in df_grouped.itertuples(): \n",
    "    sim_users_dict[row.user_id] = model.dv.most_similar(str(row.Index), topn=50)"
   ]
  },
  {
   "cell_type": "code",
   "execution_count": 128,
   "metadata": {},
   "outputs": [],
   "source": [
    "def evaluateRecommendation(filled_df, split_df, user= '5tXRxr4T24Awl7vjyCvIcQ', avg_user = 2): \n",
    "    \n",
    "    ordered = sim_users_dict[user]\n",
    "    top5 = ordered[:avg_user]\n",
    "    user_idx = []\n",
    "    user_id_list = []\n",
    "    for itm in top5:\n",
    "        user_idx.append(itm[0])\n",
    "    for idx in user_idx:\n",
    "        user_id_list.append(df_grouped['user_id'].iloc[int(idx)])\n",
    "    sim_users = filled_df[split_df.columns]\n",
    "    sim_users = sim_users.loc[sim_users.index.isin(user_id_list)]\n",
    "    #print(sim_users)\n",
    "    avg_ratings = pd.DataFrame(sim_users.mean(axis=0)).T\n",
    "    user_of_interest = split_df.loc[split_df.index==user]\n",
    "\n",
    "    mask = user_of_interest.notna()\n",
    "    preds = avg_ratings.values[mask]\n",
    "    gt = user_of_interest.values[mask]\n",
    "\n",
    "    rmse = mean_squared_error(gt, preds, squared=False)\n",
    "    mae = mean_absolute_error(gt, preds)\n",
    "\n",
    "    return rmse, mae"
   ]
  },
  {
   "cell_type": "code",
   "execution_count": 129,
   "metadata": {},
   "outputs": [
    {
     "name": "stdout",
     "output_type": "stream",
     "text": [
      "Average mean squared error:  1.08896\n",
      "Average mean absolute error:  0.86274\n"
     ]
    }
   ],
   "source": [
    "val_pivot = makePivot(val)\n",
    "filled, _ = compute_filled_matrix(train_pivot, 230)\n",
    "rmse = []\n",
    "mae = []\n",
    "users_of_interest = val_pivot.index.values\n",
    "for user_id in users_of_interest:\n",
    "    user_rmse, user_mae = evaluateRecommendation(filled, val_pivot, user_id, avg_user = 1)\n",
    "    rmse.append(user_rmse)\n",
    "    mae.append(user_mae)\n",
    "\n",
    "print('Average mean squared error: ', np.round(np.mean(rmse),5))\n",
    "print('Average mean absolute error: ', np.round(np.mean(mae),5))"
   ]
  },
  {
   "cell_type": "code",
   "execution_count": 324,
   "metadata": {},
   "outputs": [],
   "source": [
    "k_array = np.arange(2, 327)\n",
    "numb_users = np.arange(1,11)\n",
    "k_rmse_list, k_mae_list = [], []\n",
    "\n",
    "for k in k_array:\n",
    "    val_rmse_list, val_mae_list = [], []\n",
    "    for numb in numb_users: \n",
    "        filled = compute_filled_matrix(train_pivot, k)\n",
    "        rmse = []\n",
    "        mae = []\n",
    "        users_of_interest = val_pivot.index.values\n",
    "        for user in users_of_interest:\n",
    "            user_rmse, user_mae = evaluateRecommendation(filled, val_pivot, user, avg_user = numb)\n",
    "            rmse.append(user_rmse)\n",
    "            mae.append(user_mae)\n",
    "\n",
    "        val_rmse_list.append(np.mean(rmse))\n",
    "        val_mae_list.append(np.mean(mae))\n",
    "\n",
    "    k_rmse_list.append(val_rmse_list)\n",
    "    k_mae_list.append(val_mae_list)\n"
   ]
  },
  {
   "cell_type": "code",
   "execution_count": null,
   "metadata": {},
   "outputs": [],
   "source": [
    "#plt.plot(k_array, train_rmse_list, label = 'Train RMSE')\n",
    "plt.plot(k_array, val_rmse_list, '--', label = 'Val RMSE')\n",
    "#plt.plot(k_array, train_mae_list, label = 'Train MAE')\n",
    "plt.plot(k_array, val_mae_list, '--', label = 'Val MAE')\n",
    "plt.legend(loc = 1)\n",
    "plt.title('Error vs. K')\n",
    "plt.ylabel('Error')\n",
    "plt.xlabel('K value')"
   ]
  },
  {
   "cell_type": "code",
   "execution_count": 138,
   "metadata": {},
   "outputs": [
    {
     "data": {
      "text/plain": [
       "327"
      ]
     },
     "execution_count": 138,
     "metadata": {},
     "output_type": "execute_result"
    }
   ],
   "source": [
    "len(df_grouped['tokenized'].to_list())"
   ]
  },
  {
   "attachments": {},
   "cell_type": "markdown",
   "metadata": {},
   "source": [
    "## Another attempt this time using truncated SVD"
   ]
  },
  {
   "cell_type": "code",
   "execution_count": 142,
   "metadata": {},
   "outputs": [],
   "source": [
    "tfidf_vec = TfidfVectorizer(analyzer='word', min_df = 2)\n",
    "\n",
    "def identity_tokenizer(text):\n",
    "    return text\n",
    "\n",
    "tfidf = TfidfVectorizer(tokenizer=identity_tokenizer, lowercase=False)    \n",
    "train_tfidf = tfidf.fit_transform(df_grouped['tokenized'].to_list())"
   ]
  },
  {
   "cell_type": "code",
   "execution_count": 143,
   "metadata": {},
   "outputs": [
    {
     "name": "stdout",
     "output_type": "stream",
     "text": [
      "Number of components = 3 and explained variance = 0.06767264468166372\n",
      "Number of components = 5 and explained variance = 0.10702566903616587\n",
      "Number of components = 10 and explained variance = 0.16040537340140215\n",
      "Number of components = 15 and explained variance = 0.1984595752970498\n",
      "Number of components = 20 and explained variance = 0.23163205585563157\n",
      "Number of components = 30 and explained variance = 0.28648700186033227\n",
      "Number of components = 40 and explained variance = 0.33413576305313447\n",
      "Number of components = 50 and explained variance = 0.37690307991296546\n",
      "Number of components = 100 and explained variance = 0.5551089808192369\n",
      "Number of components = 150 and explained variance = 0.6945043802041461\n",
      "Number of components = 200 and explained variance = 0.8082026692472151\n",
      "Number of components = 250 and explained variance = 0.8999079000041241\n",
      "Number of components = 300 and explained variance = 0.971329696729735\n"
     ]
    },
    {
     "data": {
      "image/png": "[encoded data removed]",
      "text/plain": [
       "<Figure size 432x288 with 1 Axes>"
      ]
     },
     "metadata": {
      "needs_background": "light"
     },
     "output_type": "display_data"
    }
   ],
   "source": [
    "# Program to find the optimal number of components for Truncated SVD\n",
    "n_comp = [3, 5, 10, 15, 20, 30, 40, 50, 100, 150, 200, 250, 300] # list containing different values of components\n",
    "explained = [] # explained variance ratio for each component of Truncated SVD\n",
    "for x in n_comp:\n",
    "    svd = TruncatedSVD(n_components=x)\n",
    "    svd.fit(train_tfidf)\n",
    "    explained.append(svd.explained_variance_ratio_.sum())\n",
    "    print(\"Number of components = %r and explained variance = %r\"%(x,svd.explained_variance_ratio_.sum()))\n",
    "    \n",
    "\n",
    "plt.plot(n_comp, explained)\n",
    "plt.xlabel('Number of components')\n",
    "plt.ylabel(\"Explained Variance\")\n",
    "plt.title(\"Plot of Number of components v/s explained variance\")\n",
    "plt.show()"
   ]
  },
  {
   "cell_type": "code",
   "execution_count": 146,
   "metadata": {},
   "outputs": [],
   "source": [
    "svd = TruncatedSVD(n_components=300)\n",
    "tfidf_svd = svd.fit_transform(train_tfidf)"
   ]
  },
  {
   "cell_type": "code",
   "execution_count": 151,
   "metadata": {},
   "outputs": [
    {
     "data": {
      "text/html": [
       "<div>\n",
       "<style scoped>\n",
       "    .dataframe tbody tr th:only-of-type {\n",
       "        vertical-align: middle;\n",
       "    }\n",
       "\n",
       "    .dataframe tbody tr th {\n",
       "        vertical-align: top;\n",
       "    }\n",
       "\n",
       "    .dataframe thead th {\n",
       "        text-align: right;\n",
       "    }\n",
       "</style>\n",
       "<table border=\"1\" class=\"dataframe\">\n",
       "  <thead>\n",
       "    <tr style=\"text-align: right;\">\n",
       "      <th></th>\n",
       "      <th>0</th>\n",
       "      <th>1</th>\n",
       "      <th>2</th>\n",
       "      <th>3</th>\n",
       "      <th>4</th>\n",
       "      <th>5</th>\n",
       "      <th>6</th>\n",
       "      <th>7</th>\n",
       "      <th>8</th>\n",
       "      <th>9</th>\n",
       "      <th>...</th>\n",
       "      <th>290</th>\n",
       "      <th>291</th>\n",
       "      <th>292</th>\n",
       "      <th>293</th>\n",
       "      <th>294</th>\n",
       "      <th>295</th>\n",
       "      <th>296</th>\n",
       "      <th>297</th>\n",
       "      <th>298</th>\n",
       "      <th>299</th>\n",
       "    </tr>\n",
       "    <tr>\n",
       "      <th>user_id</th>\n",
       "      <th></th>\n",
       "      <th></th>\n",
       "      <th></th>\n",
       "      <th></th>\n",
       "      <th></th>\n",
       "      <th></th>\n",
       "      <th></th>\n",
       "      <th></th>\n",
       "      <th></th>\n",
       "      <th></th>\n",
       "      <th></th>\n",
       "      <th></th>\n",
       "      <th></th>\n",
       "      <th></th>\n",
       "      <th></th>\n",
       "      <th></th>\n",
       "      <th></th>\n",
       "      <th></th>\n",
       "      <th></th>\n",
       "      <th></th>\n",
       "      <th></th>\n",
       "    </tr>\n",
       "  </thead>\n",
       "  <tbody>\n",
       "    <tr>\n",
       "      <th>-MRD72DXnVgjkM1AVFp7Nw</th>\n",
       "      <td>0.646475</td>\n",
       "      <td>-0.005477</td>\n",
       "      <td>-0.066595</td>\n",
       "      <td>0.030945</td>\n",
       "      <td>-0.009354</td>\n",
       "      <td>-0.010320</td>\n",
       "      <td>-0.055666</td>\n",
       "      <td>0.051735</td>\n",
       "      <td>0.079645</td>\n",
       "      <td>-0.113431</td>\n",
       "      <td>...</td>\n",
       "      <td>0.020315</td>\n",
       "      <td>0.020058</td>\n",
       "      <td>-0.004838</td>\n",
       "      <td>-0.005427</td>\n",
       "      <td>-0.001493</td>\n",
       "      <td>-0.016998</td>\n",
       "      <td>-0.014617</td>\n",
       "      <td>-0.013640</td>\n",
       "      <td>-0.001689</td>\n",
       "      <td>0.000185</td>\n",
       "    </tr>\n",
       "    <tr>\n",
       "      <th>-SO_K8oLVH_9J23z2MtjGg</th>\n",
       "      <td>0.498146</td>\n",
       "      <td>-0.119526</td>\n",
       "      <td>-0.091155</td>\n",
       "      <td>0.177742</td>\n",
       "      <td>-0.003468</td>\n",
       "      <td>-0.143394</td>\n",
       "      <td>0.025415</td>\n",
       "      <td>-0.030927</td>\n",
       "      <td>-0.005275</td>\n",
       "      <td>-0.005603</td>\n",
       "      <td>...</td>\n",
       "      <td>-0.006215</td>\n",
       "      <td>0.027092</td>\n",
       "      <td>0.010172</td>\n",
       "      <td>0.012593</td>\n",
       "      <td>0.015313</td>\n",
       "      <td>0.021147</td>\n",
       "      <td>-0.002136</td>\n",
       "      <td>-0.003089</td>\n",
       "      <td>-0.004942</td>\n",
       "      <td>0.027422</td>\n",
       "    </tr>\n",
       "    <tr>\n",
       "      <th>-Tg5YTEMbnYw3fQN99xKCQ</th>\n",
       "      <td>0.500308</td>\n",
       "      <td>0.146390</td>\n",
       "      <td>-0.032099</td>\n",
       "      <td>-0.022158</td>\n",
       "      <td>0.090939</td>\n",
       "      <td>0.021051</td>\n",
       "      <td>-0.030686</td>\n",
       "      <td>-0.081484</td>\n",
       "      <td>0.070989</td>\n",
       "      <td>0.020807</td>\n",
       "      <td>...</td>\n",
       "      <td>0.003156</td>\n",
       "      <td>0.019519</td>\n",
       "      <td>0.000170</td>\n",
       "      <td>0.006745</td>\n",
       "      <td>-0.002778</td>\n",
       "      <td>-0.000304</td>\n",
       "      <td>0.006996</td>\n",
       "      <td>0.005280</td>\n",
       "      <td>-0.014930</td>\n",
       "      <td>0.006049</td>\n",
       "    </tr>\n",
       "    <tr>\n",
       "      <th>-V7frksbFjKQYVhrPnnlPw</th>\n",
       "      <td>0.766176</td>\n",
       "      <td>0.063415</td>\n",
       "      <td>0.159567</td>\n",
       "      <td>-0.263082</td>\n",
       "      <td>0.012028</td>\n",
       "      <td>0.012063</td>\n",
       "      <td>-0.014858</td>\n",
       "      <td>0.041805</td>\n",
       "      <td>0.022864</td>\n",
       "      <td>-0.050263</td>\n",
       "      <td>...</td>\n",
       "      <td>-0.051366</td>\n",
       "      <td>-0.008564</td>\n",
       "      <td>0.001628</td>\n",
       "      <td>-0.062460</td>\n",
       "      <td>-0.023196</td>\n",
       "      <td>0.098947</td>\n",
       "      <td>-0.055493</td>\n",
       "      <td>0.019284</td>\n",
       "      <td>0.026093</td>\n",
       "      <td>0.005919</td>\n",
       "    </tr>\n",
       "    <tr>\n",
       "      <th>-_Y8Mal7S750TsB6yMMDHA</th>\n",
       "      <td>0.589050</td>\n",
       "      <td>0.037032</td>\n",
       "      <td>0.114333</td>\n",
       "      <td>-0.024557</td>\n",
       "      <td>-0.007197</td>\n",
       "      <td>-0.111009</td>\n",
       "      <td>0.089991</td>\n",
       "      <td>-0.026967</td>\n",
       "      <td>0.158262</td>\n",
       "      <td>-0.016101</td>\n",
       "      <td>...</td>\n",
       "      <td>-0.016647</td>\n",
       "      <td>-0.024486</td>\n",
       "      <td>0.001289</td>\n",
       "      <td>-0.010082</td>\n",
       "      <td>-0.005354</td>\n",
       "      <td>0.000849</td>\n",
       "      <td>0.012468</td>\n",
       "      <td>-0.010637</td>\n",
       "      <td>-0.000428</td>\n",
       "      <td>-0.017411</td>\n",
       "    </tr>\n",
       "  </tbody>\n",
       "</table>\n",
       "<p>5 rows × 300 columns</p>\n",
       "</div>"
      ],
      "text/plain": [
       "                             0         1         2         3         4    \\\n",
       "user_id                                                                    \n",
       "-MRD72DXnVgjkM1AVFp7Nw  0.646475 -0.005477 -0.066595  0.030945 -0.009354   \n",
       "-SO_K8oLVH_9J23z2MtjGg  0.498146 -0.119526 -0.091155  0.177742 -0.003468   \n",
       "-Tg5YTEMbnYw3fQN99xKCQ  0.500308  0.146390 -0.032099 -0.022158  0.090939   \n",
       "-V7frksbFjKQYVhrPnnlPw  0.766176  0.063415  0.159567 -0.263082  0.012028   \n",
       "-_Y8Mal7S750TsB6yMMDHA  0.589050  0.037032  0.114333 -0.024557 -0.007197   \n",
       "\n",
       "                             5         6         7         8         9    ...  \\\n",
       "user_id                                                                   ...   \n",
       "-MRD72DXnVgjkM1AVFp7Nw -0.010320 -0.055666  0.051735  0.079645 -0.113431  ...   \n",
       "-SO_K8oLVH_9J23z2MtjGg -0.143394  0.025415 -0.030927 -0.005275 -0.005603  ...   \n",
       "-Tg5YTEMbnYw3fQN99xKCQ  0.021051 -0.030686 -0.081484  0.070989  0.020807  ...   \n",
       "-V7frksbFjKQYVhrPnnlPw  0.012063 -0.014858  0.041805  0.022864 -0.050263  ...   \n",
       "-_Y8Mal7S750TsB6yMMDHA -0.111009  0.089991 -0.026967  0.158262 -0.016101  ...   \n",
       "\n",
       "                             290       291       292       293       294  \\\n",
       "user_id                                                                    \n",
       "-MRD72DXnVgjkM1AVFp7Nw  0.020315  0.020058 -0.004838 -0.005427 -0.001493   \n",
       "-SO_K8oLVH_9J23z2MtjGg -0.006215  0.027092  0.010172  0.012593  0.015313   \n",
       "-Tg5YTEMbnYw3fQN99xKCQ  0.003156  0.019519  0.000170  0.006745 -0.002778   \n",
       "-V7frksbFjKQYVhrPnnlPw -0.051366 -0.008564  0.001628 -0.062460 -0.023196   \n",
       "-_Y8Mal7S750TsB6yMMDHA -0.016647 -0.024486  0.001289 -0.010082 -0.005354   \n",
       "\n",
       "                             295       296       297       298       299  \n",
       "user_id                                                                   \n",
       "-MRD72DXnVgjkM1AVFp7Nw -0.016998 -0.014617 -0.013640 -0.001689  0.000185  \n",
       "-SO_K8oLVH_9J23z2MtjGg  0.021147 -0.002136 -0.003089 -0.004942  0.027422  \n",
       "-Tg5YTEMbnYw3fQN99xKCQ -0.000304  0.006996  0.005280 -0.014930  0.006049  \n",
       "-V7frksbFjKQYVhrPnnlPw  0.098947 -0.055493  0.019284  0.026093  0.005919  \n",
       "-_Y8Mal7S750TsB6yMMDHA  0.000849  0.012468 -0.010637 -0.000428 -0.017411  \n",
       "\n",
       "[5 rows x 300 columns]"
      ]
     },
     "execution_count": 151,
     "metadata": {},
     "output_type": "execute_result"
    }
   ],
   "source": [
    "tfidf_svd = pd.DataFrame(tfidf_svd, index = train_pivot.index)\n",
    "tfidf_svd.head()"
   ]
  },
  {
   "cell_type": "code",
   "execution_count": 159,
   "metadata": {},
   "outputs": [
    {
     "name": "stdout",
     "output_type": "stream",
     "text": [
      "Average mean squared error:  0.77768\n",
      "Average mean absolute error:  0.58713\n"
     ]
    }
   ],
   "source": [
    "filled_277, U = compute_filled_matrix(train_pivot, 230)\n",
    "rmse = []\n",
    "mae = []\n",
    "users_of_interest = val_pivot.index.values\n",
    "for user_id in users_of_interest:\n",
    "    user_rmse, user_mae = evaluateRecommendation(filled_277, tfidf_svd, val_pivot, user_id, avg_user=2)\n",
    "    rmse.append(user_rmse)\n",
    "    mae.append(user_mae)\n",
    "\n",
    "print('Average mean squared error: ', np.round(np.mean(rmse),5))\n",
    "print('Average mean absolute error: ', np.round(np.mean(mae),5))"
   ]
  },
  {
   "cell_type": "code",
   "execution_count": 161,
   "metadata": {},
   "outputs": [
    {
     "data": {
      "text/plain": [
       "Text(0.5, 0, 'K value')"
      ]
     },
     "execution_count": 161,
     "metadata": {},
     "output_type": "execute_result"
    },
    {
     "data": {
      "image/png": "[encoded data removed]",
      "text/plain": [
       "<Figure size 432x288 with 1 Axes>"
      ]
     },
     "metadata": {
      "needs_background": "light"
     },
     "output_type": "display_data"
    }
   ],
   "source": [
    "n_comp = np.arange(2, 327)\n",
    "val_rmse_list, val_mae_list = [], []\n",
    "\n",
    "filled, _ = compute_filled_matrix(train_pivot, 230)\n",
    "users_of_interest = val_pivot.index.values\n",
    "\n",
    "for n in n_comp:\n",
    "    \n",
    "    svd = TruncatedSVD(n_components=n)\n",
    "    tfidf_svd = svd.fit_transform(train_tfidf)\n",
    "    tfidf_svd = pd.DataFrame(tfidf_svd, index = train_pivot.index)\n",
    "\n",
    "    rmse = []\n",
    "    mae = []\n",
    "  \n",
    "    for user in users_of_interest:\n",
    "        user_rmse, user_mae = evaluateRecommendation(filled, tfidf_svd, val_pivot, user)\n",
    "        rmse.append(user_rmse)\n",
    "        mae.append(user_mae)\n",
    "\n",
    "    val_rmse_list.append(np.mean(rmse))\n",
    "    val_mae_list.append(np.mean(mae))\n",
    "\n",
    "#plt.plot(k_array, train_rmse_list, label = 'Train RMSE')\n",
    "plt.plot(k_array, val_rmse_list, label = 'Val RMSE')\n",
    "#plt.plot(k_array, train_mae_list, label = 'Train MAE')\n",
    "plt.plot(k_array, val_mae_list, label = 'Val MAE')\n",
    "plt.legend(loc = 1)\n",
    "plt.title('Error vs. K')\n",
    "plt.ylabel('Error')\n",
    "plt.xlabel('K value')"
   ]
  },
  {
   "cell_type": "code",
   "execution_count": 163,
   "metadata": {},
   "outputs": [
    {
     "name": "stdout",
     "output_type": "stream",
     "text": [
      "Minimum RMSE on val: 0.7545549923847422, index: 41 \n",
      "Minimum MAE on val: 0.5677283708080847, index: 200 \n",
      "K at minimum rmse index:  43\n",
      "K at minimum mae index:  202\n"
     ]
    }
   ],
   "source": [
    "print('Minimum RMSE on val: {}, index: {} '.format(min(val_rmse_list), val_rmse_list.index(min(val_rmse_list))))\n",
    "print('Minimum MAE on val: {}, index: {} '.format(min(val_mae_list), val_mae_list.index(min(val_mae_list))))\n",
    "print('K at minimum rmse index: ', n_comp[val_rmse_list.index(min(val_rmse_list))])\n",
    "print('K at minimum mae index: ', n_comp[val_mae_list.index(min(val_mae_list))])"
   ]
  },
  {
   "cell_type": "code",
   "execution_count": 224,
   "metadata": {},
   "outputs": [
    {
     "name": "stdout",
     "output_type": "stream",
     "text": [
      "Average mean squared error:  0.92635\n",
      "Average mean absolute error:  0.75671\n"
     ]
    }
   ],
   "source": [
    "filled_277, _ = compute_filled_matrix(train_pivot, 41)\n",
    "svd = TruncatedSVD(n_components=41)\n",
    "tfidf_svd = svd.fit_transform(train_tfidf)\n",
    "tfidf_svd = pd.DataFrame(tfidf_svd, index = train_pivot.index)\n",
    "\n",
    "rmse = []\n",
    "mae = []\n",
    "users_of_interest = test_pivot.index.values\n",
    "for user_id in users_of_interest:\n",
    "    user_rmse, user_mae = evaluateRecommendation(filled_277, tfidf_svd, test_pivot, user_id, avg_user=2)\n",
    "    rmse.append(user_rmse)\n",
    "    mae.append(user_mae)\n",
    "\n",
    "print('Average mean squared error: ', np.round(np.mean(rmse),5))\n",
    "print('Average mean absolute error: ', np.round(np.mean(mae),5))"
   ]
  }
 ],
 "metadata": {
  "kernelspec": {
   "display_name": "practice",
   "language": "python",
   "name": "python3"
  },
  "language_info": {
   "codemirror_mode": {
    "name": "ipython",
    "version": 3
   },
   "file_extension": ".py",
   "mimetype": "text/x-python",
   "name": "python",
   "nbconvert_exporter": "python",
   "pygments_lexer": "ipython3",
   "version": "3.8.12"
  },
  "orig_nbformat": 4
 },
 "nbformat": 4,
 "nbformat_minor": 2
}
