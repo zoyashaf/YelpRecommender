{
 "cells": [
  {
   "cell_type": "code",
   "execution_count": 1,
   "id": "ec045385",
   "metadata": {},
   "outputs": [],
   "source": [
    "import numpy as np\n",
    "import pandas as pd\n",
    "import matplotlib.pyplot as plt\n",
    "import seaborn as sns \n",
    "from scipy.sparse.linalg import svds\n",
    "from scipy.spatial.distance import cosine \n",
    "from sklearn.metrics.pairwise import cosine_similarity\n",
    "from sklearn.metrics import mean_squared_error\n",
    "from sklearn.metrics import mean_absolute_error\n",
    "from sklearn.model_selection import train_test_split"
   ]
  },
  {
   "cell_type": "code",
   "execution_count": 2,
   "id": "7832f052",
   "metadata": {},
   "outputs": [],
   "source": [
    "path = '/Users/syedfaquaruddinquadri/Documents/Applied ML and DM/Final Project/machine-learning-dse-i210-final-project-yelprestaurantrecommender/data/processed'\n",
    "business = pd.read_csv(path + '/business.csv')\n",
    "restaurants = business[business.categories.fillna('-').str.lower().str.contains('restaurant')]"
   ]
  },
  {
   "cell_type": "code",
   "execution_count": 3,
   "id": "cff37b25",
   "metadata": {},
   "outputs": [
    {
     "data": {
      "text/html": [
       "<div>\n",
       "<style scoped>\n",
       "    .dataframe tbody tr th:only-of-type {\n",
       "        vertical-align: middle;\n",
       "    }\n",
       "\n",
       "    .dataframe tbody tr th {\n",
       "        vertical-align: top;\n",
       "    }\n",
       "\n",
       "    .dataframe thead th {\n",
       "        text-align: right;\n",
       "    }\n",
       "</style>\n",
       "<table border=\"1\" class=\"dataframe\">\n",
       "  <thead>\n",
       "    <tr style=\"text-align: right;\">\n",
       "      <th></th>\n",
       "      <th>Unnamed: 0</th>\n",
       "      <th>address</th>\n",
       "      <th>attributes</th>\n",
       "      <th>business_id</th>\n",
       "      <th>categories</th>\n",
       "      <th>city</th>\n",
       "      <th>hours</th>\n",
       "      <th>is_open</th>\n",
       "      <th>latitude</th>\n",
       "      <th>longitude</th>\n",
       "      <th>name</th>\n",
       "      <th>postal_code</th>\n",
       "      <th>review_count</th>\n",
       "      <th>stars</th>\n",
       "      <th>state</th>\n",
       "    </tr>\n",
       "  </thead>\n",
       "  <tbody>\n",
       "    <tr>\n",
       "      <th>0</th>\n",
       "      <td>0</td>\n",
       "      <td>712 Adams St</td>\n",
       "      <td>Row(AcceptsInsurance=None, AgesAllowed=None, A...</td>\n",
       "      <td>M0XSSHqrASOnhgbWDJIpQA</td>\n",
       "      <td>Vape Shops, Tobacco Shops, Personal Shopping, ...</td>\n",
       "      <td>New Orleans</td>\n",
       "      <td>Row(Friday='10:0-19:0', Monday='10:0-19:0', Sa...</td>\n",
       "      <td>1</td>\n",
       "      <td>29.941468</td>\n",
       "      <td>-90.129953</td>\n",
       "      <td>Herb Import Co</td>\n",
       "      <td>70118.0</td>\n",
       "      <td>5</td>\n",
       "      <td>4.0</td>\n",
       "      <td>LA</td>\n",
       "    </tr>\n",
       "    <tr>\n",
       "      <th>1</th>\n",
       "      <td>1</td>\n",
       "      <td>100 Iberville St</td>\n",
       "      <td>Row(AcceptsInsurance=None, AgesAllowed=None, A...</td>\n",
       "      <td>w_AMNoI1iG9eay7ncmc67w</td>\n",
       "      <td>Event Planning &amp; Services, Hotels, Hotels &amp; Tr...</td>\n",
       "      <td>New Orleans</td>\n",
       "      <td>NaN</td>\n",
       "      <td>1</td>\n",
       "      <td>29.951359</td>\n",
       "      <td>-90.064672</td>\n",
       "      <td>River 127</td>\n",
       "      <td>70130.0</td>\n",
       "      <td>12</td>\n",
       "      <td>3.0</td>\n",
       "      <td>LA</td>\n",
       "    </tr>\n",
       "    <tr>\n",
       "      <th>2</th>\n",
       "      <td>2</td>\n",
       "      <td>723 St Peter St</td>\n",
       "      <td>Row(AcceptsInsurance=None, AgesAllowed=None, A...</td>\n",
       "      <td>uczmbBk5O3tYhGue13dCDg</td>\n",
       "      <td>Hotels &amp; Travel, Tours, Local Flavor</td>\n",
       "      <td>New Orleans</td>\n",
       "      <td>Row(Friday='10:0-20:0', Monday='0:0-0:0', Satu...</td>\n",
       "      <td>1</td>\n",
       "      <td>29.958431</td>\n",
       "      <td>-90.065173</td>\n",
       "      <td>New Orleans Spirit Tours</td>\n",
       "      <td>70130.0</td>\n",
       "      <td>38</td>\n",
       "      <td>4.0</td>\n",
       "      <td>LA</td>\n",
       "    </tr>\n",
       "    <tr>\n",
       "      <th>3</th>\n",
       "      <td>3</td>\n",
       "      <td>1001 Poydras St</td>\n",
       "      <td>Row(AcceptsInsurance=None, AgesAllowed=None, A...</td>\n",
       "      <td>YNjyv0gfOr2g8lbmUpTnKg</td>\n",
       "      <td>Nightlife, Pubs, Event Planning &amp; Services, Wi...</td>\n",
       "      <td>New Orleans</td>\n",
       "      <td>Row(Friday='11:0-23:0', Monday='0:0-0:0', Satu...</td>\n",
       "      <td>1</td>\n",
       "      <td>29.950647</td>\n",
       "      <td>-90.074427</td>\n",
       "      <td>Copper Vine</td>\n",
       "      <td>70112.0</td>\n",
       "      <td>350</td>\n",
       "      <td>4.5</td>\n",
       "      <td>LA</td>\n",
       "    </tr>\n",
       "    <tr>\n",
       "      <th>4</th>\n",
       "      <td>4</td>\n",
       "      <td>600 Decatur St</td>\n",
       "      <td>Row(AcceptsInsurance=None, AgesAllowed=None, A...</td>\n",
       "      <td>J_ksUDPpzPwfTGtI4zTRnQ</td>\n",
       "      <td>Event Planning &amp; Services, Caterers, Party &amp; E...</td>\n",
       "      <td>New Orleans</td>\n",
       "      <td>Row(Friday='9:0-16:0', Monday='9:0-16:0', Satu...</td>\n",
       "      <td>1</td>\n",
       "      <td>29.955925</td>\n",
       "      <td>-90.062962</td>\n",
       "      <td>Riverview Room</td>\n",
       "      <td>70130.0</td>\n",
       "      <td>7</td>\n",
       "      <td>4.5</td>\n",
       "      <td>LA</td>\n",
       "    </tr>\n",
       "  </tbody>\n",
       "</table>\n",
       "</div>"
      ],
      "text/plain": [
       "   Unnamed: 0           address  \\\n",
       "0           0      712 Adams St   \n",
       "1           1  100 Iberville St   \n",
       "2           2   723 St Peter St   \n",
       "3           3   1001 Poydras St   \n",
       "4           4    600 Decatur St   \n",
       "\n",
       "                                          attributes             business_id  \\\n",
       "0  Row(AcceptsInsurance=None, AgesAllowed=None, A...  M0XSSHqrASOnhgbWDJIpQA   \n",
       "1  Row(AcceptsInsurance=None, AgesAllowed=None, A...  w_AMNoI1iG9eay7ncmc67w   \n",
       "2  Row(AcceptsInsurance=None, AgesAllowed=None, A...  uczmbBk5O3tYhGue13dCDg   \n",
       "3  Row(AcceptsInsurance=None, AgesAllowed=None, A...  YNjyv0gfOr2g8lbmUpTnKg   \n",
       "4  Row(AcceptsInsurance=None, AgesAllowed=None, A...  J_ksUDPpzPwfTGtI4zTRnQ   \n",
       "\n",
       "                                          categories         city  \\\n",
       "0  Vape Shops, Tobacco Shops, Personal Shopping, ...  New Orleans   \n",
       "1  Event Planning & Services, Hotels, Hotels & Tr...  New Orleans   \n",
       "2               Hotels & Travel, Tours, Local Flavor  New Orleans   \n",
       "3  Nightlife, Pubs, Event Planning & Services, Wi...  New Orleans   \n",
       "4  Event Planning & Services, Caterers, Party & E...  New Orleans   \n",
       "\n",
       "                                               hours  is_open   latitude  \\\n",
       "0  Row(Friday='10:0-19:0', Monday='10:0-19:0', Sa...        1  29.941468   \n",
       "1                                                NaN        1  29.951359   \n",
       "2  Row(Friday='10:0-20:0', Monday='0:0-0:0', Satu...        1  29.958431   \n",
       "3  Row(Friday='11:0-23:0', Monday='0:0-0:0', Satu...        1  29.950647   \n",
       "4  Row(Friday='9:0-16:0', Monday='9:0-16:0', Satu...        1  29.955925   \n",
       "\n",
       "   longitude                      name  postal_code  review_count  stars state  \n",
       "0 -90.129953            Herb Import Co      70118.0             5    4.0    LA  \n",
       "1 -90.064672                 River 127      70130.0            12    3.0    LA  \n",
       "2 -90.065173  New Orleans Spirit Tours      70130.0            38    4.0    LA  \n",
       "3 -90.074427               Copper Vine      70112.0           350    4.5    LA  \n",
       "4 -90.062962            Riverview Room      70130.0             7    4.5    LA  "
      ]
     },
     "execution_count": 3,
     "metadata": {},
     "output_type": "execute_result"
    }
   ],
   "source": [
    "business.head()"
   ]
  },
  {
   "cell_type": "code",
   "execution_count": 4,
   "id": "63c48c41",
   "metadata": {},
   "outputs": [
    {
     "data": {
      "text/plain": [
       "Index(['Unnamed: 0', 'address', 'attributes', 'business_id', 'categories',\n",
       "       'city', 'hours', 'is_open', 'latitude', 'longitude', 'name',\n",
       "       'postal_code', 'review_count', 'stars', 'state'],\n",
       "      dtype='object')"
      ]
     },
     "execution_count": 4,
     "metadata": {},
     "output_type": "execute_result"
    }
   ],
   "source": [
    "restaurants.columns"
   ]
  },
  {
   "cell_type": "code",
   "execution_count": 5,
   "id": "609a7bf3",
   "metadata": {},
   "outputs": [],
   "source": [
    "# restaurants = restaurants.drop(['Unnamed: 0','address', 'state', 'postal_code',\n",
    "#        'latitude', 'longitude', 'is_open', 'attributes', 'hours'], axis = 1)\n"
   ]
  },
  {
   "cell_type": "code",
   "execution_count": 6,
   "id": "cb9033e1",
   "metadata": {},
   "outputs": [
    {
     "data": {
      "text/plain": [
       "(2262, 15)"
      ]
     },
     "execution_count": 6,
     "metadata": {},
     "output_type": "execute_result"
    }
   ],
   "source": [
    "restaurants.shape\n"
   ]
  },
  {
   "cell_type": "code",
   "execution_count": 7,
   "id": "ab4ec3a2",
   "metadata": {},
   "outputs": [],
   "source": [
    "path1 = '/Users/syedfaquaruddinquadri/Documents/Applied ML and DM/Final Project'"
   ]
  },
  {
   "cell_type": "code",
   "execution_count": 8,
   "id": "9ff3d2e4",
   "metadata": {},
   "outputs": [
    {
     "name": "stderr",
     "output_type": "stream",
     "text": [
      "/var/folders/6y/65h__9y57mg1xqznxbt3fvtr0000gn/T/ipykernel_14289/1096967167.py:1: DtypeWarning: Columns (0,1,2,3,5,7,9) have mixed types. Specify dtype option on import or set low_memory=False.\n",
      "  reviews = pd.read_csv(path1  + '/reviews.csv')\n"
     ]
    }
   ],
   "source": [
    "reviews = pd.read_csv(path1  + '/reviews.csv')\n"
   ]
  },
  {
   "cell_type": "code",
   "execution_count": 9,
   "id": "0e019b4e",
   "metadata": {},
   "outputs": [
    {
     "data": {
      "text/plain": [
       "(1095800, 10)"
      ]
     },
     "execution_count": 9,
     "metadata": {},
     "output_type": "execute_result"
    }
   ],
   "source": [
    "reviews.shape"
   ]
  },
  {
   "cell_type": "code",
   "execution_count": 10,
   "id": "f9c3e7fb",
   "metadata": {},
   "outputs": [
    {
     "data": {
      "text/plain": [
       "Index(['Unnamed: 0', 'business_id', 'cool', 'date', 'funny', 'review_id',\n",
       "       'stars', 'text', 'useful', 'user_id'],\n",
       "      dtype='object')"
      ]
     },
     "execution_count": 10,
     "metadata": {},
     "output_type": "execute_result"
    }
   ],
   "source": [
    "reviews.columns"
   ]
  },
  {
   "cell_type": "code",
   "execution_count": 11,
   "id": "dc73b9fb",
   "metadata": {},
   "outputs": [],
   "source": [
    "# reviews.drop('Unnamed: 0', axis =1, inplace = True)\n",
    "# reviews = reviews.drop(['useful', 'funny','cool','date'], axis = 1)"
   ]
  },
  {
   "cell_type": "code",
   "execution_count": 12,
   "id": "bac1f1d7",
   "metadata": {},
   "outputs": [
    {
     "data": {
      "text/plain": [
       "(1095800, 10)"
      ]
     },
     "execution_count": 12,
     "metadata": {},
     "output_type": "execute_result"
    }
   ],
   "source": [
    "reviews.shape``"
   ]
  },
  {
   "cell_type": "code",
   "execution_count": 14,
   "id": "776b4e69",
   "metadata": {},
   "outputs": [
    {
     "data": {
      "text/html": [
       "<div>\n",
       "<style scoped>\n",
       "    .dataframe tbody tr th:only-of-type {\n",
       "        vertical-align: middle;\n",
       "    }\n",
       "\n",
       "    .dataframe tbody tr th {\n",
       "        vertical-align: top;\n",
       "    }\n",
       "\n",
       "    .dataframe thead th {\n",
       "        text-align: right;\n",
       "    }\n",
       "</style>\n",
       "<table border=\"1\" class=\"dataframe\">\n",
       "  <thead>\n",
       "    <tr style=\"text-align: right;\">\n",
       "      <th></th>\n",
       "      <th>business_id</th>\n",
       "      <th>name</th>\n",
       "      <th>address</th>\n",
       "      <th>categories</th>\n",
       "      <th>attributes</th>\n",
       "      <th>stars</th>\n",
       "    </tr>\n",
       "  </thead>\n",
       "  <tbody>\n",
       "    <tr>\n",
       "      <th>3</th>\n",
       "      <td>YNjyv0gfOr2g8lbmUpTnKg</td>\n",
       "      <td>Copper Vine</td>\n",
       "      <td>1001 Poydras St</td>\n",
       "      <td>Nightlife, Pubs, Event Planning &amp; Services, Wi...</td>\n",
       "      <td>Row(AcceptsInsurance=None, AgesAllowed=None, A...</td>\n",
       "      <td>4.5</td>\n",
       "    </tr>\n",
       "    <tr>\n",
       "      <th>5</th>\n",
       "      <td>TLZ3-eDPLhUzfsWO4ad6Ug</td>\n",
       "      <td>Mahony's Po-Boys &amp; Seafood</td>\n",
       "      <td>901 Iberville St</td>\n",
       "      <td>Restaurants, Seafood, Cajun/Creole</td>\n",
       "      <td>Row(AcceptsInsurance=None, AgesAllowed=None, A...</td>\n",
       "      <td>4.0</td>\n",
       "    </tr>\n",
       "    <tr>\n",
       "      <th>6</th>\n",
       "      <td>FRYkg_JvsWU9xIXZsEZcVA</td>\n",
       "      <td>Altamura</td>\n",
       "      <td>2127 Prytania St</td>\n",
       "      <td>Cocktail Bars, Italian, Nightlife, Seafood, Ba...</td>\n",
       "      <td>Row(AcceptsInsurance=None, AgesAllowed=None, A...</td>\n",
       "      <td>3.5</td>\n",
       "    </tr>\n",
       "    <tr>\n",
       "      <th>8</th>\n",
       "      <td>4IcB3QyMEA85UTWFKh9O9A</td>\n",
       "      <td>Eat Mah Taco @ Pal's Lounge</td>\n",
       "      <td>949 N Rendon St</td>\n",
       "      <td>American (New), Food, Bars, Nightlife, Lounges...</td>\n",
       "      <td>Row(AcceptsInsurance=None, AgesAllowed=None, A...</td>\n",
       "      <td>4.5</td>\n",
       "    </tr>\n",
       "    <tr>\n",
       "      <th>9</th>\n",
       "      <td>Edg22x3CZkIv0GUib2oEFA</td>\n",
       "      <td>Mellow Mushroom</td>\n",
       "      <td>8227 Oak St</td>\n",
       "      <td>Pizza, Restaurants, Bars, Nightlife, Sandwiches</td>\n",
       "      <td>Row(AcceptsInsurance=None, AgesAllowed=None, A...</td>\n",
       "      <td>3.5</td>\n",
       "    </tr>\n",
       "  </tbody>\n",
       "</table>\n",
       "</div>"
      ],
      "text/plain": [
       "              business_id                         name           address  \\\n",
       "3  YNjyv0gfOr2g8lbmUpTnKg                  Copper Vine   1001 Poydras St   \n",
       "5  TLZ3-eDPLhUzfsWO4ad6Ug   Mahony's Po-Boys & Seafood  901 Iberville St   \n",
       "6  FRYkg_JvsWU9xIXZsEZcVA                     Altamura  2127 Prytania St   \n",
       "8  4IcB3QyMEA85UTWFKh9O9A  Eat Mah Taco @ Pal's Lounge   949 N Rendon St   \n",
       "9  Edg22x3CZkIv0GUib2oEFA              Mellow Mushroom       8227 Oak St   \n",
       "\n",
       "                                          categories  \\\n",
       "3  Nightlife, Pubs, Event Planning & Services, Wi...   \n",
       "5                 Restaurants, Seafood, Cajun/Creole   \n",
       "6  Cocktail Bars, Italian, Nightlife, Seafood, Ba...   \n",
       "8  American (New), Food, Bars, Nightlife, Lounges...   \n",
       "9    Pizza, Restaurants, Bars, Nightlife, Sandwiches   \n",
       "\n",
       "                                          attributes  stars  \n",
       "3  Row(AcceptsInsurance=None, AgesAllowed=None, A...    4.5  \n",
       "5  Row(AcceptsInsurance=None, AgesAllowed=None, A...    4.0  \n",
       "6  Row(AcceptsInsurance=None, AgesAllowed=None, A...    3.5  \n",
       "8  Row(AcceptsInsurance=None, AgesAllowed=None, A...    4.5  \n",
       "9  Row(AcceptsInsurance=None, AgesAllowed=None, A...    3.5  "
      ]
     },
     "execution_count": 14,
     "metadata": {},
     "output_type": "execute_result"
    }
   ],
   "source": [
    "nola = restaurants[['business_id','name','address', 'categories', 'attributes','stars']]\n",
    "nola.head()"
   ]
  },
  {
   "cell_type": "code",
   "execution_count": 17,
   "id": "74bdd8cf",
   "metadata": {},
   "outputs": [],
   "source": [
    "# Function that extract keys from the nested dictionary\n",
    "def extract_keys(attr, key):\n",
    "    if attr == None:\n",
    "        return \"{}\"\n",
    "    if key in attr:\n",
    "        return attr.pop(key)\n",
    "\n",
    "# convert string to dictionary\n",
    "import ast\n",
    "def str_to_dict(attr):\n",
    "    if attr != None:\n",
    "        return ast.literal_eval(attr)\n",
    "    else:\n",
    "        return ast.literal_eval(\"{}\") \n"
   ]
  },
  {
   "cell_type": "code",
   "execution_count": 18,
   "id": "21acd7a1",
   "metadata": {},
   "outputs": [
    {
     "data": {
      "text/plain": [
       "{'garage': False,\n",
       " 'street': False,\n",
       " 'validated': False,\n",
       " 'lot': False,\n",
       " 'valet': False}"
      ]
     },
     "execution_count": 18,
     "metadata": {},
     "output_type": "execute_result"
    }
   ],
   "source": [
    "str_to_dict(extract_keys({'RestaurantsGoodForGroups': 'True',\n",
    " 'RestaurantsTakeOut': 'True',\n",
    " 'HasTV': 'False',\n",
    " 'RestaurantsReservations': 'False',\n",
    " 'OutdoorSeating': 'True',\n",
    " 'RestaurantsDelivery': 'False',\n",
    " 'NoiseLevel': \"'loud'\",\n",
    " 'WiFi': \"'no'\",\n",
    " 'Ambience': \"{'romantic': False, 'intimate': False, 'classy': False, 'hipster': False, 'divey': False, 'touristy': False, 'trendy': False, 'upscale': False, 'casual': False}\",\n",
    " 'BikeParking': 'True',\n",
    " 'GoodForKids': 'True',\n",
    " 'RestaurantsPriceRange2': '1',\n",
    " 'RestaurantsAttire': \"u'casual'\",\n",
    " 'BusinessParking': \"{'garage': False, 'street': False, 'validated': False, 'lot': False, 'valet': False}\",\n",
    " 'BusinessAcceptsCreditCards': 'True'}, \"BusinessParking\"))"
   ]
  },
  {
   "cell_type": "code",
   "execution_count": null,
   "id": "49feeca1",
   "metadata": {},
   "outputs": [],
   "source": []
  },
  {
   "cell_type": "code",
   "execution_count": null,
   "id": "2f84c161",
   "metadata": {},
   "outputs": [],
   "source": []
  },
  {
   "cell_type": "code",
   "execution_count": null,
   "id": "00f9d42d",
   "metadata": {},
   "outputs": [],
   "source": []
  },
  {
   "cell_type": "code",
   "execution_count": null,
   "id": "59144f68",
   "metadata": {},
   "outputs": [],
   "source": []
  },
  {
   "cell_type": "code",
   "execution_count": null,
   "id": "4456fd07",
   "metadata": {},
   "outputs": [],
   "source": []
  },
  {
   "cell_type": "code",
   "execution_count": null,
   "id": "7c121f6b",
   "metadata": {},
   "outputs": [],
   "source": []
  },
  {
   "cell_type": "code",
   "execution_count": null,
   "id": "ce8c26dd",
   "metadata": {},
   "outputs": [],
   "source": []
  },
  {
   "cell_type": "code",
   "execution_count": 70,
   "id": "7c3b1040",
   "metadata": {},
   "outputs": [],
   "source": [
    "nola = pd.merge(reviews, restaurants, on='business_id')"
   ]
  },
  {
   "cell_type": "code",
   "execution_count": 71,
   "id": "1bb6debd",
   "metadata": {},
   "outputs": [
    {
     "data": {
      "text/plain": [
       "(536257, 10)"
      ]
     },
     "execution_count": 71,
     "metadata": {},
     "output_type": "execute_result"
    }
   ],
   "source": [
    "nola.shape"
   ]
  },
  {
   "cell_type": "code",
   "execution_count": 72,
   "id": "f9a7cbd6",
   "metadata": {},
   "outputs": [
    {
     "data": {
      "text/plain": [
       "Index(['business_id', 'review_id', 'stars_x', 'text', 'user_id', 'categories',\n",
       "       'city', 'name', 'review_count', 'stars_y'],\n",
       "      dtype='object')"
      ]
     },
     "execution_count": 72,
     "metadata": {},
     "output_type": "execute_result"
    }
   ],
   "source": [
    "nola.columns"
   ]
  },
  {
   "cell_type": "code",
   "execution_count": 73,
   "id": "94af1651",
   "metadata": {},
   "outputs": [],
   "source": [
    "nola = nola.drop_duplicates(['user_id', 'business_id', 'stars_y'], keep='first')"
   ]
  },
  {
   "cell_type": "code",
   "execution_count": 74,
   "id": "31dd3032",
   "metadata": {},
   "outputs": [
    {
     "data": {
      "text/plain": [
       "(466149, 10)"
      ]
     },
     "execution_count": 74,
     "metadata": {},
     "output_type": "execute_result"
    }
   ],
   "source": [
    "nola.shape"
   ]
  },
  {
   "cell_type": "code",
   "execution_count": 75,
   "id": "ed7dba29",
   "metadata": {},
   "outputs": [],
   "source": [
    "user_counts = nola['user_id'].value_counts().to_dict()\n",
    "user_list = []"
   ]
  },
  {
   "cell_type": "code",
   "execution_count": null,
   "id": "b3f88045",
   "metadata": {},
   "outputs": [],
   "source": []
  },
  {
   "cell_type": "code",
   "execution_count": 78,
   "id": "08a83556",
   "metadata": {},
   "outputs": [
    {
     "data": {
      "text/plain": [
       "201869"
      ]
     },
     "execution_count": 78,
     "metadata": {},
     "output_type": "execute_result"
    }
   ],
   "source": [
    "len(user_counts)"
   ]
  },
  {
   "cell_type": "code",
   "execution_count": 79,
   "id": "f32b31a7",
   "metadata": {},
   "outputs": [
    {
     "data": {
      "text/plain": [
       "[175,\n",
       " 178,\n",
       " 178,\n",
       " 180,\n",
       " 186,\n",
       " 188,\n",
       " 191,\n",
       " 195,\n",
       " 200,\n",
       " 219,\n",
       " 220,\n",
       " 223,\n",
       " 230,\n",
       " 236,\n",
       " 239,\n",
       " 441,\n",
       " 523,\n",
       " 525,\n",
       " 600,\n",
       " 662]"
      ]
     },
     "execution_count": 79,
     "metadata": {},
     "output_type": "execute_result"
    }
   ],
   "source": [
    "sorted(user_counts.values())[-20:]"
   ]
  },
  {
   "cell_type": "code",
   "execution_count": 80,
   "id": "40147caa",
   "metadata": {},
   "outputs": [],
   "source": [
    "for key in user_counts.keys(): \n",
    "    if user_counts[key] >= 50: \n",
    "        user_list.append(key)"
   ]
  },
  {
   "cell_type": "code",
   "execution_count": 81,
   "id": "8e3c2341",
   "metadata": {},
   "outputs": [
    {
     "name": "stdout",
     "output_type": "stream",
     "text": [
      "Data shape after filtering by users:  (28808, 10)\n"
     ]
    }
   ],
   "source": [
    "filtered_nola = nola[nola['user_id'].isin(user_list)]\n",
    "print('Data shape after filtering by users: ', filtered_nola.shape)"
   ]
  },
  {
   "cell_type": "code",
   "execution_count": 82,
   "id": "e4fc8eae",
   "metadata": {},
   "outputs": [
    {
     "name": "stdout",
     "output_type": "stream",
     "text": [
      "Unique users:  310\n"
     ]
    }
   ],
   "source": [
    "print('Unique users: ', len(filtered_nola['user_id'].unique()))"
   ]
  },
  {
   "cell_type": "code",
   "execution_count": null,
   "id": "1093353b",
   "metadata": {},
   "outputs": [],
   "source": []
  }
 ],
 "metadata": {
  "kernelspec": {
   "display_name": "Python 3 (ipykernel)",
   "language": "python",
   "name": "python3"
  },
  "language_info": {
   "codemirror_mode": {
    "name": "ipython",
    "version": 3
   },
   "file_extension": ".py",
   "mimetype": "text/x-python",
   "name": "python",
   "nbconvert_exporter": "python",
   "pygments_lexer": "ipython3",
   "version": "3.9.12"
  }
 },
 "nbformat": 4,
 "nbformat_minor": 5
}
