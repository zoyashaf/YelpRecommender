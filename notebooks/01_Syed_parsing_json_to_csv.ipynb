{
 "cells": [
  {
   "cell_type": "code",
   "execution_count": 2,
   "id": "8ae993f9",
   "metadata": {},
   "outputs": [],
   "source": [
    "#importing required libraries\n",
    "import numpy as np\n",
    "import pandas as pd\n",
    "import json\n",
    "%matplotlib inline"
   ]
  },
  {
   "cell_type": "code",
   "execution_count": 3,
   "id": "1a83b0fc",
   "metadata": {},
   "outputs": [],
   "source": [
    "#this is the path for the dataset\n",
    "path = \"/Users/syedfaquaruddinquadri/Documents/Applied ML and DM/Final Project/archive\""
   ]
  },
  {
   "cell_type": "markdown",
   "id": "a5562346",
   "metadata": {},
   "source": [
    "### Business data"
   ]
  },
  {
   "cell_type": "code",
   "execution_count": null,
   "id": "e71cea68",
   "metadata": {},
   "outputs": [],
   "source": [
    "#loading the business json file and converting into dataframe\n",
    "\n",
    "data_file = open(path+'/yelp_academic_dataset_business.json')\n",
    "data = []\n",
    "\n",
    "for line in data_file:\n",
    "    data.append(json.loads(line))\n",
    "    \n",
    "    \n",
    "bussiness_df = pd.DataFrame(data)\n",
    "data_file.close()"
   ]
  },
  {
   "cell_type": "code",
   "execution_count": null,
   "id": "889e71f2",
   "metadata": {},
   "outputs": [],
   "source": [
    "#converting business dataframe to csv and saing in the local system\n",
    "bussiness_df.to_csv(path+'/business_data.csv', index=False)"
   ]
  },
  {
   "cell_type": "markdown",
   "id": "66f4cfc4",
   "metadata": {},
   "source": [
    "note:\n",
    "this is taking alot of time to load for reviews and users may be because of size of the json file."
   ]
  },
  {
   "cell_type": "code",
   "execution_count": null,
   "id": "2adc68c3",
   "metadata": {},
   "outputs": [],
   "source": [
    "# #trying another way of converting json to dataframe\n",
    "# from pandas import json_normalize\n",
    "# data = pd.json_normalize(json.load(path+'/yelp_academic_dataset_review.json'))"
   ]
  },
  {
   "cell_type": "markdown",
   "id": "2f87c32a",
   "metadata": {},
   "source": [
    "### Review data"
   ]
  },
  {
   "cell_type": "code",
   "execution_count": null,
   "id": "0bc8bf1d",
   "metadata": {},
   "outputs": [],
   "source": [
    "#this code cell is taken from zoya's notebook to parse json file \n",
    "## Iterates through the review.json in chunks of 50,000 lines and appends the chunks to one dataframe \n",
    "\n",
    "chunk_size = 50000\n",
    "reviews = pd.DataFrame() \n",
    "\n",
    "for i, chunk in enumerate(pd.read_json(path+'/yelp_academic_dataset_review.json', lines=True, chunksize=chunk_size)):\n",
    "    print('******* {} ****** '.format(i))\n",
    "    reviews = pd.concat([reviews, chunk], axis=0, join=\"outer\")\n"
   ]
  },
  {
   "cell_type": "code",
   "execution_count": null,
   "id": "8c88b1eb",
   "metadata": {},
   "outputs": [],
   "source": [
    "# saving reviews.csv into the local system\n",
    "reviews.to_csv(path+'/reviews_data.csv', index=False)"
   ]
  },
  {
   "cell_type": "markdown",
   "id": "872bf130",
   "metadata": {},
   "source": [
    "### Checkin Data"
   ]
  },
  {
   "cell_type": "code",
   "execution_count": null,
   "id": "633b5d1f",
   "metadata": {},
   "outputs": [],
   "source": [
    "#loading the checkin json file and converting into dataframe\n",
    "\n",
    "data_file = open(path+'/yelp_academic_dataset_checkin.json')\n",
    "data = []\n",
    "\n",
    "for line in data_file:\n",
    "    data.append(json.loads(line))\n",
    "    \n",
    "    \n",
    "checkin_df = pd.DataFrame(data)\n",
    "data_file.close()"
   ]
  },
  {
   "cell_type": "code",
   "execution_count": null,
   "id": "518ea009",
   "metadata": {},
   "outputs": [],
   "source": [
    "#converting checkin dataframe to csv and saving in the local system\n",
    "checkin_df.to_csv(path+'/checkin_data.csv', index=False)"
   ]
  },
  {
   "cell_type": "markdown",
   "id": "f31c06a4",
   "metadata": {},
   "source": [
    "### Tip data"
   ]
  },
  {
   "cell_type": "code",
   "execution_count": null,
   "id": "a930b104",
   "metadata": {},
   "outputs": [],
   "source": [
    "#loading the tip json file and converting into dataframe\n",
    "\n",
    "data_file = open(path+'/yelp_academic_dataset_tip.json')\n",
    "data = []\n",
    "\n",
    "for line in data_file:\n",
    "    data.append(json.loads(line))\n",
    "    \n",
    "    \n",
    "tip_df = pd.DataFrame(data)\n",
    "data_file.close()"
   ]
  },
  {
   "cell_type": "code",
   "execution_count": null,
   "id": "246d5727",
   "metadata": {},
   "outputs": [],
   "source": [
    "#converting tip dataframe to csv and saving in the local system\n",
    "tip_df.to_csv(path+'/tip_data.csv', index=False)"
   ]
  },
  {
   "cell_type": "markdown",
   "id": "8cb04714",
   "metadata": {},
   "source": [
    "### User data"
   ]
  },
  {
   "cell_type": "code",
   "execution_count": null,
   "id": "d6462006",
   "metadata": {},
   "outputs": [],
   "source": [
    "#loading the user json file and converting into dataframe\n",
    "\n",
    "data_file = open(path+'/yelp_academic_dataset_user.json')\n",
    "users_df = pd.DataFrame()\n",
    "\n",
    "for chunck in enumerate(pd.read_json(data_file, lines = True, chunksize=50000)):\n",
    "    data.append(chunk)\n",
    "    users_df = pd.concat([users_df, chunk], axis=0, join=\"outer\")\n",
    "\n",
    "\n",
    "data_file.close()"
   ]
  },
  {
   "cell_type": "code",
   "execution_count": null,
   "id": "9e567851",
   "metadata": {},
   "outputs": [],
   "source": [
    "#converting users dataframe to csv and saving in the local system\n",
    "users_df.to_csv(path+'/user_data.csv', index=False)"
   ]
  },
  {
   "cell_type": "code",
   "execution_count": null,
   "id": "c6845c26",
   "metadata": {},
   "outputs": [],
   "source": [
    "review_df.shape"
   ]
  },
  {
   "cell_type": "code",
   "execution_count": null,
   "id": "92b1847c",
   "metadata": {},
   "outputs": [],
   "source": [
    "review_df.sample(5)"
   ]
  },
  {
   "cell_type": "code",
   "execution_count": 4,
   "id": "9ced2844",
   "metadata": {},
   "outputs": [],
   "source": [
    "\n",
    "df = pd.read_csv(path+\"/business_data.csv\")"
   ]
  },
  {
   "cell_type": "code",
   "execution_count": 5,
   "id": "b6e362a0",
   "metadata": {},
   "outputs": [
    {
     "data": {
      "text/html": [
       "<div>\n",
       "<style scoped>\n",
       "    .dataframe tbody tr th:only-of-type {\n",
       "        vertical-align: middle;\n",
       "    }\n",
       "\n",
       "    .dataframe tbody tr th {\n",
       "        vertical-align: top;\n",
       "    }\n",
       "\n",
       "    .dataframe thead th {\n",
       "        text-align: right;\n",
       "    }\n",
       "</style>\n",
       "<table border=\"1\" class=\"dataframe\">\n",
       "  <thead>\n",
       "    <tr style=\"text-align: right;\">\n",
       "      <th></th>\n",
       "      <th>business_id</th>\n",
       "      <th>name</th>\n",
       "      <th>address</th>\n",
       "      <th>city</th>\n",
       "      <th>state</th>\n",
       "      <th>postal_code</th>\n",
       "      <th>latitude</th>\n",
       "      <th>longitude</th>\n",
       "      <th>stars</th>\n",
       "      <th>review_count</th>\n",
       "      <th>is_open</th>\n",
       "      <th>attributes</th>\n",
       "      <th>categories</th>\n",
       "      <th>hours</th>\n",
       "    </tr>\n",
       "  </thead>\n",
       "  <tbody>\n",
       "    <tr>\n",
       "      <th>0</th>\n",
       "      <td>Pns2l4eNsfO8kk83dixA6A</td>\n",
       "      <td>Abby Rappoport, LAC, CMQ</td>\n",
       "      <td>1616 Chapala St, Ste 2</td>\n",
       "      <td>Santa Barbara</td>\n",
       "      <td>CA</td>\n",
       "      <td>93101</td>\n",
       "      <td>34.426679</td>\n",
       "      <td>-119.711197</td>\n",
       "      <td>5.0</td>\n",
       "      <td>7</td>\n",
       "      <td>0</td>\n",
       "      <td>{'ByAppointmentOnly': 'True'}</td>\n",
       "      <td>Doctors, Traditional Chinese Medicine, Naturop...</td>\n",
       "      <td>NaN</td>\n",
       "    </tr>\n",
       "    <tr>\n",
       "      <th>1</th>\n",
       "      <td>mpf3x-BjTdTEA3yCZrAYPw</td>\n",
       "      <td>The UPS Store</td>\n",
       "      <td>87 Grasso Plaza Shopping Center</td>\n",
       "      <td>Affton</td>\n",
       "      <td>MO</td>\n",
       "      <td>63123</td>\n",
       "      <td>38.551126</td>\n",
       "      <td>-90.335695</td>\n",
       "      <td>3.0</td>\n",
       "      <td>15</td>\n",
       "      <td>1</td>\n",
       "      <td>{'BusinessAcceptsCreditCards': 'True'}</td>\n",
       "      <td>Shipping Centers, Local Services, Notaries, Ma...</td>\n",
       "      <td>{'Monday': '0:0-0:0', 'Tuesday': '8:0-18:30', ...</td>\n",
       "    </tr>\n",
       "    <tr>\n",
       "      <th>2</th>\n",
       "      <td>tUFrWirKiKi_TAnsVWINQQ</td>\n",
       "      <td>Target</td>\n",
       "      <td>5255 E Broadway Blvd</td>\n",
       "      <td>Tucson</td>\n",
       "      <td>AZ</td>\n",
       "      <td>85711</td>\n",
       "      <td>32.223236</td>\n",
       "      <td>-110.880452</td>\n",
       "      <td>3.5</td>\n",
       "      <td>22</td>\n",
       "      <td>0</td>\n",
       "      <td>{'BikeParking': 'True', 'BusinessAcceptsCredit...</td>\n",
       "      <td>Department Stores, Shopping, Fashion, Home &amp; G...</td>\n",
       "      <td>{'Monday': '8:0-22:0', 'Tuesday': '8:0-22:0', ...</td>\n",
       "    </tr>\n",
       "    <tr>\n",
       "      <th>3</th>\n",
       "      <td>MTSW4McQd7CbVtyjqoe9mw</td>\n",
       "      <td>St Honore Pastries</td>\n",
       "      <td>935 Race St</td>\n",
       "      <td>Philadelphia</td>\n",
       "      <td>PA</td>\n",
       "      <td>19107</td>\n",
       "      <td>39.955505</td>\n",
       "      <td>-75.155564</td>\n",
       "      <td>4.0</td>\n",
       "      <td>80</td>\n",
       "      <td>1</td>\n",
       "      <td>{'RestaurantsDelivery': 'False', 'OutdoorSeati...</td>\n",
       "      <td>Restaurants, Food, Bubble Tea, Coffee &amp; Tea, B...</td>\n",
       "      <td>{'Monday': '7:0-20:0', 'Tuesday': '7:0-20:0', ...</td>\n",
       "    </tr>\n",
       "    <tr>\n",
       "      <th>4</th>\n",
       "      <td>mWMc6_wTdE0EUBKIGXDVfA</td>\n",
       "      <td>Perkiomen Valley Brewery</td>\n",
       "      <td>101 Walnut St</td>\n",
       "      <td>Green Lane</td>\n",
       "      <td>PA</td>\n",
       "      <td>18054</td>\n",
       "      <td>40.338183</td>\n",
       "      <td>-75.471659</td>\n",
       "      <td>4.5</td>\n",
       "      <td>13</td>\n",
       "      <td>1</td>\n",
       "      <td>{'BusinessAcceptsCreditCards': 'True', 'Wheelc...</td>\n",
       "      <td>Brewpubs, Breweries, Food</td>\n",
       "      <td>{'Wednesday': '14:0-22:0', 'Thursday': '16:0-2...</td>\n",
       "    </tr>\n",
       "  </tbody>\n",
       "</table>\n",
       "</div>"
      ],
      "text/plain": [
       "              business_id                      name  \\\n",
       "0  Pns2l4eNsfO8kk83dixA6A  Abby Rappoport, LAC, CMQ   \n",
       "1  mpf3x-BjTdTEA3yCZrAYPw             The UPS Store   \n",
       "2  tUFrWirKiKi_TAnsVWINQQ                    Target   \n",
       "3  MTSW4McQd7CbVtyjqoe9mw        St Honore Pastries   \n",
       "4  mWMc6_wTdE0EUBKIGXDVfA  Perkiomen Valley Brewery   \n",
       "\n",
       "                           address           city state postal_code  \\\n",
       "0           1616 Chapala St, Ste 2  Santa Barbara    CA       93101   \n",
       "1  87 Grasso Plaza Shopping Center         Affton    MO       63123   \n",
       "2             5255 E Broadway Blvd         Tucson    AZ       85711   \n",
       "3                      935 Race St   Philadelphia    PA       19107   \n",
       "4                    101 Walnut St     Green Lane    PA       18054   \n",
       "\n",
       "    latitude   longitude  stars  review_count  is_open  \\\n",
       "0  34.426679 -119.711197    5.0             7        0   \n",
       "1  38.551126  -90.335695    3.0            15        1   \n",
       "2  32.223236 -110.880452    3.5            22        0   \n",
       "3  39.955505  -75.155564    4.0            80        1   \n",
       "4  40.338183  -75.471659    4.5            13        1   \n",
       "\n",
       "                                          attributes  \\\n",
       "0                      {'ByAppointmentOnly': 'True'}   \n",
       "1             {'BusinessAcceptsCreditCards': 'True'}   \n",
       "2  {'BikeParking': 'True', 'BusinessAcceptsCredit...   \n",
       "3  {'RestaurantsDelivery': 'False', 'OutdoorSeati...   \n",
       "4  {'BusinessAcceptsCreditCards': 'True', 'Wheelc...   \n",
       "\n",
       "                                          categories  \\\n",
       "0  Doctors, Traditional Chinese Medicine, Naturop...   \n",
       "1  Shipping Centers, Local Services, Notaries, Ma...   \n",
       "2  Department Stores, Shopping, Fashion, Home & G...   \n",
       "3  Restaurants, Food, Bubble Tea, Coffee & Tea, B...   \n",
       "4                          Brewpubs, Breweries, Food   \n",
       "\n",
       "                                               hours  \n",
       "0                                                NaN  \n",
       "1  {'Monday': '0:0-0:0', 'Tuesday': '8:0-18:30', ...  \n",
       "2  {'Monday': '8:0-22:0', 'Tuesday': '8:0-22:0', ...  \n",
       "3  {'Monday': '7:0-20:0', 'Tuesday': '7:0-20:0', ...  \n",
       "4  {'Wednesday': '14:0-22:0', 'Thursday': '16:0-2...  "
      ]
     },
     "execution_count": 5,
     "metadata": {},
     "output_type": "execute_result"
    }
   ],
   "source": [
    "df.head()"
   ]
  },
  {
   "cell_type": "code",
   "execution_count": null,
   "id": "f3f6c512",
   "metadata": {},
   "outputs": [],
   "source": []
  }
 ],
 "metadata": {
  "kernelspec": {
   "display_name": "Python 3 (ipykernel)",
   "language": "python",
   "name": "python3"
  },
  "language_info": {
   "codemirror_mode": {
    "name": "ipython",
    "version": 3
   },
   "file_extension": ".py",
   "mimetype": "text/x-python",
   "name": "python",
   "nbconvert_exporter": "python",
   "pygments_lexer": "ipython3",
   "version": "3.9.12"
  }
 },
 "nbformat": 4,
 "nbformat_minor": 5
}
