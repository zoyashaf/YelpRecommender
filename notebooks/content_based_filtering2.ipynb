{
  "nbformat": 4,
  "nbformat_minor": 0,
  "metadata": {
    "colab": {
      "provenance": [],
      "machine_shape": "hm",
      "gpuType": "V100"
    },
    "kernelspec": {
      "name": "python3",
      "display_name": "Python 3"
    },
    "language_info": {
      "name": "python"
    },
    "gpuClass": "standard"
  },
  "cells": [
    {
      "cell_type": "code",
      "execution_count": 1,
      "metadata": {
        "id": "W1gImAlW-R_1"
      },
      "outputs": [],
      "source": [
        "import pandas as pd\n",
        "import numpy as np\n",
        "import warnings\n",
        "warnings.filterwarnings('ignore')\n",
        "\n",
        "import matplotlib.pyplot as plt\n",
        "%matplotlib inline"
      ]
    },
    {
      "cell_type": "code",
      "source": [
        "from google.colab import drive\n",
        "drive.mount('/content/drive')"
      ],
      "metadata": {
        "id": "EI4lPj08BU2J",
        "colab": {
          "base_uri": "https://localhost:8080/"
        },
        "outputId": "7264d7d1-bde8-4a2b-8389-d9ac2acaf597"
      },
      "execution_count": 2,
      "outputs": [
        {
          "output_type": "stream",
          "name": "stdout",
          "text": [
            "Mounted at /content/drive\n"
          ]
        }
      ]
    },
    {
      "cell_type": "code",
      "source": [
        "business = pd.read_csv('/content/drive/MyDrive/YelpRecommender/Data/NewOrleans/business.csv',index_col=[0])\n",
        "review = pd.read_csv('/content/drive/MyDrive/YelpRecommender/Data/NewOrleans/review.csv',index_col=[0])"
      ],
      "metadata": {
        "id": "391d6ihyBU68"
      },
      "execution_count": 3,
      "outputs": []
    },
    {
      "cell_type": "code",
      "source": [
        "# Before working on the model let's split the data between test, train and validation data\n",
        "\n",
        "# Now in the recommendation system We must design a train-test split where there are no new users\n",
        "# or new businesses in the test set because the content-based recommendation ranking only functions\n",
        "# with current customers and restaurants.\n",
        "\n",
        "# Therefore we will use holdout method to achieve this."
      ],
      "metadata": {
        "id": "ftre-JwNBU9I"
      },
      "execution_count": null,
      "outputs": []
    },
    {
      "cell_type": "code",
      "source": [
        "review.columns"
      ],
      "metadata": {
        "colab": {
          "base_uri": "https://localhost:8080/"
        },
        "id": "baT4KWFILWZG",
        "outputId": "42eaa520-9c62-434a-89b1-d07a6eb64dd2"
      },
      "execution_count": null,
      "outputs": [
        {
          "output_type": "execute_result",
          "data": {
            "text/plain": [
              "Index(['date', 'user_id', 'useful', 'cool', 'text', 'funny', 'review_id',\n",
              "       'business_id', 'stars'],\n",
              "      dtype='object')"
            ]
          },
          "metadata": {},
          "execution_count": 4
        }
      ]
    },
    {
      "cell_type": "code",
      "source": [
        "review.info()"
      ],
      "metadata": {
        "colab": {
          "base_uri": "https://localhost:8080/"
        },
        "id": "2du4MHOJwtw_",
        "outputId": "7cb1a564-ca2b-474e-ca76-ddf45e89785c"
      },
      "execution_count": null,
      "outputs": [
        {
          "output_type": "stream",
          "name": "stdout",
          "text": [
            "<class 'pandas.core.frame.DataFrame'>\n",
            "Int64Index: 539474 entries, 0 to 539473\n",
            "Data columns (total 9 columns):\n",
            " #   Column       Non-Null Count   Dtype  \n",
            "---  ------       --------------   -----  \n",
            " 0   date         539474 non-null  object \n",
            " 1   user_id      539474 non-null  object \n",
            " 2   useful       539474 non-null  int64  \n",
            " 3   cool         539474 non-null  int64  \n",
            " 4   text         539474 non-null  object \n",
            " 5   funny        539474 non-null  int64  \n",
            " 6   review_id    539474 non-null  object \n",
            " 7   business_id  539474 non-null  object \n",
            " 8   stars        539474 non-null  float64\n",
            "dtypes: float64(1), int64(3), object(5)\n",
            "memory usage: 41.2+ MB\n"
          ]
        }
      ]
    },
    {
      "cell_type": "code",
      "source": [
        "business.info()"
      ],
      "metadata": {
        "colab": {
          "base_uri": "https://localhost:8080/"
        },
        "id": "oVxpsymKRspz",
        "outputId": "5d5b5e61-48b5-4d45-c656-b7c036e60fb7"
      },
      "execution_count": null,
      "outputs": [
        {
          "output_type": "stream",
          "name": "stdout",
          "text": [
            "<class 'pandas.core.frame.DataFrame'>\n",
            "Int64Index: 3306 entries, 65 to 150251\n",
            "Data columns (total 60 columns):\n",
            " #   Column                                 Non-Null Count  Dtype  \n",
            "---  ------                                 --------------  -----  \n",
            " 0   state                                  3306 non-null   object \n",
            " 1   attributes.RestaurantsPriceRange2      2748 non-null   float64\n",
            " 2   attributes.RestaurantsCounterService   1 non-null      object \n",
            " 3   attributes.DietaryRestrictions         1 non-null      object \n",
            " 4   attributes.BestNights                  501 non-null    object \n",
            " 5   attributes.HairSpecializesIn           0 non-null      float64\n",
            " 6   attributes.Ambience                    2215 non-null   object \n",
            " 7   attributes.NoiseLevel                  1949 non-null   object \n",
            " 8   attributes.Smoking                     351 non-null    object \n",
            " 9   attributes.GoodForMeal                 1369 non-null   object \n",
            " 10  hours.Tuesday                          2274 non-null   object \n",
            " 11  attributes.RestaurantsTableService     996 non-null    object \n",
            " 12  review_count                           3306 non-null   int64  \n",
            " 13  hours.Wednesday                        2468 non-null   object \n",
            " 14  attributes                             3250 non-null   object \n",
            " 15  attributes.OutdoorSeating              2417 non-null   object \n",
            " 16  attributes.BYOB                        284 non-null    object \n",
            " 17  hours                                  2691 non-null   object \n",
            " 18  attributes.AgesAllowed                 7 non-null      object \n",
            " 19  address                                3223 non-null   object \n",
            " 20  attributes.ByAppointmentOnly           382 non-null    object \n",
            " 21  attributes.GoodForKids                 2041 non-null   object \n",
            " 22  name                                   3306 non-null   object \n",
            " 23  categories                             3305 non-null   object \n",
            " 24  attributes.BusinessAcceptsCreditCards  2959 non-null   object \n",
            " 25  hours.Friday                           2644 non-null   object \n",
            " 26  attributes.BusinessParking             2865 non-null   object \n",
            " 27  attributes.DogsAllowed                 933 non-null    object \n",
            " 28  business_id                            3306 non-null   object \n",
            " 29  attributes.Corkage                     238 non-null    object \n",
            " 30  attributes.RestaurantsTakeOut          2465 non-null   object \n",
            " 31  city                                   3306 non-null   object \n",
            " 32  attributes.BikeParking                 2326 non-null   object \n",
            " 33  attributes.RestaurantsReservations     2141 non-null   object \n",
            " 34  hours.Sunday                           2161 non-null   object \n",
            " 35  attributes.BusinessAcceptsBitcoin      557 non-null    object \n",
            " 36  hours.Saturday                         2530 non-null   object \n",
            " 37  attributes.BYOBCorkage                 71 non-null     object \n",
            " 38  attributes.Music                       639 non-null    object \n",
            " 39  attributes.Caters                      1844 non-null   object \n",
            " 40  stars                                  3306 non-null   float64\n",
            " 41  attributes.RestaurantsDelivery         2218 non-null   object \n",
            " 42  attributes.Open24Hours                 3 non-null      object \n",
            " 43  attributes.AcceptsInsurance            1 non-null      object \n",
            " 44  hours.Monday                           2253 non-null   object \n",
            " 45  attributes.DriveThru                   249 non-null    object \n",
            " 46  postal_code                            3306 non-null   int64  \n",
            " 47  attributes.WiFi                        2107 non-null   object \n",
            " 48  attributes.RestaurantsAttire           1734 non-null   object \n",
            " 49  longitude                              3306 non-null   float64\n",
            " 50  attributes.CoatCheck                   385 non-null    object \n",
            " 51  attributes.RestaurantsGoodForGroups    2177 non-null   object \n",
            " 52  latitude                               3306 non-null   float64\n",
            " 53  attributes.HappyHour                   1057 non-null   object \n",
            " 54  attributes.GoodForDancing              410 non-null    object \n",
            " 55  hours.Thursday                         2611 non-null   object \n",
            " 56  attributes.HasTV                       2224 non-null   object \n",
            " 57  is_open                                3306 non-null   int64  \n",
            " 58  attributes.Alcohol                     2197 non-null   object \n",
            " 59  attributes.WheelchairAccessible        974 non-null    object \n",
            "dtypes: float64(5), int64(3), object(52)\n",
            "memory usage: 1.5+ MB\n"
          ]
        }
      ]
    },
    {
      "cell_type": "code",
      "source": [
        "def remove_punctuations(text):\n",
        "  import string\n",
        "  nopunc = [char for char in text if char not in string.punctuation]\n",
        "  return ''.join(nopunc)"
      ],
      "metadata": {
        "id": "kDX_W9HRBW2I"
      },
      "execution_count": 4,
      "outputs": []
    },
    {
      "cell_type": "code",
      "source": [
        "review['text'] = review['text'].apply(remove_punctuations)"
      ],
      "metadata": {
        "id": "FctSaUvLCjkJ"
      },
      "execution_count": 5,
      "outputs": []
    },
    {
      "cell_type": "code",
      "source": [
        "#stratify cannot be an option, as equal proportion is not required rather random shuffling is required.\n"
      ],
      "metadata": {
        "id": "5G-OHQrhyZhf"
      },
      "execution_count": null,
      "outputs": []
    },
    {
      "cell_type": "code",
      "source": [
        "np.random.seed(42)\n",
        "idx = np.array(review.index)\n",
        "np.random.shuffle(idx)"
      ],
      "metadata": {
        "id": "Krf3ufDuykY6"
      },
      "execution_count": 6,
      "outputs": []
    },
    {
      "cell_type": "code",
      "source": [
        "train = review.loc[idx[:int(0.85*len(idx))]]\n",
        "test = review.loc[idx[int(0.85*len(idx)):]]"
      ],
      "metadata": {
        "id": "Bh1sUdH7_XRl"
      },
      "execution_count": 7,
      "outputs": []
    },
    {
      "cell_type": "code",
      "source": [
        "# Now let's check which reviews of user_id are there in test but not in train and send them back to train"
      ],
      "metadata": {
        "id": "5aswfKrp_u9O"
      },
      "execution_count": null,
      "outputs": []
    },
    {
      "cell_type": "code",
      "source": [
        "test_only_userid = test[-test.user_id.isin(train.user_id.unique())]\n",
        "len(test_only_userid)"
      ],
      "metadata": {
        "id": "jeJCWAw_Ckd1",
        "colab": {
          "base_uri": "https://localhost:8080/"
        },
        "outputId": "20c3babd-41b2-4691-905e-273d786c0fbc"
      },
      "execution_count": 8,
      "outputs": [
        {
          "output_type": "execute_result",
          "data": {
            "text/plain": [
              "21083"
            ]
          },
          "metadata": {},
          "execution_count": 8
        }
      ]
    },
    {
      "cell_type": "code",
      "source": [
        "ids_test_only = test_only_userid['user_id'].drop_duplicates().index"
      ],
      "metadata": {
        "id": "ju3vXyPMGTvI"
      },
      "execution_count": 9,
      "outputs": []
    },
    {
      "cell_type": "code",
      "source": [
        "train_all_idx = train.index.union(ids_test_only)\n",
        "test_all_idx = review.index.difference(train_all_idx)"
      ],
      "metadata": {
        "id": "blFanSlhGmZe"
      },
      "execution_count": 10,
      "outputs": []
    },
    {
      "cell_type": "code",
      "source": [
        "train = review.loc[train_all_idx]\n",
        "test = review.loc[test_all_idx]"
      ],
      "metadata": {
        "id": "fmTSwvnvIWfu"
      },
      "execution_count": 11,
      "outputs": []
    },
    {
      "cell_type": "code",
      "source": [
        "len(train)/(len(train)+len(test))"
      ],
      "metadata": {
        "colab": {
          "base_uri": "https://localhost:8080/"
        },
        "id": "B_xsFC0cIgks",
        "outputId": "73cfcdfc-8f5e-467f-9b37-4a54aa9c23c5"
      },
      "execution_count": null,
      "outputs": [
        {
          "output_type": "execute_result",
          "data": {
            "text/plain": [
              "0.8873550903287276"
            ]
          },
          "metadata": {},
          "execution_count": 12
        }
      ]
    },
    {
      "cell_type": "code",
      "source": [
        "len(test)/(len(train)+len(test))"
      ],
      "metadata": {
        "colab": {
          "base_uri": "https://localhost:8080/"
        },
        "id": "J66yVcFsIpwH",
        "outputId": "a0c2a26c-99fd-4768-e3cf-ae224eaae025"
      },
      "execution_count": null,
      "outputs": [
        {
          "output_type": "execute_result",
          "data": {
            "text/plain": [
              "0.11264490967127239"
            ]
          },
          "metadata": {},
          "execution_count": 13
        }
      ]
    },
    {
      "cell_type": "code",
      "source": [
        "# train vs test ratio now becomes 89:11"
      ],
      "metadata": {
        "id": "RUrS5B_iIt0I"
      },
      "execution_count": null,
      "outputs": []
    },
    {
      "cell_type": "code",
      "source": [
        "set(test.business_id) - set(train.business_id)"
      ],
      "metadata": {
        "colab": {
          "base_uri": "https://localhost:8080/"
        },
        "id": "k-ly-JTmJBhr",
        "outputId": "9a6e31da-15c2-4bcb-f4fb-82be5eee0681"
      },
      "execution_count": null,
      "outputs": [
        {
          "output_type": "execute_result",
          "data": {
            "text/plain": [
              "set()"
            ]
          },
          "metadata": {},
          "execution_count": 33
        }
      ]
    },
    {
      "cell_type": "code",
      "source": [
        "# There are no businesses in test which are unique and not present in train \n",
        "# so we do not need to modify our train and test"
      ],
      "metadata": {
        "id": "TVDGY_3mIzy6"
      },
      "execution_count": null,
      "outputs": []
    },
    {
      "cell_type": "code",
      "source": [
        "train.info()"
      ],
      "metadata": {
        "colab": {
          "base_uri": "https://localhost:8080/"
        },
        "id": "QuIOxhXkA_In",
        "outputId": "cfd76590-f37e-489c-8ad0-47117b0573a9"
      },
      "execution_count": null,
      "outputs": [
        {
          "output_type": "stream",
          "name": "stdout",
          "text": [
            "<class 'pandas.core.frame.DataFrame'>\n",
            "Int64Index: 478705 entries, 0 to 539473\n",
            "Data columns (total 9 columns):\n",
            " #   Column       Non-Null Count   Dtype  \n",
            "---  ------       --------------   -----  \n",
            " 0   date         478705 non-null  object \n",
            " 1   user_id      478705 non-null  object \n",
            " 2   useful       478705 non-null  int64  \n",
            " 3   cool         478705 non-null  int64  \n",
            " 4   text         478705 non-null  object \n",
            " 5   funny        478705 non-null  int64  \n",
            " 6   review_id    478705 non-null  object \n",
            " 7   business_id  478705 non-null  object \n",
            " 8   stars        478705 non-null  float64\n",
            "dtypes: float64(1), int64(3), object(5)\n",
            "memory usage: 36.5+ MB\n"
          ]
        }
      ]
    },
    {
      "cell_type": "code",
      "source": [
        "train.groupby('business_id')['text'].count().sort_values(ascending=False)\n"
      ],
      "metadata": {
        "colab": {
          "base_uri": "https://localhost:8080/"
        },
        "id": "AGffzO3ABU_Z",
        "outputId": "4a248cd4-fdd4-41a9-fff5-0879fe13c17e"
      },
      "execution_count": null,
      "outputs": [
        {
          "output_type": "execute_result",
          "data": {
            "text/plain": [
              "business_id\n",
              "ac1AeYqs8Z4_e2X5M3if2A    6856\n",
              "_ab50qdWOk0DdB6XOrBitw    6724\n",
              "oBNrLz4EDhiscSlbOl8uAw    4685\n",
              "iSRTaT9WngzB8JJ2YKJUig    4662\n",
              "VQcCL9PiNL_wkGf-uF3fjg    4626\n",
              "                          ... \n",
              "RatJCtQ8j4cG80vAPr9UAw       3\n",
              "SgCU0hvmsSbY6uL3lmjJ6A       3\n",
              "h9Qf7cOTUdzufvoRxWIFoA       2\n",
              "4QdZHOqo7OI63SG6JnLdpg       2\n",
              "moT5dbsX7v6aZgJcwDZrgw       2\n",
              "Name: text, Length: 3306, dtype: int64"
            ]
          },
          "metadata": {},
          "execution_count": 36
        }
      ]
    },
    {
      "cell_type": "code",
      "source": [
        "# let's analyse the same business review together"
      ],
      "metadata": {
        "id": "DOXVYDksPKxq"
      },
      "execution_count": null,
      "outputs": []
    },
    {
      "cell_type": "code",
      "source": [
        "# Rather than joining them directly adding a seperator will be wise as to seperate later if required."
      ],
      "metadata": {
        "id": "dqT6Kcc4QDVx"
      },
      "execution_count": null,
      "outputs": []
    },
    {
      "cell_type": "code",
      "source": [
        "rev_by_business = train.groupby('business_id').agg({'review_id':'count', 'text':lambda x: '****'.join(x)})\n",
        "rev_by_business = rev_by_business.rename(columns = {'review_id':'review_count','text':'all_reviews'})"
      ],
      "metadata": {
        "id": "OolnZxaoPP1A"
      },
      "execution_count": 12,
      "outputs": []
    },
    {
      "cell_type": "code",
      "source": [
        "rev_by_business = rev_by_business.reset_index()"
      ],
      "metadata": {
        "id": "bvSblqrJNC0a"
      },
      "execution_count": 13,
      "outputs": []
    },
    {
      "cell_type": "code",
      "source": [
        "rev_by_business.head()"
      ],
      "metadata": {
        "colab": {
          "base_uri": "https://localhost:8080/",
          "height": 206
        },
        "id": "wEcizMqiNC7O",
        "outputId": "c49cac87-80e2-4b49-ba2f-5fd76b2488b4"
      },
      "execution_count": 14,
      "outputs": [
        {
          "output_type": "execute_result",
          "data": {
            "text/plain": [
              "              business_id  review_count  \\\n",
              "0  --x_BmZbxzK_nx_GHBaRVw            18   \n",
              "1  --zb12mw2YK-7j6UaHzm8w            11   \n",
              "2  -0__F9fnKt8uioCKztF5Ww            47   \n",
              "3  -0ltw8--HLuulPyOSspqAQ             9   \n",
              "4  -1XSzguS6XLN-V6MVZMg2A           480   \n",
              "\n",
              "                                         all_reviews  \n",
              "0  We lucked out and the other people for the tou...  \n",
              "1  Billy Wrights Manuels Style Hot Tamales are de...  \n",
              "2  Great location and the rooftop lounge area of ...  \n",
              "3  My daughter and her family stayed here for the...  \n",
              "4  Hands down this is my NEW favorite restaurant ...  "
            ],
            "text/html": [
              "\n",
              "  <div id=\"df-5cc91d6a-f9e4-404f-9bd8-cba77a7a7aa4\">\n",
              "    <div class=\"colab-df-container\">\n",
              "      <div>\n",
              "<style scoped>\n",
              "    .dataframe tbody tr th:only-of-type {\n",
              "        vertical-align: middle;\n",
              "    }\n",
              "\n",
              "    .dataframe tbody tr th {\n",
              "        vertical-align: top;\n",
              "    }\n",
              "\n",
              "    .dataframe thead th {\n",
              "        text-align: right;\n",
              "    }\n",
              "</style>\n",
              "<table border=\"1\" class=\"dataframe\">\n",
              "  <thead>\n",
              "    <tr style=\"text-align: right;\">\n",
              "      <th></th>\n",
              "      <th>business_id</th>\n",
              "      <th>review_count</th>\n",
              "      <th>all_reviews</th>\n",
              "    </tr>\n",
              "  </thead>\n",
              "  <tbody>\n",
              "    <tr>\n",
              "      <th>0</th>\n",
              "      <td>--x_BmZbxzK_nx_GHBaRVw</td>\n",
              "      <td>18</td>\n",
              "      <td>We lucked out and the other people for the tou...</td>\n",
              "    </tr>\n",
              "    <tr>\n",
              "      <th>1</th>\n",
              "      <td>--zb12mw2YK-7j6UaHzm8w</td>\n",
              "      <td>11</td>\n",
              "      <td>Billy Wrights Manuels Style Hot Tamales are de...</td>\n",
              "    </tr>\n",
              "    <tr>\n",
              "      <th>2</th>\n",
              "      <td>-0__F9fnKt8uioCKztF5Ww</td>\n",
              "      <td>47</td>\n",
              "      <td>Great location and the rooftop lounge area of ...</td>\n",
              "    </tr>\n",
              "    <tr>\n",
              "      <th>3</th>\n",
              "      <td>-0ltw8--HLuulPyOSspqAQ</td>\n",
              "      <td>9</td>\n",
              "      <td>My daughter and her family stayed here for the...</td>\n",
              "    </tr>\n",
              "    <tr>\n",
              "      <th>4</th>\n",
              "      <td>-1XSzguS6XLN-V6MVZMg2A</td>\n",
              "      <td>480</td>\n",
              "      <td>Hands down this is my NEW favorite restaurant ...</td>\n",
              "    </tr>\n",
              "  </tbody>\n",
              "</table>\n",
              "</div>\n",
              "      <button class=\"colab-df-convert\" onclick=\"convertToInteractive('df-5cc91d6a-f9e4-404f-9bd8-cba77a7a7aa4')\"\n",
              "              title=\"Convert this dataframe to an interactive table.\"\n",
              "              style=\"display:none;\">\n",
              "        \n",
              "  <svg xmlns=\"http://www.w3.org/2000/svg\" height=\"24px\"viewBox=\"0 0 24 24\"\n",
              "       width=\"24px\">\n",
              "    <path d=\"M0 0h24v24H0V0z\" fill=\"none\"/>\n",
              "    <path d=\"M18.56 5.44l.94 2.06.94-2.06 2.06-.94-2.06-.94-.94-2.06-.94 2.06-2.06.94zm-11 1L8.5 8.5l.94-2.06 2.06-.94-2.06-.94L8.5 2.5l-.94 2.06-2.06.94zm10 10l.94 2.06.94-2.06 2.06-.94-2.06-.94-.94-2.06-.94 2.06-2.06.94z\"/><path d=\"M17.41 7.96l-1.37-1.37c-.4-.4-.92-.59-1.43-.59-.52 0-1.04.2-1.43.59L10.3 9.45l-7.72 7.72c-.78.78-.78 2.05 0 2.83L4 21.41c.39.39.9.59 1.41.59.51 0 1.02-.2 1.41-.59l7.78-7.78 2.81-2.81c.8-.78.8-2.07 0-2.86zM5.41 20L4 18.59l7.72-7.72 1.47 1.35L5.41 20z\"/>\n",
              "  </svg>\n",
              "      </button>\n",
              "      \n",
              "  <style>\n",
              "    .colab-df-container {\n",
              "      display:flex;\n",
              "      flex-wrap:wrap;\n",
              "      gap: 12px;\n",
              "    }\n",
              "\n",
              "    .colab-df-convert {\n",
              "      background-color: #E8F0FE;\n",
              "      border: none;\n",
              "      border-radius: 50%;\n",
              "      cursor: pointer;\n",
              "      display: none;\n",
              "      fill: #1967D2;\n",
              "      height: 32px;\n",
              "      padding: 0 0 0 0;\n",
              "      width: 32px;\n",
              "    }\n",
              "\n",
              "    .colab-df-convert:hover {\n",
              "      background-color: #E2EBFA;\n",
              "      box-shadow: 0px 1px 2px rgba(60, 64, 67, 0.3), 0px 1px 3px 1px rgba(60, 64, 67, 0.15);\n",
              "      fill: #174EA6;\n",
              "    }\n",
              "\n",
              "    [theme=dark] .colab-df-convert {\n",
              "      background-color: #3B4455;\n",
              "      fill: #D2E3FC;\n",
              "    }\n",
              "\n",
              "    [theme=dark] .colab-df-convert:hover {\n",
              "      background-color: #434B5C;\n",
              "      box-shadow: 0px 1px 3px 1px rgba(0, 0, 0, 0.15);\n",
              "      filter: drop-shadow(0px 1px 2px rgba(0, 0, 0, 0.3));\n",
              "      fill: #FFFFFF;\n",
              "    }\n",
              "  </style>\n",
              "\n",
              "      <script>\n",
              "        const buttonEl =\n",
              "          document.querySelector('#df-5cc91d6a-f9e4-404f-9bd8-cba77a7a7aa4 button.colab-df-convert');\n",
              "        buttonEl.style.display =\n",
              "          google.colab.kernel.accessAllowed ? 'block' : 'none';\n",
              "\n",
              "        async function convertToInteractive(key) {\n",
              "          const element = document.querySelector('#df-5cc91d6a-f9e4-404f-9bd8-cba77a7a7aa4');\n",
              "          const dataTable =\n",
              "            await google.colab.kernel.invokeFunction('convertToInteractive',\n",
              "                                                     [key], {});\n",
              "          if (!dataTable) return;\n",
              "\n",
              "          const docLinkHtml = 'Like what you see? Visit the ' +\n",
              "            '<a target=\"_blank\" href=https://colab.research.google.com/notebooks/data_table.ipynb>data table notebook</a>'\n",
              "            + ' to learn more about interactive tables.';\n",
              "          element.innerHTML = '';\n",
              "          dataTable['output_type'] = 'display_data';\n",
              "          await google.colab.output.renderOutput(dataTable, element);\n",
              "          const docLink = document.createElement('div');\n",
              "          docLink.innerHTML = docLinkHtml;\n",
              "          element.appendChild(docLink);\n",
              "        }\n",
              "      </script>\n",
              "    </div>\n",
              "  </div>\n",
              "  "
            ]
          },
          "metadata": {},
          "execution_count": 14
        }
      ]
    },
    {
      "cell_type": "code",
      "source": [
        "train.groupby('user_id')['text'].count().sort_values(ascending=False)\n"
      ],
      "metadata": {
        "colab": {
          "base_uri": "https://localhost:8080/"
        },
        "id": "X_O8B3HCrrRv",
        "outputId": "d0ef140f-6083-41c1-d813-1d28f13cec47"
      },
      "execution_count": 15,
      "outputs": [
        {
          "output_type": "execute_result",
          "data": {
            "text/plain": [
              "user_id\n",
              "Xw7ZjaGfr0WNVt6s_5KZfA    833\n",
              "0Igx-a1wAstiBDerGxXk2A    802\n",
              "1HM81n6n4iPIFU5d2Lokhw    791\n",
              "CfX4sTIFFNaRchNswqhVfg    652\n",
              "E4BsVQnG5zetbwv2x8QIWg    596\n",
              "                         ... \n",
              "OoSq-eZzHDHJ15VGxvYadg      1\n",
              "OoU5rUVSg4tU0XkYllbQ6g      1\n",
              "OoUKiMGbN5CW6QHDe2haTw      1\n",
              "OoWcmDbuPcUwUDYgiKtC6A      1\n",
              "zzxZoMmjbUjXcWZzrE3PIw      1\n",
              "Name: text, Length: 214512, dtype: int64"
            ]
          },
          "metadata": {},
          "execution_count": 15
        }
      ]
    },
    {
      "cell_type": "code",
      "source": [
        "yelp_data = train[['review_id', 'user_id', 'business_id', 'text', 'stars', 'date']]"
      ],
      "metadata": {
        "id": "-MRm-M77AnIJ"
      },
      "execution_count": 16,
      "outputs": []
    },
    {
      "cell_type": "code",
      "source": [],
      "metadata": {
        "id": "3RzVR6-fUq6i"
      },
      "execution_count": null,
      "outputs": []
    },
    {
      "cell_type": "code",
      "source": [],
      "metadata": {
        "id": "u_HhiCE5-G9G"
      },
      "execution_count": null,
      "outputs": []
    },
    {
      "cell_type": "code",
      "source": [
        "review = None"
      ],
      "metadata": {
        "id": "8NDoyoDWChgr"
      },
      "execution_count": null,
      "outputs": []
    },
    {
      "cell_type": "code",
      "source": [
        "rev_by_user = train.groupby('user_id').agg({'review_id':'count', 'text':lambda x: '****'.join(x)})\n",
        "rev_by_user = rev_by_user.rename(columns = {'review_id':'review_count','text':'all_reviews'})"
      ],
      "metadata": {
        "id": "t2fehUVcr1zF"
      },
      "execution_count": 17,
      "outputs": []
    },
    {
      "cell_type": "code",
      "source": [],
      "metadata": {
        "id": "TlrOPEISU2ZL"
      },
      "execution_count": null,
      "outputs": []
    },
    {
      "cell_type": "code",
      "source": [
        "rev_by_user = rev_by_user.reset_index()"
      ],
      "metadata": {
        "id": "O1HL9vu7sLh8"
      },
      "execution_count": 18,
      "outputs": []
    },
    {
      "cell_type": "code",
      "source": [
        "rev_by_user = rev_by_user[:8000]"
      ],
      "metadata": {
        "id": "yV45q5L8VII1"
      },
      "execution_count": 19,
      "outputs": []
    },
    {
      "cell_type": "code",
      "source": [
        "rev_by_user.head()"
      ],
      "metadata": {
        "colab": {
          "base_uri": "https://localhost:8080/",
          "height": 206
        },
        "id": "c3m22UkIsRa2",
        "outputId": "dce47226-55f7-4863-e642-6b2ec70bd43e"
      },
      "execution_count": 20,
      "outputs": [
        {
          "output_type": "execute_result",
          "data": {
            "text/plain": [
              "                  user_id  review_count  \\\n",
              "0  ---UgP94gokyCDuB5zUssA             4   \n",
              "1  --1orhUoGFSdHXsoxqQc8g             1   \n",
              "2  --3PldvWEZ_bhLNsyrAtgA             1   \n",
              "3  --3WaS23LcIXtxyFULJHTA             1   \n",
              "4  --48iehfEvtnSrLq8grJIQ             4   \n",
              "\n",
              "                                         all_reviews  \n",
              "0  Overall Great food with a few minor hiccups It...  \n",
              "1  Absolutely the worst customer service ever 4 p...  \n",
              "2  Great bbq I had the pulled pork sandwich with ...  \n",
              "3  Killer Poboys is not your average Poboy spot T...  \n",
              "4  Great bartender Try a Ramos fizz they take a f...  "
            ],
            "text/html": [
              "\n",
              "  <div id=\"df-c17740fb-c681-405d-83bb-2d077ed7915c\">\n",
              "    <div class=\"colab-df-container\">\n",
              "      <div>\n",
              "<style scoped>\n",
              "    .dataframe tbody tr th:only-of-type {\n",
              "        vertical-align: middle;\n",
              "    }\n",
              "\n",
              "    .dataframe tbody tr th {\n",
              "        vertical-align: top;\n",
              "    }\n",
              "\n",
              "    .dataframe thead th {\n",
              "        text-align: right;\n",
              "    }\n",
              "</style>\n",
              "<table border=\"1\" class=\"dataframe\">\n",
              "  <thead>\n",
              "    <tr style=\"text-align: right;\">\n",
              "      <th></th>\n",
              "      <th>user_id</th>\n",
              "      <th>review_count</th>\n",
              "      <th>all_reviews</th>\n",
              "    </tr>\n",
              "  </thead>\n",
              "  <tbody>\n",
              "    <tr>\n",
              "      <th>0</th>\n",
              "      <td>---UgP94gokyCDuB5zUssA</td>\n",
              "      <td>4</td>\n",
              "      <td>Overall Great food with a few minor hiccups It...</td>\n",
              "    </tr>\n",
              "    <tr>\n",
              "      <th>1</th>\n",
              "      <td>--1orhUoGFSdHXsoxqQc8g</td>\n",
              "      <td>1</td>\n",
              "      <td>Absolutely the worst customer service ever 4 p...</td>\n",
              "    </tr>\n",
              "    <tr>\n",
              "      <th>2</th>\n",
              "      <td>--3PldvWEZ_bhLNsyrAtgA</td>\n",
              "      <td>1</td>\n",
              "      <td>Great bbq I had the pulled pork sandwich with ...</td>\n",
              "    </tr>\n",
              "    <tr>\n",
              "      <th>3</th>\n",
              "      <td>--3WaS23LcIXtxyFULJHTA</td>\n",
              "      <td>1</td>\n",
              "      <td>Killer Poboys is not your average Poboy spot T...</td>\n",
              "    </tr>\n",
              "    <tr>\n",
              "      <th>4</th>\n",
              "      <td>--48iehfEvtnSrLq8grJIQ</td>\n",
              "      <td>4</td>\n",
              "      <td>Great bartender Try a Ramos fizz they take a f...</td>\n",
              "    </tr>\n",
              "  </tbody>\n",
              "</table>\n",
              "</div>\n",
              "      <button class=\"colab-df-convert\" onclick=\"convertToInteractive('df-c17740fb-c681-405d-83bb-2d077ed7915c')\"\n",
              "              title=\"Convert this dataframe to an interactive table.\"\n",
              "              style=\"display:none;\">\n",
              "        \n",
              "  <svg xmlns=\"http://www.w3.org/2000/svg\" height=\"24px\"viewBox=\"0 0 24 24\"\n",
              "       width=\"24px\">\n",
              "    <path d=\"M0 0h24v24H0V0z\" fill=\"none\"/>\n",
              "    <path d=\"M18.56 5.44l.94 2.06.94-2.06 2.06-.94-2.06-.94-.94-2.06-.94 2.06-2.06.94zm-11 1L8.5 8.5l.94-2.06 2.06-.94-2.06-.94L8.5 2.5l-.94 2.06-2.06.94zm10 10l.94 2.06.94-2.06 2.06-.94-2.06-.94-.94-2.06-.94 2.06-2.06.94z\"/><path d=\"M17.41 7.96l-1.37-1.37c-.4-.4-.92-.59-1.43-.59-.52 0-1.04.2-1.43.59L10.3 9.45l-7.72 7.72c-.78.78-.78 2.05 0 2.83L4 21.41c.39.39.9.59 1.41.59.51 0 1.02-.2 1.41-.59l7.78-7.78 2.81-2.81c.8-.78.8-2.07 0-2.86zM5.41 20L4 18.59l7.72-7.72 1.47 1.35L5.41 20z\"/>\n",
              "  </svg>\n",
              "      </button>\n",
              "      \n",
              "  <style>\n",
              "    .colab-df-container {\n",
              "      display:flex;\n",
              "      flex-wrap:wrap;\n",
              "      gap: 12px;\n",
              "    }\n",
              "\n",
              "    .colab-df-convert {\n",
              "      background-color: #E8F0FE;\n",
              "      border: none;\n",
              "      border-radius: 50%;\n",
              "      cursor: pointer;\n",
              "      display: none;\n",
              "      fill: #1967D2;\n",
              "      height: 32px;\n",
              "      padding: 0 0 0 0;\n",
              "      width: 32px;\n",
              "    }\n",
              "\n",
              "    .colab-df-convert:hover {\n",
              "      background-color: #E2EBFA;\n",
              "      box-shadow: 0px 1px 2px rgba(60, 64, 67, 0.3), 0px 1px 3px 1px rgba(60, 64, 67, 0.15);\n",
              "      fill: #174EA6;\n",
              "    }\n",
              "\n",
              "    [theme=dark] .colab-df-convert {\n",
              "      background-color: #3B4455;\n",
              "      fill: #D2E3FC;\n",
              "    }\n",
              "\n",
              "    [theme=dark] .colab-df-convert:hover {\n",
              "      background-color: #434B5C;\n",
              "      box-shadow: 0px 1px 3px 1px rgba(0, 0, 0, 0.15);\n",
              "      filter: drop-shadow(0px 1px 2px rgba(0, 0, 0, 0.3));\n",
              "      fill: #FFFFFF;\n",
              "    }\n",
              "  </style>\n",
              "\n",
              "      <script>\n",
              "        const buttonEl =\n",
              "          document.querySelector('#df-c17740fb-c681-405d-83bb-2d077ed7915c button.colab-df-convert');\n",
              "        buttonEl.style.display =\n",
              "          google.colab.kernel.accessAllowed ? 'block' : 'none';\n",
              "\n",
              "        async function convertToInteractive(key) {\n",
              "          const element = document.querySelector('#df-c17740fb-c681-405d-83bb-2d077ed7915c');\n",
              "          const dataTable =\n",
              "            await google.colab.kernel.invokeFunction('convertToInteractive',\n",
              "                                                     [key], {});\n",
              "          if (!dataTable) return;\n",
              "\n",
              "          const docLinkHtml = 'Like what you see? Visit the ' +\n",
              "            '<a target=\"_blank\" href=https://colab.research.google.com/notebooks/data_table.ipynb>data table notebook</a>'\n",
              "            + ' to learn more about interactive tables.';\n",
              "          element.innerHTML = '';\n",
              "          dataTable['output_type'] = 'display_data';\n",
              "          await google.colab.output.renderOutput(dataTable, element);\n",
              "          const docLink = document.createElement('div');\n",
              "          docLink.innerHTML = docLinkHtml;\n",
              "          element.appendChild(docLink);\n",
              "        }\n",
              "      </script>\n",
              "    </div>\n",
              "  </div>\n",
              "  "
            ]
          },
          "metadata": {},
          "execution_count": 20
        }
      ]
    },
    {
      "cell_type": "code",
      "source": [
        "from sklearn.feature_extraction.text import TfidfVectorizer"
      ],
      "metadata": {
        "id": "Y3WmsVlbSxVm"
      },
      "execution_count": 21,
      "outputs": []
    },
    {
      "cell_type": "code",
      "source": [
        "rev_by_business.loc[:0.01*len(rev_by_business)]['all_reviews']"
      ],
      "metadata": {
        "colab": {
          "base_uri": "https://localhost:8080/"
        },
        "id": "0w7DBrHBTUPL",
        "outputId": "d5e8013d-3331-4d3a-ba16-cec2c421f86c"
      },
      "execution_count": 22,
      "outputs": [
        {
          "output_type": "execute_result",
          "data": {
            "text/plain": [
              "0     We lucked out and the other people for the tou...\n",
              "1     Billy Wrights Manuels Style Hot Tamales are de...\n",
              "2     Great location and the rooftop lounge area of ...\n",
              "3     My daughter and her family stayed here for the...\n",
              "4     Hands down this is my NEW favorite restaurant ...\n",
              "5     Dont even wast your time very slow always out ...\n",
              "6     Completely disappointed with how this location...\n",
              "7     Dont be fooled by the exterior this place is a...\n",
              "8     NASTY NASTY NASTY Steer clear  Ive been told t...\n",
              "9     OMG So its too bad they only allow 5 stars as ...\n",
              "10    This Snowball Shop is now in my Top Favorites ...\n",
              "11    Yes I love this place Maple Street Patisserie ...\n",
              "12    If youre looking for a great apple fritter GET...\n",
              "13    If you ever travel from New Orleans to Slidell...\n",
              "14    VERY good food I get take out for lunch and yo...\n",
              "15    Krewe of Carrollton was a pretty fun parade\\n\\...\n",
              "16    Their store is on Grubhub but doesnt work on G...\n",
              "17    Horriblethey dont care about their customers  ...\n",
              "18    Rude  When I walked in the employee looked at ...\n",
              "19    When my two favorite things coffee and icecrea...\n",
              "20    Oh my god These were the worst tamales Ive eve...\n",
              "21    This brightly lit and newly renovated building...\n",
              "22    As a fan of the late night kabab shwarma or gy...\n",
              "23    Great Hang regulars and locals YEAH no nonsens...\n",
              "24    Great restaurant and bar in the east I really ...\n",
              "25    They make quality chicken  Theres a certain pr...\n",
              "26    The culture and traditions of New Orleans most...\n",
              "27    Lots of pizza choices in the Quarter but this ...\n",
              "28    Good cocktails Good people Fresh squeezed juic...\n",
              "29    Kinda off the beaten path but worth the walk f...\n",
              "30    In my book Martins isnt an everyday stop I res...\n",
              "31    This is a cool pirate bar in a neat alley that...\n",
              "32    This place was located right in our neighborho...\n",
              "33    Some people have to be up at 8a on a Tuesday f...\n",
              "Name: all_reviews, dtype: object"
            ]
          },
          "metadata": {},
          "execution_count": 22
        }
      ]
    },
    {
      "cell_type": "code",
      "source": [
        "%%time\n",
        "vectorizer = TfidfVectorizer(stop_words='english',ngram_range=(1,3),max_features=5000)\n",
        "X = vectorizer.fit_transform(rev_by_business.loc[:0.01*len(rev_by_business)].all_reviews)\n",
        "print(vectorizer.get_feature_names_out()[:100])"
      ],
      "metadata": {
        "colab": {
          "base_uri": "https://localhost:8080/"
        },
        "id": "Oy0m-kxiSvDu",
        "outputId": "682eaa19-7273-44bf-a231-eeecd9e35374"
      },
      "execution_count": 23,
      "outputs": [
        {
          "output_type": "stream",
          "name": "stdout",
          "text": [
            "['050' '050 oysters' '10' '10 minutes' '100' '1000' '1010' '10pm' '11'\n",
            " '12' '13' '14' '15' '15 minutes' '150' '16' '17' '18' '19' '1pm' '1st'\n",
            " '1st time' '20' '20 minutes' '21' '23' '24' '25' '25 minutes' '2nd' '30'\n",
            " '30 min' '30 minutes' '300' '34' '35' '35 stars' '3rd' '40' '40 minutes'\n",
            " '400' '45' '45 minutes' '45 stars' '4630' '50' '50 cent'\n",
            " '50 cent oysters' '50 cent raw' '50 cents' '50 cents oysters' '500' '55'\n",
            " '600' '630' '630pm' '700' '730' '75' '75s' '830' '90' 'ability' 'abita'\n",
            " 'able' 'able try' 'absinthe' 'absinthe bar' 'absinthe drinks' 'absolute'\n",
            " 'absolute best' 'absolute favorite' 'absolutely' 'absolutely amazing'\n",
            " 'absolutely best' 'absolutely delicious' 'absolutely fantastic'\n",
            " 'absolutely love' 'absolutely loved' 'absolutely wonderful' 'ac' 'accept'\n",
            " 'acceptable' 'accident' 'accidentally' 'accommodate' 'accommodated'\n",
            " 'accommodating' 'accompanied' 'accompanying' 'according' 'acme' 'act'\n",
            " 'acted' 'actual' 'actually' 'add' 'added' 'added nice' 'adding']\n",
            "CPU times: user 2.54 s, sys: 108 ms, total: 2.65 s\n",
            "Wall time: 2.68 s\n"
          ]
        }
      ]
    },
    {
      "cell_type": "code",
      "source": [
        "%%time\n",
        "vectorizer = TfidfVectorizer(stop_words='english',ngram_range=(1,3),max_features=5000)\n",
        "X = vectorizer.fit_transform(rev_by_business.loc[:0.1*len(rev_by_business)].all_reviews)\n",
        "print(vectorizer.get_feature_names_out()[:100])"
      ],
      "metadata": {
        "colab": {
          "base_uri": "https://localhost:8080/"
        },
        "id": "2S_Zm_HETt9d",
        "outputId": "4ed0329b-51c1-4217-e275-f79f6c82c900"
      },
      "execution_count": null,
      "outputs": [
        {
          "output_type": "stream",
          "name": "stdout",
          "text": [
            "['10' '10 minutes' '100' '1000' '1010' '1015' '11' '12' '13' '14' '15'\n",
            " '15 minutes' '150' '16' '17' '18' '19' '1st' '20' '20 minutes' '20 years'\n",
            " '200' '2016' '2017' '2018' '21' '23' '24' '24 hours' '247' '25' '25 cent'\n",
            " '25 minutes' '250' '2nd' '30' '30 minutes' '300' '34' '35' '35 stars'\n",
            " '3rd' '40' '40 minutes' '400' '45' '45 minutes' '45 stars' '4th' '50'\n",
            " '50 cent' '55' '60' '6pm' '75' '80' '8pm' '90' 'abita' 'able' 'absinthe'\n",
            " 'absinthe house' 'absolute' 'absolute best' 'absolute favorite'\n",
            " 'absolutely' 'absolutely amazing' 'absolutely delicious'\n",
            " 'absolutely love' 'absolutely loved' 'ac' 'accept' 'acceptable' 'access'\n",
            " 'accessible' 'accident' 'accidentally' 'accommodate' 'accommodating'\n",
            " 'accompanied' 'according' 'account' 'accurate' 'acknowledge'\n",
            " 'acknowledged' 'act' 'acted' 'action' 'actual' 'actually'\n",
            " 'actually pretty' 'add' 'added' 'adding' 'addition' 'additional'\n",
            " 'additionally' 'address' 'adds' 'adequate']\n",
            "CPU times: user 21.3 s, sys: 897 ms, total: 22.2 s\n",
            "Wall time: 23.2 s\n"
          ]
        }
      ]
    },
    {
      "cell_type": "code",
      "source": [
        "%%time\n",
        "vectorizer = TfidfVectorizer(stop_words='english',ngram_range=(1,2),max_features=1000)\n",
        "X = vectorizer.fit_transform(rev_by_business.all_reviews)\n",
        "# print(vectorizer.get_feature_names_out()[:100])"
      ],
      "metadata": {
        "colab": {
          "base_uri": "https://localhost:8080/"
        },
        "id": "BBUYfSM_T9KJ",
        "outputId": "940e2574-50aa-4628-a467-5683602e54f4"
      },
      "execution_count": 24,
      "outputs": [
        {
          "output_type": "stream",
          "name": "stdout",
          "text": [
            "CPU times: user 1min 42s, sys: 2.35 s, total: 1min 44s\n",
            "Wall time: 1min 44s\n"
          ]
        }
      ]
    },
    {
      "cell_type": "code",
      "source": [
        "%%time\n",
        "vectorizer2 = TfidfVectorizer(stop_words='english',ngram_range=(1,2),max_features=1000)\n",
        "X2 = vectorizer2.fit_transform(rev_by_user.loc[:0.1*len(rev_by_user)].all_reviews)"
      ],
      "metadata": {
        "colab": {
          "base_uri": "https://localhost:8080/"
        },
        "id": "hjKbE1U2Ei-D",
        "outputId": "77f7b6b2-1b1d-4026-ce63-b33ab6c8c6b8"
      },
      "execution_count": null,
      "outputs": [
        {
          "output_type": "stream",
          "name": "stdout",
          "text": [
            "CPU times: user 14.2 s, sys: 153 ms, total: 14.3 s\n",
            "Wall time: 14.4 s\n"
          ]
        }
      ]
    },
    {
      "cell_type": "code",
      "source": [
        "%%time\n",
        "vectorizer2 = TfidfVectorizer(stop_words='english',ngram_range=(1,2),max_features=1000)\n",
        "X2 = vectorizer2.fit_transform(rev_by_user.all_reviews)"
      ],
      "metadata": {
        "colab": {
          "base_uri": "https://localhost:8080/"
        },
        "id": "xP6UdTIYEjEk",
        "outputId": "4fe0a003-0532-4df0-a188-02d9a941fd86"
      },
      "execution_count": 25,
      "outputs": [
        {
          "output_type": "stream",
          "name": "stdout",
          "text": [
            "CPU times: user 4.89 s, sys: 41.8 ms, total: 4.94 s\n",
            "Wall time: 4.91 s\n"
          ]
        }
      ]
    },
    {
      "cell_type": "code",
      "source": [],
      "metadata": {
        "id": "PFB0Mw8nEjKz"
      },
      "execution_count": null,
      "outputs": []
    },
    {
      "cell_type": "code",
      "source": [
        "X[:10]"
      ],
      "metadata": {
        "colab": {
          "base_uri": "https://localhost:8080/"
        },
        "id": "6BKPdAkPRyhi",
        "outputId": "b2112c55-d275-4376-91f5-01556a1e33b9"
      },
      "execution_count": null,
      "outputs": [
        {
          "output_type": "execute_result",
          "data": {
            "text/plain": [
              "<10x1500 sparse matrix of type '<class 'numpy.float64'>'\n",
              "\twith 4761 stored elements in Compressed Sparse Row format>"
            ]
          },
          "metadata": {},
          "execution_count": 61
        }
      ]
    },
    {
      "cell_type": "code",
      "source": [
        "# Convert sparse matrix to dataframe\n",
        "business_review_features = pd.DataFrame.sparse.from_spmatrix(X)\n",
        "business_review_features = business_review_features.set_index(rev_by_business.business_id)\n",
        "# business_review_features.head()\n",
        "user_review_features = pd.DataFrame.sparse.from_spmatrix(X2)\n",
        "user_review_features = user_review_features.set_index(rev_by_user.user_id)"
      ],
      "metadata": {
        "id": "KVvtsnNtVx48"
      },
      "execution_count": 26,
      "outputs": []
    },
    {
      "cell_type": "code",
      "source": [
        "business_review_features.shape # there are 3306 businesses and their features."
      ],
      "metadata": {
        "colab": {
          "base_uri": "https://localhost:8080/"
        },
        "id": "W82xxejZalEm",
        "outputId": "003b285f-3238-4801-9b90-89e447c6a553"
      },
      "execution_count": null,
      "outputs": [
        {
          "output_type": "execute_result",
          "data": {
            "text/plain": [
              "(3306, 1000)"
            ]
          },
          "metadata": {},
          "execution_count": 38
        }
      ]
    },
    {
      "cell_type": "code",
      "source": [
        "user_review_features.shape"
      ],
      "metadata": {
        "colab": {
          "base_uri": "https://localhost:8080/"
        },
        "id": "8-p0d3HT_8P5",
        "outputId": "a6ea0fb5-9313-48e7-ead6-3e6913791af6"
      },
      "execution_count": null,
      "outputs": [
        {
          "output_type": "execute_result",
          "data": {
            "text/plain": [
              "(8000, 1000)"
            ]
          },
          "metadata": {},
          "execution_count": 39
        }
      ]
    },
    {
      "cell_type": "code",
      "source": [
        "len(vectorizer.get_feature_names_out())"
      ],
      "metadata": {
        "colab": {
          "base_uri": "https://localhost:8080/"
        },
        "id": "t-x_mDEWbQAf",
        "outputId": "f9fbca25-0c7a-4a43-f111-857a1ae927a5"
      },
      "execution_count": null,
      "outputs": [
        {
          "output_type": "execute_result",
          "data": {
            "text/plain": [
              "5000"
            ]
          },
          "metadata": {},
          "execution_count": 27
        }
      ]
    },
    {
      "cell_type": "code",
      "source": [
        "len(vectorizer2.get_feature_names_out())"
      ],
      "metadata": {
        "colab": {
          "base_uri": "https://localhost:8080/"
        },
        "id": "SwLwnnsXACKw",
        "outputId": "55c56cd8-14d1-459c-d2c1-d3861de3e053"
      },
      "execution_count": null,
      "outputs": [
        {
          "output_type": "execute_result",
          "data": {
            "text/plain": [
              "5000"
            ]
          },
          "metadata": {},
          "execution_count": 28
        }
      ]
    },
    {
      "cell_type": "code",
      "source": [
        "type(vectorizer.get_feature_names_out()[0])"
      ],
      "metadata": {
        "colab": {
          "base_uri": "https://localhost:8080/"
        },
        "id": "Qa4sn145bUnx",
        "outputId": "fa7cdb23-c9f1-467e-be52-dd0575cdde97"
      },
      "execution_count": null,
      "outputs": [
        {
          "output_type": "execute_result",
          "data": {
            "text/plain": [
              "str"
            ]
          },
          "metadata": {},
          "execution_count": 70
        }
      ]
    },
    {
      "cell_type": "code",
      "source": [
        "business_review_features.columns = vectorizer.get_feature_names_out()\n",
        "user_review_features.columns = vectorizer2.get_feature_names_out()"
      ],
      "metadata": {
        "id": "M60cpbiTbYLr"
      },
      "execution_count": 27,
      "outputs": []
    },
    {
      "cell_type": "code",
      "source": [
        "business_review_features.head()"
      ],
      "metadata": {
        "colab": {
          "base_uri": "https://localhost:8080/",
          "height": 400
        },
        "id": "0FjLNv3wVx70",
        "outputId": "287259d5-eeb1-471c-b161-a58dc8febeb7"
      },
      "execution_count": null,
      "outputs": [
        {
          "output_type": "execute_result",
          "data": {
            "text/plain": [
              "                              10  10 minutes        12        15  15 minutes  \\\n",
              "business_id                                                                    \n",
              "--x_BmZbxzK_nx_GHBaRVw  0.018018    0.000000  0.011011  0.000000    0.000000   \n",
              "--zb12mw2YK-7j6UaHzm8w  0.030198    0.000000  0.000000  0.000000    0.000000   \n",
              "-0__F9fnKt8uioCKztF5Ww  0.008827    0.000000  0.021577  0.010454    0.013082   \n",
              "-0ltw8--HLuulPyOSspqAQ  0.030681    0.000000  0.037500  0.000000    0.000000   \n",
              "-1XSzguS6XLN-V6MVZMg2A  0.010250    0.004571  0.008674  0.002802    0.001169   \n",
              "\n",
              "                              20  20 minutes        25        30  30 minutes  \\\n",
              "business_id                                                                    \n",
              "--x_BmZbxzK_nx_GHBaRVw  0.000000    0.000000  0.012841  0.010979    0.000000   \n",
              "--zb12mw2YK-7j6UaHzm8w  0.000000    0.000000  0.000000  0.000000    0.000000   \n",
              "-0__F9fnKt8uioCKztF5Ww  0.010014    0.013245  0.000000  0.010757    0.013316   \n",
              "-0ltw8--HLuulPyOSspqAQ  0.000000    0.000000  0.000000  0.000000    0.000000   \n",
              "-1XSzguS6XLN-V6MVZMg2A  0.001789    0.000000  0.002248  0.003844    0.001189   \n",
              "\n",
              "                        ...     wrong      year     years      yelp       yes  \\\n",
              "business_id             ...                                                     \n",
              "--x_BmZbxzK_nx_GHBaRVw  ...  0.000000  0.000000  0.000000  0.000000  0.000000   \n",
              "--zb12mw2YK-7j6UaHzm8w  ...  0.000000  0.000000  0.031495  0.034938  0.000000   \n",
              "-0__F9fnKt8uioCKztF5Ww  ...  0.037845  0.020309  0.000000  0.030636  0.019383   \n",
              "-0ltw8--HLuulPyOSspqAQ  ...  0.000000  0.000000  0.031999  0.000000  0.067376   \n",
              "-1XSzguS6XLN-V6MVZMg2A  ...  0.011833  0.007257  0.011513  0.025543  0.006926   \n",
              "\n",
              "                           youll     young     youre       yum     yummy  \n",
              "business_id                                                               \n",
              "--x_BmZbxzK_nx_GHBaRVw  0.010401  0.011777  0.016032  0.000000  0.000000  \n",
              "--zb12mw2YK-7j6UaHzm8w  0.000000  0.039478  0.000000  0.000000  0.000000  \n",
              "-0__F9fnKt8uioCKztF5Ww  0.020381  0.011539  0.039269  0.000000  0.010335  \n",
              "-0ltw8--HLuulPyOSspqAQ  0.070843  0.000000  0.109198  0.043351  0.000000  \n",
              "-1XSzguS6XLN-V6MVZMg2A  0.006372  0.003092  0.013330  0.005570  0.006463  \n",
              "\n",
              "[5 rows x 1000 columns]"
            ],
            "text/html": [
              "\n",
              "  <div id=\"df-7bc568c5-e0f6-4760-8b14-84718ffe8c5b\">\n",
              "    <div class=\"colab-df-container\">\n",
              "      <div>\n",
              "<style scoped>\n",
              "    .dataframe tbody tr th:only-of-type {\n",
              "        vertical-align: middle;\n",
              "    }\n",
              "\n",
              "    .dataframe tbody tr th {\n",
              "        vertical-align: top;\n",
              "    }\n",
              "\n",
              "    .dataframe thead th {\n",
              "        text-align: right;\n",
              "    }\n",
              "</style>\n",
              "<table border=\"1\" class=\"dataframe\">\n",
              "  <thead>\n",
              "    <tr style=\"text-align: right;\">\n",
              "      <th></th>\n",
              "      <th>10</th>\n",
              "      <th>10 minutes</th>\n",
              "      <th>12</th>\n",
              "      <th>15</th>\n",
              "      <th>15 minutes</th>\n",
              "      <th>20</th>\n",
              "      <th>20 minutes</th>\n",
              "      <th>25</th>\n",
              "      <th>30</th>\n",
              "      <th>30 minutes</th>\n",
              "      <th>...</th>\n",
              "      <th>wrong</th>\n",
              "      <th>year</th>\n",
              "      <th>years</th>\n",
              "      <th>yelp</th>\n",
              "      <th>yes</th>\n",
              "      <th>youll</th>\n",
              "      <th>young</th>\n",
              "      <th>youre</th>\n",
              "      <th>yum</th>\n",
              "      <th>yummy</th>\n",
              "    </tr>\n",
              "    <tr>\n",
              "      <th>business_id</th>\n",
              "      <th></th>\n",
              "      <th></th>\n",
              "      <th></th>\n",
              "      <th></th>\n",
              "      <th></th>\n",
              "      <th></th>\n",
              "      <th></th>\n",
              "      <th></th>\n",
              "      <th></th>\n",
              "      <th></th>\n",
              "      <th></th>\n",
              "      <th></th>\n",
              "      <th></th>\n",
              "      <th></th>\n",
              "      <th></th>\n",
              "      <th></th>\n",
              "      <th></th>\n",
              "      <th></th>\n",
              "      <th></th>\n",
              "      <th></th>\n",
              "      <th></th>\n",
              "    </tr>\n",
              "  </thead>\n",
              "  <tbody>\n",
              "    <tr>\n",
              "      <th>--x_BmZbxzK_nx_GHBaRVw</th>\n",
              "      <td>0.018018</td>\n",
              "      <td>0.000000</td>\n",
              "      <td>0.011011</td>\n",
              "      <td>0.000000</td>\n",
              "      <td>0.000000</td>\n",
              "      <td>0.000000</td>\n",
              "      <td>0.000000</td>\n",
              "      <td>0.012841</td>\n",
              "      <td>0.010979</td>\n",
              "      <td>0.000000</td>\n",
              "      <td>...</td>\n",
              "      <td>0.000000</td>\n",
              "      <td>0.000000</td>\n",
              "      <td>0.000000</td>\n",
              "      <td>0.000000</td>\n",
              "      <td>0.000000</td>\n",
              "      <td>0.010401</td>\n",
              "      <td>0.011777</td>\n",
              "      <td>0.016032</td>\n",
              "      <td>0.000000</td>\n",
              "      <td>0.000000</td>\n",
              "    </tr>\n",
              "    <tr>\n",
              "      <th>--zb12mw2YK-7j6UaHzm8w</th>\n",
              "      <td>0.030198</td>\n",
              "      <td>0.000000</td>\n",
              "      <td>0.000000</td>\n",
              "      <td>0.000000</td>\n",
              "      <td>0.000000</td>\n",
              "      <td>0.000000</td>\n",
              "      <td>0.000000</td>\n",
              "      <td>0.000000</td>\n",
              "      <td>0.000000</td>\n",
              "      <td>0.000000</td>\n",
              "      <td>...</td>\n",
              "      <td>0.000000</td>\n",
              "      <td>0.000000</td>\n",
              "      <td>0.031495</td>\n",
              "      <td>0.034938</td>\n",
              "      <td>0.000000</td>\n",
              "      <td>0.000000</td>\n",
              "      <td>0.039478</td>\n",
              "      <td>0.000000</td>\n",
              "      <td>0.000000</td>\n",
              "      <td>0.000000</td>\n",
              "    </tr>\n",
              "    <tr>\n",
              "      <th>-0__F9fnKt8uioCKztF5Ww</th>\n",
              "      <td>0.008827</td>\n",
              "      <td>0.000000</td>\n",
              "      <td>0.021577</td>\n",
              "      <td>0.010454</td>\n",
              "      <td>0.013082</td>\n",
              "      <td>0.010014</td>\n",
              "      <td>0.013245</td>\n",
              "      <td>0.000000</td>\n",
              "      <td>0.010757</td>\n",
              "      <td>0.013316</td>\n",
              "      <td>...</td>\n",
              "      <td>0.037845</td>\n",
              "      <td>0.020309</td>\n",
              "      <td>0.000000</td>\n",
              "      <td>0.030636</td>\n",
              "      <td>0.019383</td>\n",
              "      <td>0.020381</td>\n",
              "      <td>0.011539</td>\n",
              "      <td>0.039269</td>\n",
              "      <td>0.000000</td>\n",
              "      <td>0.010335</td>\n",
              "    </tr>\n",
              "    <tr>\n",
              "      <th>-0ltw8--HLuulPyOSspqAQ</th>\n",
              "      <td>0.030681</td>\n",
              "      <td>0.000000</td>\n",
              "      <td>0.037500</td>\n",
              "      <td>0.000000</td>\n",
              "      <td>0.000000</td>\n",
              "      <td>0.000000</td>\n",
              "      <td>0.000000</td>\n",
              "      <td>0.000000</td>\n",
              "      <td>0.000000</td>\n",
              "      <td>0.000000</td>\n",
              "      <td>...</td>\n",
              "      <td>0.000000</td>\n",
              "      <td>0.000000</td>\n",
              "      <td>0.031999</td>\n",
              "      <td>0.000000</td>\n",
              "      <td>0.067376</td>\n",
              "      <td>0.070843</td>\n",
              "      <td>0.000000</td>\n",
              "      <td>0.109198</td>\n",
              "      <td>0.043351</td>\n",
              "      <td>0.000000</td>\n",
              "    </tr>\n",
              "    <tr>\n",
              "      <th>-1XSzguS6XLN-V6MVZMg2A</th>\n",
              "      <td>0.010250</td>\n",
              "      <td>0.004571</td>\n",
              "      <td>0.008674</td>\n",
              "      <td>0.002802</td>\n",
              "      <td>0.001169</td>\n",
              "      <td>0.001789</td>\n",
              "      <td>0.000000</td>\n",
              "      <td>0.002248</td>\n",
              "      <td>0.003844</td>\n",
              "      <td>0.001189</td>\n",
              "      <td>...</td>\n",
              "      <td>0.011833</td>\n",
              "      <td>0.007257</td>\n",
              "      <td>0.011513</td>\n",
              "      <td>0.025543</td>\n",
              "      <td>0.006926</td>\n",
              "      <td>0.006372</td>\n",
              "      <td>0.003092</td>\n",
              "      <td>0.013330</td>\n",
              "      <td>0.005570</td>\n",
              "      <td>0.006463</td>\n",
              "    </tr>\n",
              "  </tbody>\n",
              "</table>\n",
              "<p>5 rows × 1000 columns</p>\n",
              "</div>\n",
              "      <button class=\"colab-df-convert\" onclick=\"convertToInteractive('df-7bc568c5-e0f6-4760-8b14-84718ffe8c5b')\"\n",
              "              title=\"Convert this dataframe to an interactive table.\"\n",
              "              style=\"display:none;\">\n",
              "        \n",
              "  <svg xmlns=\"http://www.w3.org/2000/svg\" height=\"24px\"viewBox=\"0 0 24 24\"\n",
              "       width=\"24px\">\n",
              "    <path d=\"M0 0h24v24H0V0z\" fill=\"none\"/>\n",
              "    <path d=\"M18.56 5.44l.94 2.06.94-2.06 2.06-.94-2.06-.94-.94-2.06-.94 2.06-2.06.94zm-11 1L8.5 8.5l.94-2.06 2.06-.94-2.06-.94L8.5 2.5l-.94 2.06-2.06.94zm10 10l.94 2.06.94-2.06 2.06-.94-2.06-.94-.94-2.06-.94 2.06-2.06.94z\"/><path d=\"M17.41 7.96l-1.37-1.37c-.4-.4-.92-.59-1.43-.59-.52 0-1.04.2-1.43.59L10.3 9.45l-7.72 7.72c-.78.78-.78 2.05 0 2.83L4 21.41c.39.39.9.59 1.41.59.51 0 1.02-.2 1.41-.59l7.78-7.78 2.81-2.81c.8-.78.8-2.07 0-2.86zM5.41 20L4 18.59l7.72-7.72 1.47 1.35L5.41 20z\"/>\n",
              "  </svg>\n",
              "      </button>\n",
              "      \n",
              "  <style>\n",
              "    .colab-df-container {\n",
              "      display:flex;\n",
              "      flex-wrap:wrap;\n",
              "      gap: 12px;\n",
              "    }\n",
              "\n",
              "    .colab-df-convert {\n",
              "      background-color: #E8F0FE;\n",
              "      border: none;\n",
              "      border-radius: 50%;\n",
              "      cursor: pointer;\n",
              "      display: none;\n",
              "      fill: #1967D2;\n",
              "      height: 32px;\n",
              "      padding: 0 0 0 0;\n",
              "      width: 32px;\n",
              "    }\n",
              "\n",
              "    .colab-df-convert:hover {\n",
              "      background-color: #E2EBFA;\n",
              "      box-shadow: 0px 1px 2px rgba(60, 64, 67, 0.3), 0px 1px 3px 1px rgba(60, 64, 67, 0.15);\n",
              "      fill: #174EA6;\n",
              "    }\n",
              "\n",
              "    [theme=dark] .colab-df-convert {\n",
              "      background-color: #3B4455;\n",
              "      fill: #D2E3FC;\n",
              "    }\n",
              "\n",
              "    [theme=dark] .colab-df-convert:hover {\n",
              "      background-color: #434B5C;\n",
              "      box-shadow: 0px 1px 3px 1px rgba(0, 0, 0, 0.15);\n",
              "      filter: drop-shadow(0px 1px 2px rgba(0, 0, 0, 0.3));\n",
              "      fill: #FFFFFF;\n",
              "    }\n",
              "  </style>\n",
              "\n",
              "      <script>\n",
              "        const buttonEl =\n",
              "          document.querySelector('#df-7bc568c5-e0f6-4760-8b14-84718ffe8c5b button.colab-df-convert');\n",
              "        buttonEl.style.display =\n",
              "          google.colab.kernel.accessAllowed ? 'block' : 'none';\n",
              "\n",
              "        async function convertToInteractive(key) {\n",
              "          const element = document.querySelector('#df-7bc568c5-e0f6-4760-8b14-84718ffe8c5b');\n",
              "          const dataTable =\n",
              "            await google.colab.kernel.invokeFunction('convertToInteractive',\n",
              "                                                     [key], {});\n",
              "          if (!dataTable) return;\n",
              "\n",
              "          const docLinkHtml = 'Like what you see? Visit the ' +\n",
              "            '<a target=\"_blank\" href=https://colab.research.google.com/notebooks/data_table.ipynb>data table notebook</a>'\n",
              "            + ' to learn more about interactive tables.';\n",
              "          element.innerHTML = '';\n",
              "          dataTable['output_type'] = 'display_data';\n",
              "          await google.colab.output.renderOutput(dataTable, element);\n",
              "          const docLink = document.createElement('div');\n",
              "          docLink.innerHTML = docLinkHtml;\n",
              "          element.appendChild(docLink);\n",
              "        }\n",
              "      </script>\n",
              "    </div>\n",
              "  </div>\n",
              "  "
            ]
          },
          "metadata": {},
          "execution_count": 41
        }
      ]
    },
    {
      "cell_type": "code",
      "source": [
        "user_review_features.head()"
      ],
      "metadata": {
        "colab": {
          "base_uri": "https://localhost:8080/",
          "height": 383
        },
        "id": "z3bObvwOAPue",
        "outputId": "2df71c28-8fa5-49a9-fb69-6ac532f26b1f"
      },
      "execution_count": null,
      "outputs": [
        {
          "output_type": "execute_result",
          "data": {
            "text/plain": [
              "                              10  10 minutes  100   12   15   20   25   30  \\\n",
              "user_id                                                                      \n",
              "---UgP94gokyCDuB5zUssA  0.000000         0.0  0.0  0.0  0.0  0.0  0.0  0.0   \n",
              "--1orhUoGFSdHXsoxqQc8g  0.126445         0.0  0.0  0.0  0.0  0.0  0.0  0.0   \n",
              "--3PldvWEZ_bhLNsyrAtgA  0.000000         0.0  0.0  0.0  0.0  0.0  0.0  0.0   \n",
              "--3WaS23LcIXtxyFULJHTA  0.000000         0.0  0.0  0.0  0.0  0.0  0.0  0.0   \n",
              "--48iehfEvtnSrLq8grJIQ  0.000000         0.0  0.0  0.0  0.0  0.0  0.0  0.0   \n",
              "\n",
              "                        30 minutes   45  ...  yeah  year  years  yelp  \\\n",
              "user_id                                  ...                            \n",
              "---UgP94gokyCDuB5zUssA         0.0  0.0  ...   0.0   0.0    0.0   0.0   \n",
              "--1orhUoGFSdHXsoxqQc8g         0.0  0.0  ...   0.0   0.0    0.0   0.0   \n",
              "--3PldvWEZ_bhLNsyrAtgA         0.0  0.0  ...   0.0   0.0    0.0   0.0   \n",
              "--3WaS23LcIXtxyFULJHTA         0.0  0.0  ...   0.0   0.0    0.0   0.0   \n",
              "--48iehfEvtnSrLq8grJIQ         0.0  0.0  ...   0.0   0.0    0.0   0.0   \n",
              "\n",
              "                             yes  youll  youre  youve       yum  yummy  \n",
              "user_id                                                                 \n",
              "---UgP94gokyCDuB5zUssA  0.102680    0.0    0.0    0.0  0.000000    0.0  \n",
              "--1orhUoGFSdHXsoxqQc8g  0.000000    0.0    0.0    0.0  0.000000    0.0  \n",
              "--3PldvWEZ_bhLNsyrAtgA  0.000000    0.0    0.0    0.0  0.000000    0.0  \n",
              "--3WaS23LcIXtxyFULJHTA  0.103302    0.0    0.0    0.0  0.000000    0.0  \n",
              "--48iehfEvtnSrLq8grJIQ  0.000000    0.0    0.0    0.0  0.118313    0.0  \n",
              "\n",
              "[5 rows x 1000 columns]"
            ],
            "text/html": [
              "\n",
              "  <div id=\"df-63468836-5b88-431d-aa67-aa61a70c1a35\">\n",
              "    <div class=\"colab-df-container\">\n",
              "      <div>\n",
              "<style scoped>\n",
              "    .dataframe tbody tr th:only-of-type {\n",
              "        vertical-align: middle;\n",
              "    }\n",
              "\n",
              "    .dataframe tbody tr th {\n",
              "        vertical-align: top;\n",
              "    }\n",
              "\n",
              "    .dataframe thead th {\n",
              "        text-align: right;\n",
              "    }\n",
              "</style>\n",
              "<table border=\"1\" class=\"dataframe\">\n",
              "  <thead>\n",
              "    <tr style=\"text-align: right;\">\n",
              "      <th></th>\n",
              "      <th>10</th>\n",
              "      <th>10 minutes</th>\n",
              "      <th>100</th>\n",
              "      <th>12</th>\n",
              "      <th>15</th>\n",
              "      <th>20</th>\n",
              "      <th>25</th>\n",
              "      <th>30</th>\n",
              "      <th>30 minutes</th>\n",
              "      <th>45</th>\n",
              "      <th>...</th>\n",
              "      <th>yeah</th>\n",
              "      <th>year</th>\n",
              "      <th>years</th>\n",
              "      <th>yelp</th>\n",
              "      <th>yes</th>\n",
              "      <th>youll</th>\n",
              "      <th>youre</th>\n",
              "      <th>youve</th>\n",
              "      <th>yum</th>\n",
              "      <th>yummy</th>\n",
              "    </tr>\n",
              "    <tr>\n",
              "      <th>user_id</th>\n",
              "      <th></th>\n",
              "      <th></th>\n",
              "      <th></th>\n",
              "      <th></th>\n",
              "      <th></th>\n",
              "      <th></th>\n",
              "      <th></th>\n",
              "      <th></th>\n",
              "      <th></th>\n",
              "      <th></th>\n",
              "      <th></th>\n",
              "      <th></th>\n",
              "      <th></th>\n",
              "      <th></th>\n",
              "      <th></th>\n",
              "      <th></th>\n",
              "      <th></th>\n",
              "      <th></th>\n",
              "      <th></th>\n",
              "      <th></th>\n",
              "      <th></th>\n",
              "    </tr>\n",
              "  </thead>\n",
              "  <tbody>\n",
              "    <tr>\n",
              "      <th>---UgP94gokyCDuB5zUssA</th>\n",
              "      <td>0.000000</td>\n",
              "      <td>0.0</td>\n",
              "      <td>0.0</td>\n",
              "      <td>0.0</td>\n",
              "      <td>0.0</td>\n",
              "      <td>0.0</td>\n",
              "      <td>0.0</td>\n",
              "      <td>0.0</td>\n",
              "      <td>0.0</td>\n",
              "      <td>0.0</td>\n",
              "      <td>...</td>\n",
              "      <td>0.0</td>\n",
              "      <td>0.0</td>\n",
              "      <td>0.0</td>\n",
              "      <td>0.0</td>\n",
              "      <td>0.102680</td>\n",
              "      <td>0.0</td>\n",
              "      <td>0.0</td>\n",
              "      <td>0.0</td>\n",
              "      <td>0.000000</td>\n",
              "      <td>0.0</td>\n",
              "    </tr>\n",
              "    <tr>\n",
              "      <th>--1orhUoGFSdHXsoxqQc8g</th>\n",
              "      <td>0.126445</td>\n",
              "      <td>0.0</td>\n",
              "      <td>0.0</td>\n",
              "      <td>0.0</td>\n",
              "      <td>0.0</td>\n",
              "      <td>0.0</td>\n",
              "      <td>0.0</td>\n",
              "      <td>0.0</td>\n",
              "      <td>0.0</td>\n",
              "      <td>0.0</td>\n",
              "      <td>...</td>\n",
              "      <td>0.0</td>\n",
              "      <td>0.0</td>\n",
              "      <td>0.0</td>\n",
              "      <td>0.0</td>\n",
              "      <td>0.000000</td>\n",
              "      <td>0.0</td>\n",
              "      <td>0.0</td>\n",
              "      <td>0.0</td>\n",
              "      <td>0.000000</td>\n",
              "      <td>0.0</td>\n",
              "    </tr>\n",
              "    <tr>\n",
              "      <th>--3PldvWEZ_bhLNsyrAtgA</th>\n",
              "      <td>0.000000</td>\n",
              "      <td>0.0</td>\n",
              "      <td>0.0</td>\n",
              "      <td>0.0</td>\n",
              "      <td>0.0</td>\n",
              "      <td>0.0</td>\n",
              "      <td>0.0</td>\n",
              "      <td>0.0</td>\n",
              "      <td>0.0</td>\n",
              "      <td>0.0</td>\n",
              "      <td>...</td>\n",
              "      <td>0.0</td>\n",
              "      <td>0.0</td>\n",
              "      <td>0.0</td>\n",
              "      <td>0.0</td>\n",
              "      <td>0.000000</td>\n",
              "      <td>0.0</td>\n",
              "      <td>0.0</td>\n",
              "      <td>0.0</td>\n",
              "      <td>0.000000</td>\n",
              "      <td>0.0</td>\n",
              "    </tr>\n",
              "    <tr>\n",
              "      <th>--3WaS23LcIXtxyFULJHTA</th>\n",
              "      <td>0.000000</td>\n",
              "      <td>0.0</td>\n",
              "      <td>0.0</td>\n",
              "      <td>0.0</td>\n",
              "      <td>0.0</td>\n",
              "      <td>0.0</td>\n",
              "      <td>0.0</td>\n",
              "      <td>0.0</td>\n",
              "      <td>0.0</td>\n",
              "      <td>0.0</td>\n",
              "      <td>...</td>\n",
              "      <td>0.0</td>\n",
              "      <td>0.0</td>\n",
              "      <td>0.0</td>\n",
              "      <td>0.0</td>\n",
              "      <td>0.103302</td>\n",
              "      <td>0.0</td>\n",
              "      <td>0.0</td>\n",
              "      <td>0.0</td>\n",
              "      <td>0.000000</td>\n",
              "      <td>0.0</td>\n",
              "    </tr>\n",
              "    <tr>\n",
              "      <th>--48iehfEvtnSrLq8grJIQ</th>\n",
              "      <td>0.000000</td>\n",
              "      <td>0.0</td>\n",
              "      <td>0.0</td>\n",
              "      <td>0.0</td>\n",
              "      <td>0.0</td>\n",
              "      <td>0.0</td>\n",
              "      <td>0.0</td>\n",
              "      <td>0.0</td>\n",
              "      <td>0.0</td>\n",
              "      <td>0.0</td>\n",
              "      <td>...</td>\n",
              "      <td>0.0</td>\n",
              "      <td>0.0</td>\n",
              "      <td>0.0</td>\n",
              "      <td>0.0</td>\n",
              "      <td>0.000000</td>\n",
              "      <td>0.0</td>\n",
              "      <td>0.0</td>\n",
              "      <td>0.0</td>\n",
              "      <td>0.118313</td>\n",
              "      <td>0.0</td>\n",
              "    </tr>\n",
              "  </tbody>\n",
              "</table>\n",
              "<p>5 rows × 1000 columns</p>\n",
              "</div>\n",
              "      <button class=\"colab-df-convert\" onclick=\"convertToInteractive('df-63468836-5b88-431d-aa67-aa61a70c1a35')\"\n",
              "              title=\"Convert this dataframe to an interactive table.\"\n",
              "              style=\"display:none;\">\n",
              "        \n",
              "  <svg xmlns=\"http://www.w3.org/2000/svg\" height=\"24px\"viewBox=\"0 0 24 24\"\n",
              "       width=\"24px\">\n",
              "    <path d=\"M0 0h24v24H0V0z\" fill=\"none\"/>\n",
              "    <path d=\"M18.56 5.44l.94 2.06.94-2.06 2.06-.94-2.06-.94-.94-2.06-.94 2.06-2.06.94zm-11 1L8.5 8.5l.94-2.06 2.06-.94-2.06-.94L8.5 2.5l-.94 2.06-2.06.94zm10 10l.94 2.06.94-2.06 2.06-.94-2.06-.94-.94-2.06-.94 2.06-2.06.94z\"/><path d=\"M17.41 7.96l-1.37-1.37c-.4-.4-.92-.59-1.43-.59-.52 0-1.04.2-1.43.59L10.3 9.45l-7.72 7.72c-.78.78-.78 2.05 0 2.83L4 21.41c.39.39.9.59 1.41.59.51 0 1.02-.2 1.41-.59l7.78-7.78 2.81-2.81c.8-.78.8-2.07 0-2.86zM5.41 20L4 18.59l7.72-7.72 1.47 1.35L5.41 20z\"/>\n",
              "  </svg>\n",
              "      </button>\n",
              "      \n",
              "  <style>\n",
              "    .colab-df-container {\n",
              "      display:flex;\n",
              "      flex-wrap:wrap;\n",
              "      gap: 12px;\n",
              "    }\n",
              "\n",
              "    .colab-df-convert {\n",
              "      background-color: #E8F0FE;\n",
              "      border: none;\n",
              "      border-radius: 50%;\n",
              "      cursor: pointer;\n",
              "      display: none;\n",
              "      fill: #1967D2;\n",
              "      height: 32px;\n",
              "      padding: 0 0 0 0;\n",
              "      width: 32px;\n",
              "    }\n",
              "\n",
              "    .colab-df-convert:hover {\n",
              "      background-color: #E2EBFA;\n",
              "      box-shadow: 0px 1px 2px rgba(60, 64, 67, 0.3), 0px 1px 3px 1px rgba(60, 64, 67, 0.15);\n",
              "      fill: #174EA6;\n",
              "    }\n",
              "\n",
              "    [theme=dark] .colab-df-convert {\n",
              "      background-color: #3B4455;\n",
              "      fill: #D2E3FC;\n",
              "    }\n",
              "\n",
              "    [theme=dark] .colab-df-convert:hover {\n",
              "      background-color: #434B5C;\n",
              "      box-shadow: 0px 1px 3px 1px rgba(0, 0, 0, 0.15);\n",
              "      filter: drop-shadow(0px 1px 2px rgba(0, 0, 0, 0.3));\n",
              "      fill: #FFFFFF;\n",
              "    }\n",
              "  </style>\n",
              "\n",
              "      <script>\n",
              "        const buttonEl =\n",
              "          document.querySelector('#df-63468836-5b88-431d-aa67-aa61a70c1a35 button.colab-df-convert');\n",
              "        buttonEl.style.display =\n",
              "          google.colab.kernel.accessAllowed ? 'block' : 'none';\n",
              "\n",
              "        async function convertToInteractive(key) {\n",
              "          const element = document.querySelector('#df-63468836-5b88-431d-aa67-aa61a70c1a35');\n",
              "          const dataTable =\n",
              "            await google.colab.kernel.invokeFunction('convertToInteractive',\n",
              "                                                     [key], {});\n",
              "          if (!dataTable) return;\n",
              "\n",
              "          const docLinkHtml = 'Like what you see? Visit the ' +\n",
              "            '<a target=\"_blank\" href=https://colab.research.google.com/notebooks/data_table.ipynb>data table notebook</a>'\n",
              "            + ' to learn more about interactive tables.';\n",
              "          element.innerHTML = '';\n",
              "          dataTable['output_type'] = 'display_data';\n",
              "          await google.colab.output.renderOutput(dataTable, element);\n",
              "          const docLink = document.createElement('div');\n",
              "          docLink.innerHTML = docLinkHtml;\n",
              "          element.appendChild(docLink);\n",
              "        }\n",
              "      </script>\n",
              "    </div>\n",
              "  </div>\n",
              "  "
            ]
          },
          "metadata": {},
          "execution_count": 42
        }
      ]
    },
    {
      "cell_type": "code",
      "source": [],
      "metadata": {
        "id": "QSSkKJHSVyBZ"
      },
      "execution_count": null,
      "outputs": []
    },
    {
      "cell_type": "markdown",
      "source": [
        "Feature Reduction using PCA"
      ],
      "metadata": {
        "id": "urkTOqI0bvN1"
      }
    },
    {
      "cell_type": "code",
      "source": [
        "from sklearn.decomposition import PCA"
      ],
      "metadata": {
        "id": "JMl8XSPZb7dq"
      },
      "execution_count": 28,
      "outputs": []
    },
    {
      "cell_type": "code",
      "source": [
        "business_review_features.sparse.to_dense().head()"
      ],
      "metadata": {
        "colab": {
          "base_uri": "https://localhost:8080/",
          "height": 400
        },
        "id": "KXs5Ce1Nc0pU",
        "outputId": "2047f276-4552-47ba-ddef-9df5895fd914"
      },
      "execution_count": null,
      "outputs": [
        {
          "output_type": "execute_result",
          "data": {
            "text/plain": [
              "                              10  10 minutes        12        15  15 minutes  \\\n",
              "business_id                                                                    \n",
              "--x_BmZbxzK_nx_GHBaRVw  0.018018    0.000000  0.011011  0.000000    0.000000   \n",
              "--zb12mw2YK-7j6UaHzm8w  0.030198    0.000000  0.000000  0.000000    0.000000   \n",
              "-0__F9fnKt8uioCKztF5Ww  0.008827    0.000000  0.021577  0.010454    0.013082   \n",
              "-0ltw8--HLuulPyOSspqAQ  0.030681    0.000000  0.037500  0.000000    0.000000   \n",
              "-1XSzguS6XLN-V6MVZMg2A  0.010250    0.004571  0.008674  0.002802    0.001169   \n",
              "\n",
              "                              20  20 minutes        25        30  30 minutes  \\\n",
              "business_id                                                                    \n",
              "--x_BmZbxzK_nx_GHBaRVw  0.000000    0.000000  0.012841  0.010979    0.000000   \n",
              "--zb12mw2YK-7j6UaHzm8w  0.000000    0.000000  0.000000  0.000000    0.000000   \n",
              "-0__F9fnKt8uioCKztF5Ww  0.010014    0.013245  0.000000  0.010757    0.013316   \n",
              "-0ltw8--HLuulPyOSspqAQ  0.000000    0.000000  0.000000  0.000000    0.000000   \n",
              "-1XSzguS6XLN-V6MVZMg2A  0.001789    0.000000  0.002248  0.003844    0.001189   \n",
              "\n",
              "                        ...     wrong      year     years      yelp       yes  \\\n",
              "business_id             ...                                                     \n",
              "--x_BmZbxzK_nx_GHBaRVw  ...  0.000000  0.000000  0.000000  0.000000  0.000000   \n",
              "--zb12mw2YK-7j6UaHzm8w  ...  0.000000  0.000000  0.031495  0.034938  0.000000   \n",
              "-0__F9fnKt8uioCKztF5Ww  ...  0.037845  0.020309  0.000000  0.030636  0.019383   \n",
              "-0ltw8--HLuulPyOSspqAQ  ...  0.000000  0.000000  0.031999  0.000000  0.067376   \n",
              "-1XSzguS6XLN-V6MVZMg2A  ...  0.011833  0.007257  0.011513  0.025543  0.006926   \n",
              "\n",
              "                           youll     young     youre       yum     yummy  \n",
              "business_id                                                               \n",
              "--x_BmZbxzK_nx_GHBaRVw  0.010401  0.011777  0.016032  0.000000  0.000000  \n",
              "--zb12mw2YK-7j6UaHzm8w  0.000000  0.039478  0.000000  0.000000  0.000000  \n",
              "-0__F9fnKt8uioCKztF5Ww  0.020381  0.011539  0.039269  0.000000  0.010335  \n",
              "-0ltw8--HLuulPyOSspqAQ  0.070843  0.000000  0.109198  0.043351  0.000000  \n",
              "-1XSzguS6XLN-V6MVZMg2A  0.006372  0.003092  0.013330  0.005570  0.006463  \n",
              "\n",
              "[5 rows x 1000 columns]"
            ],
            "text/html": [
              "\n",
              "  <div id=\"df-41abceeb-2a39-48d3-915c-8425411374cc\">\n",
              "    <div class=\"colab-df-container\">\n",
              "      <div>\n",
              "<style scoped>\n",
              "    .dataframe tbody tr th:only-of-type {\n",
              "        vertical-align: middle;\n",
              "    }\n",
              "\n",
              "    .dataframe tbody tr th {\n",
              "        vertical-align: top;\n",
              "    }\n",
              "\n",
              "    .dataframe thead th {\n",
              "        text-align: right;\n",
              "    }\n",
              "</style>\n",
              "<table border=\"1\" class=\"dataframe\">\n",
              "  <thead>\n",
              "    <tr style=\"text-align: right;\">\n",
              "      <th></th>\n",
              "      <th>10</th>\n",
              "      <th>10 minutes</th>\n",
              "      <th>12</th>\n",
              "      <th>15</th>\n",
              "      <th>15 minutes</th>\n",
              "      <th>20</th>\n",
              "      <th>20 minutes</th>\n",
              "      <th>25</th>\n",
              "      <th>30</th>\n",
              "      <th>30 minutes</th>\n",
              "      <th>...</th>\n",
              "      <th>wrong</th>\n",
              "      <th>year</th>\n",
              "      <th>years</th>\n",
              "      <th>yelp</th>\n",
              "      <th>yes</th>\n",
              "      <th>youll</th>\n",
              "      <th>young</th>\n",
              "      <th>youre</th>\n",
              "      <th>yum</th>\n",
              "      <th>yummy</th>\n",
              "    </tr>\n",
              "    <tr>\n",
              "      <th>business_id</th>\n",
              "      <th></th>\n",
              "      <th></th>\n",
              "      <th></th>\n",
              "      <th></th>\n",
              "      <th></th>\n",
              "      <th></th>\n",
              "      <th></th>\n",
              "      <th></th>\n",
              "      <th></th>\n",
              "      <th></th>\n",
              "      <th></th>\n",
              "      <th></th>\n",
              "      <th></th>\n",
              "      <th></th>\n",
              "      <th></th>\n",
              "      <th></th>\n",
              "      <th></th>\n",
              "      <th></th>\n",
              "      <th></th>\n",
              "      <th></th>\n",
              "      <th></th>\n",
              "    </tr>\n",
              "  </thead>\n",
              "  <tbody>\n",
              "    <tr>\n",
              "      <th>--x_BmZbxzK_nx_GHBaRVw</th>\n",
              "      <td>0.018018</td>\n",
              "      <td>0.000000</td>\n",
              "      <td>0.011011</td>\n",
              "      <td>0.000000</td>\n",
              "      <td>0.000000</td>\n",
              "      <td>0.000000</td>\n",
              "      <td>0.000000</td>\n",
              "      <td>0.012841</td>\n",
              "      <td>0.010979</td>\n",
              "      <td>0.000000</td>\n",
              "      <td>...</td>\n",
              "      <td>0.000000</td>\n",
              "      <td>0.000000</td>\n",
              "      <td>0.000000</td>\n",
              "      <td>0.000000</td>\n",
              "      <td>0.000000</td>\n",
              "      <td>0.010401</td>\n",
              "      <td>0.011777</td>\n",
              "      <td>0.016032</td>\n",
              "      <td>0.000000</td>\n",
              "      <td>0.000000</td>\n",
              "    </tr>\n",
              "    <tr>\n",
              "      <th>--zb12mw2YK-7j6UaHzm8w</th>\n",
              "      <td>0.030198</td>\n",
              "      <td>0.000000</td>\n",
              "      <td>0.000000</td>\n",
              "      <td>0.000000</td>\n",
              "      <td>0.000000</td>\n",
              "      <td>0.000000</td>\n",
              "      <td>0.000000</td>\n",
              "      <td>0.000000</td>\n",
              "      <td>0.000000</td>\n",
              "      <td>0.000000</td>\n",
              "      <td>...</td>\n",
              "      <td>0.000000</td>\n",
              "      <td>0.000000</td>\n",
              "      <td>0.031495</td>\n",
              "      <td>0.034938</td>\n",
              "      <td>0.000000</td>\n",
              "      <td>0.000000</td>\n",
              "      <td>0.039478</td>\n",
              "      <td>0.000000</td>\n",
              "      <td>0.000000</td>\n",
              "      <td>0.000000</td>\n",
              "    </tr>\n",
              "    <tr>\n",
              "      <th>-0__F9fnKt8uioCKztF5Ww</th>\n",
              "      <td>0.008827</td>\n",
              "      <td>0.000000</td>\n",
              "      <td>0.021577</td>\n",
              "      <td>0.010454</td>\n",
              "      <td>0.013082</td>\n",
              "      <td>0.010014</td>\n",
              "      <td>0.013245</td>\n",
              "      <td>0.000000</td>\n",
              "      <td>0.010757</td>\n",
              "      <td>0.013316</td>\n",
              "      <td>...</td>\n",
              "      <td>0.037845</td>\n",
              "      <td>0.020309</td>\n",
              "      <td>0.000000</td>\n",
              "      <td>0.030636</td>\n",
              "      <td>0.019383</td>\n",
              "      <td>0.020381</td>\n",
              "      <td>0.011539</td>\n",
              "      <td>0.039269</td>\n",
              "      <td>0.000000</td>\n",
              "      <td>0.010335</td>\n",
              "    </tr>\n",
              "    <tr>\n",
              "      <th>-0ltw8--HLuulPyOSspqAQ</th>\n",
              "      <td>0.030681</td>\n",
              "      <td>0.000000</td>\n",
              "      <td>0.037500</td>\n",
              "      <td>0.000000</td>\n",
              "      <td>0.000000</td>\n",
              "      <td>0.000000</td>\n",
              "      <td>0.000000</td>\n",
              "      <td>0.000000</td>\n",
              "      <td>0.000000</td>\n",
              "      <td>0.000000</td>\n",
              "      <td>...</td>\n",
              "      <td>0.000000</td>\n",
              "      <td>0.000000</td>\n",
              "      <td>0.031999</td>\n",
              "      <td>0.000000</td>\n",
              "      <td>0.067376</td>\n",
              "      <td>0.070843</td>\n",
              "      <td>0.000000</td>\n",
              "      <td>0.109198</td>\n",
              "      <td>0.043351</td>\n",
              "      <td>0.000000</td>\n",
              "    </tr>\n",
              "    <tr>\n",
              "      <th>-1XSzguS6XLN-V6MVZMg2A</th>\n",
              "      <td>0.010250</td>\n",
              "      <td>0.004571</td>\n",
              "      <td>0.008674</td>\n",
              "      <td>0.002802</td>\n",
              "      <td>0.001169</td>\n",
              "      <td>0.001789</td>\n",
              "      <td>0.000000</td>\n",
              "      <td>0.002248</td>\n",
              "      <td>0.003844</td>\n",
              "      <td>0.001189</td>\n",
              "      <td>...</td>\n",
              "      <td>0.011833</td>\n",
              "      <td>0.007257</td>\n",
              "      <td>0.011513</td>\n",
              "      <td>0.025543</td>\n",
              "      <td>0.006926</td>\n",
              "      <td>0.006372</td>\n",
              "      <td>0.003092</td>\n",
              "      <td>0.013330</td>\n",
              "      <td>0.005570</td>\n",
              "      <td>0.006463</td>\n",
              "    </tr>\n",
              "  </tbody>\n",
              "</table>\n",
              "<p>5 rows × 1000 columns</p>\n",
              "</div>\n",
              "      <button class=\"colab-df-convert\" onclick=\"convertToInteractive('df-41abceeb-2a39-48d3-915c-8425411374cc')\"\n",
              "              title=\"Convert this dataframe to an interactive table.\"\n",
              "              style=\"display:none;\">\n",
              "        \n",
              "  <svg xmlns=\"http://www.w3.org/2000/svg\" height=\"24px\"viewBox=\"0 0 24 24\"\n",
              "       width=\"24px\">\n",
              "    <path d=\"M0 0h24v24H0V0z\" fill=\"none\"/>\n",
              "    <path d=\"M18.56 5.44l.94 2.06.94-2.06 2.06-.94-2.06-.94-.94-2.06-.94 2.06-2.06.94zm-11 1L8.5 8.5l.94-2.06 2.06-.94-2.06-.94L8.5 2.5l-.94 2.06-2.06.94zm10 10l.94 2.06.94-2.06 2.06-.94-2.06-.94-.94-2.06-.94 2.06-2.06.94z\"/><path d=\"M17.41 7.96l-1.37-1.37c-.4-.4-.92-.59-1.43-.59-.52 0-1.04.2-1.43.59L10.3 9.45l-7.72 7.72c-.78.78-.78 2.05 0 2.83L4 21.41c.39.39.9.59 1.41.59.51 0 1.02-.2 1.41-.59l7.78-7.78 2.81-2.81c.8-.78.8-2.07 0-2.86zM5.41 20L4 18.59l7.72-7.72 1.47 1.35L5.41 20z\"/>\n",
              "  </svg>\n",
              "      </button>\n",
              "      \n",
              "  <style>\n",
              "    .colab-df-container {\n",
              "      display:flex;\n",
              "      flex-wrap:wrap;\n",
              "      gap: 12px;\n",
              "    }\n",
              "\n",
              "    .colab-df-convert {\n",
              "      background-color: #E8F0FE;\n",
              "      border: none;\n",
              "      border-radius: 50%;\n",
              "      cursor: pointer;\n",
              "      display: none;\n",
              "      fill: #1967D2;\n",
              "      height: 32px;\n",
              "      padding: 0 0 0 0;\n",
              "      width: 32px;\n",
              "    }\n",
              "\n",
              "    .colab-df-convert:hover {\n",
              "      background-color: #E2EBFA;\n",
              "      box-shadow: 0px 1px 2px rgba(60, 64, 67, 0.3), 0px 1px 3px 1px rgba(60, 64, 67, 0.15);\n",
              "      fill: #174EA6;\n",
              "    }\n",
              "\n",
              "    [theme=dark] .colab-df-convert {\n",
              "      background-color: #3B4455;\n",
              "      fill: #D2E3FC;\n",
              "    }\n",
              "\n",
              "    [theme=dark] .colab-df-convert:hover {\n",
              "      background-color: #434B5C;\n",
              "      box-shadow: 0px 1px 3px 1px rgba(0, 0, 0, 0.15);\n",
              "      filter: drop-shadow(0px 1px 2px rgba(0, 0, 0, 0.3));\n",
              "      fill: #FFFFFF;\n",
              "    }\n",
              "  </style>\n",
              "\n",
              "      <script>\n",
              "        const buttonEl =\n",
              "          document.querySelector('#df-41abceeb-2a39-48d3-915c-8425411374cc button.colab-df-convert');\n",
              "        buttonEl.style.display =\n",
              "          google.colab.kernel.accessAllowed ? 'block' : 'none';\n",
              "\n",
              "        async function convertToInteractive(key) {\n",
              "          const element = document.querySelector('#df-41abceeb-2a39-48d3-915c-8425411374cc');\n",
              "          const dataTable =\n",
              "            await google.colab.kernel.invokeFunction('convertToInteractive',\n",
              "                                                     [key], {});\n",
              "          if (!dataTable) return;\n",
              "\n",
              "          const docLinkHtml = 'Like what you see? Visit the ' +\n",
              "            '<a target=\"_blank\" href=https://colab.research.google.com/notebooks/data_table.ipynb>data table notebook</a>'\n",
              "            + ' to learn more about interactive tables.';\n",
              "          element.innerHTML = '';\n",
              "          dataTable['output_type'] = 'display_data';\n",
              "          await google.colab.output.renderOutput(dataTable, element);\n",
              "          const docLink = document.createElement('div');\n",
              "          docLink.innerHTML = docLinkHtml;\n",
              "          element.appendChild(docLink);\n",
              "        }\n",
              "      </script>\n",
              "    </div>\n",
              "  </div>\n",
              "  "
            ]
          },
          "metadata": {},
          "execution_count": 44
        }
      ]
    },
    {
      "cell_type": "code",
      "source": [
        "%%time\n",
        "# PCA for dimentionality reduction\n",
        "pca = PCA()\n",
        "\n",
        "business_pca_features = pca.fit_transform(business_review_features.sparse.to_dense())\n"
      ],
      "metadata": {
        "colab": {
          "base_uri": "https://localhost:8080/"
        },
        "id": "SDKZ0ZAfVyEa",
        "outputId": "4f4f053c-3a19-4cda-fdb2-a86626d80241"
      },
      "execution_count": 29,
      "outputs": [
        {
          "output_type": "stream",
          "name": "stdout",
          "text": [
            "CPU times: user 3.1 s, sys: 889 ms, total: 3.99 s\n",
            "Wall time: 1.16 s\n"
          ]
        }
      ]
    },
    {
      "cell_type": "code",
      "source": [
        "%%time\n",
        "pca2 = PCA()\n",
        "user_pca_features = pca2.fit_transform(user_review_features.sparse.to_dense())"
      ],
      "metadata": {
        "colab": {
          "base_uri": "https://localhost:8080/"
        },
        "id": "lIcinR4dDJ-u",
        "outputId": "822caf30-7ec5-49f3-d796-5a1a1e3d6ef5"
      },
      "execution_count": 30,
      "outputs": [
        {
          "output_type": "stream",
          "name": "stdout",
          "text": [
            "CPU times: user 6.47 s, sys: 1.23 s, total: 7.69 s\n",
            "Wall time: 2.57 s\n"
          ]
        }
      ]
    },
    {
      "cell_type": "code",
      "source": [
        "explained_variance_ratio = pca2.explained_variance_ratio_"
      ],
      "metadata": {
        "id": "uuJurg7sRyj7"
      },
      "execution_count": null,
      "outputs": []
    },
    {
      "cell_type": "code",
      "source": [
        "cum_sum_eigenvalues = np.cumsum(explained_variance_ratio)\n",
        "#\n",
        "# Create the visualization plot\n",
        "#\n",
        "plt.bar(range(0,len(explained_variance_ratio)), explained_variance_ratio, alpha=0.5, align='center', label='Individual explained variance')\n",
        "plt.step(range(0,len(cum_sum_eigenvalues)), cum_sum_eigenvalues, where='mid',label='Cumulative explained variance')\n",
        "plt.ylabel('Explained variance ratio')\n",
        "plt.xlabel('Principal component index')\n",
        "plt.legend(loc='best')\n",
        "plt.tight_layout()\n",
        "plt.show()"
      ],
      "metadata": {
        "colab": {
          "base_uri": "https://localhost:8080/",
          "height": 487
        },
        "id": "hg_ewyVORyoj",
        "outputId": "218b7519-1617-4273-cd5f-310dfd9f8293"
      },
      "execution_count": null,
      "outputs": [
        {
          "output_type": "display_data",
          "data": {
            "text/plain": [
              "<Figure size 640x480 with 1 Axes>"
            ],
            "image/png": "[encoded data removed]"
          },
          "metadata": {}
        }
      ]
    },
    {
      "cell_type": "code",
      "source": [
        "# import pickle\n",
        "# with open('pca_business.pkl', 'wb') as pickle_file:\n",
        "#         pickle.dump(pca, pickle_file)"
      ],
      "metadata": {
        "id": "gIcaN4JDMFPD"
      },
      "execution_count": null,
      "outputs": []
    },
    {
      "cell_type": "code",
      "source": [
        "# import pickle\n",
        "# with open('pca_user.pkl', 'wb') as pickle_file:\n",
        "#         pickle.dump(pca2, pickle_file)"
      ],
      "metadata": {
        "id": "Vc0TkbqLMZb2"
      },
      "execution_count": null,
      "outputs": []
    },
    {
      "cell_type": "code",
      "source": [],
      "metadata": {
        "id": "AibfriCFMhTc"
      },
      "execution_count": null,
      "outputs": []
    },
    {
      "cell_type": "code",
      "source": [
        "import pickle\n",
        "# reading and transforming data back\n",
        "with open('/content/drive/MyDrive/YelpRecommender/Pickle_files/pca_business.pkl', 'rb') as pickle_file:\n",
        "    pca = pickle.load(pickle_file)\n"
      ],
      "metadata": {
        "id": "viTWsZa-Mhmf"
      },
      "execution_count": null,
      "outputs": []
    },
    {
      "cell_type": "code",
      "source": [
        "business_pca_features = pca.transform(business_review_features.sparse.to_dense())"
      ],
      "metadata": {
        "id": "Cii-csEZMh5L"
      },
      "execution_count": null,
      "outputs": []
    },
    {
      "cell_type": "code",
      "source": [
        "\n",
        "# reading and transforming data back\n",
        "with open('/content/drive/MyDrive/YelpRecommender/Pickle_files/pca_user.pkl', 'rb') as pickle_file:\n",
        "    pca2 = pickle.load(pickle_file)"
      ],
      "metadata": {
        "id": "nRdfw4Q8MiML"
      },
      "execution_count": null,
      "outputs": []
    },
    {
      "cell_type": "code",
      "source": [
        "user_pca_features = pca2.transform(user_review_features.sparse.to_dense())"
      ],
      "metadata": {
        "id": "3_NoZjbtwXwZ"
      },
      "execution_count": 35,
      "outputs": []
    },
    {
      "cell_type": "code",
      "source": [],
      "metadata": {
        "id": "w2WosxYZwYK3"
      },
      "execution_count": null,
      "outputs": []
    },
    {
      "cell_type": "code",
      "source": [],
      "metadata": {
        "id": "aStBqn3uxS8W"
      },
      "execution_count": null,
      "outputs": []
    },
    {
      "cell_type": "code",
      "source": [
        "business_pcafeature = pd.DataFrame(business_pca_features[:,:700], index=business_review_features.index, columns=business_review_features.columns[:700])"
      ],
      "metadata": {
        "id": "jeX_d0lpxTXH"
      },
      "execution_count": 36,
      "outputs": []
    },
    {
      "cell_type": "code",
      "source": [
        "business_pcafeature.head()"
      ],
      "metadata": {
        "colab": {
          "base_uri": "https://localhost:8080/",
          "height": 400
        },
        "id": "NQCFI37swYlO",
        "outputId": "048474ec-a44d-4641-fb10-c8405875cfda"
      },
      "execution_count": 37,
      "outputs": [
        {
          "output_type": "execute_result",
          "data": {
            "text/plain": [
              "                              10  10 minutes        12        15  15 minutes  \\\n",
              "business_id                                                                    \n",
              "--x_BmZbxzK_nx_GHBaRVw -0.289666   -0.109454  0.038489 -0.225291    0.238462   \n",
              "--zb12mw2YK-7j6UaHzm8w -0.093334   -0.120138  0.029334 -0.139521    0.058224   \n",
              "-0__F9fnKt8uioCKztF5Ww -0.055225    0.414484 -0.023394  0.159493   -0.052941   \n",
              "-0ltw8--HLuulPyOSspqAQ -0.054615    0.031138 -0.054414  0.015481    0.085246   \n",
              "-1XSzguS6XLN-V6MVZMg2A  0.331914    0.097802 -0.030673  0.050489    0.302158   \n",
              "\n",
              "                              20  20 minutes        25        30  30 minutes  \\\n",
              "business_id                                                                    \n",
              "--x_BmZbxzK_nx_GHBaRVw  0.167396    0.016315 -0.114173  0.216055   -0.176475   \n",
              "--zb12mw2YK-7j6UaHzm8w  0.049186   -0.007548  0.044064  0.006012   -0.039793   \n",
              "-0__F9fnKt8uioCKztF5Ww -0.027068    0.071784  0.019985  0.058636    0.054918   \n",
              "-0ltw8--HLuulPyOSspqAQ -0.065940   -0.081257 -0.150943  0.127126   -0.036320   \n",
              "-1XSzguS6XLN-V6MVZMg2A  0.026223    0.022331 -0.008237 -0.003277    0.013162   \n",
              "\n",
              "                        ...   problem   pudding    pulled   quality   quarter  \\\n",
              "business_id             ...                                                     \n",
              "--x_BmZbxzK_nx_GHBaRVw  ...  0.001185 -0.008963  0.013055  0.008543  0.005727   \n",
              "--zb12mw2YK-7j6UaHzm8w  ... -0.011567 -0.009014 -0.001737 -0.017612  0.007432   \n",
              "-0__F9fnKt8uioCKztF5Ww  ... -0.004411  0.000052  0.005578 -0.008204  0.000902   \n",
              "-0ltw8--HLuulPyOSspqAQ  ... -0.004517 -0.001153  0.010079  0.003749  0.019530   \n",
              "-1XSzguS6XLN-V6MVZMg2A  ... -0.001754 -0.008100 -0.011732 -0.007020 -0.003695   \n",
              "\n",
              "                           quick   quickly     quiet     quite       raw  \n",
              "business_id                                                               \n",
              "--x_BmZbxzK_nx_GHBaRVw  0.010001 -0.004550 -0.004495 -0.000627  0.003261  \n",
              "--zb12mw2YK-7j6UaHzm8w  0.012585 -0.008752  0.013454  0.011889  0.007071  \n",
              "-0__F9fnKt8uioCKztF5Ww  0.001048  0.013685  0.003261  0.005761  0.010545  \n",
              "-0ltw8--HLuulPyOSspqAQ  0.001769  0.013370  0.014154  0.013973  0.001502  \n",
              "-1XSzguS6XLN-V6MVZMg2A -0.006958 -0.013920  0.004845 -0.001055 -0.000455  \n",
              "\n",
              "[5 rows x 700 columns]"
            ],
            "text/html": [
              "\n",
              "  <div id=\"df-40bc851f-4ee7-4dbb-ae1b-dbc286295ef8\">\n",
              "    <div class=\"colab-df-container\">\n",
              "      <div>\n",
              "<style scoped>\n",
              "    .dataframe tbody tr th:only-of-type {\n",
              "        vertical-align: middle;\n",
              "    }\n",
              "\n",
              "    .dataframe tbody tr th {\n",
              "        vertical-align: top;\n",
              "    }\n",
              "\n",
              "    .dataframe thead th {\n",
              "        text-align: right;\n",
              "    }\n",
              "</style>\n",
              "<table border=\"1\" class=\"dataframe\">\n",
              "  <thead>\n",
              "    <tr style=\"text-align: right;\">\n",
              "      <th></th>\n",
              "      <th>10</th>\n",
              "      <th>10 minutes</th>\n",
              "      <th>12</th>\n",
              "      <th>15</th>\n",
              "      <th>15 minutes</th>\n",
              "      <th>20</th>\n",
              "      <th>20 minutes</th>\n",
              "      <th>25</th>\n",
              "      <th>30</th>\n",
              "      <th>30 minutes</th>\n",
              "      <th>...</th>\n",
              "      <th>problem</th>\n",
              "      <th>pudding</th>\n",
              "      <th>pulled</th>\n",
              "      <th>quality</th>\n",
              "      <th>quarter</th>\n",
              "      <th>quick</th>\n",
              "      <th>quickly</th>\n",
              "      <th>quiet</th>\n",
              "      <th>quite</th>\n",
              "      <th>raw</th>\n",
              "    </tr>\n",
              "    <tr>\n",
              "      <th>business_id</th>\n",
              "      <th></th>\n",
              "      <th></th>\n",
              "      <th></th>\n",
              "      <th></th>\n",
              "      <th></th>\n",
              "      <th></th>\n",
              "      <th></th>\n",
              "      <th></th>\n",
              "      <th></th>\n",
              "      <th></th>\n",
              "      <th></th>\n",
              "      <th></th>\n",
              "      <th></th>\n",
              "      <th></th>\n",
              "      <th></th>\n",
              "      <th></th>\n",
              "      <th></th>\n",
              "      <th></th>\n",
              "      <th></th>\n",
              "      <th></th>\n",
              "      <th></th>\n",
              "    </tr>\n",
              "  </thead>\n",
              "  <tbody>\n",
              "    <tr>\n",
              "      <th>--x_BmZbxzK_nx_GHBaRVw</th>\n",
              "      <td>-0.289666</td>\n",
              "      <td>-0.109454</td>\n",
              "      <td>0.038489</td>\n",
              "      <td>-0.225291</td>\n",
              "      <td>0.238462</td>\n",
              "      <td>0.167396</td>\n",
              "      <td>0.016315</td>\n",
              "      <td>-0.114173</td>\n",
              "      <td>0.216055</td>\n",
              "      <td>-0.176475</td>\n",
              "      <td>...</td>\n",
              "      <td>0.001185</td>\n",
              "      <td>-0.008963</td>\n",
              "      <td>0.013055</td>\n",
              "      <td>0.008543</td>\n",
              "      <td>0.005727</td>\n",
              "      <td>0.010001</td>\n",
              "      <td>-0.004550</td>\n",
              "      <td>-0.004495</td>\n",
              "      <td>-0.000627</td>\n",
              "      <td>0.003261</td>\n",
              "    </tr>\n",
              "    <tr>\n",
              "      <th>--zb12mw2YK-7j6UaHzm8w</th>\n",
              "      <td>-0.093334</td>\n",
              "      <td>-0.120138</td>\n",
              "      <td>0.029334</td>\n",
              "      <td>-0.139521</td>\n",
              "      <td>0.058224</td>\n",
              "      <td>0.049186</td>\n",
              "      <td>-0.007548</td>\n",
              "      <td>0.044064</td>\n",
              "      <td>0.006012</td>\n",
              "      <td>-0.039793</td>\n",
              "      <td>...</td>\n",
              "      <td>-0.011567</td>\n",
              "      <td>-0.009014</td>\n",
              "      <td>-0.001737</td>\n",
              "      <td>-0.017612</td>\n",
              "      <td>0.007432</td>\n",
              "      <td>0.012585</td>\n",
              "      <td>-0.008752</td>\n",
              "      <td>0.013454</td>\n",
              "      <td>0.011889</td>\n",
              "      <td>0.007071</td>\n",
              "    </tr>\n",
              "    <tr>\n",
              "      <th>-0__F9fnKt8uioCKztF5Ww</th>\n",
              "      <td>-0.055225</td>\n",
              "      <td>0.414484</td>\n",
              "      <td>-0.023394</td>\n",
              "      <td>0.159493</td>\n",
              "      <td>-0.052941</td>\n",
              "      <td>-0.027068</td>\n",
              "      <td>0.071784</td>\n",
              "      <td>0.019985</td>\n",
              "      <td>0.058636</td>\n",
              "      <td>0.054918</td>\n",
              "      <td>...</td>\n",
              "      <td>-0.004411</td>\n",
              "      <td>0.000052</td>\n",
              "      <td>0.005578</td>\n",
              "      <td>-0.008204</td>\n",
              "      <td>0.000902</td>\n",
              "      <td>0.001048</td>\n",
              "      <td>0.013685</td>\n",
              "      <td>0.003261</td>\n",
              "      <td>0.005761</td>\n",
              "      <td>0.010545</td>\n",
              "    </tr>\n",
              "    <tr>\n",
              "      <th>-0ltw8--HLuulPyOSspqAQ</th>\n",
              "      <td>-0.054615</td>\n",
              "      <td>0.031138</td>\n",
              "      <td>-0.054414</td>\n",
              "      <td>0.015481</td>\n",
              "      <td>0.085246</td>\n",
              "      <td>-0.065940</td>\n",
              "      <td>-0.081257</td>\n",
              "      <td>-0.150943</td>\n",
              "      <td>0.127126</td>\n",
              "      <td>-0.036320</td>\n",
              "      <td>...</td>\n",
              "      <td>-0.004517</td>\n",
              "      <td>-0.001153</td>\n",
              "      <td>0.010079</td>\n",
              "      <td>0.003749</td>\n",
              "      <td>0.019530</td>\n",
              "      <td>0.001769</td>\n",
              "      <td>0.013370</td>\n",
              "      <td>0.014154</td>\n",
              "      <td>0.013973</td>\n",
              "      <td>0.001502</td>\n",
              "    </tr>\n",
              "    <tr>\n",
              "      <th>-1XSzguS6XLN-V6MVZMg2A</th>\n",
              "      <td>0.331914</td>\n",
              "      <td>0.097802</td>\n",
              "      <td>-0.030673</td>\n",
              "      <td>0.050489</td>\n",
              "      <td>0.302158</td>\n",
              "      <td>0.026223</td>\n",
              "      <td>0.022331</td>\n",
              "      <td>-0.008237</td>\n",
              "      <td>-0.003277</td>\n",
              "      <td>0.013162</td>\n",
              "      <td>...</td>\n",
              "      <td>-0.001754</td>\n",
              "      <td>-0.008100</td>\n",
              "      <td>-0.011732</td>\n",
              "      <td>-0.007020</td>\n",
              "      <td>-0.003695</td>\n",
              "      <td>-0.006958</td>\n",
              "      <td>-0.013920</td>\n",
              "      <td>0.004845</td>\n",
              "      <td>-0.001055</td>\n",
              "      <td>-0.000455</td>\n",
              "    </tr>\n",
              "  </tbody>\n",
              "</table>\n",
              "<p>5 rows × 700 columns</p>\n",
              "</div>\n",
              "      <button class=\"colab-df-convert\" onclick=\"convertToInteractive('df-40bc851f-4ee7-4dbb-ae1b-dbc286295ef8')\"\n",
              "              title=\"Convert this dataframe to an interactive table.\"\n",
              "              style=\"display:none;\">\n",
              "        \n",
              "  <svg xmlns=\"http://www.w3.org/2000/svg\" height=\"24px\"viewBox=\"0 0 24 24\"\n",
              "       width=\"24px\">\n",
              "    <path d=\"M0 0h24v24H0V0z\" fill=\"none\"/>\n",
              "    <path d=\"M18.56 5.44l.94 2.06.94-2.06 2.06-.94-2.06-.94-.94-2.06-.94 2.06-2.06.94zm-11 1L8.5 8.5l.94-2.06 2.06-.94-2.06-.94L8.5 2.5l-.94 2.06-2.06.94zm10 10l.94 2.06.94-2.06 2.06-.94-2.06-.94-.94-2.06-.94 2.06-2.06.94z\"/><path d=\"M17.41 7.96l-1.37-1.37c-.4-.4-.92-.59-1.43-.59-.52 0-1.04.2-1.43.59L10.3 9.45l-7.72 7.72c-.78.78-.78 2.05 0 2.83L4 21.41c.39.39.9.59 1.41.59.51 0 1.02-.2 1.41-.59l7.78-7.78 2.81-2.81c.8-.78.8-2.07 0-2.86zM5.41 20L4 18.59l7.72-7.72 1.47 1.35L5.41 20z\"/>\n",
              "  </svg>\n",
              "      </button>\n",
              "      \n",
              "  <style>\n",
              "    .colab-df-container {\n",
              "      display:flex;\n",
              "      flex-wrap:wrap;\n",
              "      gap: 12px;\n",
              "    }\n",
              "\n",
              "    .colab-df-convert {\n",
              "      background-color: #E8F0FE;\n",
              "      border: none;\n",
              "      border-radius: 50%;\n",
              "      cursor: pointer;\n",
              "      display: none;\n",
              "      fill: #1967D2;\n",
              "      height: 32px;\n",
              "      padding: 0 0 0 0;\n",
              "      width: 32px;\n",
              "    }\n",
              "\n",
              "    .colab-df-convert:hover {\n",
              "      background-color: #E2EBFA;\n",
              "      box-shadow: 0px 1px 2px rgba(60, 64, 67, 0.3), 0px 1px 3px 1px rgba(60, 64, 67, 0.15);\n",
              "      fill: #174EA6;\n",
              "    }\n",
              "\n",
              "    [theme=dark] .colab-df-convert {\n",
              "      background-color: #3B4455;\n",
              "      fill: #D2E3FC;\n",
              "    }\n",
              "\n",
              "    [theme=dark] .colab-df-convert:hover {\n",
              "      background-color: #434B5C;\n",
              "      box-shadow: 0px 1px 3px 1px rgba(0, 0, 0, 0.15);\n",
              "      filter: drop-shadow(0px 1px 2px rgba(0, 0, 0, 0.3));\n",
              "      fill: #FFFFFF;\n",
              "    }\n",
              "  </style>\n",
              "\n",
              "      <script>\n",
              "        const buttonEl =\n",
              "          document.querySelector('#df-40bc851f-4ee7-4dbb-ae1b-dbc286295ef8 button.colab-df-convert');\n",
              "        buttonEl.style.display =\n",
              "          google.colab.kernel.accessAllowed ? 'block' : 'none';\n",
              "\n",
              "        async function convertToInteractive(key) {\n",
              "          const element = document.querySelector('#df-40bc851f-4ee7-4dbb-ae1b-dbc286295ef8');\n",
              "          const dataTable =\n",
              "            await google.colab.kernel.invokeFunction('convertToInteractive',\n",
              "                                                     [key], {});\n",
              "          if (!dataTable) return;\n",
              "\n",
              "          const docLinkHtml = 'Like what you see? Visit the ' +\n",
              "            '<a target=\"_blank\" href=https://colab.research.google.com/notebooks/data_table.ipynb>data table notebook</a>'\n",
              "            + ' to learn more about interactive tables.';\n",
              "          element.innerHTML = '';\n",
              "          dataTable['output_type'] = 'display_data';\n",
              "          await google.colab.output.renderOutput(dataTable, element);\n",
              "          const docLink = document.createElement('div');\n",
              "          docLink.innerHTML = docLinkHtml;\n",
              "          element.appendChild(docLink);\n",
              "        }\n",
              "      </script>\n",
              "    </div>\n",
              "  </div>\n",
              "  "
            ]
          },
          "metadata": {},
          "execution_count": 37
        }
      ]
    },
    {
      "cell_type": "code",
      "source": [
        "user_pcafeature = pd.DataFrame(user_pca_features[:,:700], index=user_review_features.index, columns=user_review_features.columns[:700])"
      ],
      "metadata": {
        "id": "9R0zZv2K5MBO"
      },
      "execution_count": 38,
      "outputs": []
    },
    {
      "cell_type": "code",
      "source": [
        "user_pcafeature.head()"
      ],
      "metadata": {
        "colab": {
          "base_uri": "https://localhost:8080/",
          "height": 383
        },
        "id": "4ZnoC__R6H2K",
        "outputId": "ff4db924-1ac8-4d03-f774-e378ea89ba37"
      },
      "execution_count": null,
      "outputs": [
        {
          "output_type": "execute_result",
          "data": {
            "text/plain": [
              "                              10  10 minutes        12        15  15 minutes  \\\n",
              "user_id                                                                        \n",
              "---UgP94gokyCDuB5zUssA  0.094065    0.040870  0.162685 -0.104346   -0.038085   \n",
              "--1orhUoGFSdHXsoxqQc8g -0.033576   -0.144209 -0.125955 -0.175405   -0.096753   \n",
              "--3PldvWEZ_bhLNsyrAtgA -0.133470   -0.026974  0.031271  0.123745    0.043058   \n",
              "--3WaS23LcIXtxyFULJHTA  0.051072   -0.056207 -0.013916  0.178079    0.017894   \n",
              "--48iehfEvtnSrLq8grJIQ  0.089724   -0.059780  0.030619  0.019685    0.073497   \n",
              "\n",
              "                              20  20 minutes        25        30  30 minutes  \\\n",
              "user_id                                                                        \n",
              "---UgP94gokyCDuB5zUssA -0.086335    0.128289 -0.064774  0.007596    0.058641   \n",
              "--1orhUoGFSdHXsoxqQc8g -0.053990   -0.006892 -0.045978  0.021402    0.013359   \n",
              "--3PldvWEZ_bhLNsyrAtgA -0.019202   -0.060739 -0.050810 -0.104223   -0.029632   \n",
              "--3WaS23LcIXtxyFULJHTA -0.033445    0.057950  0.037547 -0.000461    0.054534   \n",
              "--48iehfEvtnSrLq8grJIQ  0.020418   -0.026287 -0.029321 -0.039727    0.021663   \n",
              "\n",
              "                        ...   problem   pudding    pulled   quality   quarter  \\\n",
              "user_id                 ...                                                     \n",
              "---UgP94gokyCDuB5zUssA  ...  0.005378 -0.030319 -0.004612  0.005302  0.001644   \n",
              "--1orhUoGFSdHXsoxqQc8g  ...  0.004373 -0.012049  0.008483  0.017777 -0.003808   \n",
              "--3PldvWEZ_bhLNsyrAtgA  ... -0.006913  0.002959 -0.010400  0.003991 -0.006382   \n",
              "--3WaS23LcIXtxyFULJHTA  ... -0.015562  0.001613  0.010853  0.000693 -0.008801   \n",
              "--48iehfEvtnSrLq8grJIQ  ...  0.055523 -0.016201  0.006250  0.033273  0.046110   \n",
              "\n",
              "                           quick   quickly     quiet     quite       raw  \n",
              "user_id                                                                   \n",
              "---UgP94gokyCDuB5zUssA  0.014772  0.001630  0.044851  0.000561  0.007346  \n",
              "--1orhUoGFSdHXsoxqQc8g  0.002198  0.000290  0.009645  0.011004 -0.016386  \n",
              "--3PldvWEZ_bhLNsyrAtgA -0.013472 -0.001735  0.001865 -0.009043  0.010415  \n",
              "--3WaS23LcIXtxyFULJHTA  0.015330  0.001018 -0.003142 -0.004314 -0.018101  \n",
              "--48iehfEvtnSrLq8grJIQ -0.033097  0.008766 -0.038172  0.055110  0.077490  \n",
              "\n",
              "[5 rows x 700 columns]"
            ],
            "text/html": [
              "\n",
              "  <div id=\"df-2464382c-b4d3-45d5-9c66-2b2594e5b16e\">\n",
              "    <div class=\"colab-df-container\">\n",
              "      <div>\n",
              "<style scoped>\n",
              "    .dataframe tbody tr th:only-of-type {\n",
              "        vertical-align: middle;\n",
              "    }\n",
              "\n",
              "    .dataframe tbody tr th {\n",
              "        vertical-align: top;\n",
              "    }\n",
              "\n",
              "    .dataframe thead th {\n",
              "        text-align: right;\n",
              "    }\n",
              "</style>\n",
              "<table border=\"1\" class=\"dataframe\">\n",
              "  <thead>\n",
              "    <tr style=\"text-align: right;\">\n",
              "      <th></th>\n",
              "      <th>10</th>\n",
              "      <th>10 minutes</th>\n",
              "      <th>12</th>\n",
              "      <th>15</th>\n",
              "      <th>15 minutes</th>\n",
              "      <th>20</th>\n",
              "      <th>20 minutes</th>\n",
              "      <th>25</th>\n",
              "      <th>30</th>\n",
              "      <th>30 minutes</th>\n",
              "      <th>...</th>\n",
              "      <th>problem</th>\n",
              "      <th>pudding</th>\n",
              "      <th>pulled</th>\n",
              "      <th>quality</th>\n",
              "      <th>quarter</th>\n",
              "      <th>quick</th>\n",
              "      <th>quickly</th>\n",
              "      <th>quiet</th>\n",
              "      <th>quite</th>\n",
              "      <th>raw</th>\n",
              "    </tr>\n",
              "    <tr>\n",
              "      <th>user_id</th>\n",
              "      <th></th>\n",
              "      <th></th>\n",
              "      <th></th>\n",
              "      <th></th>\n",
              "      <th></th>\n",
              "      <th></th>\n",
              "      <th></th>\n",
              "      <th></th>\n",
              "      <th></th>\n",
              "      <th></th>\n",
              "      <th></th>\n",
              "      <th></th>\n",
              "      <th></th>\n",
              "      <th></th>\n",
              "      <th></th>\n",
              "      <th></th>\n",
              "      <th></th>\n",
              "      <th></th>\n",
              "      <th></th>\n",
              "      <th></th>\n",
              "      <th></th>\n",
              "    </tr>\n",
              "  </thead>\n",
              "  <tbody>\n",
              "    <tr>\n",
              "      <th>---UgP94gokyCDuB5zUssA</th>\n",
              "      <td>0.094065</td>\n",
              "      <td>0.040870</td>\n",
              "      <td>0.162685</td>\n",
              "      <td>-0.104346</td>\n",
              "      <td>-0.038085</td>\n",
              "      <td>-0.086335</td>\n",
              "      <td>0.128289</td>\n",
              "      <td>-0.064774</td>\n",
              "      <td>0.007596</td>\n",
              "      <td>0.058641</td>\n",
              "      <td>...</td>\n",
              "      <td>0.005378</td>\n",
              "      <td>-0.030319</td>\n",
              "      <td>-0.004612</td>\n",
              "      <td>0.005302</td>\n",
              "      <td>0.001644</td>\n",
              "      <td>0.014772</td>\n",
              "      <td>0.001630</td>\n",
              "      <td>0.044851</td>\n",
              "      <td>0.000561</td>\n",
              "      <td>0.007346</td>\n",
              "    </tr>\n",
              "    <tr>\n",
              "      <th>--1orhUoGFSdHXsoxqQc8g</th>\n",
              "      <td>-0.033576</td>\n",
              "      <td>-0.144209</td>\n",
              "      <td>-0.125955</td>\n",
              "      <td>-0.175405</td>\n",
              "      <td>-0.096753</td>\n",
              "      <td>-0.053990</td>\n",
              "      <td>-0.006892</td>\n",
              "      <td>-0.045978</td>\n",
              "      <td>0.021402</td>\n",
              "      <td>0.013359</td>\n",
              "      <td>...</td>\n",
              "      <td>0.004373</td>\n",
              "      <td>-0.012049</td>\n",
              "      <td>0.008483</td>\n",
              "      <td>0.017777</td>\n",
              "      <td>-0.003808</td>\n",
              "      <td>0.002198</td>\n",
              "      <td>0.000290</td>\n",
              "      <td>0.009645</td>\n",
              "      <td>0.011004</td>\n",
              "      <td>-0.016386</td>\n",
              "    </tr>\n",
              "    <tr>\n",
              "      <th>--3PldvWEZ_bhLNsyrAtgA</th>\n",
              "      <td>-0.133470</td>\n",
              "      <td>-0.026974</td>\n",
              "      <td>0.031271</td>\n",
              "      <td>0.123745</td>\n",
              "      <td>0.043058</td>\n",
              "      <td>-0.019202</td>\n",
              "      <td>-0.060739</td>\n",
              "      <td>-0.050810</td>\n",
              "      <td>-0.104223</td>\n",
              "      <td>-0.029632</td>\n",
              "      <td>...</td>\n",
              "      <td>-0.006913</td>\n",
              "      <td>0.002959</td>\n",
              "      <td>-0.010400</td>\n",
              "      <td>0.003991</td>\n",
              "      <td>-0.006382</td>\n",
              "      <td>-0.013472</td>\n",
              "      <td>-0.001735</td>\n",
              "      <td>0.001865</td>\n",
              "      <td>-0.009043</td>\n",
              "      <td>0.010415</td>\n",
              "    </tr>\n",
              "    <tr>\n",
              "      <th>--3WaS23LcIXtxyFULJHTA</th>\n",
              "      <td>0.051072</td>\n",
              "      <td>-0.056207</td>\n",
              "      <td>-0.013916</td>\n",
              "      <td>0.178079</td>\n",
              "      <td>0.017894</td>\n",
              "      <td>-0.033445</td>\n",
              "      <td>0.057950</td>\n",
              "      <td>0.037547</td>\n",
              "      <td>-0.000461</td>\n",
              "      <td>0.054534</td>\n",
              "      <td>...</td>\n",
              "      <td>-0.015562</td>\n",
              "      <td>0.001613</td>\n",
              "      <td>0.010853</td>\n",
              "      <td>0.000693</td>\n",
              "      <td>-0.008801</td>\n",
              "      <td>0.015330</td>\n",
              "      <td>0.001018</td>\n",
              "      <td>-0.003142</td>\n",
              "      <td>-0.004314</td>\n",
              "      <td>-0.018101</td>\n",
              "    </tr>\n",
              "    <tr>\n",
              "      <th>--48iehfEvtnSrLq8grJIQ</th>\n",
              "      <td>0.089724</td>\n",
              "      <td>-0.059780</td>\n",
              "      <td>0.030619</td>\n",
              "      <td>0.019685</td>\n",
              "      <td>0.073497</td>\n",
              "      <td>0.020418</td>\n",
              "      <td>-0.026287</td>\n",
              "      <td>-0.029321</td>\n",
              "      <td>-0.039727</td>\n",
              "      <td>0.021663</td>\n",
              "      <td>...</td>\n",
              "      <td>0.055523</td>\n",
              "      <td>-0.016201</td>\n",
              "      <td>0.006250</td>\n",
              "      <td>0.033273</td>\n",
              "      <td>0.046110</td>\n",
              "      <td>-0.033097</td>\n",
              "      <td>0.008766</td>\n",
              "      <td>-0.038172</td>\n",
              "      <td>0.055110</td>\n",
              "      <td>0.077490</td>\n",
              "    </tr>\n",
              "  </tbody>\n",
              "</table>\n",
              "<p>5 rows × 700 columns</p>\n",
              "</div>\n",
              "      <button class=\"colab-df-convert\" onclick=\"convertToInteractive('df-2464382c-b4d3-45d5-9c66-2b2594e5b16e')\"\n",
              "              title=\"Convert this dataframe to an interactive table.\"\n",
              "              style=\"display:none;\">\n",
              "        \n",
              "  <svg xmlns=\"http://www.w3.org/2000/svg\" height=\"24px\"viewBox=\"0 0 24 24\"\n",
              "       width=\"24px\">\n",
              "    <path d=\"M0 0h24v24H0V0z\" fill=\"none\"/>\n",
              "    <path d=\"M18.56 5.44l.94 2.06.94-2.06 2.06-.94-2.06-.94-.94-2.06-.94 2.06-2.06.94zm-11 1L8.5 8.5l.94-2.06 2.06-.94-2.06-.94L8.5 2.5l-.94 2.06-2.06.94zm10 10l.94 2.06.94-2.06 2.06-.94-2.06-.94-.94-2.06-.94 2.06-2.06.94z\"/><path d=\"M17.41 7.96l-1.37-1.37c-.4-.4-.92-.59-1.43-.59-.52 0-1.04.2-1.43.59L10.3 9.45l-7.72 7.72c-.78.78-.78 2.05 0 2.83L4 21.41c.39.39.9.59 1.41.59.51 0 1.02-.2 1.41-.59l7.78-7.78 2.81-2.81c.8-.78.8-2.07 0-2.86zM5.41 20L4 18.59l7.72-7.72 1.47 1.35L5.41 20z\"/>\n",
              "  </svg>\n",
              "      </button>\n",
              "      \n",
              "  <style>\n",
              "    .colab-df-container {\n",
              "      display:flex;\n",
              "      flex-wrap:wrap;\n",
              "      gap: 12px;\n",
              "    }\n",
              "\n",
              "    .colab-df-convert {\n",
              "      background-color: #E8F0FE;\n",
              "      border: none;\n",
              "      border-radius: 50%;\n",
              "      cursor: pointer;\n",
              "      display: none;\n",
              "      fill: #1967D2;\n",
              "      height: 32px;\n",
              "      padding: 0 0 0 0;\n",
              "      width: 32px;\n",
              "    }\n",
              "\n",
              "    .colab-df-convert:hover {\n",
              "      background-color: #E2EBFA;\n",
              "      box-shadow: 0px 1px 2px rgba(60, 64, 67, 0.3), 0px 1px 3px 1px rgba(60, 64, 67, 0.15);\n",
              "      fill: #174EA6;\n",
              "    }\n",
              "\n",
              "    [theme=dark] .colab-df-convert {\n",
              "      background-color: #3B4455;\n",
              "      fill: #D2E3FC;\n",
              "    }\n",
              "\n",
              "    [theme=dark] .colab-df-convert:hover {\n",
              "      background-color: #434B5C;\n",
              "      box-shadow: 0px 1px 3px 1px rgba(0, 0, 0, 0.15);\n",
              "      filter: drop-shadow(0px 1px 2px rgba(0, 0, 0, 0.3));\n",
              "      fill: #FFFFFF;\n",
              "    }\n",
              "  </style>\n",
              "\n",
              "      <script>\n",
              "        const buttonEl =\n",
              "          document.querySelector('#df-2464382c-b4d3-45d5-9c66-2b2594e5b16e button.colab-df-convert');\n",
              "        buttonEl.style.display =\n",
              "          google.colab.kernel.accessAllowed ? 'block' : 'none';\n",
              "\n",
              "        async function convertToInteractive(key) {\n",
              "          const element = document.querySelector('#df-2464382c-b4d3-45d5-9c66-2b2594e5b16e');\n",
              "          const dataTable =\n",
              "            await google.colab.kernel.invokeFunction('convertToInteractive',\n",
              "                                                     [key], {});\n",
              "          if (!dataTable) return;\n",
              "\n",
              "          const docLinkHtml = 'Like what you see? Visit the ' +\n",
              "            '<a target=\"_blank\" href=https://colab.research.google.com/notebooks/data_table.ipynb>data table notebook</a>'\n",
              "            + ' to learn more about interactive tables.';\n",
              "          element.innerHTML = '';\n",
              "          dataTable['output_type'] = 'display_data';\n",
              "          await google.colab.output.renderOutput(dataTable, element);\n",
              "          const docLink = document.createElement('div');\n",
              "          docLink.innerHTML = docLinkHtml;\n",
              "          element.appendChild(docLink);\n",
              "        }\n",
              "      </script>\n",
              "    </div>\n",
              "  </div>\n",
              "  "
            ]
          },
          "metadata": {},
          "execution_count": 34
        }
      ]
    },
    {
      "cell_type": "code",
      "source": [
        "userid_rating_matrix = pd.pivot_table(yelp_data, values='stars', index=['user_id'], columns=['business_id'])"
      ],
      "metadata": {
        "id": "aIMQfMTG6Xii"
      },
      "execution_count": 39,
      "outputs": []
    },
    {
      "cell_type": "code",
      "source": [
        "userid_rating_matrix2 = userid_rating_matrix.loc[user_pcafeature.index]"
      ],
      "metadata": {
        "id": "pFo29lYa79w-"
      },
      "execution_count": 40,
      "outputs": []
    },
    {
      "cell_type": "code",
      "source": [
        "userid_rating_matrix2.shape"
      ],
      "metadata": {
        "id": "uryMioy37-g7",
        "colab": {
          "base_uri": "https://localhost:8080/"
        },
        "outputId": "9bccd4c9-fbe0-42a4-8a80-ca0944cf2d48"
      },
      "execution_count": 41,
      "outputs": [
        {
          "output_type": "execute_result",
          "data": {
            "text/plain": [
              "(8000, 3306)"
            ]
          },
          "metadata": {},
          "execution_count": 41
        }
      ]
    },
    {
      "cell_type": "code",
      "source": [
        "def matrix_factorization(R, P, Q, steps=25, gamma=0.001,lamda=0.02):\n",
        "    for step in range(steps):\n",
        "        print(step)\n",
        "        for i in R.index:\n",
        "            for j in R.columns:\n",
        "                if R.loc[i,j]>0:\n",
        "                    eij=R.loc[i,j]-np.dot(P.loc[i],Q.loc[j])\n",
        "                    P.loc[i]=P.loc[i]+gamma*(eij*Q.loc[j]-lamda*P.loc[i])\n",
        "                    Q.loc[j]=Q.loc[j]+gamma*(eij*P.loc[i]-lamda*Q.loc[j])\n",
        "        e=0\n",
        "        for i in R.index:\n",
        "            for j in R.columns:\n",
        "                if R.loc[i,j]>0:\n",
        "                    e= e + pow(R.loc[i,j]-np.dot(P.loc[i],Q.loc[j]),2)+lamda*(pow(np.linalg.norm(P.loc[i]),2)+pow(np.linalg.norm(Q.loc[j]),2))\n",
        "        if e<0.001:\n",
        "            break\n",
        "        print(\"Step Completed\")\n",
        "    return P,Q"
      ],
      "metadata": {
        "id": "-9fFjaIcBB-z"
      },
      "execution_count": 42,
      "outputs": []
    },
    {
      "cell_type": "code",
      "source": [
        "%%time\n",
        "user_pcafeature,business_pcafeature = matrix_factorization(userid_rating_matrix2,user_pcafeature,business_pcafeature)"
      ],
      "metadata": {
        "colab": {
          "base_uri": "https://localhost:8080/",
          "height": 419
        },
        "id": "dhxiRiACBCCR",
        "outputId": "c46a5aff-b4ea-4f58-d651-8538a9988a39"
      },
      "execution_count": 43,
      "outputs": [
        {
          "output_type": "stream",
          "name": "stdout",
          "text": [
            "0\n"
          ]
        },
        {
          "output_type": "error",
          "ename": "KeyboardInterrupt",
          "evalue": "ignored",
          "traceback": [
            "\u001b[0;31m---------------------------------------------------------------------------\u001b[0m",
            "\u001b[0;31mKeyboardInterrupt\u001b[0m                         Traceback (most recent call last)",
            "\u001b[0;32m<timed exec>\u001b[0m in \u001b[0;36m<module>\u001b[0;34m\u001b[0m\n",
            "\u001b[0;32m<ipython-input-42-15d0a0b8374f>\u001b[0m in \u001b[0;36mmatrix_factorization\u001b[0;34m(R, P, Q, steps, gamma, lamda)\u001b[0m\n\u001b[1;32m      4\u001b[0m         \u001b[0;32mfor\u001b[0m \u001b[0mi\u001b[0m \u001b[0;32min\u001b[0m \u001b[0mR\u001b[0m\u001b[0;34m.\u001b[0m\u001b[0mindex\u001b[0m\u001b[0;34m:\u001b[0m\u001b[0;34m\u001b[0m\u001b[0;34m\u001b[0m\u001b[0m\n\u001b[1;32m      5\u001b[0m             \u001b[0;32mfor\u001b[0m \u001b[0mj\u001b[0m \u001b[0;32min\u001b[0m \u001b[0mR\u001b[0m\u001b[0;34m.\u001b[0m\u001b[0mcolumns\u001b[0m\u001b[0;34m:\u001b[0m\u001b[0;34m\u001b[0m\u001b[0;34m\u001b[0m\u001b[0m\n\u001b[0;32m----> 6\u001b[0;31m                 \u001b[0;32mif\u001b[0m \u001b[0mR\u001b[0m\u001b[0;34m.\u001b[0m\u001b[0mloc\u001b[0m\u001b[0;34m[\u001b[0m\u001b[0mi\u001b[0m\u001b[0;34m,\u001b[0m\u001b[0mj\u001b[0m\u001b[0;34m]\u001b[0m\u001b[0;34m>\u001b[0m\u001b[0;36m0\u001b[0m\u001b[0;34m:\u001b[0m\u001b[0;34m\u001b[0m\u001b[0;34m\u001b[0m\u001b[0m\n\u001b[0m\u001b[1;32m      7\u001b[0m                     \u001b[0meij\u001b[0m\u001b[0;34m=\u001b[0m\u001b[0mR\u001b[0m\u001b[0;34m.\u001b[0m\u001b[0mloc\u001b[0m\u001b[0;34m[\u001b[0m\u001b[0mi\u001b[0m\u001b[0;34m,\u001b[0m\u001b[0mj\u001b[0m\u001b[0;34m]\u001b[0m\u001b[0;34m-\u001b[0m\u001b[0mnp\u001b[0m\u001b[0;34m.\u001b[0m\u001b[0mdot\u001b[0m\u001b[0;34m(\u001b[0m\u001b[0mP\u001b[0m\u001b[0;34m.\u001b[0m\u001b[0mloc\u001b[0m\u001b[0;34m[\u001b[0m\u001b[0mi\u001b[0m\u001b[0;34m]\u001b[0m\u001b[0;34m,\u001b[0m\u001b[0mQ\u001b[0m\u001b[0;34m.\u001b[0m\u001b[0mloc\u001b[0m\u001b[0;34m[\u001b[0m\u001b[0mj\u001b[0m\u001b[0;34m]\u001b[0m\u001b[0;34m)\u001b[0m\u001b[0;34m\u001b[0m\u001b[0;34m\u001b[0m\u001b[0m\n\u001b[1;32m      8\u001b[0m                     \u001b[0mP\u001b[0m\u001b[0;34m.\u001b[0m\u001b[0mloc\u001b[0m\u001b[0;34m[\u001b[0m\u001b[0mi\u001b[0m\u001b[0;34m]\u001b[0m\u001b[0;34m=\u001b[0m\u001b[0mP\u001b[0m\u001b[0;34m.\u001b[0m\u001b[0mloc\u001b[0m\u001b[0;34m[\u001b[0m\u001b[0mi\u001b[0m\u001b[0;34m]\u001b[0m\u001b[0;34m+\u001b[0m\u001b[0mgamma\u001b[0m\u001b[0;34m*\u001b[0m\u001b[0;34m(\u001b[0m\u001b[0meij\u001b[0m\u001b[0;34m*\u001b[0m\u001b[0mQ\u001b[0m\u001b[0;34m.\u001b[0m\u001b[0mloc\u001b[0m\u001b[0;34m[\u001b[0m\u001b[0mj\u001b[0m\u001b[0;34m]\u001b[0m\u001b[0;34m-\u001b[0m\u001b[0mlamda\u001b[0m\u001b[0;34m*\u001b[0m\u001b[0mP\u001b[0m\u001b[0;34m.\u001b[0m\u001b[0mloc\u001b[0m\u001b[0;34m[\u001b[0m\u001b[0mi\u001b[0m\u001b[0;34m]\u001b[0m\u001b[0;34m)\u001b[0m\u001b[0;34m\u001b[0m\u001b[0;34m\u001b[0m\u001b[0m\n",
            "\u001b[0;32m/usr/local/lib/python3.10/dist-packages/pandas/core/indexing.py\u001b[0m in \u001b[0;36m__getitem__\u001b[0;34m(self, key)\u001b[0m\n\u001b[1;32m   1060\u001b[0m     \u001b[0;32mdef\u001b[0m \u001b[0m__getitem__\u001b[0m\u001b[0;34m(\u001b[0m\u001b[0mself\u001b[0m\u001b[0;34m,\u001b[0m \u001b[0mkey\u001b[0m\u001b[0;34m)\u001b[0m\u001b[0;34m:\u001b[0m\u001b[0;34m\u001b[0m\u001b[0;34m\u001b[0m\u001b[0m\n\u001b[1;32m   1061\u001b[0m         \u001b[0mcheck_deprecated_indexers\u001b[0m\u001b[0;34m(\u001b[0m\u001b[0mkey\u001b[0m\u001b[0;34m)\u001b[0m\u001b[0;34m\u001b[0m\u001b[0;34m\u001b[0m\u001b[0m\n\u001b[0;32m-> 1062\u001b[0;31m         \u001b[0;32mif\u001b[0m \u001b[0mtype\u001b[0m\u001b[0;34m(\u001b[0m\u001b[0mkey\u001b[0m\u001b[0;34m)\u001b[0m \u001b[0;32mis\u001b[0m \u001b[0mtuple\u001b[0m\u001b[0;34m:\u001b[0m\u001b[0;34m\u001b[0m\u001b[0;34m\u001b[0m\u001b[0m\n\u001b[0m\u001b[1;32m   1063\u001b[0m             \u001b[0mkey\u001b[0m \u001b[0;34m=\u001b[0m \u001b[0mtuple\u001b[0m\u001b[0;34m(\u001b[0m\u001b[0mlist\u001b[0m\u001b[0;34m(\u001b[0m\u001b[0mx\u001b[0m\u001b[0;34m)\u001b[0m \u001b[0;32mif\u001b[0m \u001b[0mis_iterator\u001b[0m\u001b[0;34m(\u001b[0m\u001b[0mx\u001b[0m\u001b[0;34m)\u001b[0m \u001b[0;32melse\u001b[0m \u001b[0mx\u001b[0m \u001b[0;32mfor\u001b[0m \u001b[0mx\u001b[0m \u001b[0;32min\u001b[0m \u001b[0mkey\u001b[0m\u001b[0;34m)\u001b[0m\u001b[0;34m\u001b[0m\u001b[0;34m\u001b[0m\u001b[0m\n\u001b[1;32m   1064\u001b[0m             \u001b[0mkey\u001b[0m \u001b[0;34m=\u001b[0m \u001b[0mtuple\u001b[0m\u001b[0;34m(\u001b[0m\u001b[0mcom\u001b[0m\u001b[0;34m.\u001b[0m\u001b[0mapply_if_callable\u001b[0m\u001b[0;34m(\u001b[0m\u001b[0mx\u001b[0m\u001b[0;34m,\u001b[0m \u001b[0mself\u001b[0m\u001b[0;34m.\u001b[0m\u001b[0mobj\u001b[0m\u001b[0;34m)\u001b[0m \u001b[0;32mfor\u001b[0m \u001b[0mx\u001b[0m \u001b[0;32min\u001b[0m \u001b[0mkey\u001b[0m\u001b[0;34m)\u001b[0m\u001b[0;34m\u001b[0m\u001b[0;34m\u001b[0m\u001b[0m\n",
            "\u001b[0;31mKeyboardInterrupt\u001b[0m: "
          ]
        }
      ]
    },
    {
      "cell_type": "code",
      "source": [
        "# Store P, Q and vectorizer in pickle file\n",
        "import pickle\n",
        "output = open('content_based_recommender.pkl', 'wb')\n",
        "pickle.dump(user_pcafeature,output)\n",
        "pickle.dump(business_pcafeature,output)\n",
        "pickle.dump(vectorizer2,output)\n",
        "output.close()"
      ],
      "metadata": {
        "id": "fs_Ld9evBCFe"
      },
      "execution_count": null,
      "outputs": []
    },
    {
      "cell_type": "code",
      "source": [
        "import pickle\n",
        "with open('/content/drive/MyDrive/YelpRecommender/Pickle_files/content_based_recommender.pkl', 'rb') as file:\n",
        "    user_pcafeature = pickle.load(file)\n",
        "    business_pcafeature = pickle.load(file)\n",
        "    vectorizer2 = pickle.load(file)"
      ],
      "metadata": {
        "id": "1uPRGJeO6Z_q"
      },
      "execution_count": 49,
      "outputs": []
    },
    {
      "cell_type": "code",
      "source": [],
      "metadata": {
        "id": "JN-49MtN81V8"
      },
      "execution_count": 48,
      "outputs": []
    },
    {
      "cell_type": "code",
      "source": [
        "words = \"i want to have dinner with beautiful views\"\n",
        "test_df= pd.DataFrame([words], columns=['text'])\n",
        "test_df['text'] = test_df['text'].apply(remove_punctuations)\n",
        "test_vectors = vectorizer2.transform(test_df['text'])\n",
        "review_features = pd.DataFrame.sparse.from_spmatrix(test_vectors)\n",
        "review_features.columns = vectorizer2.get_feature_names_out()\n",
        "pca_features = pca2.transform(review_features.sparse.to_dense())\n",
        "# test_v_df = pd.DataFrame(test_vectors.toarray(), index=test_df.index, columns=vectorizer2.get_feature_names_out())\n",
        "test_v_df = pd.DataFrame(pca_features[:,:700], columns=user_review_features.columns[:700])\n",
        "# print(test_v_df)\n",
        "predictItemRating=pd.DataFrame(np.dot(test_v_df.loc[0],business_pcafeature.T),index=business_pcafeature.index,columns=['Rating'])\n",
        "# topRecommendations = predictItemRating.sort_values(by='Rating',axis=1)\n",
        "topRecommendations=pd.DataFrame.sort_values(predictItemRating,['Rating'],ascending=[0])[:5]\n",
        "# print(topRecommendations)\n",
        "for i in topRecommendations.index:\n",
        "    print(business[business['business_id']==i]['name'].iloc[0])\n",
        "    # print(business[business['business_id']==i]['categories'].iloc[0])\n",
        "    print(str(business[business['business_id']==i]['stars'].iloc[0]))\n",
        "    print('')"
      ],
      "metadata": {
        "id": "Un8GA3USBCIj",
        "colab": {
          "base_uri": "https://localhost:8080/"
        },
        "outputId": "f103af7d-fb5b-4110-d8fb-bcf1a3a337de"
      },
      "execution_count": null,
      "outputs": [
        {
          "output_type": "stream",
          "name": "stdout",
          "text": [
            "Cafe Treme\n",
            "4.5\n",
            "\n",
            "Rite Aid\n",
            "3.5\n",
            "\n",
            "Cafe' Anglais\n",
            "3.5\n",
            "\n",
            "DDD Party Cafe\n",
            "2.0\n",
            "\n",
            "NOLA Veggie Fest\n",
            "4.0\n",
            "\n"
          ]
        }
      ]
    },
    {
      "cell_type": "code",
      "source": [
        "rev_by_user[rev_by_user['user_id']=='-0LGLx8LP5dq3zcGO4Bebw']"
      ],
      "metadata": {
        "colab": {
          "base_uri": "https://localhost:8080/",
          "height": 81
        },
        "id": "LYk9VsT_-J32",
        "outputId": "974e98d0-6808-4123-c393-c370e43e6061"
      },
      "execution_count": 51,
      "outputs": [
        {
          "output_type": "execute_result",
          "data": {
            "text/plain": [
              "                   user_id  review_count  \\\n",
              "81  -0LGLx8LP5dq3zcGO4Bebw            20   \n",
              "\n",
              "                                          all_reviews  \n",
              "81  Very very yummy Grits with brisket and BBQ sau...  "
            ],
            "text/html": [
              "\n",
              "  <div id=\"df-65fc4933-766f-454c-b76b-d71cebc81272\">\n",
              "    <div class=\"colab-df-container\">\n",
              "      <div>\n",
              "<style scoped>\n",
              "    .dataframe tbody tr th:only-of-type {\n",
              "        vertical-align: middle;\n",
              "    }\n",
              "\n",
              "    .dataframe tbody tr th {\n",
              "        vertical-align: top;\n",
              "    }\n",
              "\n",
              "    .dataframe thead th {\n",
              "        text-align: right;\n",
              "    }\n",
              "</style>\n",
              "<table border=\"1\" class=\"dataframe\">\n",
              "  <thead>\n",
              "    <tr style=\"text-align: right;\">\n",
              "      <th></th>\n",
              "      <th>user_id</th>\n",
              "      <th>review_count</th>\n",
              "      <th>all_reviews</th>\n",
              "    </tr>\n",
              "  </thead>\n",
              "  <tbody>\n",
              "    <tr>\n",
              "      <th>81</th>\n",
              "      <td>-0LGLx8LP5dq3zcGO4Bebw</td>\n",
              "      <td>20</td>\n",
              "      <td>Very very yummy Grits with brisket and BBQ sau...</td>\n",
              "    </tr>\n",
              "  </tbody>\n",
              "</table>\n",
              "</div>\n",
              "      <button class=\"colab-df-convert\" onclick=\"convertToInteractive('df-65fc4933-766f-454c-b76b-d71cebc81272')\"\n",
              "              title=\"Convert this dataframe to an interactive table.\"\n",
              "              style=\"display:none;\">\n",
              "        \n",
              "  <svg xmlns=\"http://www.w3.org/2000/svg\" height=\"24px\"viewBox=\"0 0 24 24\"\n",
              "       width=\"24px\">\n",
              "    <path d=\"M0 0h24v24H0V0z\" fill=\"none\"/>\n",
              "    <path d=\"M18.56 5.44l.94 2.06.94-2.06 2.06-.94-2.06-.94-.94-2.06-.94 2.06-2.06.94zm-11 1L8.5 8.5l.94-2.06 2.06-.94-2.06-.94L8.5 2.5l-.94 2.06-2.06.94zm10 10l.94 2.06.94-2.06 2.06-.94-2.06-.94-.94-2.06-.94 2.06-2.06.94z\"/><path d=\"M17.41 7.96l-1.37-1.37c-.4-.4-.92-.59-1.43-.59-.52 0-1.04.2-1.43.59L10.3 9.45l-7.72 7.72c-.78.78-.78 2.05 0 2.83L4 21.41c.39.39.9.59 1.41.59.51 0 1.02-.2 1.41-.59l7.78-7.78 2.81-2.81c.8-.78.8-2.07 0-2.86zM5.41 20L4 18.59l7.72-7.72 1.47 1.35L5.41 20z\"/>\n",
              "  </svg>\n",
              "      </button>\n",
              "      \n",
              "  <style>\n",
              "    .colab-df-container {\n",
              "      display:flex;\n",
              "      flex-wrap:wrap;\n",
              "      gap: 12px;\n",
              "    }\n",
              "\n",
              "    .colab-df-convert {\n",
              "      background-color: #E8F0FE;\n",
              "      border: none;\n",
              "      border-radius: 50%;\n",
              "      cursor: pointer;\n",
              "      display: none;\n",
              "      fill: #1967D2;\n",
              "      height: 32px;\n",
              "      padding: 0 0 0 0;\n",
              "      width: 32px;\n",
              "    }\n",
              "\n",
              "    .colab-df-convert:hover {\n",
              "      background-color: #E2EBFA;\n",
              "      box-shadow: 0px 1px 2px rgba(60, 64, 67, 0.3), 0px 1px 3px 1px rgba(60, 64, 67, 0.15);\n",
              "      fill: #174EA6;\n",
              "    }\n",
              "\n",
              "    [theme=dark] .colab-df-convert {\n",
              "      background-color: #3B4455;\n",
              "      fill: #D2E3FC;\n",
              "    }\n",
              "\n",
              "    [theme=dark] .colab-df-convert:hover {\n",
              "      background-color: #434B5C;\n",
              "      box-shadow: 0px 1px 3px 1px rgba(0, 0, 0, 0.15);\n",
              "      filter: drop-shadow(0px 1px 2px rgba(0, 0, 0, 0.3));\n",
              "      fill: #FFFFFF;\n",
              "    }\n",
              "  </style>\n",
              "\n",
              "      <script>\n",
              "        const buttonEl =\n",
              "          document.querySelector('#df-65fc4933-766f-454c-b76b-d71cebc81272 button.colab-df-convert');\n",
              "        buttonEl.style.display =\n",
              "          google.colab.kernel.accessAllowed ? 'block' : 'none';\n",
              "\n",
              "        async function convertToInteractive(key) {\n",
              "          const element = document.querySelector('#df-65fc4933-766f-454c-b76b-d71cebc81272');\n",
              "          const dataTable =\n",
              "            await google.colab.kernel.invokeFunction('convertToInteractive',\n",
              "                                                     [key], {});\n",
              "          if (!dataTable) return;\n",
              "\n",
              "          const docLinkHtml = 'Like what you see? Visit the ' +\n",
              "            '<a target=\"_blank\" href=https://colab.research.google.com/notebooks/data_table.ipynb>data table notebook</a>'\n",
              "            + ' to learn more about interactive tables.';\n",
              "          element.innerHTML = '';\n",
              "          dataTable['output_type'] = 'display_data';\n",
              "          await google.colab.output.renderOutput(dataTable, element);\n",
              "          const docLink = document.createElement('div');\n",
              "          docLink.innerHTML = docLinkHtml;\n",
              "          element.appendChild(docLink);\n",
              "        }\n",
              "      </script>\n",
              "    </div>\n",
              "  </div>\n",
              "  "
            ]
          },
          "metadata": {},
          "execution_count": 51
        }
      ]
    },
    {
      "cell_type": "code",
      "source": [
        "rev_by_user[rev_by_user['review_count']>10]"
      ],
      "metadata": {
        "id": "p8uqTLI6BCLv",
        "colab": {
          "base_uri": "https://localhost:8080/",
          "height": 424
        },
        "outputId": "93daf13f-e752-4ca1-80da-85171530e93b"
      },
      "execution_count": null,
      "outputs": [
        {
          "output_type": "execute_result",
          "data": {
            "text/plain": [
              "                     user_id  review_count  \\\n",
              "81    -0LGLx8LP5dq3zcGO4Bebw            20   \n",
              "116   -13RX4Gy_F-zoLIenWAo-w            30   \n",
              "131   -1MiSauypbVtNnWts4aXpA            22   \n",
              "166   -22PBmQh7bBWbNX1irrkPQ            14   \n",
              "191   -2PIzrbasYWAggcNS2ptGw            17   \n",
              "...                      ...           ...   \n",
              "7790  1HM81n6n4iPIFU5d2Lokhw           791   \n",
              "7813  1Hi0nI0qcnPLoW8b-4ww3A            17   \n",
              "7970  1L3O2CUTk27SnmqyPBWQdQ            21   \n",
              "7971  1L5CT2h6PQ1Sd0XvuPtKQQ            13   \n",
              "7999  1Lq4zfAyrfy2P_m2HGcF0A            17   \n",
              "\n",
              "                                            all_reviews  \n",
              "81    Very very yummy Grits with brisket and BBQ sau...  \n",
              "116   Abba and Black Sabath on the same Juke Playing...  \n",
              "131   Great place if you like serving yourself There...  \n",
              "166   Got the orange Julius as a drink during brunch...  \n",
              "191   When I moved to the neighborhood I would stare...  \n",
              "...                                                 ...  \n",
              "7790  This is theoretically a fine dining restaurant...  \n",
              "7813  I used to love this place in the years followi...  \n",
              "7970  Went on girls night out here this past Tuesday...  \n",
              "7971  We placed a big order for delivery which was w...  \n",
              "7999  Superior Grill is a staple semi upscale TexMex...  \n",
              "\n",
              "[159 rows x 3 columns]"
            ],
            "text/html": [
              "\n",
              "  <div id=\"df-70e2ac79-fc7a-4221-9745-eb1160b5c04c\">\n",
              "    <div class=\"colab-df-container\">\n",
              "      <div>\n",
              "<style scoped>\n",
              "    .dataframe tbody tr th:only-of-type {\n",
              "        vertical-align: middle;\n",
              "    }\n",
              "\n",
              "    .dataframe tbody tr th {\n",
              "        vertical-align: top;\n",
              "    }\n",
              "\n",
              "    .dataframe thead th {\n",
              "        text-align: right;\n",
              "    }\n",
              "</style>\n",
              "<table border=\"1\" class=\"dataframe\">\n",
              "  <thead>\n",
              "    <tr style=\"text-align: right;\">\n",
              "      <th></th>\n",
              "      <th>user_id</th>\n",
              "      <th>review_count</th>\n",
              "      <th>all_reviews</th>\n",
              "    </tr>\n",
              "  </thead>\n",
              "  <tbody>\n",
              "    <tr>\n",
              "      <th>81</th>\n",
              "      <td>-0LGLx8LP5dq3zcGO4Bebw</td>\n",
              "      <td>20</td>\n",
              "      <td>Very very yummy Grits with brisket and BBQ sau...</td>\n",
              "    </tr>\n",
              "    <tr>\n",
              "      <th>116</th>\n",
              "      <td>-13RX4Gy_F-zoLIenWAo-w</td>\n",
              "      <td>30</td>\n",
              "      <td>Abba and Black Sabath on the same Juke Playing...</td>\n",
              "    </tr>\n",
              "    <tr>\n",
              "      <th>131</th>\n",
              "      <td>-1MiSauypbVtNnWts4aXpA</td>\n",
              "      <td>22</td>\n",
              "      <td>Great place if you like serving yourself There...</td>\n",
              "    </tr>\n",
              "    <tr>\n",
              "      <th>166</th>\n",
              "      <td>-22PBmQh7bBWbNX1irrkPQ</td>\n",
              "      <td>14</td>\n",
              "      <td>Got the orange Julius as a drink during brunch...</td>\n",
              "    </tr>\n",
              "    <tr>\n",
              "      <th>191</th>\n",
              "      <td>-2PIzrbasYWAggcNS2ptGw</td>\n",
              "      <td>17</td>\n",
              "      <td>When I moved to the neighborhood I would stare...</td>\n",
              "    </tr>\n",
              "    <tr>\n",
              "      <th>...</th>\n",
              "      <td>...</td>\n",
              "      <td>...</td>\n",
              "      <td>...</td>\n",
              "    </tr>\n",
              "    <tr>\n",
              "      <th>7790</th>\n",
              "      <td>1HM81n6n4iPIFU5d2Lokhw</td>\n",
              "      <td>791</td>\n",
              "      <td>This is theoretically a fine dining restaurant...</td>\n",
              "    </tr>\n",
              "    <tr>\n",
              "      <th>7813</th>\n",
              "      <td>1Hi0nI0qcnPLoW8b-4ww3A</td>\n",
              "      <td>17</td>\n",
              "      <td>I used to love this place in the years followi...</td>\n",
              "    </tr>\n",
              "    <tr>\n",
              "      <th>7970</th>\n",
              "      <td>1L3O2CUTk27SnmqyPBWQdQ</td>\n",
              "      <td>21</td>\n",
              "      <td>Went on girls night out here this past Tuesday...</td>\n",
              "    </tr>\n",
              "    <tr>\n",
              "      <th>7971</th>\n",
              "      <td>1L5CT2h6PQ1Sd0XvuPtKQQ</td>\n",
              "      <td>13</td>\n",
              "      <td>We placed a big order for delivery which was w...</td>\n",
              "    </tr>\n",
              "    <tr>\n",
              "      <th>7999</th>\n",
              "      <td>1Lq4zfAyrfy2P_m2HGcF0A</td>\n",
              "      <td>17</td>\n",
              "      <td>Superior Grill is a staple semi upscale TexMex...</td>\n",
              "    </tr>\n",
              "  </tbody>\n",
              "</table>\n",
              "<p>159 rows × 3 columns</p>\n",
              "</div>\n",
              "      <button class=\"colab-df-convert\" onclick=\"convertToInteractive('df-70e2ac79-fc7a-4221-9745-eb1160b5c04c')\"\n",
              "              title=\"Convert this dataframe to an interactive table.\"\n",
              "              style=\"display:none;\">\n",
              "        \n",
              "  <svg xmlns=\"http://www.w3.org/2000/svg\" height=\"24px\"viewBox=\"0 0 24 24\"\n",
              "       width=\"24px\">\n",
              "    <path d=\"M0 0h24v24H0V0z\" fill=\"none\"/>\n",
              "    <path d=\"M18.56 5.44l.94 2.06.94-2.06 2.06-.94-2.06-.94-.94-2.06-.94 2.06-2.06.94zm-11 1L8.5 8.5l.94-2.06 2.06-.94-2.06-.94L8.5 2.5l-.94 2.06-2.06.94zm10 10l.94 2.06.94-2.06 2.06-.94-2.06-.94-.94-2.06-.94 2.06-2.06.94z\"/><path d=\"M17.41 7.96l-1.37-1.37c-.4-.4-.92-.59-1.43-.59-.52 0-1.04.2-1.43.59L10.3 9.45l-7.72 7.72c-.78.78-.78 2.05 0 2.83L4 21.41c.39.39.9.59 1.41.59.51 0 1.02-.2 1.41-.59l7.78-7.78 2.81-2.81c.8-.78.8-2.07 0-2.86zM5.41 20L4 18.59l7.72-7.72 1.47 1.35L5.41 20z\"/>\n",
              "  </svg>\n",
              "      </button>\n",
              "      \n",
              "  <style>\n",
              "    .colab-df-container {\n",
              "      display:flex;\n",
              "      flex-wrap:wrap;\n",
              "      gap: 12px;\n",
              "    }\n",
              "\n",
              "    .colab-df-convert {\n",
              "      background-color: #E8F0FE;\n",
              "      border: none;\n",
              "      border-radius: 50%;\n",
              "      cursor: pointer;\n",
              "      display: none;\n",
              "      fill: #1967D2;\n",
              "      height: 32px;\n",
              "      padding: 0 0 0 0;\n",
              "      width: 32px;\n",
              "    }\n",
              "\n",
              "    .colab-df-convert:hover {\n",
              "      background-color: #E2EBFA;\n",
              "      box-shadow: 0px 1px 2px rgba(60, 64, 67, 0.3), 0px 1px 3px 1px rgba(60, 64, 67, 0.15);\n",
              "      fill: #174EA6;\n",
              "    }\n",
              "\n",
              "    [theme=dark] .colab-df-convert {\n",
              "      background-color: #3B4455;\n",
              "      fill: #D2E3FC;\n",
              "    }\n",
              "\n",
              "    [theme=dark] .colab-df-convert:hover {\n",
              "      background-color: #434B5C;\n",
              "      box-shadow: 0px 1px 3px 1px rgba(0, 0, 0, 0.15);\n",
              "      filter: drop-shadow(0px 1px 2px rgba(0, 0, 0, 0.3));\n",
              "      fill: #FFFFFF;\n",
              "    }\n",
              "  </style>\n",
              "\n",
              "      <script>\n",
              "        const buttonEl =\n",
              "          document.querySelector('#df-70e2ac79-fc7a-4221-9745-eb1160b5c04c button.colab-df-convert');\n",
              "        buttonEl.style.display =\n",
              "          google.colab.kernel.accessAllowed ? 'block' : 'none';\n",
              "\n",
              "        async function convertToInteractive(key) {\n",
              "          const element = document.querySelector('#df-70e2ac79-fc7a-4221-9745-eb1160b5c04c');\n",
              "          const dataTable =\n",
              "            await google.colab.kernel.invokeFunction('convertToInteractive',\n",
              "                                                     [key], {});\n",
              "          if (!dataTable) return;\n",
              "\n",
              "          const docLinkHtml = 'Like what you see? Visit the ' +\n",
              "            '<a target=\"_blank\" href=https://colab.research.google.com/notebooks/data_table.ipynb>data table notebook</a>'\n",
              "            + ' to learn more about interactive tables.';\n",
              "          element.innerHTML = '';\n",
              "          dataTable['output_type'] = 'display_data';\n",
              "          await google.colab.output.renderOutput(dataTable, element);\n",
              "          const docLink = document.createElement('div');\n",
              "          docLink.innerHTML = docLinkHtml;\n",
              "          element.appendChild(docLink);\n",
              "        }\n",
              "      </script>\n",
              "    </div>\n",
              "  </div>\n",
              "  "
            ]
          },
          "metadata": {},
          "execution_count": 88
        }
      ]
    },
    {
      "cell_type": "code",
      "source": [
        "rev_by_user[rev_by_user['user_id'] == '-13RX4Gy_F-zoLIenWAo-w']['all_reviews'].iloc[0]"
      ],
      "metadata": {
        "colab": {
          "base_uri": "https://localhost:8080/",
          "height": 178
        },
        "id": "5vSj6DbEd_mV",
        "outputId": "d246f65a-6546-44bd-a039-4cac5760fe09"
      },
      "execution_count": null,
      "outputs": [
        {
          "output_type": "execute_result",
          "data": {
            "text/plain": [
              "'Abba and Black Sabath on the same Juke Playing pinball drinking sake with friends in a strange little bar that has a lodge like fell  And the photo booth  I lived only 2 blocks from there  Luckily I moved away just months before Katrina and the flood****I miss the sandwiches the mannicotti and most of all I miss their addictive brie  pear chutney calzones****The food is amazing but be very careful as to what time you decide to go  there is often over crouding so the best time is in the day right when they open****The takoyaki has next to no octopus in it I prefer more spicy to my spicy tuna and the mango in the Hawaiian poke was frozen but otherwise it was GREAT\\n\\nI was really excited to find a new restaurant on St Claude and new takes on some of my favorite foods\\n\\nBe careful when looking for the location because the signage is a little high and easy to miss\\n\\nI look forward to returning and trying more****They had good food and I wished I had tried it with in the first few years I lived there rather than just the last****The kitchen like walking in to another time all together the whole place is has that charm due to the way they have managed to have kept the place for generations and not remodeled from their southern vintage era tiles and kitchen features  The stark white tiled dinner is covered in signed keepsakes the owner has collected from the counteless celebrities that have been his customers so you know what that means you better be there bright and early to beat the crowd \\n\\nThey are only open till around 3pm and only during the months that are considered oyster season that way their oysters are not only safer to eat but they are considerably larger than the rest of the year\\n\\nGreat Gulf Coast seafood with a selection of traditional oyster house menu favorites great place****I went to wat here a great many times and every single occasion and every single thing we ordered was not only good it was out right phenomenal FLAWLESS PERFECTION  EVERY TIME****Be prepared to take a doggy bag home  They really give you a lot of food  They do have wonderful hamburgers but unless I am eating someone elses Port of Call burger I ALWAYS order their fillet mignon it is not only mouth watering it will bring tears to your eyes as well****I want there once before I moved to NOLA and I cant remember much but the fois gras it melted in your mouth and made you almost ready to go into a food coma****The only place that had really good Jambylaya as far as I was concerned and they cook it  slowly over 24 hours with bits of rabbit and andoulli sausage in it oh my god its a foodgasm  And the alligator and the duck quesillia  Oh my I want some right now****This bar was a big part of My life  My best friend was the common law wife of the clubs owner and one of My favorite Shim Sham bartenders is still a close friend  and on the way over to My place right this second and despite all the bad things that were experienced due to Katrina many of My friends from the shim sham I thought I would not see again when I moved just months before the storm are now brought back to Me the shim sham still lives on in  a liitle bit of LA\\n\\nThe music and the family more like several related little familiescliques that was at the core still has managed to shuffle and regroup and divide up in what remains of those who stayed behind and those of us that keep finding each other in LA\\n\\nIt was a great club but in the in all good things eventually go away  I still have the shim sham  member card they made in the final days that says on the back that we sold out soul to the shim sham and has where we signed next to the  x ****Usually I am the one who writes a better review than others but in this case\\n\\nTHIS IS BY NO EXAGERATION SOME OF THE VERY WORST FOODTHE WAIT IS RETARDED  AND THEY OUTRAGEOUSLY OVER PRICED \\n\\nThe food I ate was basically a chicken breast with  abuse of Chef Paul Prudhommes over rated seasoning salt that was like a  lesser palatable version of Tony Sacheries****You dont want to go without first visiting their website and downloading the suggested app for reservations\\nThere is usually a looooooooong wait\\nThe food is amazing the orange juice is fresh\\nTheir corned beef hash is to die for\\nTheir staff is very professional****I love that the swimming pool is clothing optional  They even are known to throw in some fun pool toys too and I dont mean the boys but yeah them too aned the frozen drinks are so yummy I love the parlor abd bars adhering to the traditional style of such a homes prime even though the wall paper was peeling that just maske it so much more appropriate for New Orleans****Despite everythingI love Big Daddies its a New Orleans Institution and at times it can resemble a New Orleans MENTAL Institution but they have some hot rocker girls I had been there tons of times before I knew anyone working there and for some reason back in those days I could not go to the ladies restroom there with out one of the dancers  groping Me and sticking their tongues in My mouth but Im not complainingIm bragging****I love this place  Miss Carol is the owner sweet fun loving\\nThis place is like family\\nTheres no regular hours  They open when and how late they like and sometimes not at all\\nTrue New Orleans****Okay I will for give this place for not being TexMex  I had a hard time leaving behind  this place due to their salsa their shrimp and spinach quesadilla shrimp burrito the salads jerk fish tacos and the mango ritas and my huge addiction to the Orangina they supplied Me****This restaurant is delicious and if you get the chance you should try to go there for dinner durring one of the Mardi gras parades so you can get a great view of the pagent of floats and revelers from a nice safe clean dry warm seat rather that brave the cold wet air of New Orleans during most Mardi Gras seasons****This place has amazing food and fun colorful regulars\\nI really love Ray his wife and his daughter\\nUnlike a lot of small seafood counters in New Orleans you can opt for blackened rather than battered and deep fried\\nIt furniture is different\\nThe prices are great\\nYou really should check it out on a weekend night****Am I the only one that realised that One Eyed Jacks is the name of the bordello in Twin Peaks and this place has wallpaper and other deor that is very much like the one in the David Lynch TV show****I still have cravings to thes day over 6 years have past for their shrimp canape and oysters rockerfella****Also know as The Scabby It is the only bar that has retained 100 of the dark grime and drinking problems that Decatur requires in order to live up to its reputation since the Hide Out closed\\n\\nAnd you wouldnt expect that this dive bar that has David Allan Coe on its juke box would also be home to one of the best hip hop nights in town which is spun by a small group of hip hop DJand lead by DJ Real\\n\\n\\nWarning if you are hungry and happen across the abbey I seriously would think twice of joining the 95 drinkers in the lunch of free hot dogs  There is just something that doesnt make me feel that this place would pass the local health codes for food preparation even it it were soaked over night in bleached a every inch scrubbed thoroughly****I always wished they didnt close mid day for the few hours I would end up at Howlin Wolf for our Burlesque shows rehearsals  I want****The same standards of quality that whole foods is known for at all their locations and the prices are not out of the norm for hormione free meats and dairy products pesticide free organic natural foods  natural less chemical hygiene and health its always going to cost more than the stuff filled with all sorts of unnecessary coloring added fragrances and hormones ect  what I hat is the parking lot  \\n\\nThis store was a great bit more convienent  than having to go all the way to Mid City to the original Whole Foods and there is an actual parking lot but that parking lot is hell on earth  It is not the easiest for people to get in an out of especially with the horrible driving that seems to a trait of a vast majority of the New Orleanians behind the wheel****The pasta salad or the french fries They are both amazing and the burgers and the piza and the portabellas and I dont usually like mishrooms Im starving and with much of the food Ive had here in LA its no wonder there are no many anorexics in Hollywood****I liked the confision it causedf Mwe to have as to why all the junk was in the bas like old washing machines and stuff EVERYWHERE****I was hooked on their fried oysters and brussel sprouts and everything\\nIt was so cheap and when I was at friends houses they would bring them cigarettes and toilet paper and the minimum order for free delivery  was something insanely low like 2 or 4 bucks and everything was so cheap****I dont know what My life would be like today had I not somehow ended up at the Bulldog after seein Bauhaus the first night if My first visit to New Orleans it is partly to creditblame for one of the closest friendshioconfusing love affairs of My life that starting from a one night stand that very night and spaning 5 years and actually longer if you count the correspondence after all over a pitcher of Pear Cider crawfish taco rolls bockemstien stuffed muchrooms and and NTN trivia box\\n\\nThen much later I found out another wonderful thing about the Bulldog They sell lambics frambois by the pitcher YES THE PITCHER\\n\\nAnd how could I forget the awsome pint glasses I gort there that had a picture of Yoko Ono on them that said Yoko is A Great Singer below it   Now That is a great bar****Otherwise known as the Nellie deli this place is determined to keep New Orleans fat and happy  Every single person order is pretty much enough for 2 if not 3 people****They had really good downhome breakfasts that had the locals LITERALLY lining up around the block  I love any place that has freshed squeezed OJ and knows how to make a really good omelette and waffles'"
            ],
            "application/vnd.google.colaboratory.intrinsic+json": {
              "type": "string"
            }
          },
          "metadata": {},
          "execution_count": 96
        }
      ]
    },
    {
      "cell_type": "code",
      "source": [
        "def recommender(user_id):\n",
        "  required_data = review[(review['user_id'] == user_id)]\n",
        "  required_data = required_data.reset_index()\n",
        "  data_to_parse = required_data\n",
        "  words = data_to_parse.groupby('user_id').agg({'review_id':'count', 'text':lambda x: '****'.join(x)})\n",
        "  words = words.rename(columns = {'review_id':'review_count','text':'all_reviews'})\n",
        "  words = words['all_reviews'].iloc[0]\n",
        "  # words = wor[rev_by_user['user_id'] == user_id]['all_reviews'].iloc[0]\n",
        "  test_df= pd.DataFrame([words], columns=['text'])\n",
        "  test_df['text'] = test_df['text'].apply(remove_punctuations)\n",
        "  test_vectors = vectorizer2.transform(test_df['text'])\n",
        "  review_features = pd.DataFrame.sparse.from_spmatrix(test_vectors)\n",
        "  review_features.columns = vectorizer2.get_feature_names_out()\n",
        "  pca_features = pca2.transform(review_features.sparse.to_dense())\n",
        "  # test_v_df = pd.DataFrame(test_vectors.toarray(), index=test_df.index, columns=vectorizer2.get_feature_names_out())\n",
        "  test_v_df = pd.DataFrame(pca_features[:,:700], columns=user_review_features.columns[:700])\n",
        "  # print(test_v_df)\n",
        "  predictItemRating=pd.DataFrame(np.dot(test_v_df.loc[0],business_pcafeature.T),index=business_pcafeature.index,columns=['Rating'])\n",
        "  # topRecommendations = predictItemRating.sort_values(by='Rating',axis=1)\n",
        "\n",
        "  topRecommendations=predictItemRating.sort_values(by='Rating',ascending=False)[:5]\n",
        "  # print(topRecommendations)\n",
        "  for i in topRecommendations.index:\n",
        "      print(business[business['business_id']==i]['name'].iloc[0])\n",
        "      # print(business[business['business_id']==i]['categories'].iloc[0])\n",
        "      print(str(business[business['business_id']==i]['stars'].iloc[0]))\n",
        "      print('')"
      ],
      "metadata": {
        "id": "35PaxCrW7_Qo"
      },
      "execution_count": 62,
      "outputs": []
    },
    {
      "cell_type": "code",
      "source": [
        "recommender('-0LGLx8LP5dq3zcGO4Bebw')"
      ],
      "metadata": {
        "colab": {
          "base_uri": "https://localhost:8080/"
        },
        "id": "FfqXB2NIdfcL",
        "outputId": "ff346759-02a7-4a59-aef5-1e240e0b67ef"
      },
      "execution_count": 63,
      "outputs": [
        {
          "output_type": "stream",
          "name": "stdout",
          "text": [
            "Bullard Seafood and Grill\n",
            "3.5\n",
            "\n",
            "We Never Close PO-Boys\n",
            "3.0\n",
            "\n",
            "Hunan Wok\n",
            "4.0\n",
            "\n",
            "Julie's Kitchen\n",
            "4.0\n",
            "\n",
            "China House\n",
            "4.0\n",
            "\n"
          ]
        }
      ]
    },
    {
      "cell_type": "code",
      "source": [
        "required_data = review[(review['user_id'] == '-0LGLx8LP5dq3zcGO4Bebw')]\n",
        "required_data = required_data.reset_index()\n",
        "data_to_parse = required_data[required_data['stars']>=3]\n",
        "words = data_to_parse.groupby('user_id').agg({'review_id':'count', 'text':lambda x: '****'.join(x)})\n",
        "words = words.rename(columns = {'review_id':'review_count','text':'all_reviews'})\n",
        "words = words['all_reviews'].iloc[0]\n",
        "  # words = wor[rev_by_user['user_id'] == user_id]['all_reviews'].iloc[0]\n",
        "test_df= pd.DataFrame([words], columns=['text'])\n",
        "test_df['text'] = test_df['text'].apply(remove_punctuations)\n",
        "test_vectors = vectorizer2.transform(test_df['text'])\n",
        "review_features = pd.DataFrame.sparse.from_spmatrix(test_vectors)\n",
        "review_features.columns = vectorizer2.get_feature_names_out()\n",
        "pca_features = pca2.transform(review_features.sparse.to_dense())\n",
        "  # test_v_df = pd.DataFrame(test_vectors.toarray(), index=test_df.index, columns=vectorizer2.get_feature_names_out())\n",
        "test_v_df = pd.DataFrame(pca_features[:,:700], columns=user_review_features.columns[:700])\n",
        "  # print(test_v_df)\n",
        "predictItemRating=pd.DataFrame(np.dot(test_v_df.loc[0],business_pcafeature.T),index=business_pcafeature.index,columns=['Rating'])\n",
        "  # topRecommendations = predictItemRating.sort_values(by='Rating',axis=1)\n",
        "  \n",
        "topRecommendations=predictItemRating.sort_values(by='Rating',ascending=False)[:5]"
      ],
      "metadata": {
        "id": "k2cb0QqTdf72"
      },
      "execution_count": 54,
      "outputs": []
    },
    {
      "cell_type": "code",
      "source": [
        "predictItemRating.sort_values(by='Rating',ascending=False)"
      ],
      "metadata": {
        "id": "y3C9DPJ_dgTM",
        "colab": {
          "base_uri": "https://localhost:8080/",
          "height": 455
        },
        "outputId": "2ef4031c-d62e-40a1-f4be-86dbf98c462d"
      },
      "execution_count": 59,
      "outputs": [
        {
          "output_type": "execute_result",
          "data": {
            "text/plain": [
              "                          Rating\n",
              "business_id                     \n",
              "lAV4xwSqt4hjhkqY3NZlOQ  0.132348\n",
              "ZfiHVKQazjdPuwECrZ-dag  0.128097\n",
              "GZDkhotwnmGlpYUKxAwobw  0.119166\n",
              "hAbyDqwRiULAua64Ir0DAA  0.118875\n",
              "fTBZRd8vCCK3bCqgxNjodA  0.117862\n",
              "...                          ...\n",
              "zurZgdE3W9jJnU6VAgTdSg       NaN\n",
              "zvGNZF827KyzLupKiG4Xtw       NaN\n",
              "zwe9H6Xxqb1_E09A20Ptgg       NaN\n",
              "zxfqXVgZ_NvLY2lc1DAlJQ       NaN\n",
              "zzbZtgPYZS8sTIWQH6DwEw       NaN\n",
              "\n",
              "[3306 rows x 1 columns]"
            ],
            "text/html": [
              "\n",
              "  <div id=\"df-66d95402-5c29-4875-afce-a2535fdacda0\">\n",
              "    <div class=\"colab-df-container\">\n",
              "      <div>\n",
              "<style scoped>\n",
              "    .dataframe tbody tr th:only-of-type {\n",
              "        vertical-align: middle;\n",
              "    }\n",
              "\n",
              "    .dataframe tbody tr th {\n",
              "        vertical-align: top;\n",
              "    }\n",
              "\n",
              "    .dataframe thead th {\n",
              "        text-align: right;\n",
              "    }\n",
              "</style>\n",
              "<table border=\"1\" class=\"dataframe\">\n",
              "  <thead>\n",
              "    <tr style=\"text-align: right;\">\n",
              "      <th></th>\n",
              "      <th>Rating</th>\n",
              "    </tr>\n",
              "    <tr>\n",
              "      <th>business_id</th>\n",
              "      <th></th>\n",
              "    </tr>\n",
              "  </thead>\n",
              "  <tbody>\n",
              "    <tr>\n",
              "      <th>lAV4xwSqt4hjhkqY3NZlOQ</th>\n",
              "      <td>0.132348</td>\n",
              "    </tr>\n",
              "    <tr>\n",
              "      <th>ZfiHVKQazjdPuwECrZ-dag</th>\n",
              "      <td>0.128097</td>\n",
              "    </tr>\n",
              "    <tr>\n",
              "      <th>GZDkhotwnmGlpYUKxAwobw</th>\n",
              "      <td>0.119166</td>\n",
              "    </tr>\n",
              "    <tr>\n",
              "      <th>hAbyDqwRiULAua64Ir0DAA</th>\n",
              "      <td>0.118875</td>\n",
              "    </tr>\n",
              "    <tr>\n",
              "      <th>fTBZRd8vCCK3bCqgxNjodA</th>\n",
              "      <td>0.117862</td>\n",
              "    </tr>\n",
              "    <tr>\n",
              "      <th>...</th>\n",
              "      <td>...</td>\n",
              "    </tr>\n",
              "    <tr>\n",
              "      <th>zurZgdE3W9jJnU6VAgTdSg</th>\n",
              "      <td>NaN</td>\n",
              "    </tr>\n",
              "    <tr>\n",
              "      <th>zvGNZF827KyzLupKiG4Xtw</th>\n",
              "      <td>NaN</td>\n",
              "    </tr>\n",
              "    <tr>\n",
              "      <th>zwe9H6Xxqb1_E09A20Ptgg</th>\n",
              "      <td>NaN</td>\n",
              "    </tr>\n",
              "    <tr>\n",
              "      <th>zxfqXVgZ_NvLY2lc1DAlJQ</th>\n",
              "      <td>NaN</td>\n",
              "    </tr>\n",
              "    <tr>\n",
              "      <th>zzbZtgPYZS8sTIWQH6DwEw</th>\n",
              "      <td>NaN</td>\n",
              "    </tr>\n",
              "  </tbody>\n",
              "</table>\n",
              "<p>3306 rows × 1 columns</p>\n",
              "</div>\n",
              "      <button class=\"colab-df-convert\" onclick=\"convertToInteractive('df-66d95402-5c29-4875-afce-a2535fdacda0')\"\n",
              "              title=\"Convert this dataframe to an interactive table.\"\n",
              "              style=\"display:none;\">\n",
              "        \n",
              "  <svg xmlns=\"http://www.w3.org/2000/svg\" height=\"24px\"viewBox=\"0 0 24 24\"\n",
              "       width=\"24px\">\n",
              "    <path d=\"M0 0h24v24H0V0z\" fill=\"none\"/>\n",
              "    <path d=\"M18.56 5.44l.94 2.06.94-2.06 2.06-.94-2.06-.94-.94-2.06-.94 2.06-2.06.94zm-11 1L8.5 8.5l.94-2.06 2.06-.94-2.06-.94L8.5 2.5l-.94 2.06-2.06.94zm10 10l.94 2.06.94-2.06 2.06-.94-2.06-.94-.94-2.06-.94 2.06-2.06.94z\"/><path d=\"M17.41 7.96l-1.37-1.37c-.4-.4-.92-.59-1.43-.59-.52 0-1.04.2-1.43.59L10.3 9.45l-7.72 7.72c-.78.78-.78 2.05 0 2.83L4 21.41c.39.39.9.59 1.41.59.51 0 1.02-.2 1.41-.59l7.78-7.78 2.81-2.81c.8-.78.8-2.07 0-2.86zM5.41 20L4 18.59l7.72-7.72 1.47 1.35L5.41 20z\"/>\n",
              "  </svg>\n",
              "      </button>\n",
              "      \n",
              "  <style>\n",
              "    .colab-df-container {\n",
              "      display:flex;\n",
              "      flex-wrap:wrap;\n",
              "      gap: 12px;\n",
              "    }\n",
              "\n",
              "    .colab-df-convert {\n",
              "      background-color: #E8F0FE;\n",
              "      border: none;\n",
              "      border-radius: 50%;\n",
              "      cursor: pointer;\n",
              "      display: none;\n",
              "      fill: #1967D2;\n",
              "      height: 32px;\n",
              "      padding: 0 0 0 0;\n",
              "      width: 32px;\n",
              "    }\n",
              "\n",
              "    .colab-df-convert:hover {\n",
              "      background-color: #E2EBFA;\n",
              "      box-shadow: 0px 1px 2px rgba(60, 64, 67, 0.3), 0px 1px 3px 1px rgba(60, 64, 67, 0.15);\n",
              "      fill: #174EA6;\n",
              "    }\n",
              "\n",
              "    [theme=dark] .colab-df-convert {\n",
              "      background-color: #3B4455;\n",
              "      fill: #D2E3FC;\n",
              "    }\n",
              "\n",
              "    [theme=dark] .colab-df-convert:hover {\n",
              "      background-color: #434B5C;\n",
              "      box-shadow: 0px 1px 3px 1px rgba(0, 0, 0, 0.15);\n",
              "      filter: drop-shadow(0px 1px 2px rgba(0, 0, 0, 0.3));\n",
              "      fill: #FFFFFF;\n",
              "    }\n",
              "  </style>\n",
              "\n",
              "      <script>\n",
              "        const buttonEl =\n",
              "          document.querySelector('#df-66d95402-5c29-4875-afce-a2535fdacda0 button.colab-df-convert');\n",
              "        buttonEl.style.display =\n",
              "          google.colab.kernel.accessAllowed ? 'block' : 'none';\n",
              "\n",
              "        async function convertToInteractive(key) {\n",
              "          const element = document.querySelector('#df-66d95402-5c29-4875-afce-a2535fdacda0');\n",
              "          const dataTable =\n",
              "            await google.colab.kernel.invokeFunction('convertToInteractive',\n",
              "                                                     [key], {});\n",
              "          if (!dataTable) return;\n",
              "\n",
              "          const docLinkHtml = 'Like what you see? Visit the ' +\n",
              "            '<a target=\"_blank\" href=https://colab.research.google.com/notebooks/data_table.ipynb>data table notebook</a>'\n",
              "            + ' to learn more about interactive tables.';\n",
              "          element.innerHTML = '';\n",
              "          dataTable['output_type'] = 'display_data';\n",
              "          await google.colab.output.renderOutput(dataTable, element);\n",
              "          const docLink = document.createElement('div');\n",
              "          docLink.innerHTML = docLinkHtml;\n",
              "          element.appendChild(docLink);\n",
              "        }\n",
              "      </script>\n",
              "    </div>\n",
              "  </div>\n",
              "  "
            ]
          },
          "metadata": {},
          "execution_count": 59
        }
      ]
    },
    {
      "cell_type": "code",
      "source": [],
      "metadata": {
        "id": "ADNvmAAtc3tA"
      },
      "execution_count": null,
      "outputs": []
    },
    {
      "cell_type": "code",
      "source": [],
      "metadata": {
        "id": "4UXoOKCu0wAP"
      },
      "execution_count": null,
      "outputs": []
    },
    {
      "cell_type": "code",
      "source": [
        "# to build the preference profile.. we must have weights multiplied by user star ratings.\n",
        "# therefore we need to rescale the features"
      ],
      "metadata": {
        "id": "irYV6QHBc3v2"
      },
      "execution_count": null,
      "outputs": []
    },
    {
      "cell_type": "markdown",
      "source": [
        "In PCA, we essentially create a new factor with the original variables in a linear combination manner such that: 𝑌1=𝑎11×𝑥1+𝑎12×𝑥2+𝑎1𝑝×𝑥𝑝\n",
        ".\n",
        "\n",
        "The sum of squared loadings of all variables (features) for each PC sum to 1. Therefore, is it safe to say that factor 𝑖\n",
        " contributes the squared loading amount to the PC 𝑗\n",
        "?\n",
        "\n"
      ],
      "metadata": {
        "id": "O9tBEtfs0x98"
      }
    },
    {
      "cell_type": "code",
      "source": [
        "# business_pca_reduced['root_squared_sum'] = business_pca_reduced.apply(lambda row: np.sqrt(sum([i*i for i in row])), axis=1)\n",
        "# business_pca_reduced = business_pca_reduced.drop('root_squared_sum',axis=1).divide(business_pca_reduced.root_squared_sum, axis=0)\n",
        "# business_pca_reduced.head()"
      ],
      "metadata": {
        "id": "EkO0bM1DBVCJ",
        "colab": {
          "base_uri": "https://localhost:8080/",
          "height": 383
        },
        "outputId": "4f4527f1-a510-4555-a483-8a5a960dae52"
      },
      "execution_count": null,
      "outputs": [
        {
          "output_type": "execute_result",
          "data": {
            "text/plain": [
              "                               1         2         3         4         5  \\\n",
              "business_id                                                                \n",
              "--x_BmZbxzK_nx_GHBaRVw -0.288890 -0.083289  0.028788 -0.208529 -0.175861   \n",
              "--zb12mw2YK-7j6UaHzm8w -0.113795 -0.131715  0.034207 -0.164193 -0.013186   \n",
              "-0__F9fnKt8uioCKztF5Ww -0.027741  0.562309 -0.046932  0.201610  0.004383   \n",
              "-0ltw8--HLuulPyOSspqAQ -0.054333  0.028420 -0.065923  0.016911 -0.098115   \n",
              "-1XSzguS6XLN-V6MVZMg2A  0.434763  0.090683 -0.042712  0.057633 -0.354708   \n",
              "\n",
              "                               6         7         8         9        10  ...  \\\n",
              "business_id                                                               ...   \n",
              "--x_BmZbxzK_nx_GHBaRVw  0.173090 -0.095433  0.029645  0.034327 -0.309677  ...   \n",
              "--zb12mw2YK-7j6UaHzm8w  0.089984 -0.018256 -0.020079 -0.066649 -0.028421  ...   \n",
              "-0__F9fnKt8uioCKztF5Ww -0.108742 -0.058902 -0.087738  0.050473  0.043667  ...   \n",
              "-0ltw8--HLuulPyOSspqAQ  0.045781  0.145753  0.094826  0.146655 -0.161634  ...   \n",
              "-1XSzguS6XLN-V6MVZMg2A  0.185181 -0.062692 -0.003809  0.013114  0.009343  ...   \n",
              "\n",
              "                             391       392       393       394       395  \\\n",
              "business_id                                                                \n",
              "--x_BmZbxzK_nx_GHBaRVw -0.021377 -0.002364 -0.014874 -0.023452 -0.012682   \n",
              "--zb12mw2YK-7j6UaHzm8w  0.110728 -0.005425 -0.008769 -0.048221  0.026883   \n",
              "-0__F9fnKt8uioCKztF5Ww -0.022763 -0.001026 -0.018456  0.023015  0.015972   \n",
              "-0ltw8--HLuulPyOSspqAQ  0.018225 -0.001862 -0.018467 -0.030475 -0.030734   \n",
              "-1XSzguS6XLN-V6MVZMg2A  0.008086  0.017287  0.026286  0.025192  0.016220   \n",
              "\n",
              "                             396       397       398       399       400  \n",
              "business_id                                                               \n",
              "--x_BmZbxzK_nx_GHBaRVw  0.016646 -0.001156 -0.005999 -0.004450  0.009191  \n",
              "--zb12mw2YK-7j6UaHzm8w -0.044488 -0.037573 -0.047443  0.024450  0.036175  \n",
              "-0__F9fnKt8uioCKztF5Ww  0.020813  0.013749 -0.039689 -0.033825  0.039714  \n",
              "-0ltw8--HLuulPyOSspqAQ -0.017618  0.000290  0.012568 -0.021428 -0.020592  \n",
              "-1XSzguS6XLN-V6MVZMg2A -0.047699  0.027044  0.016562  0.037550  0.017761  \n",
              "\n",
              "[5 rows x 400 columns]"
            ],
            "text/html": [
              "\n",
              "  <div id=\"df-4d5067cd-8654-4d85-8a3a-7546f6d8361d\">\n",
              "    <div class=\"colab-df-container\">\n",
              "      <div>\n",
              "<style scoped>\n",
              "    .dataframe tbody tr th:only-of-type {\n",
              "        vertical-align: middle;\n",
              "    }\n",
              "\n",
              "    .dataframe tbody tr th {\n",
              "        vertical-align: top;\n",
              "    }\n",
              "\n",
              "    .dataframe thead th {\n",
              "        text-align: right;\n",
              "    }\n",
              "</style>\n",
              "<table border=\"1\" class=\"dataframe\">\n",
              "  <thead>\n",
              "    <tr style=\"text-align: right;\">\n",
              "      <th></th>\n",
              "      <th>1</th>\n",
              "      <th>2</th>\n",
              "      <th>3</th>\n",
              "      <th>4</th>\n",
              "      <th>5</th>\n",
              "      <th>6</th>\n",
              "      <th>7</th>\n",
              "      <th>8</th>\n",
              "      <th>9</th>\n",
              "      <th>10</th>\n",
              "      <th>...</th>\n",
              "      <th>391</th>\n",
              "      <th>392</th>\n",
              "      <th>393</th>\n",
              "      <th>394</th>\n",
              "      <th>395</th>\n",
              "      <th>396</th>\n",
              "      <th>397</th>\n",
              "      <th>398</th>\n",
              "      <th>399</th>\n",
              "      <th>400</th>\n",
              "    </tr>\n",
              "    <tr>\n",
              "      <th>business_id</th>\n",
              "      <th></th>\n",
              "      <th></th>\n",
              "      <th></th>\n",
              "      <th></th>\n",
              "      <th></th>\n",
              "      <th></th>\n",
              "      <th></th>\n",
              "      <th></th>\n",
              "      <th></th>\n",
              "      <th></th>\n",
              "      <th></th>\n",
              "      <th></th>\n",
              "      <th></th>\n",
              "      <th></th>\n",
              "      <th></th>\n",
              "      <th></th>\n",
              "      <th></th>\n",
              "      <th></th>\n",
              "      <th></th>\n",
              "      <th></th>\n",
              "      <th></th>\n",
              "    </tr>\n",
              "  </thead>\n",
              "  <tbody>\n",
              "    <tr>\n",
              "      <th>--x_BmZbxzK_nx_GHBaRVw</th>\n",
              "      <td>-0.288890</td>\n",
              "      <td>-0.083289</td>\n",
              "      <td>0.028788</td>\n",
              "      <td>-0.208529</td>\n",
              "      <td>-0.175861</td>\n",
              "      <td>0.173090</td>\n",
              "      <td>-0.095433</td>\n",
              "      <td>0.029645</td>\n",
              "      <td>0.034327</td>\n",
              "      <td>-0.309677</td>\n",
              "      <td>...</td>\n",
              "      <td>-0.021377</td>\n",
              "      <td>-0.002364</td>\n",
              "      <td>-0.014874</td>\n",
              "      <td>-0.023452</td>\n",
              "      <td>-0.012682</td>\n",
              "      <td>0.016646</td>\n",
              "      <td>-0.001156</td>\n",
              "      <td>-0.005999</td>\n",
              "      <td>-0.004450</td>\n",
              "      <td>0.009191</td>\n",
              "    </tr>\n",
              "    <tr>\n",
              "      <th>--zb12mw2YK-7j6UaHzm8w</th>\n",
              "      <td>-0.113795</td>\n",
              "      <td>-0.131715</td>\n",
              "      <td>0.034207</td>\n",
              "      <td>-0.164193</td>\n",
              "      <td>-0.013186</td>\n",
              "      <td>0.089984</td>\n",
              "      <td>-0.018256</td>\n",
              "      <td>-0.020079</td>\n",
              "      <td>-0.066649</td>\n",
              "      <td>-0.028421</td>\n",
              "      <td>...</td>\n",
              "      <td>0.110728</td>\n",
              "      <td>-0.005425</td>\n",
              "      <td>-0.008769</td>\n",
              "      <td>-0.048221</td>\n",
              "      <td>0.026883</td>\n",
              "      <td>-0.044488</td>\n",
              "      <td>-0.037573</td>\n",
              "      <td>-0.047443</td>\n",
              "      <td>0.024450</td>\n",
              "      <td>0.036175</td>\n",
              "    </tr>\n",
              "    <tr>\n",
              "      <th>-0__F9fnKt8uioCKztF5Ww</th>\n",
              "      <td>-0.027741</td>\n",
              "      <td>0.562309</td>\n",
              "      <td>-0.046932</td>\n",
              "      <td>0.201610</td>\n",
              "      <td>0.004383</td>\n",
              "      <td>-0.108742</td>\n",
              "      <td>-0.058902</td>\n",
              "      <td>-0.087738</td>\n",
              "      <td>0.050473</td>\n",
              "      <td>0.043667</td>\n",
              "      <td>...</td>\n",
              "      <td>-0.022763</td>\n",
              "      <td>-0.001026</td>\n",
              "      <td>-0.018456</td>\n",
              "      <td>0.023015</td>\n",
              "      <td>0.015972</td>\n",
              "      <td>0.020813</td>\n",
              "      <td>0.013749</td>\n",
              "      <td>-0.039689</td>\n",
              "      <td>-0.033825</td>\n",
              "      <td>0.039714</td>\n",
              "    </tr>\n",
              "    <tr>\n",
              "      <th>-0ltw8--HLuulPyOSspqAQ</th>\n",
              "      <td>-0.054333</td>\n",
              "      <td>0.028420</td>\n",
              "      <td>-0.065923</td>\n",
              "      <td>0.016911</td>\n",
              "      <td>-0.098115</td>\n",
              "      <td>0.045781</td>\n",
              "      <td>0.145753</td>\n",
              "      <td>0.094826</td>\n",
              "      <td>0.146655</td>\n",
              "      <td>-0.161634</td>\n",
              "      <td>...</td>\n",
              "      <td>0.018225</td>\n",
              "      <td>-0.001862</td>\n",
              "      <td>-0.018467</td>\n",
              "      <td>-0.030475</td>\n",
              "      <td>-0.030734</td>\n",
              "      <td>-0.017618</td>\n",
              "      <td>0.000290</td>\n",
              "      <td>0.012568</td>\n",
              "      <td>-0.021428</td>\n",
              "      <td>-0.020592</td>\n",
              "    </tr>\n",
              "    <tr>\n",
              "      <th>-1XSzguS6XLN-V6MVZMg2A</th>\n",
              "      <td>0.434763</td>\n",
              "      <td>0.090683</td>\n",
              "      <td>-0.042712</td>\n",
              "      <td>0.057633</td>\n",
              "      <td>-0.354708</td>\n",
              "      <td>0.185181</td>\n",
              "      <td>-0.062692</td>\n",
              "      <td>-0.003809</td>\n",
              "      <td>0.013114</td>\n",
              "      <td>0.009343</td>\n",
              "      <td>...</td>\n",
              "      <td>0.008086</td>\n",
              "      <td>0.017287</td>\n",
              "      <td>0.026286</td>\n",
              "      <td>0.025192</td>\n",
              "      <td>0.016220</td>\n",
              "      <td>-0.047699</td>\n",
              "      <td>0.027044</td>\n",
              "      <td>0.016562</td>\n",
              "      <td>0.037550</td>\n",
              "      <td>0.017761</td>\n",
              "    </tr>\n",
              "  </tbody>\n",
              "</table>\n",
              "<p>5 rows × 400 columns</p>\n",
              "</div>\n",
              "      <button class=\"colab-df-convert\" onclick=\"convertToInteractive('df-4d5067cd-8654-4d85-8a3a-7546f6d8361d')\"\n",
              "              title=\"Convert this dataframe to an interactive table.\"\n",
              "              style=\"display:none;\">\n",
              "        \n",
              "  <svg xmlns=\"http://www.w3.org/2000/svg\" height=\"24px\"viewBox=\"0 0 24 24\"\n",
              "       width=\"24px\">\n",
              "    <path d=\"M0 0h24v24H0V0z\" fill=\"none\"/>\n",
              "    <path d=\"M18.56 5.44l.94 2.06.94-2.06 2.06-.94-2.06-.94-.94-2.06-.94 2.06-2.06.94zm-11 1L8.5 8.5l.94-2.06 2.06-.94-2.06-.94L8.5 2.5l-.94 2.06-2.06.94zm10 10l.94 2.06.94-2.06 2.06-.94-2.06-.94-.94-2.06-.94 2.06-2.06.94z\"/><path d=\"M17.41 7.96l-1.37-1.37c-.4-.4-.92-.59-1.43-.59-.52 0-1.04.2-1.43.59L10.3 9.45l-7.72 7.72c-.78.78-.78 2.05 0 2.83L4 21.41c.39.39.9.59 1.41.59.51 0 1.02-.2 1.41-.59l7.78-7.78 2.81-2.81c.8-.78.8-2.07 0-2.86zM5.41 20L4 18.59l7.72-7.72 1.47 1.35L5.41 20z\"/>\n",
              "  </svg>\n",
              "      </button>\n",
              "      \n",
              "  <style>\n",
              "    .colab-df-container {\n",
              "      display:flex;\n",
              "      flex-wrap:wrap;\n",
              "      gap: 12px;\n",
              "    }\n",
              "\n",
              "    .colab-df-convert {\n",
              "      background-color: #E8F0FE;\n",
              "      border: none;\n",
              "      border-radius: 50%;\n",
              "      cursor: pointer;\n",
              "      display: none;\n",
              "      fill: #1967D2;\n",
              "      height: 32px;\n",
              "      padding: 0 0 0 0;\n",
              "      width: 32px;\n",
              "    }\n",
              "\n",
              "    .colab-df-convert:hover {\n",
              "      background-color: #E2EBFA;\n",
              "      box-shadow: 0px 1px 2px rgba(60, 64, 67, 0.3), 0px 1px 3px 1px rgba(60, 64, 67, 0.15);\n",
              "      fill: #174EA6;\n",
              "    }\n",
              "\n",
              "    [theme=dark] .colab-df-convert {\n",
              "      background-color: #3B4455;\n",
              "      fill: #D2E3FC;\n",
              "    }\n",
              "\n",
              "    [theme=dark] .colab-df-convert:hover {\n",
              "      background-color: #434B5C;\n",
              "      box-shadow: 0px 1px 3px 1px rgba(0, 0, 0, 0.15);\n",
              "      filter: drop-shadow(0px 1px 2px rgba(0, 0, 0, 0.3));\n",
              "      fill: #FFFFFF;\n",
              "    }\n",
              "  </style>\n",
              "\n",
              "      <script>\n",
              "        const buttonEl =\n",
              "          document.querySelector('#df-4d5067cd-8654-4d85-8a3a-7546f6d8361d button.colab-df-convert');\n",
              "        buttonEl.style.display =\n",
              "          google.colab.kernel.accessAllowed ? 'block' : 'none';\n",
              "\n",
              "        async function convertToInteractive(key) {\n",
              "          const element = document.querySelector('#df-4d5067cd-8654-4d85-8a3a-7546f6d8361d');\n",
              "          const dataTable =\n",
              "            await google.colab.kernel.invokeFunction('convertToInteractive',\n",
              "                                                     [key], {});\n",
              "          if (!dataTable) return;\n",
              "\n",
              "          const docLinkHtml = 'Like what you see? Visit the ' +\n",
              "            '<a target=\"_blank\" href=https://colab.research.google.com/notebooks/data_table.ipynb>data table notebook</a>'\n",
              "            + ' to learn more about interactive tables.';\n",
              "          element.innerHTML = '';\n",
              "          dataTable['output_type'] = 'display_data';\n",
              "          await google.colab.output.renderOutput(dataTable, element);\n",
              "          const docLink = document.createElement('div');\n",
              "          docLink.innerHTML = docLinkHtml;\n",
              "          element.appendChild(docLink);\n",
              "        }\n",
              "      </script>\n",
              "    </div>\n",
              "  </div>\n",
              "  "
            ]
          },
          "metadata": {},
          "execution_count": 22
        }
      ]
    },
    {
      "cell_type": "code",
      "source": [
        "# now we can merge to get the weighted average to find the stars"
      ],
      "metadata": {
        "id": "klH8jiCp1LZf"
      },
      "execution_count": null,
      "outputs": []
    },
    {
      "cell_type": "code",
      "source": [],
      "metadata": {
        "id": "IdiksguJ8Fpz"
      },
      "execution_count": null,
      "outputs": []
    }
  ]
}