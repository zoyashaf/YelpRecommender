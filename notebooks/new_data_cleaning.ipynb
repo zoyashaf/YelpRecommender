{
  "nbformat": 4,
  "nbformat_minor": 0,
  "metadata": {
    "colab": {
      "provenance": []
    },
    "kernelspec": {
      "name": "python3",
      "display_name": "Python 3"
    },
    "language_info": {
      "name": "python"
    }
  },
  "cells": [
    {
      "cell_type": "code",
      "execution_count": null,
      "metadata": {
        "colab": {
          "base_uri": "https://localhost:8080/"
        },
        "id": "jUrd_fIZAmTD",
        "outputId": "2f21912d-f206-47f6-fad7-007e35792672"
      },
      "outputs": [
        {
          "output_type": "stream",
          "name": "stdout",
          "text": [
            "Mounted at /content/drive\n"
          ]
        }
      ],
      "source": [
        "from google.colab import drive\n",
        "drive.mount('/content/drive')"
      ]
    },
    {
      "cell_type": "code",
      "source": [
        "%%writefile data_json_csv.py\n",
        "\n",
        "import argparse\n",
        "import collections\n",
        "import csv\n",
        "import json\n",
        "\n",
        "def read_and_write_file(json_file_path, csv_file_path, column_names):\n",
        "\n",
        "    with open(csv_file_path, 'w+') as fout:\n",
        "        csv_file = csv.writer(fout)\n",
        "        csv_file.writerow(list(column_names))\n",
        "        with open(json_file_path) as fin:\n",
        "            for line in fin:\n",
        "                line_contents = json.loads(line)\n",
        "                csv_file.writerow(get_row(line_contents, column_names))\n",
        "\n",
        "def get_superset_of_column_names_from_file(json_file_path):\n",
        "    column_names = set()\n",
        "    with open(json_file_path) as fin:\n",
        "        for line in fin:\n",
        "            line_contents = json.loads(line)\n",
        "            column_names.update(\n",
        "                    set(get_column_names(line_contents).keys())\n",
        "                    )\n",
        "    return column_names\n",
        "\n",
        "def get_column_names(line_contents, parent_key=''):\n",
        "    \n",
        "    \"\"\"Return a list of flattened key names given a dict.\n",
        "    Example:\n",
        "        line_contents = {\n",
        "                'a': {\n",
        "                    'b': 2,\n",
        "                    'c': 3,\n",
        "                    },\n",
        "        }\n",
        "        will return: ['a.b', 'a.c']\n",
        "    These will be the column names for the eventual csv file.\n",
        "    \"\"\"\n",
        "    column_names = []\n",
        "    for k, v in line_contents.items():\n",
        "        column_name = \"{0}.{1}\".format(parent_key, k) if parent_key else k\n",
        "        if isinstance(v, collections.abc.MutableMapping):\n",
        "            # if parent key is not in the column_names, add parent key,value pair first\n",
        "            if column_name not in column_names:\n",
        "                column_names.append((column_name,v))\n",
        "            # use recursive call to flatten the nested dictionaries\n",
        "            column_names.extend(get_column_names(v, column_name).items())\n",
        "        else:\n",
        "            column_names.append((column_name, v))\n",
        "    return dict(column_names)\n",
        "\n",
        "def get_nested_value(d, key):\n",
        "    \"\"\"Return a dictionary item given a dictionary d and a flattened key from get_column_names.\n",
        "    Example:\n",
        "        d = {\n",
        "            'a': {\n",
        "                'b': 2,\n",
        "                'c': 3,\n",
        "                },\n",
        "        }\n",
        "        key = 'a.b'\n",
        "        will return: 2\n",
        "    \"\"\"\n",
        "    if '.' not in key:\n",
        "        if key not in d:\n",
        "            return None\n",
        "        return d[key]\n",
        "    base_key, sub_key = key.split('.', 1)\n",
        "    if base_key not in d:\n",
        "        return None\n",
        "    sub_dict = d[base_key]\n",
        "    if isinstance(sub_dict, dict):\n",
        "        return get_nested_value(sub_dict, sub_key)\n",
        "    elif sub_dict is None:\n",
        "        return None\n",
        "    else:\n",
        "        print(sub_dict)\n",
        "        return None\n",
        "\n",
        "def get_row(line_contents, column_names):\n",
        "    \"\"\"Return a csv compatible row given column names and a dict.\"\"\"\n",
        "    row = []\n",
        "    for column_name in column_names:\n",
        "        line_value = get_nested_value(\n",
        "                        line_contents,\n",
        "                        column_name,\n",
        "                        )\n",
        "\n",
        "        if line_value is not None:\n",
        "            row.append('{0}'.format(line_value))\n",
        "        else:\n",
        "            row.append('')\n",
        "    return row\n",
        "\n",
        "if __name__ == '__main__':\n",
        "\n",
        "    parser = argparse.ArgumentParser(\n",
        "            description='Convert file from json to csv',\n",
        "            )\n",
        "\n",
        "    parser.add_argument(\n",
        "            'json_file',\n",
        "            type=str\n",
        "            )\n",
        "\n",
        "    args = parser.parse_args()\n",
        "\n",
        "    json_file = args.json_file\n",
        "    csv_file = '{0}.csv'.format(json_file.split('.json')[0])\n",
        "\n",
        "    column_names = get_superset_of_column_names_from_file(json_file)\n",
        "    read_and_write_file(json_file, csv_file, column_names)"
      ],
      "metadata": {
        "colab": {
          "base_uri": "https://localhost:8080/"
        },
        "id": "ThrzpgckGXz7",
        "outputId": "6ed5b8c7-b405-4851-9ad5-b94e20ccc1e5"
      },
      "execution_count": null,
      "outputs": [
        {
          "output_type": "stream",
          "name": "stdout",
          "text": [
            "Writing data_json_csv.py\n"
          ]
        }
      ]
    },
    {
      "cell_type": "code",
      "source": [
        "%run -i 'data_json_csv.py' '/content/drive/MyDrive/YelpRecommender/Data/yelp_academic_dataset_business.json'"
      ],
      "metadata": {
        "id": "OJOy5g0hGX2k"
      },
      "execution_count": null,
      "outputs": []
    },
    {
      "cell_type": "code",
      "source": [
        "%run -i 'data_json_csv.py' '/content/drive/MyDrive/YelpRecommender/Data/yelp_academic_dataset_user.json'"
      ],
      "metadata": {
        "id": "uGcSXECsLPrA"
      },
      "execution_count": null,
      "outputs": []
    },
    {
      "cell_type": "code",
      "source": [
        "%run -i 'data_json_csv.py' '/content/drive/MyDrive/YelpRecommender/Data/yelp_academic_dataset_review.json'\n",
        "%run -i 'data_json_csv.py' '/content/drive/MyDrive/YelpRecommender/Data/yelp_academic_dataset_tip.json'\n",
        "%run -i 'data_json_csv.py' '/content/drive/MyDrive/YelpRecommender/Data/yelp_academic_dataset_checkin.json'"
      ],
      "metadata": {
        "id": "858TvEGRNo8G"
      },
      "execution_count": null,
      "outputs": []
    },
    {
      "cell_type": "code",
      "source": [],
      "metadata": {
        "id": "jGa1uNB_LPto"
      },
      "execution_count": null,
      "outputs": []
    },
    {
      "cell_type": "code",
      "source": [
        "reviews = pd.read_csv('/content/drive/MyDrive/YelpRecommender/Data/review.csv')"
      ],
      "metadata": {
        "id": "rxUW-mmWLPwD"
      },
      "execution_count": null,
      "outputs": []
    },
    {
      "cell_type": "code",
      "source": [
        "reviews.head()"
      ],
      "metadata": {
        "id": "DxbmKOAOLPyb",
        "colab": {
          "base_uri": "https://localhost:8080/",
          "height": 722
        },
        "outputId": "e0971e6f-1d48-445b-931a-84ae7a28d834"
      },
      "execution_count": null,
      "outputs": [
        {
          "output_type": "execute_result",
          "data": {
            "text/plain": [
              "                  date                 user_id  useful  cool  \\\n",
              "0  2018-07-07 22:09:11  mh_-eMZ6K5RLWhZyISBhwA       0     0   \n",
              "1  2012-01-03 15:28:18  OyoGAe7OKpv6SyGZT5g77Q       1     1   \n",
              "2  2014-02-05 20:30:30  8g_iMtfSiwikVnbP2etR0A       0     0   \n",
              "3  2015-01-04 00:01:03  _7bHUi9Uuf5__HHc_Q8guQ       1     1   \n",
              "4  2017-01-14 20:54:15  bcjbaE6dDog4jkNY91ncLQ       1     1   \n",
              "\n",
              "                                                text  funny  \\\n",
              "0  If you decide to eat here, just be aware it is...      0   \n",
              "1  I've taken a lot of spin classes over the year...      0   \n",
              "2  Family diner. Had the buffet. Eclectic assortm...      0   \n",
              "3  Wow!  Yummy, different,  delicious.   Our favo...      0   \n",
              "4  Cute interior and owner (?) gave us tour of up...      0   \n",
              "\n",
              "                review_id             business_id  stars  \n",
              "0  KU_O5udG6zpxOg-VcAEodg  XQfwVwDr-v0ZS3_CbbE5Xw    3.0  \n",
              "1  BiTunyQ73aT9WBnpR9DZGw  7ATYjTIgM3jUlt4UM3IypQ    5.0  \n",
              "2  saUsX_uimxRlCVr67Z4Jig  YjUWPpI6HXG530lwP-fb2A    3.0  \n",
              "3  AqPFMleE6RsU23_auESxiA  kxX2SOes4o-D3ZQBkiMRfA    5.0  \n",
              "4  Sx8TMOWLNuJBWer-0pcmoA  e4Vwtrqf-wpJfwesgvdgxQ    4.0  "
            ],
            "text/html": [
              "\n",
              "  <div id=\"df-cdffa559-cb71-4c19-a57b-ae95f6956f45\">\n",
              "    <div class=\"colab-df-container\">\n",
              "      <div>\n",
              "<style scoped>\n",
              "    .dataframe tbody tr th:only-of-type {\n",
              "        vertical-align: middle;\n",
              "    }\n",
              "\n",
              "    .dataframe tbody tr th {\n",
              "        vertical-align: top;\n",
              "    }\n",
              "\n",
              "    .dataframe thead th {\n",
              "        text-align: right;\n",
              "    }\n",
              "</style>\n",
              "<table border=\"1\" class=\"dataframe\">\n",
              "  <thead>\n",
              "    <tr style=\"text-align: right;\">\n",
              "      <th></th>\n",
              "      <th>date</th>\n",
              "      <th>user_id</th>\n",
              "      <th>useful</th>\n",
              "      <th>cool</th>\n",
              "      <th>text</th>\n",
              "      <th>funny</th>\n",
              "      <th>review_id</th>\n",
              "      <th>business_id</th>\n",
              "      <th>stars</th>\n",
              "    </tr>\n",
              "  </thead>\n",
              "  <tbody>\n",
              "    <tr>\n",
              "      <th>0</th>\n",
              "      <td>2018-07-07 22:09:11</td>\n",
              "      <td>mh_-eMZ6K5RLWhZyISBhwA</td>\n",
              "      <td>0</td>\n",
              "      <td>0</td>\n",
              "      <td>If you decide to eat here, just be aware it is...</td>\n",
              "      <td>0</td>\n",
              "      <td>KU_O5udG6zpxOg-VcAEodg</td>\n",
              "      <td>XQfwVwDr-v0ZS3_CbbE5Xw</td>\n",
              "      <td>3.0</td>\n",
              "    </tr>\n",
              "    <tr>\n",
              "      <th>1</th>\n",
              "      <td>2012-01-03 15:28:18</td>\n",
              "      <td>OyoGAe7OKpv6SyGZT5g77Q</td>\n",
              "      <td>1</td>\n",
              "      <td>1</td>\n",
              "      <td>I've taken a lot of spin classes over the year...</td>\n",
              "      <td>0</td>\n",
              "      <td>BiTunyQ73aT9WBnpR9DZGw</td>\n",
              "      <td>7ATYjTIgM3jUlt4UM3IypQ</td>\n",
              "      <td>5.0</td>\n",
              "    </tr>\n",
              "    <tr>\n",
              "      <th>2</th>\n",
              "      <td>2014-02-05 20:30:30</td>\n",
              "      <td>8g_iMtfSiwikVnbP2etR0A</td>\n",
              "      <td>0</td>\n",
              "      <td>0</td>\n",
              "      <td>Family diner. Had the buffet. Eclectic assortm...</td>\n",
              "      <td>0</td>\n",
              "      <td>saUsX_uimxRlCVr67Z4Jig</td>\n",
              "      <td>YjUWPpI6HXG530lwP-fb2A</td>\n",
              "      <td>3.0</td>\n",
              "    </tr>\n",
              "    <tr>\n",
              "      <th>3</th>\n",
              "      <td>2015-01-04 00:01:03</td>\n",
              "      <td>_7bHUi9Uuf5__HHc_Q8guQ</td>\n",
              "      <td>1</td>\n",
              "      <td>1</td>\n",
              "      <td>Wow!  Yummy, different,  delicious.   Our favo...</td>\n",
              "      <td>0</td>\n",
              "      <td>AqPFMleE6RsU23_auESxiA</td>\n",
              "      <td>kxX2SOes4o-D3ZQBkiMRfA</td>\n",
              "      <td>5.0</td>\n",
              "    </tr>\n",
              "    <tr>\n",
              "      <th>4</th>\n",
              "      <td>2017-01-14 20:54:15</td>\n",
              "      <td>bcjbaE6dDog4jkNY91ncLQ</td>\n",
              "      <td>1</td>\n",
              "      <td>1</td>\n",
              "      <td>Cute interior and owner (?) gave us tour of up...</td>\n",
              "      <td>0</td>\n",
              "      <td>Sx8TMOWLNuJBWer-0pcmoA</td>\n",
              "      <td>e4Vwtrqf-wpJfwesgvdgxQ</td>\n",
              "      <td>4.0</td>\n",
              "    </tr>\n",
              "  </tbody>\n",
              "</table>\n",
              "</div>\n",
              "      <button class=\"colab-df-convert\" onclick=\"convertToInteractive('df-cdffa559-cb71-4c19-a57b-ae95f6956f45')\"\n",
              "              title=\"Convert this dataframe to an interactive table.\"\n",
              "              style=\"display:none;\">\n",
              "        \n",
              "  <svg xmlns=\"http://www.w3.org/2000/svg\" height=\"24px\"viewBox=\"0 0 24 24\"\n",
              "       width=\"24px\">\n",
              "    <path d=\"M0 0h24v24H0V0z\" fill=\"none\"/>\n",
              "    <path d=\"M18.56 5.44l.94 2.06.94-2.06 2.06-.94-2.06-.94-.94-2.06-.94 2.06-2.06.94zm-11 1L8.5 8.5l.94-2.06 2.06-.94-2.06-.94L8.5 2.5l-.94 2.06-2.06.94zm10 10l.94 2.06.94-2.06 2.06-.94-2.06-.94-.94-2.06-.94 2.06-2.06.94z\"/><path d=\"M17.41 7.96l-1.37-1.37c-.4-.4-.92-.59-1.43-.59-.52 0-1.04.2-1.43.59L10.3 9.45l-7.72 7.72c-.78.78-.78 2.05 0 2.83L4 21.41c.39.39.9.59 1.41.59.51 0 1.02-.2 1.41-.59l7.78-7.78 2.81-2.81c.8-.78.8-2.07 0-2.86zM5.41 20L4 18.59l7.72-7.72 1.47 1.35L5.41 20z\"/>\n",
              "  </svg>\n",
              "      </button>\n",
              "      \n",
              "  <style>\n",
              "    .colab-df-container {\n",
              "      display:flex;\n",
              "      flex-wrap:wrap;\n",
              "      gap: 12px;\n",
              "    }\n",
              "\n",
              "    .colab-df-convert {\n",
              "      background-color: #E8F0FE;\n",
              "      border: none;\n",
              "      border-radius: 50%;\n",
              "      cursor: pointer;\n",
              "      display: none;\n",
              "      fill: #1967D2;\n",
              "      height: 32px;\n",
              "      padding: 0 0 0 0;\n",
              "      width: 32px;\n",
              "    }\n",
              "\n",
              "    .colab-df-convert:hover {\n",
              "      background-color: #E2EBFA;\n",
              "      box-shadow: 0px 1px 2px rgba(60, 64, 67, 0.3), 0px 1px 3px 1px rgba(60, 64, 67, 0.15);\n",
              "      fill: #174EA6;\n",
              "    }\n",
              "\n",
              "    [theme=dark] .colab-df-convert {\n",
              "      background-color: #3B4455;\n",
              "      fill: #D2E3FC;\n",
              "    }\n",
              "\n",
              "    [theme=dark] .colab-df-convert:hover {\n",
              "      background-color: #434B5C;\n",
              "      box-shadow: 0px 1px 3px 1px rgba(0, 0, 0, 0.15);\n",
              "      filter: drop-shadow(0px 1px 2px rgba(0, 0, 0, 0.3));\n",
              "      fill: #FFFFFF;\n",
              "    }\n",
              "  </style>\n",
              "\n",
              "      <script>\n",
              "        const buttonEl =\n",
              "          document.querySelector('#df-cdffa559-cb71-4c19-a57b-ae95f6956f45 button.colab-df-convert');\n",
              "        buttonEl.style.display =\n",
              "          google.colab.kernel.accessAllowed ? 'block' : 'none';\n",
              "\n",
              "        async function convertToInteractive(key) {\n",
              "          const element = document.querySelector('#df-cdffa559-cb71-4c19-a57b-ae95f6956f45');\n",
              "          const dataTable =\n",
              "            await google.colab.kernel.invokeFunction('convertToInteractive',\n",
              "                                                     [key], {});\n",
              "          if (!dataTable) return;\n",
              "\n",
              "          const docLinkHtml = 'Like what you see? Visit the ' +\n",
              "            '<a target=\"_blank\" href=https://colab.research.google.com/notebooks/data_table.ipynb>data table notebook</a>'\n",
              "            + ' to learn more about interactive tables.';\n",
              "          element.innerHTML = '';\n",
              "          dataTable['output_type'] = 'display_data';\n",
              "          await google.colab.output.renderOutput(dataTable, element);\n",
              "          const docLink = document.createElement('div');\n",
              "          docLink.innerHTML = docLinkHtml;\n",
              "          element.appendChild(docLink);\n",
              "        }\n",
              "      </script>\n",
              "    </div>\n",
              "  </div>\n",
              "  "
            ]
          },
          "metadata": {},
          "execution_count": 19
        }
      ]
    },
    {
      "cell_type": "code",
      "source": [
        "import pandas as pd"
      ],
      "metadata": {
        "id": "A2I5yS0inT8-"
      },
      "execution_count": 2,
      "outputs": []
    },
    {
      "cell_type": "code",
      "source": [
        "business = pd.read_csv('/content/drive/MyDrive/YelpRecommender/Data/business.csv',low_memory=False)"
      ],
      "metadata": {
        "id": "JPnkDZlRLP1F"
      },
      "execution_count": 3,
      "outputs": []
    },
    {
      "cell_type": "code",
      "source": [
        "len(business)"
      ],
      "metadata": {
        "colab": {
          "base_uri": "https://localhost:8080/"
        },
        "id": "zTe9DjODnQ1Y",
        "outputId": "a0b70778-03bd-4c21-8dd4-b2c0a75ce778"
      },
      "execution_count": null,
      "outputs": [
        {
          "output_type": "execute_result",
          "data": {
            "text/plain": [
              "150346"
            ]
          },
          "metadata": {},
          "execution_count": 6
        }
      ]
    },
    {
      "cell_type": "code",
      "source": [
        "ziplen = business.postal_code.astype(str).apply(len) # drop entries where postal_code is not 5-digit from business\n",
        "business = business[ziplen == 5]\n"
      ],
      "metadata": {
        "id": "l6OAYi9znQ4I"
      },
      "execution_count": 4,
      "outputs": []
    },
    {
      "cell_type": "code",
      "source": [
        "states = ['LA']\n",
        "business = business[business.state.isin(states)]"
      ],
      "metadata": {
        "id": "uaXvtI10nQ6z"
      },
      "execution_count": 5,
      "outputs": []
    },
    {
      "cell_type": "code",
      "source": [
        "len(business)"
      ],
      "metadata": {
        "colab": {
          "base_uri": "https://localhost:8080/"
        },
        "id": "AuwhGjRHBmsD",
        "outputId": "2e64dabe-af26-4ef8-b70a-4d4d6cc356bd"
      },
      "execution_count": 6,
      "outputs": [
        {
          "output_type": "execute_result",
          "data": {
            "text/plain": [
              "9917"
            ]
          },
          "metadata": {},
          "execution_count": 6
        }
      ]
    },
    {
      "cell_type": "code",
      "source": [
        "business.categories.head(20)"
      ],
      "metadata": {
        "colab": {
          "base_uri": "https://localhost:8080/"
        },
        "id": "vJ2i-q1oiUJQ",
        "outputId": "f8d7c297-8db1-46a7-e06e-4bea45b36e6c"
      },
      "execution_count": 15,
      "outputs": [
        {
          "output_type": "execute_result",
          "data": {
            "text/plain": [
              "17     Vape Shops, Tobacco Shops, Personal Shopping, ...\n",
              "18     Automotive, Car Rental, Hotels & Travel, Truck...\n",
              "34     Event Planning & Services, Hotels, Hotels & Tr...\n",
              "60                   Restaurants, Soup, Seafood, Burgers\n",
              "65                  Hotels & Travel, Tours, Local Flavor\n",
              "87     Nightlife, Pubs, Event Planning & Services, Wi...\n",
              "96     Event Planning & Services, Caterers, Party & E...\n",
              "103                   Restaurants, Seafood, Cajun/Creole\n",
              "118    Flowers & Gifts, Embroidery & Crochet, Uniform...\n",
              "127    Tires, Auto Repair, Oil Change Stations, Autom...\n",
              "131    Cocktail Bars, Italian, Nightlife, Seafood, Ba...\n",
              "155    Hotels, Hotels & Travel, Bed & Breakfast, Even...\n",
              "189        Restaurants, Sandwiches, Pizza, Chicken Wings\n",
              "231    American (New), Food, Bars, Nightlife, Lounges...\n",
              "253      Pizza, Restaurants, Bars, Nightlife, Sandwiches\n",
              "255    Fitness & Instruction, Gyms, Weight Loss Cente...\n",
              "265    Diagnostic Imaging, Diagnostic Services, Healt...\n",
              "267                    Fashion, Men's Clothing, Shopping\n",
              "278                                 Mexican, Restaurants\n",
              "282    Event Planning & Services, Party & Event Plann...\n",
              "Name: categories, dtype: object"
            ]
          },
          "metadata": {},
          "execution_count": 15
        }
      ]
    },
    {
      "cell_type": "code",
      "source": [
        "for i in business.categories:\n",
        "  if not isinstance(i, str):\n",
        "    print(i,type(i))"
      ],
      "metadata": {
        "colab": {
          "base_uri": "https://localhost:8080/"
        },
        "id": "aEriB_GknQ-A",
        "outputId": "4349fd8c-0930-4922-d227-c6081111a3c5"
      },
      "execution_count": 7,
      "outputs": [
        {
          "output_type": "stream",
          "name": "stdout",
          "text": [
            "nan <class 'float'>\n",
            "nan <class 'float'>\n",
            "nan <class 'float'>\n",
            "nan <class 'float'>\n",
            "nan <class 'float'>\n",
            "nan <class 'float'>\n",
            "nan <class 'float'>\n",
            "nan <class 'float'>\n"
          ]
        }
      ]
    },
    {
      "cell_type": "code",
      "source": [
        "#has a lot of nans of type float we ignore them."
      ],
      "metadata": {
        "id": "eIfqTqXut9iJ"
      },
      "execution_count": null,
      "outputs": []
    },
    {
      "cell_type": "code",
      "source": [
        "categories_explode = lambda x: [a.strip().lower() for a in x.split(',')] if isinstance(x, str) else print(x)"
      ],
      "metadata": {
        "id": "IrmiNcoEnRAL"
      },
      "execution_count": 8,
      "outputs": []
    },
    {
      "cell_type": "code",
      "source": [
        "categories = business.categories.apply(categories_explode)"
      ],
      "metadata": {
        "colab": {
          "base_uri": "https://localhost:8080/"
        },
        "id": "ucBIxrfenRDB",
        "outputId": "5ac71c2e-a9d9-4818-d759-0a49e530ca53"
      },
      "execution_count": 9,
      "outputs": [
        {
          "output_type": "stream",
          "name": "stdout",
          "text": [
            "nan\n",
            "nan\n",
            "nan\n",
            "nan\n",
            "nan\n",
            "nan\n",
            "nan\n",
            "nan\n"
          ]
        }
      ]
    },
    {
      "cell_type": "code",
      "source": [
        "df = pd.DataFrame(categories.explode('categories'))"
      ],
      "metadata": {
        "id": "ZIJfvYruv_75"
      },
      "execution_count": 10,
      "outputs": []
    },
    {
      "cell_type": "code",
      "source": [
        "df.groupby('categories').value_counts().sort_values(ascending=False)[:50]"
      ],
      "metadata": {
        "colab": {
          "base_uri": "https://localhost:8080/"
        },
        "id": "mTOZSDObHT8P",
        "outputId": "9514f51c-f48c-45e9-de55-91f608b26c28"
      },
      "execution_count": 13,
      "outputs": [
        {
          "output_type": "execute_result",
          "data": {
            "text/plain": [
              "categories\n",
              "restaurants                  3638\n",
              "food                         1994\n",
              "shopping                     1639\n",
              "nightlife                    1162\n",
              "bars                         1031\n",
              "event planning & services     901\n",
              "beauty & spas                 800\n",
              "hotels & travel               779\n",
              "arts & entertainment          616\n",
              "sandwiches                    589\n",
              "automotive                    587\n",
              "local services                568\n",
              "seafood                       550\n",
              "home services                 545\n",
              "health & medical              534\n",
              "breakfast & brunch            526\n",
              "cajun/creole                  524\n",
              "american (traditional)        500\n",
              "coffee & tea                  472\n",
              "fashion                       461\n",
              "american (new)                461\n",
              "active life                   437\n",
              "burgers                       400\n",
              "hotels                        377\n",
              "specialty food                350\n",
              "fast food                     338\n",
              "home & garden                 330\n",
              "pizza                         293\n",
              "nail salons                   270\n",
              "local flavor                  269\n",
              "hair salons                   265\n",
              "auto repair                   264\n",
              "venues & event spaces         254\n",
              "cafes                         252\n",
              "cocktail bars                 246\n",
              "desserts                      239\n",
              "mexican                       233\n",
              "chicken wings                 229\n",
              "grocery                       227\n",
              "italian                       221\n",
              "bakeries                      213\n",
              "tours                         203\n",
              "fitness & instruction         202\n",
              "southern                      197\n",
              "hair removal                  196\n",
              "accessories                   193\n",
              "women's clothing              191\n",
              "pets                          185\n",
              "salad                         182\n",
              "ice cream & frozen yogurt     179\n",
              "dtype: int64"
            ]
          },
          "metadata": {},
          "execution_count": 13
        }
      ]
    },
    {
      "cell_type": "code",
      "source": [
        "len(df.groupby('categories').value_counts().sort_values(ascending=False))"
      ],
      "metadata": {
        "colab": {
          "base_uri": "https://localhost:8080/"
        },
        "id": "6Nsc8iBtHUAo",
        "outputId": "e83805d6-201f-4b02-96b5-287888f574c7"
      },
      "execution_count": 12,
      "outputs": [
        {
          "output_type": "execute_result",
          "data": {
            "text/plain": [
              "983"
            ]
          },
          "metadata": {},
          "execution_count": 12
        }
      ]
    },
    {
      "cell_type": "code",
      "source": [
        "# There are a total of 983 total categories of businesses in LA.\n",
        "# Now we need to select only restaurant based businesses and ignore rest\n",
        "rest_categories = ['restaurants','food','nightlife','bars','sandwiches','seafood','breakfast & brunch','cajun/creole','coffee & tea '\\\n",
        " ,'burgers','specialty food','fast food','pizza','local flavor','cafes','cocktail bars','desserts','mexican','chicken wings'\\\n",
        " ,'italian','bakeries','salad','ice cream & frozen yogurt']"
      ],
      "metadata": {
        "id": "lBpyutnhHUC-"
      },
      "execution_count": 16,
      "outputs": []
    },
    {
      "cell_type": "code",
      "source": [
        "restaurant_indexes = []\n",
        "other_indexes = []\n",
        "for idx,row in business.iterrows():\n",
        "  # print(idx,row['categories'])\n",
        "  if isinstance(row['categories'], str):\n",
        "    for cat in row['categories'].split(','):\n",
        "      if cat.strip().lower() in rest_categories:\n",
        "        restaurant_indexes.append(idx)\n",
        "        break\n",
        "      else:\n",
        "        other_indexes.append(idx)\n"
      ],
      "metadata": {
        "id": "8EC0sVEPmIW3"
      },
      "execution_count": 22,
      "outputs": []
    },
    {
      "cell_type": "code",
      "source": [
        "rest_indexes = set(other_indexes) - set(restaurant_indexes)"
      ],
      "metadata": {
        "id": "hieoXD7YmIZl"
      },
      "execution_count": 29,
      "outputs": []
    },
    {
      "cell_type": "code",
      "source": [
        "business_restaurants = business.drop(index=rest_indexes)"
      ],
      "metadata": {
        "id": "_0nNW205mIbR"
      },
      "execution_count": 37,
      "outputs": []
    },
    {
      "cell_type": "code",
      "source": [
        "len(business_restaurants)"
      ],
      "metadata": {
        "colab": {
          "base_uri": "https://localhost:8080/"
        },
        "id": "tLoNEIe_mIds",
        "outputId": "a72ad7e3-0811-40bc-c923-e4e639eea14b"
      },
      "execution_count": 38,
      "outputs": [
        {
          "output_type": "execute_result",
          "data": {
            "text/plain": [
              "5104"
            ]
          },
          "metadata": {},
          "execution_count": 38
        }
      ]
    },
    {
      "cell_type": "code",
      "source": [
        "business_restaurants.info()"
      ],
      "metadata": {
        "colab": {
          "base_uri": "https://localhost:8080/"
        },
        "id": "OwDg4I9cmIgX",
        "outputId": "04389fb9-bd7d-4d93-f744-42af2ff4f587"
      },
      "execution_count": 39,
      "outputs": [
        {
          "output_type": "stream",
          "name": "stdout",
          "text": [
            "<class 'pandas.core.frame.DataFrame'>\n",
            "Int64Index: 5104 entries, 60 to 150283\n",
            "Data columns (total 60 columns):\n",
            " #   Column                                 Non-Null Count  Dtype  \n",
            "---  ------                                 --------------  -----  \n",
            " 0   state                                  5104 non-null   object \n",
            " 1   attributes.RestaurantsPriceRange2      4274 non-null   object \n",
            " 2   attributes.RestaurantsCounterService   1 non-null      object \n",
            " 3   attributes.DietaryRestrictions         1 non-null      object \n",
            " 4   attributes.BestNights                  579 non-null    object \n",
            " 5   attributes.HairSpecializesIn           0 non-null      object \n",
            " 6   attributes.Ambience                    3389 non-null   object \n",
            " 7   attributes.NoiseLevel                  2891 non-null   object \n",
            " 8   attributes.Smoking                     405 non-null    object \n",
            " 9   attributes.GoodForMeal                 2151 non-null   object \n",
            " 10  hours.Tuesday                          3689 non-null   object \n",
            " 11  attributes.RestaurantsTableService     1483 non-null   object \n",
            " 12  review_count                           5104 non-null   int64  \n",
            " 13  hours.Wednesday                        3920 non-null   object \n",
            " 14  attributes                             5003 non-null   object \n",
            " 15  attributes.OutdoorSeating              3642 non-null   object \n",
            " 16  attributes.BYOB                        377 non-null    object \n",
            " 17  hours                                  4174 non-null   object \n",
            " 18  attributes.AgesAllowed                 7 non-null      object \n",
            " 19  address                                5010 non-null   object \n",
            " 20  attributes.ByAppointmentOnly           504 non-null    object \n",
            " 21  attributes.GoodForKids                 3186 non-null   object \n",
            " 22  name                                   5104 non-null   object \n",
            " 23  categories                             5096 non-null   object \n",
            " 24  attributes.BusinessAcceptsCreditCards  4573 non-null   object \n",
            " 25  hours.Friday                           4121 non-null   object \n",
            " 26  attributes.BusinessParking             4405 non-null   object \n",
            " 27  attributes.DogsAllowed                 1251 non-null   object \n",
            " 28  business_id                            5104 non-null   object \n",
            " 29  attributes.Corkage                     299 non-null    object \n",
            " 30  attributes.RestaurantsTakeOut          4017 non-null   object \n",
            " 31  city                                   5104 non-null   object \n",
            " 32  attributes.BikeParking                 3570 non-null   object \n",
            " 33  attributes.RestaurantsReservations     3322 non-null   object \n",
            " 34  hours.Sunday                           3347 non-null   object \n",
            " 35  attributes.BusinessAcceptsBitcoin      723 non-null    object \n",
            " 36  hours.Saturday                         3970 non-null   object \n",
            " 37  attributes.BYOBCorkage                 90 non-null     object \n",
            " 38  attributes.Music                       768 non-null    object \n",
            " 39  attributes.Caters                      2871 non-null   object \n",
            " 40  stars                                  5104 non-null   float64\n",
            " 41  attributes.RestaurantsDelivery         3620 non-null   object \n",
            " 42  attributes.Open24Hours                 3 non-null      object \n",
            " 43  attributes.AcceptsInsurance            2 non-null      object \n",
            " 44  hours.Monday                           3585 non-null   object \n",
            " 45  attributes.DriveThru                   472 non-null    object \n",
            " 46  postal_code                            5104 non-null   object \n",
            " 47  attributes.WiFi                        3204 non-null   object \n",
            " 48  attributes.RestaurantsAttire           2775 non-null   object \n",
            " 49  longitude                              5104 non-null   float64\n",
            " 50  attributes.CoatCheck                   486 non-null    object \n",
            " 51  attributes.RestaurantsGoodForGroups    3350 non-null   object \n",
            " 52  latitude                               5104 non-null   float64\n",
            " 53  attributes.HappyHour                   1372 non-null   object \n",
            " 54  attributes.GoodForDancing              469 non-null    object \n",
            " 55  hours.Thursday                         4082 non-null   object \n",
            " 56  attributes.HasTV                       3406 non-null   object \n",
            " 57  is_open                                5104 non-null   int64  \n",
            " 58  attributes.Alcohol                     3237 non-null   object \n",
            " 59  attributes.WheelchairAccessible        1349 non-null   object \n",
            "dtypes: float64(3), int64(2), object(55)\n",
            "memory usage: 2.4+ MB\n"
          ]
        }
      ]
    },
    {
      "cell_type": "code",
      "source": [
        "new_orleans_business = business_restaurants[(business_restaurants['city']=='New Orleans') | (business_restaurants['city']=='NEW ORLEANS')]"
      ],
      "metadata": {
        "id": "vQDy8uX_sEB5"
      },
      "execution_count": 49,
      "outputs": []
    },
    {
      "cell_type": "code",
      "source": [
        "len(new_orleans_business)"
      ],
      "metadata": {
        "colab": {
          "base_uri": "https://localhost:8080/"
        },
        "id": "0IL4bQKpsrVL",
        "outputId": "18ad32f2-40f4-40b3-bd8a-fa4c5ffde3fe"
      },
      "execution_count": 51,
      "outputs": [
        {
          "output_type": "execute_result",
          "data": {
            "text/plain": [
              "3306"
            ]
          },
          "metadata": {},
          "execution_count": 51
        }
      ]
    },
    {
      "cell_type": "code",
      "source": [
        "new_orleans_business.to_csv('/content/drive/MyDrive/YelpRecommender/Data/NewOrleans/business.csv')"
      ],
      "metadata": {
        "id": "iShy55ylxSCN"
      },
      "execution_count": 54,
      "outputs": []
    },
    {
      "cell_type": "code",
      "source": [
        "user = pd.read_csv('/content/drive/MyDrive/YelpRecommender/Data/user.csv')"
      ],
      "metadata": {
        "id": "fVkXG75eqcEf"
      },
      "execution_count": 40,
      "outputs": []
    },
    {
      "cell_type": "code",
      "source": [
        "user.info()"
      ],
      "metadata": {
        "colab": {
          "base_uri": "https://localhost:8080/"
        },
        "id": "JbB42dGGqtqI",
        "outputId": "bbb59bcd-08ec-4d53-9b8d-b57e8a39ad72"
      },
      "execution_count": 41,
      "outputs": [
        {
          "output_type": "stream",
          "name": "stdout",
          "text": [
            "<class 'pandas.core.frame.DataFrame'>\n",
            "RangeIndex: 1987897 entries, 0 to 1987896\n",
            "Data columns (total 22 columns):\n",
            " #   Column              Dtype  \n",
            "---  ------              -----  \n",
            " 0   yelping_since       object \n",
            " 1   compliment_cool     int64  \n",
            " 2   compliment_profile  int64  \n",
            " 3   compliment_photos   int64  \n",
            " 4   funny               int64  \n",
            " 5   compliment_more     int64  \n",
            " 6   elite               object \n",
            " 7   compliment_list     int64  \n",
            " 8   user_id             object \n",
            " 9   compliment_writer   int64  \n",
            " 10  useful              int64  \n",
            " 11  review_count        int64  \n",
            " 12  compliment_plain    int64  \n",
            " 13  compliment_hot      int64  \n",
            " 14  average_stars       float64\n",
            " 15  compliment_funny    int64  \n",
            " 16  compliment_note     int64  \n",
            " 17  cool                int64  \n",
            " 18  name                object \n",
            " 19  friends             object \n",
            " 20  compliment_cute     int64  \n",
            " 21  fans                int64  \n",
            "dtypes: float64(1), int64(16), object(5)\n",
            "memory usage: 333.7+ MB\n"
          ]
        }
      ]
    },
    {
      "cell_type": "code",
      "source": [
        "user.head()"
      ],
      "metadata": {
        "colab": {
          "base_uri": "https://localhost:8080/",
          "height": 386
        },
        "id": "GgfdCyBjqts5",
        "outputId": "ea3a4d20-5cab-4947-cc1d-9ed658ab3b5a"
      },
      "execution_count": 42,
      "outputs": [
        {
          "output_type": "execute_result",
          "data": {
            "text/plain": [
              "         yelping_since  compliment_cool  compliment_profile  \\\n",
              "0  2007-01-25 16:47:26              467                  55   \n",
              "1  2009-01-25 04:35:42             3131                 184   \n",
              "2  2008-07-25 10:41:00              119                  10   \n",
              "3  2005-11-29 04:38:33               26                   1   \n",
              "4  2007-01-05 19:40:59                0                   0   \n",
              "\n",
              "   compliment_photos  funny  compliment_more  \\\n",
              "0                180   1259               65   \n",
              "1               1946  13066              264   \n",
              "2                 18   1010               13   \n",
              "3                  9    330                4   \n",
              "4                  0     15                1   \n",
              "\n",
              "                                               elite  compliment_list  \\\n",
              "0                                               2007               18   \n",
              "1  2009,2010,2011,2012,2013,2014,2015,2016,2017,2...              251   \n",
              "2                           2009,2010,2011,2012,2013                3   \n",
              "3                                     2009,2010,2011                2   \n",
              "4                                                NaN                0   \n",
              "\n",
              "                  user_id  compliment_writer  ...  compliment_plain  \\\n",
              "0  qVc8ODYU5SZjKXVBgXdI7w                239  ...               844   \n",
              "1  j14WgRoU_-2ZE1aw1dXrJg               1521  ...              7054   \n",
              "2  2WnXYQFK0hXEoTxPtV2zvg                 35  ...                96   \n",
              "3  SZDeASXq7o05mMNLshsdIA                 10  ...                16   \n",
              "4  hA5lMy-EnncsH4JoR-hFGQ                  0  ...                 1   \n",
              "\n",
              "   compliment_hot  average_stars  compliment_funny  compliment_note   cool  \\\n",
              "0             250           3.91               467              232   5994   \n",
              "1            1145           3.74              3131             1847  27281   \n",
              "2              89           3.32               119               66   1003   \n",
              "3              24           4.27                26               12    299   \n",
              "4               1           3.54                 0                1      7   \n",
              "\n",
              "     name                                            friends compliment_cute  \\\n",
              "0  Walker  NSCy54eWehBJyZdG2iE84w, pe42u7DcCH2QmI81NX-8qA...              56   \n",
              "1  Daniel  ueRPE0CX75ePGMqOFVj6IQ, 52oH4DrRvzzl8wh5UXyU0A...             157   \n",
              "2   Steph  LuO3Bn4f3rlhyHIaNfTlnA, j9B4XdHUhDfTKVecyWQgyA...              17   \n",
              "3    Gwen  enx1vVPnfdNUdPho6PH_wg, 4wOcvMLtU6a9Lslggq74Vg...               6   \n",
              "4   Karen  PBK4q9KEEBHhFvSXCUirIw, 3FWPpM7KU1gXeOM_ZbYMbA...               0   \n",
              "\n",
              "   fans  \n",
              "0   267  \n",
              "1  3138  \n",
              "2    52  \n",
              "3    28  \n",
              "4     1  \n",
              "\n",
              "[5 rows x 22 columns]"
            ],
            "text/html": [
              "\n",
              "  <div id=\"df-f00baa4d-e8ad-435a-ae75-489aa7cb5053\">\n",
              "    <div class=\"colab-df-container\">\n",
              "      <div>\n",
              "<style scoped>\n",
              "    .dataframe tbody tr th:only-of-type {\n",
              "        vertical-align: middle;\n",
              "    }\n",
              "\n",
              "    .dataframe tbody tr th {\n",
              "        vertical-align: top;\n",
              "    }\n",
              "\n",
              "    .dataframe thead th {\n",
              "        text-align: right;\n",
              "    }\n",
              "</style>\n",
              "<table border=\"1\" class=\"dataframe\">\n",
              "  <thead>\n",
              "    <tr style=\"text-align: right;\">\n",
              "      <th></th>\n",
              "      <th>yelping_since</th>\n",
              "      <th>compliment_cool</th>\n",
              "      <th>compliment_profile</th>\n",
              "      <th>compliment_photos</th>\n",
              "      <th>funny</th>\n",
              "      <th>compliment_more</th>\n",
              "      <th>elite</th>\n",
              "      <th>compliment_list</th>\n",
              "      <th>user_id</th>\n",
              "      <th>compliment_writer</th>\n",
              "      <th>...</th>\n",
              "      <th>compliment_plain</th>\n",
              "      <th>compliment_hot</th>\n",
              "      <th>average_stars</th>\n",
              "      <th>compliment_funny</th>\n",
              "      <th>compliment_note</th>\n",
              "      <th>cool</th>\n",
              "      <th>name</th>\n",
              "      <th>friends</th>\n",
              "      <th>compliment_cute</th>\n",
              "      <th>fans</th>\n",
              "    </tr>\n",
              "  </thead>\n",
              "  <tbody>\n",
              "    <tr>\n",
              "      <th>0</th>\n",
              "      <td>2007-01-25 16:47:26</td>\n",
              "      <td>467</td>\n",
              "      <td>55</td>\n",
              "      <td>180</td>\n",
              "      <td>1259</td>\n",
              "      <td>65</td>\n",
              "      <td>2007</td>\n",
              "      <td>18</td>\n",
              "      <td>qVc8ODYU5SZjKXVBgXdI7w</td>\n",
              "      <td>239</td>\n",
              "      <td>...</td>\n",
              "      <td>844</td>\n",
              "      <td>250</td>\n",
              "      <td>3.91</td>\n",
              "      <td>467</td>\n",
              "      <td>232</td>\n",
              "      <td>5994</td>\n",
              "      <td>Walker</td>\n",
              "      <td>NSCy54eWehBJyZdG2iE84w, pe42u7DcCH2QmI81NX-8qA...</td>\n",
              "      <td>56</td>\n",
              "      <td>267</td>\n",
              "    </tr>\n",
              "    <tr>\n",
              "      <th>1</th>\n",
              "      <td>2009-01-25 04:35:42</td>\n",
              "      <td>3131</td>\n",
              "      <td>184</td>\n",
              "      <td>1946</td>\n",
              "      <td>13066</td>\n",
              "      <td>264</td>\n",
              "      <td>2009,2010,2011,2012,2013,2014,2015,2016,2017,2...</td>\n",
              "      <td>251</td>\n",
              "      <td>j14WgRoU_-2ZE1aw1dXrJg</td>\n",
              "      <td>1521</td>\n",
              "      <td>...</td>\n",
              "      <td>7054</td>\n",
              "      <td>1145</td>\n",
              "      <td>3.74</td>\n",
              "      <td>3131</td>\n",
              "      <td>1847</td>\n",
              "      <td>27281</td>\n",
              "      <td>Daniel</td>\n",
              "      <td>ueRPE0CX75ePGMqOFVj6IQ, 52oH4DrRvzzl8wh5UXyU0A...</td>\n",
              "      <td>157</td>\n",
              "      <td>3138</td>\n",
              "    </tr>\n",
              "    <tr>\n",
              "      <th>2</th>\n",
              "      <td>2008-07-25 10:41:00</td>\n",
              "      <td>119</td>\n",
              "      <td>10</td>\n",
              "      <td>18</td>\n",
              "      <td>1010</td>\n",
              "      <td>13</td>\n",
              "      <td>2009,2010,2011,2012,2013</td>\n",
              "      <td>3</td>\n",
              "      <td>2WnXYQFK0hXEoTxPtV2zvg</td>\n",
              "      <td>35</td>\n",
              "      <td>...</td>\n",
              "      <td>96</td>\n",
              "      <td>89</td>\n",
              "      <td>3.32</td>\n",
              "      <td>119</td>\n",
              "      <td>66</td>\n",
              "      <td>1003</td>\n",
              "      <td>Steph</td>\n",
              "      <td>LuO3Bn4f3rlhyHIaNfTlnA, j9B4XdHUhDfTKVecyWQgyA...</td>\n",
              "      <td>17</td>\n",
              "      <td>52</td>\n",
              "    </tr>\n",
              "    <tr>\n",
              "      <th>3</th>\n",
              "      <td>2005-11-29 04:38:33</td>\n",
              "      <td>26</td>\n",
              "      <td>1</td>\n",
              "      <td>9</td>\n",
              "      <td>330</td>\n",
              "      <td>4</td>\n",
              "      <td>2009,2010,2011</td>\n",
              "      <td>2</td>\n",
              "      <td>SZDeASXq7o05mMNLshsdIA</td>\n",
              "      <td>10</td>\n",
              "      <td>...</td>\n",
              "      <td>16</td>\n",
              "      <td>24</td>\n",
              "      <td>4.27</td>\n",
              "      <td>26</td>\n",
              "      <td>12</td>\n",
              "      <td>299</td>\n",
              "      <td>Gwen</td>\n",
              "      <td>enx1vVPnfdNUdPho6PH_wg, 4wOcvMLtU6a9Lslggq74Vg...</td>\n",
              "      <td>6</td>\n",
              "      <td>28</td>\n",
              "    </tr>\n",
              "    <tr>\n",
              "      <th>4</th>\n",
              "      <td>2007-01-05 19:40:59</td>\n",
              "      <td>0</td>\n",
              "      <td>0</td>\n",
              "      <td>0</td>\n",
              "      <td>15</td>\n",
              "      <td>1</td>\n",
              "      <td>NaN</td>\n",
              "      <td>0</td>\n",
              "      <td>hA5lMy-EnncsH4JoR-hFGQ</td>\n",
              "      <td>0</td>\n",
              "      <td>...</td>\n",
              "      <td>1</td>\n",
              "      <td>1</td>\n",
              "      <td>3.54</td>\n",
              "      <td>0</td>\n",
              "      <td>1</td>\n",
              "      <td>7</td>\n",
              "      <td>Karen</td>\n",
              "      <td>PBK4q9KEEBHhFvSXCUirIw, 3FWPpM7KU1gXeOM_ZbYMbA...</td>\n",
              "      <td>0</td>\n",
              "      <td>1</td>\n",
              "    </tr>\n",
              "  </tbody>\n",
              "</table>\n",
              "<p>5 rows × 22 columns</p>\n",
              "</div>\n",
              "      <button class=\"colab-df-convert\" onclick=\"convertToInteractive('df-f00baa4d-e8ad-435a-ae75-489aa7cb5053')\"\n",
              "              title=\"Convert this dataframe to an interactive table.\"\n",
              "              style=\"display:none;\">\n",
              "        \n",
              "  <svg xmlns=\"http://www.w3.org/2000/svg\" height=\"24px\"viewBox=\"0 0 24 24\"\n",
              "       width=\"24px\">\n",
              "    <path d=\"M0 0h24v24H0V0z\" fill=\"none\"/>\n",
              "    <path d=\"M18.56 5.44l.94 2.06.94-2.06 2.06-.94-2.06-.94-.94-2.06-.94 2.06-2.06.94zm-11 1L8.5 8.5l.94-2.06 2.06-.94-2.06-.94L8.5 2.5l-.94 2.06-2.06.94zm10 10l.94 2.06.94-2.06 2.06-.94-2.06-.94-.94-2.06-.94 2.06-2.06.94z\"/><path d=\"M17.41 7.96l-1.37-1.37c-.4-.4-.92-.59-1.43-.59-.52 0-1.04.2-1.43.59L10.3 9.45l-7.72 7.72c-.78.78-.78 2.05 0 2.83L4 21.41c.39.39.9.59 1.41.59.51 0 1.02-.2 1.41-.59l7.78-7.78 2.81-2.81c.8-.78.8-2.07 0-2.86zM5.41 20L4 18.59l7.72-7.72 1.47 1.35L5.41 20z\"/>\n",
              "  </svg>\n",
              "      </button>\n",
              "      \n",
              "  <style>\n",
              "    .colab-df-container {\n",
              "      display:flex;\n",
              "      flex-wrap:wrap;\n",
              "      gap: 12px;\n",
              "    }\n",
              "\n",
              "    .colab-df-convert {\n",
              "      background-color: #E8F0FE;\n",
              "      border: none;\n",
              "      border-radius: 50%;\n",
              "      cursor: pointer;\n",
              "      display: none;\n",
              "      fill: #1967D2;\n",
              "      height: 32px;\n",
              "      padding: 0 0 0 0;\n",
              "      width: 32px;\n",
              "    }\n",
              "\n",
              "    .colab-df-convert:hover {\n",
              "      background-color: #E2EBFA;\n",
              "      box-shadow: 0px 1px 2px rgba(60, 64, 67, 0.3), 0px 1px 3px 1px rgba(60, 64, 67, 0.15);\n",
              "      fill: #174EA6;\n",
              "    }\n",
              "\n",
              "    [theme=dark] .colab-df-convert {\n",
              "      background-color: #3B4455;\n",
              "      fill: #D2E3FC;\n",
              "    }\n",
              "\n",
              "    [theme=dark] .colab-df-convert:hover {\n",
              "      background-color: #434B5C;\n",
              "      box-shadow: 0px 1px 3px 1px rgba(0, 0, 0, 0.15);\n",
              "      filter: drop-shadow(0px 1px 2px rgba(0, 0, 0, 0.3));\n",
              "      fill: #FFFFFF;\n",
              "    }\n",
              "  </style>\n",
              "\n",
              "      <script>\n",
              "        const buttonEl =\n",
              "          document.querySelector('#df-f00baa4d-e8ad-435a-ae75-489aa7cb5053 button.colab-df-convert');\n",
              "        buttonEl.style.display =\n",
              "          google.colab.kernel.accessAllowed ? 'block' : 'none';\n",
              "\n",
              "        async function convertToInteractive(key) {\n",
              "          const element = document.querySelector('#df-f00baa4d-e8ad-435a-ae75-489aa7cb5053');\n",
              "          const dataTable =\n",
              "            await google.colab.kernel.invokeFunction('convertToInteractive',\n",
              "                                                     [key], {});\n",
              "          if (!dataTable) return;\n",
              "\n",
              "          const docLinkHtml = 'Like what you see? Visit the ' +\n",
              "            '<a target=\"_blank\" href=https://colab.research.google.com/notebooks/data_table.ipynb>data table notebook</a>'\n",
              "            + ' to learn more about interactive tables.';\n",
              "          element.innerHTML = '';\n",
              "          dataTable['output_type'] = 'display_data';\n",
              "          await google.colab.output.renderOutput(dataTable, element);\n",
              "          const docLink = document.createElement('div');\n",
              "          docLink.innerHTML = docLinkHtml;\n",
              "          element.appendChild(docLink);\n",
              "        }\n",
              "      </script>\n",
              "    </div>\n",
              "  </div>\n",
              "  "
            ]
          },
          "metadata": {},
          "execution_count": 42
        }
      ]
    },
    {
      "cell_type": "code",
      "source": [
        "user.isna().any()"
      ],
      "metadata": {
        "colab": {
          "base_uri": "https://localhost:8080/"
        },
        "id": "qaSWkvJgs_-n",
        "outputId": "d6f67e63-c996-465b-ba2e-1c1a6468472a"
      },
      "execution_count": 53,
      "outputs": [
        {
          "output_type": "execute_result",
          "data": {
            "text/plain": [
              "yelping_since         False\n",
              "compliment_cool       False\n",
              "compliment_profile    False\n",
              "compliment_photos     False\n",
              "funny                 False\n",
              "compliment_more       False\n",
              "elite                  True\n",
              "compliment_list       False\n",
              "user_id               False\n",
              "compliment_writer     False\n",
              "useful                False\n",
              "review_count          False\n",
              "compliment_plain      False\n",
              "compliment_hot        False\n",
              "average_stars         False\n",
              "compliment_funny      False\n",
              "compliment_note       False\n",
              "cool                  False\n",
              "name                   True\n",
              "friends               False\n",
              "compliment_cute       False\n",
              "fans                  False\n",
              "dtype: bool"
            ]
          },
          "metadata": {},
          "execution_count": 53
        }
      ]
    },
    {
      "cell_type": "code",
      "source": [
        "# no na values in user_id"
      ],
      "metadata": {
        "id": "vlR7kwAptABY"
      },
      "execution_count": null,
      "outputs": []
    },
    {
      "cell_type": "code",
      "source": [
        "review = pd.read_csv('/content/drive/MyDrive/YelpRecommender/Data/review.csv')"
      ],
      "metadata": {
        "id": "bvgONRiGyWcp"
      },
      "execution_count": 55,
      "outputs": []
    },
    {
      "cell_type": "code",
      "source": [
        "\n",
        "for i in range(len(review)):\n",
        "  if not isinstance(review['text'][i],str):\n",
        "    print(type(review['text'][i]))\n",
        "\n",
        "\n",
        "# we don't have any text review of different datatype"
      ],
      "metadata": {
        "id": "WBx2uvopy-wb"
      },
      "execution_count": 58,
      "outputs": []
    },
    {
      "cell_type": "code",
      "source": [
        "review.stars.isna().any()"
      ],
      "metadata": {
        "colab": {
          "base_uri": "https://localhost:8080/"
        },
        "id": "39i5N_gUzqNO",
        "outputId": "c8b8811b-cfa4-4f17-b0a4-b163deafe2f8"
      },
      "execution_count": 62,
      "outputs": [
        {
          "output_type": "execute_result",
          "data": {
            "text/plain": [
              "False"
            ]
          },
          "metadata": {},
          "execution_count": 62
        }
      ]
    },
    {
      "cell_type": "code",
      "source": [
        "review.stars.unique()"
      ],
      "metadata": {
        "colab": {
          "base_uri": "https://localhost:8080/"
        },
        "id": "i8jIwYD2zy-i",
        "outputId": "2f970f4a-9f79-40db-de1f-959d452b0e72"
      },
      "execution_count": 63,
      "outputs": [
        {
          "output_type": "execute_result",
          "data": {
            "text/plain": [
              "array([3., 5., 4., 1., 2.])"
            ]
          },
          "metadata": {},
          "execution_count": 63
        }
      ]
    },
    {
      "cell_type": "code",
      "source": [
        "# stars variable also has just 5 values. and no na values"
      ],
      "metadata": {
        "id": "uk0lA0RFzzEF"
      },
      "execution_count": null,
      "outputs": []
    },
    {
      "cell_type": "code",
      "source": [
        "review.loc[2201840,['cool','useful']] = 0\n",
        "# have a single -1 value needed to be handles"
      ],
      "metadata": {
        "id": "C6qAwJZEznmI"
      },
      "execution_count": 68,
      "outputs": []
    },
    {
      "cell_type": "code",
      "source": [
        "review.info()"
      ],
      "metadata": {
        "colab": {
          "base_uri": "https://localhost:8080/"
        },
        "id": "r0O6QFhqtAEJ",
        "outputId": "b79c882a-fc76-46d5-c72a-072f1329c8dd"
      },
      "execution_count": 69,
      "outputs": [
        {
          "output_type": "stream",
          "name": "stdout",
          "text": [
            "<class 'pandas.core.frame.DataFrame'>\n",
            "RangeIndex: 6990280 entries, 0 to 6990279\n",
            "Data columns (total 9 columns):\n",
            " #   Column       Dtype  \n",
            "---  ------       -----  \n",
            " 0   date         object \n",
            " 1   user_id      object \n",
            " 2   useful       int64  \n",
            " 3   cool         int64  \n",
            " 4   text         object \n",
            " 5   funny        int64  \n",
            " 6   review_id    object \n",
            " 7   business_id  object \n",
            " 8   stars        float64\n",
            "dtypes: float64(1), int64(3), object(5)\n",
            "memory usage: 480.0+ MB\n"
          ]
        }
      ]
    },
    {
      "cell_type": "code",
      "source": [
        "# Let us keep only the businesses in new orleans"
      ],
      "metadata": {
        "id": "x8tTQsJetAGz"
      },
      "execution_count": 70,
      "outputs": []
    },
    {
      "cell_type": "code",
      "source": [
        "new_orleans_review = pd.merge(review,new_orleans_business[['business_id','state']],on='business_id',how='inner' )"
      ],
      "metadata": {
        "id": "aavh2Q46tAJ0"
      },
      "execution_count": 73,
      "outputs": []
    },
    {
      "cell_type": "code",
      "source": [
        "new_orleans_review = new_orleans_review[new_orleans_review.columns[0:9]]"
      ],
      "metadata": {
        "id": "P66C1ocFtAMc"
      },
      "execution_count": 80,
      "outputs": []
    },
    {
      "cell_type": "code",
      "source": [
        "new_orleans_review.to_csv('/content/drive/MyDrive/YelpRecommender/Data/NewOrleans/review.csv')"
      ],
      "metadata": {
        "id": "sO0ECnzWtAPh"
      },
      "execution_count": 81,
      "outputs": []
    },
    {
      "cell_type": "code",
      "source": [
        "## let's work on tips dataset"
      ],
      "metadata": {
        "id": "t1uMVitXqtvD"
      },
      "execution_count": 82,
      "outputs": []
    },
    {
      "cell_type": "code",
      "source": [
        "tip = pd.read_csv('/content/drive/MyDrive/YelpRecommender/Data/tip.csv')"
      ],
      "metadata": {
        "id": "M6RdTulgqtxZ"
      },
      "execution_count": 83,
      "outputs": []
    },
    {
      "cell_type": "code",
      "source": [
        "tip.info()"
      ],
      "metadata": {
        "colab": {
          "base_uri": "https://localhost:8080/"
        },
        "id": "lPnav6hbqtz2",
        "outputId": "7b22e30d-e863-452f-e81b-7d20d6f66135"
      },
      "execution_count": 84,
      "outputs": [
        {
          "output_type": "stream",
          "name": "stdout",
          "text": [
            "<class 'pandas.core.frame.DataFrame'>\n",
            "RangeIndex: 908915 entries, 0 to 908914\n",
            "Data columns (total 5 columns):\n",
            " #   Column            Non-Null Count   Dtype \n",
            "---  ------            --------------   ----- \n",
            " 0   date              908915 non-null  object\n",
            " 1   user_id           908915 non-null  object\n",
            " 2   text              908910 non-null  object\n",
            " 3   compliment_count  908915 non-null  int64 \n",
            " 4   business_id       908915 non-null  object\n",
            "dtypes: int64(1), object(4)\n",
            "memory usage: 34.7+ MB\n"
          ]
        }
      ]
    },
    {
      "cell_type": "code",
      "source": [
        "# all values are non null\n",
        "# therefore we will just merge the dataframes based on business_id in business dataframe"
      ],
      "metadata": {
        "id": "-wepF2Qxqt2X"
      },
      "execution_count": 85,
      "outputs": []
    },
    {
      "cell_type": "code",
      "source": [
        "new_orleans_tip = pd.merge(tip,new_orleans_business[['business_id','state']],on='business_id',how='inner' )"
      ],
      "metadata": {
        "id": "UrIkRuS46Bpx"
      },
      "execution_count": 86,
      "outputs": []
    },
    {
      "cell_type": "code",
      "source": [
        "new_orleans_tip = new_orleans_tip[new_orleans_tip.columns[0:5]]"
      ],
      "metadata": {
        "id": "xzqZ0NhP6BsR"
      },
      "execution_count": 91,
      "outputs": []
    },
    {
      "cell_type": "code",
      "source": [
        "new_orleans_tip.to_csv('/content/drive/MyDrive/YelpRecommender/Data/NewOrleans/tip.csv')"
      ],
      "metadata": {
        "id": "gwoKL8Ck6BxI"
      },
      "execution_count": 92,
      "outputs": []
    },
    {
      "cell_type": "code",
      "source": [
        "# Last let's update the checkin dataset"
      ],
      "metadata": {
        "id": "enKEtrih6Bz0"
      },
      "execution_count": 93,
      "outputs": []
    },
    {
      "cell_type": "code",
      "source": [
        "checkin = pd.read_csv('/content/drive/MyDrive/YelpRecommender/Data/checkin.csv')"
      ],
      "metadata": {
        "id": "ILHdGUQP7Myi"
      },
      "execution_count": 94,
      "outputs": []
    },
    {
      "cell_type": "code",
      "source": [
        "checkin.info()"
      ],
      "metadata": {
        "colab": {
          "base_uri": "https://localhost:8080/"
        },
        "id": "NYXW8AXq7M06",
        "outputId": "e305e248-d9db-42e2-914b-021396789088"
      },
      "execution_count": 95,
      "outputs": [
        {
          "output_type": "stream",
          "name": "stdout",
          "text": [
            "<class 'pandas.core.frame.DataFrame'>\n",
            "RangeIndex: 131930 entries, 0 to 131929\n",
            "Data columns (total 2 columns):\n",
            " #   Column       Non-Null Count   Dtype \n",
            "---  ------       --------------   ----- \n",
            " 0   business_id  131930 non-null  object\n",
            " 1   date         131930 non-null  object\n",
            "dtypes: object(2)\n",
            "memory usage: 2.0+ MB\n"
          ]
        }
      ]
    },
    {
      "cell_type": "code",
      "source": [
        "new_orleans_checkin = pd.merge(checkin,new_orleans_business[['business_id','state']],on='business_id',how='inner' )"
      ],
      "metadata": {
        "id": "a8zPCqTb7M27"
      },
      "execution_count": 101,
      "outputs": []
    },
    {
      "cell_type": "code",
      "source": [
        "new_orleans_checkin.info()"
      ],
      "metadata": {
        "colab": {
          "base_uri": "https://localhost:8080/"
        },
        "id": "32otTo-17M7N",
        "outputId": "37c63074-bc79-4aca-fc10-2b541ab26fbd"
      },
      "execution_count": 102,
      "outputs": [
        {
          "output_type": "stream",
          "name": "stdout",
          "text": [
            "<class 'pandas.core.frame.DataFrame'>\n",
            "Int64Index: 3257 entries, 0 to 3256\n",
            "Data columns (total 3 columns):\n",
            " #   Column       Non-Null Count  Dtype \n",
            "---  ------       --------------  ----- \n",
            " 0   business_id  3257 non-null   object\n",
            " 1   date         3257 non-null   object\n",
            " 2   state        3257 non-null   object\n",
            "dtypes: object(3)\n",
            "memory usage: 101.8+ KB\n"
          ]
        }
      ]
    },
    {
      "cell_type": "code",
      "source": [
        "new_orleans_checkin = new_orleans_checkin[new_orleans_checkin.columns[0:2]]"
      ],
      "metadata": {
        "id": "cR5icVMU7M-A"
      },
      "execution_count": 103,
      "outputs": []
    },
    {
      "cell_type": "code",
      "source": [
        "new_orleans_checkin.to_csv('/content/drive/MyDrive/YelpRecommender/Data/NewOrleans/checkin.csv')"
      ],
      "metadata": {
        "id": "Q2ouGWi59L1K"
      },
      "execution_count": 105,
      "outputs": []
    },
    {
      "cell_type": "code",
      "source": [],
      "metadata": {
        "id": "VEMlG9r19cYR"
      },
      "execution_count": null,
      "outputs": []
    },
    {
      "cell_type": "code",
      "source": [],
      "metadata": {
        "id": "FLUnGsm99ccs"
      },
      "execution_count": null,
      "outputs": []
    },
    {
      "cell_type": "code",
      "source": [],
      "metadata": {
        "id": "YbCW-IgP9ce_"
      },
      "execution_count": null,
      "outputs": []
    },
    {
      "cell_type": "code",
      "source": [],
      "metadata": {
        "id": "LCDEovac9L4R"
      },
      "execution_count": null,
      "outputs": []
    }
  ]
}